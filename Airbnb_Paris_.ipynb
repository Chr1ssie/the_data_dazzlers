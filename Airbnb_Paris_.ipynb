<!DOCTYPE html>
<!-- saved from url=(0100)https://colab.research.google.com/github/Chr1ssie/the_data_dazzlers/blob/main/Copy_of_Project4.ipynb -->
<html lang="en" theme="adaptive" editor="Default Dark" style="--colab-code-font-family: monospace;"><head><meta http-equiv="Content-Type" content="text/html; charset=UTF-8"><meta http-equiv="origin-trial" content="Az520Inasey3TAyqLyojQa8MnmCALSEU29yQFW8dePZ7xQTvSt73pHazLFTK5f7SyLUJSo2uKLesEtEa9aUYcgMAAACPeyJvcmlnaW4iOiJodHRwczovL2dvb2dsZS5jb206NDQzIiwiZmVhdHVyZSI6IkRpc2FibGVUaGlyZFBhcnR5U3RvcmFnZVBhcnRpdGlvbmluZyIsImV4cGlyeSI6MTcyNTQwNzk5OSwiaXNTdWJkb21haW4iOnRydWUsImlzVGhpcmRQYXJ0eSI6dHJ1ZX0="><meta http-equiv="origin-trial" content="Az520Inasey3TAyqLyojQa8MnmCALSEU29yQFW8dePZ7xQTvSt73pHazLFTK5f7SyLUJSo2uKLesEtEa9aUYcgMAAACPeyJvcmlnaW4iOiJodHRwczovL2dvb2dsZS5jb206NDQzIiwiZmVhdHVyZSI6IkRpc2FibGVUaGlyZFBhcnR5U3RvcmFnZVBhcnRpdGlvbmluZyIsImV4cGlyeSI6MTcyNTQwNzk5OSwiaXNTdWJkb21haW4iOnRydWUsImlzVGhpcmRQYXJ0eSI6dHJ1ZX0="><style>body {transition: opacity ease-in 0.2s; } 
body[unresolved] {opacity: 0; display: block; overflow: hidden; position: relative; } 
</style><script type="text/javascript" async="" src="./Airbnb_Paris__files/recaptcha__en.js.download" crossorigin="anonymous" integrity="sha384-IYj915Kg2THoBNjmdS/foxE54s1oGyWWbVt0UcmBj0QjH9eaYwzN4srfPxOlRivE" nonce=""></script><script type="text/javascript" async="" src="./Airbnb_Paris__files/recaptcha__en.js.download" crossorigin="anonymous" integrity="sha384-IYj915Kg2THoBNjmdS/foxE54s1oGyWWbVt0UcmBj0QjH9eaYwzN4srfPxOlRivE" nonce=""></script><script src="./Airbnb_Paris__files/cb=gapi.loaded_1" nonce="" async=""></script><script src="./Airbnb_Paris__files/cb=gapi.loaded_0" nonce="" async=""></script><script type="text/javascript" async="" src="./Airbnb_Paris__files/js" nonce=""></script><script async="" src="./Airbnb_Paris__files/analytics.js.download"></script><script nonce="">
      document.addEventListener('keydown', (e) => {
        // Stop propagation on ESC because otherwise it will halt outbound XHRs
        // See b/131755324 for more info.
        if (e.key === 'Escape') {
          e.stopPropagation();
          e.preventDefault();
        }
      });
    </script><meta name="referrer" content="origin"><meta name="viewport" content="width=device-width, initial-scale=1"><title>Copy_of_Project4.ipynb - Colaboratory</title><link href="./Airbnb_Paris__files/css2" rel="stylesheet"><link href="./Airbnb_Paris__files/css" rel="stylesheet"><link rel="search" type="application/opensearchdescription+xml" href="https://colab.research.google.com/opensearch.xml" title="Google Colaboratory"><style>.gb_gb:not(.gb_id){font:13px/27px Roboto,Arial,sans-serif;z-index:986}@-webkit-keyframes gb__a{0%{opacity:0}50%{opacity:1}}@keyframes gb__a{0%{opacity:0}50%{opacity:1}}a.gb_xa{border:none;color:#4285f4;cursor:default;font-weight:bold;outline:none;position:relative;text-align:center;text-decoration:none;text-transform:uppercase;white-space:nowrap;-webkit-user-select:none}a.gb_xa:hover:after,a.gb_xa:focus:after{background-color:rgba(0,0,0,.12);content:"";height:100%;left:0;position:absolute;top:0;width:100%}a.gb_xa:hover,a.gb_xa:focus{text-decoration:none}a.gb_xa:active{background-color:rgba(153,153,153,.4);text-decoration:none}a.gb_ya{background-color:#4285f4;color:#fff}a.gb_ya:active{background-color:#0043b2}.gb_za{box-shadow:0 1px 1px rgba(0,0,0,.16)}.gb_xa,.gb_ya,.gb_Aa,.gb_Ba{display:inline-block;line-height:28px;padding:0 12px;border-radius:2px}.gb_Aa{background:#f8f8f8;border:1px solid #c6c6c6}.gb_Ba{background:#f8f8f8}.gb_Aa,#gb a.gb_Aa.gb_Aa,.gb_Ba{color:#666;cursor:default;text-decoration:none}#gb a.gb_Ba{cursor:default;text-decoration:none}.gb_Ba{border:1px solid #4285f4;font-weight:bold;outline:none;background:#4285f4;background:-webkit-gradient(linear,left top,left bottom,from(top),color-stop(#4387fd),to(#4683ea));background:-webkit-linear-gradient(top,#4387fd,#4683ea);background:linear-gradient(top,#4387fd,#4683ea);filter:progid:DXImageTransform.Microsoft.gradient(startColorstr=#4387fd,endColorstr=#4683ea,GradientType=0)}#gb a.gb_Ba{color:#fff}.gb_Ba:hover{box-shadow:0 1px 0 rgba(0,0,0,.15)}.gb_Ba:active{box-shadow:inset 0 2px 0 rgba(0,0,0,.15);background:#3c78dc;background:-webkit-gradient(linear,left top,left bottom,from(top),color-stop(#3c7ae4),to(#3f76d3));background:-webkit-linear-gradient(top,#3c7ae4,#3f76d3);background:linear-gradient(top,#3c7ae4,#3f76d3);filter:progid:DXImageTransform.Microsoft.gradient(startColorstr=#3c7ae4,endColorstr=#3f76d3,GradientType=0)}#gb .gb_Ca{background:#fff;border:1px solid #dadce0;color:#1a73e8;display:inline-block;text-decoration:none}#gb .gb_Ca:hover{background:#f8fbff;border-color:#dadce0;color:#174ea6}#gb .gb_Ca:focus{background:#f4f8ff;color:#174ea6;outline:1px solid #174ea6}#gb .gb_Ca:active,#gb .gb_Ca:focus:active{background:#ecf3fe;color:#174ea6}#gb .gb_Ca.gb_i{background:transparent;border:1px solid #5f6368;color:#8ab4f8;text-decoration:none}#gb .gb_Ca.gb_i:hover{background:rgba(255,255,255,.04);color:#e8eaed}#gb .gb_Ca.gb_i:focus{background:rgba(232,234,237,.12);color:#e8eaed;outline:1px solid #e8eaed}#gb .gb_Ca.gb_i:active,#gb .gb_Ca.gb_i:focus:active{background:rgba(232,234,237,.1);color:#e8eaed}.gb_p{display:none!important}.gb_1a{visibility:hidden}.gb_w{display:inline-block;vertical-align:middle}.gb_Rd .gb_o{bottom:-3px;right:-5px}.gb_f{position:relative}.gb_d{display:inline-block;outline:none;vertical-align:middle;border-radius:2px;box-sizing:border-box;height:40px;width:40px;cursor:pointer;text-decoration:none}#gb#gb a.gb_d{cursor:pointer;text-decoration:none}.gb_d,a.gb_d{color:#000}.gb_hf{border-color:transparent;border-bottom-color:#fff;border-style:dashed dashed solid;border-width:0 8.5px 8.5px;display:none;position:absolute;left:11.5px;top:33px;z-index:1;height:0;width:0;-webkit-animation:gb__a .2s;animation:gb__a .2s}.gb_if{border-color:transparent;border-style:dashed dashed solid;border-width:0 8.5px 8.5px;display:none;position:absolute;left:11.5px;z-index:1;height:0;width:0;-webkit-animation:gb__a .2s;animation:gb__a .2s;border-bottom-color:rgba(0,0,0,.2);top:32px}x:-o-prefocus,div.gb_if{border-bottom-color:#ccc}.gb_5{background:#fff;border:1px solid #ccc;border-color:rgba(0,0,0,.2);color:#000;-webkit-box-shadow:0 2px 10px rgba(0,0,0,.2);box-shadow:0 2px 10px rgba(0,0,0,.2);display:none;outline:none;overflow:hidden;position:absolute;right:8px;top:62px;-webkit-animation:gb__a .2s;animation:gb__a .2s;border-radius:2px;-webkit-user-select:text}.gb_w.gb_La .gb_hf,.gb_w.gb_La .gb_if,.gb_w.gb_La .gb_5,.gb_La.gb_5{display:block}.gb_w.gb_La.gb_jf .gb_hf,.gb_w.gb_La.gb_jf .gb_if{display:none}.gb_Sd{position:absolute;right:8px;top:62px;z-index:-1}.gb_7a .gb_hf,.gb_7a .gb_if,.gb_7a .gb_5{margin-top:-10px}.gb_w:first-child,#gbsfw:first-child+.gb_w{padding-left:4px}.gb_Pa.gb_Td .gb_w:first-child{padding-left:0}.gb_Ud{position:relative}.gb_t.gb_Bd.gb_eb.gb_qd{margin:0 12px;padding:0}.gb_t .gb_d{position:relative}.gb_t .gb_w{margin:0 4px;padding:4px}.gb_t .gb_Vd{display:inline-block}.gb_t a.gb_md{-webkit-box-align:center;-webkit-align-items:center;-webkit-align-items:center;align-items:center;-webkit-border-radius:100px;border-radius:100px;border:0;background:#0b57d0;color:#fff;display:-webkit-inline-box;display:-webkit-inline-flex;display:-webkit-inline-box;display:-webkit-inline-flex;display:inline-flex;font-size:14px;font-weight:500;height:40px;white-space:nowrap;width:auto}.gb_t a.gb_d.gb_md{margin:0 4px;padding:4px 24px 4px 24px}.gb_t a.gb_md.gb_Wd{padding:9px 12px 9px 16px}.gb_t a.gb_md.gb_Xd{background:transparent;border:1px solid #747775;color:#0b57d0;outline:0}.gb_t .gb_s{fill:#0b57d0}.gb_t .gb_Zd{fill:#0b57d0;margin-left:8px}.gb_t .gb_Zd circle{fill:#fff}.gb_t .gb_md .gb_Kd{-webkit-box-flex:1;-webkit-flex-grow:1;-webkit-box-flex:1;box-flex:1;-webkit-flex-grow:1;flex-grow:1;text-align:center}.gb_t .gb_md:hover{background:#3763cd}.gb_t .gb_md:hover .gb_Zd{fill:#3763cd}.gb_t .gb_md:focus,.gb_t .gb_md:active,.gb_t .gb_md:focus:hover,.gb_t .gb_md[aria-expanded=true],.gb_t .gb_md:hover[aria-expanded=true]{background:#416acf}.gb_t .gb_md:focus .gb_Zd,.gb_t .gb_md:active .gb_Zd,.gb_t .gb_md:focus:hover .gb_Zd,.gb_t .gb_md[aria-expanded=true] .gb_Zd,.gb_t .gb_md:hover[aria-expanded=true] .gb_Zd{fill:#416acf}.gb_t .gb_md:focus,.gb_t .gb_md:active,.gb_t .gb_md[aria-expanded=true]{-webkit-box-shadow:0 1px 3px 1px rgba(66,64,67,.15),0 1px 2px 0 rgba(60,64,67,.3);box-shadow:0 1px 3px 1px rgba(66,64,67,.15),0 1px 2px 0 rgba(60,64,67,.3)}.gb_t .gb_md:focus-visible{outline:1px solid #416acf;outline-offset:2px}.gb_t .gb_Fa:focus-visible{outline:1px solid #416acf}.gb_t .gb_i.gb_md{background:#a8c7fa;color:#062e6f}.gb_t .gb_i.gb_md .gb_Zd{fill:#a8c7fa}.gb_t .gb_i.gb_md .gb_Zd circle{fill:#062e6f}.gb_t .gb_i.gb_md:hover{background:#b4cbf6}.gb_t .gb_i.gb_md:hover .gb_Zd{fill:#b4cbf6}.gb_t .gb_i.gb_md:focus,.gb_t .gb_i.gb_md:focus:hover,.gb_t .gb_i.gb_md:active,.gb_t .gb_i.gb_md[aria-expanded=true],.gb_t .gb_i.gb_md:hover[aria-expanded=true]{background:#b8cdf7}.gb_t .gb_i.gb_md:focus .gb_Zd,.gb_t .gb_i.gb_md:focus:hover .gb_Zd,.gb_t .gb_i.gb_md:active .gb_Zd,.gb_t .gb_i.gb_md[aria-expanded=true] .gb_Zd,.gb_t .gb_i.gb_md:hover[aria-expanded=true] .gb_Zd{fill:#b8cdf7}.gb_t .gb_i.gb_md:focus-visible{outline-color:#b8cdf7}.gb_t .gb_i.gb_md:focus,.gb_t .gb_i.gb_md:active,.gb_t .gb_i.gb_md[aria-expanded=true]{-webkit-box-shadow:0 1px 3px 1px rgba(66,64,67,.15),0 1px 2px 0 rgba(60,64,67,.3);box-shadow:0 1px 3px 1px rgba(66,64,67,.15),0 1px 2px 0 rgba(60,64,67,.3)}.gb_t .gb_md.gb_Xd:hover,.gb_t .gb_md.gb_Xd:focus,.gb_t .gb_md.gb_Xd[aria-expanded=true],.gb_t .gb_md.gb_Xd:hover[aria-expanded=true]{background:rgba(11,87,208,.08);-webkit-box-shadow:none;box-shadow:none}.gb_t .gb_md.gb_Xd:active{background:rgba(11,87,208,.12);-webkit-box-shadow:none;box-shadow:none}.gb_t .gb_md.gb_Xd:focus-visible{border-color:#0b57d0;outline:0}.gb_t .gb_i.gb_md.gb_Xd{background:transparent;color:#a8c7fa}.gb_t .gb_i.gb_md.gb_Xd:hover,.gb_t .gb_i.gb_md.gb_Xd:focus,.gb_t .gb_i.gb_md.gb_Xd[aria-expanded=true],.gb_t .gb_i.gb_md.gb_Xd:hover[aria-expanded=true]{background:rgba(168,199,250,.08);-webkit-box-shadow:none;box-shadow:none}.gb_t .gb_i.gb_md.gb_Xd:active{background:rgba(168,199,250,.12);-webkit-box-shadow:none;box-shadow:none}.gb_t .gb_i.gb_md.gb_Xd:focus-visible{border-color:#a8c7fa;outline:0}.gb_i .gb_t .gb_s{fill:#a8c7fa}.gb_i .gb_t .gb_Fa:focus-visible{outline-color:#a8c7fa}.gb_5c .gb_Ud,.gb_ld .gb_Ud{float:right}.gb_d{padding:8px;cursor:pointer}.gb_d:after{content:"";position:absolute;top:-4px;bottom:-4px;left:-4px;right:-4px}.gb_Pa .gb_me:not(.gb_xa):focus img{background-color:rgba(0,0,0,.2);outline:none;-webkit-border-radius:50%;border-radius:50%}.gb_0d button svg,.gb_d{-webkit-border-radius:50%;border-radius:50%}.gb_0d button:focus:not(:focus-visible) svg,.gb_0d button:hover svg,.gb_0d button:active svg,.gb_d:focus:not(:focus-visible),.gb_d:hover,.gb_d:active,.gb_d[aria-expanded=true]{outline:none}.gb_Oc .gb_0d.gb_ve button:focus-visible svg,.gb_0d button:focus-visible svg,.gb_d:focus-visible{outline:1px solid #202124}.gb_Oc .gb_0d button:focus-visible svg,.gb_Oc .gb_d:focus-visible{outline:1px solid #f1f3f4}@media (forced-colors:active){.gb_Oc .gb_0d.gb_ve button:focus-visible svg,.gb_0d button:focus-visible svg,.gb_Oc .gb_0d button:focus-visible svg{outline:1px solid currentcolor}}.gb_Oc .gb_0d.gb_ve button:focus svg,.gb_Oc .gb_0d.gb_ve button:focus:hover svg,.gb_0d button:focus svg,.gb_0d button:focus:hover svg,.gb_d:focus,.gb_d:focus:hover{background-color:rgba(60,64,67,.1)}.gb_Oc .gb_0d.gb_ve button:active svg,.gb_0d button:active svg,.gb_d:active{background-color:rgba(60,64,67,.12)}.gb_Oc .gb_0d.gb_ve button:hover svg,.gb_0d button:hover svg,.gb_d:hover{background-color:rgba(60,64,67,.08)}.gb_Da .gb_d.gb_Fa:hover{background-color:transparent}.gb_d[aria-expanded=true],.gb_d:hover[aria-expanded=true]{background-color:rgba(95,99,104,.24)}.gb_d[aria-expanded=true] .gb_h{fill:#5f6368;opacity:1}.gb_Oc .gb_0d button:hover svg,.gb_Oc .gb_d:hover{background-color:rgba(232,234,237,.08)}.gb_Oc .gb_0d button:focus svg,.gb_Oc .gb_0d button:focus:hover svg,.gb_Oc .gb_d:focus,.gb_Oc .gb_d:focus:hover{background-color:rgba(232,234,237,.1)}.gb_Oc .gb_0d button:active svg,.gb_Oc .gb_d:active{background-color:rgba(232,234,237,.12)}.gb_Oc .gb_d[aria-expanded=true],.gb_Oc .gb_d:hover[aria-expanded=true]{background-color:rgba(255,255,255,.12)}.gb_Oc .gb_d[aria-expanded=true] .gb_h{fill:#fff;opacity:1}.gb_w{padding:4px}.gb_Pa.gb_Td .gb_w{padding:4px 2px}.gb_Pa.gb_Td .gb_b.gb_w{padding-left:6px}.gb_5{z-index:991;line-height:normal}.gb_5.gb_1d{left:0;right:auto}@media (max-width:350px){.gb_5.gb_1d{left:0}}.gb_2d .gb_5{top:56px}.gb_k .gb_d,.gb_4 .gb_k .gb_d{background-position:-64px -29px}.gb_K .gb_k .gb_d{background-position:-29px -29px;opacity:1}.gb_k .gb_d,.gb_k .gb_d:hover,.gb_k .gb_d:focus{opacity:1}.gb_jd{display:none}@media screen and (max-width:319px){.gb_rd:not(.gb_wd) .gb_k{display:none;visibility:hidden}}.gb_o{display:none}.gb_dd{font-family:Google Sans,Roboto,Helvetica,Arial,sans-serif;font-size:20px;font-weight:400;letter-spacing:0.25px;line-height:48px;margin-bottom:2px;opacity:1;overflow:hidden;padding-left:16px;position:relative;text-overflow:ellipsis;vertical-align:middle;top:2px;white-space:nowrap;-webkit-flex:1 1 auto;-webkit-box-flex:1;flex:1 1 auto}.gb_dd.gb_ed{color:#3c4043}.gb_Pa.gb_Qa .gb_dd{margin-bottom:0}.gb_fd.gb_gd .gb_dd{padding-left:4px}.gb_Pa.gb_Qa .gb_hd{position:relative;top:-2px}.gb_Pa{color:black;min-width:160px;position:relative;-webkit-transition:box-shadow 250ms;transition:box-shadow 250ms}.gb_Pa.gb_Wc{min-width:120px}.gb_Pa.gb_pd .gb_qd{display:none}.gb_Pa.gb_pd .gb_rd{height:56px}header.gb_Pa{display:block}.gb_Pa svg{fill:currentColor}.gb_sd{position:fixed;top:0;width:100%}.gb_td{-webkit-box-shadow:0 4px 5px 0 rgba(0,0,0,.14),0 1px 10px 0 rgba(0,0,0,.12),0 2px 4px -1px rgba(0,0,0,.2);box-shadow:0 4px 5px 0 rgba(0,0,0,.14),0 1px 10px 0 rgba(0,0,0,.12),0 2px 4px -1px rgba(0,0,0,.2)}.gb_ud{height:64px}.gb_rd{-webkit-box-sizing:border-box;box-sizing:border-box;position:relative;width:100%;display:-webkit-box;display:-webkit-flex;display:flex;-webkit-box-pack:space-between;-webkit-justify-content:space-between;justify-content:space-between;min-width:-webkit-min-content;min-width:min-content}.gb_Pa:not(.gb_Qa) .gb_rd{padding:8px}.gb_Pa.gb_vd .gb_rd{-webkit-flex:1 0 auto;-webkit-box-flex:1;flex:1 0 auto}.gb_Pa .gb_rd.gb_wd.gb_xd{min-width:0}.gb_Pa.gb_Qa .gb_rd{padding:4px;padding-left:8px;min-width:0}.gb_qd{height:48px;vertical-align:middle;white-space:nowrap;-webkit-box-align:center;-webkit-align-items:center;align-items:center;display:-webkit-box;display:-webkit-flex;display:flex;-webkit-user-select:none}.gb_zd>.gb_qd{display:table-cell;width:100%}.gb_fd{padding-right:30px;box-sizing:border-box;-webkit-flex:1 0 auto;-webkit-box-flex:1;flex:1 0 auto}.gb_Pa.gb_Qa .gb_fd{padding-right:14px}.gb_Ad{-webkit-flex:1 1 100%;-webkit-box-flex:1;flex:1 1 100%}.gb_Ad>:only-child{display:inline-block}.gb_Bd.gb_6c{padding-left:4px}.gb_Bd.gb_Cd,.gb_Pa.gb_vd .gb_Bd,.gb_Pa.gb_Qa:not(.gb_ld) .gb_Bd{padding-left:0}.gb_Pa.gb_Qa .gb_Bd.gb_Cd{padding-right:0}.gb_Pa.gb_Qa .gb_Bd.gb_Cd .gb_Da{margin-left:10px}.gb_6c{display:inline}.gb_Pa.gb_0c .gb_Bd.gb_Dd,.gb_Pa.gb_ld .gb_Bd.gb_Dd{padding-left:2px}.gb_dd{display:inline-block}.gb_Bd{-webkit-box-sizing:border-box;box-sizing:border-box;height:48px;line-height:normal;padding:0 4px;padding-left:30px;-webkit-flex:0 0 auto;-webkit-box-flex:0;flex:0 0 auto;-webkit-box-pack:flex-end;-webkit-justify-content:flex-end;justify-content:flex-end}.gb_ld{height:48px}.gb_Pa.gb_ld{min-width:auto}.gb_ld .gb_Bd{float:right;padding-left:32px}.gb_ld .gb_Bd.gb_Ed{padding-left:0}.gb_Fd{font-size:14px;max-width:200px;overflow:hidden;padding:0 12px;text-overflow:ellipsis;white-space:nowrap;-webkit-user-select:text}.gb_kd{-webkit-transition:background-color .4s;-webkit-transition:background-color .4s;transition:background-color .4s}.gb_Md{color:black}.gb_Oc{color:white}.gb_Pa a,.gb_Tc a{color:inherit}.gb_U{color:rgba(0,0,0,.87)}.gb_Pa svg,.gb_Tc svg,.gb_fd .gb_od,.gb_5c .gb_od{color:#5f6368;opacity:1}.gb_Oc svg,.gb_Tc.gb_Xc svg,.gb_Oc .gb_fd .gb_od,.gb_Oc .gb_fd .gb_Nc,.gb_Oc .gb_fd .gb_hd,.gb_Tc.gb_Xc .gb_od{color:rgba(255,255,255,.87)}.gb_Oc .gb_fd .gb_Mc:not(.gb_Nd){opacity:.87}.gb_ed{color:inherit;opacity:1;text-rendering:optimizeLegibility;-webkit-font-smoothing:antialiased}.gb_Oc .gb_ed,.gb_Md .gb_ed{opacity:1}.gb_Hd{position:relative}.gb_Id{font-family:arial,sans-serif;line-height:normal;padding-right:15px}a.gb_H,span.gb_H{color:rgba(0,0,0,.87);text-decoration:none}.gb_Oc a.gb_H,.gb_Oc span.gb_H{color:white}a.gb_H:focus{outline-offset:2px}a.gb_H:hover{text-decoration:underline}.gb_I{display:inline-block;padding-left:15px}.gb_I .gb_H{display:inline-block;line-height:24px;vertical-align:middle}.gb_Od{font-family:Google Sans,Roboto,Helvetica,Arial,sans-serif;font-weight:500;font-size:14px;letter-spacing:.25px;line-height:16px;margin-left:10px;margin-right:8px;min-width:96px;padding:9px 23px;text-align:center;vertical-align:middle;border-radius:4px;box-sizing:border-box}.gb_Pa.gb_ld .gb_Od{margin-left:8px}#gb a.gb_Ba.gb_Od{cursor:pointer}.gb_Ba.gb_Od:hover{background:#1b66c9;-webkit-box-shadow:0 1px 3px 1px rgba(66,64,67,.15),0 1px 2px 0 rgba(60,64,67,.3);box-shadow:0 1px 3px 1px rgba(66,64,67,.15),0 1px 2px 0 rgba(60,64,67,.3)}.gb_Ba.gb_Od:focus,.gb_Ba.gb_Od:hover:focus{background:#1c5fba;-webkit-box-shadow:0 1px 3px 1px rgba(66,64,67,.15),0 1px 2px 0 rgba(60,64,67,.3);box-shadow:0 1px 3px 1px rgba(66,64,67,.15),0 1px 2px 0 rgba(60,64,67,.3)}.gb_Ba.gb_Od:active{background:#1b63c1;-webkit-box-shadow:0 1px 3px 1px rgba(66,64,67,.15),0 1px 2px 0 rgba(60,64,67,.3);box-shadow:0 1px 3px 1px rgba(66,64,67,.15),0 1px 2px 0 rgba(60,64,67,.3)}.gb_Od{background:#1a73e8;border:1px solid transparent}.gb_Pa.gb_Qa .gb_Od{padding:9px 15px;min-width:80px}.gb_Jd{text-align:left}#gb .gb_Oc a.gb_Od:not(.gb_i),#gb.gb_Oc a.gb_Od:not(.gb_Pd){background:#fff;border-color:#dadce0;-webkit-box-shadow:none;box-shadow:none;color:#1a73e8}#gb a.gb_Ba.gb_i.gb_Od{background:#8ab4f8;border:1px solid transparent;-webkit-box-shadow:none;box-shadow:none;color:#202124}#gb .gb_Oc a.gb_Od:hover:not(.gb_i),#gb.gb_Oc a.gb_Od:not(.gb_Pd):hover{background:#f8fbff;border-color:#cce0fc}#gb a.gb_Ba.gb_i.gb_Od:hover{background:#93baf9;border-color:transparent;-webkit-box-shadow:0 1px 3px 1px rgba(0,0,0,.15),0 1px 2px rgba(0,0,0,.3);box-shadow:0 1px 3px 1px rgba(0,0,0,.15),0 1px 2px rgba(0,0,0,.3)}#gb .gb_Oc a.gb_Od:focus:not(.gb_i),#gb .gb_Oc a.gb_Od:focus:hover:not(.gb_i),#gb.gb_Oc a.gb_Od:focus:not(.gb_i),#gb.gb_Oc a.gb_Od:focus:hover:not(.gb_i){background:#f4f8ff;outline:1px solid #c9ddfc}#gb a.gb_Ba.gb_i.gb_Od:focus,#gb a.gb_Ba.gb_i.gb_Od:focus:hover{background:#a6c6fa;border-color:transparent;-webkit-box-shadow:none;box-shadow:none}#gb .gb_Oc a.gb_Od:active:not(.gb_i),#gb.gb_Oc a.gb_Od:not(.gb_Pd):active{background:#ecf3fe}#gb a.gb_Ba.gb_i.gb_Od:active{background:#a1c3f9;-webkit-box-shadow:0 1px 2px rgba(60,64,67,.3),0 2px 6px 2px rgba(60,64,67,.15);box-shadow:0 1px 2px rgba(60,64,67,.3),0 2px 6px 2px rgba(60,64,67,.15)}.gb_l{display:none}@media screen and (max-width:319px){.gb_rd:not(.gb_wd) .gb_k{display:none;visibility:hidden}}.gb_Da{background-color:rgba(255,255,255,.88);border:1px solid #dadce0;-webkit-box-sizing:border-box;box-sizing:border-box;cursor:pointer;display:inline-block;max-height:48px;overflow:hidden;outline:none;padding:0;vertical-align:middle;width:134px;-webkit-border-radius:8px;border-radius:8px}.gb_Da.gb_i{background-color:transparent;border:1px solid #5f6368}.gb_Ka{display:inherit}.gb_Da.gb_i .gb_Ka{background:#fff;-webkit-border-radius:4px;border-radius:4px;display:inline-block;left:8px;margin-right:5px;position:relative;padding:3px;top:-1px}.gb_Da:hover{border:1px solid #d2e3fc;background-color:rgba(248,250,255,.88)}.gb_Da.gb_i:hover{background-color:rgba(241,243,244,.04);border:1px solid #5f6368}.gb_Da:focus-visible,.gb_Da:focus{background-color:#fff;outline:1px solid #202124;-webkit-box-shadow:0 1px 2px 0 rgba(60,64,67,.3),0 1px 3px 1px rgba(60,64,67,.15);box-shadow:0 1px 2px 0 rgba(60,64,67,.3),0 1px 3px 1px rgba(60,64,67,.15)}.gb_Da.gb_i:focus-visible,.gb_Da.gb_i:focus{background-color:rgba(241,243,244,.12);outline:1px solid #f1f3f4;-webkit-box-shadow:0 1px 3px 1px rgba(0,0,0,.15),0 1px 2px 0 rgba(0,0,0,.3);box-shadow:0 1px 3px 1px rgba(0,0,0,.15),0 1px 2px 0 rgba(0,0,0,.3)}.gb_Da.gb_i:active,.gb_Da.gb_La.gb_i:focus{background-color:rgba(241,243,244,.1);border:1px solid #5f6368}.gb_Ma{display:inline-block;padding-bottom:2px;padding-left:7px;padding-top:2px;text-align:center;vertical-align:middle;line-height:32px;width:78px}.gb_Da.gb_i .gb_Ma{line-height:26px;margin-left:0;padding-bottom:0;padding-left:0;padding-top:0;width:72px}.gb_Ma.gb_Na{background-color:#f1f3f4;-webkit-border-radius:4px;border-radius:4px;margin-left:8px;padding-left:0;line-height:30px}.gb_Ma.gb_Na .gb_Oa{vertical-align:middle}.gb_Pa:not(.gb_Qa) .gb_Da{margin-left:10px;margin-right:4px}.gb_Ra{max-height:32px;width:78px}.gb_Da.gb_i .gb_Ra{max-height:26px;width:72px}.gb_n{-webkit-background-size:32px 32px;background-size:32px 32px;border:0;-webkit-border-radius:50%;border-radius:50%;display:block;margin:0px;position:relative;height:32px;width:32px;z-index:0}.gb_2a{background-color:#e8f0fe;border:1px solid rgba(32,33,36,.08);position:relative}.gb_2a.gb_n{height:30px;width:30px}.gb_2a.gb_n:hover,.gb_2a.gb_n:active{-webkit-box-shadow:none;box-shadow:none}.gb_3a{background:#fff;border:none;-webkit-border-radius:50%;border-radius:50%;bottom:2px;-webkit-box-shadow:0px 1px 2px 0px rgba(60,64,67,.30),0px 1px 3px 1px rgba(60,64,67,.15);box-shadow:0px 1px 2px 0px rgba(60,64,67,.30),0px 1px 3px 1px rgba(60,64,67,.15);height:14px;margin:2px;position:absolute;right:0;width:14px}.gb_4a{color:#1f71e7;font:400 22px/32px Google Sans,Roboto,Helvetica,Arial,sans-serif;text-align:center;text-transform:uppercase}@media (-webkit-min-device-pixel-ratio:1.25),(min-resolution:1.25dppx),(min-device-pixel-ratio:1.25){.gb_n::before,.gb_5a::before{display:inline-block;-webkit-transform:scale(0.5);-webkit-transform:scale(0.5);transform:scale(0.5);-webkit-transform-origin:left 0;-webkit-transform-origin:left 0;transform-origin:left 0}.gb_M .gb_5a::before{-webkit-transform:scale(scale(0.416666667));-webkit-transform:scale(scale(0.416666667));transform:scale(scale(0.416666667))}}.gb_n:hover,.gb_n:focus{-webkit-box-shadow:0 1px 0 rgba(0,0,0,.15);box-shadow:0 1px 0 rgba(0,0,0,.15)}.gb_n:active{-webkit-box-shadow:inset 0 2px 0 rgba(0,0,0,.15);box-shadow:inset 0 2px 0 rgba(0,0,0,.15)}.gb_n:active::after{background:rgba(0,0,0,.1);-webkit-border-radius:50%;border-radius:50%;content:"";display:block;height:100%}.gb_6a{cursor:pointer;line-height:40px;min-width:30px;opacity:.75;overflow:hidden;vertical-align:middle;text-overflow:ellipsis}.gb_d.gb_6a{width:auto}.gb_6a:hover,.gb_6a:focus{opacity:.85}.gb_7a .gb_6a,.gb_7a .gb_8a{line-height:26px}#gb#gb.gb_7a a.gb_6a,.gb_7a .gb_8a{font-size:11px;height:auto}.gb_9a{border-top:4px solid #000;border-left:4px dashed transparent;border-right:4px dashed transparent;display:inline-block;margin-left:6px;opacity:.75;vertical-align:middle}.gb_Fa:hover .gb_9a{opacity:.85}.gb_Da>.gb_b{padding:3px 3px 3px 4px}.gb_ab.gb_1a{color:#fff}.gb_K .gb_6a,.gb_K .gb_9a{opacity:1}#gb#gb.gb_K.gb_K a.gb_6a,#gb#gb .gb_K.gb_K a.gb_6a{color:#fff}.gb_K.gb_K .gb_9a{border-top-color:#fff;opacity:1}.gb_4 .gb_n:hover,.gb_K .gb_n:hover,.gb_4 .gb_n:focus,.gb_K .gb_n:focus{-webkit-box-shadow:0 1px 0 rgba(0,0,0,.15),0 1px 2px rgba(0,0,0,.2);box-shadow:0 1px 0 rgba(0,0,0,.15),0 1px 2px rgba(0,0,0,.2)}.gb_bb .gb_b,.gb_cb .gb_b{position:absolute;right:1px}.gb_b.gb_J,.gb_db.gb_J,.gb_Fa.gb_J{-webkit-flex:0 1 auto;-webkit-box-flex:0;flex:0 1 auto}.gb_eb.gb_fb .gb_6a{width:30px!important}.gb_m{height:40px;position:absolute;right:-5px;top:-5px;width:40px}.gb_gb .gb_m,.gb_hb .gb_m{right:0;top:0}.gb_b .gb_d{padding:4px}.gb_q{display:none}sentinel{}</style><script nonce="">;this.gbar_={CONFIG:[[[0,"www.gstatic.com","og.qtm.en_US.poejrbwzmNg.2019.O","com","en","425",0,[4,2,"","","","614498678","0"],null,"zn_wZc27Ctiep84Pq5SOqAo",null,0,"og.qtm.P80E8S6wZWc.L.W.O","AA2YrTuhEmcJ_ZCfhUtEGFLYmpjJAh1Mlg","AA2YrTvUz13O0rCP4l_xL7qndfdw84Y8Rg","",2,1,200,"USA",null,null,"425","425",1,null,null,114591953,0],null,[1,0.1000000014901161,2,1],null,[1,0,0,null,"0","molczak4749@gmail.com","","ANc_yyggeUD-sibm1rmKAZooXz__WKM29mgoRiKSOvM7PCBEa92YavNJfF-HunceLCQDcyKj4eQryTUr1SvHRnouOtgu_hbHWw",0,0,0],[0,0,"",1,0,0,0,0,0,0,null,0,0,null,0,0,null,null,0,0,0,"","","","","","",null,0,0,0,0,0,null,null,null,"rgba(32,33,36,1)","rgba(255,255,255,1)",0,0,0,null,null,1,0,0],["%1$s (default)","Brand account",1,"%1$s (delegated)",1,null,83,"https://colab.research.google.com/github/Chr1ssie/the_data_dazzlers/blob/main/Copy_of_Project4.ipynb?authuser=$authuser",null,null,null,1,"https://accounts.google.com/ListAccounts?listPages=0\u0026pid=425\u0026gpsia=1\u0026source=ogb\u0026atic=1\u0026mo=1\u0026mn=1\u0026hl=en\u0026ts=250",0,"dashboard",null,null,null,null,"Profile","",1,null,"Signed out","https://accounts.google.com/AccountChooser?source=ogb\u0026continue=$continue\u0026Email=$email\u0026ec=GAhAqQM","https://accounts.google.com/RemoveLocalAccount?source=ogb","Remove","Sign in",0,1,1,0,1,1,0,null,null,null,"Session expired",null,null,null,"Visitor",null,"Default","Delegated","Sign out of all accounts",0,null,null,0,null,null,"myaccount.google.com","https",0,1,0],null,["1","gci_91f30755d6a6b787dcc2a4062e6e9824.js","googleapis.client:gapi.iframes","0","en"],null,null,null,null,["m;/_/scs/abc-static/_/js/k=gapi.gapi.en.sY-PcpVhgWw.O/d=1/rs=AHpOoo9Rvk-uuNpxhdO70m878GpubWGzeQ/m=__features__","https://apis.google.com","","","1","",null,1,"es_plusone_gc_20240202.0_p1","en",null,0],[0.009999999776482582,"com","425",[null,"","0",null,1,5184000,null,null,"",null,null,null,null,null,0,null,0,null,1,0,0,0,null,null,0,0,null,0,0,0,0,0],null,null,null,0,null,null,["5061451","google\\.(com|ru|ca|by|kz|com\\.mx|com\\.tr)$",1]],[1,1,null,40400,425,"USA","en","614498678.0",8,0.009999999776482582,1,0,null,null,null,null,"3700949,3701310",null,null,null,"zn_wZc27Ctiep84Pq5SOqAo",0,0,0,null,2,5,"nn",158,0,0,1,1,1,114591953,0],[[null,null,null,"https://www.gstatic.com/og/_/js/k=og.qtm.en_US.poejrbwzmNg.2019.O/rt=j/m=qabr,qgl,q_dnp,qcwid,qbd,qapid,qrcd,q_dg/exm=qaaw,qadd,qaid,qein,qhaw,qhba,qhbr,qhch,qhga,qhid,qhin/d=1/ed=1/rs=AA2YrTuhEmcJ_ZCfhUtEGFLYmpjJAh1Mlg"],[null,null,null,"https://www.gstatic.com/og/_/ss/k=og.qtm.P80E8S6wZWc.L.W.O/m=qcwid/excm=qaaw,qadd,qaid,qein,qhaw,qhba,qhbr,qhch,qhga,qhid,qhin/d=1/ed=1/ct=zgms/rs=AA2YrTvUz13O0rCP4l_xL7qndfdw84Y8Rg"]],null,null,null,[[[null,null,[null,null,null,"https://ogs.google.com/u/0/widget/account?amb=1\u0026sea=1"],0,414,436,57,4,1,0,0,65,66,8000,"https://accounts.google.com/SignOutOptions?hl=en\u0026continue=https://colab.research.google.com/github/Chr1ssie/the_data_dazzlers/blob/main/Copy_of_Project4.ipynb\u0026ec=GBRAqQM",68,2,null,null,1,113,"Something went wrong.%1$s Refresh to try again or %2$schoose another account%3$s.",3,null,null,75,0,null,null,null,null,null,null,null,"/widget/account",["https","myaccount.google.com",0,32,83,0],0,0,1,["Critical security alert","Important account alert"],0,1,null,1,1,0,0]],null,null,"425","425",1,0,null,"en",0,["https://colab.research.google.com/github/Chr1ssie/the_data_dazzlers/blob/main/Copy_of_Project4.ipynb?authuser=$authuser","https://accounts.google.com/AddSession?hl=en\u0026continue=https://colab.research.google.com/github/Chr1ssie/the_data_dazzlers/blob/main/Copy_of_Project4.ipynb\u0026ec=GAlAqQM","https://accounts.google.com/Logout?hl=en\u0026continue=https://colab.research.google.com/github/Chr1ssie/the_data_dazzlers/blob/main/Copy_of_Project4.ipynb\u0026timeStmp=1710260174\u0026secTok=.AG5fkS9oMUWxWz5jsbFPWWiEptlu2Q6PWw\u0026ec=GAdAqQM","https://accounts.google.com/ListAccounts?listPages=0\u0026pid=425\u0026gpsia=1\u0026source=ogb\u0026atic=1\u0026mo=1\u0026mn=1\u0026hl=en\u0026ts=250",0,0,"",0,0,null,0,0,"https://accounts.google.com/ServiceLogin?passive=true\u0026continue=https%3A%2F%2Fcolab.research.google.com%2Fgithub%2FChr1ssie%2Fthe_data_dazzlers%2Fblob%2Fmain%2FCopy_of_Project4.ipynb\u0026ec=GAZAqQM",0,0],0,0,0,null,0],null,[["mousedown","touchstart","touchmove","wheel","keydown"],300000],[[null,null,null,"https://accounts.google.com/RotateCookiesPage"],3,null,null,null,0,0]]],};this.gbar_=this.gbar_||{};(function(_){var window=this;
try{
_._F_toggles_initialize=function(a){("undefined"!==typeof globalThis?globalThis:"undefined"!==typeof self?self:this)._F_toggles=a||[]};(0,_._F_toggles_initialize)([]);
/*

 Copyright The Closure Library Authors.
 SPDX-License-Identifier: Apache-2.0
*/
var ea,ka,na,oa,xa,ya,za,Ba,Ca,Da,Ga,Va,Ua,Xa,Za,Ya,$a,ab,ib,nb,ob,pb,qb;_.aa=function(a,b){if(Error.captureStackTrace)Error.captureStackTrace(this,_.aa);else{const c=Error().stack;c&&(this.stack=c)}a&&(this.message=String(a));void 0!==b&&(this.cause=b)};_.ba=function(){var a=_.q.navigator;return a&&(a=a.userAgent)?a:""};ea=function(a){return ca?da?da.brands.some(({brand:b})=>b&&-1!=b.indexOf(a)):!1:!1};_.u=function(a){return-1!=_.ba().indexOf(a)};
_.fa=function(){return ca?!!da&&0<da.brands.length:!1};_.ha=function(){return _.fa()?!1:_.u("Opera")};_.ia=function(){return _.fa()?!1:_.u("Trident")||_.u("MSIE")};_.ja=function(){return _.u("Firefox")||_.u("FxiOS")};_.la=function(){return _.u("Safari")&&!(ka()||(_.fa()?0:_.u("Coast"))||_.ha()||(_.fa()?0:_.u("Edge"))||(_.fa()?ea("Microsoft Edge"):_.u("Edg/"))||(_.fa()?ea("Opera"):_.u("OPR"))||_.ja()||_.u("Silk")||_.u("Android"))};
ka=function(){return _.fa()?ea("Chromium"):(_.u("Chrome")||_.u("CriOS"))&&!(_.fa()?0:_.u("Edge"))||_.u("Silk")};_.ma=function(){return _.u("Android")&&!(ka()||_.ja()||_.ha()||_.u("Silk"))};na=function(){return ca?!!da&&!!da.platform:!1};oa=function(){return _.u("iPhone")&&!_.u("iPod")&&!_.u("iPad")};_.pa=function(){return oa()||_.u("iPad")||_.u("iPod")};_.qa=function(){return na()?"macOS"===da.platform:_.u("Macintosh")};_.sa=function(a,b){return 0<=_.ra(a,b)};
_.ta=function(a){let b="",c=0;const d=a.length-10240;for(;c<d;)b+=String.fromCharCode.apply(null,a.subarray(c,c+=10240));b+=String.fromCharCode.apply(null,c?a.subarray(c):a);return btoa(b)};_.ua=function(a){return null!=a&&a instanceof Uint8Array};_.va=function(a){return Array.prototype.slice.call(a)};xa=function(a,b){_.wa(b,(a|0)&-14591)};ya=function(a,b){_.wa(b,(a|34)&-14557)};za=function(a){a=a>>14&1023;return 0===a?536870912:a};Ba=function(a){return!(!a||"object"!==typeof a||a.i!==Aa)};
Ca=function(a){return null!==a&&"object"===typeof a&&!Array.isArray(a)&&a.constructor===Object};Da=function(a,b,c){if(!Array.isArray(a)||a.length)return!1;const d=a[_.v]|0;if(d&1)return!0;if(!(b&&(Array.isArray(b)?b.includes(c):b.has(c))))return!1;_.wa(a,d|1);return!0};_.Ea=function(a){if(a&2)throw Error();};Ga=function(a,b){(b=_.Fa?b[_.Fa]:void 0)&&(a[_.Fa]=_.va(b))};
_.Ha=function(a){a=Error(a);a.__closure__error__context__984382||(a.__closure__error__context__984382={});a.__closure__error__context__984382.severity="warning";return a};_.Ka=function(a){if("boolean"!==typeof a)throw Error("r`"+_.Ia(a)+"`"+a);return a};_.La=function(a){if(!Number.isFinite(a))throw _.Ha("enum");return a|0};_.Ma=function(a){if("number"!==typeof a)throw _.Ha("int32");if(!Number.isFinite(a))throw _.Ha("int32");return a|0};
_.Na=function(a){if(null!=a&&"string"!==typeof a)throw Error();return a};_.Oa=function(a){return null==a||"string"===typeof a?a:void 0};_.Qa=function(a,b,c){if(null!=a&&"object"===typeof a&&a.Qd===_.Pa)return a;if(Array.isArray(a)){var d=a[_.v]|0,e=d;0===e&&(e|=c&32);e|=c&2;e!==d&&_.wa(a,e);return new b(a)}};_.Sa=function(a,b){Ra=b;a=new a(b);Ra=void 0;return a};
_.Ta=function(a,b,c){null==a&&(a=Ra);Ra=void 0;if(null==a){var d=96;c?(a=[c],d|=512):a=[];b&&(d=d&-16760833|(b&1023)<<14)}else{if(!Array.isArray(a))throw Error();d=a[_.v]|0;if(d&2048)throw Error();if(d&64)return a;d|=64;if(c&&(d|=512,c!==a[0]))throw Error();a:{c=a;const e=c.length;if(e){const f=e-1;if(Ca(c[f])){d|=256;b=f-(+!!(d&512)-1);if(1024<=b)throw Error();d=d&-16760833|(b&1023)<<14;break a}}if(b){b=Math.max(b,e-(+!!(d&512)-1));if(1024<b)throw Error();d=d&-16760833|(b&1023)<<14}}}_.wa(a,d);return a};
Va=function(a,b){return Ua(b)};Ua=function(a){switch(typeof a){case "number":return isFinite(a)?a:String(a);case "boolean":return a?1:0;case "object":if(a)if(Array.isArray(a)){if(Da(a,void 0,0))return}else{if(_.ua(a))return _.ta(a);if("function"==typeof _.Wa&&a instanceof _.Wa)return a.j()}}return a};Xa=function(a,b,c){const d=_.va(a);var e=d.length;const f=b&256?d[e-1]:void 0;e+=f?-1:0;for(b=b&512?1:0;b<e;b++)d[b]=c(d[b]);if(f){b=d[b]={};for(const g in f)b[g]=c(f[g])}Ga(d,a);return d};
Za=function(a,b,c,d,e){if(null!=a){if(Array.isArray(a))a=Da(a,void 0,0)?void 0:e&&(a[_.v]|0)&2?a:Ya(a,b,c,void 0!==d,e);else if(Ca(a)){const f={};for(let g in a)f[g]=Za(a[g],b,c,d,e);a=f}else a=b(a,d);return a}};Ya=function(a,b,c,d,e){const f=d||c?a[_.v]|0:0;d=d?!!(f&32):void 0;const g=_.va(a);for(let h=0;h<g.length;h++)g[h]=Za(g[h],b,c,d,e);c&&(Ga(g,a),c(f,g));return g};$a=function(a){return a.Qd===_.Pa?a.toJSON():Ua(a)};
ab=function(a,b,c=ya){if(null!=a){if(a instanceof Uint8Array)return b?a:new Uint8Array(a);if(Array.isArray(a)){var d=a[_.v]|0;if(d&2)return a;b&&(b=0===d||!!(d&32)&&!(d&64||!(d&16)));return b?_.wa(a,(d|34)&-12293):Ya(a,ab,d&4?ya:c,!0,!0)}a.Qd===_.Pa&&(c=a.qa,d=c[_.v],a=d&2?a:_.Sa(a.constructor,_.bb(c,d,!0)));return a}};_.bb=function(a,b,c){const d=c||b&2?ya:xa,e=!!(b&32);a=Xa(a,b,f=>ab(f,e,d));a[_.v]=a[_.v]|32|(c?2:0);return a};
_.cb=function(a){const b=a.qa,c=b[_.v];return c&2?_.Sa(a.constructor,_.bb(b,c,!1)):a};_.db=function(a,b,c,d,e){const f=za(b);if(c>=f||e){let g=b;if(b&256)e=a[a.length-1];else{if(null==d)return g;e=a[f+(+!!(b&512)-1)]={};g|=256}e[c]=d;c<f&&(a[c+(+!!(b&512)-1)]=void 0);g!==b&&_.wa(a,g);return g}a[c+(+!!(b&512)-1)]=d;b&256&&(a=a[a.length-1],c in a&&delete a[c]);return b};_.fb=function(a,b,c,d){a=a.qa;let e=a[_.v];const f=_.eb(a,e,c,d);b=_.Qa(f,b,e);b!==f&&null!=b&&_.db(a,e,c,b,d);return b};
_.gb=function(a,b){return null!=a?a:b};
ib=function(a,b,c){var d=hb?void 0:a.constructor.ta;const e=(c?a.qa:b)[_.v];a=b.length;if(!a)return b;let f,g;if(Ca(c=b[a-1])){a:{var h=c;let p={},n=!1;for(var k in h){let r=h[k];if(Array.isArray(r)){let t=r;if(Da(r,d,+k)||Ba(r)&&0===r.size)r=null;r!=t&&(n=!0)}null!=r?p[k]=r:n=!0}if(n){for(var l in p){h=p;break a}h=null}}h!=c&&(f=!0);a--}for(k=+!!(e&512)-1;0<a;a--){l=a-1;c=b[l];l-=k;if(!(null==c||Da(c,d,l)||Ba(c)&&0===c.size))break;g=!0}if(!f&&!g)return b;b=Array.prototype.slice.call(b,0,a);h&&b.push(h);
return b};_.w=function(a,b){return null!=a?!!a:!!b};_.x=function(a,b){void 0==b&&(b="");return null!=a?a:b};_.jb=function(a,b){void 0==b&&(b=0);return null!=a?a:b};_.kb=function(a){for(const b in a)return!1;return!0};_.mb=function(a,b){let c,d;for(let e=1;e<arguments.length;e++){d=arguments[e];for(c in d)a[c]=d[c];for(let f=0;f<lb.length;f++)c=lb[f],Object.prototype.hasOwnProperty.call(d,c)&&(a[c]=d[c])}};
nb="function"==typeof Object.defineProperties?Object.defineProperty:function(a,b,c){if(a==Array.prototype||a==Object.prototype)return a;a[b]=c.value;return a};ob=function(a){a=["object"==typeof globalThis&&globalThis,a,"object"==typeof window&&window,"object"==typeof self&&self,"object"==typeof global&&global];for(var b=0;b<a.length;++b){var c=a[b];if(c&&c.Math==Math)return c}throw Error("a");};pb=ob(this);
qb=function(a,b){if(b)a:{var c=pb;a=a.split(".");for(var d=0;d<a.length-1;d++){var e=a[d];if(!(e in c))break a;c=c[e]}a=a[a.length-1];d=c[a];b=b(d);b!=d&&null!=b&&nb(c,a,{configurable:!0,writable:!0,value:b})}};qb("globalThis",function(a){return a||pb});var tb,ub,wb,xb;_.rb=_.rb||{};_.q=this||self;tb=function(a){var b=_.sb("WIZ_global_data.oxN3nb");a=b&&b[a];return null!=a?a:!1};ub=_.q._F_toggles||[];_.sb=function(a,b){a=a.split(".");b=b||_.q;for(var c=0;c<a.length;c++)if(b=b[a[c]],null==b)return null;return b};_.Ia=function(a){var b=typeof a;return"object"!=b?b:a?Array.isArray(a)?"array":b:"null"};_.vb="closure_uid_"+(1E9*Math.random()>>>0);wb=function(a,b,c){return a.call.apply(a.bind,arguments)};
xb=function(a,b,c){if(!a)throw Error();if(2<arguments.length){var d=Array.prototype.slice.call(arguments,2);return function(){var e=Array.prototype.slice.call(arguments);Array.prototype.unshift.apply(e,d);return a.apply(b,e)}}return function(){return a.apply(b,arguments)}};_.y=function(a,b,c){_.y=Function.prototype.bind&&-1!=Function.prototype.bind.toString().indexOf("native code")?wb:xb;return _.y.apply(null,arguments)};
_.z=function(a,b){a=a.split(".");var c=_.q;a[0]in c||"undefined"==typeof c.execScript||c.execScript("var "+a[0]);for(var d;a.length&&(d=a.shift());)a.length||void 0===b?c[d]&&c[d]!==Object.prototype[d]?c=c[d]:c=c[d]={}:c[d]=b};_.A=function(a,b){function c(){}c.prototype=b.prototype;a.X=b.prototype;a.prototype=new c;a.prototype.constructor=a;a.jj=function(d,e,f){for(var g=Array(arguments.length-2),h=2;h<arguments.length;h++)g[h-2]=arguments[h];return b.prototype[e].apply(d,g)}};_.A(_.aa,Error);_.aa.prototype.name="CustomError";_.yb=String.prototype.trim?function(a){return a.trim()}:function(a){return/^[\s\xa0]*([\s\S]*?)[\s\xa0]*$/.exec(a)[1]};var zb=!!(ub[0]&128),Ab=!!(ub[0]&256),Bb=!!(ub[0]&2);var ca=zb?Ab:tb(610401301),hb=zb?Bb:tb(188588736);var da,Cb=_.q.navigator;da=Cb?Cb.userAgentData||null:null;_.ra=function(a,b){return Array.prototype.indexOf.call(a,b,void 0)};_.Db=function(a,b,c){Array.prototype.forEach.call(a,b,c)};_.Eb=function(a){_.Eb[" "](a);return a};_.Eb[" "]=function(){};var Rb,Sb,Xb;_.Fb=_.ha();_.B=_.ia();_.Gb=_.u("Edge");_.Hb=_.Gb||_.B;_.Ib=_.u("Gecko")&&!(-1!=_.ba().toLowerCase().indexOf("webkit")&&!_.u("Edge"))&&!(_.u("Trident")||_.u("MSIE"))&&!_.u("Edge");_.Jb=-1!=_.ba().toLowerCase().indexOf("webkit")&&!_.u("Edge");_.Kb=_.qa();_.Lb=na()?"Windows"===da.platform:_.u("Windows");_.Mb=na()?"Android"===da.platform:_.u("Android");_.Nb=oa();_.Ob=_.u("iPad");_.Pb=_.u("iPod");_.Qb=_.pa();Rb=function(){var a=_.q.document;return a?a.documentMode:void 0};
a:{var Tb="",Ub=function(){var a=_.ba();if(_.Ib)return/rv:([^\);]+)(\)|;)/.exec(a);if(_.Gb)return/Edge\/([\d\.]+)/.exec(a);if(_.B)return/\b(?:MSIE|rv)[: ]([^\);]+)(\)|;)/.exec(a);if(_.Jb)return/WebKit\/(\S+)/.exec(a);if(_.Fb)return/(?:Version)[ \/]?(\S+)/.exec(a)}();Ub&&(Tb=Ub?Ub[1]:"");if(_.B){var Vb=Rb();if(null!=Vb&&Vb>parseFloat(Tb)){Sb=String(Vb);break a}}Sb=Tb}_.Wb=Sb;if(_.q.document&&_.B){var Yb=Rb();Xb=Yb?Yb:parseInt(_.Wb,10)||void 0}else Xb=void 0;_.Zb=Xb;_.ac=_.ja();_.bc=oa()||_.u("iPod");_.cc=_.u("iPad");_.dc=_.ma();_.ec=ka();_.fc=_.la()&&!_.pa();_.gc="undefined"!==typeof TextDecoder;_.hc="undefined"!==typeof TextEncoder;_.v=Symbol();_.wa=(a,b)=>{a[_.v]=b;return a};var Aa,ic,kc,lc,mc;_.Pa={};Aa={};kc=[];_.wa(kc,55);_.jc=Object.freeze(kc);lc=class{};mc=class{};Object.freeze(new lc);Object.freeze(new mc);var Ra;_.nc=function(a,b){a=a.qa;return _.eb(a,a[_.v],b)};_.eb=function(a,b,c,d){if(-1===c)return null;if(c>=za(b)){if(b&256)return a[a.length-1][c]}else{var e=a.length;if(d&&b&256&&(d=a[e-1][c],null!=d))return d;b=c+(+!!(b&512)-1);if(b<e)return a[b]}};_.oc=function(a,b,c){const d=a.qa;let e=d[_.v];_.Ea(e);_.db(d,e,b,c);return a};_.C=function(a,b){a=_.nc(a,b);return null==a||"boolean"===typeof a?a:"number"===typeof a?!!a:void 0};
_.E=function(a,b,c,d=!1){b=_.fb(a,b,c,d);if(null==b)return b;a=a.qa;let e=a[_.v];if(!(e&2)){const f=_.cb(b);f!==b&&(b=f,_.db(a,e,c,b,d))}return b};_.F=function(a,b,c){null==c&&(c=void 0);return _.oc(a,b,c)};_.G=function(a,b){return _.Oa(_.nc(a,b))};_.H=function(a,b){return _.gb(_.C(a,b),!1)};_.pc=function(a,b,c=0){a=a.qa;let d=a[_.v];const e=_.eb(a,d,b);var f=null==e||"number"===typeof e?e:"NaN"===e||"Infinity"===e||"-Infinity"===e?Number(e):void 0;null!=f&&f!==e&&_.db(a,d,b,f);return _.gb(f,c)};
_.J=function(a,b){return _.gb(_.G(a,b),"")};_.K=function(a,b,c){return _.oc(a,b,null==c?c:_.Ka(c))};_.L=function(a,b,c){return _.oc(a,b,null==c?c:_.Ma(c))};_.M=function(a,b,c){return _.oc(a,b,_.Na(c))};_.N=function(a,b,c){return _.oc(a,b,null==c?c:_.La(c))};_.Q=class{constructor(a,b,c){this.qa=_.Ta(a,b,c)}toJSON(){return ic?ib(this,this.qa,!1):ib(this,Ya(this.qa,$a,void 0,void 0,!1),!0)}Ia(){ic=!0;try{return JSON.stringify(this.toJSON(),Va)}finally{ic=!1}}Bc(){return!!((this.qa[_.v]|0)&2)}};_.Q.prototype.Qd=_.Pa;_.Q.prototype.toString=function(){return ib(this,this.qa,!1).toString()};_.qc=Symbol();_.rc=Symbol();_.sc=Symbol();_.uc=Symbol();_.vc=Symbol();var wc=class extends _.Q{constructor(){super()}};_.xc=class extends _.Q{constructor(){super()}B(a){return _.L(this,3,a)}};var yc=class extends _.Q{constructor(a){super(a)}};var zc=class extends _.Q{constructor(a){super(a)}Tc(a){return _.M(this,24,a)}};_.Ac=class extends _.Q{constructor(a){super(a)}};_.Bc=function(){this.Ga=this.Ga;this.na=this.na};_.Bc.prototype.Ga=!1;_.Bc.prototype.isDisposed=function(){return this.Ga};_.Bc.prototype.ha=function(){this.Ga||(this.Ga=!0,this.P())};_.Bc.prototype.P=function(){if(this.na)for(;this.na.length;)this.na.shift()()};var Cc=class extends _.Bc{constructor(){var a=window;super();this.o=a;this.i=[];this.j={}}resolve(a){var b=this.o;a=a.split(".");for(var c=a.length,d=0;d<c;++d)if(b[a[d]])b=b[a[d]];else return null;return b instanceof Function?b:null}Hb(){for(var a=this.i.length,b=this.i,c=[],d=0;d<a;++d){var e=b[d].i(),f=this.resolve(e);if(f&&f!=this.j[e])try{b[d].Hb(f)}catch(g){}else c.push(b[d])}this.i=c.concat(b.slice(a))}};var Ec=class extends _.Bc{constructor(){var a=_.Dc;super();this.o=a;this.A=this.i=null;this.v=0;this.C={};this.j=!1;a=window.navigator.userAgent;0<=a.indexOf("MSIE")&&0<=a.indexOf("Trident")&&(a=/\b(?:MSIE|rv)[: ]([^\);]+)(\)|;)/.exec(a))&&a[1]&&9>parseFloat(a[1])&&(this.j=!0)}B(a,b){this.i=b;this.A=a;b.preventDefault?b.preventDefault():b.returnValue=!1}};_.Fc=class extends _.Q{constructor(a){super(a)}};var Gc=class extends _.Q{constructor(a){super(a)}};var Ic;_.Hc=function(a,b,c=98){if(a.i){const d=new wc;_.M(d,1,b.message);_.M(d,2,b.stack);_.L(d,3,b.lineNumber);_.N(d,5,1);b=new _.xc;_.F(b,40,d);a.i.log(c,b)}};Ic=class{constructor(){this.i=null}log(a){_.Hc(this,a)}};var Jc,Mc,Lc;_.Kc=function(a){let b;b=window.google&&window.google.logUrl?"":"https://www.google.com";b+="/gen_204?use_corp=on&";b+=a.Ia(2040-b.length);Jc(b)};Jc=function(a){var b=new Image,c=Lc;b.onerror=b.onload=b.onabort=function(){c in Mc&&delete Mc[c]};Mc[Lc++]=b;b.src=a};Mc=[];Lc=0;_.Nc=class{constructor(){this.data={}}Ia(a){var b=[],c;for(c in this.data)b.push(encodeURIComponent(c)+"="+encodeURIComponent(String(this.data[c])));return("atyp=i&zx="+(new Date).getTime()+"&"+b.join("&")).substr(0,a)}};var Oc=class extends _.Nc{constructor(a){super();var b=_.E(a,yc,8)||new yc;window.google&&window.google.kEI&&(this.data.ei=window.google.kEI);this.data.sei=_.x(_.G(a,10));this.data.ogf=_.x(_.G(b,3));this.data.ogrp=(window.google&&window.google.sn?!/.*hp$/.test(window.google.sn):_.w(_.C(a,7)))?"1":"";this.data.ogv=_.x(_.G(b,6))+"."+_.x(_.G(b,7));this.data.ogd=_.x(_.G(a,21));this.data.ogc=_.x(_.G(a,20));this.data.ogl=_.x(_.G(a,5));this.data.oggv="quantum:gapiBuildLabel"}};var lb="constructor hasOwnProperty isPrototypeOf propertyIsEnumerable toLocaleString toString valueOf".split(" ");var Pc=[1,2,3,4,5,6,9,10,11,13,14,28,29,30,34,35,37,38,39,40,42,43,48,49,50,51,52,53,62,500],Rc=function(a){if(!Qc){Qc={};for(var b=0;b<Pc.length;b++)Qc[Pc[b]]=!0}return!!Qc[a]},Sc=function(a){a=String(a);return a.replace(".","%2E").replace(",","%2C")},Tc=class extends Oc{constructor(a,b,c,d,e){super(a);_.mb(this.data,{oge:c,ogex:_.x(_.G(a,9)),ogp:_.x(_.G(a,6)),ogsr:Math.round(1/(Rc(c)?_.jb(_.pc(b,3,1)):_.jb(_.pc(b,2,1E-4)))),ogus:d});if(e){"ogw"in e&&(this.data.ogw=e.ogw,delete e.ogw);"ved"in e&&
(this.data.ved=e.ved,delete e.ved);a=[];for(var f in e)0!=a.length&&a.push(","),a.push(Sc(f)),a.push("."),a.push(Sc(e[f]));e=a.join("");""!=e&&(this.data.ogad=e)}}},Qc=null;var Uc=class extends _.Q{constructor(a){super(a)}};var Yc=class{constructor(){var a=Vc,b=Wc,c=Xc;this.i=a;this.v=b;this.o=_.jb(_.pc(a,2,1E-4),1E-4);this.C=_.jb(_.pc(a,3,1),1);b=Math.random();this.j=_.w(_.C(a,1))&&b<this.o;this.A=_.w(_.C(a,1))&&b<this.C;a=0;_.w(_.C(c,1))&&(a|=1);_.w(_.C(c,2))&&(a|=2);_.w(_.C(c,3))&&(a|=4);this.B=a}log(a,b){try{if(Rc(a)?this.A:this.j){const c=new Tc(this.v,this.i,a,this.B,b);_.Kc(c)}}catch(c){}}};var $c;_.Zc=function(a){if(0<a.o.length){var b=void 0!==a.i,c=void 0!==a.j;if(b||c){b=b?a.v:a.A;c=a.o;a.o=[];try{_.Db(c,b,a)}catch(d){console.error(d)}}}};_.ad=class{constructor(a){this.i=a;this.j=void 0;this.o=[]}then(a,b,c){this.o.push(new $c(a,b,c));_.Zc(this)}resolve(a){if(void 0!==this.i||void 0!==this.j)throw Error("v");this.i=a;_.Zc(this)}v(a){a.j&&a.j.call(a.i,this.i)}A(a){a.o&&a.o.call(a.i,this.j)}};$c=class{constructor(a,b,c){this.j=a;this.o=b;this.i=c}};_.bd=a=>{var b="zc";if(a.zc&&a.hasOwnProperty(b))return a.zc;b=new a;return a.zc=b};_.cd=class{constructor(){this.v=new _.ad;this.i=new _.ad;this.D=new _.ad;this.C=new _.ad;this.B=new _.ad;this.A=new _.ad;this.o=new _.ad;this.j=new _.ad;this.H=new _.ad}K(){return this.v}M(){return this.i}N(){return this.D}L(){return this.C}Ga(){return this.B}na(){return this.A}J(){return this.o}G(){return this.j}static i(){return _.bd(_.cd)}};var hd;_.ed=function(){return _.E(_.dd,zc,1)};_.fd=function(){return _.E(_.dd,_.Ac,5)};hd=class extends _.Q{constructor(){super(gd)}};var gd;window.gbar_&&window.gbar_.CONFIG?gd=window.gbar_.CONFIG[0]||{}:gd=[];_.dd=new hd;var Wc,Xc,Vc;_.E(_.dd,Gc,3)||new Gc;_.ed()||new zc;_.Dc=new Ic;Wc=_.ed()||new zc;Xc=_.fd()||new _.Ac;Vc=_.E(_.dd,Uc,4)||new Uc;new Yc;_.z("gbar_._DumpException",function(a){_.Dc?_.Dc.log(a):console.error(a)});_.id=new Ec;var kd;_.ld=function(a,b){var c=_.jd.i();if(a in c.i){if(c.i[a]!=b)throw new kd;}else{c.i[a]=b;const h=c.j[a];if(h)for(let k=0,l=h.length;k<l;k++){b=h[k];var d=c.i;delete b.i[a];if(_.kb(b.i)){for(var e=b.j.length,f=Array(e),g=0;g<e;g++)f[g]=d[b.j[g]];b.o.apply(b.v,f)}}delete c.j[a]}};_.jd=class{constructor(){this.i={};this.j={}}static i(){return _.bd(_.jd)}};_.md=class extends _.aa{constructor(){super()}};kd=class extends _.md{};_.z("gbar.A",_.ad);_.ad.prototype.aa=_.ad.prototype.then;_.z("gbar.B",_.cd);_.cd.prototype.ba=_.cd.prototype.M;_.cd.prototype.bb=_.cd.prototype.N;_.cd.prototype.bd=_.cd.prototype.Ga;_.cd.prototype.bf=_.cd.prototype.K;_.cd.prototype.bg=_.cd.prototype.L;_.cd.prototype.bh=_.cd.prototype.na;_.cd.prototype.bj=_.cd.prototype.J;_.cd.prototype.bk=_.cd.prototype.G;_.z("gbar.a",_.cd.i());window.gbar&&window.gbar.ap&&window.gbar.ap(window.gbar.a);var nd=new Cc;_.ld("api",nd);var od=_.fd()||new _.Ac;
window.__PVT=_.x(_.G(od,8));_.ld("eq",_.id);
}catch(e){_._DumpException(e)}
try{
_.pd=class extends _.Q{constructor(a){super(a)}};
}catch(e){_._DumpException(e)}
try{
var qd=class extends _.Q{constructor(){super()}};var rd=class extends _.Bc{constructor(){super();this.j=[];this.i=[]}o(a,b){this.j.push({features:a,options:b})}init(a,b,c){window.gapi={};var d=window.___jsl={};d.h=_.x(_.G(a,1));null!=_.C(a,12)&&(d.dpo=_.w(_.H(a,12)));d.ms=_.x(_.G(a,2));d.m=_.x(_.G(a,3));d.l=[];_.J(b,1)&&(a=_.G(b,3))&&this.i.push(a);_.J(c,1)&&(c=_.G(c,2))&&this.i.push(c);_.z("gapi.load",(0,_.y)(this.o,this));return this}};var sd=_.E(_.dd,_.Fc,14);if(sd){var td=_.E(_.dd,_.pd,9)||new _.pd,ud=new qd,vd=new rd;vd.init(sd,td,ud);_.ld("gs",vd)};
}catch(e){_._DumpException(e)}
})(this.gbar_);
// Google Inc.
</script><script nonce="">try {const preferences = JSON.parse(window.localStorage.getItem("datalab_prefs_MOLCZAK4749@gmail.com")); document.querySelector('html') .setAttribute('theme', preferences['siteTheme'] || 'default');} catch (e) {}</script><script nonce="">window.performance.mark('head_start');</script><script src="./Airbnb_Paris__files/common_webcomponentsjs_webcomponents-lite.js.download" nonce=""></script><script src="./Airbnb_Paris__files/common_webanimationsjs_web-animations-next-lite.min.js.download" nonce=""></script><script nonce="">var colabVersionTag = 'colab_20240308-060124_RC00_613899582'; var colabScsVersion = '7eaf4192b4a5280a1fe8bb930827ed42'; var hl = 'en'; var colabExperiments = JSON.parse('\x7b\x22ai_unsubscribed_warning\x22: true, \x22aida_cell_button\x22: false, \x22aida_complete_code_model_id\x22: \x22\x22, \x22aida_do_conversation_model_id\x22: \x22\x22, \x22aida_generate_code_model_id\x22: \x22\x22, \x22aida_in_editor\x22: false, \x22allowed_public_url_domains\x22: \x5b\x22huggingface.co\x22, \x22dagshub.com\x22, \x22storage.googleapis.com\x22\x5d, \x22backend_version\x22: \x22next\x22, \x22bq_tid\x22: true, \x22cell_tags\x22: false, \x22chat\x22: true, \x22classified_generate\x22: false, \x22classroom_iframe_parent_origin\x22: \x22\x22, \x22client_text_compose\x22: false, \x22client_trim_completion_text\x22: 100, \x22cloud_origin\x22: \x22\x22, \x22commands_in_toolbar\x22: false, \x22comment_poll_long\x22: 900000, \x22comment_poll_short\x22: 60000, \x22completion_throttle_millis\x22: 300, \x22compose_skip_suffix_check\x22: false, \x22converse_temp\x22: \x22\x22, \x22crawler\x22: false, \x22critique_comments\x22: false, \x22dbu\x22: \x22\x22, \x22debug_external\x22: \x22external\x22, \x22debug_prod\x22: \x22prod\x22, \x22dep_cells_commands\x22: false, \x22development\x22: false, \x22document_change_poll_interval\x22: 30000, \x22drive_anon_api_key\x22: \x22AIzaSyB10s2vWUTwP0pj20wZoxmpZIt3rRodYeg\x22, \x22drive_api_key\x22: \x22AIzaSyCN_sSPJMpYrAzC5AtTrltNC8oRmLtoqBk\x22, \x22drive_background_save_project_number\x22: \x22948411933973\x22, \x22drive_realtime_project_number\x22: \x22\x22, \x22embedded_connection_poll\x22: false, \x22embedding_app\x22: \x22\x22, \x22enable_adhoc_backends\x22: false, \x22enable_more_reprs\x22: true, \x22explain_cell\x22: false, \x22explain_error\x22: true, \x22explain_error_prompt_next\x22: false, \x22explain_error_trim_traceback\x22: true, \x22external_trusted_github_org_repos_quick_add\x22: \x22GoogleChrome\/CrUX,google\/generative-ai-docs\x22, \x22filter_repetitive_suggestions\x22: false, \x22first_party_auth\x22: true, \x22generate_code\x22: true, \x22generate_code_prompt\x22: true, \x22generate_df\x22: true, \x22generate_fix\x22: true, \x22generate_temp\x22: \x22\x22, \x22get_started\x22: false, \x22gis_auth\x22: true, \x22github_client_id\x22: \x225036cf6d81e65aaa6340\x22, \x22gpu_utilization_check_interval_ms\x22: 600000, \x22hats_surveys\x22: true, \x22hrc\x22: false, \x22import_data\x22: false, \x22internal_schedule\x22: false, \x22is_prober\x22: false, \x22jsraw\x22: \x22compiled\x22, \x22key_promoter\x22: false, \x22kr\x22: false, \x22local_cloud_apis\x22: false, \x22local_service_worker\x22: false, \x22log_hover_type\x22: false, \x22lsp_diagnostic_threshold_b312769838\x22: 0, \x22lsp_diagnostics_reporting\x22: false, \x22lsp_inlay_hint\x22: false, \x22lsp_rename\x22: false, \x22lsrp\x22: 0, \x22ml_banner\x22: false, \x22ml_enabled\x22: true, \x22mlpp\x22: false, \x22mlpp_multiline\x22: false, \x22mlpp_on_by_default\x22: true, \x22mlpp_trim_completion_text\x22: 100, \x22mobile\x22: false, \x22next_steps\x22: true, \x22nl2code_missing_imports\x22: false, \x22no_fun\x22: false, \x22og_dark\x22: true, \x22outage_notification\x22: \x22\x22, \x22outage_notification_link\x22: \x22\x22, \x22output_menu\x22: false, \x22outputframe_version\x22: \x22\x22, \x22override_suf_params_for_test\x22: false, \x22quickchart_button\x22: true, \x22recaptcha_polling_frequency_ms\x22: 300000, \x22recaptcha_v2_site_key\x22: \x226LfQttQUAAAAADuPanA_VZMaZgBAOnHZNuuqUewp\x22, \x22recaptcha_v3_site_key\x22: \x226LfQPtEUAAAAAHBpAdFng54jyuB1V5w5dofknpip\x22, \x22reconnect_max_delay_seconds\x22: 300, \x22require_ai_consent\x22: true, \x22resource_poll_interval_ms\x22: 10000, \x22rp_kxhr\x22: false, \x22rp_lsp\x22: false, \x22rp_serve_kernel_port\x22: false, \x22rp_term\x22: false, \x22rp_token_refresh_headroom_millis\x22: 300000, \x22rt\x22: false, \x22runtime_env_overrides\x22: \x22\\n          \x5b\\n            \x5b\\\x22ENABLE_DIRECTORYPREFETCHER\\\x22, \\\x221\\\x22\x5d\\n          \x5d\\n        \x22, \x22runtime_type_for_test\x22: \x22\x22, \x22server_execution_queue\x22: true, \x22session_resume_coalesce\x22: true, \x22sheets_paste\x22: true, \x22show_payments_interstitial\x22: false, \x22show_pip_warning_dialog\x22: true, \x22show_relnotes_on_open\x22: true, \x22show_signup_survey\x22: true, \x22show_subscription_renewal_time\x22: false, \x22show_switch_to_prod_link\x22: false, \x22sql_cell\x22: false, \x22sql_cell_buttons\x22: false, \x22storage_partition_trial\x22: true, \x22storage_partition_trial_token\x22: \x22AmUpB2+Hlwk73pYiEMbnkef\/dprJi1I9rClec33apyFsbVOaCIRN29Rk9M4ht5Otgbp+thCc3MMD73GyCNfEWAkAAAB3eyJvcmlnaW4iOiJodHRwczovL2NvbGFiLnJlc2VhcmNoLmdvb2dsZS5jb206NDQzIiwiZmVhdHVyZSI6IkRpc2FibGVUaGlyZFBhcnR5U3RvcmFnZVBhcnRpdGlvbmluZyIsImV4cGlyeSI6MTcyNTQwNzk5OX0\x3d\x22, \x22suspicious_code_matches\x22: \x22\x22, \x22suspicious_code_regexs\x22: \x22\x22, \x22term4all\x22: false, \x22text_compose_report_changes_millis\x22: 10000, \x22text_span_comments\x22: false, \x22tpu_vm\x22: false, \x22unified_compose\x22: true, \x22unmanaged_vm_min_label_block\x22: \x22\x22, \x22unmanaged_vm_min_label_warn\x22: \x22\x22, \x22unmanaged_vm_min_release_tag_block\x22: \x22\x22, \x22unmanaged_vm_min_release_tag_warn\x22: \x22\x22, \x22use_corplogin\x22: true, \x22use_dm_sql_lsp\x22: false, \x22user_visible_gpu_types\x22: \x5b\x22T4\x22, \x22V100\x22, \x22A100\x22\x5d, \x22uxr_survey\x22: false, \x22verbose_warnings\x22: false, \x22vertex_ai_api_environment_override\x22: \x22\x22, \x22waffle\x22: false, \x22workstations\x22: false, \x22ids\x22: \x5b20730150, 20730188, 20730177, 20730185, 20730182, 20730159, 20730129\x5d, \x22flag_ids\x22: \x7b\x22ai_unsubscribed_warning\x22: 45504730, \x22aida_cell_button\x22: 45425510, \x22aida_complete_code_model_id\x22: 45427660, \x22aida_do_conversation_model_id\x22: 45427664, \x22aida_generate_code_model_id\x22: 45427663, \x22aida_in_editor\x22: 45425507, \x22allowed_public_url_domains\x22: 45425558, \x22backend_version\x22: 45425541, \x22bq_tid\x22: 45425617, \x22cell_tags\x22: 45425779, \x22chat\x22: 45425490, \x22classified_generate\x22: 45425499, \x22classroom_iframe_parent_origin\x22: 45425537, \x22client_text_compose\x22: 45425512, \x22client_trim_completion_text\x22: 45425628, \x22cloud_origin\x22: 45425538, \x22commands_in_toolbar\x22: 45425502, \x22comment_poll_long\x22: 45425588, \x22comment_poll_short\x22: 45425587, \x22completion_throttle_millis\x22: 45621713, \x22compose_skip_suffix_check\x22: 45615470, \x22converse_temp\x22: 45425509, \x22crawler\x22: 45425491, \x22critique_comments\x22: 45612076, \x22dbu\x22: 45425545, \x22debug_external\x22: 45425470, \x22debug_prod\x22: 45425471, \x22dep_cells_commands\x22: 45622249, \x22development\x22: 45425544, \x22document_change_poll_interval\x22: 45425589, \x22drive_anon_api_key\x22: 45425478, \x22drive_api_key\x22: 45425473, \x22drive_background_save_project_number\x22: 45425479, \x22drive_realtime_project_number\x22: 45425629, \x22embedded_connection_poll\x22: 45491618, \x22enable_adhoc_backends\x22: 45425506, \x22enable_more_reprs\x22: 45613354, \x22explain_cell\x22: 45425505, \x22explain_error\x22: 45425487, \x22explain_error_prompt_next\x22: 45615229, \x22explain_error_trim_traceback\x22: 45618831, \x22external_trusted_github_org_repos_quick_add\x22: 45425555, \x22filter_repetitive_suggestions\x22: 45615781, \x22first_party_auth\x22: 45425560, \x22generate_code\x22: 45425492, \x22generate_code_prompt\x22: 45425488, \x22generate_df\x22: 45425503, \x22generate_fix\x22: 45425504, \x22generate_temp\x22: 45425508, \x22get_started\x22: 45430267, \x22gis_auth\x22: 45425625, \x22github_client_id\x22: 45425556, \x22gpu_utilization_check_interval_ms\x22: 45425561, \x22hats_surveys\x22: 45425559, \x22import_data\x22: 45430411, \x22internal_schedule\x22: 45425578, \x22is_prober\x22: 45429104, \x22jsraw\x22: 45425557, \x22key_promoter\x22: 45425570, \x22local_cloud_apis\x22: 45425630, \x22local_service_worker\x22: 45425550, \x22log_hover_type\x22: 45425602, \x22lsp_diagnostic_threshold_b312769838\x22: 45618432, \x22lsp_diagnostics_reporting\x22: 45425604, \x22lsp_inlay_hint\x22: 45614695, \x22lsp_rename\x22: 45618248, \x22lsrp\x22: 45425612, \x22ml_banner\x22: 45425631, \x22ml_enabled\x22: 45425493, \x22mlpp\x22: 45425608, \x22mlpp_multiline\x22: 45425623, \x22mlpp_on_by_default\x22: 45425609, \x22mlpp_trim_completion_text\x22: 45425622, \x22mobile\x22: 45425562, \x22next_steps\x22: 45428239, \x22nl2code_missing_imports\x22: 45615676, \x22no_fun\x22: 45425540, \x22og_dark\x22: 45459627, \x22outage_notification\x22: 45425584, \x22outage_notification_link\x22: 45425585, \x22output_menu\x22: 45617054, \x22outputframe_version\x22: 45425591, \x22override_suf_params_for_test\x22: 45425592, \x22quickchart_button\x22: 45425501, \x22recaptcha_polling_frequency_ms\x22: 45425582, \x22recaptcha_v2_site_key\x22: 45425581, \x22recaptcha_v3_site_key\x22: 45425580, \x22reconnect_max_delay_seconds\x22: 45425539, \x22require_ai_consent\x22: 45425489, \x22resource_poll_interval_ms\x22: 45425590, \x22rp_kxhr\x22: 45491686, \x22rp_lsp\x22: 45462965, \x22rp_serve_kernel_port\x22: 45572083, \x22rp_term\x22: 45426219, \x22rp_token_refresh_headroom_millis\x22: 45517773, \x22rt\x22: 45425624, \x22runtime_env_overrides\x22: 45425583, \x22runtime_type_for_test\x22: 45425586, \x22server_execution_queue\x22: 45425600, \x22session_resume_coalesce\x22: 45425603, \x22sheets_paste\x22: 45428502, \x22show_payments_interstitial\x22: 45425543, \x22show_pip_warning_dialog\x22: 45616404, \x22show_relnotes_on_open\x22: 45428128, \x22show_signup_survey\x22: 45425620, \x22show_subscription_renewal_time\x22: 45425569, \x22show_switch_to_prod_link\x22: 45425483, \x22sql_cell\x22: 45425497, \x22sql_cell_buttons\x22: 45425498, \x22suspicious_code_matches\x22: 45425615, \x22suspicious_code_regexs\x22: 45425616, \x22term4all\x22: 45425542, \x22text_compose_report_changes_millis\x22: 45425568, \x22text_span_comments\x22: 45545873, \x22tpu_vm\x22: 45614812, \x22unified_compose\x22: 45425627, \x22unmanaged_vm_min_label_block\x22: 45425546, \x22unmanaged_vm_min_label_warn\x22: 45425547, \x22unmanaged_vm_min_release_tag_block\x22: 45425548, \x22unmanaged_vm_min_release_tag_warn\x22: 45425549, \x22use_corplogin\x22: 45425606, \x22use_dm_sql_lsp\x22: 45425610, \x22user_visible_gpu_types\x22: 45620529, \x22uxr_survey\x22: 45425618, \x22verbose_warnings\x22: 45425551, \x22vertex_ai_api_environment_override\x22: 45612077, \x22waffle\x22: 45446491, \x22workstations\x22: 45425626\x7d\x7d'); var colabUserEmail = 'MOLCZAK4749@gmail.com'; var colabRenderDataToken = 'AFWLbD2X_KitCsM9Q9gDyPex8Y2dcttR3ioGgRyVkh9SXyVOYzRLVTZ7arIlnb9HK5vpBreSg6buT8KMNIxOQAQulBWO_91LntJx'; var colabConfig = '\x5b\x5b\x22MOLCZAK4749@gmail.com\x22,\x5b1,\x22AHXL0D3YcsODXj0i+cmAFg2bIazjriIW+KqN75n7kMmaPuP1ii04F03YWGiKlFNj3oxAKUe5l69YlqigVyP1eS8bujVFu+Y975Hl8xC4SdjXBqfrRTGh8F9s5YwJxsefcFHbh6Ec008Rz2x0fzAnEi6Gzl9sMq43ygegtOK9hObmQ5\/Ah9tM3LM+YStWPOqboDIKlVmwZNjdkd5I+KA+ihO\/X9pWs+2W69QzyxbN5Vpfj7P+h5GAA+88EIVH56zsBo+yK3Jck\/WjTHIabn\/xvXiB9rJ8Flvw8zVbMXNwzXwkHNkmm3BoDJit\/CPu50zHtzDoHJ26JeictL6esPm\/j75F7AgvCPxlvPjESGcOEhX6U24kTSnKpz9tcG1XnnM107DilwQzUQzjCiNhCZGyiQNSMXap3LrnDOw10mmtlPJISup4wcq9z5nZTnCx911guv6gP90UyC7KLLDJegEI87zqg28XijzGvYQYcqiLOGm5AVT5t+1irPrpyBgY9PO1LWGmexzEPU3nrIIy3umCxYbU6rBAiy05oumAQoFCCbYFBBZoCawlXx+3LISL0QCuJA04IjhTmjF7NF5MH55BP8LonKKlF623skwHoD3lpqY\/vwNEAQ\/1C6KkelsVshpgKz8KqMmcc4+lx1lCxURjl7AroIwKOwEOOLc3V94BHxDaCCvIA7KbFvL42JB\/GjEv1EosGAz4zCXNYGH9QaFYTQzuLVDQi6DUDfCJAgdovSi8m\/G\/Qq8VCLmUxMAnb8JSnwm4KX4De8J3Am9yoCK24I7YziZz3Q8gHNa8YZL8XESh6fQ8Y24M\/mIcG2UZKJvNBOffUVbMYm4ceIJJBKnNHPMCfsvrV5ZIqQpHzJD3FQRZFKaY0sGIVOTG5N0r82DAFSRehR0zTh+Nhf\/2l2XEt2PSFjcqF2jjcfhu+OjtmEYSkcLrl4MED34WVsFJyjojnVuQoa3nv8oZRHG3hzWhV8eeZ6N4SwATzQ7kdfs6qGZbfQhYIQdfvc2unSnEsr6uJxJJCkAfCY1YvAaF5Ho0XNmNrkiRCd35ydXSAXgekw+9W\/4k4KKZ\/c7N1Z7FgsGNcXwClnDHBf4iO00qgzd9VorpX1gi25Gg0kDNXiZi1O+\/GfGedR4PVpUhMz\/tFdhmZJT0pjPyxCKR7RyzSoq1DNofUD8MoPP073orS+QBNLWbZhNswHOxIj4LR2lphZ8DOushA8HnFdPXLroeYbFUJCeIlUohnHrEza0OVFaD\/A02sw2kMqVEpC2HGDjLhHfhzOAf7wJ\/63bFeTqTw0BkKUtFdO8rok6VfLJ6Ry5h63TOkdJIB1WOkT60caGkAPRLLEACccrneAqjAvQuTf3lwbbHvf2CeKeT0UxL6Hnp55sUeCj9fL3SWlRhRQTIPUtfq2hGnMIAqTVuTfS+7Diz8oismd0fqnKbM\/9JVk2Es+enyfGrXmc8om3cF1aWNnD3bmcoSm1W+dsF0uI+KOF3587mCUIf9C0X1zAdy1ZWS\/s\/9xGycaOVdz47UJ7qBTTZUwuGlr+z7Xv4Q9eBMr04vtWzYpkWYoLkHZihJKBef5tfpSdLGTX4DyO+sTrFn9665nKZOsA+uOrx+JWdcHf46\/lHgHrQXYHdmapkp6cwoR8WiFQbgxmD0HQxUb5fOnld\/TKrv0mAHyh24Wz1EFm7SBqYYwME69oUru+Zhp1ygWJDlomLYxfefDS2Iv29xMdJAXNkMtqC0RguoAkT15y+QMb3xECyF2EC8ub5Kk81M\/cqvIEOwijSObRTagSBcIuK1gRhXAIK9IoQDfgHDqIysOoA9cVttGaaijEcnT4DmPW6lhedBz+KBgtrnJGdb3eS+XRnPMSKi7d3ZmxfqBtXMRRhf4oT1gpgccuDnm0CUYwZQMPwpS7KN1w\x3d\x22,\x22AJ9oCCz1CAnN9hbsWeeXuJmswHjGdn9tv70yaauxlntBv\/E9LCrP8RXmwDzohr8Uzna+Q8RQ6Afk3g5qwiEgWYSE8uezbESSOW91JDQPJedaeyQkS78xz+r8FUZNYZmkqUGpsQkyUw1j\x22,\x22https:\/\/payments.google.com\/payments\x22,0,0,null,null,null,\x22$9.99\x22,\x22$49.99\x22,\x22$9.99\x22,\x22$49.99\x22\x5d,\x5b1,4\x5d,\x22US\x22\x5d\x5d';</script><link id="favicon-link" rel="shortcut icon" href="https://ssl.gstatic.com/colaboratory-static/common/7eaf4192b4a5280a1fe8bb930827ed42/img/favicon.ico"><link rel="stylesheet" href="./Airbnb_Paris__files/bundle.css"><meta name="google-site-verification" content="f5qdvL6RAXlBgHezvCLpPtvx2wU5ZgIzzPULroprlnA"><meta name="google-site-verification" content="-wL8iYJTC7X0zF9qBNDQUAd-P1ZkQUK-OhSgv4Wkf1M"><meta name="google-site-verification" content="o-EECwEDQeUpZv0jTmoGfCDX7dUI8Kul4ESepXmDnO0"><meta name="google-site-verification" content="KD0T7LOCCaCHCECvO9oHcfvqtPmvpMnFU6vogWZ6FnQ"><meta name="google-site-verification" content="X_e11vbgvEHdHuaRpMld_RK9XHaPSwlBXKAWbIbJxxs"><meta name="google-site-verification" content="K1UdZBHJXQYnJGXIK1KuutmVy6dn3vG2sEyV9D1C6dM"><meta name="google-site-verification" content="wdGthzzfu0IjM3qpFqTuQL9poAQZAvAaFKyuzetLpIM"><meta name="google-site-verification" content="qZJ77guHGO0TObHUBRYVdXQlIhXBBuz8dahJVmIlzCo"><meta name="google-site-verification" content="7ahoeOOKT2ZR781GZ5xK4L9t7yO1ZOHc-gaoUALEYgw"><meta name="google-site-verification" content="PHgaSKwdxZELS21aixtLhfpvaHtKen9pnVJ25EI35Zs"><meta name="google-site-verification" content="Ozey1ptWUQW13_lCEhpPMOcmRBLqdyB3WEL-TJUjskU"><meta name="google-site-verification" content="8P-D5fVWgUIhw8X2BxnKJbf5itK0zxX0QhoBjbJFTe8"><meta name="google-site-verification" content="88fgsZDoVRBuRnDPMIEjcHCxsEXzODOqEsJoqtvQsDc"><meta name="google-site-verification" content="26aKGBCw3XblB5Ou01UhxY5WDtMqHjoTm6P-lvF6AqE"><meta name="google-site-verification" content="DGionF7db9g0dOgeBXwOAN2tmCzWBdo5yOdc_-5UcuE"><meta name="google-site-verification" content="Q9LlidR0toR7UtSyVO23xNeaqJmRp8I6r4ghBQTtntU"><meta name="google-site-verification" content="rQawcZaTEK_UrDG30cz_7nVKOVvBass61QEes0Tm04g"><meta name="google-site-verification" content="8L3ghjzKIj241AYAmEygniTe604tsXFkIrb1v-DBtGo"><meta name="google-site-verification" content="Osw7QcOK045GmOYJI2MM2_7AaL-s4q6pdn8gIv6JNxA"><meta name="google-site-verification" content="KiunYPvrY5x8umvAWcjhwPrB677xCar2LeT_8yaVrDg"><meta name="google-site-verification" content="b6bOMRzMVX2bJABYDGBPtpGcB_AUZ-o2SOTggQXErkg"><meta property="og:type" content="article"><meta property="og:image" content="https://colab.research.google.com/img/colab_favicon_256px.png"><meta property="og:title" content="Google Colaboratory"><meta http-equiv="origin-trial" content="AmUpB2+Hlwk73pYiEMbnkef/dprJi1I9rClec33apyFsbVOaCIRN29Rk9M4ht5Otgbp+thCc3MMD73GyCNfEWAkAAAB3eyJvcmlnaW4iOiJodHRwczovL2NvbGFiLnJlc2VhcmNoLmdvb2dsZS5jb206NDQzIiwiZmVhdHVyZSI6IkRpc2FibGVUaGlyZFBhcnR5U3RvcmFnZVBhcnRpdGlvbmluZyIsImV4cGlyeSI6MTcyNTQwNzk5OX0="><script nonce="">window.performance.mark('head_end'); window.performance.measure('head', 'head_start', 'head_end');</script><script async="" src="./Airbnb_Paris__files/lazy.min.js.download" nonce=""></script><style id="inert-style">
[inert] {
  pointer-events: none;
  cursor: default;
}

[inert], [inert] * {
  user-select: none;
  -webkit-user-select: none;
  -moz-user-select: none;
  -ms-user-select: none;
}
</style><link rel="stylesheet" href="./Airbnb_Paris__files/css(1)"><link rel="stylesheet" href="./Airbnb_Paris__files/css(2)"><custom-style>
  <style is="custom-style">html {
  --paper-font-common-base_-_font-family:  'Roboto', 'Noto', sans-serif; --paper-font-common-base_-_-webkit-font-smoothing:  antialiased;;

      --paper-font-common-code_-_font-family:  'Roboto Mono', 'Consolas', 'Menlo', monospace; --paper-font-common-code_-_-webkit-font-smoothing:  antialiased;;

      --paper-font-common-expensive-kerning_-_text-rendering:  optimizeLegibility;;

      --paper-font-common-nowrap_-_white-space:  nowrap; --paper-font-common-nowrap_-_overflow:  hidden; --paper-font-common-nowrap_-_text-overflow:  ellipsis;;

      

      --paper-font-display4_-_font-family:  var(--paper-font-common-base_-_font-family); --paper-font-display4_-_-webkit-font-smoothing:  var(--paper-font-common-base_-_-webkit-font-smoothing); --paper-font-display4_-_white-space:  var(--paper-font-common-nowrap_-_white-space); --paper-font-display4_-_overflow:  var(--paper-font-common-nowrap_-_overflow); --paper-font-display4_-_text-overflow:  var(--paper-font-common-nowrap_-_text-overflow); --paper-font-display4_-_font-size:  112px; --paper-font-display4_-_font-weight:  300; --paper-font-display4_-_letter-spacing:  -.044em; --paper-font-display4_-_line-height:  120px;;

      --paper-font-display3_-_font-family:  var(--paper-font-common-base_-_font-family); --paper-font-display3_-_-webkit-font-smoothing:  var(--paper-font-common-base_-_-webkit-font-smoothing); --paper-font-display3_-_white-space:  var(--paper-font-common-nowrap_-_white-space); --paper-font-display3_-_overflow:  var(--paper-font-common-nowrap_-_overflow); --paper-font-display3_-_text-overflow:  var(--paper-font-common-nowrap_-_text-overflow); --paper-font-display3_-_font-size:  56px; --paper-font-display3_-_font-weight:  400; --paper-font-display3_-_letter-spacing:  -.026em; --paper-font-display3_-_line-height:  60px;;

      --paper-font-display2_-_font-family:  var(--paper-font-common-base_-_font-family); --paper-font-display2_-_-webkit-font-smoothing:  var(--paper-font-common-base_-_-webkit-font-smoothing); --paper-font-display2_-_font-size:  45px; --paper-font-display2_-_font-weight:  400; --paper-font-display2_-_letter-spacing:  -.018em; --paper-font-display2_-_line-height:  48px;;

      --paper-font-display1_-_font-family:  var(--paper-font-common-base_-_font-family); --paper-font-display1_-_-webkit-font-smoothing:  var(--paper-font-common-base_-_-webkit-font-smoothing); --paper-font-display1_-_font-size:  34px; --paper-font-display1_-_font-weight:  400; --paper-font-display1_-_letter-spacing:  -.01em; --paper-font-display1_-_line-height:  40px;;

      --paper-font-headline_-_font-family:  var(--paper-font-common-base_-_font-family); --paper-font-headline_-_-webkit-font-smoothing:  var(--paper-font-common-base_-_-webkit-font-smoothing); --paper-font-headline_-_font-size:  24px; --paper-font-headline_-_font-weight:  400; --paper-font-headline_-_letter-spacing:  -.012em; --paper-font-headline_-_line-height:  32px;;

      --paper-font-title_-_font-family:  var(--paper-font-common-base_-_font-family); --paper-font-title_-_-webkit-font-smoothing:  var(--paper-font-common-base_-_-webkit-font-smoothing); --paper-font-title_-_white-space:  var(--paper-font-common-nowrap_-_white-space); --paper-font-title_-_overflow:  var(--paper-font-common-nowrap_-_overflow); --paper-font-title_-_text-overflow:  var(--paper-font-common-nowrap_-_text-overflow); --paper-font-title_-_font-size:  20px; --paper-font-title_-_font-weight:  500; --paper-font-title_-_line-height:  28px;;

      --paper-font-subhead_-_font-family:  var(--paper-font-common-base_-_font-family); --paper-font-subhead_-_-webkit-font-smoothing:  var(--paper-font-common-base_-_-webkit-font-smoothing); --paper-font-subhead_-_font-size:  16px; --paper-font-subhead_-_font-weight:  400; --paper-font-subhead_-_line-height:  24px;;

      --paper-font-body2_-_font-family:  var(--paper-font-common-base_-_font-family); --paper-font-body2_-_-webkit-font-smoothing:  var(--paper-font-common-base_-_-webkit-font-smoothing); --paper-font-body2_-_font-size:  14px; --paper-font-body2_-_font-weight:  500; --paper-font-body2_-_line-height:  24px;;

      --paper-font-body1_-_font-family:  var(--paper-font-common-base_-_font-family); --paper-font-body1_-_-webkit-font-smoothing:  var(--paper-font-common-base_-_-webkit-font-smoothing); --paper-font-body1_-_font-size:  14px; --paper-font-body1_-_font-weight:  400; --paper-font-body1_-_line-height:  20px;;

      --paper-font-caption_-_font-family:  var(--paper-font-common-base_-_font-family); --paper-font-caption_-_-webkit-font-smoothing:  var(--paper-font-common-base_-_-webkit-font-smoothing); --paper-font-caption_-_white-space:  var(--paper-font-common-nowrap_-_white-space); --paper-font-caption_-_overflow:  var(--paper-font-common-nowrap_-_overflow); --paper-font-caption_-_text-overflow:  var(--paper-font-common-nowrap_-_text-overflow); --paper-font-caption_-_font-size:  12px; --paper-font-caption_-_font-weight:  400; --paper-font-caption_-_letter-spacing:  0.011em; --paper-font-caption_-_line-height:  20px;;

      --paper-font-menu_-_font-family:  var(--paper-font-common-base_-_font-family); --paper-font-menu_-_-webkit-font-smoothing:  var(--paper-font-common-base_-_-webkit-font-smoothing); --paper-font-menu_-_white-space:  var(--paper-font-common-nowrap_-_white-space); --paper-font-menu_-_overflow:  var(--paper-font-common-nowrap_-_overflow); --paper-font-menu_-_text-overflow:  var(--paper-font-common-nowrap_-_text-overflow); --paper-font-menu_-_font-size:  13px; --paper-font-menu_-_font-weight:  500; --paper-font-menu_-_line-height:  24px;;

      --paper-font-button_-_font-family:  var(--paper-font-common-base_-_font-family); --paper-font-button_-_-webkit-font-smoothing:  var(--paper-font-common-base_-_-webkit-font-smoothing); --paper-font-button_-_white-space:  var(--paper-font-common-nowrap_-_white-space); --paper-font-button_-_overflow:  var(--paper-font-common-nowrap_-_overflow); --paper-font-button_-_text-overflow:  var(--paper-font-common-nowrap_-_text-overflow); --paper-font-button_-_font-size:  14px; --paper-font-button_-_font-weight:  500; --paper-font-button_-_letter-spacing:  0.018em; --paper-font-button_-_line-height:  24px; --paper-font-button_-_text-transform:  uppercase;;

      --paper-font-code2_-_font-family:  var(--paper-font-common-code_-_font-family); --paper-font-code2_-_-webkit-font-smoothing:  var(--paper-font-common-code_-_-webkit-font-smoothing); --paper-font-code2_-_font-size:  14px; --paper-font-code2_-_font-weight:  700; --paper-font-code2_-_line-height:  20px;;

      --paper-font-code1_-_font-family:  var(--paper-font-common-code_-_font-family); --paper-font-code1_-_-webkit-font-smoothing:  var(--paper-font-common-code_-_-webkit-font-smoothing); --paper-font-code1_-_font-size:  14px; --paper-font-code1_-_font-weight:  500; --paper-font-code1_-_line-height:  20px;;
}

</style>
</custom-style>
<custom-style>
  <style is="custom-style">[hidden] {
  display: none !important;
}

</style>
</custom-style>
<custom-style>
  <style is="custom-style">html {
  --layout_-_display:  flex;;

      --layout-inline_-_display:  inline-flex;;

      --layout-horizontal_-_display:  var(--layout_-_display); --layout-horizontal_-_-ms-flex-direction:  row; --layout-horizontal_-_-webkit-flex-direction:  row; --layout-horizontal_-_flex-direction:  row;;

      --layout-horizontal-reverse_-_display:  var(--layout_-_display); --layout-horizontal-reverse_-_-ms-flex-direction:  row-reverse; --layout-horizontal-reverse_-_-webkit-flex-direction:  row-reverse; --layout-horizontal-reverse_-_flex-direction:  row-reverse;;

      --layout-vertical_-_display:  var(--layout_-_display); --layout-vertical_-_-ms-flex-direction:  column; --layout-vertical_-_-webkit-flex-direction:  column; --layout-vertical_-_flex-direction:  column;;

      --layout-vertical-reverse_-_display:  var(--layout_-_display); --layout-vertical-reverse_-_-ms-flex-direction:  column-reverse; --layout-vertical-reverse_-_-webkit-flex-direction:  column-reverse; --layout-vertical-reverse_-_flex-direction:  column-reverse;;

      --layout-wrap_-_-ms-flex-wrap:  wrap; --layout-wrap_-_-webkit-flex-wrap:  wrap; --layout-wrap_-_flex-wrap:  wrap;;

      --layout-wrap-reverse_-_-ms-flex-wrap:  wrap-reverse; --layout-wrap-reverse_-_-webkit-flex-wrap:  wrap-reverse; --layout-wrap-reverse_-_flex-wrap:  wrap-reverse;;

      --layout-flex-auto_-_-ms-flex:  1 1 auto; --layout-flex-auto_-_-webkit-flex:  1 1 auto; --layout-flex-auto_-_flex:  1 1 auto;;

      --layout-flex-none_-_-ms-flex:  none; --layout-flex-none_-_-webkit-flex:  none; --layout-flex-none_-_flex:  none;;

      --layout-flex_-_-ms-flex:  1 1 0.000000001px; --layout-flex_-_-webkit-flex:  1; --layout-flex_-_flex:  1; --layout-flex_-_-webkit-flex-basis:  0.000000001px; --layout-flex_-_flex-basis:  0.000000001px;;

      --layout-flex-2_-_-ms-flex:  2; --layout-flex-2_-_-webkit-flex:  2; --layout-flex-2_-_flex:  2;;

      --layout-flex-3_-_-ms-flex:  3; --layout-flex-3_-_-webkit-flex:  3; --layout-flex-3_-_flex:  3;;

      --layout-flex-4_-_-ms-flex:  4; --layout-flex-4_-_-webkit-flex:  4; --layout-flex-4_-_flex:  4;;

      --layout-flex-5_-_-ms-flex:  5; --layout-flex-5_-_-webkit-flex:  5; --layout-flex-5_-_flex:  5;;

      --layout-flex-6_-_-ms-flex:  6; --layout-flex-6_-_-webkit-flex:  6; --layout-flex-6_-_flex:  6;;

      --layout-flex-7_-_-ms-flex:  7; --layout-flex-7_-_-webkit-flex:  7; --layout-flex-7_-_flex:  7;;

      --layout-flex-8_-_-ms-flex:  8; --layout-flex-8_-_-webkit-flex:  8; --layout-flex-8_-_flex:  8;;

      --layout-flex-9_-_-ms-flex:  9; --layout-flex-9_-_-webkit-flex:  9; --layout-flex-9_-_flex:  9;;

      --layout-flex-10_-_-ms-flex:  10; --layout-flex-10_-_-webkit-flex:  10; --layout-flex-10_-_flex:  10;;

      --layout-flex-11_-_-ms-flex:  11; --layout-flex-11_-_-webkit-flex:  11; --layout-flex-11_-_flex:  11;;

      --layout-flex-12_-_-ms-flex:  12; --layout-flex-12_-_-webkit-flex:  12; --layout-flex-12_-_flex:  12;;

      

      --layout-start_-_-ms-flex-align:  start; --layout-start_-_-webkit-align-items:  flex-start; --layout-start_-_align-items:  flex-start;;

      --layout-center_-_-ms-flex-align:  center; --layout-center_-_-webkit-align-items:  center; --layout-center_-_align-items:  center;;

      --layout-end_-_-ms-flex-align:  end; --layout-end_-_-webkit-align-items:  flex-end; --layout-end_-_align-items:  flex-end;;

      --layout-baseline_-_-ms-flex-align:  baseline; --layout-baseline_-_-webkit-align-items:  baseline; --layout-baseline_-_align-items:  baseline;;

      

      --layout-start-justified_-_-ms-flex-pack:  start; --layout-start-justified_-_-webkit-justify-content:  flex-start; --layout-start-justified_-_justify-content:  flex-start;;

      --layout-center-justified_-_-ms-flex-pack:  center; --layout-center-justified_-_-webkit-justify-content:  center; --layout-center-justified_-_justify-content:  center;;

      --layout-end-justified_-_-ms-flex-pack:  end; --layout-end-justified_-_-webkit-justify-content:  flex-end; --layout-end-justified_-_justify-content:  flex-end;;

      --layout-around-justified_-_-ms-flex-pack:  distribute; --layout-around-justified_-_-webkit-justify-content:  space-around; --layout-around-justified_-_justify-content:  space-around;;

      --layout-justified_-_-ms-flex-pack:  justify; --layout-justified_-_-webkit-justify-content:  space-between; --layout-justified_-_justify-content:  space-between;;

      --layout-center-center_-_-ms-flex-align:  var(--layout-center_-_-ms-flex-align); --layout-center-center_-_-webkit-align-items:  var(--layout-center_-_-webkit-align-items); --layout-center-center_-_align-items:  var(--layout-center_-_align-items); --layout-center-center_-_-ms-flex-pack:  var(--layout-center-justified_-_-ms-flex-pack); --layout-center-center_-_-webkit-justify-content:  var(--layout-center-justified_-_-webkit-justify-content); --layout-center-center_-_justify-content:  var(--layout-center-justified_-_justify-content);;

      

      --layout-self-start_-_-ms-align-self:  flex-start; --layout-self-start_-_-webkit-align-self:  flex-start; --layout-self-start_-_align-self:  flex-start;;

      --layout-self-center_-_-ms-align-self:  center; --layout-self-center_-_-webkit-align-self:  center; --layout-self-center_-_align-self:  center;;

      --layout-self-end_-_-ms-align-self:  flex-end; --layout-self-end_-_-webkit-align-self:  flex-end; --layout-self-end_-_align-self:  flex-end;;

      --layout-self-stretch_-_-ms-align-self:  stretch; --layout-self-stretch_-_-webkit-align-self:  stretch; --layout-self-stretch_-_align-self:  stretch;;

      --layout-self-baseline_-_-ms-align-self:  baseline; --layout-self-baseline_-_-webkit-align-self:  baseline; --layout-self-baseline_-_align-self:  baseline;;

      

      --layout-start-aligned_-_-ms-flex-line-pack:  start; --layout-start-aligned_-_-ms-align-content:  flex-start; --layout-start-aligned_-_-webkit-align-content:  flex-start; --layout-start-aligned_-_align-content:  flex-start;;

      --layout-end-aligned_-_-ms-flex-line-pack:  end; --layout-end-aligned_-_-ms-align-content:  flex-end; --layout-end-aligned_-_-webkit-align-content:  flex-end; --layout-end-aligned_-_align-content:  flex-end;;

      --layout-center-aligned_-_-ms-flex-line-pack:  center; --layout-center-aligned_-_-ms-align-content:  center; --layout-center-aligned_-_-webkit-align-content:  center; --layout-center-aligned_-_align-content:  center;;

      --layout-between-aligned_-_-ms-flex-line-pack:  justify; --layout-between-aligned_-_-ms-align-content:  space-between; --layout-between-aligned_-_-webkit-align-content:  space-between; --layout-between-aligned_-_align-content:  space-between;;

      --layout-around-aligned_-_-ms-flex-line-pack:  distribute; --layout-around-aligned_-_-ms-align-content:  space-around; --layout-around-aligned_-_-webkit-align-content:  space-around; --layout-around-aligned_-_align-content:  space-around;;

      

      --layout-block_-_display:  block;;

      --layout-invisible_-_visibility:  hidden !important;;

      --layout-relative_-_position:  relative;;

      --layout-fit_-_position:  absolute; --layout-fit_-_top:  0; --layout-fit_-_right:  0; --layout-fit_-_bottom:  0; --layout-fit_-_left:  0;;

      --layout-scroll_-_-webkit-overflow-scrolling:  touch; --layout-scroll_-_overflow:  auto;;

      --layout-fullbleed_-_margin:  0; --layout-fullbleed_-_height:  100vh;;

      

      --layout-fixed-top_-_position:  fixed; --layout-fixed-top_-_top:  0; --layout-fixed-top_-_left:  0; --layout-fixed-top_-_right:  0;;

      --layout-fixed-right_-_position:  fixed; --layout-fixed-right_-_top:  0; --layout-fixed-right_-_right:  0; --layout-fixed-right_-_bottom:  0;;

      --layout-fixed-bottom_-_position:  fixed; --layout-fixed-bottom_-_right:  0; --layout-fixed-bottom_-_bottom:  0; --layout-fixed-bottom_-_left:  0;;

      --layout-fixed-left_-_position:  fixed; --layout-fixed-left_-_top:  0; --layout-fixed-left_-_bottom:  0; --layout-fixed-left_-_left:  0;;
}

</style>
</custom-style><style>[hidden] { display: none !important; }</style><custom-style>
  <style is="custom-style">html {
  --google-red-100: #f4c7c3;
      --google-red-300: #e67c73;
      --google-red-500: #db4437;
      --google-red-700: #c53929;

      --google-blue-100: #c6dafc;
      --google-blue-300: #7baaf7;
      --google-blue-500: #4285f4;
      --google-blue-700: #3367d6;

      --google-green-100: #b7e1cd;
      --google-green-300: #57bb8a;
      --google-green-500: #0f9d58;
      --google-green-700: #0b8043;

      --google-yellow-100: #fce8b2;
      --google-yellow-300: #f7cb4d;
      --google-yellow-500: #f4b400;
      --google-yellow-700: #f09300;

      --google-grey-100: #f5f5f5;
      --google-grey-300: #e0e0e0;
      --google-grey-500: #9e9e9e;
      --google-grey-700: #616161;

      

      --paper-red-50: #ffebee;
      --paper-red-100: #ffcdd2;
      --paper-red-200: #ef9a9a;
      --paper-red-300: #e57373;
      --paper-red-400: #ef5350;
      --paper-red-500: #f44336;
      --paper-red-600: #e53935;
      --paper-red-700: #d32f2f;
      --paper-red-800: #c62828;
      --paper-red-900: #b71c1c;
      --paper-red-a100: #ff8a80;
      --paper-red-a200: #ff5252;
      --paper-red-a400: #ff1744;
      --paper-red-a700: #d50000;

      --paper-pink-50: #fce4ec;
      --paper-pink-100: #f8bbd0;
      --paper-pink-200: #f48fb1;
      --paper-pink-300: #f06292;
      --paper-pink-400: #ec407a;
      --paper-pink-500: #e91e63;
      --paper-pink-600: #d81b60;
      --paper-pink-700: #c2185b;
      --paper-pink-800: #ad1457;
      --paper-pink-900: #880e4f;
      --paper-pink-a100: #ff80ab;
      --paper-pink-a200: #ff4081;
      --paper-pink-a400: #f50057;
      --paper-pink-a700: #c51162;

      --paper-purple-50: #f3e5f5;
      --paper-purple-100: #e1bee7;
      --paper-purple-200: #ce93d8;
      --paper-purple-300: #ba68c8;
      --paper-purple-400: #ab47bc;
      --paper-purple-500: #9c27b0;
      --paper-purple-600: #8e24aa;
      --paper-purple-700: #7b1fa2;
      --paper-purple-800: #6a1b9a;
      --paper-purple-900: #4a148c;
      --paper-purple-a100: #ea80fc;
      --paper-purple-a200: #e040fb;
      --paper-purple-a400: #d500f9;
      --paper-purple-a700: #aa00ff;

      --paper-deep-purple-50: #ede7f6;
      --paper-deep-purple-100: #d1c4e9;
      --paper-deep-purple-200: #b39ddb;
      --paper-deep-purple-300: #9575cd;
      --paper-deep-purple-400: #7e57c2;
      --paper-deep-purple-500: #673ab7;
      --paper-deep-purple-600: #5e35b1;
      --paper-deep-purple-700: #512da8;
      --paper-deep-purple-800: #4527a0;
      --paper-deep-purple-900: #311b92;
      --paper-deep-purple-a100: #b388ff;
      --paper-deep-purple-a200: #7c4dff;
      --paper-deep-purple-a400: #651fff;
      --paper-deep-purple-a700: #6200ea;

      --paper-indigo-50: #e8eaf6;
      --paper-indigo-100: #c5cae9;
      --paper-indigo-200: #9fa8da;
      --paper-indigo-300: #7986cb;
      --paper-indigo-400: #5c6bc0;
      --paper-indigo-500: #3f51b5;
      --paper-indigo-600: #3949ab;
      --paper-indigo-700: #303f9f;
      --paper-indigo-800: #283593;
      --paper-indigo-900: #1a237e;
      --paper-indigo-a100: #8c9eff;
      --paper-indigo-a200: #536dfe;
      --paper-indigo-a400: #3d5afe;
      --paper-indigo-a700: #304ffe;

      --paper-blue-50: #e3f2fd;
      --paper-blue-100: #bbdefb;
      --paper-blue-200: #90caf9;
      --paper-blue-300: #64b5f6;
      --paper-blue-400: #42a5f5;
      --paper-blue-500: #2196f3;
      --paper-blue-600: #1e88e5;
      --paper-blue-700: #1976d2;
      --paper-blue-800: #1565c0;
      --paper-blue-900: #0d47a1;
      --paper-blue-a100: #82b1ff;
      --paper-blue-a200: #448aff;
      --paper-blue-a400: #2979ff;
      --paper-blue-a700: #2962ff;

      --paper-light-blue-50: #e1f5fe;
      --paper-light-blue-100: #b3e5fc;
      --paper-light-blue-200: #81d4fa;
      --paper-light-blue-300: #4fc3f7;
      --paper-light-blue-400: #29b6f6;
      --paper-light-blue-500: #03a9f4;
      --paper-light-blue-600: #039be5;
      --paper-light-blue-700: #0288d1;
      --paper-light-blue-800: #0277bd;
      --paper-light-blue-900: #01579b;
      --paper-light-blue-a100: #80d8ff;
      --paper-light-blue-a200: #40c4ff;
      --paper-light-blue-a400: #00b0ff;
      --paper-light-blue-a700: #0091ea;

      --paper-cyan-50: #e0f7fa;
      --paper-cyan-100: #b2ebf2;
      --paper-cyan-200: #80deea;
      --paper-cyan-300: #4dd0e1;
      --paper-cyan-400: #26c6da;
      --paper-cyan-500: #00bcd4;
      --paper-cyan-600: #00acc1;
      --paper-cyan-700: #0097a7;
      --paper-cyan-800: #00838f;
      --paper-cyan-900: #006064;
      --paper-cyan-a100: #84ffff;
      --paper-cyan-a200: #18ffff;
      --paper-cyan-a400: #00e5ff;
      --paper-cyan-a700: #00b8d4;

      --paper-teal-50: #e0f2f1;
      --paper-teal-100: #b2dfdb;
      --paper-teal-200: #80cbc4;
      --paper-teal-300: #4db6ac;
      --paper-teal-400: #26a69a;
      --paper-teal-500: #009688;
      --paper-teal-600: #00897b;
      --paper-teal-700: #00796b;
      --paper-teal-800: #00695c;
      --paper-teal-900: #004d40;
      --paper-teal-a100: #a7ffeb;
      --paper-teal-a200: #64ffda;
      --paper-teal-a400: #1de9b6;
      --paper-teal-a700: #00bfa5;

      --paper-green-50: #e8f5e9;
      --paper-green-100: #c8e6c9;
      --paper-green-200: #a5d6a7;
      --paper-green-300: #81c784;
      --paper-green-400: #66bb6a;
      --paper-green-500: #4caf50;
      --paper-green-600: #43a047;
      --paper-green-700: #388e3c;
      --paper-green-800: #2e7d32;
      --paper-green-900: #1b5e20;
      --paper-green-a100: #b9f6ca;
      --paper-green-a200: #69f0ae;
      --paper-green-a400: #00e676;
      --paper-green-a700: #00c853;

      --paper-light-green-50: #f1f8e9;
      --paper-light-green-100: #dcedc8;
      --paper-light-green-200: #c5e1a5;
      --paper-light-green-300: #aed581;
      --paper-light-green-400: #9ccc65;
      --paper-light-green-500: #8bc34a;
      --paper-light-green-600: #7cb342;
      --paper-light-green-700: #689f38;
      --paper-light-green-800: #558b2f;
      --paper-light-green-900: #33691e;
      --paper-light-green-a100: #ccff90;
      --paper-light-green-a200: #b2ff59;
      --paper-light-green-a400: #76ff03;
      --paper-light-green-a700: #64dd17;

      --paper-lime-50: #f9fbe7;
      --paper-lime-100: #f0f4c3;
      --paper-lime-200: #e6ee9c;
      --paper-lime-300: #dce775;
      --paper-lime-400: #d4e157;
      --paper-lime-500: #cddc39;
      --paper-lime-600: #c0ca33;
      --paper-lime-700: #afb42b;
      --paper-lime-800: #9e9d24;
      --paper-lime-900: #827717;
      --paper-lime-a100: #f4ff81;
      --paper-lime-a200: #eeff41;
      --paper-lime-a400: #c6ff00;
      --paper-lime-a700: #aeea00;

      --paper-yellow-50: #fffde7;
      --paper-yellow-100: #fff9c4;
      --paper-yellow-200: #fff59d;
      --paper-yellow-300: #fff176;
      --paper-yellow-400: #ffee58;
      --paper-yellow-500: #ffeb3b;
      --paper-yellow-600: #fdd835;
      --paper-yellow-700: #fbc02d;
      --paper-yellow-800: #f9a825;
      --paper-yellow-900: #f57f17;
      --paper-yellow-a100: #ffff8d;
      --paper-yellow-a200: #ffff00;
      --paper-yellow-a400: #ffea00;
      --paper-yellow-a700: #ffd600;

      --paper-amber-50: #fff8e1;
      --paper-amber-100: #ffecb3;
      --paper-amber-200: #ffe082;
      --paper-amber-300: #ffd54f;
      --paper-amber-400: #ffca28;
      --paper-amber-500: #ffc107;
      --paper-amber-600: #ffb300;
      --paper-amber-700: #ffa000;
      --paper-amber-800: #ff8f00;
      --paper-amber-900: #ff6f00;
      --paper-amber-a100: #ffe57f;
      --paper-amber-a200: #ffd740;
      --paper-amber-a400: #ffc400;
      --paper-amber-a700: #ffab00;

      --paper-orange-50: #fff3e0;
      --paper-orange-100: #ffe0b2;
      --paper-orange-200: #ffcc80;
      --paper-orange-300: #ffb74d;
      --paper-orange-400: #ffa726;
      --paper-orange-500: #ff9800;
      --paper-orange-600: #fb8c00;
      --paper-orange-700: #f57c00;
      --paper-orange-800: #ef6c00;
      --paper-orange-900: #e65100;
      --paper-orange-a100: #ffd180;
      --paper-orange-a200: #ffab40;
      --paper-orange-a400: #ff9100;
      --paper-orange-a700: #ff6500;

      --paper-deep-orange-50: #fbe9e7;
      --paper-deep-orange-100: #ffccbc;
      --paper-deep-orange-200: #ffab91;
      --paper-deep-orange-300: #ff8a65;
      --paper-deep-orange-400: #ff7043;
      --paper-deep-orange-500: #ff5722;
      --paper-deep-orange-600: #f4511e;
      --paper-deep-orange-700: #e64a19;
      --paper-deep-orange-800: #d84315;
      --paper-deep-orange-900: #bf360c;
      --paper-deep-orange-a100: #ff9e80;
      --paper-deep-orange-a200: #ff6e40;
      --paper-deep-orange-a400: #ff3d00;
      --paper-deep-orange-a700: #dd2c00;

      --paper-brown-50: #efebe9;
      --paper-brown-100: #d7ccc8;
      --paper-brown-200: #bcaaa4;
      --paper-brown-300: #a1887f;
      --paper-brown-400: #8d6e63;
      --paper-brown-500: #795548;
      --paper-brown-600: #6d4c41;
      --paper-brown-700: #5d4037;
      --paper-brown-800: #4e342e;
      --paper-brown-900: #3e2723;

      --paper-grey-50: #fafafa;
      --paper-grey-100: #f5f5f5;
      --paper-grey-200: #eeeeee;
      --paper-grey-300: #e0e0e0;
      --paper-grey-400: #bdbdbd;
      --paper-grey-500: #9e9e9e;
      --paper-grey-600: #757575;
      --paper-grey-700: #616161;
      --paper-grey-800: #424242;
      --paper-grey-900: #212121;

      --paper-blue-grey-50: #eceff1;
      --paper-blue-grey-100: #cfd8dc;
      --paper-blue-grey-200: #b0bec5;
      --paper-blue-grey-300: #90a4ae;
      --paper-blue-grey-400: #78909c;
      --paper-blue-grey-500: #607d8b;
      --paper-blue-grey-600: #546e7a;
      --paper-blue-grey-700: #455a64;
      --paper-blue-grey-800: #37474f;
      --paper-blue-grey-900: #263238;

      
      --dark-divider-opacity: 0.12;
      --dark-disabled-opacity: 0.38; 
      --dark-secondary-opacity: 0.54;
      --dark-primary-opacity: 0.87;

      
      --light-divider-opacity: 0.12;
      --light-disabled-opacity: 0.3; 
      --light-secondary-opacity: 0.7;
      --light-primary-opacity: 1.0;
}

</style>
</custom-style><custom-style>
  <style is="custom-style">html {
  --primary-text-color: var(--light-theme-text-color);
      --primary-background-color: var(--light-theme-background-color);
      --secondary-text-color: var(--light-theme-secondary-color);
      --disabled-text-color: var(--light-theme-disabled-color);
      --divider-color: var(--light-theme-divider-color);
      --error-color: var(--paper-deep-orange-a700);

      
      --primary-color: var(--paper-indigo-500);
      --light-primary-color: var(--paper-indigo-100);
      --dark-primary-color: var(--paper-indigo-700);

      --accent-color: var(--paper-pink-a200);
      --light-accent-color: var(--paper-pink-a100);
      --dark-accent-color: var(--paper-pink-a400);


      
      --light-theme-background-color: #ffffff;
      --light-theme-base-color: #000000;
      --light-theme-text-color: var(--paper-grey-900);
      --light-theme-secondary-color: #737373;  
      --light-theme-disabled-color: #9b9b9b;  
      --light-theme-divider-color: #dbdbdb;

      
      --dark-theme-background-color: var(--paper-grey-900);
      --dark-theme-base-color: #ffffff;
      --dark-theme-text-color: #ffffff;
      --dark-theme-secondary-color: #bcbcbc;  
      --dark-theme-disabled-color: #646464;  
      --dark-theme-divider-color: #3c3c3c;

      
      --text-primary-color: var(--dark-theme-text-color);
      --default-primary-color: var(--primary-color);
}

</style>
</custom-style>
<custom-style>
  <style is="custom-style">html {
  --paper-input-container-shared-input-style_-_position:  relative; --paper-input-container-shared-input-style_-_outline:  none; --paper-input-container-shared-input-style_-_box-shadow:  none; --paper-input-container-shared-input-style_-_padding:  0; --paper-input-container-shared-input-style_-_margin:  0; --paper-input-container-shared-input-style_-_width:  100%; --paper-input-container-shared-input-style_-_max-width:  100%; --paper-input-container-shared-input-style_-_background:  transparent; --paper-input-container-shared-input-style_-_border:  none; --paper-input-container-shared-input-style_-_color:  var(--paper-input-container-input-color, var(--primary-text-color)); --paper-input-container-shared-input-style_-_-webkit-appearance:  none; --paper-input-container-shared-input-style_-_text-align: apply-shim-inherit; --paper-input-container-shared-input-style_-_vertical-align:  var(--paper-input-container-input-align, bottom); --paper-input-container-shared-input-style_-_font-family:  var(--paper-font-subhead_-_font-family); --paper-input-container-shared-input-style_-_-webkit-font-smoothing:  var(--paper-font-subhead_-_-webkit-font-smoothing); --paper-input-container-shared-input-style_-_font-size:  var(--paper-font-subhead_-_font-size); --paper-input-container-shared-input-style_-_font-weight:  var(--paper-font-subhead_-_font-weight); --paper-input-container-shared-input-style_-_line-height:  var(--paper-font-subhead_-_line-height);;
}

</style>
</custom-style>
<dom-module id="paper-item-shared-styles">
  <template></template>
</dom-module><iron-iconset-svg name="icons" size="24" style="display: none;">
<svg><defs>
<g id="3d-rotation"><path d="M7.52 21.48C4.25 19.94 1.91 16.76 1.55 13H.05C.56 19.16 5.71 24 12 24l.66-.03-3.81-3.81-1.33 1.32zm.89-6.52c-.19 0-.37-.03-.52-.08-.16-.06-.29-.13-.4-.24-.11-.1-.2-.22-.26-.37-.06-.14-.09-.3-.09-.47h-1.3c0 .36.07.68.21.95.14.27.33.5.56.69.24.18.51.32.82.41.3.1.62.15.96.15.37 0 .72-.05 1.03-.15.32-.1.6-.25.83-.44s.42-.43.55-.72c.13-.29.2-.61.2-.97 0-.19-.02-.38-.07-.56-.05-.18-.12-.35-.23-.51-.1-.16-.24-.3-.4-.43-.17-.13-.37-.23-.61-.31.2-.09.37-.2.52-.33.15-.13.27-.27.37-.42.1-.15.17-.3.22-.46.05-.16.07-.32.07-.48 0-.36-.06-.68-.18-.96-.12-.28-.29-.51-.51-.69-.2-.19-.47-.33-.77-.43C9.1 8.05 8.76 8 8.39 8c-.36 0-.69.05-1 .16-.3.11-.57.26-.79.45-.21.19-.38.41-.51.67-.12.26-.18.54-.18.85h1.3c0-.17.03-.32.09-.45s.14-.25.25-.34c.11-.09.23-.17.38-.22.15-.05.3-.08.48-.08.4 0 .7.1.89.31.19.2.29.49.29.86 0 .18-.03.34-.08.49-.05.15-.14.27-.25.37-.11.1-.25.18-.41.24-.16.06-.36.09-.58.09H7.5v1.03h.77c.22 0 .42.02.6.07s.33.13.45.23c.12.11.22.24.29.4.07.16.1.35.1.57 0 .41-.12.72-.35.93-.23.23-.55.33-.95.33zm8.55-5.92c-.32-.33-.7-.59-1.14-.77-.43-.18-.92-.27-1.46-.27H12v8h2.3c.55 0 1.06-.09 1.51-.27.45-.18.84-.43 1.16-.76.32-.33.57-.73.74-1.19.17-.47.26-.99.26-1.57v-.4c0-.58-.09-1.1-.26-1.57-.18-.47-.43-.87-.75-1.2zm-.39 3.16c0 .42-.05.79-.14 1.13-.1.33-.24.62-.43.85-.19.23-.43.41-.71.53-.29.12-.62.18-.99.18h-.91V9.12h.97c.72 0 1.27.23 1.64.69.38.46.57 1.12.57 1.99v.4zM12 0l-.66.03 3.81 3.81 1.33-1.33c3.27 1.55 5.61 4.72 5.96 8.48h1.5C23.44 4.84 18.29 0 12 0z"></path></g>
<g id="accessibility"><path d="M12 2c1.1 0 2 .9 2 2s-.9 2-2 2-2-.9-2-2 .9-2 2-2zm9 7h-6v13h-2v-6h-2v6H9V9H3V7h18v2z"></path></g>
<g id="accessible"><circle cx="12" cy="4" r="2"></circle><path d="M19 13v-2c-1.54.02-3.09-.75-4.07-1.83l-1.29-1.43c-.17-.19-.38-.34-.61-.45-.01 0-.01-.01-.02-.01H13c-.35-.2-.75-.3-1.19-.26C10.76 7.11 10 8.04 10 9.09V15c0 1.1.9 2 2 2h5v5h2v-5.5c0-1.1-.9-2-2-2h-3v-3.45c1.29 1.07 3.25 1.94 5 1.95zm-6.17 5c-.41 1.16-1.52 2-2.83 2-1.66 0-3-1.34-3-3 0-1.31.84-2.41 2-2.83V12.1c-2.28.46-4 2.48-4 4.9 0 2.76 2.24 5 5 5 2.42 0 4.44-1.72 4.9-4h-2.07z"></path></g>
<g id="account-balance"><path d="M4 10v7h3v-7H4zm6 0v7h3v-7h-3zM2 22h19v-3H2v3zm14-12v7h3v-7h-3zm-4.5-9L2 6v2h19V6l-9.5-5z"></path></g>
<g id="account-balance-wallet"><path d="M21 18v1c0 1.1-.9 2-2 2H5c-1.11 0-2-.9-2-2V5c0-1.1.89-2 2-2h14c1.1 0 2 .9 2 2v1h-9c-1.11 0-2 .9-2 2v8c0 1.1.89 2 2 2h9zm-9-2h10V8H12v8zm4-2.5c-.83 0-1.5-.67-1.5-1.5s.67-1.5 1.5-1.5 1.5.67 1.5 1.5-.67 1.5-1.5 1.5z"></path></g>
<g id="account-box"><path d="M3 5v14c0 1.1.89 2 2 2h14c1.1 0 2-.9 2-2V5c0-1.1-.9-2-2-2H5c-1.11 0-2 .9-2 2zm12 4c0 1.66-1.34 3-3 3s-3-1.34-3-3 1.34-3 3-3 3 1.34 3 3zm-9 8c0-2 4-3.1 6-3.1s6 1.1 6 3.1v1H6v-1z"></path></g>
<g id="account-circle"><path d="M12 2C6.48 2 2 6.48 2 12s4.48 10 10 10 10-4.48 10-10S17.52 2 12 2zm0 3c1.66 0 3 1.34 3 3s-1.34 3-3 3-3-1.34-3-3 1.34-3 3-3zm0 14.2c-2.5 0-4.71-1.28-6-3.22.03-1.99 4-3.08 6-3.08 1.99 0 5.97 1.09 6 3.08-1.29 1.94-3.5 3.22-6 3.22z"></path></g>
<g id="add"><path d="M19 13h-6v6h-2v-6H5v-2h6V5h2v6h6v2z"></path></g>
<g id="add-alert"><path d="M10.01 21.01c0 1.1.89 1.99 1.99 1.99s1.99-.89 1.99-1.99h-3.98zm8.87-4.19V11c0-3.25-2.25-5.97-5.29-6.69v-.72C13.59 2.71 12.88 2 12 2s-1.59.71-1.59 1.59v.72C7.37 5.03 5.12 7.75 5.12 11v5.82L3 18.94V20h18v-1.06l-2.12-2.12zM16 13.01h-3v3h-2v-3H8V11h3V8h2v3h3v2.01z"></path></g>
<g id="add-box"><path d="M19 3H5c-1.11 0-2 .9-2 2v14c0 1.1.89 2 2 2h14c1.1 0 2-.9 2-2V5c0-1.1-.9-2-2-2zm-2 10h-4v4h-2v-4H7v-2h4V7h2v4h4v2z"></path></g>
<g id="add-circle"><path d="M12 2C6.48 2 2 6.48 2 12s4.48 10 10 10 10-4.48 10-10S17.52 2 12 2zm5 11h-4v4h-2v-4H7v-2h4V7h2v4h4v2z"></path></g>
<g id="add-circle-outline"><path d="M13 7h-2v4H7v2h4v4h2v-4h4v-2h-4V7zm-1-5C6.48 2 2 6.48 2 12s4.48 10 10 10 10-4.48 10-10S17.52 2 12 2zm0 18c-4.41 0-8-3.59-8-8s3.59-8 8-8 8 3.59 8 8-3.59 8-8 8z"></path></g>
<g id="add-shopping-cart"><path d="M11 9h2V6h3V4h-3V1h-2v3H8v2h3v3zm-4 9c-1.1 0-1.99.9-1.99 2S5.9 22 7 22s2-.9 2-2-.9-2-2-2zm10 0c-1.1 0-1.99.9-1.99 2s.89 2 1.99 2 2-.9 2-2-.9-2-2-2zm-9.83-3.25l.03-.12.9-1.63h7.45c.75 0 1.41-.41 1.75-1.03l3.86-7.01L19.42 4h-.01l-1.1 2-2.76 5H8.53l-.13-.27L6.16 6l-.95-2-.94-2H1v2h2l3.6 7.59-1.35 2.45c-.16.28-.25.61-.25.96 0 1.1.9 2 2 2h12v-2H7.42c-.13 0-.25-.11-.25-.25z"></path></g>
<g id="alarm"><path d="M22 5.72l-4.6-3.86-1.29 1.53 4.6 3.86L22 5.72zM7.88 3.39L6.6 1.86 2 5.71l1.29 1.53 4.59-3.85zM12.5 8H11v6l4.75 2.85.75-1.23-4-2.37V8zM12 4c-4.97 0-9 4.03-9 9s4.02 9 9 9c4.97 0 9-4.03 9-9s-4.03-9-9-9zm0 16c-3.87 0-7-3.13-7-7s3.13-7 7-7 7 3.13 7 7-3.13 7-7 7z"></path></g>
<g id="alarm-add"><path d="M7.88 3.39L6.6 1.86 2 5.71l1.29 1.53 4.59-3.85zM22 5.72l-4.6-3.86-1.29 1.53 4.6 3.86L22 5.72zM12 4c-4.97 0-9 4.03-9 9s4.02 9 9 9c4.97 0 9-4.03 9-9s-4.03-9-9-9zm0 16c-3.87 0-7-3.13-7-7s3.13-7 7-7 7 3.13 7 7-3.13 7-7 7zm1-11h-2v3H8v2h3v3h2v-3h3v-2h-3V9z"></path></g>
<g id="alarm-off"><path d="M12 6c3.87 0 7 3.13 7 7 0 .84-.16 1.65-.43 2.4l1.52 1.52c.58-1.19.91-2.51.91-3.92 0-4.97-4.03-9-9-9-1.41 0-2.73.33-3.92.91L9.6 6.43C10.35 6.16 11.16 6 12 6zm10-.28l-4.6-3.86-1.29 1.53 4.6 3.86L22 5.72zM2.92 2.29L1.65 3.57 2.98 4.9l-1.11.93 1.42 1.42 1.11-.94.8.8C3.83 8.69 3 10.75 3 13c0 4.97 4.02 9 9 9 2.25 0 4.31-.83 5.89-2.2l2.2 2.2 1.27-1.27L3.89 3.27l-.97-.98zm13.55 16.1C15.26 19.39 13.7 20 12 20c-3.87 0-7-3.13-7-7 0-1.7.61-3.26 1.61-4.47l9.86 9.86zM8.02 3.28L6.6 1.86l-.86.71 1.42 1.42.86-.71z"></path></g>
<g id="alarm-on"><path d="M22 5.72l-4.6-3.86-1.29 1.53 4.6 3.86L22 5.72zM7.88 3.39L6.6 1.86 2 5.71l1.29 1.53 4.59-3.85zM12 4c-4.97 0-9 4.03-9 9s4.02 9 9 9c4.97 0 9-4.03 9-9s-4.03-9-9-9zm0 16c-3.87 0-7-3.13-7-7s3.13-7 7-7 7 3.13 7 7-3.13 7-7 7zm-1.46-5.47L8.41 12.4l-1.06 1.06 3.18 3.18 6-6-1.06-1.06-4.93 4.95z"></path></g>
<g id="all-out"><path d="M16.21 4.16l4 4v-4zm4 12l-4 4h4zm-12 4l-4-4v4zm-4-12l4-4h-4zm12.95-.95c-2.73-2.73-7.17-2.73-9.9 0s-2.73 7.17 0 9.9 7.17 2.73 9.9 0 2.73-7.16 0-9.9zm-1.1 8.8c-2.13 2.13-5.57 2.13-7.7 0s-2.13-5.57 0-7.7 5.57-2.13 7.7 0 2.13 5.57 0 7.7z"></path></g>
<g id="android"><path d="M6 18c0 .55.45 1 1 1h1v3.5c0 .83.67 1.5 1.5 1.5s1.5-.67 1.5-1.5V19h2v3.5c0 .83.67 1.5 1.5 1.5s1.5-.67 1.5-1.5V19h1c.55 0 1-.45 1-1V8H6v10zM3.5 8C2.67 8 2 8.67 2 9.5v7c0 .83.67 1.5 1.5 1.5S5 17.33 5 16.5v-7C5 8.67 4.33 8 3.5 8zm17 0c-.83 0-1.5.67-1.5 1.5v7c0 .83.67 1.5 1.5 1.5s1.5-.67 1.5-1.5v-7c0-.83-.67-1.5-1.5-1.5zm-4.97-5.84l1.3-1.3c.2-.2.2-.51 0-.71-.2-.2-.51-.2-.71 0l-1.48 1.48C13.85 1.23 12.95 1 12 1c-.96 0-1.86.23-2.66.63L7.85.15c-.2-.2-.51-.2-.71 0-.2.2-.2.51 0 .71l1.31 1.31C6.97 3.26 6 5.01 6 7h12c0-1.99-.97-3.75-2.47-4.84zM10 5H9V4h1v1zm5 0h-1V4h1v1z"></path></g>
<g id="announcement"><path d="M20 2H4c-1.1 0-1.99.9-1.99 2L2 22l4-4h14c1.1 0 2-.9 2-2V4c0-1.1-.9-2-2-2zm-7 9h-2V5h2v6zm0 4h-2v-2h2v2z"></path></g>
<g id="apps"><path d="M4 8h4V4H4v4zm6 12h4v-4h-4v4zm-6 0h4v-4H4v4zm0-6h4v-4H4v4zm6 0h4v-4h-4v4zm6-10v4h4V4h-4zm-6 4h4V4h-4v4zm6 6h4v-4h-4v4zm0 6h4v-4h-4v4z"></path></g>
<g id="archive"><path d="M20.54 5.23l-1.39-1.68C18.88 3.21 18.47 3 18 3H6c-.47 0-.88.21-1.16.55L3.46 5.23C3.17 5.57 3 6.02 3 6.5V19c0 1.1.9 2 2 2h14c1.1 0 2-.9 2-2V6.5c0-.48-.17-.93-.46-1.27zM12 17.5L6.5 12H10v-2h4v2h3.5L12 17.5zM5.12 5l.81-1h12l.94 1H5.12z"></path></g>
<g id="arrow-back"><path d="M20 11H7.83l5.59-5.59L12 4l-8 8 8 8 1.41-1.41L7.83 13H20v-2z"></path></g>
<g id="arrow-downward"><path d="M20 12l-1.41-1.41L13 16.17V4h-2v12.17l-5.58-5.59L4 12l8 8 8-8z"></path></g>
<g id="arrow-drop-down"><path d="M7 10l5 5 5-5z"></path></g>
<g id="arrow-drop-down-circle"><path d="M12 2C6.48 2 2 6.48 2 12s4.48 10 10 10 10-4.48 10-10S17.52 2 12 2zm0 12l-4-4h8l-4 4z"></path></g>
<g id="arrow-drop-up"><path d="M7 14l5-5 5 5z"></path></g>
<g id="arrow-forward"><path d="M12 4l-1.41 1.41L16.17 11H4v2h12.17l-5.58 5.59L12 20l8-8z"></path></g>
<g id="arrow-upward"><path d="M4 12l1.41 1.41L11 7.83V20h2V7.83l5.58 5.59L20 12l-8-8-8 8z"></path></g>
<g id="aspect-ratio"><path d="M19 12h-2v3h-3v2h5v-5zM7 9h3V7H5v5h2V9zm14-6H3c-1.1 0-2 .9-2 2v14c0 1.1.9 2 2 2h18c1.1 0 2-.9 2-2V5c0-1.1-.9-2-2-2zm0 16.01H3V4.99h18v14.02z"></path></g>
<g id="assessment"><path d="M19 3H5c-1.1 0-2 .9-2 2v14c0 1.1.9 2 2 2h14c1.1 0 2-.9 2-2V5c0-1.1-.9-2-2-2zM9 17H7v-7h2v7zm4 0h-2V7h2v10zm4 0h-2v-4h2v4z"></path></g>
<g id="assignment"><path d="M19 3h-4.18C14.4 1.84 13.3 1 12 1c-1.3 0-2.4.84-2.82 2H5c-1.1 0-2 .9-2 2v14c0 1.1.9 2 2 2h14c1.1 0 2-.9 2-2V5c0-1.1-.9-2-2-2zm-7 0c.55 0 1 .45 1 1s-.45 1-1 1-1-.45-1-1 .45-1 1-1zm2 14H7v-2h7v2zm3-4H7v-2h10v2zm0-4H7V7h10v2z"></path></g>
<g id="assignment-ind"><path d="M19 3h-4.18C14.4 1.84 13.3 1 12 1c-1.3 0-2.4.84-2.82 2H5c-1.1 0-2 .9-2 2v14c0 1.1.9 2 2 2h14c1.1 0 2-.9 2-2V5c0-1.1-.9-2-2-2zm-7 0c.55 0 1 .45 1 1s-.45 1-1 1-1-.45-1-1 .45-1 1-1zm0 4c1.66 0 3 1.34 3 3s-1.34 3-3 3-3-1.34-3-3 1.34-3 3-3zm6 12H6v-1.4c0-2 4-3.1 6-3.1s6 1.1 6 3.1V19z"></path></g>
<g id="assignment-late"><path d="M19 3h-4.18C14.4 1.84 13.3 1 12 1c-1.3 0-2.4.84-2.82 2H5c-1.1 0-2 .9-2 2v14c0 1.1.9 2 2 2h14c1.1 0 2-.9 2-2V5c0-1.1-.9-2-2-2zm-6 15h-2v-2h2v2zm0-4h-2V8h2v6zm-1-9c-.55 0-1-.45-1-1s.45-1 1-1 1 .45 1 1-.45 1-1 1z"></path></g>
<g id="assignment-return"><path d="M19 3h-4.18C14.4 1.84 13.3 1 12 1c-1.3 0-2.4.84-2.82 2H5c-1.1 0-2 .9-2 2v14c0 1.1.9 2 2 2h14c1.1 0 2-.9 2-2V5c0-1.1-.9-2-2-2zm-7 0c.55 0 1 .45 1 1s-.45 1-1 1-1-.45-1-1 .45-1 1-1zm4 12h-4v3l-5-5 5-5v3h4v4z"></path></g>
<g id="assignment-returned"><path d="M19 3h-4.18C14.4 1.84 13.3 1 12 1c-1.3 0-2.4.84-2.82 2H5c-1.1 0-2 .9-2 2v14c0 1.1.9 2 2 2h14c1.1 0 2-.9 2-2V5c0-1.1-.9-2-2-2zm-7 0c.55 0 1 .45 1 1s-.45 1-1 1-1-.45-1-1 .45-1 1-1zm0 15l-5-5h3V9h4v4h3l-5 5z"></path></g>
<g id="assignment-turned-in"><path d="M19 3h-4.18C14.4 1.84 13.3 1 12 1c-1.3 0-2.4.84-2.82 2H5c-1.1 0-2 .9-2 2v14c0 1.1.9 2 2 2h14c1.1 0 2-.9 2-2V5c0-1.1-.9-2-2-2zm-7 0c.55 0 1 .45 1 1s-.45 1-1 1-1-.45-1-1 .45-1 1-1zm-2 14l-4-4 1.41-1.41L10 14.17l6.59-6.59L18 9l-8 8z"></path></g>
<g id="attachment"><path d="M2 12.5C2 9.46 4.46 7 7.5 7H18c2.21 0 4 1.79 4 4s-1.79 4-4 4H9.5C8.12 15 7 13.88 7 12.5S8.12 10 9.5 10H17v2H9.41c-.55 0-.55 1 0 1H18c1.1 0 2-.9 2-2s-.9-2-2-2H7.5C5.57 9 4 10.57 4 12.5S5.57 16 7.5 16H17v2H7.5C4.46 18 2 15.54 2 12.5z"></path></g>
<g id="autorenew"><path d="M12 6v3l4-4-4-4v3c-4.42 0-8 3.58-8 8 0 1.57.46 3.03 1.24 4.26L6.7 14.8c-.45-.83-.7-1.79-.7-2.8 0-3.31 2.69-6 6-6zm6.76 1.74L17.3 9.2c.44.84.7 1.79.7 2.8 0 3.31-2.69 6-6 6v-3l-4 4 4 4v-3c4.42 0 8-3.58 8-8 0-1.57-.46-3.03-1.24-4.26z"></path></g>
<g id="backspace"><path d="M22 3H7c-.69 0-1.23.35-1.59.88L0 12l5.41 8.11c.36.53.9.89 1.59.89h15c1.1 0 2-.9 2-2V5c0-1.1-.9-2-2-2zm-3 12.59L17.59 17 14 13.41 10.41 17 9 15.59 12.59 12 9 8.41 10.41 7 14 10.59 17.59 7 19 8.41 15.41 12 19 15.59z"></path></g>
<g id="backup"><path d="M19.35 10.04C18.67 6.59 15.64 4 12 4 9.11 4 6.6 5.64 5.35 8.04 2.34 8.36 0 10.91 0 14c0 3.31 2.69 6 6 6h13c2.76 0 5-2.24 5-5 0-2.64-2.05-4.78-4.65-4.96zM14 13v4h-4v-4H7l5-5 5 5h-3z"></path></g>
<g id="block"><path d="M12 2C6.48 2 2 6.48 2 12s4.48 10 10 10 10-4.48 10-10S17.52 2 12 2zM4 12c0-4.42 3.58-8 8-8 1.85 0 3.55.63 4.9 1.69L5.69 16.9C4.63 15.55 4 13.85 4 12zm8 8c-1.85 0-3.55-.63-4.9-1.69L18.31 7.1C19.37 8.45 20 10.15 20 12c0 4.42-3.58 8-8 8z"></path></g>
<g id="book"><path d="M18 2H6c-1.1 0-2 .9-2 2v16c0 1.1.9 2 2 2h12c1.1 0 2-.9 2-2V4c0-1.1-.9-2-2-2zM6 4h5v8l-2.5-1.5L6 12V4z"></path></g>
<g id="bookmark"><path d="M17 3H7c-1.1 0-1.99.9-1.99 2L5 21l7-3 7 3V5c0-1.1-.9-2-2-2z"></path></g>
<g id="bookmark-border"><path d="M17 3H7c-1.1 0-1.99.9-1.99 2L5 21l7-3 7 3V5c0-1.1-.9-2-2-2zm0 15l-5-2.18L7 18V5h10v13z"></path></g>
<g id="bug-report"><path d="M20 8h-2.81c-.45-.78-1.07-1.45-1.82-1.96L17 4.41 15.59 3l-2.17 2.17C12.96 5.06 12.49 5 12 5c-.49 0-.96.06-1.41.17L8.41 3 7 4.41l1.62 1.63C7.88 6.55 7.26 7.22 6.81 8H4v2h2.09c-.05.33-.09.66-.09 1v1H4v2h2v1c0 .34.04.67.09 1H4v2h2.81c1.04 1.79 2.97 3 5.19 3s4.15-1.21 5.19-3H20v-2h-2.09c.05-.33.09-.66.09-1v-1h2v-2h-2v-1c0-.34-.04-.67-.09-1H20V8zm-6 8h-4v-2h4v2zm0-4h-4v-2h4v2z"></path></g>
<g id="build"><path d="M22.7 19l-9.1-9.1c.9-2.3.4-5-1.5-6.9-2-2-5-2.4-7.4-1.3L9 6 6 9 1.6 4.7C.4 7.1.9 10.1 2.9 12.1c1.9 1.9 4.6 2.4 6.9 1.5l9.1 9.1c.4.4 1 .4 1.4 0l2.3-2.3c.5-.4.5-1.1.1-1.4z"></path></g>
<g id="cached"><path d="M19 8l-4 4h3c0 3.31-2.69 6-6 6-1.01 0-1.97-.25-2.8-.7l-1.46 1.46C8.97 19.54 10.43 20 12 20c4.42 0 8-3.58 8-8h3l-4-4zM6 12c0-3.31 2.69-6 6-6 1.01 0 1.97.25 2.8.7l1.46-1.46C15.03 4.46 13.57 4 12 4c-4.42 0-8 3.58-8 8H1l4 4 4-4H6z"></path></g>
<g id="camera-enhance"><path d="M9 3L7.17 5H4c-1.1 0-2 .9-2 2v12c0 1.1.9 2 2 2h16c1.1 0 2-.9 2-2V7c0-1.1-.9-2-2-2h-3.17L15 3H9zm3 15c-2.76 0-5-2.24-5-5s2.24-5 5-5 5 2.24 5 5-2.24 5-5 5zm0-1l1.25-2.75L16 13l-2.75-1.25L12 9l-1.25 2.75L8 13l2.75 1.25z"></path></g>
<g id="cancel"><path d="M12 2C6.47 2 2 6.47 2 12s4.47 10 10 10 10-4.47 10-10S17.53 2 12 2zm5 13.59L15.59 17 12 13.41 8.41 17 7 15.59 10.59 12 7 8.41 8.41 7 12 10.59 15.59 7 17 8.41 13.41 12 17 15.59z"></path></g>
<g id="card-giftcard"><path d="M20 6h-2.18c.11-.31.18-.65.18-1 0-1.66-1.34-3-3-3-1.05 0-1.96.54-2.5 1.35l-.5.67-.5-.68C10.96 2.54 10.05 2 9 2 7.34 2 6 3.34 6 5c0 .35.07.69.18 1H4c-1.11 0-1.99.89-1.99 2L2 19c0 1.11.89 2 2 2h16c1.11 0 2-.89 2-2V8c0-1.11-.89-2-2-2zm-5-2c.55 0 1 .45 1 1s-.45 1-1 1-1-.45-1-1 .45-1 1-1zM9 4c.55 0 1 .45 1 1s-.45 1-1 1-1-.45-1-1 .45-1 1-1zm11 15H4v-2h16v2zm0-5H4V8h5.08L7 10.83 8.62 12 11 8.76l1-1.36 1 1.36L15.38 12 17 10.83 14.92 8H20v6z"></path></g>
<g id="card-membership"><path d="M20 2H4c-1.11 0-2 .89-2 2v11c0 1.11.89 2 2 2h4v5l4-2 4 2v-5h4c1.11 0 2-.89 2-2V4c0-1.11-.89-2-2-2zm0 13H4v-2h16v2zm0-5H4V4h16v6z"></path></g>
<g id="card-travel"><path d="M20 6h-3V4c0-1.11-.89-2-2-2H9c-1.11 0-2 .89-2 2v2H4c-1.11 0-2 .89-2 2v11c0 1.11.89 2 2 2h16c1.11 0 2-.89 2-2V8c0-1.11-.89-2-2-2zM9 4h6v2H9V4zm11 15H4v-2h16v2zm0-5H4V8h3v2h2V8h6v2h2V8h3v6z"></path></g>
<g id="change-history"><path d="M12 7.77L18.39 18H5.61L12 7.77M12 4L2 20h20L12 4z"></path></g>
<g id="check"><path d="M9 16.17L4.83 12l-1.42 1.41L9 19 21 7l-1.41-1.41z"></path></g>
<g id="check-box"><path d="M19 3H5c-1.11 0-2 .9-2 2v14c0 1.1.89 2 2 2h14c1.11 0 2-.9 2-2V5c0-1.1-.89-2-2-2zm-9 14l-5-5 1.41-1.41L10 14.17l7.59-7.59L19 8l-9 9z"></path></g>
<g id="check-box-outline-blank"><path d="M19 5v14H5V5h14m0-2H5c-1.1 0-2 .9-2 2v14c0 1.1.9 2 2 2h14c1.1 0 2-.9 2-2V5c0-1.1-.9-2-2-2z"></path></g>
<g id="check-circle"><path d="M12 2C6.48 2 2 6.48 2 12s4.48 10 10 10 10-4.48 10-10S17.52 2 12 2zm-2 15l-5-5 1.41-1.41L10 14.17l7.59-7.59L19 8l-9 9z"></path></g>
<g id="chevron-left"><path d="M15.41 7.41L14 6l-6 6 6 6 1.41-1.41L10.83 12z"></path></g>
<g id="chevron-right"><path d="M10 6L8.59 7.41 13.17 12l-4.58 4.59L10 18l6-6z"></path></g>
<g id="chrome-reader-mode"><path d="M13 12h7v1.5h-7zm0-2.5h7V11h-7zm0 5h7V16h-7zM21 4H3c-1.1 0-2 .9-2 2v13c0 1.1.9 2 2 2h18c1.1 0 2-.9 2-2V6c0-1.1-.9-2-2-2zm0 15h-9V6h9v13z"></path></g>
<g id="class"><path d="M18 2H6c-1.1 0-2 .9-2 2v16c0 1.1.9 2 2 2h12c1.1 0 2-.9 2-2V4c0-1.1-.9-2-2-2zM6 4h5v8l-2.5-1.5L6 12V4z"></path></g>
<g id="clear"><path d="M19 6.41L17.59 5 12 10.59 6.41 5 5 6.41 10.59 12 5 17.59 6.41 19 12 13.41 17.59 19 19 17.59 13.41 12z"></path></g>
<g id="close"><path d="M19 6.41L17.59 5 12 10.59 6.41 5 5 6.41 10.59 12 5 17.59 6.41 19 12 13.41 17.59 19 19 17.59 13.41 12z"></path></g>
<g id="cloud"><path d="M19.35 10.04C18.67 6.59 15.64 4 12 4 9.11 4 6.6 5.64 5.35 8.04 2.34 8.36 0 10.91 0 14c0 3.31 2.69 6 6 6h13c2.76 0 5-2.24 5-5 0-2.64-2.05-4.78-4.65-4.96z"></path></g>
<g id="cloud-circle"><path d="M12 2C6.48 2 2 6.48 2 12s4.48 10 10 10 10-4.48 10-10S17.52 2 12 2zm4.5 14H8c-1.66 0-3-1.34-3-3s1.34-3 3-3l.14.01C8.58 8.28 10.13 7 12 7c2.21 0 4 1.79 4 4h.5c1.38 0 2.5 1.12 2.5 2.5S17.88 16 16.5 16z"></path></g>
<g id="cloud-done"><path d="M19.35 10.04C18.67 6.59 15.64 4 12 4 9.11 4 6.6 5.64 5.35 8.04 2.34 8.36 0 10.91 0 14c0 3.31 2.69 6 6 6h13c2.76 0 5-2.24 5-5 0-2.64-2.05-4.78-4.65-4.96zM10 17l-3.5-3.5 1.41-1.41L10 14.17 15.18 9l1.41 1.41L10 17z"></path></g>
<g id="cloud-download"><path d="M19.35 10.04C18.67 6.59 15.64 4 12 4 9.11 4 6.6 5.64 5.35 8.04 2.34 8.36 0 10.91 0 14c0 3.31 2.69 6 6 6h13c2.76 0 5-2.24 5-5 0-2.64-2.05-4.78-4.65-4.96zM17 13l-5 5-5-5h3V9h4v4h3z"></path></g>
<g id="cloud-off"><path d="M19.35 10.04C18.67 6.59 15.64 4 12 4c-1.48 0-2.85.43-4.01 1.17l1.46 1.46C10.21 6.23 11.08 6 12 6c3.04 0 5.5 2.46 5.5 5.5v.5H19c1.66 0 3 1.34 3 3 0 1.13-.64 2.11-1.56 2.62l1.45 1.45C23.16 18.16 24 16.68 24 15c0-2.64-2.05-4.78-4.65-4.96zM3 5.27l2.75 2.74C2.56 8.15 0 10.77 0 14c0 3.31 2.69 6 6 6h11.73l2 2L21 20.73 4.27 4 3 5.27zM7.73 10l8 8H6c-2.21 0-4-1.79-4-4s1.79-4 4-4h1.73z"></path></g>
<g id="cloud-queue"><path d="M19.35 10.04C18.67 6.59 15.64 4 12 4 9.11 4 6.6 5.64 5.35 8.04 2.34 8.36 0 10.91 0 14c0 3.31 2.69 6 6 6h13c2.76 0 5-2.24 5-5 0-2.64-2.05-4.78-4.65-4.96zM19 18H6c-2.21 0-4-1.79-4-4s1.79-4 4-4h.71C7.37 7.69 9.48 6 12 6c3.04 0 5.5 2.46 5.5 5.5v.5H19c1.66 0 3 1.34 3 3s-1.34 3-3 3z"></path></g>
<g id="cloud-upload"><path d="M19.35 10.04C18.67 6.59 15.64 4 12 4 9.11 4 6.6 5.64 5.35 8.04 2.34 8.36 0 10.91 0 14c0 3.31 2.69 6 6 6h13c2.76 0 5-2.24 5-5 0-2.64-2.05-4.78-4.65-4.96zM14 13v4h-4v-4H7l5-5 5 5h-3z"></path></g>
<g id="code"><path d="M9.4 16.6L4.8 12l4.6-4.6L8 6l-6 6 6 6 1.4-1.4zm5.2 0l4.6-4.6-4.6-4.6L16 6l6 6-6 6-1.4-1.4z"></path></g>
<g id="compare-arrows"><path d="M9.01 14H2v2h7.01v3L13 15l-3.99-4v3zm5.98-1v-3H22V8h-7.01V5L11 9l3.99 4z"></path></g>
<g id="content-copy"><path d="M16 1H4c-1.1 0-2 .9-2 2v14h2V3h12V1zm3 4H8c-1.1 0-2 .9-2 2v14c0 1.1.9 2 2 2h11c1.1 0 2-.9 2-2V7c0-1.1-.9-2-2-2zm0 16H8V7h11v14z"></path></g>
<g id="content-cut"><path d="M9.64 7.64c.23-.5.36-1.05.36-1.64 0-2.21-1.79-4-4-4S2 3.79 2 6s1.79 4 4 4c.59 0 1.14-.13 1.64-.36L10 12l-2.36 2.36C7.14 14.13 6.59 14 6 14c-2.21 0-4 1.79-4 4s1.79 4 4 4 4-1.79 4-4c0-.59-.13-1.14-.36-1.64L12 14l7 7h3v-1L9.64 7.64zM6 8c-1.1 0-2-.89-2-2s.9-2 2-2 2 .89 2 2-.9 2-2 2zm0 12c-1.1 0-2-.89-2-2s.9-2 2-2 2 .89 2 2-.9 2-2 2zm6-7.5c-.28 0-.5-.22-.5-.5s.22-.5.5-.5.5.22.5.5-.22.5-.5.5zM19 3l-6 6 2 2 7-7V3z"></path></g>
<g id="content-paste"><path d="M19 2h-4.18C14.4.84 13.3 0 12 0c-1.3 0-2.4.84-2.82 2H5c-1.1 0-2 .9-2 2v16c0 1.1.9 2 2 2h14c1.1 0 2-.9 2-2V4c0-1.1-.9-2-2-2zm-7 0c.55 0 1 .45 1 1s-.45 1-1 1-1-.45-1-1 .45-1 1-1zm7 18H5V4h2v3h10V4h2v16z"></path></g>
<g id="copyright"><path d="M10.08 10.86c.05-.33.16-.62.3-.87s.34-.46.59-.62c.24-.15.54-.22.91-.23.23.01.44.05.63.13.2.09.38.21.52.36s.25.33.34.53.13.42.14.64h1.79c-.02-.47-.11-.9-.28-1.29s-.4-.73-.7-1.01-.66-.5-1.08-.66-.88-.23-1.39-.23c-.65 0-1.22.11-1.7.34s-.88.53-1.2.92-.56.84-.71 1.36S8 11.29 8 11.87v.27c0 .58.08 1.12.23 1.64s.39.97.71 1.35.72.69 1.2.91 1.05.34 1.7.34c.47 0 .91-.08 1.32-.23s.77-.36 1.08-.63.56-.58.74-.94.29-.74.3-1.15h-1.79c-.01.21-.06.4-.15.58s-.21.33-.36.46-.32.23-.52.3c-.19.07-.39.09-.6.1-.36-.01-.66-.08-.89-.23-.25-.16-.45-.37-.59-.62s-.25-.55-.3-.88-.08-.67-.08-1v-.27c0-.35.03-.68.08-1.01zM12 2C6.48 2 2 6.48 2 12s4.48 10 10 10 10-4.48 10-10S17.52 2 12 2zm0 18c-4.41 0-8-3.59-8-8s3.59-8 8-8 8 3.59 8 8-3.59 8-8 8z"></path></g>
<g id="create"><path d="M3 17.25V21h3.75L17.81 9.94l-3.75-3.75L3 17.25zM20.71 7.04c.39-.39.39-1.02 0-1.41l-2.34-2.34c-.39-.39-1.02-.39-1.41 0l-1.83 1.83 3.75 3.75 1.83-1.83z"></path></g>
<g id="create-new-folder"><path d="M20 6h-8l-2-2H4c-1.11 0-1.99.89-1.99 2L2 18c0 1.11.89 2 2 2h16c1.11 0 2-.89 2-2V8c0-1.11-.89-2-2-2zm-1 8h-3v3h-2v-3h-3v-2h3V9h2v3h3v2z"></path></g>
<g id="credit-card"><path d="M20 4H4c-1.11 0-1.99.89-1.99 2L2 18c0 1.11.89 2 2 2h16c1.11 0 2-.89 2-2V6c0-1.11-.89-2-2-2zm0 14H4v-6h16v6zm0-10H4V6h16v2z"></path></g>
<g id="dashboard"><path d="M3 13h8V3H3v10zm0 8h8v-6H3v6zm10 0h8V11h-8v10zm0-18v6h8V3h-8z"></path></g>
<g id="date-range"><path d="M9 11H7v2h2v-2zm4 0h-2v2h2v-2zm4 0h-2v2h2v-2zm2-7h-1V2h-2v2H8V2H6v2H5c-1.11 0-1.99.9-1.99 2L3 20c0 1.1.89 2 2 2h14c1.1 0 2-.9 2-2V6c0-1.1-.9-2-2-2zm0 16H5V9h14v11z"></path></g>
<g id="delete"><path d="M6 19c0 1.1.9 2 2 2h8c1.1 0 2-.9 2-2V7H6v12zM19 4h-3.5l-1-1h-5l-1 1H5v2h14V4z"></path></g>
<g id="delete-forever"><path d="M6 19c0 1.1.9 2 2 2h8c1.1 0 2-.9 2-2V7H6v12zm2.46-7.12l1.41-1.41L12 12.59l2.12-2.12 1.41 1.41L13.41 14l2.12 2.12-1.41 1.41L12 15.41l-2.12 2.12-1.41-1.41L10.59 14l-2.13-2.12zM15.5 4l-1-1h-5l-1 1H5v2h14V4z"></path></g>
<g id="delete-sweep"><path d="M15 16h4v2h-4zm0-8h7v2h-7zm0 4h6v2h-6zM3 18c0 1.1.9 2 2 2h6c1.1 0 2-.9 2-2V8H3v10zM14 5h-3l-1-1H6L5 5H2v2h12z"></path></g>
<g id="description"><path d="M14 2H6c-1.1 0-1.99.9-1.99 2L4 20c0 1.1.89 2 1.99 2H18c1.1 0 2-.9 2-2V8l-6-6zm2 16H8v-2h8v2zm0-4H8v-2h8v2zm-3-5V3.5L18.5 9H13z"></path></g>
<g id="dns"><path d="M20 13H4c-.55 0-1 .45-1 1v6c0 .55.45 1 1 1h16c.55 0 1-.45 1-1v-6c0-.55-.45-1-1-1zM7 19c-1.1 0-2-.9-2-2s.9-2 2-2 2 .9 2 2-.9 2-2 2zM20 3H4c-.55 0-1 .45-1 1v6c0 .55.45 1 1 1h16c.55 0 1-.45 1-1V4c0-.55-.45-1-1-1zM7 9c-1.1 0-2-.9-2-2s.9-2 2-2 2 .9 2 2-.9 2-2 2z"></path></g>
<g id="done"><path d="M9 16.2L4.8 12l-1.4 1.4L9 19 21 7l-1.4-1.4L9 16.2z"></path></g>
<g id="done-all"><path d="M18 7l-1.41-1.41-6.34 6.34 1.41 1.41L18 7zm4.24-1.41L11.66 16.17 7.48 12l-1.41 1.41L11.66 19l12-12-1.42-1.41zM.41 13.41L6 19l1.41-1.41L1.83 12 .41 13.41z"></path></g>
<g id="donut-large"><path d="M11 5.08V2c-5 .5-9 4.81-9 10s4 9.5 9 10v-3.08c-3-.48-6-3.4-6-6.92s3-6.44 6-6.92zM18.97 11H22c-.47-5-4-8.53-9-9v3.08C16 5.51 18.54 8 18.97 11zM13 18.92V22c5-.47 8.53-4 9-9h-3.03c-.43 3-2.97 5.49-5.97 5.92z"></path></g>
<g id="donut-small"><path d="M11 9.16V2c-5 .5-9 4.79-9 10s4 9.5 9 10v-7.16c-1-.41-2-1.52-2-2.84s1-2.43 2-2.84zM14.86 11H22c-.48-4.75-4-8.53-9-9v7.16c1 .3 1.52.98 1.86 1.84zM13 14.84V22c5-.47 8.52-4.25 9-9h-7.14c-.34.86-.86 1.54-1.86 1.84z"></path></g>
<g id="drafts"><path d="M21.99 8c0-.72-.37-1.35-.94-1.7L12 1 2.95 6.3C2.38 6.65 2 7.28 2 8v10c0 1.1.9 2 2 2h16c1.1 0 2-.9 2-2l-.01-10zM12 13L3.74 7.84 12 3l8.26 4.84L12 13z"></path></g>
<g id="eject"><path d="M5 17h14v2H5zm7-12L5.33 15h13.34z"></path></g>
<g id="error"><path d="M12 2C6.48 2 2 6.48 2 12s4.48 10 10 10 10-4.48 10-10S17.52 2 12 2zm1 15h-2v-2h2v2zm0-4h-2V7h2v6z"></path></g>
<g id="error-outline"><path d="M11 15h2v2h-2zm0-8h2v6h-2zm.99-5C6.47 2 2 6.48 2 12s4.47 10 9.99 10C17.52 22 22 17.52 22 12S17.52 2 11.99 2zM12 20c-4.42 0-8-3.58-8-8s3.58-8 8-8 8 3.58 8 8-3.58 8-8 8z"></path></g>
<g id="euro-symbol"><path d="M15 18.5c-2.51 0-4.68-1.42-5.76-3.5H15v-2H8.58c-.05-.33-.08-.66-.08-1s.03-.67.08-1H15V9H9.24C10.32 6.92 12.5 5.5 15 5.5c1.61 0 3.09.59 4.23 1.57L21 5.3C19.41 3.87 17.3 3 15 3c-3.92 0-7.24 2.51-8.48 6H3v2h3.06c-.04.33-.06.66-.06 1 0 .34.02.67.06 1H3v2h3.52c1.24 3.49 4.56 6 8.48 6 2.31 0 4.41-.87 6-2.3l-1.78-1.77c-1.13.98-2.6 1.57-4.22 1.57z"></path></g>
<g id="event"><path d="M17 12h-5v5h5v-5zM16 1v2H8V1H6v2H5c-1.11 0-1.99.9-1.99 2L3 19c0 1.1.89 2 2 2h14c1.1 0 2-.9 2-2V5c0-1.1-.9-2-2-2h-1V1h-2zm3 18H5V8h14v11z"></path></g>
<g id="event-seat"><path d="M4 18v3h3v-3h10v3h3v-6H4zm15-8h3v3h-3zM2 10h3v3H2zm15 3H7V5c0-1.1.9-2 2-2h6c1.1 0 2 .9 2 2v8z"></path></g>
<g id="exit-to-app"><path d="M10.09 15.59L11.5 17l5-5-5-5-1.41 1.41L12.67 11H3v2h9.67l-2.58 2.59zM19 3H5c-1.11 0-2 .9-2 2v4h2V5h14v14H5v-4H3v4c0 1.1.89 2 2 2h14c1.1 0 2-.9 2-2V5c0-1.1-.9-2-2-2z"></path></g>
<g id="expand-less"><path d="M12 8l-6 6 1.41 1.41L12 10.83l4.59 4.58L18 14z"></path></g>
<g id="expand-more"><path d="M16.59 8.59L12 13.17 7.41 8.59 6 10l6 6 6-6z"></path></g>
<g id="explore"><path d="M12 10.9c-.61 0-1.1.49-1.1 1.1s.49 1.1 1.1 1.1c.61 0 1.1-.49 1.1-1.1s-.49-1.1-1.1-1.1zM12 2C6.48 2 2 6.48 2 12s4.48 10 10 10 10-4.48 10-10S17.52 2 12 2zm2.19 12.19L6 18l3.81-8.19L18 6l-3.81 8.19z"></path></g>
<g id="extension"><path d="M20.5 11H19V7c0-1.1-.9-2-2-2h-4V3.5C13 2.12 11.88 1 10.5 1S8 2.12 8 3.5V5H4c-1.1 0-1.99.9-1.99 2v3.8H3.5c1.49 0 2.7 1.21 2.7 2.7s-1.21 2.7-2.7 2.7H2V20c0 1.1.9 2 2 2h3.8v-1.5c0-1.49 1.21-2.7 2.7-2.7 1.49 0 2.7 1.21 2.7 2.7V22H17c1.1 0 2-.9 2-2v-4h1.5c1.38 0 2.5-1.12 2.5-2.5S21.88 11 20.5 11z"></path></g>
<g id="face"><path d="M9 11.75c-.69 0-1.25.56-1.25 1.25s.56 1.25 1.25 1.25 1.25-.56 1.25-1.25-.56-1.25-1.25-1.25zm6 0c-.69 0-1.25.56-1.25 1.25s.56 1.25 1.25 1.25 1.25-.56 1.25-1.25-.56-1.25-1.25-1.25zM12 2C6.48 2 2 6.48 2 12s4.48 10 10 10 10-4.48 10-10S17.52 2 12 2zm0 18c-4.41 0-8-3.59-8-8 0-.29.02-.58.05-.86 2.36-1.05 4.23-2.98 5.21-5.37C11.07 8.33 14.05 10 17.42 10c.78 0 1.53-.09 2.25-.26.21.71.33 1.47.33 2.26 0 4.41-3.59 8-8 8z"></path></g>
<g id="favorite"><path d="M12 21.35l-1.45-1.32C5.4 15.36 2 12.28 2 8.5 2 5.42 4.42 3 7.5 3c1.74 0 3.41.81 4.5 2.09C13.09 3.81 14.76 3 16.5 3 19.58 3 22 5.42 22 8.5c0 3.78-3.4 6.86-8.55 11.54L12 21.35z"></path></g>
<g id="favorite-border"><path d="M16.5 3c-1.74 0-3.41.81-4.5 2.09C10.91 3.81 9.24 3 7.5 3 4.42 3 2 5.42 2 8.5c0 3.78 3.4 6.86 8.55 11.54L12 21.35l1.45-1.32C18.6 15.36 22 12.28 22 8.5 22 5.42 19.58 3 16.5 3zm-4.4 15.55l-.1.1-.1-.1C7.14 14.24 4 11.39 4 8.5 4 6.5 5.5 5 7.5 5c1.54 0 3.04.99 3.57 2.36h1.87C13.46 5.99 14.96 5 16.5 5c2 0 3.5 1.5 3.5 3.5 0 2.89-3.14 5.74-7.9 10.05z"></path></g>
<g id="feedback"><path d="M20 2H4c-1.1 0-1.99.9-1.99 2L2 22l4-4h14c1.1 0 2-.9 2-2V4c0-1.1-.9-2-2-2zm-7 12h-2v-2h2v2zm0-4h-2V6h2v4z"></path></g>
<g id="file-download"><path d="M19 9h-4V3H9v6H5l7 7 7-7zM5 18v2h14v-2H5z"></path></g>
<g id="file-upload"><path d="M9 16h6v-6h4l-7-7-7 7h4zm-4 2h14v2H5z"></path></g>
<g id="filter-list"><path d="M10 18h4v-2h-4v2zM3 6v2h18V6H3zm3 7h12v-2H6v2z"></path></g>
<g id="find-in-page"><path d="M20 19.59V8l-6-6H6c-1.1 0-1.99.9-1.99 2L4 20c0 1.1.89 2 1.99 2H18c.45 0 .85-.15 1.19-.4l-4.43-4.43c-.8.52-1.74.83-2.76.83-2.76 0-5-2.24-5-5s2.24-5 5-5 5 2.24 5 5c0 1.02-.31 1.96-.83 2.75L20 19.59zM9 13c0 1.66 1.34 3 3 3s3-1.34 3-3-1.34-3-3-3-3 1.34-3 3z"></path></g>
<g id="find-replace"><path d="M11 6c1.38 0 2.63.56 3.54 1.46L12 10h6V4l-2.05 2.05C14.68 4.78 12.93 4 11 4c-3.53 0-6.43 2.61-6.92 6H6.1c.46-2.28 2.48-4 4.9-4zm5.64 9.14c.66-.9 1.12-1.97 1.28-3.14H15.9c-.46 2.28-2.48 4-4.9 4-1.38 0-2.63-.56-3.54-1.46L10 12H4v6l2.05-2.05C7.32 17.22 9.07 18 11 18c1.55 0 2.98-.51 4.14-1.36L20 21.49 21.49 20l-4.85-4.86z"></path></g>
<g id="fingerprint"><path d="M17.81 4.47c-.08 0-.16-.02-.23-.06C15.66 3.42 14 3 12.01 3c-1.98 0-3.86.47-5.57 1.41-.24.13-.54.04-.68-.2-.13-.24-.04-.55.2-.68C7.82 2.52 9.86 2 12.01 2c2.13 0 3.99.47 6.03 1.52.25.13.34.43.21.67-.09.18-.26.28-.44.28zM3.5 9.72c-.1 0-.2-.03-.29-.09-.23-.16-.28-.47-.12-.7.99-1.4 2.25-2.5 3.75-3.27C9.98 4.04 14 4.03 17.15 5.65c1.5.77 2.76 1.86 3.75 3.25.16.22.11.54-.12.7-.23.16-.54.11-.7-.12-.9-1.26-2.04-2.25-3.39-2.94-2.87-1.47-6.54-1.47-9.4.01-1.36.7-2.5 1.7-3.4 2.96-.08.14-.23.21-.39.21zm6.25 12.07c-.13 0-.26-.05-.35-.15-.87-.87-1.34-1.43-2.01-2.64-.69-1.23-1.05-2.73-1.05-4.34 0-2.97 2.54-5.39 5.66-5.39s5.66 2.42 5.66 5.39c0 .28-.22.5-.5.5s-.5-.22-.5-.5c0-2.42-2.09-4.39-4.66-4.39-2.57 0-4.66 1.97-4.66 4.39 0 1.44.32 2.77.93 3.85.64 1.15 1.08 1.64 1.85 2.42.19.2.19.51 0 .71-.11.1-.24.15-.37.15zm7.17-1.85c-1.19 0-2.24-.3-3.1-.89-1.49-1.01-2.38-2.65-2.38-4.39 0-.28.22-.5.5-.5s.5.22.5.5c0 1.41.72 2.74 1.94 3.56.71.48 1.54.71 2.54.71.24 0 .64-.03 1.04-.1.27-.05.53.13.58.41.05.27-.13.53-.41.58-.57.11-1.07.12-1.21.12zM14.91 22c-.04 0-.09-.01-.13-.02-1.59-.44-2.63-1.03-3.72-2.1-1.4-1.39-2.17-3.24-2.17-5.22 0-1.62 1.38-2.94 3.08-2.94 1.7 0 3.08 1.32 3.08 2.94 0 1.07.93 1.94 2.08 1.94s2.08-.87 2.08-1.94c0-3.77-3.25-6.83-7.25-6.83-2.84 0-5.44 1.58-6.61 4.03-.39.81-.59 1.76-.59 2.8 0 .78.07 2.01.67 3.61.1.26-.03.55-.29.64-.26.1-.55-.04-.64-.29-.49-1.31-.73-2.61-.73-3.96 0-1.2.23-2.29.68-3.24 1.33-2.79 4.28-4.6 7.51-4.6 4.55 0 8.25 3.51 8.25 7.83 0 1.62-1.38 2.94-3.08 2.94s-3.08-1.32-3.08-2.94c0-1.07-.93-1.94-2.08-1.94s-2.08.87-2.08 1.94c0 1.71.66 3.31 1.87 4.51.95.94 1.86 1.46 3.27 1.85.27.07.42.35.35.61-.05.23-.26.38-.47.38z"></path></g>
<g id="first-page"><path d="M18.41 16.59L13.82 12l4.59-4.59L17 6l-6 6 6 6zM6 6h2v12H6z"></path></g>
<g id="flag"><path d="M14.4 6L14 4H5v17h2v-7h5.6l.4 2h7V6z"></path></g>
<g id="flight-land"><path d="M2.5 19h19v2h-19zm7.18-5.73l4.35 1.16 5.31 1.42c.8.21 1.62-.26 1.84-1.06.21-.8-.26-1.62-1.06-1.84l-5.31-1.42-2.76-9.02L10.12 2v8.28L5.15 8.95l-.93-2.32-1.45-.39v5.17l1.6.43 5.31 1.43z"></path></g>
<g id="flight-takeoff"><path d="M2.5 19h19v2h-19zm19.57-9.36c-.21-.8-1.04-1.28-1.84-1.06L14.92 10l-6.9-6.43-1.93.51 4.14 7.17-4.97 1.33-1.97-1.54-1.45.39 1.82 3.16.77 1.33 1.6-.43 5.31-1.42 4.35-1.16L21 11.49c.81-.23 1.28-1.05 1.07-1.85z"></path></g>
<g id="flip-to-back"><path d="M9 7H7v2h2V7zm0 4H7v2h2v-2zm0-8c-1.11 0-2 .9-2 2h2V3zm4 12h-2v2h2v-2zm6-12v2h2c0-1.1-.9-2-2-2zm-6 0h-2v2h2V3zM9 17v-2H7c0 1.1.89 2 2 2zm10-4h2v-2h-2v2zm0-4h2V7h-2v2zm0 8c1.1 0 2-.9 2-2h-2v2zM5 7H3v12c0 1.1.89 2 2 2h12v-2H5V7zm10-2h2V3h-2v2zm0 12h2v-2h-2v2z"></path></g>
<g id="flip-to-front"><path d="M3 13h2v-2H3v2zm0 4h2v-2H3v2zm2 4v-2H3c0 1.1.89 2 2 2zM3 9h2V7H3v2zm12 12h2v-2h-2v2zm4-18H9c-1.11 0-2 .9-2 2v10c0 1.1.89 2 2 2h10c1.1 0 2-.9 2-2V5c0-1.1-.9-2-2-2zm0 12H9V5h10v10zm-8 6h2v-2h-2v2zm-4 0h2v-2H7v2z"></path></g>
<g id="folder"><path d="M10 4H4c-1.1 0-1.99.9-1.99 2L2 18c0 1.1.9 2 2 2h16c1.1 0 2-.9 2-2V8c0-1.1-.9-2-2-2h-8l-2-2z"></path></g>
<g id="folder-open"><path d="M20 6h-8l-2-2H4c-1.1 0-1.99.9-1.99 2L2 18c0 1.1.9 2 2 2h16c1.1 0 2-.9 2-2V8c0-1.1-.9-2-2-2zm0 12H4V8h16v10z"></path></g>
<g id="folder-shared"><path d="M20 6h-8l-2-2H4c-1.1 0-1.99.9-1.99 2L2 18c0 1.1.9 2 2 2h16c1.1 0 2-.9 2-2V8c0-1.1-.9-2-2-2zm-5 3c1.1 0 2 .9 2 2s-.9 2-2 2-2-.9-2-2 .9-2 2-2zm4 8h-8v-1c0-1.33 2.67-2 4-2s4 .67 4 2v1z"></path></g>
<g id="font-download"><path d="M9.93 13.5h4.14L12 7.98zM20 2H4c-1.1 0-2 .9-2 2v16c0 1.1.9 2 2 2h16c1.1 0 2-.9 2-2V4c0-1.1-.9-2-2-2zm-4.05 16.5l-1.14-3H9.17l-1.12 3H5.96l5.11-13h1.86l5.11 13h-2.09z"></path></g>
<g id="forward"><path d="M12 8V4l8 8-8 8v-4H4V8z"></path></g>
<g id="fullscreen"><path d="M7 14H5v5h5v-2H7v-3zm-2-4h2V7h3V5H5v5zm12 7h-3v2h5v-5h-2v3zM14 5v2h3v3h2V5h-5z"></path></g>
<g id="fullscreen-exit"><path d="M5 16h3v3h2v-5H5v2zm3-8H5v2h5V5H8v3zm6 11h2v-3h3v-2h-5v5zm2-11V5h-2v5h5V8h-3z"></path></g>
<g id="g-translate"><path d="M20 5h-9.12L10 2H4c-1.1 0-2 .9-2 2v13c0 1.1.9 2 2 2h7l1 3h8c1.1 0 2-.9 2-2V7c0-1.1-.9-2-2-2zM7.17 14.59c-2.25 0-4.09-1.83-4.09-4.09s1.83-4.09 4.09-4.09c1.04 0 1.99.37 2.74 1.07l.07.06-1.23 1.18-.06-.05c-.29-.27-.78-.59-1.52-.59-1.31 0-2.38 1.09-2.38 2.42s1.07 2.42 2.38 2.42c1.37 0 1.96-.87 2.12-1.46H7.08V9.91h3.95l.01.07c.04.21.05.4.05.61 0 2.35-1.61 4-3.92 4zm6.03-1.71c.33.6.74 1.18 1.19 1.7l-.54.53-.65-2.23zm.77-.76h-.99l-.31-1.04h3.99s-.34 1.31-1.56 2.74c-.52-.62-.89-1.23-1.13-1.7zM21 20c0 .55-.45 1-1 1h-7l2-2-.81-2.77.92-.92L17.79 18l.73-.73-2.71-2.68c.9-1.03 1.6-2.25 1.92-3.51H19v-1.04h-3.64V9h-1.04v1.04h-1.96L11.18 6H20c.55 0 1 .45 1 1v13z"></path></g>
<g id="gavel"><path d="M1 21h12v2H1zM5.245 8.07l2.83-2.827 14.14 14.142-2.828 2.828zM12.317 1l5.657 5.656-2.83 2.83-5.654-5.66zM3.825 9.485l5.657 5.657-2.828 2.828-5.657-5.657z"></path></g>
<g id="gesture"><path d="M4.59 6.89c.7-.71 1.4-1.35 1.71-1.22.5.2 0 1.03-.3 1.52-.25.42-2.86 3.89-2.86 6.31 0 1.28.48 2.34 1.34 2.98.75.56 1.74.73 2.64.46 1.07-.31 1.95-1.4 3.06-2.77 1.21-1.49 2.83-3.44 4.08-3.44 1.63 0 1.65 1.01 1.76 1.79-3.78.64-5.38 3.67-5.38 5.37 0 1.7 1.44 3.09 3.21 3.09 1.63 0 4.29-1.33 4.69-6.1H21v-2.5h-2.47c-.15-1.65-1.09-4.2-4.03-4.2-2.25 0-4.18 1.91-4.94 2.84-.58.73-2.06 2.48-2.29 2.72-.25.3-.68.84-1.11.84-.45 0-.72-.83-.36-1.92.35-1.09 1.4-2.86 1.85-3.52.78-1.14 1.3-1.92 1.3-3.28C8.95 3.69 7.31 3 6.44 3 5.12 3 3.97 4 3.72 4.25c-.36.36-.66.66-.88.93l1.75 1.71zm9.29 11.66c-.31 0-.74-.26-.74-.72 0-.6.73-2.2 2.87-2.76-.3 2.69-1.43 3.48-2.13 3.48z"></path></g>
<g id="get-app"><path d="M19 9h-4V3H9v6H5l7 7 7-7zM5 18v2h14v-2H5z"></path></g>
<g id="gif"><path d="M11.5 9H13v6h-1.5zM9 9H6c-.6 0-1 .5-1 1v4c0 .5.4 1 1 1h3c.6 0 1-.5 1-1v-2H8.5v1.5h-2v-3H10V10c0-.5-.4-1-1-1zm10 1.5V9h-4.5v6H16v-2h2v-1.5h-2v-1z"></path></g>
<g id="grade"><path d="M12 17.27L18.18 21l-1.64-7.03L22 9.24l-7.19-.61L12 2 9.19 8.63 2 9.24l5.46 4.73L5.82 21z"></path></g>
<g id="group-work"><path d="M12 2C6.48 2 2 6.48 2 12s4.48 10 10 10 10-4.48 10-10S17.52 2 12 2zM8 17.5c-1.38 0-2.5-1.12-2.5-2.5s1.12-2.5 2.5-2.5 2.5 1.12 2.5 2.5-1.12 2.5-2.5 2.5zM9.5 8c0-1.38 1.12-2.5 2.5-2.5s2.5 1.12 2.5 2.5-1.12 2.5-2.5 2.5S9.5 9.38 9.5 8zm6.5 9.5c-1.38 0-2.5-1.12-2.5-2.5s1.12-2.5 2.5-2.5 2.5 1.12 2.5 2.5-1.12 2.5-2.5 2.5z"></path></g>
<g id="help"><path d="M12 2C6.48 2 2 6.48 2 12s4.48 10 10 10 10-4.48 10-10S17.52 2 12 2zm1 17h-2v-2h2v2zm2.07-7.75l-.9.92C13.45 12.9 13 13.5 13 15h-2v-.5c0-1.1.45-2.1 1.17-2.83l1.24-1.26c.37-.36.59-.86.59-1.41 0-1.1-.9-2-2-2s-2 .9-2 2H8c0-2.21 1.79-4 4-4s4 1.79 4 4c0 .88-.36 1.68-.93 2.25z"></path></g>
<g id="help-outline"><path d="M11 18h2v-2h-2v2zm1-16C6.48 2 2 6.48 2 12s4.48 10 10 10 10-4.48 10-10S17.52 2 12 2zm0 18c-4.41 0-8-3.59-8-8s3.59-8 8-8 8 3.59 8 8-3.59 8-8 8zm0-14c-2.21 0-4 1.79-4 4h2c0-1.1.9-2 2-2s2 .9 2 2c0 2-3 1.75-3 5h2c0-2.25 3-2.5 3-5 0-2.21-1.79-4-4-4z"></path></g>
<g id="highlight-off"><path d="M14.59 8L12 10.59 9.41 8 8 9.41 10.59 12 8 14.59 9.41 16 12 13.41 14.59 16 16 14.59 13.41 12 16 9.41 14.59 8zM12 2C6.47 2 2 6.47 2 12s4.47 10 10 10 10-4.47 10-10S17.53 2 12 2zm0 18c-4.41 0-8-3.59-8-8s3.59-8 8-8 8 3.59 8 8-3.59 8-8 8z"></path></g>
<g id="history"><path d="M13 3c-4.97 0-9 4.03-9 9H1l3.89 3.89.07.14L9 12H6c0-3.87 3.13-7 7-7s7 3.13 7 7-3.13 7-7 7c-1.93 0-3.68-.79-4.94-2.06l-1.42 1.42C8.27 19.99 10.51 21 13 21c4.97 0 9-4.03 9-9s-4.03-9-9-9zm-1 5v5l4.28 2.54.72-1.21-3.5-2.08V8H12z"></path></g>
<g id="home"><path d="M10 20v-6h4v6h5v-8h3L12 3 2 12h3v8z"></path></g>
<g id="hourglass-empty"><path d="M6 2v6h.01L6 8.01 10 12l-4 4 .01.01H6V22h12v-5.99h-.01L18 16l-4-4 4-3.99-.01-.01H18V2H6zm10 14.5V20H8v-3.5l4-4 4 4zm-4-5l-4-4V4h8v3.5l-4 4z"></path></g>
<g id="hourglass-full"><path d="M6 2v6h.01L6 8.01 10 12l-4 4 .01.01H6V22h12v-5.99h-.01L18 16l-4-4 4-3.99-.01-.01H18V2H6z"></path></g>
<g id="http"><path d="M4.5 11h-2V9H1v6h1.5v-2.5h2V15H6V9H4.5v2zm2.5-.5h1.5V15H10v-4.5h1.5V9H7v1.5zm5.5 0H14V15h1.5v-4.5H17V9h-4.5v1.5zm9-1.5H18v6h1.5v-2h2c.8 0 1.5-.7 1.5-1.5v-1c0-.8-.7-1.5-1.5-1.5zm0 2.5h-2v-1h2v1z"></path></g>
<g id="https"><path d="M18 8h-1V6c0-2.76-2.24-5-5-5S7 3.24 7 6v2H6c-1.1 0-2 .9-2 2v10c0 1.1.9 2 2 2h12c1.1 0 2-.9 2-2V10c0-1.1-.9-2-2-2zm-6 9c-1.1 0-2-.9-2-2s.9-2 2-2 2 .9 2 2-.9 2-2 2zm3.1-9H8.9V6c0-1.71 1.39-3.1 3.1-3.1 1.71 0 3.1 1.39 3.1 3.1v2z"></path></g>
<g id="important-devices"><path d="M23 11.01L18 11c-.55 0-1 .45-1 1v9c0 .55.45 1 1 1h5c.55 0 1-.45 1-1v-9c0-.55-.45-.99-1-.99zM23 20h-5v-7h5v7zM20 2H2C.89 2 0 2.89 0 4v12c0 1.1.89 2 2 2h7v2H7v2h8v-2h-2v-2h2v-2H2V4h18v5h2V4c0-1.11-.9-2-2-2zm-8.03 7L11 6l-.97 3H7l2.47 1.76-.94 2.91 2.47-1.8 2.47 1.8-.94-2.91L15 9h-3.03z"></path></g>
<g id="inbox"><path d="M19 3H4.99c-1.11 0-1.98.89-1.98 2L3 19c0 1.1.88 2 1.99 2H19c1.1 0 2-.9 2-2V5c0-1.11-.9-2-2-2zm0 12h-4c0 1.66-1.35 3-3 3s-3-1.34-3-3H4.99V5H19v10z"></path></g>
<g id="indeterminate-check-box"><path d="M19 3H5c-1.1 0-2 .9-2 2v14c0 1.1.9 2 2 2h14c1.1 0 2-.9 2-2V5c0-1.1-.9-2-2-2zm-2 10H7v-2h10v2z"></path></g>
<g id="info"><path d="M12 2C6.48 2 2 6.48 2 12s4.48 10 10 10 10-4.48 10-10S17.52 2 12 2zm1 15h-2v-6h2v6zm0-8h-2V7h2v2z"></path></g>
<g id="info-outline"><path d="M11 17h2v-6h-2v6zm1-15C6.48 2 2 6.48 2 12s4.48 10 10 10 10-4.48 10-10S17.52 2 12 2zm0 18c-4.41 0-8-3.59-8-8s3.59-8 8-8 8 3.59 8 8-3.59 8-8 8zM11 9h2V7h-2v2z"></path></g>
<g id="input"><path d="M21 3.01H3c-1.1 0-2 .9-2 2V9h2V4.99h18v14.03H3V15H1v4.01c0 1.1.9 1.98 2 1.98h18c1.1 0 2-.88 2-1.98v-14c0-1.11-.9-2-2-2zM11 16l4-4-4-4v3H1v2h10v3z"></path></g>
<g id="invert-colors"><path d="M17.66 7.93L12 2.27 6.34 7.93c-3.12 3.12-3.12 8.19 0 11.31C7.9 20.8 9.95 21.58 12 21.58c2.05 0 4.1-.78 5.66-2.34 3.12-3.12 3.12-8.19 0-11.31zM12 19.59c-1.6 0-3.11-.62-4.24-1.76C6.62 16.69 6 15.19 6 13.59s.62-3.11 1.76-4.24L12 5.1v14.49z"></path></g>
<g id="label"><path d="M17.63 5.84C17.27 5.33 16.67 5 16 5L5 5.01C3.9 5.01 3 5.9 3 7v10c0 1.1.9 1.99 2 1.99L16 19c.67 0 1.27-.33 1.63-.84L22 12l-4.37-6.16z"></path></g>
<g id="label-outline"><path d="M17.63 5.84C17.27 5.33 16.67 5 16 5L5 5.01C3.9 5.01 3 5.9 3 7v10c0 1.1.9 1.99 2 1.99L16 19c.67 0 1.27-.33 1.63-.84L22 12l-4.37-6.16zM16 17H5V7h11l3.55 5L16 17z"></path></g>
<g id="language"><path d="M11.99 2C6.47 2 2 6.48 2 12s4.47 10 9.99 10C17.52 22 22 17.52 22 12S17.52 2 11.99 2zm6.93 6h-2.95c-.32-1.25-.78-2.45-1.38-3.56 1.84.63 3.37 1.91 4.33 3.56zM12 4.04c.83 1.2 1.48 2.53 1.91 3.96h-3.82c.43-1.43 1.08-2.76 1.91-3.96zM4.26 14C4.1 13.36 4 12.69 4 12s.1-1.36.26-2h3.38c-.08.66-.14 1.32-.14 2 0 .68.06 1.34.14 2H4.26zm.82 2h2.95c.32 1.25.78 2.45 1.38 3.56-1.84-.63-3.37-1.9-4.33-3.56zm2.95-8H5.08c.96-1.66 2.49-2.93 4.33-3.56C8.81 5.55 8.35 6.75 8.03 8zM12 19.96c-.83-1.2-1.48-2.53-1.91-3.96h3.82c-.43 1.43-1.08 2.76-1.91 3.96zM14.34 14H9.66c-.09-.66-.16-1.32-.16-2 0-.68.07-1.35.16-2h4.68c.09.65.16 1.32.16 2 0 .68-.07 1.34-.16 2zm.25 5.56c.6-1.11 1.06-2.31 1.38-3.56h2.95c-.96 1.65-2.49 2.93-4.33 3.56zM16.36 14c.08-.66.14-1.32.14-2 0-.68-.06-1.34-.14-2h3.38c.16.64.26 1.31.26 2s-.1 1.36-.26 2h-3.38z"></path></g>
<g id="last-page"><path d="M5.59 7.41L10.18 12l-4.59 4.59L7 18l6-6-6-6zM16 6h2v12h-2z"></path></g>
<g id="launch"><path d="M19 19H5V5h7V3H5c-1.11 0-2 .9-2 2v14c0 1.1.89 2 2 2h14c1.1 0 2-.9 2-2v-7h-2v7zM14 3v2h3.59l-9.83 9.83 1.41 1.41L19 6.41V10h2V3h-7z"></path></g>
<g id="lightbulb-outline"><path d="M9 21c0 .55.45 1 1 1h4c.55 0 1-.45 1-1v-1H9v1zm3-19C8.14 2 5 5.14 5 9c0 2.38 1.19 4.47 3 5.74V17c0 .55.45 1 1 1h6c.55 0 1-.45 1-1v-2.26c1.81-1.27 3-3.36 3-5.74 0-3.86-3.14-7-7-7zm2.85 11.1l-.85.6V16h-4v-2.3l-.85-.6C7.8 12.16 7 10.63 7 9c0-2.76 2.24-5 5-5s5 2.24 5 5c0 1.63-.8 3.16-2.15 4.1z"></path></g>
<g id="line-style"><path d="M3 16h5v-2H3v2zm6.5 0h5v-2h-5v2zm6.5 0h5v-2h-5v2zM3 20h2v-2H3v2zm4 0h2v-2H7v2zm4 0h2v-2h-2v2zm4 0h2v-2h-2v2zm4 0h2v-2h-2v2zM3 12h8v-2H3v2zm10 0h8v-2h-8v2zM3 4v4h18V4H3z"></path></g>
<g id="line-weight"><path d="M3 17h18v-2H3v2zm0 3h18v-1H3v1zm0-7h18v-3H3v3zm0-9v4h18V4H3z"></path></g>
<g id="link"><path d="M3.9 12c0-1.71 1.39-3.1 3.1-3.1h4V7H7c-2.76 0-5 2.24-5 5s2.24 5 5 5h4v-1.9H7c-1.71 0-3.1-1.39-3.1-3.1zM8 13h8v-2H8v2zm9-6h-4v1.9h4c1.71 0 3.1 1.39 3.1 3.1s-1.39 3.1-3.1 3.1h-4V17h4c2.76 0 5-2.24 5-5s-2.24-5-5-5z"></path></g>
<g id="list"><path d="M3 13h2v-2H3v2zm0 4h2v-2H3v2zm0-8h2V7H3v2zm4 4h14v-2H7v2zm0 4h14v-2H7v2zM7 7v2h14V7H7z"></path></g>
<g id="lock"><path d="M18 8h-1V6c0-2.76-2.24-5-5-5S7 3.24 7 6v2H6c-1.1 0-2 .9-2 2v10c0 1.1.9 2 2 2h12c1.1 0 2-.9 2-2V10c0-1.1-.9-2-2-2zm-6 9c-1.1 0-2-.9-2-2s.9-2 2-2 2 .9 2 2-.9 2-2 2zm3.1-9H8.9V6c0-1.71 1.39-3.1 3.1-3.1 1.71 0 3.1 1.39 3.1 3.1v2z"></path></g>
<g id="lock-open"><path d="M12 17c1.1 0 2-.9 2-2s-.9-2-2-2-2 .9-2 2 .9 2 2 2zm6-9h-1V6c0-2.76-2.24-5-5-5S7 3.24 7 6h1.9c0-1.71 1.39-3.1 3.1-3.1 1.71 0 3.1 1.39 3.1 3.1v2H6c-1.1 0-2 .9-2 2v10c0 1.1.9 2 2 2h12c1.1 0 2-.9 2-2V10c0-1.1-.9-2-2-2zm0 12H6V10h12v10z"></path></g>
<g id="lock-outline"><path d="M12 17c1.1 0 2-.9 2-2s-.9-2-2-2-2 .9-2 2 .9 2 2 2zm6-9h-1V6c0-2.76-2.24-5-5-5S7 3.24 7 6v2H6c-1.1 0-2 .9-2 2v10c0 1.1.9 2 2 2h12c1.1 0 2-.9 2-2V10c0-1.1-.9-2-2-2zM8.9 6c0-1.71 1.39-3.1 3.1-3.1s3.1 1.39 3.1 3.1v2H8.9V6zM18 20H6V10h12v10z"></path></g>
<g id="low-priority"><path d="M14 5h8v2h-8zm0 5.5h8v2h-8zm0 5.5h8v2h-8zM2 11.5C2 15.08 4.92 18 8.5 18H9v2l3-3-3-3v2h-.5C6.02 16 4 13.98 4 11.5S6.02 7 8.5 7H12V5H8.5C4.92 5 2 7.92 2 11.5z"></path></g>
<g id="loyalty"><path d="M21.41 11.58l-9-9C12.05 2.22 11.55 2 11 2H4c-1.1 0-2 .9-2 2v7c0 .55.22 1.05.59 1.42l9 9c.36.36.86.58 1.41.58.55 0 1.05-.22 1.41-.59l7-7c.37-.36.59-.86.59-1.41 0-.55-.23-1.06-.59-1.42zM5.5 7C4.67 7 4 6.33 4 5.5S4.67 4 5.5 4 7 4.67 7 5.5 6.33 7 5.5 7zm11.77 8.27L13 19.54l-4.27-4.27C8.28 14.81 8 14.19 8 13.5c0-1.38 1.12-2.5 2.5-2.5.69 0 1.32.28 1.77.74l.73.72.73-.73c.45-.45 1.08-.73 1.77-.73 1.38 0 2.5 1.12 2.5 2.5 0 .69-.28 1.32-.73 1.77z"></path></g>
<g id="mail"><path d="M20 4H4c-1.1 0-1.99.9-1.99 2L2 18c0 1.1.9 2 2 2h16c1.1 0 2-.9 2-2V6c0-1.1-.9-2-2-2zm0 4l-8 5-8-5V6l8 5 8-5v2z"></path></g>
<g id="markunread"><path d="M20 4H4c-1.1 0-1.99.9-1.99 2L2 18c0 1.1.9 2 2 2h16c1.1 0 2-.9 2-2V6c0-1.1-.9-2-2-2zm0 4l-8 5-8-5V6l8 5 8-5v2z"></path></g>
<g id="markunread-mailbox"><path d="M20 6H10v6H8V4h6V0H6v6H4c-1.1 0-2 .9-2 2v12c0 1.1.9 2 2 2h16c1.1 0 2-.9 2-2V8c0-1.1-.9-2-2-2z"></path></g>
<g id="menu"><path d="M3 18h18v-2H3v2zm0-5h18v-2H3v2zm0-7v2h18V6H3z"></path></g>
<g id="more-horiz"><path d="M6 10c-1.1 0-2 .9-2 2s.9 2 2 2 2-.9 2-2-.9-2-2-2zm12 0c-1.1 0-2 .9-2 2s.9 2 2 2 2-.9 2-2-.9-2-2-2zm-6 0c-1.1 0-2 .9-2 2s.9 2 2 2 2-.9 2-2-.9-2-2-2z"></path></g>
<g id="more-vert"><path d="M12 8c1.1 0 2-.9 2-2s-.9-2-2-2-2 .9-2 2 .9 2 2 2zm0 2c-1.1 0-2 .9-2 2s.9 2 2 2 2-.9 2-2-.9-2-2-2zm0 6c-1.1 0-2 .9-2 2s.9 2 2 2 2-.9 2-2-.9-2-2-2z"></path></g>
<g id="motorcycle"><path d="M19.44 9.03L15.41 5H11v2h3.59l2 2H5c-2.8 0-5 2.2-5 5s2.2 5 5 5c2.46 0 4.45-1.69 4.9-4h1.65l2.77-2.77c-.21.54-.32 1.14-.32 1.77 0 2.8 2.2 5 5 5s5-2.2 5-5c0-2.65-1.97-4.77-4.56-4.97zM7.82 15C7.4 16.15 6.28 17 5 17c-1.63 0-3-1.37-3-3s1.37-3 3-3c1.28 0 2.4.85 2.82 2H5v2h2.82zM19 17c-1.66 0-3-1.34-3-3s1.34-3 3-3 3 1.34 3 3-1.34 3-3 3z"></path></g>
<g id="move-to-inbox"><path d="M19 3H4.99c-1.11 0-1.98.9-1.98 2L3 19c0 1.1.88 2 1.99 2H19c1.1 0 2-.9 2-2V5c0-1.1-.9-2-2-2zm0 12h-4c0 1.66-1.35 3-3 3s-3-1.34-3-3H4.99V5H19v10zm-3-5h-2V7h-4v3H8l4 4 4-4z"></path></g>
<g id="next-week"><path d="M20 7h-4V5c0-.55-.22-1.05-.59-1.41C15.05 3.22 14.55 3 14 3h-4c-1.1 0-2 .9-2 2v2H4c-1.1 0-2 .9-2 2v11c0 1.1.9 2 2 2h16c1.1 0 2-.9 2-2V9c0-1.1-.9-2-2-2zM10 5h4v2h-4V5zm1 13.5l-1-1 3-3-3-3 1-1 4 4-4 4z"></path></g>
<g id="note-add"><path d="M14 2H6c-1.1 0-1.99.9-1.99 2L4 20c0 1.1.89 2 1.99 2H18c1.1 0 2-.9 2-2V8l-6-6zm2 14h-3v3h-2v-3H8v-2h3v-3h2v3h3v2zm-3-7V3.5L18.5 9H13z"></path></g>
<g id="offline-pin"><path d="M12 2C6.5 2 2 6.5 2 12s4.5 10 10 10 10-4.5 10-10S17.5 2 12 2zm5 16H7v-2h10v2zm-6.7-4L7 10.7l1.4-1.4 1.9 1.9 5.3-5.3L17 7.3 10.3 14z"></path></g>
<g id="opacity"><path d="M17.66 8L12 2.35 6.34 8C4.78 9.56 4 11.64 4 13.64s.78 4.11 2.34 5.67 3.61 2.35 5.66 2.35 4.1-.79 5.66-2.35S20 15.64 20 13.64 19.22 9.56 17.66 8zM6 14c.01-2 .62-3.27 1.76-4.4L12 5.27l4.24 4.38C17.38 10.77 17.99 12 18 14H6z"></path></g>
<g id="open-in-browser"><path d="M19 4H5c-1.11 0-2 .9-2 2v12c0 1.1.89 2 2 2h4v-2H5V8h14v10h-4v2h4c1.1 0 2-.9 2-2V6c0-1.1-.89-2-2-2zm-7 6l-4 4h3v6h2v-6h3l-4-4z"></path></g>
<g id="open-in-new"><path d="M19 19H5V5h7V3H5c-1.11 0-2 .9-2 2v14c0 1.1.89 2 2 2h14c1.1 0 2-.9 2-2v-7h-2v7zM14 3v2h3.59l-9.83 9.83 1.41 1.41L19 6.41V10h2V3h-7z"></path></g>
<g id="open-with"><path d="M10 9h4V6h3l-5-5-5 5h3v3zm-1 1H6V7l-5 5 5 5v-3h3v-4zm14 2l-5-5v3h-3v4h3v3l5-5zm-9 3h-4v3H7l5 5 5-5h-3v-3z"></path></g>
<g id="pageview"><path d="M11.5 9C10.12 9 9 10.12 9 11.5s1.12 2.5 2.5 2.5 2.5-1.12 2.5-2.5S12.88 9 11.5 9zM20 4H4c-1.1 0-2 .9-2 2v12c0 1.1.9 2 2 2h16c1.1 0 2-.9 2-2V6c0-1.1-.9-2-2-2zm-3.21 14.21l-2.91-2.91c-.69.44-1.51.7-2.39.7C9.01 16 7 13.99 7 11.5S9.01 7 11.5 7 16 9.01 16 11.5c0 .88-.26 1.69-.7 2.39l2.91 2.9-1.42 1.42z"></path></g>
<g id="pan-tool"><path d="M23 5.5V20c0 2.2-1.8 4-4 4h-7.3c-1.08 0-2.1-.43-2.85-1.19L1 14.83s1.26-1.23 1.3-1.25c.22-.19.49-.29.79-.29.22 0 .42.06.6.16.04.01 4.31 2.46 4.31 2.46V4c0-.83.67-1.5 1.5-1.5S11 3.17 11 4v7h1V1.5c0-.83.67-1.5 1.5-1.5S15 .67 15 1.5V11h1V2.5c0-.83.67-1.5 1.5-1.5s1.5.67 1.5 1.5V11h1V5.5c0-.83.67-1.5 1.5-1.5s1.5.67 1.5 1.5z"></path></g>
<g id="payment"><path d="M20 4H4c-1.11 0-1.99.89-1.99 2L2 18c0 1.11.89 2 2 2h16c1.11 0 2-.89 2-2V6c0-1.11-.89-2-2-2zm0 14H4v-6h16v6zm0-10H4V6h16v2z"></path></g>
<g id="perm-camera-mic"><path d="M20 5h-3.17L15 3H9L7.17 5H4c-1.1 0-2 .9-2 2v12c0 1.1.9 2 2 2h7v-2.09c-2.83-.48-5-2.94-5-5.91h2c0 2.21 1.79 4 4 4s4-1.79 4-4h2c0 2.97-2.17 5.43-5 5.91V21h7c1.1 0 2-.9 2-2V7c0-1.1-.9-2-2-2zm-6 8c0 1.1-.9 2-2 2s-2-.9-2-2V9c0-1.1.9-2 2-2s2 .9 2 2v4z"></path></g>
<g id="perm-contact-calendar"><path d="M19 3h-1V1h-2v2H8V1H6v2H5c-1.11 0-2 .9-2 2v14c0 1.1.89 2 2 2h14c1.1 0 2-.9 2-2V5c0-1.1-.9-2-2-2zm-7 3c1.66 0 3 1.34 3 3s-1.34 3-3 3-3-1.34-3-3 1.34-3 3-3zm6 12H6v-1c0-2 4-3.1 6-3.1s6 1.1 6 3.1v1z"></path></g>
<g id="perm-data-setting"><path d="M18.99 11.5c.34 0 .67.03 1 .07L20 0 0 20h11.56c-.04-.33-.07-.66-.07-1 0-4.14 3.36-7.5 7.5-7.5zm3.71 7.99c.02-.16.04-.32.04-.49 0-.17-.01-.33-.04-.49l1.06-.83c.09-.08.12-.21.06-.32l-1-1.73c-.06-.11-.19-.15-.31-.11l-1.24.5c-.26-.2-.54-.37-.85-.49l-.19-1.32c-.01-.12-.12-.21-.24-.21h-2c-.12 0-.23.09-.25.21l-.19 1.32c-.3.13-.59.29-.85.49l-1.24-.5c-.11-.04-.24 0-.31.11l-1 1.73c-.06.11-.04.24.06.32l1.06.83c-.02.16-.03.32-.03.49 0 .17.01.33.03.49l-1.06.83c-.09.08-.12.21-.06.32l1 1.73c.06.11.19.15.31.11l1.24-.5c.26.2.54.37.85.49l.19 1.32c.02.12.12.21.25.21h2c.12 0 .23-.09.25-.21l.19-1.32c.3-.13.59-.29.84-.49l1.25.5c.11.04.24 0 .31-.11l1-1.73c.06-.11.03-.24-.06-.32l-1.07-.83zm-3.71 1.01c-.83 0-1.5-.67-1.5-1.5s.67-1.5 1.5-1.5 1.5.67 1.5 1.5-.67 1.5-1.5 1.5z"></path></g>
<g id="perm-device-information"><path d="M13 7h-2v2h2V7zm0 4h-2v6h2v-6zm4-9.99L7 1c-1.1 0-2 .9-2 2v18c0 1.1.9 2 2 2h10c1.1 0 2-.9 2-2V3c0-1.1-.9-1.99-2-1.99zM17 19H7V5h10v14z"></path></g>
<g id="perm-identity"><path d="M12 5.9c1.16 0 2.1.94 2.1 2.1s-.94 2.1-2.1 2.1S9.9 9.16 9.9 8s.94-2.1 2.1-2.1m0 9c2.97 0 6.1 1.46 6.1 2.1v1.1H5.9V17c0-.64 3.13-2.1 6.1-2.1M12 4C9.79 4 8 5.79 8 8s1.79 4 4 4 4-1.79 4-4-1.79-4-4-4zm0 9c-2.67 0-8 1.34-8 4v3h16v-3c0-2.66-5.33-4-8-4z"></path></g>
<g id="perm-media"><path d="M2 6H0v5h.01L0 20c0 1.1.9 2 2 2h18v-2H2V6zm20-2h-8l-2-2H6c-1.1 0-1.99.9-1.99 2L4 16c0 1.1.9 2 2 2h16c1.1 0 2-.9 2-2V6c0-1.1-.9-2-2-2zM7 15l4.5-6 3.5 4.51 2.5-3.01L21 15H7z"></path></g>
<g id="perm-phone-msg"><path d="M20 15.5c-1.25 0-2.45-.2-3.57-.57-.35-.11-.74-.03-1.02.24l-2.2 2.2c-2.83-1.44-5.15-3.75-6.59-6.58l2.2-2.21c.28-.27.36-.66.25-1.01C8.7 6.45 8.5 5.25 8.5 4c0-.55-.45-1-1-1H4c-.55 0-1 .45-1 1 0 9.39 7.61 17 17 17 .55 0 1-.45 1-1v-3.5c0-.55-.45-1-1-1zM12 3v10l3-3h6V3h-9z"></path></g>
<g id="perm-scan-wifi"><path d="M12 3C6.95 3 3.15 4.85 0 7.23L12 22 24 7.25C20.85 4.87 17.05 3 12 3zm1 13h-2v-6h2v6zm-2-8V6h2v2h-2z"></path></g>
<g id="pets"><circle cx="4.5" cy="9.5" r="2.5"></circle><circle cx="9" cy="5.5" r="2.5"></circle><circle cx="15" cy="5.5" r="2.5"></circle><circle cx="19.5" cy="9.5" r="2.5"></circle><path d="M17.34 14.86c-.87-1.02-1.6-1.89-2.48-2.91-.46-.54-1.05-1.08-1.75-1.32-.11-.04-.22-.07-.33-.09-.25-.04-.52-.04-.78-.04s-.53 0-.79.05c-.11.02-.22.05-.33.09-.7.24-1.28.78-1.75 1.32-.87 1.02-1.6 1.89-2.48 2.91-1.31 1.31-2.92 2.76-2.62 4.79.29 1.02 1.02 2.03 2.33 2.32.73.15 3.06-.44 5.54-.44h.18c2.48 0 4.81.58 5.54.44 1.31-.29 2.04-1.31 2.33-2.32.31-2.04-1.3-3.49-2.61-4.8z"></path></g>
<g id="picture-in-picture"><path d="M19 7h-8v6h8V7zm2-4H3c-1.1 0-2 .9-2 2v14c0 1.1.9 1.98 2 1.98h18c1.1 0 2-.88 2-1.98V5c0-1.1-.9-2-2-2zm0 16.01H3V4.98h18v14.03z"></path></g>
<g id="picture-in-picture-alt"><path d="M19 11h-8v6h8v-6zm4 8V4.98C23 3.88 22.1 3 21 3H3c-1.1 0-2 .88-2 1.98V19c0 1.1.9 2 2 2h18c1.1 0 2-.9 2-2zm-2 .02H3V4.97h18v14.05z"></path></g>
<g id="play-for-work"><path d="M11 5v5.59H7.5l4.5 4.5 4.5-4.5H13V5h-2zm-5 9c0 3.31 2.69 6 6 6s6-2.69 6-6h-2c0 2.21-1.79 4-4 4s-4-1.79-4-4H6z"></path></g>
<g id="polymer"><path d="M19 4h-4L7.11 16.63 4.5 12 9 4H5L.5 12 5 20h4l7.89-12.63L19.5 12 15 20h4l4.5-8z"></path></g>
<g id="power-settings-new"><path d="M13 3h-2v10h2V3zm4.83 2.17l-1.42 1.42C17.99 7.86 19 9.81 19 12c0 3.87-3.13 7-7 7s-7-3.13-7-7c0-2.19 1.01-4.14 2.58-5.42L6.17 5.17C4.23 6.82 3 9.26 3 12c0 4.97 4.03 9 9 9s9-4.03 9-9c0-2.74-1.23-5.18-3.17-6.83z"></path></g>
<g id="pregnant-woman"><path d="M9 4c0-1.11.89-2 2-2s2 .89 2 2-.89 2-2 2-2-.89-2-2zm7 9c-.01-1.34-.83-2.51-2-3 0-1.66-1.34-3-3-3s-3 1.34-3 3v7h2v5h3v-5h3v-4z"></path></g>
<g id="print"><path d="M19 8H5c-1.66 0-3 1.34-3 3v6h4v4h12v-4h4v-6c0-1.66-1.34-3-3-3zm-3 11H8v-5h8v5zm3-7c-.55 0-1-.45-1-1s.45-1 1-1 1 .45 1 1-.45 1-1 1zm-1-9H6v4h12V3z"></path></g>
<g id="query-builder"><path d="M11.99 2C6.47 2 2 6.48 2 12s4.47 10 9.99 10C17.52 22 22 17.52 22 12S17.52 2 11.99 2zM12 20c-4.42 0-8-3.58-8-8s3.58-8 8-8 8 3.58 8 8-3.58 8-8 8zm.5-13H11v6l5.25 3.15.75-1.23-4.5-2.67z"></path></g>
<g id="question-answer"><path d="M21 6h-2v9H6v2c0 .55.45 1 1 1h11l4 4V7c0-.55-.45-1-1-1zm-4 6V3c0-.55-.45-1-1-1H3c-.55 0-1 .45-1 1v14l4-4h10c.55 0 1-.45 1-1z"></path></g>
<g id="radio-button-checked"><path d="M12 7c-2.76 0-5 2.24-5 5s2.24 5 5 5 5-2.24 5-5-2.24-5-5-5zm0-5C6.48 2 2 6.48 2 12s4.48 10 10 10 10-4.48 10-10S17.52 2 12 2zm0 18c-4.42 0-8-3.58-8-8s3.58-8 8-8 8 3.58 8 8-3.58 8-8 8z"></path></g>
<g id="radio-button-unchecked"><path d="M12 2C6.48 2 2 6.48 2 12s4.48 10 10 10 10-4.48 10-10S17.52 2 12 2zm0 18c-4.42 0-8-3.58-8-8s3.58-8 8-8 8 3.58 8 8-3.58 8-8 8z"></path></g>
<g id="receipt"><path d="M18 17H6v-2h12v2zm0-4H6v-2h12v2zm0-4H6V7h12v2zM3 22l1.5-1.5L6 22l1.5-1.5L9 22l1.5-1.5L12 22l1.5-1.5L15 22l1.5-1.5L18 22l1.5-1.5L21 22V2l-1.5 1.5L18 2l-1.5 1.5L15 2l-1.5 1.5L12 2l-1.5 1.5L9 2 7.5 3.5 6 2 4.5 3.5 3 2v20z"></path></g>
<g id="record-voice-over"><circle cx="9" cy="9" r="4"></circle><path d="M9 15c-2.67 0-8 1.34-8 4v2h16v-2c0-2.66-5.33-4-8-4zm7.76-9.64l-1.68 1.69c.84 1.18.84 2.71 0 3.89l1.68 1.69c2.02-2.02 2.02-5.07 0-7.27zM20.07 2l-1.63 1.63c2.77 3.02 2.77 7.56 0 10.74L20.07 16c3.9-3.89 3.91-9.95 0-14z"></path></g>
<g id="redeem"><path d="M20 6h-2.18c.11-.31.18-.65.18-1 0-1.66-1.34-3-3-3-1.05 0-1.96.54-2.5 1.35l-.5.67-.5-.68C10.96 2.54 10.05 2 9 2 7.34 2 6 3.34 6 5c0 .35.07.69.18 1H4c-1.11 0-1.99.89-1.99 2L2 19c0 1.11.89 2 2 2h16c1.11 0 2-.89 2-2V8c0-1.11-.89-2-2-2zm-5-2c.55 0 1 .45 1 1s-.45 1-1 1-1-.45-1-1 .45-1 1-1zM9 4c.55 0 1 .45 1 1s-.45 1-1 1-1-.45-1-1 .45-1 1-1zm11 15H4v-2h16v2zm0-5H4V8h5.08L7 10.83 8.62 12 11 8.76l1-1.36 1 1.36L15.38 12 17 10.83 14.92 8H20v6z"></path></g>
<g id="redo"><path d="M18.4 10.6C16.55 8.99 14.15 8 11.5 8c-4.65 0-8.58 3.03-9.96 7.22L3.9 16c1.05-3.19 4.05-5.5 7.6-5.5 1.95 0 3.73.72 5.12 1.88L13 16h9V7l-3.6 3.6z"></path></g>
<g id="refresh"><path d="M17.65 6.35C16.2 4.9 14.21 4 12 4c-4.42 0-7.99 3.58-7.99 8s3.57 8 7.99 8c3.73 0 6.84-2.55 7.73-6h-2.08c-.82 2.33-3.04 4-5.65 4-3.31 0-6-2.69-6-6s2.69-6 6-6c1.66 0 3.14.69 4.22 1.78L13 11h7V4l-2.35 2.35z"></path></g>
<g id="remove"><path d="M19 13H5v-2h14v2z"></path></g>
<g id="remove-circle"><path d="M12 2C6.48 2 2 6.48 2 12s4.48 10 10 10 10-4.48 10-10S17.52 2 12 2zm5 11H7v-2h10v2z"></path></g>
<g id="remove-circle-outline"><path d="M7 11v2h10v-2H7zm5-9C6.48 2 2 6.48 2 12s4.48 10 10 10 10-4.48 10-10S17.52 2 12 2zm0 18c-4.41 0-8-3.59-8-8s3.59-8 8-8 8 3.59 8 8-3.59 8-8 8z"></path></g>
<g id="remove-shopping-cart"><path d="M22.73 22.73L2.77 2.77 2 2l-.73-.73L0 2.54l4.39 4.39 2.21 4.66-1.35 2.45c-.16.28-.25.61-.25.96 0 1.1.9 2 2 2h7.46l1.38 1.38c-.5.36-.83.95-.83 1.62 0 1.1.89 2 1.99 2 .67 0 1.26-.33 1.62-.84L21.46 24l1.27-1.27zM7.42 15c-.14 0-.25-.11-.25-.25l.03-.12.9-1.63h2.36l2 2H7.42zm8.13-2c.75 0 1.41-.41 1.75-1.03l3.58-6.49c.08-.14.12-.31.12-.48 0-.55-.45-1-1-1H6.54l9.01 9zM7 18c-1.1 0-1.99.9-1.99 2S5.9 22 7 22s2-.9 2-2-.9-2-2-2z"></path></g>
<g id="reorder"><path d="M3 15h18v-2H3v2zm0 4h18v-2H3v2zm0-8h18V9H3v2zm0-6v2h18V5H3z"></path></g>
<g id="reply"><path d="M10 9V5l-7 7 7 7v-4.1c5 0 8.5 1.6 11 5.1-1-5-4-10-11-11z"></path></g>
<g id="reply-all"><path d="M7 8V5l-7 7 7 7v-3l-4-4 4-4zm6 1V5l-7 7 7 7v-4.1c5 0 8.5 1.6 11 5.1-1-5-4-10-11-11z"></path></g>
<g id="report"><path d="M15.73 3H8.27L3 8.27v7.46L8.27 21h7.46L21 15.73V8.27L15.73 3zM12 17.3c-.72 0-1.3-.58-1.3-1.3 0-.72.58-1.3 1.3-1.3.72 0 1.3.58 1.3 1.3 0 .72-.58 1.3-1.3 1.3zm1-4.3h-2V7h2v6z"></path></g>
<g id="report-problem"><path d="M1 21h22L12 2 1 21zm12-3h-2v-2h2v2zm0-4h-2v-4h2v4z"></path></g>
<g id="restore"><path d="M13 3c-4.97 0-9 4.03-9 9H1l3.89 3.89.07.14L9 12H6c0-3.87 3.13-7 7-7s7 3.13 7 7-3.13 7-7 7c-1.93 0-3.68-.79-4.94-2.06l-1.42 1.42C8.27 19.99 10.51 21 13 21c4.97 0 9-4.03 9-9s-4.03-9-9-9zm-1 5v5l4.28 2.54.72-1.21-3.5-2.08V8H12z"></path></g>
<g id="restore-page"><path d="M14 2H6c-1.1 0-1.99.9-1.99 2L4 20c0 1.1.89 2 1.99 2H18c1.1 0 2-.9 2-2V8l-6-6zm-2 16c-2.05 0-3.81-1.24-4.58-3h1.71c.63.9 1.68 1.5 2.87 1.5 1.93 0 3.5-1.57 3.5-3.5S13.93 9.5 12 9.5c-1.35 0-2.52.78-3.1 1.9l1.6 1.6h-4V9l1.3 1.3C8.69 8.92 10.23 8 12 8c2.76 0 5 2.24 5 5s-2.24 5-5 5z"></path></g>
<g id="room"><path d="M12 2C8.13 2 5 5.13 5 9c0 5.25 7 13 7 13s7-7.75 7-13c0-3.87-3.13-7-7-7zm0 9.5c-1.38 0-2.5-1.12-2.5-2.5s1.12-2.5 2.5-2.5 2.5 1.12 2.5 2.5-1.12 2.5-2.5 2.5z"></path></g>
<g id="rounded-corner"><path d="M19 19h2v2h-2v-2zm0-2h2v-2h-2v2zM3 13h2v-2H3v2zm0 4h2v-2H3v2zm0-8h2V7H3v2zm0-4h2V3H3v2zm4 0h2V3H7v2zm8 16h2v-2h-2v2zm-4 0h2v-2h-2v2zm4 0h2v-2h-2v2zm-8 0h2v-2H7v2zm-4 0h2v-2H3v2zM21 8c0-2.76-2.24-5-5-5h-5v2h5c1.65 0 3 1.35 3 3v5h2V8z"></path></g>
<g id="rowing"><path d="M8.5 14.5L4 19l1.5 1.5L9 17h2l-2.5-2.5zM15 1c-1.1 0-2 .9-2 2s.9 2 2 2 2-.9 2-2-.9-2-2-2zm6 20.01L18 24l-2.99-3.01V19.5l-7.1-7.09c-.31.05-.61.07-.91.07v-2.16c1.66.03 3.61-.87 4.67-2.04l1.4-1.55c.19-.21.43-.38.69-.5.29-.14.62-.23.96-.23h.03C15.99 6.01 17 7.02 17 8.26v5.75c0 .84-.35 1.61-.92 2.16l-3.58-3.58v-2.27c-.63.52-1.43 1.02-2.29 1.39L16.5 18H18l3 3.01z"></path></g>
<g id="save"><path d="M17 3H5c-1.11 0-2 .9-2 2v14c0 1.1.89 2 2 2h14c1.1 0 2-.9 2-2V7l-4-4zm-5 16c-1.66 0-3-1.34-3-3s1.34-3 3-3 3 1.34 3 3-1.34 3-3 3zm3-10H5V5h10v4z"></path></g>
<g id="schedule"><path d="M11.99 2C6.47 2 2 6.48 2 12s4.47 10 9.99 10C17.52 22 22 17.52 22 12S17.52 2 11.99 2zM12 20c-4.42 0-8-3.58-8-8s3.58-8 8-8 8 3.58 8 8-3.58 8-8 8zm.5-13H11v6l5.25 3.15.75-1.23-4.5-2.67z"></path></g>
<g id="search"><path d="M15.5 14h-.79l-.28-.27C15.41 12.59 16 11.11 16 9.5 16 5.91 13.09 3 9.5 3S3 5.91 3 9.5 5.91 16 9.5 16c1.61 0 3.09-.59 4.23-1.57l.27.28v.79l5 4.99L20.49 19l-4.99-5zm-6 0C7.01 14 5 11.99 5 9.5S7.01 5 9.5 5 14 7.01 14 9.5 11.99 14 9.5 14z"></path></g>
<g id="select-all"><path d="M3 5h2V3c-1.1 0-2 .9-2 2zm0 8h2v-2H3v2zm4 8h2v-2H7v2zM3 9h2V7H3v2zm10-6h-2v2h2V3zm6 0v2h2c0-1.1-.9-2-2-2zM5 21v-2H3c0 1.1.9 2 2 2zm-2-4h2v-2H3v2zM9 3H7v2h2V3zm2 18h2v-2h-2v2zm8-8h2v-2h-2v2zm0 8c1.1 0 2-.9 2-2h-2v2zm0-12h2V7h-2v2zm0 8h2v-2h-2v2zm-4 4h2v-2h-2v2zm0-16h2V3h-2v2zM7 17h10V7H7v10zm2-8h6v6H9V9z"></path></g>
<g id="send"><path d="M2.01 21L23 12 2.01 3 2 10l15 2-15 2z"></path></g>
<g id="settings"><path d="M19.43 12.98c.04-.32.07-.64.07-.98s-.03-.66-.07-.98l2.11-1.65c.19-.15.24-.42.12-.64l-2-3.46c-.12-.22-.39-.3-.61-.22l-2.49 1c-.52-.4-1.08-.73-1.69-.98l-.38-2.65C14.46 2.18 14.25 2 14 2h-4c-.25 0-.46.18-.49.42l-.38 2.65c-.61.25-1.17.59-1.69.98l-2.49-1c-.23-.09-.49 0-.61.22l-2 3.46c-.13.22-.07.49.12.64l2.11 1.65c-.04.32-.07.65-.07.98s.03.66.07.98l-2.11 1.65c-.19.15-.24.42-.12.64l2 3.46c.12.22.39.3.61.22l2.49-1c.52.4 1.08.73 1.69.98l.38 2.65c.03.24.24.42.49.42h4c.25 0 .46-.18.49-.42l.38-2.65c.61-.25 1.17-.59 1.69-.98l2.49 1c.23.09.49 0 .61-.22l2-3.46c.12-.22.07-.49-.12-.64l-2.11-1.65zM12 15.5c-1.93 0-3.5-1.57-3.5-3.5s1.57-3.5 3.5-3.5 3.5 1.57 3.5 3.5-1.57 3.5-3.5 3.5z"></path></g>
<g id="settings-applications"><path d="M12 10c-1.1 0-2 .9-2 2s.9 2 2 2 2-.9 2-2-.9-2-2-2zm7-7H5c-1.11 0-2 .9-2 2v14c0 1.1.89 2 2 2h14c1.11 0 2-.9 2-2V5c0-1.1-.89-2-2-2zm-1.75 9c0 .23-.02.46-.05.68l1.48 1.16c.13.11.17.3.08.45l-1.4 2.42c-.09.15-.27.21-.43.15l-1.74-.7c-.36.28-.76.51-1.18.69l-.26 1.85c-.03.17-.18.3-.35.3h-2.8c-.17 0-.32-.13-.35-.29l-.26-1.85c-.43-.18-.82-.41-1.18-.69l-1.74.7c-.16.06-.34 0-.43-.15l-1.4-2.42c-.09-.15-.05-.34.08-.45l1.48-1.16c-.03-.23-.05-.46-.05-.69 0-.23.02-.46.05-.68l-1.48-1.16c-.13-.11-.17-.3-.08-.45l1.4-2.42c.09-.15.27-.21.43-.15l1.74.7c.36-.28.76-.51 1.18-.69l.26-1.85c.03-.17.18-.3.35-.3h2.8c.17 0 .32.13.35.29l.26 1.85c.43.18.82.41 1.18.69l1.74-.7c.16-.06.34 0 .43.15l1.4 2.42c.09.15.05.34-.08.45l-1.48 1.16c.03.23.05.46.05.69z"></path></g>
<g id="settings-backup-restore"><path d="M14 12c0-1.1-.9-2-2-2s-2 .9-2 2 .9 2 2 2 2-.9 2-2zm-2-9c-4.97 0-9 4.03-9 9H0l4 4 4-4H5c0-3.87 3.13-7 7-7s7 3.13 7 7-3.13 7-7 7c-1.51 0-2.91-.49-4.06-1.3l-1.42 1.44C8.04 20.3 9.94 21 12 21c4.97 0 9-4.03 9-9s-4.03-9-9-9z"></path></g>
<g id="settings-bluetooth"><path d="M11 24h2v-2h-2v2zm-4 0h2v-2H7v2zm8 0h2v-2h-2v2zm2.71-18.29L12 0h-1v7.59L6.41 3 5 4.41 10.59 10 5 15.59 6.41 17 11 12.41V20h1l5.71-5.71-4.3-4.29 4.3-4.29zM13 3.83l1.88 1.88L13 7.59V3.83zm1.88 10.46L13 16.17v-3.76l1.88 1.88z"></path></g>
<g id="settings-brightness"><path d="M21 3H3c-1.1 0-2 .9-2 2v14c0 1.1.9 2 2 2h18c1.1 0 2-.9 2-2V5c0-1.1-.9-2-2-2zm0 16.01H3V4.99h18v14.02zM8 16h2.5l1.5 1.5 1.5-1.5H16v-2.5l1.5-1.5-1.5-1.5V8h-2.5L12 6.5 10.5 8H8v2.5L6.5 12 8 13.5V16zm4-7c1.66 0 3 1.34 3 3s-1.34 3-3 3V9z"></path></g>
<g id="settings-cell"><path d="M7 24h2v-2H7v2zm4 0h2v-2h-2v2zm4 0h2v-2h-2v2zM16 .01L8 0C6.9 0 6 .9 6 2v16c0 1.1.9 2 2 2h8c1.1 0 2-.9 2-2V2c0-1.1-.9-1.99-2-1.99zM16 16H8V4h8v12z"></path></g>
<g id="settings-ethernet"><path d="M7.77 6.76L6.23 5.48.82 12l5.41 6.52 1.54-1.28L3.42 12l4.35-5.24zM7 13h2v-2H7v2zm10-2h-2v2h2v-2zm-6 2h2v-2h-2v2zm6.77-7.52l-1.54 1.28L20.58 12l-4.35 5.24 1.54 1.28L23.18 12l-5.41-6.52z"></path></g>
<g id="settings-input-antenna"><path d="M12 5c-3.87 0-7 3.13-7 7h2c0-2.76 2.24-5 5-5s5 2.24 5 5h2c0-3.87-3.13-7-7-7zm1 9.29c.88-.39 1.5-1.26 1.5-2.29 0-1.38-1.12-2.5-2.5-2.5S9.5 10.62 9.5 12c0 1.02.62 1.9 1.5 2.29v3.3L7.59 21 9 22.41l3-3 3 3L16.41 21 13 17.59v-3.3zM12 1C5.93 1 1 5.93 1 12h2c0-4.97 4.03-9 9-9s9 4.03 9 9h2c0-6.07-4.93-11-11-11z"></path></g>
<g id="settings-input-component"><path d="M5 2c0-.55-.45-1-1-1s-1 .45-1 1v4H1v6h6V6H5V2zm4 14c0 1.3.84 2.4 2 2.82V23h2v-4.18c1.16-.41 2-1.51 2-2.82v-2H9v2zm-8 0c0 1.3.84 2.4 2 2.82V23h2v-4.18C6.16 18.4 7 17.3 7 16v-2H1v2zM21 6V2c0-.55-.45-1-1-1s-1 .45-1 1v4h-2v6h6V6h-2zm-8-4c0-.55-.45-1-1-1s-1 .45-1 1v4H9v6h6V6h-2V2zm4 14c0 1.3.84 2.4 2 2.82V23h2v-4.18c1.16-.41 2-1.51 2-2.82v-2h-6v2z"></path></g>
<g id="settings-input-composite"><path d="M5 2c0-.55-.45-1-1-1s-1 .45-1 1v4H1v6h6V6H5V2zm4 14c0 1.3.84 2.4 2 2.82V23h2v-4.18c1.16-.41 2-1.51 2-2.82v-2H9v2zm-8 0c0 1.3.84 2.4 2 2.82V23h2v-4.18C6.16 18.4 7 17.3 7 16v-2H1v2zM21 6V2c0-.55-.45-1-1-1s-1 .45-1 1v4h-2v6h6V6h-2zm-8-4c0-.55-.45-1-1-1s-1 .45-1 1v4H9v6h6V6h-2V2zm4 14c0 1.3.84 2.4 2 2.82V23h2v-4.18c1.16-.41 2-1.51 2-2.82v-2h-6v2z"></path></g>
<g id="settings-input-hdmi"><path d="M18 7V4c0-1.1-.9-2-2-2H8c-1.1 0-2 .9-2 2v3H5v6l3 6v3h8v-3l3-6V7h-1zM8 4h8v3h-2V5h-1v2h-2V5h-1v2H8V4z"></path></g>
<g id="settings-input-svideo"><path d="M8 11.5c0-.83-.67-1.5-1.5-1.5S5 10.67 5 11.5 5.67 13 6.5 13 8 12.33 8 11.5zm7-5c0-.83-.67-1.5-1.5-1.5h-3C9.67 5 9 5.67 9 6.5S9.67 8 10.5 8h3c.83 0 1.5-.67 1.5-1.5zM8.5 15c-.83 0-1.5.67-1.5 1.5S7.67 18 8.5 18s1.5-.67 1.5-1.5S9.33 15 8.5 15zM12 1C5.93 1 1 5.93 1 12s4.93 11 11 11 11-4.93 11-11S18.07 1 12 1zm0 20c-4.96 0-9-4.04-9-9s4.04-9 9-9 9 4.04 9 9-4.04 9-9 9zm5.5-11c-.83 0-1.5.67-1.5 1.5s.67 1.5 1.5 1.5 1.5-.67 1.5-1.5-.67-1.5-1.5-1.5zm-2 5c-.83 0-1.5.67-1.5 1.5s.67 1.5 1.5 1.5 1.5-.67 1.5-1.5-.67-1.5-1.5-1.5z"></path></g>
<g id="settings-overscan"><path d="M12.01 5.5L10 8h4l-1.99-2.5zM18 10v4l2.5-1.99L18 10zM6 10l-2.5 2.01L6 14v-4zm8 6h-4l2.01 2.5L14 16zm7-13H3c-1.1 0-2 .9-2 2v14c0 1.1.9 2 2 2h18c1.1 0 2-.9 2-2V5c0-1.1-.9-2-2-2zm0 16.01H3V4.99h18v14.02z"></path></g>
<g id="settings-phone"><path d="M13 9h-2v2h2V9zm4 0h-2v2h2V9zm3 6.5c-1.25 0-2.45-.2-3.57-.57-.35-.11-.74-.03-1.02.24l-2.2 2.2c-2.83-1.44-5.15-3.75-6.59-6.58l2.2-2.21c.28-.27.36-.66.25-1.01C8.7 6.45 8.5 5.25 8.5 4c0-.55-.45-1-1-1H4c-.55 0-1 .45-1 1 0 9.39 7.61 17 17 17 .55 0 1-.45 1-1v-3.5c0-.55-.45-1-1-1zM19 9v2h2V9h-2z"></path></g>
<g id="settings-power"><path d="M7 24h2v-2H7v2zm4 0h2v-2h-2v2zm2-22h-2v10h2V2zm3.56 2.44l-1.45 1.45C16.84 6.94 18 8.83 18 11c0 3.31-2.69 6-6 6s-6-2.69-6-6c0-2.17 1.16-4.06 2.88-5.12L7.44 4.44C5.36 5.88 4 8.28 4 11c0 4.42 3.58 8 8 8s8-3.58 8-8c0-2.72-1.36-5.12-3.44-6.56zM15 24h2v-2h-2v2z"></path></g>
<g id="settings-remote"><path d="M15 9H9c-.55 0-1 .45-1 1v12c0 .55.45 1 1 1h6c.55 0 1-.45 1-1V10c0-.55-.45-1-1-1zm-3 6c-1.1 0-2-.9-2-2s.9-2 2-2 2 .9 2 2-.9 2-2 2zM7.05 6.05l1.41 1.41C9.37 6.56 10.62 6 12 6s2.63.56 3.54 1.46l1.41-1.41C15.68 4.78 13.93 4 12 4s-3.68.78-4.95 2.05zM12 0C8.96 0 6.21 1.23 4.22 3.22l1.41 1.41C7.26 3.01 9.51 2 12 2s4.74 1.01 6.36 2.64l1.41-1.41C17.79 1.23 15.04 0 12 0z"></path></g>
<g id="settings-voice"><path d="M7 24h2v-2H7v2zm5-11c1.66 0 2.99-1.34 2.99-3L15 4c0-1.66-1.34-3-3-3S9 2.34 9 4v6c0 1.66 1.34 3 3 3zm-1 11h2v-2h-2v2zm4 0h2v-2h-2v2zm4-14h-1.7c0 3-2.54 5.1-5.3 5.1S6.7 13 6.7 10H5c0 3.41 2.72 6.23 6 6.72V20h2v-3.28c3.28-.49 6-3.31 6-6.72z"></path></g>
<g id="shop"><path d="M16 6V4c0-1.11-.89-2-2-2h-4c-1.11 0-2 .89-2 2v2H2v13c0 1.11.89 2 2 2h16c1.11 0 2-.89 2-2V6h-6zm-6-2h4v2h-4V4zM9 18V9l7.5 4L9 18z"></path></g>
<g id="shop-two"><path d="M3 9H1v11c0 1.11.89 2 2 2h14c1.11 0 2-.89 2-2H3V9zm15-4V3c0-1.11-.89-2-2-2h-4c-1.11 0-2 .89-2 2v2H5v11c0 1.11.89 2 2 2h14c1.11 0 2-.89 2-2V5h-5zm-6-2h4v2h-4V3zm0 12V8l5.5 3-5.5 4z"></path></g>
<g id="shopping-basket"><path d="M17.21 9l-4.38-6.56c-.19-.28-.51-.42-.83-.42-.32 0-.64.14-.83.43L6.79 9H2c-.55 0-1 .45-1 1 0 .09.01.18.04.27l2.54 9.27c.23.84 1 1.46 1.92 1.46h13c.92 0 1.69-.62 1.93-1.46l2.54-9.27L23 10c0-.55-.45-1-1-1h-4.79zM9 9l3-4.4L15 9H9zm3 8c-1.1 0-2-.9-2-2s.9-2 2-2 2 .9 2 2-.9 2-2 2z"></path></g>
<g id="shopping-cart"><path d="M7 18c-1.1 0-1.99.9-1.99 2S5.9 22 7 22s2-.9 2-2-.9-2-2-2zM1 2v2h2l3.6 7.59-1.35 2.45c-.16.28-.25.61-.25.96 0 1.1.9 2 2 2h12v-2H7.42c-.14 0-.25-.11-.25-.25l.03-.12.9-1.63h7.45c.75 0 1.41-.41 1.75-1.03l3.58-6.49c.08-.14.12-.31.12-.48 0-.55-.45-1-1-1H5.21l-.94-2H1zm16 16c-1.1 0-1.99.9-1.99 2s.89 2 1.99 2 2-.9 2-2-.9-2-2-2z"></path></g>
<g id="sort"><path d="M3 18h6v-2H3v2zM3 6v2h18V6H3zm0 7h12v-2H3v2z"></path></g>
<g id="speaker-notes"><path d="M20 2H4c-1.1 0-1.99.9-1.99 2L2 22l4-4h14c1.1 0 2-.9 2-2V4c0-1.1-.9-2-2-2zM8 14H6v-2h2v2zm0-3H6V9h2v2zm0-3H6V6h2v2zm7 6h-5v-2h5v2zm3-3h-8V9h8v2zm0-3h-8V6h8v2z"></path></g>
<g id="speaker-notes-off"><path d="M10.54 11l-.54-.54L7.54 8 6 6.46 2.38 2.84 1.27 1.73 0 3l2.01 2.01L2 22l4-4h9l5.73 5.73L22 22.46 17.54 18l-7-7zM8 14H6v-2h2v2zm-2-3V9l2 2H6zm14-9H4.08L10 7.92V6h8v2h-7.92l1 1H18v2h-4.92l6.99 6.99C21.14 17.95 22 17.08 22 16V4c0-1.1-.9-2-2-2z"></path></g>
<g id="spellcheck"><path d="M12.45 16h2.09L9.43 3H7.57L2.46 16h2.09l1.12-3h5.64l1.14 3zm-6.02-5L8.5 5.48 10.57 11H6.43zm15.16.59l-8.09 8.09L9.83 16l-1.41 1.41 5.09 5.09L23 13l-1.41-1.41z"></path></g>
<g id="star"><path d="M12 17.27L18.18 21l-1.64-7.03L22 9.24l-7.19-.61L12 2 9.19 8.63 2 9.24l5.46 4.73L5.82 21z"></path></g>
<g id="star-border"><path d="M22 9.24l-7.19-.62L12 2 9.19 8.63 2 9.24l5.46 4.73L5.82 21 12 17.27 18.18 21l-1.63-7.03L22 9.24zM12 15.4l-3.76 2.27 1-4.28-3.32-2.88 4.38-.38L12 6.1l1.71 4.04 4.38.38-3.32 2.88 1 4.28L12 15.4z"></path></g>
<g id="star-half"><path d="M22 9.24l-7.19-.62L12 2 9.19 8.63 2 9.24l5.46 4.73L5.82 21 12 17.27 18.18 21l-1.63-7.03L22 9.24zM12 15.4V6.1l1.71 4.04 4.38.38-3.32 2.88 1 4.28L12 15.4z"></path></g>
<g id="stars"><path d="M11.99 2C6.47 2 2 6.48 2 12s4.47 10 9.99 10C17.52 22 22 17.52 22 12S17.52 2 11.99 2zm4.24 16L12 15.45 7.77 18l1.12-4.81-3.73-3.23 4.92-.42L12 5l1.92 4.53 4.92.42-3.73 3.23L16.23 18z"></path></g>
<g id="store"><path d="M20 4H4v2h16V4zm1 10v-2l-1-5H4l-1 5v2h1v6h10v-6h4v6h2v-6h1zm-9 4H6v-4h6v4z"></path></g>
<g id="subdirectory-arrow-left"><path d="M11 9l1.42 1.42L8.83 14H18V4h2v12H8.83l3.59 3.58L11 21l-6-6 6-6z"></path></g>
<g id="subdirectory-arrow-right"><path d="M19 15l-6 6-1.42-1.42L15.17 16H4V4h2v10h9.17l-3.59-3.58L13 9l6 6z"></path></g>
<g id="subject"><path d="M14 17H4v2h10v-2zm6-8H4v2h16V9zM4 15h16v-2H4v2zM4 5v2h16V5H4z"></path></g>
<g id="supervisor-account"><path d="M16.5 12c1.38 0 2.49-1.12 2.49-2.5S17.88 7 16.5 7C15.12 7 14 8.12 14 9.5s1.12 2.5 2.5 2.5zM9 11c1.66 0 2.99-1.34 2.99-3S10.66 5 9 5C7.34 5 6 6.34 6 8s1.34 3 3 3zm7.5 3c-1.83 0-5.5.92-5.5 2.75V19h11v-2.25c0-1.83-3.67-2.75-5.5-2.75zM9 13c-2.33 0-7 1.17-7 3.5V19h7v-2.25c0-.85.33-2.34 2.37-3.47C10.5 13.1 9.66 13 9 13z"></path></g>
<g id="swap-horiz"><path d="M6.99 11L3 15l3.99 4v-3H14v-2H6.99v-3zM21 9l-3.99-4v3H10v2h7.01v3L21 9z"></path></g>
<g id="swap-vert"><path d="M16 17.01V10h-2v7.01h-3L15 21l4-3.99h-3zM9 3L5 6.99h3V14h2V6.99h3L9 3z"></path></g>
<g id="swap-vertical-circle"><path d="M12 2C6.48 2 2 6.48 2 12s4.48 10 10 10 10-4.48 10-10S17.52 2 12 2zM6.5 9L10 5.5 13.5 9H11v4H9V9H6.5zm11 6L14 18.5 10.5 15H13v-4h2v4h2.5z"></path></g>
<g id="system-update-alt"><path d="M12 16.5l4-4h-3v-9h-2v9H8l4 4zm9-13h-6v1.99h6v14.03H3V5.49h6V3.5H3c-1.1 0-2 .9-2 2v14c0 1.1.9 2 2 2h18c1.1 0 2-.9 2-2v-14c0-1.1-.9-2-2-2z"></path></g>
<g id="tab"><path d="M21 3H3c-1.1 0-2 .9-2 2v14c0 1.1.9 2 2 2h18c1.1 0 2-.9 2-2V5c0-1.1-.9-2-2-2zm0 16H3V5h10v4h8v10z"></path></g>
<g id="tab-unselected"><path d="M1 9h2V7H1v2zm0 4h2v-2H1v2zm0-8h2V3c-1.1 0-2 .9-2 2zm8 16h2v-2H9v2zm-8-4h2v-2H1v2zm2 4v-2H1c0 1.1.9 2 2 2zM21 3h-8v6h10V5c0-1.1-.9-2-2-2zm0 14h2v-2h-2v2zM9 5h2V3H9v2zM5 21h2v-2H5v2zM5 5h2V3H5v2zm16 16c1.1 0 2-.9 2-2h-2v2zm0-8h2v-2h-2v2zm-8 8h2v-2h-2v2zm4 0h2v-2h-2v2z"></path></g>
<g id="text-format"><path d="M5 17v2h14v-2H5zm4.5-4.2h5l.9 2.2h2.1L12.75 4h-1.5L6.5 15h2.1l.9-2.2zM12 5.98L13.87 11h-3.74L12 5.98z"></path></g>
<g id="theaters"><path d="M18 3v2h-2V3H8v2H6V3H4v18h2v-2h2v2h8v-2h2v2h2V3h-2zM8 17H6v-2h2v2zm0-4H6v-2h2v2zm0-4H6V7h2v2zm10 8h-2v-2h2v2zm0-4h-2v-2h2v2zm0-4h-2V7h2v2z"></path></g>
<g id="thumb-down"><path d="M15 3H6c-.83 0-1.54.5-1.84 1.22l-3.02 7.05c-.09.23-.14.47-.14.73v1.91l.01.01L1 14c0 1.1.9 2 2 2h6.31l-.95 4.57-.03.32c0 .41.17.79.44 1.06L9.83 23l6.59-6.59c.36-.36.58-.86.58-1.41V5c0-1.1-.9-2-2-2zm4 0v12h4V3h-4z"></path></g>
<g id="thumb-up"><path d="M1 21h4V9H1v12zm22-11c0-1.1-.9-2-2-2h-6.31l.95-4.57.03-.32c0-.41-.17-.79-.44-1.06L14.17 1 7.59 7.59C7.22 7.95 7 8.45 7 9v10c0 1.1.9 2 2 2h9c.83 0 1.54-.5 1.84-1.22l3.02-7.05c.09-.23.14-.47.14-.73v-1.91l-.01-.01L23 10z"></path></g>
<g id="thumbs-up-down"><path d="M12 6c0-.55-.45-1-1-1H5.82l.66-3.18.02-.23c0-.31-.13-.59-.33-.8L5.38 0 .44 4.94C.17 5.21 0 5.59 0 6v6.5c0 .83.67 1.5 1.5 1.5h6.75c.62 0 1.15-.38 1.38-.91l2.26-5.29c.07-.17.11-.36.11-.55V6zm10.5 4h-6.75c-.62 0-1.15.38-1.38.91l-2.26 5.29c-.07.17-.11.36-.11.55V18c0 .55.45 1 1 1h5.18l-.66 3.18-.02.24c0 .31.13.59.33.8l.79.78 4.94-4.94c.27-.27.44-.65.44-1.06v-6.5c0-.83-.67-1.5-1.5-1.5z"></path></g>
<g id="timeline"><path d="M23 8c0 1.1-.9 2-2 2-.18 0-.35-.02-.51-.07l-3.56 3.55c.05.16.07.34.07.52 0 1.1-.9 2-2 2s-2-.9-2-2c0-.18.02-.36.07-.52l-2.55-2.55c-.16.05-.34.07-.52.07s-.36-.02-.52-.07l-4.55 4.56c.05.16.07.33.07.51 0 1.1-.9 2-2 2s-2-.9-2-2 .9-2 2-2c.18 0 .35.02.51.07l4.56-4.55C8.02 9.36 8 9.18 8 9c0-1.1.9-2 2-2s2 .9 2 2c0 .18-.02.36-.07.52l2.55 2.55c.16-.05.34-.07.52-.07s.36.02.52.07l3.55-3.56C19.02 8.35 19 8.18 19 8c0-1.1.9-2 2-2s2 .9 2 2z"></path></g>
<g id="toc"><path d="M3 9h14V7H3v2zm0 4h14v-2H3v2zm0 4h14v-2H3v2zm16 0h2v-2h-2v2zm0-10v2h2V7h-2zm0 6h2v-2h-2v2z"></path></g>
<g id="today"><path d="M19 3h-1V1h-2v2H8V1H6v2H5c-1.11 0-1.99.9-1.99 2L3 19c0 1.1.89 2 2 2h14c1.1 0 2-.9 2-2V5c0-1.1-.9-2-2-2zm0 16H5V8h14v11zM7 10h5v5H7z"></path></g>
<g id="toll"><path d="M15 4c-4.42 0-8 3.58-8 8s3.58 8 8 8 8-3.58 8-8-3.58-8-8-8zm0 14c-3.31 0-6-2.69-6-6s2.69-6 6-6 6 2.69 6 6-2.69 6-6 6zM3 12c0-2.61 1.67-4.83 4-5.65V4.26C3.55 5.15 1 8.27 1 12s2.55 6.85 6 7.74v-2.09c-2.33-.82-4-3.04-4-5.65z"></path></g>
<g id="touch-app"><path d="M9 11.24V7.5C9 6.12 10.12 5 11.5 5S14 6.12 14 7.5v3.74c1.21-.81 2-2.18 2-3.74C16 5.01 13.99 3 11.5 3S7 5.01 7 7.5c0 1.56.79 2.93 2 3.74zm9.84 4.63l-4.54-2.26c-.17-.07-.35-.11-.54-.11H13v-6c0-.83-.67-1.5-1.5-1.5S10 6.67 10 7.5v10.74l-3.43-.72c-.08-.01-.15-.03-.24-.03-.31 0-.59.13-.79.33l-.79.8 4.94 4.94c.27.27.65.44 1.06.44h6.79c.75 0 1.33-.55 1.44-1.28l.75-5.27c.01-.07.02-.14.02-.2 0-.62-.38-1.16-.91-1.38z"></path></g>
<g id="track-changes"><path d="M19.07 4.93l-1.41 1.41C19.1 7.79 20 9.79 20 12c0 4.42-3.58 8-8 8s-8-3.58-8-8c0-4.08 3.05-7.44 7-7.93v2.02C8.16 6.57 6 9.03 6 12c0 3.31 2.69 6 6 6s6-2.69 6-6c0-1.66-.67-3.16-1.76-4.24l-1.41 1.41C15.55 9.9 16 10.9 16 12c0 2.21-1.79 4-4 4s-4-1.79-4-4c0-1.86 1.28-3.41 3-3.86v2.14c-.6.35-1 .98-1 1.72 0 1.1.9 2 2 2s2-.9 2-2c0-.74-.4-1.38-1-1.72V2h-1C6.48 2 2 6.48 2 12s4.48 10 10 10 10-4.48 10-10c0-2.76-1.12-5.26-2.93-7.07z"></path></g>
<g id="translate"><path d="M12.87 15.07l-2.54-2.51.03-.03c1.74-1.94 2.98-4.17 3.71-6.53H17V4h-7V2H8v2H1v1.99h11.17C11.5 7.92 10.44 9.75 9 11.35 8.07 10.32 7.3 9.19 6.69 8h-2c.73 1.63 1.73 3.17 2.98 4.56l-5.09 5.02L4 19l5-5 3.11 3.11.76-2.04zM18.5 10h-2L12 22h2l1.12-3h4.75L21 22h2l-4.5-12zm-2.62 7l1.62-4.33L19.12 17h-3.24z"></path></g>
<g id="trending-down"><path d="M16 18l2.29-2.29-4.88-4.88-4 4L2 7.41 3.41 6l6 6 4-4 6.3 6.29L22 12v6z"></path></g>
<g id="trending-flat"><path d="M22 12l-4-4v3H3v2h15v3z"></path></g>
<g id="trending-up"><path d="M16 6l2.29 2.29-4.88 4.88-4-4L2 16.59 3.41 18l6-6 4 4 6.3-6.29L22 12V6z"></path></g>
<g id="turned-in"><path d="M17 3H7c-1.1 0-1.99.9-1.99 2L5 21l7-3 7 3V5c0-1.1-.9-2-2-2z"></path></g>
<g id="turned-in-not"><path d="M17 3H7c-1.1 0-1.99.9-1.99 2L5 21l7-3 7 3V5c0-1.1-.9-2-2-2zm0 15l-5-2.18L7 18V5h10v13z"></path></g>
<g id="unarchive"><path d="M20.55 5.22l-1.39-1.68C18.88 3.21 18.47 3 18 3H6c-.47 0-.88.21-1.15.55L3.46 5.22C3.17 5.57 3 6.01 3 6.5V19c0 1.1.89 2 2 2h14c1.1 0 2-.9 2-2V6.5c0-.49-.17-.93-.45-1.28zM12 9.5l5.5 5.5H14v2h-4v-2H6.5L12 9.5zM5.12 5l.82-1h12l.93 1H5.12z"></path></g>
<g id="undo"><path d="M12.5 8c-2.65 0-5.05.99-6.9 2.6L2 7v9h9l-3.62-3.62c1.39-1.16 3.16-1.88 5.12-1.88 3.54 0 6.55 2.31 7.6 5.5l2.37-.78C21.08 11.03 17.15 8 12.5 8z"></path></g>
<g id="unfold-less"><path d="M7.41 18.59L8.83 20 12 16.83 15.17 20l1.41-1.41L12 14l-4.59 4.59zm9.18-13.18L15.17 4 12 7.17 8.83 4 7.41 5.41 12 10l4.59-4.59z"></path></g>
<g id="unfold-more"><path d="M12 5.83L15.17 9l1.41-1.41L12 3 7.41 7.59 8.83 9 12 5.83zm0 12.34L8.83 15l-1.41 1.41L12 21l4.59-4.59L15.17 15 12 18.17z"></path></g>
<g id="update"><path d="M21 10.12h-6.78l2.74-2.82c-2.73-2.7-7.15-2.8-9.88-.1-2.73 2.71-2.73 7.08 0 9.79 2.73 2.71 7.15 2.71 9.88 0C18.32 15.65 19 14.08 19 12.1h2c0 1.98-.88 4.55-2.64 6.29-3.51 3.48-9.21 3.48-12.72 0-3.5-3.47-3.53-9.11-.02-12.58 3.51-3.47 9.14-3.47 12.65 0L21 3v7.12zM12.5 8v4.25l3.5 2.08-.72 1.21L11 13V8h1.5z"></path></g>
<g id="verified-user"><path d="M12 1L3 5v6c0 5.55 3.84 10.74 9 12 5.16-1.26 9-6.45 9-12V5l-9-4zm-2 16l-4-4 1.41-1.41L10 14.17l6.59-6.59L18 9l-8 8z"></path></g>
<g id="view-agenda"><path d="M20 13H3c-.55 0-1 .45-1 1v6c0 .55.45 1 1 1h17c.55 0 1-.45 1-1v-6c0-.55-.45-1-1-1zm0-10H3c-.55 0-1 .45-1 1v6c0 .55.45 1 1 1h17c.55 0 1-.45 1-1V4c0-.55-.45-1-1-1z"></path></g>
<g id="view-array"><path d="M4 18h3V5H4v13zM18 5v13h3V5h-3zM8 18h9V5H8v13z"></path></g>
<g id="view-carousel"><path d="M7 19h10V4H7v15zm-5-2h4V6H2v11zM18 6v11h4V6h-4z"></path></g>
<g id="view-column"><path d="M10 18h5V5h-5v13zm-6 0h5V5H4v13zM16 5v13h5V5h-5z"></path></g>
<g id="view-day"><path d="M2 21h19v-3H2v3zM20 8H3c-.55 0-1 .45-1 1v6c0 .55.45 1 1 1h17c.55 0 1-.45 1-1V9c0-.55-.45-1-1-1zM2 3v3h19V3H2z"></path></g>
<g id="view-headline"><path d="M4 15h16v-2H4v2zm0 4h16v-2H4v2zm0-8h16V9H4v2zm0-6v2h16V5H4z"></path></g>
<g id="view-list"><path d="M4 14h4v-4H4v4zm0 5h4v-4H4v4zM4 9h4V5H4v4zm5 5h12v-4H9v4zm0 5h12v-4H9v4zM9 5v4h12V5H9z"></path></g>
<g id="view-module"><path d="M4 11h5V5H4v6zm0 7h5v-6H4v6zm6 0h5v-6h-5v6zm6 0h5v-6h-5v6zm-6-7h5V5h-5v6zm6-6v6h5V5h-5z"></path></g>
<g id="view-quilt"><path d="M10 18h5v-6h-5v6zm-6 0h5V5H4v13zm12 0h5v-6h-5v6zM10 5v6h11V5H10z"></path></g>
<g id="view-stream"><path d="M4 18h17v-6H4v6zM4 5v6h17V5H4z"></path></g>
<g id="view-week"><path d="M6 5H3c-.55 0-1 .45-1 1v12c0 .55.45 1 1 1h3c.55 0 1-.45 1-1V6c0-.55-.45-1-1-1zm14 0h-3c-.55 0-1 .45-1 1v12c0 .55.45 1 1 1h3c.55 0 1-.45 1-1V6c0-.55-.45-1-1-1zm-7 0h-3c-.55 0-1 .45-1 1v12c0 .55.45 1 1 1h3c.55 0 1-.45 1-1V6c0-.55-.45-1-1-1z"></path></g>
<g id="visibility"><path d="M12 4.5C7 4.5 2.73 7.61 1 12c1.73 4.39 6 7.5 11 7.5s9.27-3.11 11-7.5c-1.73-4.39-6-7.5-11-7.5zM12 17c-2.76 0-5-2.24-5-5s2.24-5 5-5 5 2.24 5 5-2.24 5-5 5zm0-8c-1.66 0-3 1.34-3 3s1.34 3 3 3 3-1.34 3-3-1.34-3-3-3z"></path></g>
<g id="visibility-off"><path d="M12 7c2.76 0 5 2.24 5 5 0 .65-.13 1.26-.36 1.83l2.92 2.92c1.51-1.26 2.7-2.89 3.43-4.75-1.73-4.39-6-7.5-11-7.5-1.4 0-2.74.25-3.98.7l2.16 2.16C10.74 7.13 11.35 7 12 7zM2 4.27l2.28 2.28.46.46C3.08 8.3 1.78 10.02 1 12c1.73 4.39 6 7.5 11 7.5 1.55 0 3.03-.3 4.38-.84l.42.42L19.73 22 21 20.73 3.27 3 2 4.27zM7.53 9.8l1.55 1.55c-.05.21-.08.43-.08.65 0 1.66 1.34 3 3 3 .22 0 .44-.03.65-.08l1.55 1.55c-.67.33-1.41.53-2.2.53-2.76 0-5-2.24-5-5 0-.79.2-1.53.53-2.2zm4.31-.78l3.15 3.15.02-.16c0-1.66-1.34-3-3-3l-.17.01z"></path></g>
<g id="warning"><path d="M1 21h22L12 2 1 21zm12-3h-2v-2h2v2zm0-4h-2v-4h2v4z"></path></g>
<g id="watch-later"><path d="M12 2C6.5 2 2 6.5 2 12s4.5 10 10 10 10-4.5 10-10S17.5 2 12 2zm4.2 14.2L11 13V7h1.5v5.2l4.5 2.7-.8 1.3z"></path></g>
<g id="weekend"><path d="M21 10c-1.1 0-2 .9-2 2v3H5v-3c0-1.1-.9-2-2-2s-2 .9-2 2v5c0 1.1.9 2 2 2h18c1.1 0 2-.9 2-2v-5c0-1.1-.9-2-2-2zm-3-5H6c-1.1 0-2 .9-2 2v2.15c1.16.41 2 1.51 2 2.82V14h12v-2.03c0-1.3.84-2.4 2-2.82V7c0-1.1-.9-2-2-2z"></path></g>
<g id="work"><path d="M20 6h-4V4c0-1.11-.89-2-2-2h-4c-1.11 0-2 .89-2 2v2H4c-1.11 0-1.99.89-1.99 2L2 19c0 1.11.89 2 2 2h16c1.11 0 2-.89 2-2V8c0-1.11-.89-2-2-2zm-6 0h-4V4h4v2z"></path></g>
<g id="youtube-searched-for"><path d="M17.01 14h-.8l-.27-.27c.98-1.14 1.57-2.61 1.57-4.23 0-3.59-2.91-6.5-6.5-6.5s-6.5 3-6.5 6.5H2l3.84 4 4.16-4H6.51C6.51 7 8.53 5 11.01 5s4.5 2.01 4.5 4.5c0 2.48-2.02 4.5-4.5 4.5-.65 0-1.26-.14-1.82-.38L7.71 15.1c.97.57 2.09.9 3.3.9 1.61 0 3.08-.59 4.22-1.57l.27.27v.79l5.01 4.99L22 19l-4.99-5z"></path></g>
<g id="zoom-in"><path d="M15.5 14h-.79l-.28-.27C15.41 12.59 16 11.11 16 9.5 16 5.91 13.09 3 9.5 3S3 5.91 3 9.5 5.91 16 9.5 16c1.61 0 3.09-.59 4.23-1.57l.27.28v.79l5 4.99L20.49 19l-4.99-5zm-6 0C7.01 14 5 11.99 5 9.5S7.01 5 9.5 5 14 7.01 14 9.5 11.99 14 9.5 14zm2.5-4h-2v2H9v-2H7V9h2V7h1v2h2v1z"></path></g>
<g id="zoom-out"><path d="M15.5 14h-.79l-.28-.27C15.41 12.59 16 11.11 16 9.5 16 5.91 13.09 3 9.5 3S3 5.91 3 9.5 5.91 16 9.5 16c1.61 0 3.09-.59 4.23-1.57l.27.28v.79l5 4.99L20.49 19l-4.99-5zm-6 0C7.01 14 5 11.99 5 9.5S7.01 5 9.5 5 14 7.01 14 9.5 11.99 14 9.5 14zM7 9h5v1H7z"></path></g>
</defs></svg>
</iron-iconset-svg><iron-iconset-svg name="paper-dropdown-menu" size="24" style="display: none;">
<svg><defs>
<g id="arrow-drop-down"><path d="M7 10l5 5 5-5z"></path></g>
</defs></svg>
</iron-iconset-svg><dom-module id="paper-dropdown-menu-shared-styles">
  <template></template>
</dom-module><custom-style>
  <style is="custom-style">html {
  --shadow-transition_-_transition:  box-shadow 0.28s cubic-bezier(0.4, 0, 0.2, 1);;

      --shadow-none_-_box-shadow:  none;;

      

      --shadow-elevation-2dp_-_box-shadow:  0 2px 2px 0 rgba(0, 0, 0, 0.14),
                    0 1px 5px 0 rgba(0, 0, 0, 0.12),
                    0 3px 1px -2px rgba(0, 0, 0, 0.2);;

      --shadow-elevation-3dp_-_box-shadow:  0 3px 4px 0 rgba(0, 0, 0, 0.14),
                    0 1px 8px 0 rgba(0, 0, 0, 0.12),
                    0 3px 3px -2px rgba(0, 0, 0, 0.4);;

      --shadow-elevation-4dp_-_box-shadow:  0 4px 5px 0 rgba(0, 0, 0, 0.14),
                    0 1px 10px 0 rgba(0, 0, 0, 0.12),
                    0 2px 4px -1px rgba(0, 0, 0, 0.4);;

      --shadow-elevation-6dp_-_box-shadow:  0 6px 10px 0 rgba(0, 0, 0, 0.14),
                    0 1px 18px 0 rgba(0, 0, 0, 0.12),
                    0 3px 5px -1px rgba(0, 0, 0, 0.4);;

      --shadow-elevation-8dp_-_box-shadow:  0 8px 10px 1px rgba(0, 0, 0, 0.14),
                    0 3px 14px 2px rgba(0, 0, 0, 0.12),
                    0 5px 5px -3px rgba(0, 0, 0, 0.4);;

      --shadow-elevation-12dp_-_box-shadow:  0 12px 16px 1px rgba(0, 0, 0, 0.14),
                    0 4px 22px 3px rgba(0, 0, 0, 0.12),
                    0 6px 7px -4px rgba(0, 0, 0, 0.4);;

      --shadow-elevation-16dp_-_box-shadow:  0 16px 24px 2px rgba(0, 0, 0, 0.14),
                    0  6px 30px 5px rgba(0, 0, 0, 0.12),
                    0  8px 10px -5px rgba(0, 0, 0, 0.4);;

      --shadow-elevation-24dp_-_box-shadow:  0 24px 38px 3px rgba(0, 0, 0, 0.14),
                    0 9px 46px 8px rgba(0, 0, 0, 0.12),
                    0 11px 15px -7px rgba(0, 0, 0, 0.4);;
}

</style>
</custom-style><dom-module id="paper-material-styles">
  <template></template>
</dom-module><iron-iconset-svg name="paper-tabs" size="24" style="display: none;">
<svg><defs>
<g id="chevron-left"><path d="M15.41 7.41L14 6l-6 6 6 6 1.41-1.41L10.83 12z"></path></g>
<g id="chevron-right"><path d="M10 6L8.59 7.41 13.17 12l-4.58 4.59L10 18l6-6z"></path></g>
</defs></svg>
</iron-iconset-svg><custom-style include="colab-styles"><style>.formview {
  --paper-input-container_-_padding:  0;

          --paper-slider-input_-_width:  auto;
}

colab-date-picker paper-input {
  --paper-input-error_-_overflow:  visible;

          --paper-input-container-input-webkit-spinner_-_display:  none;

          --paper-input-container-input-webkit-clear_-_display:  none;
}

body:not(.mobile) paper-listbox, body:not(.mobile) paper-item {
  white-space: nowrap;
}

html {
  --paper-input-container-underline-wrapper-height: 0;
}

paper-tabs {
  --paper-font-common-base_-_font-family:  var(--colab-google-sans-font-family); --paper-font-common-base_-_-webkit-font-smoothing: initial;
          --paper-tabs-selection-bar_-_z-index:  1;
}

paper-tab {
  --paper-tab-content-focused_-_background:  var(--colab-secondary-surface-color); --paper-tab-content-focused_-_font-weight:  700; --paper-tab-content-focused_-_background-color: initial;
}

colab-debugger paper-tab {
  --paper-tab-content-focused_-_background:  var(--colab-highlighted-surface-color); --paper-tab-content-focused_-_font-weight:  700; --paper-tab-content-focused_-_background-color: initial;
}

.tab-pane-header paper-tabs {
  position: relative;
          padding: 0 4px 0 8px;

          --paper-icon-buttons_-_background-color:  var(--google-blue-600); --paper-icon-buttons_-_border-radius:  50%; --paper-icon-buttons_-_color:  white; --paper-icon-buttons_-_height:  20px; --paper-icon-buttons_-_padding:  2px; --paper-icon-buttons_-_position:  absolute; --paper-icon-buttons_-_width:  20px;

          --paper-icon-button-left_-_left:  0; --paper-icon-button-left_-_z-index:  1;

          --paper-icon-button-right_-_right:  -3px;
}

.tab-pane-header paper-tab {
  --paper-tab-content-focused_-_background-color:  transparent; --paper-tab-content-focused_-_font-weight:  500; --paper-tab-content-focused_-_background: initial;
}

colab-tab-layout-container.flexible-tabs .tab-pane-header paper-tabs {
  --paper-tab-content-unselected {
            opacity: 1;
          }
}

.colab-open-dialog paper-tabs {
  --paper-icon-buttons_-_background-color:  var(--paper-orange-700); --paper-icon-buttons_-_border-radius:  50%; --paper-icon-buttons_-_color:  white; --paper-icon-buttons_-_height:  20px; --paper-icon-buttons_-_padding:  2px; --paper-icon-buttons_-_position:  absolute; --paper-icon-buttons_-_width:  20px;

          --paper-icon-button-left_-_left:  0; --paper-icon-button-left_-_z-index:  1;

          --paper-icon-button-right_-_right:  -3px;
}

.command-palette {
  --paper-input-container-shared-input-style_-_font-size:  var(--colab-chrome-font-size); --paper-input-container-shared-input-style_-_padding:  0 4px; --paper-input-container-shared-input-style_-_width:  100%; --paper-input-container-shared-input-style_-_position: initial; --paper-input-container-shared-input-style_-_outline: initial; --paper-input-container-shared-input-style_-_box-shadow: initial; --paper-input-container-shared-input-style_-_margin: initial; --paper-input-container-shared-input-style_-_max-width: initial; --paper-input-container-shared-input-style_-_background: initial; --paper-input-container-shared-input-style_-_border: initial; --paper-input-container-shared-input-style_-_color: initial; --paper-input-container-shared-input-style_-_-webkit-appearance: initial; --paper-input-container-shared-input-style_-_text-align: initial; --paper-input-container-shared-input-style_-_vertical-align: initial; --paper-input-container-shared-input-style_-_font-family: initial; --paper-input-container-shared-input-style_-_-webkit-font-smoothing: initial; --paper-input-container-shared-input-style_-_font-weight: initial; --paper-input-container-shared-input-style_-_line-height: initial;
          --paper-input-container-underline-focus-height: 0;
          --paper-input-container-underline-height: 0;
}

</style></custom-style><custom-style include="colab-themes"><style></style></custom-style><custom-style>
    <style is="custom-style">html {
  --google-orange-600: #e8710a;
        --google-yellow-600: #f9ab00;
        
        --code-cell-background: #f7f7f7;
        --colab-anchor-color: #00e;
        --colab-border-color: #dadada;
        --colab-bold-border-color: #111;
        --colab-callout-color: var(--paper-blue-700);
        --colab-divider-color: var(--paper-grey-300);
        --colab-debugger-line-color: var(--paper-red-100);
        --colab-editor-focus-color: var(--paper-grey-200);
        --colab-highlighted-surface-color: var(--paper-grey-200);
        --colab-icon-color: var(--paper-grey-700);
        --colab-input-button-hover-background: #6161611a;
        --colab-secondary-icon-color: #93ADCF;
        --colab-input-placeholder-color: var(--colab-secondary-text-color);
        --colab-primary-surface-color: var(--paper-white);
        --colab-primary-text-color: var(--paper-grey-900);
        --colab-secondary-text-color: #616161;
        --colab-tertiary-text-color: var(--paper-grey-600);
        --colab-secondary-surface-color: #f7f7f7;
        --colab-scrollbar-color: rgba(0, 0, 0, 0.1);
        --colab-gutter-icon-color: #8c8c8c;
        --colab-active-execution-icon-color: var(--paper-grey-800);
        --colab-error-icon-color: var(--paper-red-a700);
        --colab-title-color: #000;
        --colab-form-field-underline-color: var(--paper-grey-600);
        --colab-editor-focus-border-thickness: 2px;
        --colab-diff-editor-background: #fff;
        --colab-local-diff-background: #eef;
        --colab-remote-diff-background: #feffe0;
        --colab-merged-diff-background: #d7fed8;
        --colab-status-okay: var(--google-green-700);
        --ansi-black: rgb(0, 0, 0);
        --ansi-red: rgb(139, 0, 0);
        --ansi-green: rgb(0, 100, 0);
        --ansi-yellow: rgb(205, 205, 0);
        --ansi-blue: rgb(0, 0, 238);
        --ansi-magenta: rgb(205, 0, 205);
        --ansi-cyan: rgb(70, 130, 180);
        --ansi-gray: rgb(229, 229, 229);
        --ansi-bright-black: rgb(127, 127, 127);
        --ansi-bright-red: rgb(255, 0, 0);
        --ansi-bright-green: rgb(0, 208, 0);
        --ansi-bright-yellow: rgb(255, 255, 0);
        --ansi-bright-blue: rgb(92, 92, 255);
        --ansi-bright-magenta: rgb(255, 0, 255);
        --ansi-bright-cyan: rgb(0, 255, 255);
        --ansi-bright-gray: rgb(255, 255, 255);
        --gcp-success-icon-color: var(--google-green-700);
        --colab-comment-anchor-color: var(--google-blue-600);
        --colab-filled-button-ripple-color: #000;
        --colab-comment-highlight-color: #ffe082; 
        
        --colab-input-border-color: #a9a9a9;
        --colab-logo-dark: var(--google-orange-600);
        --colab-logo-light: var(--google-yellow-600);
        --colab-status-error: #e51c23;
        --colab-status-warning: #f09300;
        --colab-chrome-font-family: 'Roboto', 'Noto', sans-serif;
        --colab-google-sans-font-family: 'Google Sans', 'Roboto', 'Noto', sans-serif;
        --colab-chrome-font-size: 14px;
        
        --colab-icon-hover-color: var(--colab-primary-text-color);
        --colab-fresh-execution-count-color: var(--colab-primary-text-color);
        --colab-stale-execution-count-color: var(--colab-input-placeholder-color);
        
        --primary-text-color: var(--colab-primary-text-color);
        --secondary-text-color: var(--colab-secondary-text-color);
        --primary-background-color: var(--colab-primary-surface-color);
        --paper-input-container-color: var(--colab-input-placeholder-color);
        --paper-slider-active-color: var(--primary-color);
        --paper-slider-knob-color: var(--primary-color);
        --paper-tabs-selection-bar-color: var(--google-blue-600);
        --error-color: #B3261E;
        --primary-color: var(--google-blue-700);
        --google-green-700: #188038;
        --google-grey-800: #3c4043;
        --google-blue-200: #AECBFA;
        --google-blue-300: #8AB4F8;
        --google-blue-700: #1967d2;
        --google-blue-900: #174ea6;
        --hairline-button-primary: var(--primary-color);
        --hairline-button-secondary: var(--google-blue-900);
        
        --hairline-button-overlay-hovered: #4285f40a;
        
        --hairline-button-disabled-label: var(--paper-grey-500);
        
        --hairline-button-disabled-container: var(--paper-grey-100);
        --mdc-theme-primary: var(--primary-color);
        --mdc-theme-on-primary: var(--colab-primary-surface-color);
        --md-sys-color-primary: var(--primary-color);
        --md-sys-color-on-primary: var(--colab-primary-surface-color);
}

html[theme=dark] {
  --colab-anchor-color: var(--paper-blue-300);
        --colab-callout-color: var(--google-blue-600);
        --code-cell-background: #1e1e1e;
        --colab-border-color: var(--paper-grey-700);
        --colab-bold-border-color: #eee;
        --colab-divider-color: var(--paper-grey-700);
        --colab-debugger-line-color: var(--paper-red-900);
        --colab-editor-focus-color: #282828;
        --colab-highlighted-surface-color: #525252;
        --colab-icon-color: var(--paper-grey-400);
        --colab-input-button-hover-background: #bdbdbd1a;
        --colab-input-placeholder-color: var(--colab-tertiary-text-color);
        --colab-primary-surface-color: #383838;
        --colab-primary-text-color: #d5d5d5;
        --colab-secondary-text-color: #f7f7f7;
        --colab-tertiary-text-color: #b3b3b3;
        --colab-secondary-surface-color: #454545;
        --colab-scrollbar-color: rgba(255, 255, 255, 0.2);
        --colab-gutter-icon-color: #858585;
        --colab-active-execution-icon-color: var(--colab-icon-color);
        --colab-error-icon-color: var(--paper-red-400);
        --colab-title-color: #fff;
        --colab-form-field-underline-color: var(--paper-grey-400);
        --colab-diff-editor-background: #000;
        --colab-local-diff-background: #292935;
        --colab-remote-diff-background: #2e2f08;
        --colab-merged-diff-background: #09380b;
        --colab-status-okay: #00c752;
        --ansi-black: rgb(127, 127, 127);
        --ansi-red: rgb(255, 122, 136);
        --ansi-green: rgb(87, 187, 138);
        --ansi-yellow: rgb(255, 255, 102);
        --ansi-blue: rgb(130, 177, 255);
        --ansi-magenta: rgb(205, 0, 205);
        --ansi-cyan: rgb(153, 187, 215);
        --ansi-gray: rgb(229, 229, 229);
        --ansi-bright-green: rgb(0, 255, 0);
        --gcp-success-icon-color: #81c995;
        --colab-comment-anchor-color: var(--paper-blue-300);
        --colab-filled-button-ripple-color: #fff;
        --colab-comment-highlight-color: #1a237e; 
        
        --error-color: var(--paper-deep-orange-a100);
        --primary-color: var(--google-blue-300);
        --hairline-button-primary: var(--primary-color);
        --hairline-button-secondary: var(--google-blue-200);
        
        --hairline-button-overlay-hovered: #42a5f50a;
        
        --hairline-button-disabled-label: #ffffff4d;
        --hairline-button-disabled-container: #ffffff1f;
}

@media (prefers-color-scheme: dark) {
html[theme=adaptive] {
  --colab-anchor-color: var(--paper-blue-400);
          --colab-callout-color: var(--paper-blue-900);
          --code-cell-background: #1e1e1e;
          --colab-border-color: var(--paper-grey-700);
          --colab-bold-border-color: #eee;
          --colab-divider-color: var(--paper-grey-700);
          --colab-debugger-line-color: var(--paper-red-900);
          --colab-editor-focus-color: #282828;
          --colab-highlighted-surface-color: #525252;
          --colab-icon-color: var(--paper-grey-100);
          --colab-input-button-hover-background: #bdbdbd1a;
          --colab-input-placeholder-color: var(--colab-tertiary-text-color);
          --colab-primary-surface-color: #383838;
          --colab-primary-text-color: #d5d5d5;
          --colab-secondary-text-color: #f7f7f7;
          --colab-tertiary-text-color: #b3b3b3;
          --colab-secondary-surface-color: #454545;
          --colab-scrollbar-color: rgba(255, 255, 255, 0.2);
          --colab-gutter-icon-color: #858585;
          --colab-execution-count: var(--colab-primary-text-color);
          --colab-active-execution-icon-color: var(--colab-icon-color);
          --colab-error-icon-color: var(--paper-red-400);
          --colab-title-color: #fff;
          --colab-form-field-underline-color: var(--paper-grey-400);
          --colab-diff-editor-background: #000;
          --colab-local-diff-background: #292935;
          --colab-remote-diff-background: #2e2f08;
          --colab-merged-diff-background: #09380b;
          --colab-status-okay: #00c752;
          --ansi-black: rgb(63, 63, 63);
          --ansi-red: rgb(255, 122, 136);
          --ansi-green: rgb(87, 187, 138);
          --ansi-yellow: rgb(255, 255, 102);
          --ansi-blue: rgb(130, 177, 255);
          --ansi-magenta: rgb(205, 0, 205);
          --ansi-cyan: rgb(153, 187, 215);
          --ansi-gray: rgb(229, 229, 229);
          --colab-filled-button-ripple-color: #fff;
          
          --error-color: var(--paper-deep-orange-a100);
          --primary-color: var(--google-blue-300);
          --hairline-button-primary: var(--primary-color);
          --hairline-button-secondary: var(--google-blue-200);
          
          --hairline-button-overlay-hovered: #42a5f50a;
          
          --hairline-button-disabled-label: #9e9e9e80;
          --hairline-button-disabled-container: #9e9e9e80;
}

}

html[editor="High Contrast Dark"] {
  --code-cell-background: #000;
        --colab-editor-focus-color: #f38518;
        --colab-editor-focus-border-thickness: 1px;
}

html[editor=Monokai] {
  --code-cell-background: #272822;
}

html[editor="All Hallows Eve"] {
  --code-cell-background: #000;
}

html[editor="Amy"] {
  --code-cell-background: #200020;
}

html[editor="Birds Of Paradise"] {
  --code-cell-background: #372725;
}

html[editor="Blackboard"] {
  --code-cell-background: #0c1021;
}

html[editor="Clouds Midnight"] {
  --code-cell-background: #191919;
}

html[editor="Dominion Day"] {
  --code-cell-background: #372725;
}

html[editor="Espresso Libre"] {
  --code-cell-background: #2a211c;
}

html[editor="Merbivore"] {
  --code-cell-background: #161616;
}

html[editor="Night Owl"] {
  --code-cell-background: #011627;
}

html[editor="Oceanic Next"] {
  --code-cell-background: #1b2b34;
}

html[editor="Pastels On Dark"] {
  --code-cell-background: #211e1e;
}

html[editor="Space Cadet"] {
  --code-cell-background: #0d0d0d;
}

html[editor="Sunburst"] {
  --code-cell-background: #000;
}

html[editor="Twilight"] {
  --code-cell-background: #141414;
}

html[editor="Vibrant Ink"] {
  --code-cell-background: #000;
}

html[editor="Zenburnesque"] {
  --code-cell-background: #404040;
}

html[editor="Idle Fingers"] {
  --code-cell-background: #323232;
}

html[editor="Mono Industrial"] {
  --code-cell-background: #222c28;
}

html[editor=Synthwave84] {
  --colab-primary-surface-color: #241b2f;
        --colab-secondary-surface-color: #49549539;
        --code-cell-background: #262335;
        --colab-highlighted-surface-color: #372d4b;
        --colab-border-color: #34294fb3;
        --colab-anchor-color: #f97e72;
        --ansi-red: #fe4450;
        --ansi-green: #72f1b8;
        --ansi-yellow: #f97e72;
        --ansi-blue: #03edf9;
        --ansi-magenta: #ff7edb;
        --ansi-cyan: #03edf9;
        --ansi-bright-red: #fe4450;
        --ansi-bright-green: #72f1b8;
        --ansi-bright-yellow: #fede5d;
        --ansi-bright-blue: #03edf9;
        --ansi-bright-magenta: #ff7edb;
        --ansi-bright-cyan: #03edf9;
}

</style>
  </custom-style><script async="async" type="text/javascript" src="./Airbnb_Paris__files/editor.main.js.download"></script><script async="" type="text/javascript" charset="UTF-8" src="./Airbnb_Paris__files/rs=AA2YrTuhEmcJ_ZCfhUtEGFLYmpjJAh1Mlg" nonce=""></script><link type="text/css" rel="stylesheet" href="./Airbnb_Paris__files/rs=AA2YrTvUz13O0rCP4l_xL7qndfdw84Y8Rg"><link rel="stylesheet" type="text/css" data-name="vs/editor/editor.main" href="./Airbnb_Paris__files/editor.main.css"><script async="async" type="text/javascript" src="./Airbnb_Paris__files/editor.main.nls.js.download"></script><script async="async" type="text/javascript" src="./Airbnb_Paris__files/markdown.js.download"></script><style type="text/css">.MathJax_Hover_Frame {border-radius: .25em; -webkit-border-radius: .25em; -moz-border-radius: .25em; -khtml-border-radius: .25em; box-shadow: 0px 0px 15px #83A; -webkit-box-shadow: 0px 0px 15px #83A; -moz-box-shadow: 0px 0px 15px #83A; -khtml-box-shadow: 0px 0px 15px #83A; border: 1px solid #A6D ! important; display: inline-block; position: absolute}
.MathJax_Menu_Button .MathJax_Hover_Arrow {position: absolute; cursor: pointer; display: inline-block; border: 2px solid #AAA; border-radius: 4px; -webkit-border-radius: 4px; -moz-border-radius: 4px; -khtml-border-radius: 4px; font-family: 'Courier New',Courier; font-size: 9px; color: #F0F0F0}
.MathJax_Menu_Button .MathJax_Hover_Arrow span {display: block; background-color: #AAA; border: 1px solid; border-radius: 3px; line-height: 0; padding: 4px}
.MathJax_Hover_Arrow:hover {color: white!important; border: 2px solid #CCC!important}
.MathJax_Hover_Arrow:hover span {background-color: #CCC!important}
</style><style type="text/css">#MathJax_About {position: fixed; left: 50%; width: auto; text-align: center; border: 3px outset; padding: 1em 2em; background-color: #DDDDDD; color: black; cursor: default; font-family: message-box; font-size: 120%; font-style: normal; text-indent: 0; text-transform: none; line-height: normal; letter-spacing: normal; word-spacing: normal; word-wrap: normal; white-space: nowrap; float: none; z-index: 201; border-radius: 15px; -webkit-border-radius: 15px; -moz-border-radius: 15px; -khtml-border-radius: 15px; box-shadow: 0px 10px 20px #808080; -webkit-box-shadow: 0px 10px 20px #808080; -moz-box-shadow: 0px 10px 20px #808080; -khtml-box-shadow: 0px 10px 20px #808080; filter: progid:DXImageTransform.Microsoft.dropshadow(OffX=2, OffY=2, Color='gray', Positive='true')}
#MathJax_About.MathJax_MousePost {outline: none}
.MathJax_Menu {position: absolute; background-color: white; color: black; width: auto; padding: 2px; border: 1px solid #CCCCCC; margin: 0; cursor: default; font: menu; text-align: left; text-indent: 0; text-transform: none; line-height: normal; letter-spacing: normal; word-spacing: normal; word-wrap: normal; white-space: nowrap; float: none; z-index: 201; box-shadow: 0px 10px 20px #808080; -webkit-box-shadow: 0px 10px 20px #808080; -moz-box-shadow: 0px 10px 20px #808080; -khtml-box-shadow: 0px 10px 20px #808080; filter: progid:DXImageTransform.Microsoft.dropshadow(OffX=2, OffY=2, Color='gray', Positive='true')}
.MathJax_MenuItem {padding: 2px 2em; background: transparent}
.MathJax_MenuArrow {position: absolute; right: .5em; padding-top: .25em; color: #666666; font-size: .75em}
.MathJax_MenuActive .MathJax_MenuArrow {color: white}
.MathJax_MenuArrow.RTL {left: .5em; right: auto}
.MathJax_MenuCheck {position: absolute; left: .7em}
.MathJax_MenuCheck.RTL {right: .7em; left: auto}
.MathJax_MenuRadioCheck {position: absolute; left: 1em}
.MathJax_MenuRadioCheck.RTL {right: 1em; left: auto}
.MathJax_MenuLabel {padding: 2px 2em 4px 1.33em; font-style: italic}
.MathJax_MenuRule {border-top: 1px solid #CCCCCC; margin: 4px 1px 0px}
.MathJax_MenuDisabled {color: GrayText}
.MathJax_MenuActive {background-color: Highlight; color: HighlightText}
.MathJax_MenuDisabled:focus, .MathJax_MenuLabel:focus {background-color: #E8E8E8}
.MathJax_ContextMenu:focus {outline: none}
.MathJax_ContextMenu .MathJax_MenuItem:focus {outline: none}
#MathJax_AboutClose {top: .2em; right: .2em}
.MathJax_Menu .MathJax_MenuClose {top: -10px; left: -10px}
.MathJax_MenuClose {position: absolute; cursor: pointer; display: inline-block; border: 2px solid #AAA; border-radius: 18px; -webkit-border-radius: 18px; -moz-border-radius: 18px; -khtml-border-radius: 18px; font-family: 'Courier New',Courier; font-size: 24px; color: #F0F0F0}
.MathJax_MenuClose span {display: block; background-color: #AAA; border: 1.5px solid; border-radius: 18px; -webkit-border-radius: 18px; -moz-border-radius: 18px; -khtml-border-radius: 18px; line-height: 0; padding: 8px 0 6px}
.MathJax_MenuClose:hover {color: white!important; border: 2px solid #CCC!important}
.MathJax_MenuClose:hover span {background-color: #CCC!important}
.MathJax_MenuClose:hover:focus {outline: none}
</style><style type="text/css">.MJX_Assistive_MathML {position: absolute!important; top: 0; left: 0; clip: rect(1px, 1px, 1px, 1px); padding: 1px 0 0 0!important; border: 0!important; height: 1px!important; width: 1px!important; overflow: hidden!important; display: block!important; -webkit-touch-callout: none; -webkit-user-select: none; -khtml-user-select: none; -moz-user-select: none; -ms-user-select: none; user-select: none}
.MJX_Assistive_MathML.MJX_Assistive_MathML_Block {width: 100%!important}
</style><style type="text/css">#MathJax_Zoom {position: absolute; background-color: #F0F0F0; overflow: auto; display: block; z-index: 301; padding: .5em; border: 1px solid black; margin: 0; font-weight: normal; font-style: normal; text-align: left; text-indent: 0; text-transform: none; line-height: normal; letter-spacing: normal; word-spacing: normal; word-wrap: normal; white-space: nowrap; float: none; -webkit-box-sizing: content-box; -moz-box-sizing: content-box; box-sizing: content-box; box-shadow: 5px 5px 15px #AAAAAA; -webkit-box-shadow: 5px 5px 15px #AAAAAA; -moz-box-shadow: 5px 5px 15px #AAAAAA; -khtml-box-shadow: 5px 5px 15px #AAAAAA; filter: progid:DXImageTransform.Microsoft.dropshadow(OffX=2, OffY=2, Color='gray', Positive='true')}
#MathJax_ZoomOverlay {position: absolute; left: 0; top: 0; z-index: 300; display: inline-block; width: 100%; height: 100%; border: 0; padding: 0; margin: 0; background-color: white; opacity: 0; filter: alpha(opacity=0)}
#MathJax_ZoomFrame {position: relative; display: inline-block; height: 0; width: 0}
#MathJax_ZoomEventTrap {position: absolute; left: 0; top: 0; z-index: 302; display: inline-block; border: 0; padding: 0; margin: 0; background-color: white; opacity: 0; filter: alpha(opacity=0)}
</style><style type="text/css">.MathJax_Preview {color: #888}
#MathJax_Message {position: fixed; left: 1em; bottom: 1.5em; background-color: #E6E6E6; border: 1px solid #959595; margin: 0px; padding: 2px 8px; z-index: 102; color: black; font-size: 80%; width: auto; white-space: nowrap}
#MathJax_MSIE_Frame {position: absolute; top: 0; left: 0; width: 0px; z-index: 101; border: 0px; margin: 0px; padding: 0px}
.MathJax_Error {color: #CC0000; font-style: italic}
</style><script src="./Airbnb_Paris__files/api.js.download" nonce=""></script><script src="./Airbnb_Paris__files/api(1).js.download" nonce=""></script><style type="text/css" media="screen" class="monaco-colors">.codicon-add:before { content: '\ea60'; }
.codicon-plus:before { content: '\ea60'; }
.codicon-gist-new:before { content: '\ea60'; }
.codicon-repo-create:before { content: '\ea60'; }
.codicon-lightbulb:before { content: '\ea61'; }
.codicon-light-bulb:before { content: '\ea61'; }
.codicon-repo:before { content: '\ea62'; }
.codicon-repo-delete:before { content: '\ea62'; }
.codicon-gist-fork:before { content: '\ea63'; }
.codicon-repo-forked:before { content: '\ea63'; }
.codicon-git-pull-request:before { content: '\ea64'; }
.codicon-git-pull-request-abandoned:before { content: '\ea64'; }
.codicon-record-keys:before { content: '\ea65'; }
.codicon-keyboard:before { content: '\ea65'; }
.codicon-tag:before { content: '\ea66'; }
.codicon-tag-add:before { content: '\ea66'; }
.codicon-tag-remove:before { content: '\ea66'; }
.codicon-person:before { content: '\ea67'; }
.codicon-person-follow:before { content: '\ea67'; }
.codicon-person-outline:before { content: '\ea67'; }
.codicon-person-filled:before { content: '\ea67'; }
.codicon-git-branch:before { content: '\ea68'; }
.codicon-git-branch-create:before { content: '\ea68'; }
.codicon-git-branch-delete:before { content: '\ea68'; }
.codicon-source-control:before { content: '\ea68'; }
.codicon-mirror:before { content: '\ea69'; }
.codicon-mirror-public:before { content: '\ea69'; }
.codicon-star:before { content: '\ea6a'; }
.codicon-star-add:before { content: '\ea6a'; }
.codicon-star-delete:before { content: '\ea6a'; }
.codicon-star-empty:before { content: '\ea6a'; }
.codicon-comment:before { content: '\ea6b'; }
.codicon-comment-add:before { content: '\ea6b'; }
.codicon-alert:before { content: '\ea6c'; }
.codicon-warning:before { content: '\ea6c'; }
.codicon-search:before { content: '\ea6d'; }
.codicon-search-save:before { content: '\ea6d'; }
.codicon-log-out:before { content: '\ea6e'; }
.codicon-sign-out:before { content: '\ea6e'; }
.codicon-log-in:before { content: '\ea6f'; }
.codicon-sign-in:before { content: '\ea6f'; }
.codicon-eye:before { content: '\ea70'; }
.codicon-eye-unwatch:before { content: '\ea70'; }
.codicon-eye-watch:before { content: '\ea70'; }
.codicon-circle-filled:before { content: '\ea71'; }
.codicon-primitive-dot:before { content: '\ea71'; }
.codicon-close-dirty:before { content: '\ea71'; }
.codicon-debug-breakpoint:before { content: '\ea71'; }
.codicon-debug-breakpoint-disabled:before { content: '\ea71'; }
.codicon-debug-hint:before { content: '\ea71'; }
.codicon-primitive-square:before { content: '\ea72'; }
.codicon-edit:before { content: '\ea73'; }
.codicon-pencil:before { content: '\ea73'; }
.codicon-info:before { content: '\ea74'; }
.codicon-issue-opened:before { content: '\ea74'; }
.codicon-gist-private:before { content: '\ea75'; }
.codicon-git-fork-private:before { content: '\ea75'; }
.codicon-lock:before { content: '\ea75'; }
.codicon-mirror-private:before { content: '\ea75'; }
.codicon-close:before { content: '\ea76'; }
.codicon-remove-close:before { content: '\ea76'; }
.codicon-x:before { content: '\ea76'; }
.codicon-repo-sync:before { content: '\ea77'; }
.codicon-sync:before { content: '\ea77'; }
.codicon-clone:before { content: '\ea78'; }
.codicon-desktop-download:before { content: '\ea78'; }
.codicon-beaker:before { content: '\ea79'; }
.codicon-microscope:before { content: '\ea79'; }
.codicon-vm:before { content: '\ea7a'; }
.codicon-device-desktop:before { content: '\ea7a'; }
.codicon-file:before { content: '\ea7b'; }
.codicon-file-text:before { content: '\ea7b'; }
.codicon-more:before { content: '\ea7c'; }
.codicon-ellipsis:before { content: '\ea7c'; }
.codicon-kebab-horizontal:before { content: '\ea7c'; }
.codicon-mail-reply:before { content: '\ea7d'; }
.codicon-reply:before { content: '\ea7d'; }
.codicon-organization:before { content: '\ea7e'; }
.codicon-organization-filled:before { content: '\ea7e'; }
.codicon-organization-outline:before { content: '\ea7e'; }
.codicon-new-file:before { content: '\ea7f'; }
.codicon-file-add:before { content: '\ea7f'; }
.codicon-new-folder:before { content: '\ea80'; }
.codicon-file-directory-create:before { content: '\ea80'; }
.codicon-trash:before { content: '\ea81'; }
.codicon-trashcan:before { content: '\ea81'; }
.codicon-history:before { content: '\ea82'; }
.codicon-clock:before { content: '\ea82'; }
.codicon-folder:before { content: '\ea83'; }
.codicon-file-directory:before { content: '\ea83'; }
.codicon-symbol-folder:before { content: '\ea83'; }
.codicon-logo-github:before { content: '\ea84'; }
.codicon-mark-github:before { content: '\ea84'; }
.codicon-github:before { content: '\ea84'; }
.codicon-terminal:before { content: '\ea85'; }
.codicon-console:before { content: '\ea85'; }
.codicon-repl:before { content: '\ea85'; }
.codicon-zap:before { content: '\ea86'; }
.codicon-symbol-event:before { content: '\ea86'; }
.codicon-error:before { content: '\ea87'; }
.codicon-stop:before { content: '\ea87'; }
.codicon-variable:before { content: '\ea88'; }
.codicon-symbol-variable:before { content: '\ea88'; }
.codicon-array:before { content: '\ea8a'; }
.codicon-symbol-array:before { content: '\ea8a'; }
.codicon-symbol-module:before { content: '\ea8b'; }
.codicon-symbol-package:before { content: '\ea8b'; }
.codicon-symbol-namespace:before { content: '\ea8b'; }
.codicon-symbol-object:before { content: '\ea8b'; }
.codicon-symbol-method:before { content: '\ea8c'; }
.codicon-symbol-function:before { content: '\ea8c'; }
.codicon-symbol-constructor:before { content: '\ea8c'; }
.codicon-symbol-boolean:before { content: '\ea8f'; }
.codicon-symbol-null:before { content: '\ea8f'; }
.codicon-symbol-numeric:before { content: '\ea90'; }
.codicon-symbol-number:before { content: '\ea90'; }
.codicon-symbol-structure:before { content: '\ea91'; }
.codicon-symbol-struct:before { content: '\ea91'; }
.codicon-symbol-parameter:before { content: '\ea92'; }
.codicon-symbol-type-parameter:before { content: '\ea92'; }
.codicon-symbol-key:before { content: '\ea93'; }
.codicon-symbol-text:before { content: '\ea93'; }
.codicon-symbol-reference:before { content: '\ea94'; }
.codicon-go-to-file:before { content: '\ea94'; }
.codicon-symbol-enum:before { content: '\ea95'; }
.codicon-symbol-value:before { content: '\ea95'; }
.codicon-symbol-ruler:before { content: '\ea96'; }
.codicon-symbol-unit:before { content: '\ea96'; }
.codicon-activate-breakpoints:before { content: '\ea97'; }
.codicon-archive:before { content: '\ea98'; }
.codicon-arrow-both:before { content: '\ea99'; }
.codicon-arrow-down:before { content: '\ea9a'; }
.codicon-arrow-left:before { content: '\ea9b'; }
.codicon-arrow-right:before { content: '\ea9c'; }
.codicon-arrow-small-down:before { content: '\ea9d'; }
.codicon-arrow-small-left:before { content: '\ea9e'; }
.codicon-arrow-small-right:before { content: '\ea9f'; }
.codicon-arrow-small-up:before { content: '\eaa0'; }
.codicon-arrow-up:before { content: '\eaa1'; }
.codicon-bell:before { content: '\eaa2'; }
.codicon-bold:before { content: '\eaa3'; }
.codicon-book:before { content: '\eaa4'; }
.codicon-bookmark:before { content: '\eaa5'; }
.codicon-debug-breakpoint-conditional-unverified:before { content: '\eaa6'; }
.codicon-debug-breakpoint-conditional:before { content: '\eaa7'; }
.codicon-debug-breakpoint-conditional-disabled:before { content: '\eaa7'; }
.codicon-debug-breakpoint-data-unverified:before { content: '\eaa8'; }
.codicon-debug-breakpoint-data:before { content: '\eaa9'; }
.codicon-debug-breakpoint-data-disabled:before { content: '\eaa9'; }
.codicon-debug-breakpoint-log-unverified:before { content: '\eaaa'; }
.codicon-debug-breakpoint-log:before { content: '\eaab'; }
.codicon-debug-breakpoint-log-disabled:before { content: '\eaab'; }
.codicon-briefcase:before { content: '\eaac'; }
.codicon-broadcast:before { content: '\eaad'; }
.codicon-browser:before { content: '\eaae'; }
.codicon-bug:before { content: '\eaaf'; }
.codicon-calendar:before { content: '\eab0'; }
.codicon-case-sensitive:before { content: '\eab1'; }
.codicon-check:before { content: '\eab2'; }
.codicon-checklist:before { content: '\eab3'; }
.codicon-chevron-down:before { content: '\eab4'; }
.codicon-drop-down-button:before { content: '\eab4'; }
.codicon-chevron-left:before { content: '\eab5'; }
.codicon-chevron-right:before { content: '\eab6'; }
.codicon-chevron-up:before { content: '\eab7'; }
.codicon-chrome-close:before { content: '\eab8'; }
.codicon-chrome-maximize:before { content: '\eab9'; }
.codicon-chrome-minimize:before { content: '\eaba'; }
.codicon-chrome-restore:before { content: '\eabb'; }
.codicon-circle:before { content: '\eabc'; }
.codicon-circle-outline:before { content: '\eabc'; }
.codicon-debug-breakpoint-unverified:before { content: '\eabc'; }
.codicon-circle-slash:before { content: '\eabd'; }
.codicon-circuit-board:before { content: '\eabe'; }
.codicon-clear-all:before { content: '\eabf'; }
.codicon-clippy:before { content: '\eac0'; }
.codicon-close-all:before { content: '\eac1'; }
.codicon-cloud-download:before { content: '\eac2'; }
.codicon-cloud-upload:before { content: '\eac3'; }
.codicon-code:before { content: '\eac4'; }
.codicon-collapse-all:before { content: '\eac5'; }
.codicon-color-mode:before { content: '\eac6'; }
.codicon-comment-discussion:before { content: '\eac7'; }
.codicon-compare-changes:before { content: '\eafd'; }
.codicon-credit-card:before { content: '\eac9'; }
.codicon-dash:before { content: '\eacc'; }
.codicon-dashboard:before { content: '\eacd'; }
.codicon-database:before { content: '\eace'; }
.codicon-debug-continue:before { content: '\eacf'; }
.codicon-debug-disconnect:before { content: '\ead0'; }
.codicon-debug-pause:before { content: '\ead1'; }
.codicon-debug-restart:before { content: '\ead2'; }
.codicon-debug-start:before { content: '\ead3'; }
.codicon-debug-step-into:before { content: '\ead4'; }
.codicon-debug-step-out:before { content: '\ead5'; }
.codicon-debug-step-over:before { content: '\ead6'; }
.codicon-debug-stop:before { content: '\ead7'; }
.codicon-debug:before { content: '\ead8'; }
.codicon-device-camera-video:before { content: '\ead9'; }
.codicon-device-camera:before { content: '\eada'; }
.codicon-device-mobile:before { content: '\eadb'; }
.codicon-diff-added:before { content: '\eadc'; }
.codicon-diff-ignored:before { content: '\eadd'; }
.codicon-diff-modified:before { content: '\eade'; }
.codicon-diff-removed:before { content: '\eadf'; }
.codicon-diff-renamed:before { content: '\eae0'; }
.codicon-diff:before { content: '\eae1'; }
.codicon-discard:before { content: '\eae2'; }
.codicon-editor-layout:before { content: '\eae3'; }
.codicon-empty-window:before { content: '\eae4'; }
.codicon-exclude:before { content: '\eae5'; }
.codicon-extensions:before { content: '\eae6'; }
.codicon-eye-closed:before { content: '\eae7'; }
.codicon-file-binary:before { content: '\eae8'; }
.codicon-file-code:before { content: '\eae9'; }
.codicon-file-media:before { content: '\eaea'; }
.codicon-file-pdf:before { content: '\eaeb'; }
.codicon-file-submodule:before { content: '\eaec'; }
.codicon-file-symlink-directory:before { content: '\eaed'; }
.codicon-file-symlink-file:before { content: '\eaee'; }
.codicon-file-zip:before { content: '\eaef'; }
.codicon-files:before { content: '\eaf0'; }
.codicon-filter:before { content: '\eaf1'; }
.codicon-flame:before { content: '\eaf2'; }
.codicon-fold-down:before { content: '\eaf3'; }
.codicon-fold-up:before { content: '\eaf4'; }
.codicon-fold:before { content: '\eaf5'; }
.codicon-folder-active:before { content: '\eaf6'; }
.codicon-folder-opened:before { content: '\eaf7'; }
.codicon-gear:before { content: '\eaf8'; }
.codicon-gift:before { content: '\eaf9'; }
.codicon-gist-secret:before { content: '\eafa'; }
.codicon-gist:before { content: '\eafb'; }
.codicon-git-commit:before { content: '\eafc'; }
.codicon-git-compare:before { content: '\eafd'; }
.codicon-git-merge:before { content: '\eafe'; }
.codicon-github-action:before { content: '\eaff'; }
.codicon-github-alt:before { content: '\eb00'; }
.codicon-globe:before { content: '\eb01'; }
.codicon-grabber:before { content: '\eb02'; }
.codicon-graph:before { content: '\eb03'; }
.codicon-gripper:before { content: '\eb04'; }
.codicon-heart:before { content: '\eb05'; }
.codicon-home:before { content: '\eb06'; }
.codicon-horizontal-rule:before { content: '\eb07'; }
.codicon-hubot:before { content: '\eb08'; }
.codicon-inbox:before { content: '\eb09'; }
.codicon-issue-closed:before { content: '\eba4'; }
.codicon-issue-reopened:before { content: '\eb0b'; }
.codicon-issues:before { content: '\eb0c'; }
.codicon-italic:before { content: '\eb0d'; }
.codicon-jersey:before { content: '\eb0e'; }
.codicon-json:before { content: '\eb0f'; }
.codicon-bracket:before { content: '\eb0f'; }
.codicon-kebab-vertical:before { content: '\eb10'; }
.codicon-key:before { content: '\eb11'; }
.codicon-law:before { content: '\eb12'; }
.codicon-lightbulb-autofix:before { content: '\eb13'; }
.codicon-link-external:before { content: '\eb14'; }
.codicon-link:before { content: '\eb15'; }
.codicon-list-ordered:before { content: '\eb16'; }
.codicon-list-unordered:before { content: '\eb17'; }
.codicon-live-share:before { content: '\eb18'; }
.codicon-loading:before { content: '\eb19'; }
.codicon-location:before { content: '\eb1a'; }
.codicon-mail-read:before { content: '\eb1b'; }
.codicon-mail:before { content: '\eb1c'; }
.codicon-markdown:before { content: '\eb1d'; }
.codicon-megaphone:before { content: '\eb1e'; }
.codicon-mention:before { content: '\eb1f'; }
.codicon-milestone:before { content: '\eb20'; }
.codicon-mortar-board:before { content: '\eb21'; }
.codicon-move:before { content: '\eb22'; }
.codicon-multiple-windows:before { content: '\eb23'; }
.codicon-mute:before { content: '\eb24'; }
.codicon-no-newline:before { content: '\eb25'; }
.codicon-note:before { content: '\eb26'; }
.codicon-octoface:before { content: '\eb27'; }
.codicon-open-preview:before { content: '\eb28'; }
.codicon-package:before { content: '\eb29'; }
.codicon-paintcan:before { content: '\eb2a'; }
.codicon-pin:before { content: '\eb2b'; }
.codicon-play:before { content: '\eb2c'; }
.codicon-run:before { content: '\eb2c'; }
.codicon-plug:before { content: '\eb2d'; }
.codicon-preserve-case:before { content: '\eb2e'; }
.codicon-preview:before { content: '\eb2f'; }
.codicon-project:before { content: '\eb30'; }
.codicon-pulse:before { content: '\eb31'; }
.codicon-question:before { content: '\eb32'; }
.codicon-quote:before { content: '\eb33'; }
.codicon-radio-tower:before { content: '\eb34'; }
.codicon-reactions:before { content: '\eb35'; }
.codicon-references:before { content: '\eb36'; }
.codicon-refresh:before { content: '\eb37'; }
.codicon-regex:before { content: '\eb38'; }
.codicon-remote-explorer:before { content: '\eb39'; }
.codicon-remote:before { content: '\eb3a'; }
.codicon-remove:before { content: '\eb3b'; }
.codicon-replace-all:before { content: '\eb3c'; }
.codicon-replace:before { content: '\eb3d'; }
.codicon-repo-clone:before { content: '\eb3e'; }
.codicon-repo-force-push:before { content: '\eb3f'; }
.codicon-repo-pull:before { content: '\eb40'; }
.codicon-repo-push:before { content: '\eb41'; }
.codicon-report:before { content: '\eb42'; }
.codicon-request-changes:before { content: '\eb43'; }
.codicon-rocket:before { content: '\eb44'; }
.codicon-root-folder-opened:before { content: '\eb45'; }
.codicon-root-folder:before { content: '\eb46'; }
.codicon-rss:before { content: '\eb47'; }
.codicon-ruby:before { content: '\eb48'; }
.codicon-save-all:before { content: '\eb49'; }
.codicon-save-as:before { content: '\eb4a'; }
.codicon-save:before { content: '\eb4b'; }
.codicon-screen-full:before { content: '\eb4c'; }
.codicon-screen-normal:before { content: '\eb4d'; }
.codicon-search-stop:before { content: '\eb4e'; }
.codicon-server:before { content: '\eb50'; }
.codicon-settings-gear:before { content: '\eb51'; }
.codicon-settings:before { content: '\eb52'; }
.codicon-shield:before { content: '\eb53'; }
.codicon-smiley:before { content: '\eb54'; }
.codicon-sort-precedence:before { content: '\eb55'; }
.codicon-split-horizontal:before { content: '\eb56'; }
.codicon-split-vertical:before { content: '\eb57'; }
.codicon-squirrel:before { content: '\eb58'; }
.codicon-star-full:before { content: '\eb59'; }
.codicon-star-half:before { content: '\eb5a'; }
.codicon-symbol-class:before { content: '\eb5b'; }
.codicon-symbol-color:before { content: '\eb5c'; }
.codicon-symbol-customcolor:before { content: '\eb5c'; }
.codicon-symbol-constant:before { content: '\eb5d'; }
.codicon-symbol-enum-member:before { content: '\eb5e'; }
.codicon-symbol-field:before { content: '\eb5f'; }
.codicon-symbol-file:before { content: '\eb60'; }
.codicon-symbol-interface:before { content: '\eb61'; }
.codicon-symbol-keyword:before { content: '\eb62'; }
.codicon-symbol-misc:before { content: '\eb63'; }
.codicon-symbol-operator:before { content: '\eb64'; }
.codicon-symbol-property:before { content: '\eb65'; }
.codicon-wrench:before { content: '\eb65'; }
.codicon-wrench-subaction:before { content: '\eb65'; }
.codicon-symbol-snippet:before { content: '\eb66'; }
.codicon-tasklist:before { content: '\eb67'; }
.codicon-telescope:before { content: '\eb68'; }
.codicon-text-size:before { content: '\eb69'; }
.codicon-three-bars:before { content: '\eb6a'; }
.codicon-thumbsdown:before { content: '\eb6b'; }
.codicon-thumbsup:before { content: '\eb6c'; }
.codicon-tools:before { content: '\eb6d'; }
.codicon-triangle-down:before { content: '\eb6e'; }
.codicon-triangle-left:before { content: '\eb6f'; }
.codicon-triangle-right:before { content: '\eb70'; }
.codicon-triangle-up:before { content: '\eb71'; }
.codicon-twitter:before { content: '\eb72'; }
.codicon-unfold:before { content: '\eb73'; }
.codicon-unlock:before { content: '\eb74'; }
.codicon-unmute:before { content: '\eb75'; }
.codicon-unverified:before { content: '\eb76'; }
.codicon-verified:before { content: '\eb77'; }
.codicon-versions:before { content: '\eb78'; }
.codicon-vm-active:before { content: '\eb79'; }
.codicon-vm-outline:before { content: '\eb7a'; }
.codicon-vm-running:before { content: '\eb7b'; }
.codicon-watch:before { content: '\eb7c'; }
.codicon-whitespace:before { content: '\eb7d'; }
.codicon-whole-word:before { content: '\eb7e'; }
.codicon-window:before { content: '\eb7f'; }
.codicon-word-wrap:before { content: '\eb80'; }
.codicon-zoom-in:before { content: '\eb81'; }
.codicon-zoom-out:before { content: '\eb82'; }
.codicon-list-filter:before { content: '\eb83'; }
.codicon-list-flat:before { content: '\eb84'; }
.codicon-list-selection:before { content: '\eb85'; }
.codicon-selection:before { content: '\eb85'; }
.codicon-list-tree:before { content: '\eb86'; }
.codicon-debug-breakpoint-function-unverified:before { content: '\eb87'; }
.codicon-debug-breakpoint-function:before { content: '\eb88'; }
.codicon-debug-breakpoint-function-disabled:before { content: '\eb88'; }
.codicon-debug-stackframe-active:before { content: '\eb89'; }
.codicon-circle-small-filled:before { content: '\eb8a'; }
.codicon-debug-stackframe-dot:before { content: '\eb8a'; }
.codicon-debug-stackframe:before { content: '\eb8b'; }
.codicon-debug-stackframe-focused:before { content: '\eb8b'; }
.codicon-debug-breakpoint-unsupported:before { content: '\eb8c'; }
.codicon-symbol-string:before { content: '\eb8d'; }
.codicon-debug-reverse-continue:before { content: '\eb8e'; }
.codicon-debug-step-back:before { content: '\eb8f'; }
.codicon-debug-restart-frame:before { content: '\eb90'; }
.codicon-call-incoming:before { content: '\eb92'; }
.codicon-call-outgoing:before { content: '\eb93'; }
.codicon-menu:before { content: '\eb94'; }
.codicon-expand-all:before { content: '\eb95'; }
.codicon-feedback:before { content: '\eb96'; }
.codicon-group-by-ref-type:before { content: '\eb97'; }
.codicon-ungroup-by-ref-type:before { content: '\eb98'; }
.codicon-account:before { content: '\eb99'; }
.codicon-bell-dot:before { content: '\eb9a'; }
.codicon-debug-console:before { content: '\eb9b'; }
.codicon-library:before { content: '\eb9c'; }
.codicon-output:before { content: '\eb9d'; }
.codicon-run-all:before { content: '\eb9e'; }
.codicon-sync-ignored:before { content: '\eb9f'; }
.codicon-pinned:before { content: '\eba0'; }
.codicon-github-inverted:before { content: '\eba1'; }
.codicon-debug-alt:before { content: '\eb91'; }
.codicon-server-process:before { content: '\eba2'; }
.codicon-server-environment:before { content: '\eba3'; }
.codicon-pass:before { content: '\eba4'; }
.codicon-stop-circle:before { content: '\eba5'; }
.codicon-play-circle:before { content: '\eba6'; }
.codicon-record:before { content: '\eba7'; }
.codicon-debug-alt-small:before { content: '\eba8'; }
.codicon-vm-connect:before { content: '\eba9'; }
.codicon-cloud:before { content: '\ebaa'; }
.codicon-merge:before { content: '\ebab'; }
.codicon-export:before { content: '\ebac'; }
.codicon-graph-left:before { content: '\ebad'; }
.codicon-magnet:before { content: '\ebae'; }
.codicon-notebook:before { content: '\ebaf'; }
.codicon-redo:before { content: '\ebb0'; }
.codicon-check-all:before { content: '\ebb1'; }
.codicon-pinned-dirty:before { content: '\ebb2'; }
.codicon-pass-filled:before { content: '\ebb3'; }
.codicon-circle-large-filled:before { content: '\ebb4'; }
.codicon-circle-large:before { content: '\ebb5'; }
.codicon-circle-large-outline:before { content: '\ebb5'; }
.codicon-combine:before { content: '\ebb6'; }
.codicon-gather:before { content: '\ebb6'; }
.codicon-table:before { content: '\ebb7'; }
.codicon-variable-group:before { content: '\ebb8'; }
.codicon-type-hierarchy:before { content: '\ebb9'; }
.codicon-type-hierarchy-sub:before { content: '\ebba'; }
.codicon-type-hierarchy-super:before { content: '\ebbb'; }
.codicon-git-pull-request-create:before { content: '\ebbc'; }
.codicon-run-above:before { content: '\ebbd'; }
.codicon-run-below:before { content: '\ebbe'; }
.codicon-notebook-template:before { content: '\ebbf'; }
.codicon-debug-rerun:before { content: '\ebc0'; }
.codicon-workspace-trusted:before { content: '\ebc1'; }
.codicon-workspace-untrusted:before { content: '\ebc2'; }
.codicon-workspace-unspecified:before { content: '\ebc3'; }
.codicon-terminal-cmd:before { content: '\ebc4'; }
.codicon-terminal-debian:before { content: '\ebc5'; }
.codicon-terminal-linux:before { content: '\ebc6'; }
.codicon-terminal-powershell:before { content: '\ebc7'; }
.codicon-terminal-tmux:before { content: '\ebc8'; }
.codicon-terminal-ubuntu:before { content: '\ebc9'; }
.codicon-terminal-bash:before { content: '\ebca'; }
.codicon-arrow-swap:before { content: '\ebcb'; }
.codicon-copy:before { content: '\ebcc'; }
.codicon-person-add:before { content: '\ebcd'; }
.codicon-filter-filled:before { content: '\ebce'; }
.codicon-wand:before { content: '\ebcf'; }
.codicon-debug-line-by-line:before { content: '\ebd0'; }
.codicon-inspect:before { content: '\ebd1'; }
.codicon-layers:before { content: '\ebd2'; }
.codicon-layers-dot:before { content: '\ebd3'; }
.codicon-layers-active:before { content: '\ebd4'; }
.codicon-compass:before { content: '\ebd5'; }
.codicon-compass-dot:before { content: '\ebd6'; }
.codicon-compass-active:before { content: '\ebd7'; }
.codicon-azure:before { content: '\ebd8'; }
.codicon-issue-draft:before { content: '\ebd9'; }
.codicon-git-pull-request-closed:before { content: '\ebda'; }
.codicon-git-pull-request-draft:before { content: '\ebdb'; }
.codicon-debug-all:before { content: '\ebdc'; }
.codicon-debug-coverage:before { content: '\ebdd'; }
.codicon-run-errors:before { content: '\ebde'; }
.codicon-folder-library:before { content: '\ebdf'; }
.codicon-debug-continue-small:before { content: '\ebe0'; }
.codicon-beaker-stop:before { content: '\ebe1'; }
.codicon-graph-line:before { content: '\ebe2'; }
.codicon-graph-scatter:before { content: '\ebe3'; }
.codicon-pie-chart:before { content: '\ebe4'; }
.codicon-bracket-dot:before { content: '\ebe5'; }
.codicon-bracket-error:before { content: '\ebe6'; }
.codicon-lock-small:before { content: '\ebe7'; }
.codicon-azure-devops:before { content: '\ebe8'; }
.codicon-verified-filled:before { content: '\ebe9'; }
.codicon-newline:before { content: '\ebea'; }
.codicon-layout:before { content: '\ebeb'; }
.codicon-layout-activitybar-left:before { content: '\ebec'; }
.codicon-layout-activitybar-right:before { content: '\ebed'; }
.codicon-layout-panel-left:before { content: '\ebee'; }
.codicon-layout-panel-center:before { content: '\ebef'; }
.codicon-layout-panel-justify:before { content: '\ebf0'; }
.codicon-layout-panel-right:before { content: '\ebf1'; }
.codicon-layout-panel:before { content: '\ebf2'; }
.codicon-layout-sidebar-left:before { content: '\ebf3'; }
.codicon-layout-sidebar-right:before { content: '\ebf4'; }
.codicon-layout-statusbar:before { content: '\ebf5'; }
.codicon-layout-menubar:before { content: '\ebf6'; }
.codicon-layout-centered:before { content: '\ebf7'; }
.codicon-layout-sidebar-right-off:before { content: '\ec00'; }
.codicon-layout-panel-off:before { content: '\ec01'; }
.codicon-layout-sidebar-left-off:before { content: '\ec02'; }
.codicon-target:before { content: '\ebf8'; }
.codicon-indent:before { content: '\ebf9'; }
.codicon-record-small:before { content: '\ebfa'; }
.codicon-error-small:before { content: '\ebfb'; }
.codicon-arrow-circle-down:before { content: '\ebfc'; }
.codicon-arrow-circle-left:before { content: '\ebfd'; }
.codicon-arrow-circle-right:before { content: '\ebfe'; }
.codicon-arrow-circle-up:before { content: '\ebff'; }
.codicon-heart-filled:before { content: '\ec04'; }
.codicon-map:before { content: '\ec05'; }
.codicon-map-filled:before { content: '\ec06'; }
.codicon-circle-small:before { content: '\ec07'; }
.codicon-bell-slash:before { content: '\ec08'; }
.codicon-bell-slash-dot:before { content: '\ec09'; }
.codicon-comment-unresolved:before { content: '\ec0a'; }
.codicon-git-pull-request-go-to-changes:before { content: '\ec0b'; }
.codicon-git-pull-request-new-changes:before { content: '\ec0c'; }
.codicon-search-fuzzy:before { content: '\ec0d'; }
.codicon-comment-draft:before { content: '\ec0e'; }
.codicon-send:before { content: '\ec0f'; }
.codicon-sparkle:before { content: '\ec10'; }
.codicon-insert:before { content: '\ec11'; }
.codicon-dialog-error:before { content: '\ea87'; }
.codicon-dialog-warning:before { content: '\ea6c'; }
.codicon-dialog-info:before { content: '\ea74'; }
.codicon-dialog-close:before { content: '\ea76'; }
.codicon-tree-item-expanded:before { content: '\eab4'; }
.codicon-tree-filter-on-type-on:before { content: '\eb83'; }
.codicon-tree-filter-on-type-off:before { content: '\eb85'; }
.codicon-tree-filter-clear:before { content: '\ea76'; }
.codicon-tree-item-loading:before { content: '\eb19'; }
.codicon-menu-selection:before { content: '\eab2'; }
.codicon-menu-submenu:before { content: '\eab6'; }
.codicon-menubar-more:before { content: '\ea7c'; }
.codicon-scrollbar-button-left:before { content: '\eb6f'; }
.codicon-scrollbar-button-right:before { content: '\eb70'; }
.codicon-scrollbar-button-up:before { content: '\eb71'; }
.codicon-scrollbar-button-down:before { content: '\eb6e'; }
.codicon-toolbar-more:before { content: '\ea7c'; }
.codicon-quick-input-back:before { content: '\ea9b'; }
.codicon-widget-close:before { content: '\ea76'; }
.codicon-goto-previous-location:before { content: '\eaa1'; }
.codicon-goto-next-location:before { content: '\ea9a'; }
.codicon-diff-review-insert:before { content: '\ea60'; }
.codicon-diff-review-remove:before { content: '\eb3b'; }
.codicon-diff-review-close:before { content: '\ea76'; }
.codicon-parameter-hints-next:before { content: '\eab4'; }
.codicon-parameter-hints-previous:before { content: '\eab7'; }
.codicon-suggest-more-info:before { content: '\eab6'; }
.codicon-inline-suggestion-hints-next:before { content: '\eab6'; }
.codicon-inline-suggestion-hints-previous:before { content: '\eab5'; }
.codicon-diff-insert:before { content: '\ea60'; }
.codicon-diff-remove:before { content: '\eb3b'; }
.codicon-find-selection:before { content: '\eb85'; }
.codicon-find-collapsed:before { content: '\eab6'; }
.codicon-find-expanded:before { content: '\eab4'; }
.codicon-find-replace:before { content: '\eb3d'; }
.codicon-find-replace-all:before { content: '\eb3c'; }
.codicon-find-previous-match:before { content: '\eaa1'; }
.codicon-find-next-match:before { content: '\ea9a'; }
.codicon-folding-expanded:before { content: '\eab4'; }
.codicon-folding-collapsed:before { content: '\eab6'; }
.codicon-folding-manual-collapsed:before { content: '\eab6'; }
.codicon-folding-manual-expanded:before { content: '\eab4'; }
.codicon-marker-navigation-next:before { content: '\ea9a'; }
.codicon-marker-navigation-previous:before { content: '\eaa1'; }
.codicon-extensions-warning-message:before { content: '\ea6c'; }
.monaco-editor .inputarea.ime-input { background-color: #1e1e1e; }
.monaco-editor .view-overlays .current-line { border: 2px solid #282828; }
.monaco-editor .margin-view-overlays .current-line-margin { border: 2px solid #282828; }
.monaco-editor .bracket-indent-guide.lvl-0 { --guide-color: rgba(255, 215, 0, 0.3); --guide-color-active: #ffd700; }
.monaco-editor .bracket-indent-guide.lvl-1 { --guide-color: rgba(218, 112, 214, 0.3); --guide-color-active: #da70d6; }
.monaco-editor .bracket-indent-guide.lvl-2 { --guide-color: rgba(23, 159, 255, 0.3); --guide-color-active: #179fff; }
.monaco-editor .bracket-indent-guide.lvl-3 { --guide-color: rgba(255, 215, 0, 0.3); --guide-color-active: #ffd700; }
.monaco-editor .bracket-indent-guide.lvl-4 { --guide-color: rgba(218, 112, 214, 0.3); --guide-color-active: #da70d6; }
.monaco-editor .bracket-indent-guide.lvl-5 { --guide-color: rgba(23, 159, 255, 0.3); --guide-color-active: #179fff; }
.monaco-editor .bracket-indent-guide.lvl-6 { --guide-color: rgba(255, 215, 0, 0.3); --guide-color-active: #ffd700; }
.monaco-editor .bracket-indent-guide.lvl-7 { --guide-color: rgba(218, 112, 214, 0.3); --guide-color-active: #da70d6; }
.monaco-editor .bracket-indent-guide.lvl-8 { --guide-color: rgba(23, 159, 255, 0.3); --guide-color-active: #179fff; }
.monaco-editor .bracket-indent-guide.lvl-9 { --guide-color: rgba(255, 215, 0, 0.3); --guide-color-active: #ffd700; }
.monaco-editor .bracket-indent-guide.lvl-10 { --guide-color: rgba(218, 112, 214, 0.3); --guide-color-active: #da70d6; }
.monaco-editor .bracket-indent-guide.lvl-11 { --guide-color: rgba(23, 159, 255, 0.3); --guide-color-active: #179fff; }
.monaco-editor .bracket-indent-guide.lvl-12 { --guide-color: rgba(255, 215, 0, 0.3); --guide-color-active: #ffd700; }
.monaco-editor .bracket-indent-guide.lvl-13 { --guide-color: rgba(218, 112, 214, 0.3); --guide-color-active: #da70d6; }
.monaco-editor .bracket-indent-guide.lvl-14 { --guide-color: rgba(23, 159, 255, 0.3); --guide-color-active: #179fff; }
.monaco-editor .bracket-indent-guide.lvl-15 { --guide-color: rgba(255, 215, 0, 0.3); --guide-color-active: #ffd700; }
.monaco-editor .bracket-indent-guide.lvl-16 { --guide-color: rgba(218, 112, 214, 0.3); --guide-color-active: #da70d6; }
.monaco-editor .bracket-indent-guide.lvl-17 { --guide-color: rgba(23, 159, 255, 0.3); --guide-color-active: #179fff; }
.monaco-editor .bracket-indent-guide.lvl-18 { --guide-color: rgba(255, 215, 0, 0.3); --guide-color-active: #ffd700; }
.monaco-editor .bracket-indent-guide.lvl-19 { --guide-color: rgba(218, 112, 214, 0.3); --guide-color-active: #da70d6; }
.monaco-editor .bracket-indent-guide.lvl-20 { --guide-color: rgba(23, 159, 255, 0.3); --guide-color-active: #179fff; }
.monaco-editor .bracket-indent-guide.lvl-21 { --guide-color: rgba(255, 215, 0, 0.3); --guide-color-active: #ffd700; }
.monaco-editor .bracket-indent-guide.lvl-22 { --guide-color: rgba(218, 112, 214, 0.3); --guide-color-active: #da70d6; }
.monaco-editor .bracket-indent-guide.lvl-23 { --guide-color: rgba(23, 159, 255, 0.3); --guide-color-active: #179fff; }
.monaco-editor .bracket-indent-guide.lvl-24 { --guide-color: rgba(255, 215, 0, 0.3); --guide-color-active: #ffd700; }
.monaco-editor .bracket-indent-guide.lvl-25 { --guide-color: rgba(218, 112, 214, 0.3); --guide-color-active: #da70d6; }
.monaco-editor .bracket-indent-guide.lvl-26 { --guide-color: rgba(23, 159, 255, 0.3); --guide-color-active: #179fff; }
.monaco-editor .bracket-indent-guide.lvl-27 { --guide-color: rgba(255, 215, 0, 0.3); --guide-color-active: #ffd700; }
.monaco-editor .bracket-indent-guide.lvl-28 { --guide-color: rgba(218, 112, 214, 0.3); --guide-color-active: #da70d6; }
.monaco-editor .bracket-indent-guide.lvl-29 { --guide-color: rgba(23, 159, 255, 0.3); --guide-color-active: #179fff; }
.monaco-editor .vertical { box-shadow: 1px 0 0 0 var(--guide-color) inset; }
.monaco-editor .horizontal-top { border-top: 1px solid var(--guide-color); }
.monaco-editor .horizontal-bottom { border-bottom: 1px solid var(--guide-color); }
.monaco-editor .vertical.indent-active { box-shadow: 1px 0 0 0 var(--guide-color-active) inset; }
.monaco-editor .horizontal-top.indent-active { border-top: 1px solid var(--guide-color-active); }
.monaco-editor .horizontal-bottom.indent-active { border-bottom: 1px solid var(--guide-color-active); }
.monaco-editor .line-numbers.dimmed-line-number { color: rgba(133, 133, 133, 0.4); }
.monaco-editor .cursors-layer .cursor { background-color: #aeafad; border-color: #aeafad; color: #515052; }
.monaco-editor .unexpected-closing-bracket { color: rgba(255, 18, 18, 0.8); }
.monaco-editor .bracket-highlighting-0 { color: #ffd700; }
.monaco-editor .bracket-highlighting-1 { color: #da70d6; }
.monaco-editor .bracket-highlighting-2 { color: #179fff; }
.monaco-editor .bracket-highlighting-3 { color: #ffd700; }
.monaco-editor .bracket-highlighting-4 { color: #da70d6; }
.monaco-editor .bracket-highlighting-5 { color: #179fff; }
.monaco-editor .bracket-highlighting-6 { color: #ffd700; }
.monaco-editor .bracket-highlighting-7 { color: #da70d6; }
.monaco-editor .bracket-highlighting-8 { color: #179fff; }
.monaco-editor .bracket-highlighting-9 { color: #ffd700; }
.monaco-editor .bracket-highlighting-10 { color: #da70d6; }
.monaco-editor .bracket-highlighting-11 { color: #179fff; }
.monaco-editor .bracket-highlighting-12 { color: #ffd700; }
.monaco-editor .bracket-highlighting-13 { color: #da70d6; }
.monaco-editor .bracket-highlighting-14 { color: #179fff; }
.monaco-editor .bracket-highlighting-15 { color: #ffd700; }
.monaco-editor .bracket-highlighting-16 { color: #da70d6; }
.monaco-editor .bracket-highlighting-17 { color: #179fff; }
.monaco-editor .bracket-highlighting-18 { color: #ffd700; }
.monaco-editor .bracket-highlighting-19 { color: #da70d6; }
.monaco-editor .bracket-highlighting-20 { color: #179fff; }
.monaco-editor .bracket-highlighting-21 { color: #ffd700; }
.monaco-editor .bracket-highlighting-22 { color: #da70d6; }
.monaco-editor .bracket-highlighting-23 { color: #179fff; }
.monaco-editor .bracket-highlighting-24 { color: #ffd700; }
.monaco-editor .bracket-highlighting-25 { color: #da70d6; }
.monaco-editor .bracket-highlighting-26 { color: #179fff; }
.monaco-editor .bracket-highlighting-27 { color: #ffd700; }
.monaco-editor .bracket-highlighting-28 { color: #da70d6; }
.monaco-editor .bracket-highlighting-29 { color: #179fff; }
.monaco-editor .squiggly-error { background: url("data:image/svg+xml,%3Csvg%20xmlns%3D'http%3A%2F%2Fwww.w3.org%2F2000%2Fsvg'%20viewBox%3D'0%200%206%203'%20enable-background%3D'new%200%200%206%203'%20height%3D'3'%20width%3D'6'%3E%3Cg%20fill%3D'%23f14c4c'%3E%3Cpolygon%20points%3D'5.5%2C0%202.5%2C3%201.1%2C3%204.1%2C0'%2F%3E%3Cpolygon%20points%3D'4%2C0%206%2C2%206%2C0.6%205.4%2C0'%2F%3E%3Cpolygon%20points%3D'0%2C2%201%2C3%202.4%2C3%200%2C0.6'%2F%3E%3C%2Fg%3E%3C%2Fsvg%3E") repeat-x bottom left; }
.monaco-editor .squiggly-warning { background: url("data:image/svg+xml,%3Csvg%20xmlns%3D'http%3A%2F%2Fwww.w3.org%2F2000%2Fsvg'%20viewBox%3D'0%200%206%203'%20enable-background%3D'new%200%200%206%203'%20height%3D'3'%20width%3D'6'%3E%3Cg%20fill%3D'%23cca700'%3E%3Cpolygon%20points%3D'5.5%2C0%202.5%2C3%201.1%2C3%204.1%2C0'%2F%3E%3Cpolygon%20points%3D'4%2C0%206%2C2%206%2C0.6%205.4%2C0'%2F%3E%3Cpolygon%20points%3D'0%2C2%201%2C3%202.4%2C3%200%2C0.6'%2F%3E%3C%2Fg%3E%3C%2Fsvg%3E") repeat-x bottom left; }
.monaco-editor .squiggly-info { background: url("data:image/svg+xml,%3Csvg%20xmlns%3D'http%3A%2F%2Fwww.w3.org%2F2000%2Fsvg'%20viewBox%3D'0%200%206%203'%20enable-background%3D'new%200%200%206%203'%20height%3D'3'%20width%3D'6'%3E%3Cg%20fill%3D'%233794ff'%3E%3Cpolygon%20points%3D'5.5%2C0%202.5%2C3%201.1%2C3%204.1%2C0'%2F%3E%3Cpolygon%20points%3D'4%2C0%206%2C2%206%2C0.6%205.4%2C0'%2F%3E%3Cpolygon%20points%3D'0%2C2%201%2C3%202.4%2C3%200%2C0.6'%2F%3E%3C%2Fg%3E%3C%2Fsvg%3E") repeat-x bottom left; }
.monaco-editor .squiggly-hint { background: url("data:image/svg+xml,%3Csvg%20xmlns%3D%22http%3A%2F%2Fwww.w3.org%2F2000%2Fsvg%22%20height%3D%223%22%20width%3D%2212%22%3E%3Cg%20fill%3D%22rgba(238%2C%20238%2C%20238%2C%200.7)%22%3E%3Ccircle%20cx%3D%221%22%20cy%3D%221%22%20r%3D%221%22%2F%3E%3Ccircle%20cx%3D%225%22%20cy%3D%221%22%20r%3D%221%22%2F%3E%3Ccircle%20cx%3D%229%22%20cy%3D%221%22%20r%3D%221%22%2F%3E%3C%2Fg%3E%3C%2Fsvg%3E") no-repeat bottom left; }
.monaco-editor.showUnused .squiggly-inline-unnecessary { opacity: 0.667; }
.monaco-editor .selectionHighlight { background-color: rgba(173, 214, 255, 0.07); }

	.monaco-editor .diagonal-fill {
		background-image: linear-gradient(
			-45deg,
			rgba(204, 204, 204, 0.2) 12.5%,
			#0000 12.5%, #0000 50%,
			rgba(204, 204, 204, 0.2) 50%, rgba(204, 204, 204, 0.2) 62.5%,
			#0000 62.5%, #0000 100%
		);
		background-size: 8px 8px;
	}
	
.monaco-editor .findMatch { background-color: rgba(234, 92, 0, 0.33); }
.monaco-editor .currentFindMatch { background-color: #515c6a; }
.monaco-editor .findScope { background-color: rgba(58, 61, 65, 0.4); }
.monaco-editor .find-widget { background-color: #252526; }
.monaco-editor .find-widget { box-shadow: 0 0 8px 2px rgba(0, 0, 0, 0.36); }
.monaco-editor .find-widget { color: #cccccc; }
.monaco-editor .find-widget.no-results .matchesCount { color: #f48771; }
.monaco-editor .find-widget .monaco-sash { background-color: #454545; }

		.monaco-editor .find-widget .button:not(.disabled):hover,
		.monaco-editor .find-widget .codicon-find-selection:hover {
			background-color: rgba(90, 93, 94, 0.31) !important;
		}
	
.monaco-editor .find-widget .monaco-inputbox.synthetic-focus { outline-color: #007fd4; }
.monaco-editor .monaco-hover .hover-row:not(:first-child):not(:empty) { border-top: 1px solid rgba(69, 69, 69, 0.5); }
.monaco-editor .monaco-hover hr { border-top: 1px solid rgba(69, 69, 69, 0.5); }
.monaco-editor .monaco-hover hr { border-bottom: 0px solid rgba(69, 69, 69, 0.5); }
.monaco-editor { --vscode-foreground: #cccccc;
--vscode-disabledForeground: rgba(204, 204, 204, 0.5);
--vscode-errorForeground: #f48771;
--vscode-descriptionForeground: rgba(204, 204, 204, 0.7);
--vscode-icon-foreground: #c5c5c5;
--vscode-focusBorder: #007fd4;
--vscode-textSeparator-foreground: rgba(255, 255, 255, 0.18);
--vscode-textLink-foreground: #3794ff;
--vscode-textLink-activeForeground: #3794ff;
--vscode-textPreformat-foreground: #d7ba7d;
--vscode-textBlockQuote-background: rgba(127, 127, 127, 0.1);
--vscode-textBlockQuote-border: rgba(0, 122, 204, 0.5);
--vscode-textCodeBlock-background: rgba(10, 10, 10, 0.4);
--vscode-widget-shadow: rgba(0, 0, 0, 0.36);
--vscode-input-background: #3c3c3c;
--vscode-input-foreground: #cccccc;
--vscode-inputOption-activeBorder: #007acc;
--vscode-inputOption-hoverBackground: rgba(90, 93, 94, 0.5);
--vscode-inputOption-activeBackground: rgba(0, 127, 212, 0.4);
--vscode-inputOption-activeForeground: #ffffff;
--vscode-input-placeholderForeground: rgba(204, 204, 204, 0.5);
--vscode-inputValidation-infoBackground: #063b49;
--vscode-inputValidation-infoBorder: #007acc;
--vscode-inputValidation-warningBackground: #352a05;
--vscode-inputValidation-warningBorder: #b89500;
--vscode-inputValidation-errorBackground: #5a1d1d;
--vscode-inputValidation-errorBorder: #be1100;
--vscode-dropdown-background: #3c3c3c;
--vscode-dropdown-foreground: #f0f0f0;
--vscode-dropdown-border: #3c3c3c;
--vscode-button-foreground: #ffffff;
--vscode-button-separator: rgba(255, 255, 255, 0.4);
--vscode-button-background: #0e639c;
--vscode-button-hoverBackground: #1177bb;
--vscode-button-secondaryForeground: #ffffff;
--vscode-button-secondaryBackground: #3a3d41;
--vscode-button-secondaryHoverBackground: #45494e;
--vscode-badge-background: #4d4d4d;
--vscode-badge-foreground: #ffffff;
--vscode-scrollbar-shadow: #000000;
--vscode-scrollbarSlider-background: rgba(121, 121, 121, 0.4);
--vscode-scrollbarSlider-hoverBackground: rgba(100, 100, 100, 0.7);
--vscode-scrollbarSlider-activeBackground: rgba(191, 191, 191, 0.4);
--vscode-progressBar-background: #0e70c0;
--vscode-editorError-foreground: #f14c4c;
--vscode-editorWarning-foreground: #cca700;
--vscode-editorInfo-foreground: #3794ff;
--vscode-editorHint-foreground: rgba(238, 238, 238, 0.7);
--vscode-sash-hoverBorder: #007fd4;
--vscode-editor-background: #1e1e1e;
--vscode-editor-foreground: #d4d4d4;
--vscode-editorStickyScroll-background: #1e1e1e;
--vscode-editorStickyScrollHover-background: #2a2d2e;
--vscode-editorWidget-background: #252526;
--vscode-editorWidget-foreground: #cccccc;
--vscode-editorWidget-border: #454545;
--vscode-quickInput-background: #252526;
--vscode-quickInput-foreground: #cccccc;
--vscode-quickInputTitle-background: rgba(255, 255, 255, 0.1);
--vscode-pickerGroup-foreground: #3794ff;
--vscode-pickerGroup-border: #3f3f46;
--vscode-keybindingLabel-background: rgba(128, 128, 128, 0.17);
--vscode-keybindingLabel-foreground: #cccccc;
--vscode-keybindingLabel-border: rgba(51, 51, 51, 0.6);
--vscode-keybindingLabel-bottomBorder: rgba(68, 68, 68, 0.6);
--vscode-editor-selectionBackground: #264f78;
--vscode-editor-inactiveSelectionBackground: #3a3d41;
--vscode-editor-selectionHighlightBackground: rgba(173, 214, 255, 0.15);
--vscode-editor-findMatchBackground: #515c6a;
--vscode-editor-findMatchHighlightBackground: rgba(234, 92, 0, 0.33);
--vscode-editor-findRangeHighlightBackground: rgba(58, 61, 65, 0.4);
--vscode-searchEditor-findMatchBackground: rgba(234, 92, 0, 0.22);
--vscode-search-resultsInfoForeground: rgba(204, 204, 204, 0.65);
--vscode-editor-hoverHighlightBackground: rgba(38, 79, 120, 0.25);
--vscode-editorHoverWidget-background: #252526;
--vscode-editorHoverWidget-foreground: #cccccc;
--vscode-editorHoverWidget-border: #454545;
--vscode-editorHoverWidget-statusBarBackground: #2c2c2d;
--vscode-editorLink-activeForeground: #4e94ce;
--vscode-editorInlayHint-foreground: #cccccc;
--vscode-editorInlayHint-background: rgba(77, 77, 77, 0.25);
--vscode-editorInlayHint-typeForeground: #cccccc;
--vscode-editorInlayHint-typeBackground: rgba(77, 77, 77, 0.25);
--vscode-editorInlayHint-parameterForeground: #cccccc;
--vscode-editorInlayHint-parameterBackground: rgba(77, 77, 77, 0.25);
--vscode-editorLightBulb-foreground: #ffcc00;
--vscode-editorLightBulbAutoFix-foreground: #75beff;
--vscode-diffEditor-insertedTextBackground: rgba(156, 204, 44, 0.13);
--vscode-diffEditor-removedTextBackground: rgba(255, 0, 0, 0.14);
--vscode-diffEditor-insertedLineBackground: rgba(156, 204, 44, 0.13);
--vscode-diffEditor-removedLineBackground: rgba(255, 0, 0, 0.14);
--vscode-diffEditor-diagonalFill: rgba(204, 204, 204, 0.2);
--vscode-diffEditor-unchangedRegionBackground: #3e3e3e;
--vscode-diffEditor-unchangedRegionForeground: #a3a2a2;
--vscode-diffEditor-unchangedCodeBackground: rgba(116, 116, 116, 0.16);
--vscode-list-focusOutline: #007fd4;
--vscode-list-activeSelectionBackground: #04395e;
--vscode-list-activeSelectionForeground: #ffffff;
--vscode-list-inactiveSelectionBackground: #37373d;
--vscode-list-hoverBackground: #2a2d2e;
--vscode-list-dropBackground: #062f4a;
--vscode-list-highlightForeground: #2aaaff;
--vscode-list-focusHighlightForeground: #2aaaff;
--vscode-list-invalidItemForeground: #b89500;
--vscode-list-errorForeground: #f88070;
--vscode-list-warningForeground: #cca700;
--vscode-listFilterWidget-background: #252526;
--vscode-listFilterWidget-outline: rgba(0, 0, 0, 0);
--vscode-listFilterWidget-noMatchesOutline: #be1100;
--vscode-listFilterWidget-shadow: rgba(0, 0, 0, 0.36);
--vscode-list-filterMatchBackground: rgba(234, 92, 0, 0.33);
--vscode-tree-indentGuidesStroke: #585858;
--vscode-tree-inactiveIndentGuidesStroke: rgba(88, 88, 88, 0.4);
--vscode-tree-tableColumnsBorder: rgba(204, 204, 204, 0.13);
--vscode-tree-tableOddRowsBackground: rgba(204, 204, 204, 0.04);
--vscode-list-deemphasizedForeground: #8c8c8c;
--vscode-checkbox-background: #3c3c3c;
--vscode-checkbox-selectBackground: #252526;
--vscode-checkbox-foreground: #f0f0f0;
--vscode-checkbox-border: #3c3c3c;
--vscode-checkbox-selectBorder: #c5c5c5;
--vscode-quickInputList-focusForeground: #ffffff;
--vscode-quickInputList-focusBackground: #04395e;
--vscode-menu-foreground: #f0f0f0;
--vscode-menu-background: #3c3c3c;
--vscode-menu-selectionForeground: #ffffff;
--vscode-menu-selectionBackground: #04395e;
--vscode-menu-separatorBackground: #606060;
--vscode-toolbar-hoverBackground: rgba(90, 93, 94, 0.31);
--vscode-toolbar-activeBackground: rgba(99, 102, 103, 0.31);
--vscode-editor-snippetTabstopHighlightBackground: rgba(124, 124, 124, 0.3);
--vscode-editor-snippetFinalTabstopHighlightBorder: #525252;
--vscode-breadcrumb-foreground: rgba(204, 204, 204, 0.8);
--vscode-breadcrumb-background: #1e1e1e;
--vscode-breadcrumb-focusForeground: #e0e0e0;
--vscode-breadcrumb-activeSelectionForeground: #e0e0e0;
--vscode-breadcrumbPicker-background: #252526;
--vscode-merge-currentHeaderBackground: rgba(64, 200, 174, 0.5);
--vscode-merge-currentContentBackground: rgba(64, 200, 174, 0.2);
--vscode-merge-incomingHeaderBackground: rgba(64, 166, 255, 0.5);
--vscode-merge-incomingContentBackground: rgba(64, 166, 255, 0.2);
--vscode-merge-commonHeaderBackground: rgba(96, 96, 96, 0.4);
--vscode-merge-commonContentBackground: rgba(96, 96, 96, 0.16);
--vscode-editorOverviewRuler-currentContentForeground: rgba(64, 200, 174, 0.5);
--vscode-editorOverviewRuler-incomingContentForeground: rgba(64, 166, 255, 0.5);
--vscode-editorOverviewRuler-commonContentForeground: rgba(96, 96, 96, 0.4);
--vscode-editorOverviewRuler-findMatchForeground: rgba(209, 134, 22, 0.49);
--vscode-editorOverviewRuler-selectionHighlightForeground: rgba(160, 160, 160, 0.8);
--vscode-minimap-findMatchHighlight: #d18616;
--vscode-minimap-selectionOccurrenceHighlight: #676767;
--vscode-minimap-selectionHighlight: #264f78;
--vscode-minimap-errorHighlight: rgba(255, 18, 18, 0.7);
--vscode-minimap-warningHighlight: #cca700;
--vscode-minimap-foregroundOpacity: #000000;
--vscode-minimapSlider-background: rgba(121, 121, 121, 0.2);
--vscode-minimapSlider-hoverBackground: rgba(100, 100, 100, 0.35);
--vscode-minimapSlider-activeBackground: rgba(191, 191, 191, 0.2);
--vscode-problemsErrorIcon-foreground: #f14c4c;
--vscode-problemsWarningIcon-foreground: #cca700;
--vscode-problemsInfoIcon-foreground: #3794ff;
--vscode-charts-foreground: #cccccc;
--vscode-charts-lines: rgba(204, 204, 204, 0.5);
--vscode-charts-red: #f14c4c;
--vscode-charts-blue: #3794ff;
--vscode-charts-yellow: #cca700;
--vscode-charts-orange: #d18616;
--vscode-charts-green: #89d185;
--vscode-charts-purple: #b180d7;
--vscode-symbolIcon-arrayForeground: #cccccc;
--vscode-symbolIcon-booleanForeground: #cccccc;
--vscode-symbolIcon-classForeground: #ee9d28;
--vscode-symbolIcon-colorForeground: #cccccc;
--vscode-symbolIcon-constantForeground: #cccccc;
--vscode-symbolIcon-constructorForeground: #b180d7;
--vscode-symbolIcon-enumeratorForeground: #ee9d28;
--vscode-symbolIcon-enumeratorMemberForeground: #75beff;
--vscode-symbolIcon-eventForeground: #ee9d28;
--vscode-symbolIcon-fieldForeground: #75beff;
--vscode-symbolIcon-fileForeground: #cccccc;
--vscode-symbolIcon-folderForeground: #cccccc;
--vscode-symbolIcon-functionForeground: #b180d7;
--vscode-symbolIcon-interfaceForeground: #75beff;
--vscode-symbolIcon-keyForeground: #cccccc;
--vscode-symbolIcon-keywordForeground: #cccccc;
--vscode-symbolIcon-methodForeground: #b180d7;
--vscode-symbolIcon-moduleForeground: #cccccc;
--vscode-symbolIcon-namespaceForeground: #cccccc;
--vscode-symbolIcon-nullForeground: #cccccc;
--vscode-symbolIcon-numberForeground: #cccccc;
--vscode-symbolIcon-objectForeground: #cccccc;
--vscode-symbolIcon-operatorForeground: #cccccc;
--vscode-symbolIcon-packageForeground: #cccccc;
--vscode-symbolIcon-propertyForeground: #cccccc;
--vscode-symbolIcon-referenceForeground: #cccccc;
--vscode-symbolIcon-snippetForeground: #cccccc;
--vscode-symbolIcon-stringForeground: #cccccc;
--vscode-symbolIcon-structForeground: #cccccc;
--vscode-symbolIcon-textForeground: #cccccc;
--vscode-symbolIcon-typeParameterForeground: #cccccc;
--vscode-symbolIcon-unitForeground: #cccccc;
--vscode-symbolIcon-variableForeground: #75beff;
--vscode-editor-lineHighlightBorder: #282828;
--vscode-editor-rangeHighlightBackground: rgba(255, 255, 255, 0.04);
--vscode-editor-symbolHighlightBackground: rgba(234, 92, 0, 0.33);
--vscode-editorCursor-foreground: #aeafad;
--vscode-editorWhitespace-foreground: rgba(227, 228, 226, 0.16);
--vscode-editorIndentGuide-background: #404040;
--vscode-editorIndentGuide-activeBackground: #707070;
--vscode-editorLineNumber-foreground: #858585;
--vscode-editorActiveLineNumber-foreground: #c6c6c6;
--vscode-editorLineNumber-activeForeground: #c6c6c6;
--vscode-editorRuler-foreground: #5a5a5a;
--vscode-editorCodeLens-foreground: #999999;
--vscode-editorBracketMatch-background: rgba(0, 100, 0, 0.1);
--vscode-editorBracketMatch-border: #888888;
--vscode-editorOverviewRuler-border: rgba(127, 127, 127, 0.3);
--vscode-editorGutter-background: #1e1e1e;
--vscode-editorUnnecessaryCode-opacity: rgba(0, 0, 0, 0.67);
--vscode-editorGhostText-foreground: rgba(255, 255, 255, 0.34);
--vscode-editorOverviewRuler-rangeHighlightForeground: rgba(0, 122, 204, 0.6);
--vscode-editorOverviewRuler-errorForeground: rgba(255, 18, 18, 0.7);
--vscode-editorOverviewRuler-warningForeground: #cca700;
--vscode-editorOverviewRuler-infoForeground: #3794ff;
--vscode-editorBracketHighlight-foreground1: #ffd700;
--vscode-editorBracketHighlight-foreground2: #da70d6;
--vscode-editorBracketHighlight-foreground3: #179fff;
--vscode-editorBracketHighlight-foreground4: rgba(0, 0, 0, 0);
--vscode-editorBracketHighlight-foreground5: rgba(0, 0, 0, 0);
--vscode-editorBracketHighlight-foreground6: rgba(0, 0, 0, 0);
--vscode-editorBracketHighlight-unexpectedBracket-foreground: rgba(255, 18, 18, 0.8);
--vscode-editorBracketPairGuide-background1: rgba(0, 0, 0, 0);
--vscode-editorBracketPairGuide-background2: rgba(0, 0, 0, 0);
--vscode-editorBracketPairGuide-background3: rgba(0, 0, 0, 0);
--vscode-editorBracketPairGuide-background4: rgba(0, 0, 0, 0);
--vscode-editorBracketPairGuide-background5: rgba(0, 0, 0, 0);
--vscode-editorBracketPairGuide-background6: rgba(0, 0, 0, 0);
--vscode-editorBracketPairGuide-activeBackground1: rgba(0, 0, 0, 0);
--vscode-editorBracketPairGuide-activeBackground2: rgba(0, 0, 0, 0);
--vscode-editorBracketPairGuide-activeBackground3: rgba(0, 0, 0, 0);
--vscode-editorBracketPairGuide-activeBackground4: rgba(0, 0, 0, 0);
--vscode-editorBracketPairGuide-activeBackground5: rgba(0, 0, 0, 0);
--vscode-editorBracketPairGuide-activeBackground6: rgba(0, 0, 0, 0);
--vscode-editorUnicodeHighlight-border: #bd9b03;
--vscode-editorUnicodeHighlight-background: rgba(189, 155, 3, 0.15);
--vscode-editorOverviewRuler-bracketMatchForeground: #a0a0a0;
--vscode-editor-linkedEditingBackground: rgba(255, 0, 0, 0.3);
--vscode-editor-wordHighlightBackground: rgba(87, 87, 87, 0.72);
--vscode-editor-wordHighlightStrongBackground: rgba(0, 73, 114, 0.72);
--vscode-editor-wordHighlightTextBackground: rgba(87, 87, 87, 0.72);
--vscode-editorOverviewRuler-wordHighlightForeground: rgba(160, 160, 160, 0.8);
--vscode-editorOverviewRuler-wordHighlightStrongForeground: rgba(192, 160, 192, 0.8);
--vscode-editorOverviewRuler-wordHighlightTextForeground: rgba(160, 160, 160, 0.8);
--vscode-peekViewTitle-background: #252526;
--vscode-peekViewTitleLabel-foreground: #ffffff;
--vscode-peekViewTitleDescription-foreground: rgba(204, 204, 204, 0.7);
--vscode-peekView-border: #3794ff;
--vscode-peekViewResult-background: #252526;
--vscode-peekViewResult-lineForeground: #bbbbbb;
--vscode-peekViewResult-fileForeground: #ffffff;
--vscode-peekViewResult-selectionBackground: rgba(51, 153, 255, 0.2);
--vscode-peekViewResult-selectionForeground: #ffffff;
--vscode-peekViewEditor-background: #001f33;
--vscode-peekViewEditorGutter-background: #001f33;
--vscode-peekViewEditorStickyScroll-background: #001f33;
--vscode-peekViewResult-matchHighlightBackground: rgba(234, 92, 0, 0.3);
--vscode-peekViewEditor-matchHighlightBackground: rgba(255, 143, 0, 0.6);
--vscode-editorMarkerNavigationError-background: #f14c4c;
--vscode-editorMarkerNavigationError-headerBackground: rgba(241, 76, 76, 0.1);
--vscode-editorMarkerNavigationWarning-background: #cca700;
--vscode-editorMarkerNavigationWarning-headerBackground: rgba(204, 167, 0, 0.1);
--vscode-editorMarkerNavigationInfo-background: #3794ff;
--vscode-editorMarkerNavigationInfo-headerBackground: rgba(55, 148, 255, 0.1);
--vscode-editorMarkerNavigation-background: #1e1e1e;
--vscode-editorHoverWidget-highlightForeground: #2aaaff;
--vscode-editorSuggestWidget-background: #252526;
--vscode-editorSuggestWidget-border: #454545;
--vscode-editorSuggestWidget-foreground: #d4d4d4;
--vscode-editorSuggestWidget-selectedForeground: #ffffff;
--vscode-editorSuggestWidget-selectedBackground: #04395e;
--vscode-editorSuggestWidget-highlightForeground: #2aaaff;
--vscode-editorSuggestWidget-focusHighlightForeground: #2aaaff;
--vscode-editorSuggestWidgetStatus-foreground: rgba(212, 212, 212, 0.5);
--vscode-editor-foldBackground: rgba(38, 79, 120, 0.3);
--vscode-editorGutter-foldingControlForeground: #c5c5c5; }

.mtk1 { color: #d4d4d4; }
.mtk2 { color: #1e1e1e; }
.mtk3 { color: #cc6666; }
.mtk4 { color: #9cdcfe; }
.mtk5 { color: #ce9178; }
.mtk6 { color: #b5cea8; }
.mtk7 { color: #608b4e; }
.mtk8 { color: #6aa94f; }
.mtk9 { color: #569cd6; }
.mtk10 { color: #f28b82; }
.mtk11 { color: #d7ba7d; }
.mtk12 { color: #dcdcdc; }
.mtk13 { color: #808080; }
.mtk14 { color: #4ec9b0; }
.mtk15 { color: #dcdcaa; }
.mtk16 { color: #f44747; }
.mtk17 { color: #82c6ff; }
.mtk18 { color: #c586c0; }
.mtk19 { color: #a79873; }
.mtk20 { color: #dd6a6f; }
.mtk21 { color: #5bb498; }
.mtk22 { color: #909090; }
.mtk23 { color: #778899; }
.mtk24 { color: #ff00ff; }
.mtk25 { color: #b46695; }
.mtk26 { color: #ff0000; }
.mtk27 { color: #4f76ac; }
.mtk28 { color: #3dc9b0; }
.mtk29 { color: #74b0df; }
.mtk30 { color: #4864aa; }
.mtki { font-style: italic; }
.mtkb { font-weight: bold; }
.mtku { text-decoration: underline; text-underline-position: under; }
.mtks { text-decoration: line-through; }
.mtks.mtku { text-decoration: underline line-through; text-underline-position: under; }</style><link rel="stylesheet" type="text/css" href="./Airbnb_Paris__files/css2(1)"><style type="text/css">.MJXp-script {font-size: .8em}
.MJXp-right {-webkit-transform-origin: right; -moz-transform-origin: right; -ms-transform-origin: right; -o-transform-origin: right; transform-origin: right}
.MJXp-bold {font-weight: bold}
.MJXp-italic {font-style: italic}
.MJXp-scr {font-family: MathJax_Script,'Times New Roman',Times,STIXGeneral,serif}
.MJXp-frak {font-family: MathJax_Fraktur,'Times New Roman',Times,STIXGeneral,serif}
.MJXp-sf {font-family: MathJax_SansSerif,'Times New Roman',Times,STIXGeneral,serif}
.MJXp-cal {font-family: MathJax_Caligraphic,'Times New Roman',Times,STIXGeneral,serif}
.MJXp-mono {font-family: MathJax_Typewriter,'Times New Roman',Times,STIXGeneral,serif}
.MJXp-largeop {font-size: 150%}
.MJXp-largeop.MJXp-int {vertical-align: -.2em}
.MJXp-math {display: inline-block; line-height: 1.2; text-indent: 0; font-family: 'Times New Roman',Times,STIXGeneral,serif; white-space: nowrap; border-collapse: collapse}
.MJXp-display {display: block; text-align: center; margin: 1em 0}
.MJXp-math span {display: inline-block}
.MJXp-box {display: block!important; text-align: center}
.MJXp-box:after {content: " "}
.MJXp-rule {display: block!important; margin-top: .1em}
.MJXp-char {display: block!important}
.MJXp-mo {margin: 0 .15em}
.MJXp-mfrac {margin: 0 .125em; vertical-align: .25em}
.MJXp-denom {display: inline-table!important; width: 100%}
.MJXp-denom > * {display: table-row!important}
.MJXp-surd {vertical-align: top}
.MJXp-surd > * {display: block!important}
.MJXp-script-box > *  {display: table!important; height: 50%}
.MJXp-script-box > * > * {display: table-cell!important; vertical-align: top}
.MJXp-script-box > *:last-child > * {vertical-align: bottom}
.MJXp-script-box > * > * > * {display: block!important}
.MJXp-mphantom {visibility: hidden}
.MJXp-munderover, .MJXp-munder {display: inline-table!important}
.MJXp-over {display: inline-block!important; text-align: center}
.MJXp-over > * {display: block!important}
.MJXp-munderover > *, .MJXp-munder > * {display: table-row!important}
.MJXp-mtable {vertical-align: .25em; margin: 0 .125em}
.MJXp-mtable > * {display: inline-table!important; vertical-align: middle}
.MJXp-mtr {display: table-row!important}
.MJXp-mtd {display: table-cell!important; text-align: center; padding: .5em 0 0 .5em}
.MJXp-mtr > .MJXp-mtd:first-child {padding-left: 0}
.MJXp-mtr:first-child > .MJXp-mtd {padding-top: 0}
.MJXp-mlabeledtr {display: table-row!important}
.MJXp-mlabeledtr > .MJXp-mtd:first-child {padding-left: 0}
.MJXp-mlabeledtr:first-child > .MJXp-mtd {padding-top: 0}
.MJXp-merror {background-color: #FFFF88; color: #CC0000; border: 1px solid #CC0000; padding: 1px 3px; font-style: normal; font-size: 90%}
.MJXp-scale0 {-webkit-transform: scaleX(.0); -moz-transform: scaleX(.0); -ms-transform: scaleX(.0); -o-transform: scaleX(.0); transform: scaleX(.0)}
.MJXp-scale1 {-webkit-transform: scaleX(.1); -moz-transform: scaleX(.1); -ms-transform: scaleX(.1); -o-transform: scaleX(.1); transform: scaleX(.1)}
.MJXp-scale2 {-webkit-transform: scaleX(.2); -moz-transform: scaleX(.2); -ms-transform: scaleX(.2); -o-transform: scaleX(.2); transform: scaleX(.2)}
.MJXp-scale3 {-webkit-transform: scaleX(.3); -moz-transform: scaleX(.3); -ms-transform: scaleX(.3); -o-transform: scaleX(.3); transform: scaleX(.3)}
.MJXp-scale4 {-webkit-transform: scaleX(.4); -moz-transform: scaleX(.4); -ms-transform: scaleX(.4); -o-transform: scaleX(.4); transform: scaleX(.4)}
.MJXp-scale5 {-webkit-transform: scaleX(.5); -moz-transform: scaleX(.5); -ms-transform: scaleX(.5); -o-transform: scaleX(.5); transform: scaleX(.5)}
.MJXp-scale6 {-webkit-transform: scaleX(.6); -moz-transform: scaleX(.6); -ms-transform: scaleX(.6); -o-transform: scaleX(.6); transform: scaleX(.6)}
.MJXp-scale7 {-webkit-transform: scaleX(.7); -moz-transform: scaleX(.7); -ms-transform: scaleX(.7); -o-transform: scaleX(.7); transform: scaleX(.7)}
.MJXp-scale8 {-webkit-transform: scaleX(.8); -moz-transform: scaleX(.8); -ms-transform: scaleX(.8); -o-transform: scaleX(.8); transform: scaleX(.8)}
.MJXp-scale9 {-webkit-transform: scaleX(.9); -moz-transform: scaleX(.9); -ms-transform: scaleX(.9); -o-transform: scaleX(.9); transform: scaleX(.9)}
.MathJax_PHTML .noError {vertical-align: ; font-size: 90%; text-align: left; color: black; padding: 1px 3px; border: 1px solid}
</style><style type="text/css">.MathJax_Display {text-align: center; margin: 0; position: relative; display: block!important; text-indent: 0; max-width: none; max-height: none; min-width: 0; min-height: 0; width: 100%}
.MathJax .merror {background-color: #FFFF88; color: #CC0000; border: 1px solid #CC0000; padding: 1px 3px; font-style: normal; font-size: 90%}
.MathJax .MJX-monospace {font-family: monospace}
.MathJax .MJX-sans-serif {font-family: sans-serif}
#MathJax_Tooltip {background-color: InfoBackground; color: InfoText; border: 1px solid black; box-shadow: 2px 2px 5px #AAAAAA; -webkit-box-shadow: 2px 2px 5px #AAAAAA; -moz-box-shadow: 2px 2px 5px #AAAAAA; -khtml-box-shadow: 2px 2px 5px #AAAAAA; filter: progid:DXImageTransform.Microsoft.dropshadow(OffX=2, OffY=2, Color='gray', Positive='true'); padding: 3px 4px; z-index: 401; position: absolute; left: 0; top: 0; width: auto; height: auto; display: none}
.MathJax {display: inline; font-style: normal; font-weight: normal; line-height: normal; font-size: 100%; font-size-adjust: none; text-indent: 0; text-align: left; text-transform: none; letter-spacing: normal; word-spacing: normal; word-wrap: normal; white-space: nowrap; float: none; direction: ltr; max-width: none; max-height: none; min-width: 0; min-height: 0; border: 0; padding: 0; margin: 0}
.MathJax:focus, body :focus .MathJax {display: inline-table}
.MathJax.MathJax_FullWidth {text-align: center; display: table-cell!important; width: 10000em!important}
.MathJax img, .MathJax nobr, .MathJax a {border: 0; padding: 0; margin: 0; max-width: none; max-height: none; min-width: 0; min-height: 0; vertical-align: 0; line-height: normal; text-decoration: none}
img.MathJax_strut {border: 0!important; padding: 0!important; margin: 0!important; vertical-align: 0!important}
.MathJax span {display: inline; position: static; border: 0; padding: 0; margin: 0; vertical-align: 0; line-height: normal; text-decoration: none; box-sizing: content-box}
.MathJax nobr {white-space: nowrap!important}
.MathJax img {display: inline!important; float: none!important}
.MathJax * {transition: none; -webkit-transition: none; -moz-transition: none; -ms-transition: none; -o-transition: none}
.MathJax_Processing {visibility: hidden; position: fixed; width: 0; height: 0; overflow: hidden}
.MathJax_Processed {display: none!important}
.MathJax_test {font-style: normal; font-weight: normal; font-size: 100%; font-size-adjust: none; text-indent: 0; text-transform: none; letter-spacing: normal; word-spacing: normal; overflow: hidden; height: 1px}
.MathJax_test.mjx-test-display {display: table!important}
.MathJax_test.mjx-test-inline {display: inline!important; margin-right: -1px}
.MathJax_test.mjx-test-default {display: block!important; clear: both}
.MathJax_ex_box {display: inline-block!important; position: absolute; overflow: hidden; min-height: 0; max-height: none; padding: 0; border: 0; margin: 0; width: 1px; height: 60ex}
.MathJax_em_box {display: inline-block!important; position: absolute; overflow: hidden; min-height: 0; max-height: none; padding: 0; border: 0; margin: 0; width: 1px; height: 60em}
.mjx-test-inline .MathJax_left_box {display: inline-block; width: 0; float: left}
.mjx-test-inline .MathJax_right_box {display: inline-block; width: 0; float: right}
.mjx-test-display .MathJax_right_box {display: table-cell!important; width: 10000em!important; min-width: 0; max-width: none; padding: 0; border: 0; margin: 0}
.MathJax .MathJax_HitBox {cursor: text; background: white; opacity: 0; filter: alpha(opacity=0)}
.MathJax .MathJax_HitBox * {filter: none; opacity: 1; background: transparent}
#MathJax_Tooltip * {filter: none; opacity: 1; background: transparent}
@font-face {font-family: MathJax_Main; src: url('https://colab.research.google.com/static/mathjax/fonts/HTML-CSS/TeX/woff/MathJax_Main-Regular.woff?V=2.7.5') format('woff'), url('https://colab.research.google.com/static/mathjax/fonts/HTML-CSS/TeX/otf/MathJax_Main-Regular.otf?V=2.7.5') format('opentype')}
@font-face {font-family: MathJax_Main-bold; src: url('https://colab.research.google.com/static/mathjax/fonts/HTML-CSS/TeX/woff/MathJax_Main-Bold.woff?V=2.7.5') format('woff'), url('https://colab.research.google.com/static/mathjax/fonts/HTML-CSS/TeX/otf/MathJax_Main-Bold.otf?V=2.7.5') format('opentype')}
@font-face {font-family: MathJax_Main-italic; src: url('https://colab.research.google.com/static/mathjax/fonts/HTML-CSS/TeX/woff/MathJax_Main-Italic.woff?V=2.7.5') format('woff'), url('https://colab.research.google.com/static/mathjax/fonts/HTML-CSS/TeX/otf/MathJax_Main-Italic.otf?V=2.7.5') format('opentype')}
@font-face {font-family: MathJax_Math-italic; src: url('https://colab.research.google.com/static/mathjax/fonts/HTML-CSS/TeX/woff/MathJax_Math-Italic.woff?V=2.7.5') format('woff'), url('https://colab.research.google.com/static/mathjax/fonts/HTML-CSS/TeX/otf/MathJax_Math-Italic.otf?V=2.7.5') format('opentype')}
@font-face {font-family: MathJax_Caligraphic; src: url('https://colab.research.google.com/static/mathjax/fonts/HTML-CSS/TeX/woff/MathJax_Caligraphic-Regular.woff?V=2.7.5') format('woff'), url('https://colab.research.google.com/static/mathjax/fonts/HTML-CSS/TeX/otf/MathJax_Caligraphic-Regular.otf?V=2.7.5') format('opentype')}
@font-face {font-family: MathJax_Size1; src: url('https://colab.research.google.com/static/mathjax/fonts/HTML-CSS/TeX/woff/MathJax_Size1-Regular.woff?V=2.7.5') format('woff'), url('https://colab.research.google.com/static/mathjax/fonts/HTML-CSS/TeX/otf/MathJax_Size1-Regular.otf?V=2.7.5') format('opentype')}
@font-face {font-family: MathJax_Size2; src: url('https://colab.research.google.com/static/mathjax/fonts/HTML-CSS/TeX/woff/MathJax_Size2-Regular.woff?V=2.7.5') format('woff'), url('https://colab.research.google.com/static/mathjax/fonts/HTML-CSS/TeX/otf/MathJax_Size2-Regular.otf?V=2.7.5') format('opentype')}
@font-face {font-family: MathJax_Size3; src: url('https://colab.research.google.com/static/mathjax/fonts/HTML-CSS/TeX/woff/MathJax_Size3-Regular.woff?V=2.7.5') format('woff'), url('https://colab.research.google.com/static/mathjax/fonts/HTML-CSS/TeX/otf/MathJax_Size3-Regular.otf?V=2.7.5') format('opentype')}
@font-face {font-family: MathJax_Size4; src: url('https://colab.research.google.com/static/mathjax/fonts/HTML-CSS/TeX/woff/MathJax_Size4-Regular.woff?V=2.7.5') format('woff'), url('https://colab.research.google.com/static/mathjax/fonts/HTML-CSS/TeX/otf/MathJax_Size4-Regular.otf?V=2.7.5') format('opentype')}
.MathJax .noError {vertical-align: ; font-size: 90%; text-align: left; color: black; padding: 1px 3px; border: 1px solid}
</style></head><body class=""><div style="visibility: hidden; overflow: hidden; position: absolute; top: 0px; height: 1px; width: auto; padding: 0px; border: 0px; margin: 0px; text-align: left; text-indent: 0px; text-transform: none; line-height: normal; letter-spacing: normal; word-spacing: normal;"><div id="MathJax_Hidden"></div></div><div id="MathJax_Message" style="display: none;"></div><div class="scripts"><script nonce="">window.performance.mark('external_scripts_start');</script><script src="./Airbnb_Paris__files/gapi_loader.js.download" nonce=""></script><script src="./Airbnb_Paris__files/socketio_binary.js.download" nonce=""></script><script src="./Airbnb_Paris__files/analytics_binary.js.download" nonce=""></script><script src="./Airbnb_Paris__files/MathJax.js.download" nonce=""></script><script src="./Airbnb_Paris__files/js_monaco_editor_vs_loader.js.download" nonce=""></script><script nonce="">window.performance.mark('external_scripts_end'); window.performance.measure('external_scripts', 'external_scripts_start', 'external_scripts_end'); window.performance.mark('colab_load_start');
          window.Polymer = {
            'legacyOptimizations': true,
          };
          </script><script src="./Airbnb_Paris__files/external_polymer_binary.js.download" nonce=""></script><script nonce="">
          window.performance.mark('colab_load_end');
          window.performance.measure('colab_load', 'colab_load_start', 'colab_load_end');
        </script></div><paper-toast text="" id="message-area" class="message-area" aria-hidden="true" style="outline: none; display: none;"><template shadowrootmode="open"><style scope="paper-toast">:host {
  display: block;
        position: fixed;
        background-color: var(--paper-toast-background-color, #323232);
        color: var(--paper-toast-color, #f1f1f1);
        min-height: 48px;
        min-width: 288px;
        padding: 16px 24px;
        box-sizing: border-box;
        box-shadow: 0 2px 5px 0 rgba(0, 0, 0, 0.26);
        border-radius: 2px;
        margin: 12px;
        font-size: 14px;
        cursor: default;
        -webkit-transition: -webkit-transform 0.3s, opacity 0.3s;
        transition: transform 0.3s, opacity 0.3s;
        opacity: 0;
        -webkit-transform: translateY(100px);
        transform: translateY(100px);
        font-family: var(--paper-font-common-base_-_font-family); -webkit-font-smoothing: var(--paper-font-common-base_-_-webkit-font-smoothing);
}

:host(.capsule) {
  border-radius: 24px;
}

:host(.fit-bottom) {
  width: 100%;
        min-width: 0;
        border-radius: 0;
        margin: 0;
}

:host(.paper-toast-open) {
  opacity: 1;
        -webkit-transform: translateY(0px);
        transform: translateY(0px);
}</style>
    

    <span id="label"></span>
    <slot></slot>
</template>
      <span class="paper-toast-extra"></span>
      <paper-icon-button class="close" icon="icons:close" aria-label="Close" role="button" tabindex="0" aria-disabled="false"><template shadowrootmode="open"><style scope="paper-icon-button">:host {
  display: inline-block;
        position: relative;
        padding: 8px;
        outline: none;
        -webkit-user-select: none;
        -moz-user-select: none;
        -ms-user-select: none;
        user-select: none;
        cursor: pointer;
        z-index: 0;
        line-height: 1;

        width: 40px;
        height: 40px;

        
        -webkit-tap-highlight-color: rgba(0, 0, 0, 0);
        -webkit-tap-highlight-color: transparent;

        
        box-sizing: border-box !important;

        ;
}

:host #ink {
  color: var(--paper-icon-button-ink-color, var(--primary-text-color));
        opacity: 0.6;
}

:host([disabled]) {
  color: var(--paper-icon-button-disabled-text, var(--disabled-text-color));
        pointer-events: none;
        cursor: auto;

        ;
}

:host([hidden]) {
  display: none !important;
}

:host(:hover) {
  ;
}

iron-icon {
  --iron-icon-width: 100%;
        --iron-icon-height: 100%;
}</style><iron-icon id="icon"><template shadowrootmode="open"><svg viewBox="0 0 24 24" preserveAspectRatio="xMidYMid meet" focusable="false" style="pointer-events: none; display: block; width: 100%; height: 100%;"><g><path d="M19 6.41L17.59 5 12 10.59 6.41 5 5 6.41 10.59 12 5 17.59 6.41 19 12 13.41 17.59 19 19 17.59 13.41 12z"></path></g></svg><style scope="iron-icon">:host {
  display: var(--layout-inline_-_display);
        -ms-flex-align: var(--layout-center-center_-_-ms-flex-align); -webkit-align-items: var(--layout-center-center_-_-webkit-align-items); align-items: var(--layout-center-center_-_align-items); -ms-flex-pack: var(--layout-center-center_-_-ms-flex-pack); -webkit-justify-content: var(--layout-center-center_-_-webkit-justify-content); justify-content: var(--layout-center-center_-_justify-content);
        position: relative;

        vertical-align: middle;

        fill: var(--iron-icon-fill-color, currentcolor);
        stroke: var(--iron-icon-stroke-color, none);

        width: var(--iron-icon-width, 24px);
        height: var(--iron-icon-height, 24px);
        ;
}

:host([hidden]) {
  display: none;
}</style>
    
</template></iron-icon></template>
      </paper-icon-button>
    </paper-toast><iron-a11y-announcer><template shadowrootmode="open"><style scope="iron-a11y-announcer">:host {
  display: inline-block;
        position: fixed;
        clip: rect(0px,0px,0px,0px);
}</style>
    
    <div aria-live="polite">Loading...</div>
</template></iron-a11y-announcer><paper-toast text="" id="message-area-secondary" class="message-area startup" style="outline: none; position: fixed; box-sizing: border-box; left: 0px; top: 738.111px; max-width: 288px; max-height: 48.8889px; display: none;" aria-hidden="true"><template shadowrootmode="open"><style scope="paper-toast">:host {
  display: block;
        position: fixed;
        background-color: var(--paper-toast-background-color, #323232);
        color: var(--paper-toast-color, #f1f1f1);
        min-height: 48px;
        min-width: 288px;
        padding: 16px 24px;
        box-sizing: border-box;
        box-shadow: 0 2px 5px 0 rgba(0, 0, 0, 0.26);
        border-radius: 2px;
        margin: 12px;
        font-size: 14px;
        cursor: default;
        -webkit-transition: -webkit-transform 0.3s, opacity 0.3s;
        transition: transform 0.3s, opacity 0.3s;
        opacity: 0;
        -webkit-transform: translateY(100px);
        transform: translateY(100px);
        font-family: var(--paper-font-common-base_-_font-family); -webkit-font-smoothing: var(--paper-font-common-base_-_-webkit-font-smoothing);
}

:host(.capsule) {
  border-radius: 24px;
}

:host(.fit-bottom) {
  width: 100%;
        min-width: 0;
        border-radius: 0;
        margin: 0;
}

:host(.paper-toast-open) {
  opacity: 1;
        -webkit-transform: translateY(0px);
        transform: translateY(0px);
}</style>
    

    <span id="label">Loading...</span>
    <slot></slot>
</template>
      <span class="paper-toast-extra"></span>
      <paper-icon-button class="close" icon="icons:close" aria-label="Close" role="button" tabindex="0" aria-disabled="false"><template shadowrootmode="open"><style scope="paper-icon-button">:host {
  display: inline-block;
        position: relative;
        padding: 8px;
        outline: none;
        -webkit-user-select: none;
        -moz-user-select: none;
        -ms-user-select: none;
        user-select: none;
        cursor: pointer;
        z-index: 0;
        line-height: 1;

        width: 40px;
        height: 40px;

        
        -webkit-tap-highlight-color: rgba(0, 0, 0, 0);
        -webkit-tap-highlight-color: transparent;

        
        box-sizing: border-box !important;

        ;
}

:host #ink {
  color: var(--paper-icon-button-ink-color, var(--primary-text-color));
        opacity: 0.6;
}

:host([disabled]) {
  color: var(--paper-icon-button-disabled-text, var(--disabled-text-color));
        pointer-events: none;
        cursor: auto;

        ;
}

:host([hidden]) {
  display: none !important;
}

:host(:hover) {
  ;
}

iron-icon {
  --iron-icon-width: 100%;
        --iron-icon-height: 100%;
}</style><iron-icon id="icon"><template shadowrootmode="open"><svg viewBox="0 0 24 24" preserveAspectRatio="xMidYMid meet" focusable="false" style="pointer-events: none; display: block; width: 100%; height: 100%;"><g><path d="M19 6.41L17.59 5 12 10.59 6.41 5 5 6.41 10.59 12 5 17.59 6.41 19 12 13.41 17.59 19 19 17.59 13.41 12z"></path></g></svg><style scope="iron-icon">:host {
  display: var(--layout-inline_-_display);
        -ms-flex-align: var(--layout-center-center_-_-ms-flex-align); -webkit-align-items: var(--layout-center-center_-_-webkit-align-items); align-items: var(--layout-center-center_-_align-items); -ms-flex-pack: var(--layout-center-center_-_-ms-flex-pack); -webkit-justify-content: var(--layout-center-center_-_-webkit-justify-content); justify-content: var(--layout-center-center_-_justify-content);
        position: relative;

        vertical-align: middle;

        fill: var(--iron-icon-fill-color, currentcolor);
        stroke: var(--iron-icon-stroke-color, none);

        width: var(--iron-icon-width, 24px);
        height: var(--iron-icon-height, 24px);
        ;
}

:host([hidden]) {
  display: none;
}</style>
    
</template></iron-icon></template>
      </paper-icon-button>
    </paper-toast><div ng-non-bindable=""></div><div class="gb_q" ng-non-bindable=""><div class="gb_Ec"><div>Google Account</div><div class="gb_Eb">Magdalena OlczakAlvarez</div><div>molczak4749@gmail.com</div></div></div><script nonce="">this.gbar_=this.gbar_||{};(function(_){var window=this;
try{
var Dd;_.Ad=function(a){var b=typeof a;return"object"==b&&null!=a||"function"==b};_.Bd=function(a,b){if(void 0!==a.i||void 0!==a.j)throw Error("v");a.j=b;_.Zc(a)};_.Cd=class extends _.Q{constructor(a){super(a)}};Dd=class extends _.md{};_.Ed=function(a,b){if(b in a.i)return a.i[b];throw new Dd;};_.Fd=function(a){return _.Ed(_.jd.i(),a)};
}catch(e){_._DumpException(e)}
try{
/*

 SPDX-License-Identifier: Apache-2.0
*/
var Jd,Sd,Ud;_.Gd=function(a){if(null==a)return a;if("string"===typeof a){if(!a)return;a=+a}if("number"===typeof a)return Number.isFinite(a)?a|0:void 0};_.Hd=function(a){const b=a.length;if(0<b){const c=Array(b);for(let d=0;d<b;d++)c[d]=a[d];return c}return[]};Jd=function(a){return new _.Id(b=>b.substr(0,a.length+1).toLowerCase()===a+":")};_.Ld=function(a){if(Kd.test(a))return a};_.Od=function(a){return a instanceof _.Md?_.Nd(a):_.Ld(a)};
_.Pd=function(a,b){var c=Array.prototype.slice.call(arguments,1);return function(){var d=c.slice();d.push.apply(d,arguments);return a.apply(this,d)}};_.Qd=function(a,b,c){return void 0!==_.fb(a,b,c,!1)};_.Rd=function(a,b){return _.Gd(_.nc(a,b))};_.R=function(a,b){a=_.nc(a,b);return null==a?a:Number.isFinite(a)?a|0:void 0};_.S=function(a,b,c=0){return _.gb(_.Rd(a,b),c)};Sd=0;_.Td=function(a){return Object.prototype.hasOwnProperty.call(a,_.vb)&&a[_.vb]||(a[_.vb]=++Sd)};Ud=function(a){return a};
_.Vd=function(a){var b=null,c=_.q.trustedTypes;if(!c||!c.createPolicy)return b;try{b=c.createPolicy(a,{createHTML:Ud,createScript:Ud,createScriptURL:Ud})}catch(d){_.q.console&&_.q.console.error(d.message)}return b};_.Wd=function(a,b){return 0==a.lastIndexOf(b,0)};_.Xd=function(a,b){return Array.prototype.some.call(a,b,void 0)};try{(new self.OffscreenCanvas(0,0)).getContext("2d")}catch(a){};var Yd;_.Zd=function(){void 0===Yd&&(Yd=_.Vd("ogb-qtm#html"));return Yd};var be;_.$d=class{constructor(a){this.i=a}toString(){return this.i+""}};_.ae=function(a){return a instanceof _.$d&&a.constructor===_.$d?a.i:"type_error:TrustedResourceUrl"};be={};_.ce=function(a){const b=_.Zd();a=b?b.createScriptURL(a):a;return new _.$d(a,be)};var de;_.Md=class{constructor(a){this.i=a}toString(){return this.i.toString()}};_.Nd=function(a){return a instanceof _.Md&&a.constructor===_.Md?a.i:"type_error:SafeUrl"};de={};_.ee=function(a){return new _.Md(a,de)};_.fe=_.ee("about:invalid#zClosurez");_.ge={};_.he=class{constructor(a){this.i=a}toString(){return this.i.toString()}};_.ie=new _.he("",_.ge);_.je=RegExp("^[-+,.\"'%_!#/ a-zA-Z0-9\\[\\]]+$");_.ke=RegExp("\\b(url\\([ \t\n]*)('[ -&(-\\[\\]-~]*'|\"[ !#-\\[\\]-~]*\"|[!#-&*-\\[\\]-~]*)([ \t\n]*\\))","g");_.le=RegExp("\\b(calc|cubic-bezier|fit-content|hsl|hsla|linear-gradient|matrix|minmax|radial-gradient|repeat|rgb|rgba|(rotate|scale|translate)(X|Y|Z|3d)?|steps|var)\\([-+*/0-9a-zA-Z.%#\\[\\], ]+\\)","g");var me;me={};_.oe=function(a){return a instanceof _.ne&&a.constructor===_.ne?a.i:"type_error:SafeHtml"};_.pe=function(a){const b=_.Zd();a=b?b.createHTML(a):a;return new _.ne(a,me)};_.ne=class{constructor(a){this.i=a}toString(){return this.i.toString()}};_.qe=new _.ne(_.q.trustedTypes&&_.q.trustedTypes.emptyHTML||"",me);_.re=_.pe("<br>");_.se=_.ee("about:invalid#zClosurez");var Kd;_.Id=class{constructor(a){this.jh=a}};_.te=[Jd("data"),Jd("http"),Jd("https"),Jd("mailto"),Jd("ftp"),new _.Id(a=>/^[^:]*([/?#]|$)/.test(a))];Kd=/^\s*(?!javascript:)(?:[a-z0-9+.-]+:|[^:\/?#]*(?:[\/?#]|$))/i;var ve;_.ue=function(a){let b=!1,c;return function(){b||(c=a(),b=!0);return c}}(function(){var a=document.createElement("div"),b=document.createElement("div");b.appendChild(document.createElement("div"));a.appendChild(b);b=a.firstChild.firstChild;a.innerHTML=_.oe(_.qe);return!b.parentElement});ve=/^[\w+/_-]+[=]{0,2}$/;
_.we=function(a){a=(a||_.q).document;return a.querySelector?(a=a.querySelector('style[nonce],link[rel="stylesheet"][nonce]'))&&(a=a.nonce||a.getAttribute("nonce"))&&ve.test(a)?a:"":""};_.xe=function(a,b){this.width=a;this.height=b};_.m=_.xe.prototype;_.m.aspectRatio=function(){return this.width/this.height};_.m.Jb=function(){return!(this.width*this.height)};_.m.ceil=function(){this.width=Math.ceil(this.width);this.height=Math.ceil(this.height);return this};_.m.floor=function(){this.width=Math.floor(this.width);this.height=Math.floor(this.height);return this};_.m.round=function(){this.width=Math.round(this.width);this.height=Math.round(this.height);return this};_.T=function(a,b){var c=b||document;if(c.getElementsByClassName)a=c.getElementsByClassName(a)[0];else{c=document;var d=b||c;a=d.querySelectorAll&&d.querySelector&&a?d.querySelector(a?"."+a:""):_.ye(c,a,b)[0]||null}return a||null};
_.ye=function(a,b,c){var d;a=c||a;if(a.querySelectorAll&&a.querySelector&&b)return a.querySelectorAll(b?"."+b:"");if(b&&a.getElementsByClassName){var e=a.getElementsByClassName(b);return e}e=a.getElementsByTagName("*");if(b){var f={};for(c=d=0;a=e[c];c++){var g=a.className;"function"==typeof g.split&&_.sa(g.split(/\s+/),b)&&(f[d++]=a)}f.length=d;return f}return e};_.Ae=function(a){return _.ze(document,a)};
_.ze=function(a,b){b=String(b);"application/xhtml+xml"===a.contentType&&(b=b.toLowerCase());return a.createElement(b)};_.Be=function(a){for(var b;b=a.firstChild;)a.removeChild(b)};_.Ce=function(a){return 9==a.nodeType?a:a.ownerDocument||a.document};
}catch(e){_._DumpException(e)}
try{
_.yj=function(a){var b;let c;const d=null==(c=(b=(a.ownerDocument&&a.ownerDocument.defaultView||window).document).querySelector)?void 0:c.call(b,"script[nonce]");(b=d?d.nonce||d.getAttribute("nonce")||"":"")&&a.setAttribute("nonce",b)};_.zj=function(a){if(!a)return null;a=_.G(a,4);var b;null===a||void 0===a?b=null:b=_.ce(a);return b};_.Aj=class extends _.Q{constructor(a){super(a)}};_.Bj=function(a,b){return(b||document).getElementsByTagName(String(a))};
}catch(e){_._DumpException(e)}
try{
var Dj=function(a,b,c){a<b?Cj(a+1,b):_.Dc.log(Error("W`"+a+"`"+b),{url:c})},Cj=function(a,b){if(Ej){const c=_.Ae("SCRIPT");c.async=!0;c.type="text/javascript";c.charset="UTF-8";c.src=_.ae(Ej);_.yj(c);c.onerror=_.Pd(Dj,a,b,c.src);_.Bj("HEAD")[0].appendChild(c)}},Fj=class extends _.Q{constructor(a){super(a)}};var Gj=_.E(_.dd,Fj,17)||new Fj,Hj,Ej=(Hj=_.E(Gj,_.Aj,1))?_.zj(Hj):null,Ij,Jj=(Ij=_.E(Gj,_.Aj,2))?_.zj(Ij):null,Kj=function(){Cj(1,2);if(Jj){const b=_.Ae("LINK");b.setAttribute("type","text/css");b.rel="stylesheet";b.href=_.ae(Jj).toString();var a=_.we(b.ownerDocument&&b.ownerDocument.defaultView);a&&b.setAttribute("nonce",a);(a=_.we())&&b.setAttribute("nonce",a);_.Bj("HEAD")[0].appendChild(b)}};(function(){const a=_.ed();if(_.C(a,18))Kj();else{const b=_.Rd(a,19)||0;window.addEventListener("load",()=>{window.setTimeout(Kj,b)})}})();
}catch(e){_._DumpException(e)}
})(this.gbar_);
// Google Inc.
</script><div class="notebook-vertical" style="position: relative;">
      <div class="top-floater"><div role="banner">
    <colab-header-skip-button><template shadowrootmode="open"><!----><a id="skiplink" class="skip-link" href="https://colab.research.google.com/github/Chr1ssie/the_data_dazzlers/blob/main/Copy_of_Project4.ipynb#top-toolbar"><!--?lit$0292179355$-->Skip to main content</a></template></colab-header-skip-button>
    <!--?lit$0292179355$-->
    <!--?lit$0292179355$-->
          <div id="private-outputs-warning" class="header-warning private-outputs-warning hidden">
            <!--?lit$0292179355$-->This notebook is open with private outputs. Outputs will not be saved. You can disable this in <a href="https://colab.research.google.com/github/Chr1ssie/the_data_dazzlers/blob/main/Copy_of_Project4.ipynb#" id="private-outputs-notebook-info-link" command="notebook-settings" aria-describedby="private-outputs-notebook-info-link-tooltip">Notebook settings</a><colab-tooltip-trigger aria-hidden="true" for="private-outputs-notebook-info-link" id="private-outputs-notebook-info-link-tooltip"><template shadowrootmode="open"><!----><!--?lit$0292179355$--><!----><div><!--?lit$0292179355$-->Open notebook settings</div><!----><!--?--></template>
        </colab-tooltip-trigger>.
          <mwc-icon-button class="close" icon="close" title="Close"><template shadowrootmode="open"><!----><button class="mdc-icon-button mdc-icon-button--display-flex" aria-label="Close"><!--?lit$0292179355$-->
    <!--?lit$0292179355$--><i class="material-icons"><!--?lit$0292179355$-->close</i>
    <span><slot></slot></span>
  </button></template></mwc-icon-button></div>
        

    <div id="header" class="horizontal layout">
      <div id="header-background"><div></div></div>
      <div id="header-content">
        <!--?lit$0292179355$-->
        <!--?lit$0292179355$--><div id="header-logo">
              <!--?lit$0292179355$--> <!--?lit$0292179355$--><a href="https://drive.google.com/drive/search?q=owner%3Ame%20(type%3Aapplication%2Fvnd.google.colaboratory%20%7C%7C%20type%3Aapplication%2Fvnd.google.colab)&amp;authuser=0" aria-label="View in Google Drive">
        <!--?lit$0292179355$--><md-icon class="colab-large-icon" aria-hidden="true"><template shadowrootmode="open"><!----><slot></slot></template><!--?lit$0292179355$--><svg viewBox="0 0 24 24"><!--?lit$0292179355$-->
      <g id="colab-logo">
        <path d="M4.54,9.46,2.19,7.1a6.93,6.93,0,0,0,0,9.79l2.36-2.36A3.59,3.59,0,0,1,4.54,9.46Z" style="fill:var(--colab-logo-dark)"></path>
        <path d="M2.19,7.1,4.54,9.46a3.59,3.59,0,0,1,5.08,0l1.71-2.93h0l-.1-.08h0A6.93,6.93,0,0,0,2.19,7.1Z" style="fill:var(--colab-logo-light)"></path>
        <path d="M11.34,17.46h0L9.62,14.54a3.59,3.59,0,0,1-5.08,0L2.19,16.9a6.93,6.93,0,0,0,9,.65l.11-.09" style="fill:var(--colab-logo-light)"></path>
        <path d="M12,7.1a6.93,6.93,0,0,0,0,9.79l2.36-2.36a3.59,3.59,0,1,1,5.08-5.08L21.81,7.1A6.93,6.93,0,0,0,12,7.1Z" style="fill:var(--colab-logo-light)"></path>
        <path d="M21.81,7.1,19.46,9.46a3.59,3.59,0,0,1-5.08,5.08L12,16.9A6.93,6.93,0,0,0,21.81,7.1Z" style="fill:var(--colab-logo-dark)"></path>
      </g></svg></md-icon>
      </a><!--?-->
            </div>
        <div id="header-doc-toolbar" class="flex">
          <div id="document-info">
            <!--?lit$0292179355$--> <!--?lit$0292179355$--><md-icon class="file-location-icon" id="file-type" aria-hidden="true" title="Notebook stored in GitHub"><template shadowrootmode="open"><!----><slot></slot></template><!--?lit$0292179355$--><svg viewBox="0 0 24 24"><!--?lit$0292179355$-->
    <path d="M12,0.299c-6.625,0-11.997,5.371-11.997,11.998c0,5.3,3.437,9.797,8.205,11.383c0.6,0.11,0.819-0.26,0.819-0.578c0-0.285-0.01-1.039-0.016-2.04c-3.337,0.725-4.041-1.609-4.041-1.609c-0.546-1.386-1.332-1.755-1.332-1.755c-1.089-0.745,0.082-0.729,0.082-0.729c1.204,0.085,1.838,1.237,1.838,1.237c1.07,1.833,2.808,1.304,3.492,0.997c0.109-0.776,0.419-1.304,0.762-1.604c-2.664-0.303-5.465-1.332-5.465-5.93c0-1.309,0.468-2.38,1.235-3.219C5.458,8.147,5.046,6.927,5.699,5.275c0,0,1.008-0.323,3.299,1.23c0.957-0.266,1.983-0.399,3.003-0.404c1.019,0.004,2.045,0.138,3.003,0.404c2.291-1.553,3.296-1.23,3.296-1.23c0.655,1.652,0.243,2.872,0.119,3.175c0.769,0.839,1.233,1.91,1.233,3.219c0,4.609-2.805,5.623-5.478,5.92c0.431,0.37,0.815,1.103,0.815,2.222c0,1.604-0.015,2.898-0.015,3.291c0,0.321,0.216,0.694,0.825,0.577c4.763-1.589,8.197-6.083,8.197-11.382C23.998,5.67,18.626,0.299,12,0.299z"></path></svg></md-icon>
    <input id="doc-name" class="doc-name" maxlength="259" autocomplete="off" aria-label="Notebook name" disabled="" style="width: 201.736px;" fdprocessedid="6yp4y"><colab-input-sizer aria-hidden="true" style="left: -1000%; position: absolute; font-family: &quot;Google Sans&quot;, Roboto, Noto, sans-serif; font-size: 18px; font-weight: 400; letter-spacing: normal; padding-left: 3px; padding-right: 4px; white-space: pre;">Copy_of_Project4.ipynb_</colab-input-sizer>
            <!--?lit$0292179355$-->
          </div>
        <div class="menubar-wrapper"><div><!----><div id="top-menubar" class="goog-menubar format-lightborder" role="menubar" tabindex="0" style="user-select: none;"><!--?lit$0292179355$--><div class="goog-menu-button goog-inline-block" id="file-menu-button" role="button" aria-expanded="false" aria-haspopup="true" style="user-select: none;"><div class="goog-inline-block goog-menu-button-outer-box" style="user-select: none;"><div class="goog-inline-block goog-menu-button-inner-box" style="user-select: none;"><div class="goog-inline-block goog-menu-button-caption" style="user-select: none;"><!--?lit$0292179355$-->File</div><div class="goog-inline-block goog-menu-button-dropdown" style="user-select: none;">&nbsp;</div></div></div></div><div class="goog-menu-button goog-inline-block" id="edit-menu-button" role="button" aria-expanded="false" aria-haspopup="true" style="user-select: none;"><div class="goog-inline-block goog-menu-button-outer-box" style="user-select: none;"><div class="goog-inline-block goog-menu-button-inner-box" style="user-select: none;"><div class="goog-inline-block goog-menu-button-caption" style="user-select: none;"><!--?lit$0292179355$-->Edit</div><div class="goog-inline-block goog-menu-button-dropdown" style="user-select: none;">&nbsp;</div></div></div></div><div class="goog-menu-button goog-inline-block" id="view-menu-button" role="button" aria-expanded="false" aria-haspopup="true" style="user-select: none;"><div class="goog-inline-block goog-menu-button-outer-box" style="user-select: none;"><div class="goog-inline-block goog-menu-button-inner-box" style="user-select: none;"><div class="goog-inline-block goog-menu-button-caption" style="user-select: none;"><!--?lit$0292179355$-->View</div><div class="goog-inline-block goog-menu-button-dropdown" style="user-select: none;">&nbsp;</div></div></div></div><div class="goog-menu-button goog-inline-block" id="insert-menu-button" role="button" aria-expanded="false" aria-haspopup="true" style="user-select: none;"><div class="goog-inline-block goog-menu-button-outer-box" style="user-select: none;"><div class="goog-inline-block goog-menu-button-inner-box" style="user-select: none;"><div class="goog-inline-block goog-menu-button-caption" style="user-select: none;"><!--?lit$0292179355$-->Insert</div><div class="goog-inline-block goog-menu-button-dropdown" style="user-select: none;">&nbsp;</div></div></div></div><div class="goog-menu-button goog-inline-block" id="runtime-menu-button" role="button" aria-expanded="false" aria-haspopup="true" style="user-select: none;"><div class="goog-inline-block goog-menu-button-outer-box" style="user-select: none;"><div class="goog-inline-block goog-menu-button-inner-box" style="user-select: none;"><div class="goog-inline-block goog-menu-button-caption" style="user-select: none;"><!--?lit$0292179355$-->Runtime</div><div class="goog-inline-block goog-menu-button-dropdown" style="user-select: none;">&nbsp;</div></div></div></div><div class="goog-menu-button goog-inline-block" id="tools-menu-button" role="button" aria-expanded="false" aria-haspopup="true" style="user-select: none;"><div class="goog-inline-block goog-menu-button-outer-box" style="user-select: none;"><div class="goog-inline-block goog-menu-button-inner-box" style="user-select: none;"><div class="goog-inline-block goog-menu-button-caption" style="user-select: none;"><!--?lit$0292179355$-->Tools</div><div class="goog-inline-block goog-menu-button-dropdown" style="user-select: none;">&nbsp;</div></div></div></div><div class="goog-menu-button goog-inline-block" id="help-menu-button" role="button" aria-expanded="false" aria-haspopup="true" style="user-select: none;"><div class="goog-inline-block goog-menu-button-outer-box" style="user-select: none;"><div class="goog-inline-block goog-menu-button-inner-box" style="user-select: none;"><div class="goog-inline-block goog-menu-button-caption" style="user-select: none;"><!--?lit$0292179355$-->Help</div><div class="goog-inline-block goog-menu-button-dropdown" style="user-select: none;">&nbsp;</div></div></div></div></div>
    <div id="colab-menu-cover" style="left: 65px; top: 61px; width: 34px; display: none;"> </div></div><!----><colab-last-saved-indicator aria-live="polite" aria-atomic="true"><template shadowrootmode="open"><!----><!--?--></template></colab-last-saved-indicator></div></div>
        <div id="header-right">
          <!--?lit$0292179355$-->
    <colab-collaborator-bar id="collaborator-bar"><template shadowrootmode="open"><!----> <div class="collaborator-bar">
      <!--?lit$0292179355$-->
      <!--?lit$0292179355$-->
    </div></template></colab-collaborator-bar>
  
          <!--?lit$0292179355$-->
          <!--?lit$0292179355$--> <md-text-button id="share-toolbar-button" command="share" role="presentation" aria-describedby="share-toolbar-button-tooltip" value="" has-icon=""><template shadowrootmode="open" shadowrootdelegatesfocus><!---->
      <!--?lit$0292179355$-->
      <div class="background"></div>
      <md-focus-ring part="focus-ring" for="button" aria-hidden="true"><template shadowrootmode="open"><!----></template></md-focus-ring>
      <md-ripple for="button" aria-hidden="true"><template shadowrootmode="open"><!----><div class="surface   "></div></template></md-ripple>
      <!--?lit$0292179355$--><button id="button" class="button">
      <!--?lit$0292179355$-->
      <span class="touch"></span>
      <!--?lit$0292179355$--><slot name="icon"></slot>
      <span class="label"><slot></slot></span>
      <!--?lit$0292179355$-->
    
    </button>
    </template>
                <md-icon slot="icon" aria-hidden="true"><template shadowrootmode="open"><!----><slot></slot></template><!--?lit$0292179355$-->link</md-icon>
                <!--?lit$0292179355$-->Share
              </md-text-button><colab-tooltip-trigger aria-hidden="true" for="share-toolbar-button" id="share-toolbar-button-tooltip"><template shadowrootmode="open"><!----><!--?lit$0292179355$--><!----><div><!--?lit$0292179355$-->Share notebook</div><!----><!--?--></template>
        </colab-tooltip-trigger>
          <!--?lit$0292179355$--> <md-icon-button id="settings-cog" command="preferences" title="Open settings" aria-label="Open settings" role="presentation" value=""><template shadowrootmode="open" shadowrootdelegatesfocus><!----><button id="button" class="icon-button  standard " aria-label="Open settings">
        <!--?lit$0292179355$--><md-focus-ring part="focus-ring" for="button" aria-hidden="true"><template shadowrootmode="open"><!----></template></md-focus-ring>
        <!--?lit$0292179355$--><md-ripple aria-hidden="true"><template shadowrootmode="open"><!----><div class="surface   "></div></template></md-ripple>
        <!--?lit$0292179355$--><span class="icon"><slot></slot></span>
        <!--?lit$0292179355$-->
        <!--?lit$0292179355$--><span class="touch"></span>
        <!--?lit$0292179355$-->
  </button></template>
                <md-icon aria-hidden="true"><template shadowrootmode="open"><!----><slot></slot></template>settings</md-icon>
              </md-icon-button>
          <div class="header-onegoogle-container"><div class="onegoogle"><div class="gb_Pa gb_ld gb_gb gb_0c" id="gb"><div class="gb_Bd gb_eb gb_qd" ng-non-bindable="" data-ogsr-up="" style="padding:0;height:auto;display:block"><div class="gb_Ud" style="display:block"><div class="gb_6c"></div><div class="gb_b gb_w gb_3f gb_J"><div class="gb_f gb_db gb_3f gb_J"><a class="gb_d gb_Fa gb_J" aria-label="Google Account: Magdalena OlczakAlvarez  
(molczak4749@gmail.com)" href="https://accounts.google.com/SignOutOptions?hl=en&amp;continue=https://colab.research.google.com/github/Chr1ssie/the_data_dazzlers/blob/main/Copy_of_Project4.ipynb&amp;ec=GBRAqQM" tabindex="0" role="button"><img class="gb_n gbii" src="./Airbnb_Paris__files/unnamed.png" srcset="https://lh3.google.com/u/0/ogw/AF2bZyiMYqm_odRJryTOZH4uODs6uXXnoyOqEUL4iP2Y=s32-c-mo 1x, https://lh3.google.com/u/0/ogw/AF2bZyiMYqm_odRJryTOZH4uODs6uXXnoyOqEUL4iP2Y=s64-c-mo 2x " alt="" aria-hidden="true" data-noaft=""></a></div></div></div><div style="overflow: hidden; position: absolute; top: 0px; visibility: hidden; width: 436px; z-index: 991; height: 0px; margin-top: 57px; right: 0px; margin-right: 4px;"></div></div></div><script nonce="">this.gbar_=this.gbar_||{};(function(_){var window=this;
try{
_.wd=function(a,b,c){if(!a.j)if(c instanceof Array)for(var d of c)_.wd(a,b,d);else{d=(0,_.y)(a.B,a,b);const e=a.v+c;a.v++;b.dataset.eqid=e;a.C[e]=d;b&&b.addEventListener?b.addEventListener(c,d,!1):b&&b.attachEvent?b.attachEvent("on"+c,d):a.o.log(Error("s`"+b))}};
}catch(e){_._DumpException(e)}
try{
_.xd=function(){if(!_.q.addEventListener||!Object.defineProperty)return!1;var a=!1,b=Object.defineProperty({},"passive",{get:function(){a=!0}});try{const c=()=>{};_.q.addEventListener("test",c,b);_.q.removeEventListener("test",c,b)}catch(c){}return a}();
}catch(e){_._DumpException(e)}
try{
var yd=document.querySelector(".gb_k .gb_d"),zd=document.querySelector("#gb.gb_Wc");yd&&!zd&&_.wd(_.id,yd,"click");
}catch(e){_._DumpException(e)}
try{
_.Gh=function(a){const b=[];let c=0;for(const d in a)b[c++]=a[d];return b};_.Hh=function(a){if(a.o)return a.o;for(const b in a.i)if(a.i[b].ua()&&a.i[b].C())return a.i[b];return null};_.Ih=function(a,b){a.i[b.K()]=b};var Jh=new class extends _.Bc{constructor(){var a=_.Dc;super();this.C=a;this.o=null;this.j={};this.B={};this.i={};this.v=null}A(a){this.i[a]&&(_.Hh(this)&&_.Hh(this).K()==a||this.i[a].O(!0))}Za(a){this.v=a;for(const b in this.i)this.i[b].ua()&&this.i[b].Za(a)}wc(a){return a in this.i?this.i[a]:null}};_.ld("dd",Jh);
}catch(e){_._DumpException(e)}
try{
_.sj=function(a,b){return _.K(a,36,b)};
}catch(e){_._DumpException(e)}
try{
var tj=document.querySelector(".gb_b .gb_d"),uj=document.querySelector("#gb.gb_Wc");tj&&!uj&&_.wd(_.id,tj,"click");
}catch(e){_._DumpException(e)}
})(this.gbar_);
// Google Inc.
</script></div></div>
        </div>
      </div>
    </div>
  </div></div><div class="notebook-horizontal">
        <!--?lit$0292179355$--><colab-left-pane role="complementary" aria-label="left pane"><!----><div class="colab-left-pane-nib layout vertical" role="toolbar" aria-orientation="vertical">
        <div class="left-pane-top"><!----><div class="left-pane-button">
        <!--?lit$0292179355$--><md-icon-button toggle="" command="show-toc-pane" aria-label="Table of contents" title="Table of contents" role="presentation" value=""><template shadowrootmode="open" shadowrootdelegatesfocus><!----><button id="button" class="icon-button  standard " aria-label="Table of contents" aria-pressed="false">
        <!--?lit$0292179355$--><md-focus-ring part="focus-ring" for="button" aria-hidden="true"><template shadowrootmode="open"><!----></template></md-focus-ring>
        <!--?lit$0292179355$--><md-ripple aria-hidden="true"><template shadowrootmode="open"><!----><div class="surface   "></div></template></md-ripple>
        <!--?lit$0292179355$--><span class="icon"><slot></slot></span>
        <!--?lit$0292179355$-->
        <!--?lit$0292179355$--><span class="touch"></span>
        <!--?lit$0292179355$-->
  </button></template>
          <md-icon aria-hidden="true"><template shadowrootmode="open"><!----><slot></slot></template><!--?lit$0292179355$-->format_list_bulleted</md-icon>
        </md-icon-button> <!--?lit$0292179355$-->
      </div><!----><div class="left-pane-button">
        <!--?lit$0292179355$--><md-icon-button toggle="" command="find" aria-label="Find and replace" title="Find and replace" role="presentation" value=""><template shadowrootmode="open" shadowrootdelegatesfocus><!----><button id="button" class="icon-button  standard " aria-label="Find and replace" aria-pressed="false">
        <!--?lit$0292179355$--><md-focus-ring part="focus-ring" for="button" aria-hidden="true"><template shadowrootmode="open"><!----></template></md-focus-ring>
        <!--?lit$0292179355$--><md-ripple aria-hidden="true"><template shadowrootmode="open"><!----><div class="surface   "></div></template></md-ripple>
        <!--?lit$0292179355$--><span class="icon"><slot></slot></span>
        <!--?lit$0292179355$-->
        <!--?lit$0292179355$--><span class="touch"></span>
        <!--?lit$0292179355$-->
  </button></template>
          <md-icon aria-hidden="true"><template shadowrootmode="open"><!----><slot></slot></template><!--?lit$0292179355$-->search</md-icon>
        </md-icon-button> <!--?lit$0292179355$-->
      </div><!----><div class="left-pane-button">
        <!--?lit$0292179355$--><md-icon-button toggle="" command="show-variables" aria-label="Variables" title="Variables" role="presentation" value=""><template shadowrootmode="open" shadowrootdelegatesfocus><!----><button id="button" class="icon-button  standard " aria-label="Variables" aria-pressed="false">
        <!--?lit$0292179355$--><md-focus-ring part="focus-ring" for="button" aria-hidden="true"><template shadowrootmode="open"><!----></template></md-focus-ring>
        <!--?lit$0292179355$--><md-ripple aria-hidden="true"><template shadowrootmode="open"><!----><div class="surface   "></div></template></md-ripple>
        <!--?lit$0292179355$--><span class="icon"><slot></slot></span>
        <!--?lit$0292179355$-->
        <!--?lit$0292179355$--><span class="touch"></span>
        <!--?lit$0292179355$-->
  </button></template>
          <md-icon aria-hidden="true"><template shadowrootmode="open"><!----><slot></slot></template><!--?lit$0292179355$--><svg viewBox="0 0 24 24"><!--?lit$0292179355$-->
      <path d="M4.51,9.44V6.08c0-1.34.37-1.85,1.6-2.17l.22-.06V3.13l-.27,0-.44,0a4.46,4.46,0,0,0-2.2.59,2.78,2.78,0,0,0-1,2.51V9.74c0,1.26-.26,1.61-1.49,2L0,12l.94.29c1.21.38,1.49.75,1.49,2v3.5a2.94,2.94,0,0,0,1,2.6,4.39,4.39,0,0,0,2.14.56l.46,0,.27,0v-.72l-.22-.06c-1.24-.32-1.6-.81-1.6-2.17V14.58c0-1.43-.3-2.13-1.25-2.57C4.2,11.57,4.51,10.87,4.51,9.44Z"></path>
      <path d="M23.06,11.71c-1.22-.36-1.49-.71-1.49-2l0-3.5a3,3,0,0,0-1-2.6,4.38,4.38,0,0,0-2.14-.56l-.46,0-.27,0v.72l.22.06c1.24.32,1.6.81,1.6,2.17V9.44c0,1.44.3,2.13,1.25,2.57-1,.44-1.25,1.14-1.25,2.57v3.36c0,1.34-.37,1.85-1.6,2.17l-.22.06v.72l.27,0,.44,0a4.47,4.47,0,0,0,2.2-.59,2.82,2.82,0,0,0,1-2.51V14.28c0-1.26.26-1.61,1.49-2L24,12Z"></path>
      <path d="M15.16,8.22a.88.88,0,0,1,.46.16,1.25,1.25,0,0,0,.69.2h0A1,1,0,0,0,17,8.23a1.06,1.06,0,0,0,.24-.8,1.1,1.1,0,0,0-1.15-1h0c-1,0-1.73.64-3,2.57l-.12-.51c-.28-1.36-.56-2-1.39-2h0A8,8,0,0,0,9,7.08l-.47.16.16.91L9.41,8a3.22,3.22,0,0,1,.73-.14c.34,0,.43,0,.71,1.2l.56,2.47L9.76,13.82a3.6,3.6,0,0,1-.8.88.9.9,0,0,1-.38-.13,1.83,1.83,0,0,0-.88-.28,1,1,0,0,0-1,1.06A1.15,1.15,0,0,0,8,16.53c.85,0,1.35-.35,2.24-1.55l1.49-2,.46,1.88c.23,1,.46,1.66,1.53,1.66s1.66-.75,2.81-2.53l.17-.26-.81-.48-.16.2-.25.34-.19.25c-.45.57-.62.73-.76.73s-.28-.4-.34-.63l-.67-2.83a4.2,4.2,0,0,1-.15-.79C13.84,9.78,14.74,8.22,15.16,8.22Z"></path></svg></md-icon>
        </md-icon-button> <!--?lit$0292179355$-->
      </div><!----><div class="left-pane-button">
        <!--?lit$0292179355$--><md-icon-button toggle="" command="open-user-secrets" aria-label="Secrets" title="Secrets" role="presentation" value=""><template shadowrootmode="open" shadowrootdelegatesfocus><!----><button id="button" class="icon-button  standard " aria-label="Secrets" aria-pressed="false">
        <!--?lit$0292179355$--><md-focus-ring part="focus-ring" for="button" aria-hidden="true"><template shadowrootmode="open"><!----></template></md-focus-ring>
        <!--?lit$0292179355$--><md-ripple aria-hidden="true"><template shadowrootmode="open"><!----><div class="surface   "></div></template></md-ripple>
        <!--?lit$0292179355$--><span class="icon"><slot></slot></span>
        <!--?lit$0292179355$-->
        <!--?lit$0292179355$--><span class="touch"></span>
        <!--?lit$0292179355$-->
  </button></template>
          <md-icon aria-hidden="true"><template shadowrootmode="open"><!----><slot></slot></template><!--?lit$0292179355$-->vpn_key</md-icon>
        </md-icon-button> <!--?lit$0292179355$-->
      </div><!----><div class="left-pane-button">
        <!--?lit$0292179355$--><md-icon-button toggle="" command="show-files" aria-label="Files" title="Files" role="presentation" value=""><template shadowrootmode="open" shadowrootdelegatesfocus><!----><button id="button" class="icon-button  standard " aria-label="Files" aria-pressed="false">
        <!--?lit$0292179355$--><md-focus-ring part="focus-ring" for="button" aria-hidden="true"><template shadowrootmode="open"><!----></template></md-focus-ring>
        <!--?lit$0292179355$--><md-ripple aria-hidden="true"><template shadowrootmode="open"><!----><div class="surface   "></div></template></md-ripple>
        <!--?lit$0292179355$--><span class="icon"><slot></slot></span>
        <!--?lit$0292179355$-->
        <!--?lit$0292179355$--><span class="touch"></span>
        <!--?lit$0292179355$-->
  </button></template>
          <md-icon aria-hidden="true"><template shadowrootmode="open"><!----><slot></slot></template><!--?lit$0292179355$-->folder</md-icon>
        </md-icon-button> <!--?lit$0292179355$-->
      </div></div>
        <div class="left-pane-bottom"><!----><div class="left-pane-button">
        <!--?lit$0292179355$--><md-icon-button command="snippets" aria-label="Code snippets" title="Code snippets" role="presentation" value=""><template shadowrootmode="open" shadowrootdelegatesfocus><!----><button id="button" class="icon-button  standard " aria-label="Code snippets">
        <!--?lit$0292179355$--><md-focus-ring part="focus-ring" for="button" aria-hidden="true"><template shadowrootmode="open"><!----></template></md-focus-ring>
        <!--?lit$0292179355$--><md-ripple aria-hidden="true"><template shadowrootmode="open"><!----><div class="surface   "></div></template></md-ripple>
        <!--?lit$0292179355$--><span class="icon"><slot></slot></span>
        <!--?lit$0292179355$-->
        <!--?lit$0292179355$--><span class="touch"></span>
        <!--?lit$0292179355$-->
  </button></template>
          <md-icon aria-hidden="true"><template shadowrootmode="open"><!----><slot></slot></template><!--?lit$0292179355$-->code</md-icon>
        </md-icon-button> <!--?lit$0292179355$-->
      </div><!----><div class="left-pane-button">
        <!--?lit$0292179355$--><md-icon-button command="show-command-palette" aria-label="Command palette" title="Command palette" role="presentation" value=""><template shadowrootmode="open" shadowrootdelegatesfocus><!----><button id="button" class="icon-button  standard " aria-label="Command palette">
        <!--?lit$0292179355$--><md-focus-ring part="focus-ring" for="button" aria-hidden="true"><template shadowrootmode="open"><!----></template></md-focus-ring>
        <!--?lit$0292179355$--><md-ripple aria-hidden="true"><template shadowrootmode="open"><!----><div class="surface   "></div></template></md-ripple>
        <!--?lit$0292179355$--><span class="icon"><slot></slot></span>
        <!--?lit$0292179355$-->
        <!--?lit$0292179355$--><span class="touch"></span>
        <!--?lit$0292179355$-->
  </button></template>
          <md-icon aria-hidden="true"><template shadowrootmode="open"><!----><slot></slot></template><!--?lit$0292179355$--><svg viewBox="0 0 24 24"><!--?lit$0292179355$-->
      <path d="M21,3H3A2,2,0,0,0,1,5V17a2,2,0,0,0,2,2H21a2,2,0,0,0,2-2V5A2,2,0,0,0,21,3Zm0,2V17H3V5"></path>
      <rect x="5" y="12" width="11" height="2"></rect>
      <rect x="5" y="8" width="11" height="2"></rect>
      <rect x="17" y="8" width="2" height="2"></rect>
      <rect x="17" y="12" width="2" height="2"></rect></svg></md-icon>
        </md-icon-button> <!--?lit$0292179355$-->
      </div><!----><div class="left-pane-button">
        <!--?lit$0292179355$--><md-icon-button command="show-terminal" aria-label="Terminal" title="Terminal" role="presentation" value=""><template shadowrootmode="open" shadowrootdelegatesfocus><!----><button id="button" class="icon-button  standard " aria-label="Terminal">
        <!--?lit$0292179355$--><md-focus-ring part="focus-ring" for="button" aria-hidden="true"><template shadowrootmode="open"><!----></template></md-focus-ring>
        <!--?lit$0292179355$--><md-ripple aria-hidden="true"><template shadowrootmode="open"><!----><div class="surface   "></div></template></md-ripple>
        <!--?lit$0292179355$--><span class="icon"><slot></slot></span>
        <!--?lit$0292179355$-->
        <!--?lit$0292179355$--><span class="touch"></span>
        <!--?lit$0292179355$-->
  </button></template>
          <md-icon aria-hidden="true"><template shadowrootmode="open"><!----><slot></slot></template><!--?lit$0292179355$-->terminal</md-icon>
        </md-icon-button> <!--?lit$0292179355$-->
      </div></div>
      </div></colab-left-pane>
        <div class="layout vertical grow">
          <colab-notebook-toolbar id="top-toolbar" class="horizontal layout center noshrink"><!----> <!--?lit$0292179355$-->
          <colab-toolbar-button command="insert-cell-below" icon="add" id="toolbar-add-code"><template shadowrootmode="open"><!----><md-text-button id="button" aria-disabled="false" role="presentation" value="" has-icon=""><template shadowrootmode="open" shadowrootdelegatesfocus><!---->
      <!--?lit$0292179355$-->
      <div class="background"></div>
      <md-focus-ring part="focus-ring" for="button" aria-hidden="true"><template shadowrootmode="open"><!----></template></md-focus-ring>
      <md-ripple for="button" aria-hidden="true"><template shadowrootmode="open"><!----><div class="surface"></div></template></md-ripple>
      <!--?lit$0292179355$--><button id="button" class="button">
      <!--?lit$0292179355$-->
      <span class="touch"></span>
      <!--?lit$0292179355$--><slot name="icon"></slot>
      <span class="label"><slot></slot></span>
      <!--?lit$0292179355$-->
    
    </button>
    </template>
        <!--?lit$0292179355$--><md-icon slot="icon" aria-hidden="true"><template shadowrootmode="open"><!----><slot></slot></template><!--?lit$0292179355$-->add</md-icon>
        <span class="button-content"><slot></slot></span>
        <!--?lit$0292179355$--><span class="screenreader-only"><!--?lit$0292179355$-->Insert code cell below <!--?lit$0292179355$-->Ctrl+M B</span>
      </md-text-button>
      <!--?lit$0292179355$--> <colab-tooltip-trigger for="button" aria-hidden="true" id="tooltip" message="Insert code cell below" shortcut="Ctrl+M B"><template shadowrootmode="open"><!----><!--?lit$0292179355$--><!----><div><!--?lit$0292179355$-->Insert code cell below</div><!----><!--?--></template>
          </colab-tooltip-trigger><!--?--></template>
            <!--?lit$0292179355$-->Code
          </colab-toolbar-button>
          <colab-toolbar-button command="add-text" icon="add" id="toolbar-add-text"><template shadowrootmode="open"><!----><md-text-button id="button" aria-disabled="false" role="presentation" value="" has-icon=""><template shadowrootmode="open" shadowrootdelegatesfocus><!---->
      <!--?lit$0292179355$-->
      <div class="background"></div>
      <md-focus-ring part="focus-ring" for="button" aria-hidden="true"><template shadowrootmode="open"><!----></template></md-focus-ring>
      <md-ripple for="button" aria-hidden="true"><template shadowrootmode="open"><!----><div class="surface"></div></template></md-ripple>
      <!--?lit$0292179355$--><button id="button" class="button">
      <!--?lit$0292179355$-->
      <span class="touch"></span>
      <!--?lit$0292179355$--><slot name="icon"></slot>
      <span class="label"><slot></slot></span>
      <!--?lit$0292179355$-->
    
    </button>
    </template>
        <!--?lit$0292179355$--><md-icon slot="icon" aria-hidden="true"><template shadowrootmode="open"><!----><slot></slot></template><!--?lit$0292179355$-->add</md-icon>
        <span class="button-content"><slot></slot></span>
        <!--?lit$0292179355$--><span class="screenreader-only"><!--?lit$0292179355$-->Add text cell <!--?lit$0292179355$--></span>
      </md-text-button>
      <!--?lit$0292179355$--> <colab-tooltip-trigger for="button" aria-hidden="true" id="tooltip" message="Add text cell" shortcut=""><template shadowrootmode="open"><!----><!--?lit$0292179355$--><!----><div><!--?lit$0292179355$-->Add text cell</div><!----><!--?--></template>
          </colab-tooltip-trigger><!--?--></template>
            <!--?lit$0292179355$-->Text
          </colab-toolbar-button>
          <!--?lit$0292179355$-->
        
    <!--?lit$0292179355$-->
    <!--?lit$0292179355$--> <span class="expanded-options">
          <span class="colab-separator"></span>
          <colab-toolbar-button command="clone"><template shadowrootmode="open"><!----><md-text-button id="button" aria-disabled="false" role="presentation" value=""><template shadowrootmode="open" shadowrootdelegatesfocus><!---->
      <!--?lit$0292179355$-->
      <div class="background"></div>
      <md-focus-ring part="focus-ring" for="button" aria-hidden="true"><template shadowrootmode="open"><!----></template></md-focus-ring>
      <md-ripple for="button" aria-hidden="true"><template shadowrootmode="open"><!----><div class="surface"></div></template></md-ripple>
      <!--?lit$0292179355$--><button id="button" class="button">
      <!--?lit$0292179355$-->
      <span class="touch"></span>
      <!--?lit$0292179355$--><slot name="icon"></slot>
      <span class="label"><slot></slot></span>
      <!--?lit$0292179355$-->
    
    </button>
    </template>
        <!--?lit$0292179355$-->
        <span class="button-content"><slot></slot></span>
        <!--?lit$0292179355$--><span class="screenreader-only"><!--?lit$0292179355$--> <!--?lit$0292179355$--></span>
      </md-text-button>
      <!--?lit$0292179355$--><!--?--></template>
            <!--?lit$0292179355$-->Copy to Drive
          </colab-toolbar-button>
        </span>
    <!--?lit$0292179355$-->
    <!--?lit$0292179355$--> <span class="collapsed-options">
          <colab-last-saved-indicator aria-live="polite" aria-atomic="true"><template shadowrootmode="open"><!----><!--?--></template></colab-last-saved-indicator>
        </span>

    <span class="flex"></span>
    <!--?lit$0292179355$--><colab-connect-warning-button><template shadowrootmode="open"><!----><!--?lit$0292179355$--><!--?--><!--?--></template></colab-connect-warning-button>
    <!--?lit$0292179355$--> <colab-connect-button><template shadowrootmode="open"><!----> <!--?lit$0292179355$--><!--?-->
      <colab-toolbar-button id="connect" tooltipid="colab-connect-tooltip" tooltiptext="Connect to a new runtime

          "><template shadowrootmode="open"><!----><md-text-button id="button" aria-disabled="false" role="presentation" value=""><template shadowrootmode="open" shadowrootdelegatesfocus><!---->
      <!--?lit$0292179355$-->
      <div class="background"></div>
      <md-focus-ring part="focus-ring" for="button" aria-hidden="true"><template shadowrootmode="open"><!----></template></md-focus-ring>
      <md-ripple for="button" aria-hidden="true"><template shadowrootmode="open"><!----><div class="surface"></div></template></md-ripple>
      <!--?lit$0292179355$--><button id="button" class="button">
      <!--?lit$0292179355$-->
      <span class="touch"></span>
      <!--?lit$0292179355$--><slot name="icon"></slot>
      <span class="label"><slot></slot></span>
      <!--?lit$0292179355$-->
    
    </button>
    </template>
        <!--?lit$0292179355$-->
        <span class="button-content"><slot></slot></span>
        <!--?lit$0292179355$--><span class="screenreader-only"><!--?lit$0292179355$-->Connect to a new runtime

           <!--?lit$0292179355$--></span>
      </md-text-button>
      <!--?lit$0292179355$--> <colab-tooltip-trigger for="button" aria-hidden="true" id="colab-connect-tooltip" message="Connect to a new runtime

          " shortcut=""><template shadowrootmode="open"><!----><!--?lit$0292179355$--><!----><div><!--?lit$0292179355$-->Connect to a new runtime</div><!----><!----><div><!--?lit$0292179355$--></div><!----><!----><div><!--?lit$0292179355$-->          </div><!----><!--?--></template>
          </colab-tooltip-trigger><!--?--></template>
        <!--?lit$0292179355$-->Connect
      </colab-toolbar-button>
      <!--?lit$0292179355$--> <md-icon-button id="connect-dropdown" aria-label="Additional connection options" role="presentation" value=""><template shadowrootmode="open" shadowrootdelegatesfocus><!----><button id="button" class="icon-button  standard " aria-label="Additional connection options">
        <!--?lit$0292179355$--><md-focus-ring part="focus-ring" for="button" aria-hidden="true"><template shadowrootmode="open"><!----></template></md-focus-ring>
        <!--?lit$0292179355$--><md-ripple aria-hidden="true"><template shadowrootmode="open"><!----><div class="surface   "></div></template></md-ripple>
        <!--?lit$0292179355$--><span class="icon"><slot></slot></span>
        <!--?lit$0292179355$-->
        <!--?lit$0292179355$--><span class="touch"></span>
        <!--?lit$0292179355$-->
  </button></template>
        <md-icon aria-hidden="true"><template shadowrootmode="open"><!----><slot></slot></template>arrow_drop_down</md-icon>
      </md-icon-button>
      <colab-tooltip-trigger for="connect-dropdown" id="connect-dropdown-tooltip" aria-hidden="true" message="Additional connection options"><template shadowrootmode="open"><!----><!--?lit$0292179355$--><!----><div><!--?lit$0292179355$-->Additional connection options</div><!----><!--?--></template>
      </colab-tooltip-trigger><!--?--></template> </colab-connect-button>
    <!--?lit$0292179355$--> <span class="colab-separator"></span>
          <colab-toolbar-button icon="supervised_user_circle" command="show-chat"><template shadowrootmode="open"><!----><md-text-button id="button" aria-disabled="false" role="presentation" value="" has-icon=""><template shadowrootmode="open" shadowrootdelegatesfocus><!---->
      <!--?lit$0292179355$-->
      <div class="background"></div>
      <md-focus-ring part="focus-ring" for="button" aria-hidden="true"><template shadowrootmode="open"><!----></template></md-focus-ring>
      <md-ripple for="button" aria-hidden="true"><template shadowrootmode="open"><!----><div class="surface   "></div></template></md-ripple>
      <!--?lit$0292179355$--><button id="button" class="button">
      <!--?lit$0292179355$-->
      <span class="touch"></span>
      <!--?lit$0292179355$--><slot name="icon"></slot>
      <span class="label"><slot></slot></span>
      <!--?lit$0292179355$-->
    
    </button>
    </template>
        <!--?lit$0292179355$--><md-icon slot="icon" aria-hidden="true"><template shadowrootmode="open"><!----><slot></slot></template><!--?lit$0292179355$-->supervised_user_circle</md-icon>
        <span class="button-content"><slot></slot></span>
        <!--?lit$0292179355$--><span class="screenreader-only"><!--?lit$0292179355$--> <!--?lit$0292179355$--></span>
      </md-text-button>
      <!--?lit$0292179355$--><!--?--></template>
            <!--?lit$0292179355$-->Colab AI
          </colab-toolbar-button>
    <!--?lit$0292179355$-->
    <span class="collapsed-options">
      <!--?lit$0292179355$--><span class="colab-separator"></span>
      <!--?lit$0292179355$--> <md-icon-button command="share" title="Share notebook" aria-label="Share notebook" role="presentation" value=""><template shadowrootmode="open" shadowrootdelegatesfocus><!----><button id="button" class="icon-button  standard " aria-label="Share notebook">
        <!--?lit$0292179355$--><md-focus-ring part="focus-ring" for="button" aria-hidden="true"><template shadowrootmode="open"><!----></template></md-focus-ring>
        <!--?lit$0292179355$--><md-ripple aria-hidden="true"><template shadowrootmode="open"><!----><div class="surface   "></div></template></md-ripple>
        <!--?lit$0292179355$--><span class="icon"><slot></slot></span>
        <!--?lit$0292179355$-->
        <!--?lit$0292179355$--><span class="touch"></span>
        <!--?lit$0292179355$-->
  </button></template>
            <md-icon filled="" aria-hidden="true"><template shadowrootmode="open"><!----><slot></slot></template><!--?lit$0292179355$-->link</md-icon>
          </md-icon-button><md-icon-button command="preferences" aria-label="Open settings" title="Open settings" role="presentation" value=""><template shadowrootmode="open" shadowrootdelegatesfocus><!----><button id="button" class="icon-button  standard " aria-label="Open settings">
        <!--?lit$0292179355$--><md-focus-ring part="focus-ring" for="button" aria-hidden="true"><template shadowrootmode="open"><!----></template></md-focus-ring>
        <!--?lit$0292179355$--><md-ripple aria-hidden="true"><template shadowrootmode="open"><!----><div class="surface   "></div></template></md-ripple>
        <!--?lit$0292179355$--><span class="icon"><slot></slot></span>
        <!--?lit$0292179355$-->
        <!--?lit$0292179355$--><span class="touch"></span>
        <!--?lit$0292179355$-->
  </button></template>
        <md-icon filled="" aria-hidden="true"><template shadowrootmode="open"><!----><slot></slot></template>settings</md-icon>
      </md-icon-button>
    </span>
    <span class="colab-separator"></span>
    <!--?lit$0292179355$--><md-icon-button toggle="" command="toggle-header" id="toggle-header-button" aria-label="Toggle header visibility" role="presentation" aria-describedby="toggle-header-button-tooltip" value=""><template shadowrootmode="open" shadowrootdelegatesfocus><!----><button id="button" class="icon-button  standard " aria-label="Toggle header visibility" aria-pressed="false">
        <!--?lit$0292179355$--><md-focus-ring part="focus-ring" for="button" aria-hidden="true"><template shadowrootmode="open"><!----></template></md-focus-ring>
        <!--?lit$0292179355$--><md-ripple aria-hidden="true"><template shadowrootmode="open"><!----><div class="surface   "></div></template></md-ripple>
        <!--?lit$0292179355$--><span class="icon"><slot></slot></span>
        <!--?lit$0292179355$-->
        <!--?lit$0292179355$--><span class="touch"></span>
        <!--?lit$0292179355$-->
  </button></template>
    <md-icon aria-hidden="true"><template shadowrootmode="open"><!----><slot></slot></template>expand_less</md-icon>
    <md-icon slot="selected" aria-hidden="true"><template shadowrootmode="open"><!----><slot></slot></template>expand_more</md-icon>
  </md-icon-button><colab-tooltip-trigger aria-hidden="true" for="toggle-header-button" id="toggle-header-button-tooltip"><template shadowrootmode="open"><!----><!--?lit$0292179355$--><!----><div><!--?lit$0292179355$-->Toggle header visibility</div><!----><!--?--></template>
        </colab-tooltip-trigger><!--?--></colab-notebook-toolbar><colab-tab-layout-container class="layout horizontal grow flexible-tabs"><!----> <div class="layout horizontal tab-pane-parent">
      <!--?lit$0292179355$--> <div class="layout vertical tab-pane-parent">
      <!--?lit$0292179355$--><colab-tab-pane class="layout vertical grow no-header focused" align="horizontal"><!----> <div class="layout vertical grow">
    <div class="tab-pane-header layout horizontal noshrink">
      <paper-tabs selected="0" noink="" class="layout grow" scrollable="" role="tablist" tabindex="0" dir="null"><template shadowrootmode="open"><style scope="paper-tabs">:host {
  display: var(--layout_-_display);
        -ms-flex-align: var(--layout-center_-_-ms-flex-align); -webkit-align-items: var(--layout-center_-_-webkit-align-items); align-items: var(--layout-center_-_align-items);

        height: 48px;
        font-size: 14px;
        font-weight: 500;
        overflow: hidden;
        -moz-user-select: none;
        -ms-user-select: none;
        -webkit-user-select: none;
        user-select: none;

        
        -webkit-tap-highlight-color: rgba(0, 0, 0, 0);
        -webkit-tap-highlight-color: transparent;

        ;
}

:host([dir="rtl"]) {
  display: var(--layout-horizontal-reverse_-_display); -ms-flex-direction: var(--layout-horizontal-reverse_-_-ms-flex-direction); -webkit-flex-direction: var(--layout-horizontal-reverse_-_-webkit-flex-direction); flex-direction: var(--layout-horizontal-reverse_-_flex-direction);
}

#tabsContainer {
  position: relative;
        height: 100%;
        white-space: nowrap;
        overflow: hidden;
        -ms-flex: var(--layout-flex-auto_-_-ms-flex); -webkit-flex: var(--layout-flex-auto_-_-webkit-flex); flex: var(--layout-flex-auto_-_flex);
        ;
}

#tabsContent {
  height: 100%;
        -moz-flex-basis: auto;
        -ms-flex-basis: auto;
        flex-basis: auto;
        ;
}

#tabsContent.scrollable {
  position: absolute;
        white-space: nowrap;
}

#tabsContent:not(.scrollable), #tabsContent.scrollable.fit-container {
  display: var(--layout-horizontal_-_display); -ms-flex-direction: var(--layout-horizontal_-_-ms-flex-direction); -webkit-flex-direction: var(--layout-horizontal_-_-webkit-flex-direction); flex-direction: var(--layout-horizontal_-_flex-direction);
}

#tabsContent.scrollable.fit-container {
  min-width: 100%;
}

#tabsContent.scrollable.fit-container > ::slotted(*) {
  -ms-flex: 1 0 auto;
        -webkit-flex: 1 0 auto;
        flex: 1 0 auto;
}

.hidden {
  display: none;
}

.not-visible {
  opacity: 0;
        cursor: default;
}

paper-icon-button {
  width: 48px;
        height: 48px;
        padding: 12px;
        margin: 0 4px;
        background-color: var(--paper-icon-buttons_-_background-color); border-radius: var(--paper-icon-buttons_-_border-radius); color: var(--paper-icon-buttons_-_color); height: var(--paper-icon-buttons_-_height, 48px); padding: var(--paper-icon-buttons_-_padding, 12px); position: var(--paper-icon-buttons_-_position); width: var(--paper-icon-buttons_-_width, 48px)
}

paper-icon-button#left {
  left: var(--paper-icon-button-left_-_left); z-index: var(--paper-icon-button-left_-_z-index)
}

paper-icon-button#right {
  right: var(--paper-icon-button-right_-_right)
}

#selectionBar {
  position: absolute;
        height: 0;
        bottom: 0;
        left: 0;
        right: 0;
        border-bottom: 2px solid var(--paper-tabs-selection-bar-color, var(--paper-yellow-a100));
          -webkit-transform: scale(0);
        transform: scale(0);
          -webkit-transform-origin: left center;
        transform-origin: left center;
          transition: -webkit-transform;
        transition: transform;

        z-index: var(--paper-tabs-selection-bar_-_z-index);
}

#selectionBar.align-bottom {
  top: 0;
        bottom: auto;
}

#selectionBar.expand {
  transition-duration: 0.15s;
        transition-timing-function: cubic-bezier(0.4, 0.0, 1, 1);
}

#selectionBar.contract {
  transition-duration: 0.18s;
        transition-timing-function: cubic-bezier(0.0, 0.0, 0.2, 1);
}

#tabsContent > ::slotted(:not(#selectionBar)) {
  height: 100%;
}</style>
    

    <paper-icon-button id="left" icon="paper-tabs:chevron-left" tabindex="-1" class="not-visible" aria-hidden="true" role="button" aria-disabled="true" aria-label="" disabled="" style="pointer-events: none;"><template shadowrootmode="open"><style scope="paper-icon-button">:host {
  display: inline-block;
        position: relative;
        padding: 8px;
        outline: none;
        -webkit-user-select: none;
        -moz-user-select: none;
        -ms-user-select: none;
        user-select: none;
        cursor: pointer;
        z-index: 0;
        line-height: 1;

        width: 40px;
        height: 40px;

        
        -webkit-tap-highlight-color: rgba(0, 0, 0, 0);
        -webkit-tap-highlight-color: transparent;

        
        box-sizing: border-box !important;

        ;
}

:host #ink {
  color: var(--paper-icon-button-ink-color, var(--primary-text-color));
        opacity: 0.6;
}

:host([disabled]) {
  color: var(--paper-icon-button-disabled-text, var(--disabled-text-color));
        pointer-events: none;
        cursor: auto;

        ;
}

:host([hidden]) {
  display: none !important;
}

:host(:hover) {
  ;
}

iron-icon {
  --iron-icon-width: 100%;
        --iron-icon-height: 100%;
}</style><iron-icon id="icon" alt=""><template shadowrootmode="open"><svg viewBox="0 0 24 24" preserveAspectRatio="xMidYMid meet" focusable="false" style="pointer-events: none; display: block; width: 100%; height: 100%;"><g><path d="M15.41 7.41L14 6l-6 6 6 6 1.41-1.41L10.83 12z"></path></g></svg><style scope="iron-icon">:host {
  display: var(--layout-inline_-_display);
        -ms-flex-align: var(--layout-center-center_-_-ms-flex-align); -webkit-align-items: var(--layout-center-center_-_-webkit-align-items); align-items: var(--layout-center-center_-_align-items); -ms-flex-pack: var(--layout-center-center_-_-ms-flex-pack); -webkit-justify-content: var(--layout-center-center_-_-webkit-justify-content); justify-content: var(--layout-center-center_-_justify-content);
        position: relative;

        vertical-align: middle;

        fill: var(--iron-icon-fill-color, currentcolor);
        stroke: var(--iron-icon-stroke-color, none);

        width: var(--iron-icon-width, 24px);
        height: var(--iron-icon-height, 24px);
        ;
}

:host([hidden]) {
  display: none;
}</style>
    
</template></iron-icon></template></paper-icon-button>

    <div id="tabsContainer" style="touch-action: pan-y;">
      <div id="tabsContent" class="scrollable">
        <div id="selectionBar" class="" style="transform: translateX(0%) scaleX(0);"></div>
        <slot></slot>
      </div>
    </div>

    <paper-icon-button id="right" icon="paper-tabs:chevron-right" tabindex="-1" class="not-visible" aria-hidden="true" role="button" aria-disabled="true" aria-label="" disabled="" style="pointer-events: none;"><template shadowrootmode="open"><style scope="paper-icon-button">:host {
  display: inline-block;
        position: relative;
        padding: 8px;
        outline: none;
        -webkit-user-select: none;
        -moz-user-select: none;
        -ms-user-select: none;
        user-select: none;
        cursor: pointer;
        z-index: 0;
        line-height: 1;

        width: 40px;
        height: 40px;

        
        -webkit-tap-highlight-color: rgba(0, 0, 0, 0);
        -webkit-tap-highlight-color: transparent;

        
        box-sizing: border-box !important;

        ;
}

:host #ink {
  color: var(--paper-icon-button-ink-color, var(--primary-text-color));
        opacity: 0.6;
}

:host([disabled]) {
  color: var(--paper-icon-button-disabled-text, var(--disabled-text-color));
        pointer-events: none;
        cursor: auto;

        ;
}

:host([hidden]) {
  display: none !important;
}

:host(:hover) {
  ;
}

iron-icon {
  --iron-icon-width: 100%;
        --iron-icon-height: 100%;
}</style><iron-icon id="icon" alt=""><template shadowrootmode="open"><svg viewBox="0 0 24 24" preserveAspectRatio="xMidYMid meet" focusable="false" style="pointer-events: none; display: block; width: 100%; height: 100%;"><g><path d="M10 6L8.59 7.41 13.17 12l-4.58 4.59L10 18l6-6z"></path></g></svg><style scope="iron-icon">:host {
  display: var(--layout-inline_-_display);
        -ms-flex-align: var(--layout-center-center_-_-ms-flex-align); -webkit-align-items: var(--layout-center-center_-_-webkit-align-items); align-items: var(--layout-center-center_-_align-items); -ms-flex-pack: var(--layout-center-center_-_-ms-flex-pack); -webkit-justify-content: var(--layout-center-center_-_-webkit-justify-content); justify-content: var(--layout-center-center_-_justify-content);
        position: relative;

        vertical-align: middle;

        fill: var(--iron-icon-fill-color, currentcolor);
        stroke: var(--iron-icon-stroke-color, none);

        width: var(--iron-icon-width, 24px);
        height: var(--iron-icon-height, 24px);
        ;
}

:host([hidden]) {
  display: none;
}</style>
    
</template></iron-icon></template></paper-icon-button>
</template>
      <paper-tab noink="" title="" aria-labelledby="tab-title-GMhpOeyXgfW8" class="iron-selected" role="tab" aria-disabled="false" aria-selected="true" tabindex="0"><template shadowrootmode="open"><style scope="paper-tab">:host {
  display: var(--layout-inline_-_display);
        -ms-flex-align: var(--layout-center_-_-ms-flex-align); -webkit-align-items: var(--layout-center_-_-webkit-align-items); align-items: var(--layout-center_-_align-items);
        -ms-flex-pack: var(--layout-center-justified_-_-ms-flex-pack); -webkit-justify-content: var(--layout-center-justified_-_-webkit-justify-content); justify-content: var(--layout-center-justified_-_justify-content);
        -ms-flex: var(--layout-flex-auto_-_-ms-flex); -webkit-flex: var(--layout-flex-auto_-_-webkit-flex); flex: var(--layout-flex-auto_-_flex);

        position: relative;
        padding: 0 12px;
        overflow: hidden;
        cursor: pointer;
        vertical-align: middle;

        font-family: var(--paper-font-common-base_-_font-family); -webkit-font-smoothing: var(--paper-font-common-base_-_-webkit-font-smoothing);
        ;
}

:host(:focus) {
  outline: none;
}

:host([link]) {
  padding: 0;
}

.tab-content {
  height: 100%;
        transform: translateZ(0);
          -webkit-transform: translateZ(0);
        transition: opacity 0.1s cubic-bezier(0.4, 0.0, 1, 1);
        display: var(--layout-horizontal_-_display); -ms-flex-direction: var(--layout-horizontal_-_-ms-flex-direction); -webkit-flex-direction: var(--layout-horizontal_-_-webkit-flex-direction); flex-direction: var(--layout-horizontal_-_flex-direction);
        -ms-flex-align: var(--layout-center-center_-_-ms-flex-align); -webkit-align-items: var(--layout-center-center_-_-webkit-align-items); align-items: var(--layout-center-center_-_align-items); -ms-flex-pack: var(--layout-center-center_-_-ms-flex-pack); -webkit-justify-content: var(--layout-center-center_-_-webkit-justify-content); justify-content: var(--layout-center-center_-_justify-content);
        -ms-flex: var(--layout-flex-auto_-_-ms-flex); -webkit-flex: var(--layout-flex-auto_-_-webkit-flex); flex: var(--layout-flex-auto_-_flex);
        ;
}

:host(:not(.iron-selected)) > .tab-content {
  opacity: 0.8;

        ;
}

:host(:focus) .tab-content {
  opacity: 1;
        font-weight: 700;

        background-color: var(--paper-tab-content-focused_-_background-color); font-weight: var(--paper-tab-content-focused_-_font-weight, 700); background: var(--paper-tab-content-focused_-_background);
}

paper-ripple {
  color: var(--paper-tab-ink, var(--paper-yellow-a100));
}

.tab-content > ::slotted(a) {
  -ms-flex: var(--layout-flex-auto_-_-ms-flex); -webkit-flex: var(--layout-flex-auto_-_-webkit-flex); flex: var(--layout-flex-auto_-_flex);

        height: 100%;
}</style>
    

    <div class="tab-content">
      <slot></slot>
    </div>
</template>
          <div class="colab-tab-header">
            <span class="colab-tab-title" id="tab-title-GMhpOeyXgfW8"><!--?lit$0292179355$--><!--?lit$0292179355$-->Notebook<!--?--></span>
            <!--?lit$0292179355$-->
          </div>
        </paper-tab></paper-tabs>
      <!--?lit$0292179355$--> <paper-icon-button icon="icons:more-horiz" title="Show more" role="button" tabindex="0" aria-disabled="false"><template shadowrootmode="open"><style scope="paper-icon-button">:host {
  display: inline-block;
        position: relative;
        padding: 8px;
        outline: none;
        -webkit-user-select: none;
        -moz-user-select: none;
        -ms-user-select: none;
        user-select: none;
        cursor: pointer;
        z-index: 0;
        line-height: 1;

        width: 40px;
        height: 40px;

        
        -webkit-tap-highlight-color: rgba(0, 0, 0, 0);
        -webkit-tap-highlight-color: transparent;

        
        box-sizing: border-box !important;

        ;
}

:host #ink {
  color: var(--paper-icon-button-ink-color, var(--primary-text-color));
        opacity: 0.6;
}

:host([disabled]) {
  color: var(--paper-icon-button-disabled-text, var(--disabled-text-color));
        pointer-events: none;
        cursor: auto;

        ;
}

:host([hidden]) {
  display: none !important;
}

:host(:hover) {
  ;
}

iron-icon {
  --iron-icon-width: 100%;
        --iron-icon-height: 100%;
}</style><iron-icon id="icon"><template shadowrootmode="open"><svg viewBox="0 0 24 24" preserveAspectRatio="xMidYMid meet" focusable="false" style="pointer-events: none; display: block; width: 100%; height: 100%;"><g><path d="M6 10c-1.1 0-2 .9-2 2s.9 2 2 2 2-.9 2-2-.9-2-2-2zm12 0c-1.1 0-2 .9-2 2s.9 2 2 2 2-.9 2-2-.9-2-2-2zm-6 0c-1.1 0-2 .9-2 2s.9 2 2 2 2-.9 2-2-.9-2-2-2z"></path></g></svg><style scope="iron-icon">:host {
  display: var(--layout-inline_-_display);
        -ms-flex-align: var(--layout-center-center_-_-ms-flex-align); -webkit-align-items: var(--layout-center-center_-_-webkit-align-items); align-items: var(--layout-center-center_-_align-items); -ms-flex-pack: var(--layout-center-center_-_-ms-flex-pack); -webkit-justify-content: var(--layout-center-center_-_-webkit-justify-content); justify-content: var(--layout-center-center_-_justify-content);
        position: relative;

        vertical-align: middle;

        fill: var(--iron-icon-fill-color, currentcolor);
        stroke: var(--iron-icon-stroke-color, none);

        width: var(--iron-icon-width, 24px);
        height: var(--iron-icon-height, 24px);
        ;
}

:host([hidden]) {
  display: none;
}</style>
    
</template></iron-icon></template>
  </paper-icon-button>
    </div>
    <div class="layout vertical grow tab-pane-container"> <colab-tab class="layout vertical grow notebook-tab-content iron-selected"><!----> <div class="overflow-flexbox-workaround">
      <colab-shaded-scroller ignore-dom-changes="" tabindex="-1" role="main" class="notebook-container" aria-label="Notebook">
        <div class="notebook-scrolling-horizontal-container">
          <div class="notebook-scrolling-horizontal">
            <div class="notebook-content-background">
              <!--?lit$0292179355$-->
              <div class="notebook-content ">
                <!--?lit$0292179355$--><div class="add-cell">
      <div class="add-cell-buttons">
        <md-outlined-button class="add-code add-button" aria-label="Add code cell
Ctrl+M B" title="Add code cell
Ctrl+M B" role="presentation" value="" has-icon=""><template shadowrootmode="open" shadowrootdelegatesfocus><!---->
      <!--?lit$0292179355$--><div class="outline"></div>
      <div class="background"></div>
      <md-focus-ring part="focus-ring" for="button" aria-hidden="true"><template shadowrootmode="open"><!----></template></md-focus-ring>
      <md-ripple for="button" aria-hidden="true"><template shadowrootmode="open"><!----><div class="surface   "></div></template></md-ripple>
      <!--?lit$0292179355$--><button id="button" class="button" aria-label="Add code cell
Ctrl+M B">
      <!--?lit$0292179355$-->
      <span class="touch"></span>
      <!--?lit$0292179355$--><slot name="icon"></slot>
      <span class="label"><slot></slot></span>
      <!--?lit$0292179355$-->
    
    </button>
    </template>
          <md-icon slot="icon" aria-hidden="true"><template shadowrootmode="open"><!----><slot></slot></template>add</md-icon>
          <!--?lit$0292179355$-->Code
        </md-outlined-button>
        <md-outlined-button class="add-text add-button" aria-label="Add text cell" title="Add text cell" role="presentation" value="" has-icon=""><template shadowrootmode="open" shadowrootdelegatesfocus><!---->
      <!--?lit$0292179355$--><div class="outline"></div>
      <div class="background"></div>
      <md-focus-ring part="focus-ring" for="button" aria-hidden="true"><template shadowrootmode="open"><!----></template></md-focus-ring>
      <md-ripple for="button" aria-hidden="true"><template shadowrootmode="open"><!----><div class="surface   "></div></template></md-ripple>
      <!--?lit$0292179355$--><button id="button" class="button" aria-label="Add text cell">
      <!--?lit$0292179355$-->
      <span class="touch"></span>
      <!--?lit$0292179355$--><slot name="icon"></slot>
      <span class="label"><slot></slot></span>
      <!--?lit$0292179355$-->
    
    </button>
    </template>
          <md-icon slot="icon" aria-hidden="true"><template shadowrootmode="open"><!----><slot></slot></template>add</md-icon>
          <!--?lit$0292179355$-->Text
        </md-outlined-button>
        <!--?lit$0292179355$-->
      </div><hr>
    </div>
                <div class="notebook-cell-list"><div class="cell code code-has-output icon-scrolling focused" id="cell-dgE2hVc06X55" tabindex="-1" role="region" aria-label="Cell 0: Code cell: " style=""><div class="cell-tag-editor sticky"></div><div class="cell-toolbar sticky"><colab-cell-toolbar><template shadowrootmode="open"><!----><!--?lit$0292179355$--><!----> <md-icon-button class="colab-icon" title="Move cell up
Ctrl+M K" aria-label="Move cell up
Ctrl+M K" command="move-cell-up" role="presentation" disabled="" value=""><template shadowrootmode="open" shadowrootdelegatesfocus><!----><button id="button" class="icon-button  standard " aria-label="Move cell up
Ctrl+M K" disabled="">
        <!--?lit$0292179355$--><md-focus-ring part="focus-ring" for="button" aria-hidden="true"><template shadowrootmode="open"><!----></template></md-focus-ring>
        <!--?lit$0292179355$--><md-ripple disabled="" aria-hidden="true"><template shadowrootmode="open"><!----><div class="surface   "></div></template></md-ripple>
        <!--?lit$0292179355$--><span class="icon"><slot></slot></span>
        <!--?lit$0292179355$-->
        <!--?lit$0292179355$--><span class="touch"></span>
        <!--?lit$0292179355$-->
  </button></template>
          <md-icon aria-hidden="true"><template shadowrootmode="open"><!----><slot></slot></template><!--?lit$0292179355$-->arrow_upward</md-icon>
          <!--?lit$0292179355$-->
        </md-icon-button><!----><!----> <md-icon-button class="colab-icon" title="Move cell down
Ctrl+M J" aria-label="Move cell down
Ctrl+M J" command="move-cell-down" role="presentation" value=""><template shadowrootmode="open" shadowrootdelegatesfocus><!----><button id="button" class="icon-button  standard " aria-label="Move cell down
Ctrl+M J">
        <!--?lit$0292179355$--><md-focus-ring part="focus-ring" for="button" aria-hidden="true"><template shadowrootmode="open"><!----></template></md-focus-ring>
        <!--?lit$0292179355$--><md-ripple aria-hidden="true"><template shadowrootmode="open"><!----><div class="surface   "></div></template></md-ripple>
        <!--?lit$0292179355$--><span class="icon"><slot></slot></span>
        <!--?lit$0292179355$-->
        <!--?lit$0292179355$--><span class="touch"></span>
        <!--?lit$0292179355$-->
  </button></template>
          <md-icon aria-hidden="true"><template shadowrootmode="open"><!----><slot></slot></template><!--?lit$0292179355$-->arrow_downward</md-icon>
          <!--?lit$0292179355$-->
        </md-icon-button><!----><!----> <md-icon-button class="colab-icon" title="Copy link to cell" aria-label="Copy link to cell" command="copy-link-to-cell" role="presentation" value=""><template shadowrootmode="open" shadowrootdelegatesfocus><!----><button id="button" class="icon-button  standard " aria-label="Copy link to cell">
        <!--?lit$0292179355$--><md-focus-ring part="focus-ring" for="button" aria-hidden="true"><template shadowrootmode="open"><!----></template></md-focus-ring>
        <!--?lit$0292179355$--><md-ripple aria-hidden="true"><template shadowrootmode="open"><!----><div class="surface   "></div></template></md-ripple>
        <!--?lit$0292179355$--><span class="icon"><slot></slot></span>
        <!--?lit$0292179355$-->
        <!--?lit$0292179355$--><span class="touch"></span>
        <!--?lit$0292179355$-->
  </button></template>
          <md-icon aria-hidden="true"><template shadowrootmode="open"><!----><slot></slot></template><!--?lit$0292179355$-->link</md-icon>
          <!--?lit$0292179355$-->
        </md-icon-button><!----><!----> <md-icon-button class="colab-icon" title="Add a comment
Ctrl+Alt+M" aria-label="Add a comment
Ctrl+Alt+M" command="add-comment" role="presentation" value="" style="display: none;"><template shadowrootmode="open" shadowrootdelegatesfocus><!----><button id="button" class="icon-button  standard " aria-label="Add a comment
Ctrl+Alt+M">
        <!--?lit$0292179355$--><md-focus-ring part="focus-ring" for="button" aria-hidden="true"><template shadowrootmode="open"><!----></template></md-focus-ring>
        <!--?lit$0292179355$--><md-ripple aria-hidden="true"><template shadowrootmode="open"><!----><div class="surface   "></div></template></md-ripple>
        <!--?lit$0292179355$--><span class="icon"><slot></slot></span>
        <!--?lit$0292179355$-->
        <!--?lit$0292179355$--><span class="touch"></span>
        <!--?lit$0292179355$-->
  </button></template>
          <md-icon aria-hidden="true"><template shadowrootmode="open"><!----><slot></slot></template><!--?lit$0292179355$-->comment</md-icon>
          <!--?lit$0292179355$-->
        </md-icon-button><!----><!----> <md-icon-button class="colab-icon" title="Open editor settings" aria-label="Open editor settings" command="editor-preferences" role="presentation" value=""><template shadowrootmode="open" shadowrootdelegatesfocus><!----><button id="button" class="icon-button  standard " aria-label="Open editor settings">
        <!--?lit$0292179355$--><md-focus-ring part="focus-ring" for="button" aria-hidden="true"><template shadowrootmode="open"><!----></template></md-focus-ring>
        <!--?lit$0292179355$--><md-ripple aria-hidden="true"><template shadowrootmode="open"><!----><div class="surface   "></div></template></md-ripple>
        <!--?lit$0292179355$--><span class="icon"><slot></slot></span>
        <!--?lit$0292179355$-->
        <!--?lit$0292179355$--><span class="touch"></span>
        <!--?lit$0292179355$-->
  </button></template>
          <md-icon filled="" aria-hidden="true"><template shadowrootmode="open"><!----><slot></slot></template><!--?lit$0292179355$-->settings</md-icon>
          <!--?lit$0292179355$-->
        </md-icon-button><!----><!----> <md-icon-button class="colab-icon" title="Edit" aria-label="Edit" command="toggle-edit-markdown" toggle="" role="presentation" value="" style="display: none;"><template shadowrootmode="open" shadowrootdelegatesfocus><!----><button id="button" class="icon-button  standard " aria-label="Edit" aria-pressed="false">
        <!--?lit$0292179355$--><md-focus-ring part="focus-ring" for="button" aria-hidden="true"><template shadowrootmode="open"><!----></template></md-focus-ring>
        <!--?lit$0292179355$--><md-ripple aria-hidden="true"><template shadowrootmode="open"><!----><div class="surface   "></div></template></md-ripple>
        <!--?lit$0292179355$--><span class="icon"><slot></slot></span>
        <!--?lit$0292179355$-->
        <!--?lit$0292179355$--><span class="touch"></span>
        <!--?lit$0292179355$-->
  </button></template>
          <md-icon aria-hidden="true"><template shadowrootmode="open"><!----><slot></slot></template><!--?lit$0292179355$-->edit</md-icon>
          <!--?lit$0292179355$--><md-icon slot="selected" aria-hidden="true"><template shadowrootmode="open"><!----><slot></slot></template><!--?lit$0292179355$-->edit_off</md-icon>
        </md-icon-button><!----><!----> <md-icon-button class="colab-icon" title="Mirror cell in tab" aria-label="Mirror cell in tab" command="mirror-cell-in-tab" role="presentation" value=""><template shadowrootmode="open" shadowrootdelegatesfocus><!----><button id="button" class="icon-button  standard " aria-label="Mirror cell in tab">
        <!--?lit$0292179355$--><md-focus-ring part="focus-ring" for="button" aria-hidden="true"><template shadowrootmode="open"><!----></template></md-focus-ring>
        <!--?lit$0292179355$--><md-ripple aria-hidden="true"><template shadowrootmode="open"><!----><div class="surface   "></div></template></md-ripple>
        <!--?lit$0292179355$--><span class="icon"><slot></slot></span>
        <!--?lit$0292179355$-->
        <!--?lit$0292179355$--><span class="touch"></span>
        <!--?lit$0292179355$-->
  </button></template>
          <md-icon aria-hidden="true"><template shadowrootmode="open"><!----><slot></slot></template><!--?lit$0292179355$--><svg viewBox="0 0 24 24"><!--?lit$0292179355$-->
      <g id="mirror-cell">
        <path d="M4,21V7H2V21a2,2,0,0,0,2,2H18V21Z"></path>
        <path d="M6,13v2H8.6L5,18.6,6.4,20,10,16.4V19h2V13Z"></path>
        <path d="M19,1H8A2,2,0,0,0,6,3v8H8V3H19V17H14v2h5a2,2,0,0,0,2-2V3A2,2,0,0,0,19,1Z"></path>
      </g></svg></md-icon>
          <!--?lit$0292179355$-->
        </md-icon-button><!----><!----> <md-icon-button class="colab-icon" title="Delete cell
Ctrl+M D" aria-label="Delete cell
Ctrl+M D" command="delete-cell-or-selection" role="presentation" value=""><template shadowrootmode="open" shadowrootdelegatesfocus><!----><button id="button" class="icon-button  standard " aria-label="Delete cell
Ctrl+M D">
        <!--?lit$0292179355$--><md-focus-ring part="focus-ring" for="button" aria-hidden="true"><template shadowrootmode="open"><!----></template></md-focus-ring>
        <!--?lit$0292179355$--><md-ripple aria-hidden="true"><template shadowrootmode="open"><!----><div class="surface   "></div></template></md-ripple>
        <!--?lit$0292179355$--><span class="icon"><slot></slot></span>
        <!--?lit$0292179355$-->
        <!--?lit$0292179355$--><span class="touch"></span>
        <!--?lit$0292179355$-->
  </button></template>
          <md-icon aria-hidden="true"><template shadowrootmode="open"><!----><slot></slot></template><!--?lit$0292179355$-->delete</md-icon>
          <!--?lit$0292179355$-->
        </md-icon-button><!----><!--?lit$0292179355$--><md-icon-button title="More cell actions" aria-label="More cell actions" class="colab-icon cell-toolbar-more" role="presentation" value=""><template shadowrootmode="open" shadowrootdelegatesfocus><!----><button id="button" class="icon-button  standard " aria-label="More cell actions">
        <!--?lit$0292179355$--><md-focus-ring part="focus-ring" for="button" aria-hidden="true"><template shadowrootmode="open"><!----></template></md-focus-ring>
        <!--?lit$0292179355$--><md-ripple aria-hidden="true"><template shadowrootmode="open"><!----><div class="surface   "></div></template></md-ripple>
        <!--?lit$0292179355$--><span class="icon"><slot></slot></span>
        <!--?lit$0292179355$-->
        <!--?lit$0292179355$--><span class="touch"></span>
        <!--?lit$0292179355$-->
  </button></template><md-icon aria-hidden="true"><template shadowrootmode="open"><!----><slot></slot></template>more_vert</md-icon>
    </md-icon-button><!--?--></template></colab-cell-toolbar></div><div class="main-content" elevation="2"><div class="cell-contents"><div class="cell-mask"></div><span class="imported-info-area"></span><div class="codecell-input-output">
      <div class="inputarea horizontal layout code">
        <div class="cell-gutter">
          <!-- Bounding range for vertical scrolling of icons -->
          <div class="cell-execution-container">
            <colab-run-button title="Run cell (Ctrl+Enter)
cell has not been executed in this session

executed at unknown time" role="button" aria-label="Run cell"><template shadowrootmode="open"><!----> <div class="cell-execution focused stale">
      <div class="execution-count"><!--?lit$0292179355$-->[ ]</div>
      <div class="cell-execution-indicator"> <!--?lit$0292179355$-->
<svg xmlns="http://www.w3.org/2000/svg" viewBox="0 0 24 24">
  <!--?lit$0292179355$-->
  <mask id="playSymbolMask">
    <rect width="100%" height="100%" fill="white"></rect>
    <polygon points="10,8 17,12 10,16" fill="black"></polygon>
  </mask>
  <circle cx="12" cy="12" r="7.8" mask="url(#playSymbolMask)" id="filledCircle"></circle>
</svg> </div>
      <!--?lit$0292179355$--><!--?-->
    </div></template></colab-run-button>
          </div>
        </div>
      <div class="editor flex lazy-editor" style=""><div class="editor flex monaco" data-keybinding-context="1" data-mode-id="notebook-python" style="height: 48px; --vscode-editorCodeLens-lineHeight: 16px; --vscode-editorCodeLens-fontSize: 12px; --vscode-editorCodeLens-fontFeatureSettings: &quot;liga&quot; off, &quot;calt&quot; off;"><div class="monaco-editor no-user-select  showUnused showDeprecated vs-dark" role="code" data-uri="inmemory://model/3" style="width: 1581px; height: 48px;"><div data-mprt="3" class="overflow-guard" style="width: 1581px; height: 48px;"><div class="margin" role="presentation" aria-hidden="true" style="position: absolute; contain: strict; will-change: unset; top: 0px; height: 48px; width: 6px;"><div class="glyph-margin" style="left: 0px; width: 0px; height: 48px;"></div><div class="margin-view-zones" role="presentation" aria-hidden="true" style="position: absolute;"></div><div class="margin-view-overlays" role="presentation" aria-hidden="true" style="position: absolute; font-family: monospace, Consolas, &quot;Courier New&quot;, monospace; font-weight: normal; font-size: 14px; font-feature-settings: &quot;liga&quot; 0, &quot;calt&quot; 0; font-variation-settings: normal; line-height: 19px; letter-spacing: 0px; width: 6px; height: 48px;"><div style="position:absolute;top:0px;width:100%;height:19px;"><div class="current-line current-line-margin-both" style="width:6px; height:19px;"></div></div><div style="position:absolute;top:19px;width:100%;height:19px;"></div></div><div class="glyph-margin-widgets" style="position: absolute; top: 0px;"></div></div><div class="monaco-scrollable-element editor-scrollable vs-dark" role="presentation" data-mprt="5" style="position: absolute; overflow: hidden; left: 6px; width: 1575px; height: 48px;"><div class="lines-content monaco-editor-background" style="position: absolute; overflow: hidden; width: 1e+06px; height: 48px; contain: strict; will-change: unset; top: 0px; left: 0px;"><div class="view-overlays" role="presentation" aria-hidden="true" style="position: absolute; font-family: monospace, Consolas, &quot;Courier New&quot;, monospace; font-weight: normal; font-size: 14px; font-feature-settings: &quot;liga&quot; 0, &quot;calt&quot; 0; font-variation-settings: normal; line-height: 19px; letter-spacing: 0px; height: 0px; width: 1575px;"><div style="position:absolute;top:0px;width:100%;height:19px;"><div class="current-line" style="width:1575px; height:19px;"></div></div><div style="position:absolute;top:19px;width:100%;height:19px;"></div></div><div role="presentation" aria-hidden="true" class="view-rulers"></div><div class="view-zones" role="presentation" aria-hidden="true" style="position: absolute;"></div><div class="view-lines monaco-mouse-cursor-text" role="presentation" aria-hidden="true" data-mprt="7" style="position: absolute; font-family: monospace, Consolas, &quot;Courier New&quot;, monospace; font-weight: normal; font-size: 14px; font-feature-settings: &quot;liga&quot; 0, &quot;calt&quot; 0; font-variation-settings: normal; line-height: 19px; letter-spacing: 0px; width: 1575px; height: 48px;"><div style="top:0px;height:19px;" class="view-line"><span><span class="mtk18">from</span><span class="mtk1">&nbsp;google.colab&nbsp;</span><span class="mtk18">import</span><span class="mtk1">&nbsp;drive</span></span></div><div style="top:19px;height:19px;" class="view-line"><span><span class="mtk1">drive.mount</span><span class="mtk12 bracket-highlighting-0">(</span><span class="mtk5">'</span><span class="mtk5 detected-link">/content/gdrive</span><span class="mtk5">'</span><span class="mtk12 bracket-highlighting-0">)</span></span></div></div><div data-mprt="1" class="contentWidgets" style="position: absolute; top: 0px;"></div><div role="presentation" aria-hidden="true" class="cursors-layer cursor-line-style cursor-solid"><div class="cursor monaco-mouse-cursor-text " style="height: 19px; top: 0px; left: 0px; font-family: monospace, Consolas, &quot;Courier New&quot;, monospace; font-weight: normal; font-size: 14px; font-feature-settings: &quot;liga&quot; 0, &quot;calt&quot; 0; font-variation-settings: normal; line-height: 19px; letter-spacing: 0px; display: block; visibility: hidden; padding-left: 0px; width: 1.77778px;"></div></div></div><div role="presentation" aria-hidden="true" class="invisible scrollbar horizontal" style="position: absolute; width: 1561px; height: 10px; left: 0px; bottom: 0px;"><div class="slider" style="position: absolute; top: 0px; left: 0px; height: 10px; transform: translate3d(0px, 0px, 0px); contain: strict; will-change: unset; width: 1561px;"></div></div><canvas class="decorationsOverviewRuler" aria-hidden="true" width="15" height="54" style="position: absolute; transform: translate3d(0px, 0px, 0px); contain: strict; top: 0px; right: 0px; width: 14px; height: 48px; will-change: unset; display: block;"></canvas><div role="presentation" aria-hidden="true" class="invisible scrollbar vertical" style="position: absolute; width: 14px; height: 48px; right: 0px; top: 0px;"><div class="slider" style="position: absolute; top: 0px; left: 0px; width: 14px; transform: translate3d(0px, 0px, 0px); contain: strict; will-change: unset; height: 48px;"></div></div></div><div role="presentation" aria-hidden="true" style="width: 1581px;"></div><textarea data-mprt="6" class="inputarea monaco-mouse-cursor-text" wrap="on" autocorrect="off" autocapitalize="off" autocomplete="off" spellcheck="false" aria-label="Editor content;Press Alt+F1 for Accessibility Options." tabindex="0" role="textbox" aria-roledescription="editor" aria-multiline="true" aria-haspopup="false" aria-autocomplete="both" style="tab-size: 15.3984px; font-family: monospace, Consolas, &quot;Courier New&quot;, monospace; font-weight: normal; font-size: 14px; font-feature-settings: &quot;liga&quot; 0, &quot;calt&quot; 0; font-variation-settings: normal; line-height: 19px; letter-spacing: 0px; top: 0px; left: 6px; width: 1581px; height: 1px;"></textarea><div class="monaco-editor-background textAreaCover" style="position: absolute; top: 0px; left: 0px; width: 0px; height: 0px;"></div><div data-mprt="4" class="overlayWidgets" style="width: 1581px;"></div><div data-mprt="8" class="minimap slider-mouseover" role="presentation" aria-hidden="true" style="position: absolute; left: 0px; width: 0px; height: 48px;"><div class="minimap-shadow-hidden" style="height: 48px;"></div><canvas width="0" height="54" style="position: absolute; left: 0px; width: 0px; height: 48px;"></canvas><canvas class="minimap-decorations-layer" width="0" height="54" style="position: absolute; left: 0px; width: 0px; height: 48px;"></canvas><div class="minimap-slider" style="position: absolute; transform: translate3d(0px, 0px, 0px); contain: strict; width: 0px; will-change: unset;"><div class="minimap-slider-horizontal" style="position: absolute; width: 0px; height: 0px;"></div></div></div><div role="presentation" aria-hidden="true" class="blockDecorations-container"></div></div><div data-mprt="2" class="overflowingContentWidgets" style="display: none;"><div widgetid="editor.contrib.resizableContentHoverWidget" style="position: fixed; height: 10px; width: 10px; z-index: 50; display: none; visibility: hidden; max-width: 1707px; top: 153.778px; left: 290.667px;"><div class="monaco-sash vertical" style="left: 8px;"></div><div class="monaco-sash vertical disabled" style="left: -2px;"></div><div class="monaco-sash orthogonal-edge-north horizontal" style="top: -2px;"><div class="orthogonal-drag-handle end"></div></div><div class="monaco-sash orthogonal-edge-south horizontal disabled" style="top: 8px;"><div class="orthogonal-drag-handle end"></div></div><div class="monaco-hover hidden" tabindex="0" role="tooltip" style="width: 0px; height: 0px;"><div class="monaco-scrollable-element " role="presentation" style="position: relative; overflow: hidden;"><div class="monaco-hover-content" style="overflow: hidden; font-size: 14px; line-height: 1.35714; max-width: 1043.46px; max-height: 250px; width: 0px; height: 0px;"><div class="hover-row markdown-hover"><div class="hover-contents"><div class="rendered-markdown"><p><a data-href="command:viewSource?%5B%22file%3A%2F%2F%2Fcontent%2Fgdrive%22%2Cnull%5D" href="https://colab.research.google.com/github/Chr1ssie/the_data_dazzlers/blob/main/Copy_of_Project4.ipynb" title="Execute command viewSource">/content/gdrive</a> (ctrl + click)</p></div></div></div></div><div role="presentation" aria-hidden="true" class="invisible scrollbar horizontal" style="position: absolute;"><div class="slider" style="position: absolute; top: 0px; left: 0px; height: 10px; transform: translate3d(0px, 0px, 0px); contain: strict;"></div></div><div role="presentation" aria-hidden="true" class="invisible scrollbar vertical" style="position: absolute;"><div class="slider" style="position: absolute; top: 0px; left: 0px; width: 10px; transform: translate3d(0px, 0px, 0px); contain: strict;"></div></div><div class="shadow"></div><div class="shadow"></div><div class="shadow"></div></div></div></div></div><div class=".in-cell-overflowing"><div widgetid="editor.contrib.quickInputWidget" style="position: absolute; top: 0px; right: 50%;"></div></div></div></div></div><colab-form class="formview vertical layout flex"><div class="widget-area vertical layout"></div></colab-form></div>
    <div class="output"><!----> <div class="output-header"> </div>
        <div class="output-content">
          <div class="output-info"><colab-output-info title="Clear output

executed at unknown time" hovering=""><template shadowrootmode="open"><!----> <md-icon class="collaborator account-circle" alt="Execution output" aria-hidden="true"><template shadowrootmode="open"><!----><slot></slot></template><!--?lit$0292179355$-->account_circle</md-icon>
      <!--?lit$0292179355$--> <mwc-icon-button icon="cancel" command="clear-focused-or-selected-outputs" alt="Clear output"><template shadowrootmode="open"><!----><button class="mdc-icon-button mdc-icon-button--display-flex" aria-label="cancel"><!--?lit$0292179355$-->
    <!--?lit$0292179355$--><i class="material-icons"><!--?lit$0292179355$-->cancel</i>
    <span><slot></slot></span>
  </button></template>
          </mwc-icon-button><!--?--></template></colab-output-info></div>
          <div class="output-iframe-container">
            <div class="output-iframe-sizer"> <div><div><colab-static-output-renderer tabindex="0" role="group"><div><div class="stream output_text"><pre>Mounted at /content/gdrive
</pre></div></div><div></div></colab-static-output-renderer></div></div><div><div></div></div></div>
          </div>
        </div></div></div><colab-cell-next-steps><template shadowrootmode="open"><!----></template></colab-cell-next-steps></div></div><div class="add-cell">
      <div class="add-cell-buttons">
        <md-outlined-button class="add-code add-button" aria-label="Add code cell
Ctrl+M B" title="Add code cell
Ctrl+M B" role="presentation" value="" has-icon=""><template shadowrootmode="open" shadowrootdelegatesfocus><!---->
      <!--?lit$0292179355$--><div class="outline"></div>
      <div class="background"></div>
      <md-focus-ring part="focus-ring" for="button" aria-hidden="true"><template shadowrootmode="open"><!----></template></md-focus-ring>
      <md-ripple for="button" aria-hidden="true"><template shadowrootmode="open"><!----><div class="surface   "></div></template></md-ripple>
      <!--?lit$0292179355$--><button id="button" class="button" aria-label="Add code cell
Ctrl+M B">
      <!--?lit$0292179355$-->
      <span class="touch"></span>
      <!--?lit$0292179355$--><slot name="icon"></slot>
      <span class="label"><slot></slot></span>
      <!--?lit$0292179355$-->
    
    </button>
    </template>
          <md-icon slot="icon" aria-hidden="true"><template shadowrootmode="open"><!----><slot></slot></template>add</md-icon>
          <!--?lit$0292179355$-->Code
        </md-outlined-button>
        <md-outlined-button class="add-text add-button" aria-label="Add text cell" title="Add text cell" role="presentation" value="" has-icon=""><template shadowrootmode="open" shadowrootdelegatesfocus><!---->
      <!--?lit$0292179355$--><div class="outline"></div>
      <div class="background"></div>
      <md-focus-ring part="focus-ring" for="button" aria-hidden="true"><template shadowrootmode="open"><!----></template></md-focus-ring>
      <md-ripple for="button" aria-hidden="true"><template shadowrootmode="open"><!----><div class="surface   "></div></template></md-ripple>
      <!--?lit$0292179355$--><button id="button" class="button" aria-label="Add text cell">
      <!--?lit$0292179355$-->
      <span class="touch"></span>
      <!--?lit$0292179355$--><slot name="icon"></slot>
      <span class="label"><slot></slot></span>
      <!--?lit$0292179355$-->
    
    </button>
    </template>
          <md-icon slot="icon" aria-hidden="true"><template shadowrootmode="open"><!----><slot></slot></template>add</md-icon>
          <!--?lit$0292179355$-->Text
        </md-outlined-button>
        <!--?lit$0292179355$-->
      </div><hr>
    </div></div><div class="cell code icon-scrolling" id="cell-807c46b3" tabindex="-1" role="region" aria-label="Cell 1: Code cell: " style=""><div class="cell-tag-editor sticky"></div><div class="cell-toolbar sticky"></div><div class="main-content" elevation="0"><div class="cell-contents"><div class="cell-mask"></div><span class="imported-info-area"></span><div class="codecell-input-output">
      <div class="inputarea horizontal layout code">
        <div class="cell-gutter">
          <!-- Bounding range for vertical scrolling of icons -->
          <div class="cell-execution-container">
            <colab-run-button title="Run cell (Ctrl+Enter)
cell has not been executed in this session" role="button" aria-label="Run cell"><template shadowrootmode="open"><!----> <div class="cell-execution stale">
      <div class="execution-count"><!--?lit$0292179355$-->[ ]</div>
      <div class="cell-execution-indicator"> <!--?lit$0292179355$-->
<svg xmlns="http://www.w3.org/2000/svg" viewBox="0 0 24 24">
  <!--?lit$0292179355$-->
  <mask id="playSymbolMask">
    <rect width="100%" height="100%" fill="white"></rect>
    <polygon points="10,8 17,12 10,16" fill="black"></polygon>
  </mask>
  <circle cx="12" cy="12" r="7.8" mask="url(#playSymbolMask)" id="filledCircle"></circle>
</svg> </div>
      <!--?lit$0292179355$--><!--?-->
    </div></template></colab-run-button>
          </div>
        </div>
      <div class="editor flex lazy-editor" style=""><div class="editor flex monaco" data-keybinding-context="2" data-mode-id="notebook-python" style="height: 352px; --vscode-editorCodeLens-lineHeight: 16px; --vscode-editorCodeLens-fontSize: 12px; --vscode-editorCodeLens-fontFeatureSettings: &quot;liga&quot; off, &quot;calt&quot; off;"><div class="monaco-editor no-user-select  showUnused showDeprecated vs-dark" role="code" data-uri="inmemory://model/4" style="width: 1581px; height: 352px;"><div data-mprt="3" class="overflow-guard" style="width: 1581px; height: 352px;"><div class="margin" role="presentation" aria-hidden="true" style="position: absolute; contain: strict; will-change: unset; top: 0px; height: 352px; width: 6px;"><div class="glyph-margin" style="left: 0px; width: 0px; height: 352px;"></div><div class="margin-view-zones" role="presentation" aria-hidden="true" style="position: absolute;"></div><div class="margin-view-overlays" role="presentation" aria-hidden="true" style="position: absolute; font-family: monospace, Consolas, &quot;Courier New&quot;, monospace; font-weight: normal; font-size: 14px; font-feature-settings: &quot;liga&quot; 0, &quot;calt&quot; 0; font-variation-settings: normal; line-height: 19px; letter-spacing: 0px; width: 6px; height: 352px;"><div style="position:absolute;top:0px;width:100%;height:19px;"><div class="current-line current-line-margin-both" style="width:6px; height:19px;"></div></div><div style="position:absolute;top:19px;width:100%;height:19px;"></div><div style="position:absolute;top:38px;width:100%;height:19px;"></div><div style="position:absolute;top:57px;width:100%;height:19px;"></div><div style="position:absolute;top:76px;width:100%;height:19px;"></div><div style="position:absolute;top:95px;width:100%;height:19px;"></div><div style="position:absolute;top:114px;width:100%;height:19px;"></div><div style="position:absolute;top:133px;width:100%;height:19px;"></div><div style="position:absolute;top:152px;width:100%;height:19px;"></div><div style="position:absolute;top:171px;width:100%;height:19px;"></div><div style="position:absolute;top:190px;width:100%;height:19px;"></div><div style="position:absolute;top:209px;width:100%;height:19px;"></div><div style="position:absolute;top:228px;width:100%;height:19px;"></div><div style="position:absolute;top:247px;width:100%;height:19px;"></div><div style="position:absolute;top:266px;width:100%;height:19px;"></div><div style="position:absolute;top:285px;width:100%;height:19px;"></div><div style="position:absolute;top:304px;width:100%;height:19px;"></div><div style="position:absolute;top:323px;width:100%;height:19px;"></div></div><div class="glyph-margin-widgets" style="position: absolute; top: 0px;"></div></div><div class="monaco-scrollable-element editor-scrollable vs-dark" role="presentation" data-mprt="5" style="position: absolute; overflow: hidden; left: 6px; width: 1575px; height: 352px;"><div class="lines-content monaco-editor-background" style="position: absolute; overflow: hidden; width: 1e+06px; height: 352px; contain: strict; will-change: unset; top: 0px; left: 0px;"><div class="view-overlays" role="presentation" aria-hidden="true" style="position: absolute; font-family: monospace, Consolas, &quot;Courier New&quot;, monospace; font-weight: normal; font-size: 14px; font-feature-settings: &quot;liga&quot; 0, &quot;calt&quot; 0; font-variation-settings: normal; line-height: 19px; letter-spacing: 0px; height: 0px; width: 1575px;"><div style="position:absolute;top:0px;width:100%;height:19px;"><div class="current-line" style="width:1575px; height:19px;"></div></div><div style="position:absolute;top:19px;width:100%;height:19px;"></div><div style="position:absolute;top:38px;width:100%;height:19px;"></div><div style="position:absolute;top:57px;width:100%;height:19px;"></div><div style="position:absolute;top:76px;width:100%;height:19px;"></div><div style="position:absolute;top:95px;width:100%;height:19px;"></div><div style="position:absolute;top:114px;width:100%;height:19px;"></div><div style="position:absolute;top:133px;width:100%;height:19px;"></div><div style="position:absolute;top:152px;width:100%;height:19px;"></div><div style="position:absolute;top:171px;width:100%;height:19px;"></div><div style="position:absolute;top:190px;width:100%;height:19px;"></div><div style="position:absolute;top:209px;width:100%;height:19px;"></div><div style="position:absolute;top:228px;width:100%;height:19px;"></div><div style="position:absolute;top:247px;width:100%;height:19px;"></div><div style="position:absolute;top:266px;width:100%;height:19px;"></div><div style="position:absolute;top:285px;width:100%;height:19px;"></div><div style="position:absolute;top:304px;width:100%;height:19px;"></div><div style="position:absolute;top:323px;width:100%;height:19px;"></div></div><div role="presentation" aria-hidden="true" class="view-rulers"></div><div class="view-zones" role="presentation" aria-hidden="true" style="position: absolute;"></div><div class="view-lines monaco-mouse-cursor-text" role="presentation" aria-hidden="true" data-mprt="7" style="position: absolute; font-family: monospace, Consolas, &quot;Courier New&quot;, monospace; font-weight: normal; font-size: 14px; font-feature-settings: &quot;liga&quot; 0, &quot;calt&quot; 0; font-variation-settings: normal; line-height: 19px; letter-spacing: 0px; width: 1575px; height: 352px;"><div style="top:0px;height:19px;" class="view-line"><span><span class="mtk8">#&nbsp;imports</span></span></div><div style="top:19px;height:19px;" class="view-line"><span><span class="mtk18">import</span><span class="mtk1">&nbsp;numpy&nbsp;</span><span class="mtk18">as</span><span class="mtk1">&nbsp;np</span></span></div><div style="top:38px;height:19px;" class="view-line"><span><span class="mtk18">import</span><span class="mtk1">&nbsp;pandas&nbsp;</span><span class="mtk18">as</span><span class="mtk1">&nbsp;pd</span></span></div><div style="top:57px;height:19px;" class="view-line"><span><span class="mtk18">import</span><span class="mtk1">&nbsp;matplotlib.pyplot&nbsp;</span><span class="mtk18">as</span><span class="mtk1">&nbsp;plt</span></span></div><div style="top:76px;height:19px;" class="view-line"><span><span class="mtk18">import</span><span class="mtk1">&nbsp;plotly.express&nbsp;</span><span class="mtk18">as</span><span class="mtk1">&nbsp;px</span></span></div><div style="top:95px;height:19px;" class="view-line"><span><span class="mtk18">import</span><span class="mtk1">&nbsp;seaborn&nbsp;</span><span class="mtk18">as</span><span class="mtk1">&nbsp;sns</span></span></div><div style="top:114px;height:19px;" class="view-line"><span><span class="mtk18">import</span><span class="mtk1">&nbsp;json</span></span></div><div style="top:133px;height:19px;" class="view-line"><span><span class="mtk18">import</span><span class="mtk1">&nbsp;ipywidgets&nbsp;</span><span class="mtk18">as</span><span class="mtk1">&nbsp;widgets</span></span></div><div style="top:152px;height:19px;" class="view-line"><span><span class="mtk18">import</span><span class="mtk1">&nbsp;plotly</span></span></div><div style="top:171px;height:19px;" class="view-line"><span><span class="mtk18">import</span><span class="mtk1">&nbsp;scipy</span></span></div><div style="top:190px;height:19px;" class="view-line"><span><span class="mtk17">%matplotlib&nbsp;</span><span class="mtk1">inline</span></span></div><div style="top:209px;height:19px;" class="view-line"><span><span class="mtk18">import</span><span class="mtk1">&nbsp;folium</span></span></div><div style="top:228px;height:19px;" class="view-line"><span><span class="mtk18">import</span><span class="mtk1">&nbsp;geopandas</span></span></div><div style="top:247px;height:19px;" class="view-line"><span><span></span></span></div><div style="top:266px;height:19px;" class="view-line"><span><span class="mtk1">plt.style.use</span><span class="mtk12 bracket-highlighting-0">(</span><span class="mtk5">"fivethirtyeight"</span><span class="mtk12 bracket-highlighting-0">)</span></span></div><div style="top:285px;height:19px;" class="view-line"><span><span></span></span></div><div style="top:304px;height:19px;" class="view-line"><span><span></span></span></div><div style="top:323px;height:19px;" class="view-line"><span><span></span></span></div></div><div data-mprt="1" class="contentWidgets" style="position: absolute; top: 0px;"></div><div role="presentation" aria-hidden="true" class="cursors-layer cursor-line-style cursor-solid"><div class="cursor monaco-mouse-cursor-text " style="height: 19px; top: 0px; left: 0px; font-family: monospace, Consolas, &quot;Courier New&quot;, monospace; font-weight: normal; font-size: 14px; font-feature-settings: &quot;liga&quot; 0, &quot;calt&quot; 0; font-variation-settings: normal; line-height: 19px; letter-spacing: 0px; display: block; visibility: hidden; padding-left: 0px; width: 1.77778px;"></div></div></div><div role="presentation" aria-hidden="true" class="invisible scrollbar horizontal" style="position: absolute; width: 1561px; height: 10px; left: 0px; bottom: 0px;"><div class="slider" style="position: absolute; top: 0px; left: 0px; height: 10px; transform: translate3d(0px, 0px, 0px); contain: strict; will-change: unset; width: 1561px;"></div></div><canvas class="decorationsOverviewRuler" aria-hidden="true" width="15" height="396" style="position: absolute; transform: translate3d(0px, 0px, 0px); contain: strict; top: 0px; right: 0px; width: 14px; height: 352px; will-change: unset; display: block;"></canvas><div role="presentation" aria-hidden="true" class="invisible scrollbar vertical" style="position: absolute; width: 14px; height: 352px; right: 0px; top: 0px;"><div class="slider" style="position: absolute; top: 0px; left: 0px; width: 14px; transform: translate3d(0px, 0px, 0px); contain: strict; will-change: unset; height: 352px;"></div></div></div><div role="presentation" aria-hidden="true" style="width: 1581px;"></div><textarea data-mprt="6" class="inputarea monaco-mouse-cursor-text" wrap="on" autocorrect="off" autocapitalize="off" autocomplete="off" spellcheck="false" aria-label="Editor content;Press Alt+F1 for Accessibility Options." tabindex="0" role="textbox" aria-roledescription="editor" aria-multiline="true" aria-haspopup="false" aria-autocomplete="both" style="tab-size: 15.3984px; font-family: monospace, Consolas, &quot;Courier New&quot;, monospace; font-weight: normal; font-size: 14px; font-feature-settings: &quot;liga&quot; 0, &quot;calt&quot; 0; font-variation-settings: normal; line-height: 19px; letter-spacing: 0px; top: 0px; left: 6px; width: 1581px; height: 1px;"></textarea><div class="monaco-editor-background textAreaCover" style="position: absolute; top: 0px; left: 0px; width: 0px; height: 0px;"></div><div data-mprt="4" class="overlayWidgets" style="width: 1581px;"><div widgetid="editor.contrib.quickInputWidget" style="position: absolute; top: 0px; right: 50%;"></div></div><div data-mprt="8" class="minimap slider-mouseover" role="presentation" aria-hidden="true" style="position: absolute; left: 0px; width: 0px; height: 352px;"><div class="minimap-shadow-hidden" style="height: 352px;"></div><canvas width="0" height="396" style="position: absolute; left: 0px; width: 0px; height: 352px;"></canvas><canvas class="minimap-decorations-layer" width="0" height="396" style="position: absolute; left: 0px; width: 0px; height: 352px;"></canvas><div class="minimap-slider" style="position: absolute; transform: translate3d(0px, 0px, 0px); contain: strict; width: 0px; will-change: unset;"><div class="minimap-slider-horizontal" style="position: absolute; width: 0px; height: 0px;"></div></div></div><div role="presentation" aria-hidden="true" class="blockDecorations-container"></div></div><div data-mprt="2" class="overflowingContentWidgets"><div widgetid="editor.contrib.resizableContentHoverWidget" style="position: fixed; height: 10px; width: 10px; z-index: 50; display: none; visibility: hidden; max-width: 1707px;"><div class="monaco-sash vertical" style="left: 8px;"></div><div class="monaco-sash vertical" style="left: -2px;"></div><div class="monaco-sash orthogonal-edge-north horizontal" style="top: -2px;"><div class="orthogonal-drag-handle start"></div><div class="orthogonal-drag-handle end"></div></div><div class="monaco-sash orthogonal-edge-south horizontal" style="top: 8px;"><div class="orthogonal-drag-handle start"></div><div class="orthogonal-drag-handle end"></div></div><div class="monaco-hover hidden" tabindex="0" role="tooltip"><div class="monaco-scrollable-element " role="presentation" style="position: relative; overflow: hidden;"><div class="monaco-hover-content" style="overflow: hidden; font-size: 14px; line-height: 1.35714; max-width: 1043.46px; max-height: 250px;"></div><div role="presentation" aria-hidden="true" class="invisible scrollbar horizontal" style="position: absolute;"><div class="slider" style="position: absolute; top: 0px; left: 0px; height: 10px; transform: translate3d(0px, 0px, 0px); contain: strict;"></div></div><div role="presentation" aria-hidden="true" class="invisible scrollbar vertical" style="position: absolute;"><div class="slider" style="position: absolute; top: 0px; left: 0px; width: 10px; transform: translate3d(0px, 0px, 0px); contain: strict;"></div></div><div class="shadow"></div><div class="shadow"></div><div class="shadow"></div></div></div></div></div><div class=".in-cell-overflowing"></div></div></div></div><colab-form class="formview vertical layout flex"><div class="widget-area vertical layout"></div></colab-form></div>
    <div class="output"><!----> <div class="output-header"> </div>
        <div class="output-content" style="display: none;">
          <div class="output-info"> </div>
          <div class="output-iframe-container">
            <div class="output-iframe-sizer"> </div>
          </div>
        </div></div></div><colab-cell-next-steps><template shadowrootmode="open"><!----></template></colab-cell-next-steps></div></div><div class="add-cell">
      <hr>
    </div></div><div class="cell text" id="cell-8c2bbf94" tabindex="-1" role="region" aria-label="Cell 2: Text cell: Load Airbnb Dataset" style=""><div class="cell-tag-editor sticky"></div><div class="cell-toolbar sticky"></div><div class="main-content" elevation="0"><div class="cell-contents"><div class="cell-mask"></div><span class="imported-info-area"></span><!----> <div class="toolbar-root"></div>
      <div class="editor-container horizontal">
        <div class="editor-root"></div>
        <div class="text-top-div">
          <div class="markdown"><span><div class="text-cell-section-header layout horizontal center"><mwc-icon-button class="header-section-toggle" icon="keyboard_arrow_down" title="Collapse 1 child cell under Load Airbnb Dataset (Press &lt;Shift&gt; to also collapse sibling sections)"><template shadowrootmode="open"><!----><button class="mdc-icon-button mdc-icon-button--display-flex" aria-label="keyboard_arrow_down"><!--?lit$0292179355$-->
    <!--?lit$0292179355$--><i class="material-icons"><!--?lit$0292179355$-->keyboard_arrow_down</i>
    <span><slot></slot></span>
  </button></template></mwc-icon-button><h1>Load Airbnb Dataset</h1></div>
</span></div>
        </div>
      </div>

      <div class="section-header" style="display: none;">
        <colab-run-button role="button" aria-label="Run cell"><template shadowrootmode="open"><!----> <div class="cell-execution">
      <div class="execution-count"><!--?lit$0292179355$-->[ ]</div>
      <div class="cell-execution-indicator"> <!--?lit$0292179355$-->
<svg xmlns="http://www.w3.org/2000/svg" viewBox="0 0 24 24">
  <!--?lit$0292179355$-->
  <mask id="playSymbolMask">
    <rect width="100%" height="100%" fill="white"></rect>
    <polygon points="10,8 17,12 10,16" fill="black"></polygon>
  </mask>
  <circle cx="12" cy="12" r="7.8" mask="url(#playSymbolMask)" id="filledCircle"></circle>
</svg> </div>
      <!--?lit$0292179355$--><!--?-->
    </div></template></colab-run-button>
        <div class="section-header-container" title="click to expand">↳ 1 cell hidden</div>
      </div></div></div><div class="add-cell">
      <div class="add-cell-buttons">
        <md-outlined-button class="add-code add-button" aria-label="Add code cell
Ctrl+M B" title="Add code cell
Ctrl+M B" role="presentation" value="" has-icon=""><template shadowrootmode="open" shadowrootdelegatesfocus><!---->
      <!--?lit$0292179355$--><div class="outline"></div>
      <div class="background"></div>
      <md-focus-ring part="focus-ring" for="button" aria-hidden="true"><template shadowrootmode="open"><!----></template></md-focus-ring>
      <md-ripple for="button" aria-hidden="true"><template shadowrootmode="open"><!----><div class="surface   "></div></template></md-ripple>
      <!--?lit$0292179355$--><button id="button" class="button" aria-label="Add code cell
Ctrl+M B">
      <!--?lit$0292179355$-->
      <span class="touch"></span>
      <!--?lit$0292179355$--><slot name="icon"></slot>
      <span class="label"><slot></slot></span>
      <!--?lit$0292179355$-->
    
    </button>
    </template>
          <md-icon slot="icon" aria-hidden="true"><template shadowrootmode="open"><!----><slot></slot></template>add</md-icon>
          <!--?lit$0292179355$-->Code
        </md-outlined-button>
        <md-outlined-button class="add-text add-button" aria-label="Add text cell" title="Add text cell" role="presentation" value="" has-icon=""><template shadowrootmode="open" shadowrootdelegatesfocus><!---->
      <!--?lit$0292179355$--><div class="outline"></div>
      <div class="background"></div>
      <md-focus-ring part="focus-ring" for="button" aria-hidden="true"><template shadowrootmode="open"><!----></template></md-focus-ring>
      <md-ripple for="button" aria-hidden="true"><template shadowrootmode="open"><!----><div class="surface   "></div></template></md-ripple>
      <!--?lit$0292179355$--><button id="button" class="button" aria-label="Add text cell">
      <!--?lit$0292179355$-->
      <span class="touch"></span>
      <!--?lit$0292179355$--><slot name="icon"></slot>
      <span class="label"><slot></slot></span>
      <!--?lit$0292179355$-->
    
    </button>
    </template>
          <md-icon slot="icon" aria-hidden="true"><template shadowrootmode="open"><!----><slot></slot></template>add</md-icon>
          <!--?lit$0292179355$-->Text
        </md-outlined-button>
        <!--?lit$0292179355$-->
      </div><hr>
    </div></div><div class="cell code code-has-output icon-scrolling" id="cell-6d5ecca5" tabindex="-1" role="region" aria-label="Cell 3: Code cell: " style=""><div class="cell-tag-editor sticky"></div><div class="cell-toolbar sticky"></div><div class="main-content" elevation="0"><div class="cell-contents"><div class="cell-mask"></div><span class="imported-info-area"></span><div class="codecell-input-output">
      <div class="inputarea horizontal layout code">
        <div class="cell-gutter">
          <!-- Bounding range for vertical scrolling of icons -->
          <div class="cell-execution-container">
            <colab-run-button title="Run cell (Ctrl+Enter)
cell has not been executed in this session

executed at unknown time" role="button" aria-label="Run cell"><template shadowrootmode="open"><!----> <div class="cell-execution stale">
      <div class="execution-count"><!--?lit$0292179355$-->[ ]</div>
      <div class="cell-execution-indicator"> <!--?lit$0292179355$-->
<svg xmlns="http://www.w3.org/2000/svg" viewBox="0 0 24 24">
  <!--?lit$0292179355$-->
  <mask id="playSymbolMask">
    <rect width="100%" height="100%" fill="white"></rect>
    <polygon points="10,8 17,12 10,16" fill="black"></polygon>
  </mask>
  <circle cx="12" cy="12" r="7.8" mask="url(#playSymbolMask)" id="filledCircle"></circle>
</svg> </div>
      <!--?lit$0292179355$--><!--?-->
    </div></template></colab-run-button>
          </div>
        </div>
      <div class="editor flex lazy-editor" style=""><div class="editor flex monaco" data-keybinding-context="3" data-mode-id="notebook-python" style="height: 67px; --vscode-editorCodeLens-lineHeight: 16px; --vscode-editorCodeLens-fontSize: 12px; --vscode-editorCodeLens-fontFeatureSettings: &quot;liga&quot; off, &quot;calt&quot; off;"><div class="monaco-editor no-user-select  showUnused showDeprecated vs-dark" role="code" data-uri="inmemory://model/6" style="width: 1581px; height: 67px;"><div data-mprt="3" class="overflow-guard" style="width: 1581px; height: 67px;"><div class="margin" role="presentation" aria-hidden="true" style="position: absolute; contain: strict; will-change: unset; top: 0px; height: 67px; width: 6px;"><div class="glyph-margin" style="left: 0px; width: 0px; height: 67px;"></div><div class="margin-view-zones" role="presentation" aria-hidden="true" style="position: absolute;"></div><div class="margin-view-overlays" role="presentation" aria-hidden="true" style="position: absolute; font-family: monospace, Consolas, &quot;Courier New&quot;, monospace; font-weight: normal; font-size: 14px; font-feature-settings: &quot;liga&quot; 0, &quot;calt&quot; 0; font-variation-settings: normal; line-height: 19px; letter-spacing: 0px; width: 6px; height: 67px;"><div style="position:absolute;top:0px;width:100%;height:19px;"><div class="current-line current-line-margin-both" style="width:6px; height:19px;"></div></div><div style="position:absolute;top:19px;width:100%;height:19px;"></div><div style="position:absolute;top:38px;width:100%;height:19px;"></div></div><div class="glyph-margin-widgets" style="position: absolute; top: 0px;"></div></div><div class="monaco-scrollable-element editor-scrollable vs-dark" role="presentation" data-mprt="5" style="position: absolute; overflow: hidden; left: 6px; width: 1575px; height: 67px;"><div class="lines-content monaco-editor-background" style="position: absolute; overflow: hidden; width: 1e+06px; height: 67px; contain: strict; will-change: unset; top: 0px; left: 0px;"><div class="view-overlays" role="presentation" aria-hidden="true" style="position: absolute; font-family: monospace, Consolas, &quot;Courier New&quot;, monospace; font-weight: normal; font-size: 14px; font-feature-settings: &quot;liga&quot; 0, &quot;calt&quot; 0; font-variation-settings: normal; line-height: 19px; letter-spacing: 0px; height: 0px; width: 1575px;"><div style="position:absolute;top:0px;width:100%;height:19px;"><div class="current-line" style="width:1575px; height:19px;"></div></div><div style="position:absolute;top:19px;width:100%;height:19px;"></div><div style="position:absolute;top:38px;width:100%;height:19px;"></div></div><div role="presentation" aria-hidden="true" class="view-rulers"><div class="view-ruler" style="width: 2px; height: 67px; left: 615.938px;"></div></div><div class="view-zones" role="presentation" aria-hidden="true" style="position: absolute;"></div><div class="view-lines monaco-mouse-cursor-text" role="presentation" aria-hidden="true" data-mprt="7" style="position: absolute; font-family: monospace, Consolas, &quot;Courier New&quot;, monospace; font-weight: normal; font-size: 14px; font-feature-settings: &quot;liga&quot; 0, &quot;calt&quot; 0; font-variation-settings: normal; line-height: 19px; letter-spacing: 0px; width: 1575px; height: 67px;"><div style="top:0px;height:19px;" class="view-line"><span><span class="mtk8">#&nbsp;Files&nbsp;to&nbsp;Load</span></span></div><div style="top:19px;height:19px;" class="view-line"><span><span class="mtk1">listings_df=&nbsp;pd.read_csv</span><span class="mtk12 bracket-highlighting-0">(</span><span class="mtk5">"</span><span class="mtk5 detected-link">/content/gdrive/MyDrive/Colab</span><span class="mtk5">&nbsp;Notebooks/Project4&nbsp;/listings.csv"</span><span class="mtk12 bracket-highlighting-0">)</span></span></div><div style="top:38px;height:19px;" class="view-line"><span><span class="mtk1">listings_df</span></span></div></div><div data-mprt="1" class="contentWidgets" style="position: absolute; top: 0px;"></div><div role="presentation" aria-hidden="true" class="cursors-layer cursor-line-style cursor-solid"><div class="cursor monaco-mouse-cursor-text " style="height: 19px; top: 0px; left: 0px; font-family: monospace, Consolas, &quot;Courier New&quot;, monospace; font-weight: normal; font-size: 14px; font-feature-settings: &quot;liga&quot; 0, &quot;calt&quot; 0; font-variation-settings: normal; line-height: 19px; letter-spacing: 0px; display: block; visibility: hidden; padding-left: 0px; width: 1.77778px;"></div></div></div><div role="presentation" aria-hidden="true" class="invisible scrollbar horizontal" style="position: absolute; width: 1561px; height: 10px; left: 0px; bottom: 0px;"><div class="slider" style="position: absolute; top: 0px; left: 0px; height: 10px; transform: translate3d(0px, 0px, 0px); contain: strict; will-change: unset; width: 1561px;"></div></div><canvas class="decorationsOverviewRuler" aria-hidden="true" width="15" height="75" style="position: absolute; transform: translate3d(0px, 0px, 0px); contain: strict; top: 0px; right: 0px; width: 14px; height: 67px; will-change: unset; display: block;"></canvas><div role="presentation" aria-hidden="true" class="invisible scrollbar vertical" style="position: absolute; width: 14px; height: 67px; right: 0px; top: 0px;"><div class="slider" style="position: absolute; top: 0px; left: 0px; width: 14px; transform: translate3d(0px, 0px, 0px); contain: strict; will-change: unset; height: 67px;"></div></div></div><div role="presentation" aria-hidden="true" style="width: 1581px;"></div><textarea data-mprt="6" class="inputarea monaco-mouse-cursor-text" wrap="on" autocorrect="off" autocapitalize="off" autocomplete="off" spellcheck="false" aria-label="Editor content;Press Alt+F1 for Accessibility Options." tabindex="0" role="textbox" aria-roledescription="editor" aria-multiline="true" aria-haspopup="false" aria-autocomplete="both" style="tab-size: 15.3984px; font-family: monospace, Consolas, &quot;Courier New&quot;, monospace; font-weight: normal; font-size: 14px; font-feature-settings: &quot;liga&quot; 0, &quot;calt&quot; 0; font-variation-settings: normal; line-height: 19px; letter-spacing: 0px; top: 0px; left: 6px; width: 1581px; height: 1px;"></textarea><div class="monaco-editor-background textAreaCover" style="position: absolute; top: 0px; left: 0px; width: 0px; height: 0px;"></div><div data-mprt="4" class="overlayWidgets" style="width: 1581px;"><div widgetid="editor.contrib.quickInputWidget" style="position: absolute; top: 0px; right: 50%;"></div></div><div data-mprt="8" class="minimap slider-mouseover" role="presentation" aria-hidden="true" style="position: absolute; left: 0px; width: 0px; height: 67px;"><div class="minimap-shadow-hidden" style="height: 67px;"></div><canvas width="0" height="75" style="position: absolute; left: 0px; width: 0px; height: 67px;"></canvas><canvas class="minimap-decorations-layer" width="0" height="75" style="position: absolute; left: 0px; width: 0px; height: 67px;"></canvas><div class="minimap-slider" style="position: absolute; transform: translate3d(0px, 0px, 0px); contain: strict; width: 0px; will-change: unset;"><div class="minimap-slider-horizontal" style="position: absolute; width: 0px; height: 0px;"></div></div></div><div role="presentation" aria-hidden="true" class="blockDecorations-container"></div></div><div data-mprt="2" class="overflowingContentWidgets"><div widgetid="editor.contrib.resizableContentHoverWidget" style="position: fixed; height: 10px; width: 10px; z-index: 50; display: none; visibility: hidden; max-width: 1707px;"><div class="monaco-sash vertical" style="left: 8px;"></div><div class="monaco-sash vertical" style="left: -2px;"></div><div class="monaco-sash orthogonal-edge-north horizontal" style="top: -2px;"><div class="orthogonal-drag-handle start"></div><div class="orthogonal-drag-handle end"></div></div><div class="monaco-sash orthogonal-edge-south horizontal" style="top: 8px;"><div class="orthogonal-drag-handle start"></div><div class="orthogonal-drag-handle end"></div></div><div class="monaco-hover hidden" tabindex="0" role="tooltip"><div class="monaco-scrollable-element " role="presentation" style="position: relative; overflow: hidden;"><div class="monaco-hover-content" style="overflow: hidden; font-size: 14px; line-height: 1.35714; max-width: 1043.46px; max-height: 250px;"></div><div role="presentation" aria-hidden="true" class="invisible scrollbar horizontal" style="position: absolute;"><div class="slider" style="position: absolute; top: 0px; left: 0px; height: 10px; transform: translate3d(0px, 0px, 0px); contain: strict;"></div></div><div role="presentation" aria-hidden="true" class="invisible scrollbar vertical" style="position: absolute;"><div class="slider" style="position: absolute; top: 0px; left: 0px; width: 10px; transform: translate3d(0px, 0px, 0px); contain: strict;"></div></div><div class="shadow"></div><div class="shadow"></div><div class="shadow"></div></div></div></div></div><div class=".in-cell-overflowing"></div></div></div></div><colab-form class="formview vertical layout flex"><div class="widget-area vertical layout"></div></colab-form></div>
    <div class="output"><!----> <div class="output-header"> </div>
        <div class="output-content">
          <div class="output-info"><colab-output-info title="Clear output

executed at unknown time" hovering=""><template shadowrootmode="open"><!----> <md-icon class="collaborator account-circle" alt="Execution output" aria-hidden="true"><template shadowrootmode="open"><!----><slot></slot></template><!--?lit$0292179355$-->account_circle</md-icon>
      <!--?lit$0292179355$--> <mwc-icon-button icon="cancel" command="clear-focused-or-selected-outputs" alt="Clear output"><template shadowrootmode="open"><!----><button class="mdc-icon-button mdc-icon-button--display-flex" aria-label="cancel"><!--?lit$0292179355$-->
    <!--?lit$0292179355$--><i class="material-icons"><!--?lit$0292179355$-->cancel</i>
    <span><slot></slot></span>
  </button></template>
          </mwc-icon-button><!--?--></template></colab-output-info></div>
          <div class="output-iframe-container">
            <div class="output-iframe-sizer"> <div style=""><div class="outputview" style="height: 1000px;"><colab-dom-lifecycle-events style="display: none;"></colab-dom-lifecycle-events><iframe allow="" sandbox="allow-downloads allow-forms allow-pointer-lock allow-popups allow-same-origin allow-scripts allow-storage-access-by-user-activation allow-popups-to-escape-sandbox" src="./Airbnb_Paris__files/outputframe.html" class="" style="height: 1000px;"></iframe></div></div></div>
          </div>
        </div></div></div><colab-cell-next-steps><template shadowrootmode="open"><!----></template></colab-cell-next-steps></div></div><div class="add-cell">
      <hr>
    </div></div><div class="cell text" id="cell-e57ee69c" tabindex="-1" role="region" aria-label="Cell 4: Text cell: About the Dataset – Airbnb Bookings" style=""><div class="cell-tag-editor sticky"></div><div class="cell-toolbar sticky"></div><div class="main-content" elevation="0"><div class="cell-contents"><div class="cell-mask"></div><span class="imported-info-area"></span><!----> <div class="toolbar-root"></div>
      <div class="editor-container horizontal">
        <div class="editor-root"></div>
        <div class="text-top-div">
          <div class="markdown"><span><div class="text-cell-section-header layout horizontal center"><mwc-icon-button class="header-section-toggle" icon="keyboard_arrow_down" title="Collapse 31 child cells under About the Dataset – Airbnb Bookings (Press &lt;Shift&gt; to also collapse sibling sections)"><template shadowrootmode="open"><!----><button class="mdc-icon-button mdc-icon-button--display-flex" aria-label="keyboard_arrow_down"><!--?lit$0292179355$-->
    <!--?lit$0292179355$--><i class="material-icons"><!--?lit$0292179355$-->keyboard_arrow_down</i>
    <span><slot></slot></span>
  </button></template></mwc-icon-button><h1>About the Dataset – Airbnb Bookings</h1></div>
<p>This Airbnb dataset contains over 74,000 observations from Paris , with 18 columns of data.</p>
<p>The Data includes both categorical and numeric values, providing a diverse range of information about the listings.</p>
<p>This Dataset may be useful for analyzing trends and patterns in the Airbnb market in Paris and also gain insights into the preferences and behavior of Airbnb users in the area.</p>
<p>This dataset contains information about Airbnb bookings in Paris in 2023. By analyzing this data, you may be able to understand the trends and patterns of Airbnb use in the Paris.</p>
<h1><img src="data:image/png;base64,iVBORw0KGgoAAAANSUhEUgAAAh4AAAL0CAYAAABDHD6uAAAAAXNSR0IArs4c6QAAAARnQU1BAACxjwv8YQUAAAAJcEhZcwAAEnQAABJ0Ad5mH3gAAP+lSURBVHhe7N0FYBzF/gfw755L3D2ppe4KtLS4S4u7FHd/8MflAQ/XAm2BAsXdKYXSIhXqLmnTuNvlXPc/s7dpcmk8F2ny+7y3dGd273Kyt/Pb2RFBZEAIIYQQ0g0U8r+EEEIIIV2OAg9CCCGEdBsKPAghhBDSbSjwIIQQQki3ocCDEEIIId2GAg9CCCGEdBsKPAghhBDSbSjwIIQQQki3ocCDEEIIId2GAg9CCCGEdBsKPAghhBDSbSjwIIQQQki3ocCDEEIIId2GAg9CCCGEdBsKPAghhBDSbSjwIIQQQki3ocCDEEIIId2GAg9CCCGEdBsKPAghhBDSbSjwIIQQQki3ocCDEEIIId2GAg9CCCGEdBtBZOR1EmTSR8sWQU43R/oCBMG/H/uXEEKIfA71nyFbPI/W7UHn0EMDBR5BlrNrBzR/bUJsZTE8Vgf263xQJ6XAExuLkPAoaEONbC/2kbOP3WIyw1xSivCaaihKzUjwuqEKjUTuwDhEzjgCEXFx/iclhJB+wOv1omDfLngr1yIlpAoWuw/FtWp4NXEQ9PEIN+gREhomBRcejxM2iwU1ZeUwaEoheKxIDLUDmgjkOIchZcgEREREy89MehMKPDrJXF0N6x9/w5CTjwKDgPQx4+CNjgViI2EMC4dSpZL3bJ3b5YKlogK6ahaQ7M+Bbfc+JOj1qBg5BInTD4NSqZT3JISQvqGmsgLein/hM++DxROKqJThUOpiIGijoTeGQaFoe4sAFzuH2kyVUPpqYK3MhrViH2KiwlGrHorkwVOgUFLrgt6AAo8Osqxdi9p1G6HXauHNHArjxNHQ63ltRnCZSoqh2pQF684saONiIU4ZhYghA+WthBBy6HE5HbCXbURt8TaEhEfDpUlDZNIoaLQ6eY/gqSzNhdqaBUv5ThiiB8IdMgaxCanyVtITKPBoB4/TCc+Wrahd8gvE4SMRduLxLCIPfrDRnJr8fKh+XAmL047Ik2ZCmzlA3kIIIb2fw26FtWwTXKVboAofiOghx7WrRqOzyvP3IdK9CnmlLsQPPRqGyHQI1Cak21Hg0QY+rxeVu3Yg9LPPUDztSAw46Th5S89wOhyofPtzqMqrEXLDBdDHxtCPhxDSa/l8XpTnbUeY9XtU605G0qDx8paewW/JlG98BwILeuLGXACVNlTeQroDBR6t8Dq9sD73BOxjxiPu5FMg9KJ2Fj63G6XPLYAYH4KkKy+VcwkhpPcwVZdDk/M2CrRHYfCwSayw7z3nUJulBqYd78KlTET6xPPlXNLVKPBoQe73P0G5axuiL78C+thYObf3qdm+C4ov/4Dr/KMRkzlUziWEkJ5l2vcLbDXFiBw+BzpDuJzbu/CeNM6KLKDyewjJl0Mf3nvP9X0FBR5NsNbWAp9+BAweDP2RR0FxCPQmcZpqYf1yCRQxEQg/7RgIArXeJoT0DKvVDM++xXCFjkPsgMPk3N7NVFMJR/bXUEYMRMzAo+Vc0hUo8GjEnp8P89efQ3X8yYgaNkzOPTTwr7Ly5+Vw55cg9tLZUOmD30KcEEJaUluWBzH/E6gGXQpjRIKce+go3/kdBJ8TkcPm0BAGXYQCjwbs+/bB8tUX0F99DUIiIuXcQ0/Jlq1Q/PwnIm68DJqQEDmXEEK6VnXBFugsv0M9+EaoVBo599BTlb8Bquq10A29HBqtVs4lwUKBh6wqLxeKDz9E6D3/6RNRbmVxEbRvfoGQB24A1G0fxIwQQjrCUrwRqFiFkNHsnNMHOGpLIOybD+Woe6FSH7pBVG9EgQdjKsiH59MPEXXrXRDaMdJob1dTVAzVWyz4ePRmOYcQQoKvNn8NXOUbEDn2mj51e8Jjr4Jn91sQht0OrY5uXQdLvw88vAV5ML/7HsLuvQ+KPlgzUJuTC88HPyLqwb5xFUKCy+mwo3Tffjj2ZyHe7oJQZYYILyAKEPWRqArTQpuWiJABAxAeFSU/ipB6JbnbIZjWI2rYeVBr+t5tCWdtIZy5P8I4Yi61+QiSfh142MrK4Hx3AfS33gldH45ma3bshve7vxB51+VQ9KEaHdJ+Pp8PFZu3wrBlB1w79yCivAwKu4OdCdQsCnfLe/GTKzstCPxf/8B0olqJmqhoKAenQRg7GuoJI6HrxlF7Se9UU1UOV97nCB92ObQ6g5zb95gK1sBdm4eYEefIOaQz+m3gwSdkM89/A77ZZyEmOUXO7V72fVlQWO3srO6TczpAqYInMRHG6JZnYSz6/U9oHR5En0LdxPojW3U1POvWQbHkd4QUlcm5jXha6YItskBEZAGKWgHRoEHFzEnQHnk4wjLS5B1If+Ljs8Nu+h80I2+FRt+7xujwsvO7tbgY7EpLzmmF6EVoamqLI0BX7v4OXqUBcYOPlXNIR/XbwKP2g/fhHDQQsYdPl3O6Dx+CvfqFpxG9czM74PmVZSeGO/eyoIVdaVRefzuix7UwDDH7O85n34Pj9Ons6mSwnEn6OrfNhvI/fkfitz9AsDhYjpctzTSUa2vg0ZBWgbzJI5F06XlQRUXImaSvE30+ZK1agLjhpyMiKlHO7T2yv/oSA3/+EuC1cnYbRJ0egoNd5PFaGbNJ3qsBQYGcK29GxhFHyBlNy1v5GqJGnouQ8Dg5h3REvxxlKj87Gw6VqkeCDq5y62ZEb93ATvSsEOCBA/+3wVJRY0VVrR0llZYDi9XuPGg/aeGBi90KxYfvys/eDBbcaO+5HMKi76WZIUnfV5yfC+GuG5H04edy0OHxbwgmpw9pf2+F6rYnsPubH+RM0te5a3azq1Z1rww6OFdVJcSYBOCCq4BBIyCcfi6QOhDi2ZcCLBg/+FzqhuBi59hWRI2+BOqihXKKdFS/rPGwPnQftPc9CJW+Z+5Jbv3wA4xe8o2cChKtHpYX30RIK+N2VO7cA9+qbYi9co6cQ/oaPgR07XsLEbn8X3ZCbRxk8tq1INZ4NKQQ4B40GJ57LoU+8tAdB4e0zFxbDd/+txE25s4Wb030pJ2ff4qhm9fC61FCqfZB5NfYPi98ogpKRV1bpgbY+8g7YTYyprdc48HZyneiMGsthhxO82N1VL8LPEo//hjGsWMRMmKEnNP9tn3wPkb9/CXECVPZFyD/cPnU0L4OtvXI3sUuQTwws8AjNLT1WRbt734F0xGjkJCZKeeQvsJaVQ3VW69Au2M3i0CaKhS6MPCQ2eIiIdx+BfRDBso5pC+p2PYxlLFTERnfe7/fnSuWY3h7LizZ+Xe/wYABbSgXpJl217+IqFFXQa2n24sd0a9utbhrTFDv2AL90F4wkRo7eAWNHiarDRV7WOBw4qnwZQ5H9p9/wa3RAWHsgG7jIrazi5d4+kzovvlLTpG+wlpWBsXLz0O7bWczQUf3MJTWQvX0Alg2bpdzSF9RWZrLCg2xVwcdEn45zS/kGi4ssPDGxsITEwPwXowNt3m9/se1gUKhROjIG1C241tpmgrSfv0q8Nj39RdQ331fr+mLLQoKhCcmIWb8ZGDlX1CUFGPgCSdC3cVdew3R0fANy0DpNhbwkD7BYTZD+cLT0GftZwdWDx/fghfqGiu0r74P675cOZP0BZqyX6GInyGnDh1iUhI8o0bBN2AAMHAg3KNHQ+zEjOMGFsSEaj0wle6Vc0h79JvAw1JYiIGVpQgNC5Nzep4zMxMi+yGIgwdDTM/wr9fltXFxjBgJoQNzIuhmTkbk+0vYL5Ii9kMd7yWlevIR6PKL5ZxeQPCx4MMD/ZOvw22xypnkUFZbXYFaXwwiYlPlnEODGB4Ob0oaUFYJobQCqKyBj533PCwAETsxFo0x83JU710qp0h79JvAw756JSyXXSmnOsfpdGL+ggUoKS2VczpGpzdACIvo1KIzsB+Oqv1foyE8DHkzMmE11cg55FBVMf91qHjQIfa+n7Oi2gvFbS/CZbfLOeRQpS38CKEpk+VUzypi516LrW3HlC8+BT6fB8rtm6HM3QfVLZdB5XLBy4IPMSpG3qv9lBolEuNCUV6cJ+eQtuoXgYfDZoMiZz+iYjs/RXNNTQ3SJp6G2+58HROnno2yTgUfPVvbkD79MIjPfyinyKGoatMGxK3+s6cPpRYpq6pR/c4XcoockkQfcqu0CI1KljN6Rnl5OQYfeTEGH34RUiefg/sffVHe0jyvSoTC7Yaw7Gd4Nm0CkgdI45BwPnXnbkuaQ2dCXbtGTpG26heBh2fDOvhGj5VTnWNnV26W/DJojQZUmh147oU3sH79ennroUUVEQ6bwwp3dffWepjNZhQWFLCrEP+PvzvwLqZWa+er/J1OB3Zs3yanepbDVAPjO2+yQqH33y6L/30TLFt6R5uiWpMJorf+M+O/aTcrmILJ6XDA4+n8uCn8oqmoqEhO9ZzsTT8jaeQJPdp9lv+GP3v1LQwPBa44YjhuPW4EFnz+O/bs2SPv0TR1rQU+jQYYlAnf7Nlw33kfVGtWQwUBSrNF3qtjYhPTYK0ulV4babt+EXhYNm5A6JFHyqnOiY2Lww03X4yMlFhEGRXYvHotrBtXwlRYKO9x6OAnEfGK02HLypFzuhY/ET/22GM464wzceNNN+G0U0/D3r3BbZx1wnHHNxnQbGRXOrfddpuc6riaGhPe/2CxnOpZziU/Q1tTKad6P88HP8DjcsmpnjPnzNkoKCqQU8C8efPwy88/y6m227BhAy695BI5FeidRYvw22+/yamOKyouwvLly+VUz/Cy322SuB7akHg5p2d4WHB4/YmZ+Pb+0/Ha3Gl4+IzRWPJ/J2DNtv3yHk0T2HetZMed87KrIEbHSD1bXLOOgmCzQqiskPfquPCkMSjM+ldOkbbo84EHn5MFWg10Or2c0zkqpRLPPnEXNq79Fi9fdy5+eeR8zMiMRmX1oVMANBQ/YjicS1d2S1X9st9+x66dO/HLb7/im2++wcOPPIzly/wnVX5VV3fbysau8tasWi2tc/n5+fjy88/x54o/4ZILLt6NbeU//+CTTz5BVlaWlLdx4zpk7dqNP5Ytk9KNNVfDsmvXLimY2Lxhs5zjx1/r4g8/lJ6fPyf/25GRkbj4ooul7bzmpqK8HGtWr8Tnn30GE7uS7i7mslKEL/1RTh0aIvKrULnsHznVc/g1e8NukFJth3whz69cN6zfgHfeeQc72fdft5/VYsVP33+HL774AiUlJVLehg0bsXXbNvy7pumq9rpjtSH+/Ov/XY8PFi8OCLr5sbn677/x2Sefori4GOv+XSvlJySlYMYMfy8S/nqqq6vx6y8/4ftvvg56LU1zvM5qlDsioNYG5xzaURqtFk51CASnk39ggFqNT//MwQkzJ8l7NIPtq9yxA6rKSqlth5o9XlVWBiX7PKXn6SS3IRPx2CGnSFv0+cCjdNUqhGZ2zWBhJ58+RfrXbIzEwFFjpPVDUaRXBTP7UXa1/z3zDCvgP5D6wfMT+oQJE3DF3Cukbf/8+jv+WckCIIYHIXfefZe0zgvzs88+G4dPn46CwgKcdZZ/xNWPPvoIq9kJ//TTT8UvS36V8pISU6BjJ6eBg5qei6apPvc//vgjrrrqKkyaOAHPvfgc3n39TSl/7dq1OIv93TFjxuLll1/ByaecgtraWhSz13b3PXdL+2RnZ2PWUUdh46at2MFObJdddpmU3x20S9kVurONDTZ5oepRygtL8FsATS3gBSVfvLw6rH4JFpcT6qU9fz+c1/Rt2bJF+o75UlDAaz/873P+W/Pxf/f/H46aNYsdW6fjt6X+Woubb70FA4cMxQx2HH733XdSXkx0FIxGI9JT297u4cUXX8Sr817FRHbsn3POOVixYoWU/8Ybb+CVefMwdMQIXHbp5bjvwYel/Ox9e/EZC2q5t956CyefdDLUOgOeef4F/PHHH1J+VysrzIZ6QM/Pysq/N/2kk+AMjYRPqeYRIx65+gTEtTJBpoTtq2SBnmrTJig3b4Zi/34eBcobOycyJgFlFdRIvz36fOARt3sbbAMHyang0uj0sCq1CBl3vJxzaMoaHg1VQed66LQF7w2kkqfl3759Ozv5TsLJJ58ipX3apkfEvPaaa6UT9Lp166RRWQsK/Le0+Do/IS9bthzXXXuNlBefkAClVoe0tLZ393v++efx/nvvYQQ74fMq91vvvRsWiwUvv/QSXn/9dYwZPYoVFi8grJlu2BfOORvXXXctrpw7F7Vms5zb9RSrV8lrrQjRQXzqSYgvPMUW+d8Xn2ZL3b9NLf9l+z16YMGjd0EclclO3vJzdkJUoQkFG3q+TRQPGnfu2iUtFRUVULLAg9c6fLD4AykYHTBwoBScvPLKK9L+ISzAePjhh1BYWIirr75ayuO3XeOjYhCf1LbZrU01NXiVPd/ChQul4+3DxYulY47X8D36yCNYuGABxo4ZjTfnv8lejb9QbBwsP/LoI1JQ9DDbn7eT6g6m/DVISOwlc7Kw4EMYcRwq08dLNR4Ol1k6r/DPsDvbjDWmiBqDSnYckbbp84GH01SL6JTgtMSurrXgrn+ycOGP+3Dlt9vgzN0Ho9eJT35ZjrM/245t2UHqVsUHOEthJ7Phw6VFzMhgUU77x+poq+RZR8Ke3fUnsblzr2Qn3pel9VGjRmHNmpXwueTSrMEJljf2q6NSqxAZEYnY2FhpmT9/vpTPr0Z5rYfX62PBy8ksWKiV8jl2apLXAjXVME6hUMDBq24ZfuLysoXn8VfDT2at4QUSJz13EzUqXaGIXSWrzFVyqhVeB4TEJAjsNyCwY0paklk6maWlf1tfMHwYhPvvhPf80+WakU5wuRCzrGcb5/IxHGafeabUPoMv48ePh1f0+b9Dn3hggEGvt/4WDA9Q77//fuzZsUOq5aq/zdH0sdYUgR1XngZX2V527PPeFQo+xw37XPnr4lRsv6aelQchfOAqrqljuSs4HXYMSuqeWzqtqS7eDc/me6DYdR8iKt6AS/sn9Ko/oNh+Hwy5T8C35yFU5/prkALwcycflLGFxcd+x2GdmF8oOmEgKvf1bFucQ0mfDzyKI2OlgiQYcs1u7HdoYVFokGtV4rKyYbi6dBgWViei2q3A8n3l8p6dwKsNJ0zwBx7h4dIisCt5jBvHLum7pnFXOCvQq/O6voHpueedh2V/LMctt9yMl19+GZddfgUr9P2TmB12xOHS1d+HH34o/ctva3DPPvssPvv8M1RVVWHlypX44Qf/DKgvvfSS1O7CaDSw84rmQLBRywKQefNeR1lZmZRuaPfuPdJz84VXbfNeLnfecSfuvvMu6e9ef/31eOGFF6ST+9133YXnnnsO77/3Pvv32YBgqOGVlbMHWrNHr1/NX4ScaoWVvb7iIAwsxgpj5ZnHwBcVhMnfdmXLKz3Dw4IMsUHRzs8PfP4NXpjPvfoqnH/BBfj8889x3HEn4Pbbb5cK/IcffBB5eXkIY7/Pukfy42T7nh1YsGDBQe0teEPqJb/8euB4+/DDj6RaszvuuA033HCjdLzdwp77xptuZuWeXjqeeU0Kb7P0/PMvHAgseJuQurYiUmDCZ7OWubqhjYfDXIxqa4Sc6jkOuxWaondZsGaBjwXToq+u/YxPSvPqOBVc8FTVtw2TsICiIioaNenpLS6W1FREd6JWxyWEIFLs2eP6UKJ8hJHX+5yS/DwY2YFpGBCceQVKzA6sKHOxk5QAj9MNu1eBal99TYSTnWxOH8muEGUiu3riJxBTaSmqdmfBa6qGqFKhes8exGVtByYfzr4B/60HCb+a4bUcTQVK/ETEI3J+dd7wSpxfnW3byH6ZTrhOPBVarVbe0D6O5RtgPHx8l15J8QDhPBZ8qNm//ER9xx13YNToMcjISEd4RASi2PvjjeduvfVWDB8xAoMHD5ZuqRzNrjD/+usvtl+GFBxwU6ZMkRrn8eWmm25CUpK/Vuuww6bByU7UY8eMgVpdf/vGoNcjOiZaeg06doXDl+Hss+ZV3pOnTJa6RM+ZMwezZ8+W9ud/98Rjj8PurD049dTTpdsxt952G8JZ4TEkMxNpaWnsOTRIY68pmhVGapUSmZlDkc5OYl3N+fliaBrXxoj8OGriuxPYsZS1D8gcDGjZ1R2vsWjDIrLvR+DBjXxrTMLWheydQH4b2wNJr+lgKqcHVTNGQ9+GCQ27wsCBAzGEHVt1xwdvMDxkUCZCQkOkdkdJycnYsnkz/u///g+TJk2SfhPjxo3HqlWrpNsyzzzzDPTseEpgFwT8++YBxdChQwN+O7ExMdJPtu5YiwgNQybb5/DDjoAxxCg1aH7woQcxdqy/bRh/nqHsPFVQXIQTTjwBf//9Ny5gAZBer2XHWrp0jCWxgnEQe93ScN28bUlaKiI6cZXeFq6aHFRaVYhJCv7t6uqaGvZ7r4HZYml2sVht0KhVsOUuhap2JxTKpmsVVbxWg33gaiU73qNmoJKd+yPZZ2RlF3CRSYnQse+rpUXLvqPOUCg1UNSsgSrusC49h/YVfXp22j1LfsGg9Awohw2Tczpnd3Y+7t7tX7fVWFmkHXjVqQ834KsTkmEuLYQlewcM4XqEpI1F9Y3XQmGzwhmfiNDHn0Txr0sw6sfPgBvu4g1F/A9mB6s4bhwEFjiIS34Caqr9+fzbOeY4CLFx/jQPPPggOHVfGz95fvw229/U5tlpm+J843NYzzkKUXwCJYJFixZh9erVuOrKufjmu2+l+8i89qWn2axWGG6ZKzWWC+BlAWfdTMdNcbMrRDUPkhvfspMfIx1PdevsX9EHz5lnQnXBGf68Oo88xQLdNnYd9zUfBO+dMxWDLz5XTpG5c+dKQc4EFuA89OgjuPGGG3H66afJW3uOKWcFXJpBiG1jO5b22L5jF8LbMnKovQyhufOgYqc6labpmj6NTg1BzY43dujWxP4HuVl7MXz8eOlCo7vs+P1VDJ15HbuWrL/gIU3r07da1Dm5MMv3a4NByyLvOoaIg8f4t5ts+O3fTYjKXY0wuKBPHAHTlZeyfBOqYxMQ/9KriG7udgmLuHnQIRnMrp6mz5IW3/bNEH7/xZ/P8cBEblcQTBp2tecpOfj2RH91+eWX47lnn4Faq8F9993XK4IOrnTdWn+tRDt4k2P5JZmc4gELDzDqFhm/SvOy0wFfXB74jjv+4KCjuBTYGJxbctHb/V1SiR9vcHrmWefAEGLEd99+2yuCDq6mqgJR0V3TsJT3QGsLndcNrcvfDqtVagXstUUYO3VqtwYdXIWdn5fbeAu0n+vTgUco+9EoWYEaLF7NwT8UlVYNQ7gBIdGh0rLYEos96hRYdXGovfUWxM6Zg4H3XoXYhx+AXm4Y1qQGt1e8zz/tLxOy90EsZifocy7yb5AJ+uD3py8M9cJd033jUBwKQkLDMHbsWKnLZG+h2+cfs6TNwnRQPMmCpoXzIZ4xhwUtdffGm+FxQzzzNCiuPE/OkFksEJ96jZ3Ym7590l5hpVXgk9sRP149nxgXg9GjR3f4dmlXqKoogVIbvIu3hmJjo6FUNgh+m+E0xMGpCeHtfpvldtYH40Z1z8wLFBMbxwrUPnsDIaj6dODhrSyHwO9rB0m4RiHdYqnDAw1dCDuxq+p/mFZRif/mhePJjRa8MWUOFNEqFOjiERHXSs+aBne8eAzie4EFH8UFUF5+BTwP3Cv1Bjig4XqwhIUhytq+K2nS/Uxyd+L24L0pwIIo4ZzZwKkns5xmvmcedMw5HcJFbL+G7Yx40PHQ8xAKeY1Y6wVFmzhdECnw6PVCdF1XRPBGvTpt4MWYVqOE0aCF11d/K1FUqOGJGAlz7NlQNTO3yoEWAx72r7dzw6B3lD48AW4XnUPbok8HHpH8NkvDxnGdxA/upprEuO0uuGxOWCrN0lLoVCIrPA3ZA8fCfcIFSJsyE+rWrmJ42w25Cl0xdQrEidOAcy+EMP0oqOacAaz4wx+c8H2CPF6EpbIKYT/9DN1Hn6P8/a/kXNIbDeUt+Js4BtuEBxPnnNts7CDOOhLCBWf6GyzLPLVmiA88BSEvP6hnC97Ium6iLtL72KxmlP37HGKxCyVb3pdzg4vXJJaV1fe44t2XQ/Q6hIcYpV5GDdnDj0RU8igoeOPR5vDfhU+ESvSPp1FcVIi83FzksiU/v0BqGNyVc6rodfwilI7ptujTjUvx0L2w3/MA9CHBud1SVlWNOYvWIzKOdy/zn70dtfW9CwYNSkA4++FM1DswKkqDQSkJTVabbvvg/YMblzJiZCSEoUPlVDP4oEENBw4KQuPSnAULkPHnX+zNGOBRG6H44Fnk/74UPqfbXwV87DEoXr0SotnGCgsPko85DmVbNsFTWS0VZgNOPgmFK/+Bq8o/el8C279w7b9QmvwBUtxh01CdmwN3kf++fhrbXr59G+y8zQATNf0IOHfvhrWsnH2sAqImT4SprAzeXFbYMUnTp7Mr/SJYc7LZAatC+NTxcLHnsuXns29BBf3oTIgeHxw7/UNQx00eBye7SjfJ6dAJo8BHzTRv9bcM1g0fDC07JkzrtkjpsJFDoTUYUL52o5QOHcW+A4UA8+btLCVAkxwPQ1oqalZvkLYb0pIROTADhcv/YSc6tn1QMoyxMahezQfGUkHNjo/QoYNQ9TdLi2x7YjQSxo9G3s/LWZo9Y2IkYocMQumK1eztKqGKDkPE6GGoWO4fJlsVGYKUmYcj9/ul0mRmythwxLPHF/36F1L//h7KBifrA5prXBrGjq/X59cHE/zEe91tACtYDkQSPADgjZv1oRCeegCIlxsyc+ykjQef44OrsAR7DrEdDedaaFzqVSmRf/csxAweD7fTgtqSPew1qBCRPgU15exvWvl7FBGZMRU1pXsh2tmxpfQgduCRKM9l35uLXdUKHqSMOgH5u1dA4Fea7DmTh85EwfZf+LcGj1KL5MFTUZrFjm32HhUaDeIGHIHiXcv524U2LAqxqWNRsONX6X0ZotOhC41GVQ4fXVUNTcxgKHwuOKr4XCACdHGs4GOv1WZirw9ehCVPgN1SAbeJT+LmQnzmTJTn74DPboKPbR8w7mQU7PoTXoedXbX7kDbyBJZeLvUYUrDrocShxyB/+zKpel6hVLP3chTyti6RjimVIRSxaWNRtGuZ9F7UoXHQhSXCXLhO+pxEQzLCImNgLvAfs5rIQfCx36Knch9LeRCVPpl9xVVwVuWxZ3chadjRqCnbA3tVmdTRKWHYLJTv+wsepxcKtYD4Iexz27kKSpG3pWDvmb3mdNfvcLiUELRqCGMfQ1hYuPS3gmlv9j7oDPXPy352bBHhYZ9BQ7x2LEzpRHjpIjhdpdL3J9XkcSzBa0IE3kOQrVcrByNyyDXSVAdDhgyRdnE7XKioqpAuHHmvpa5QUbQb0XEJ7OsJ/ufU11Dg0Q5ZOQXIPIedmGWCzy1VA3I6duCX//YaQgytt79oLvDgxIEDIcTGSj+gg/CR8RrM7yAJQuCR98XnSPvuBxZ46OGKiobmzf9KvTik2hX249bq9f40xw4XPmcC7w5bd+jw4IqPNdAwfWB/Rq1Sw8uuYOrGv+CNvvg4B3Vpvr/H6WGnav/ViJqdhL1i/f6826M0uBcvNNnf4F3fvC4vOzm5pbRapWXnarZd/psquWscn1SKf4787/lYYOJhQROnYidupUZ54DXyAaN4tW/dWAx8f9Ejwi1X96rY//h97ub25+tKFkC4+YBTjJL9T6VVHdifb+cjttaNxyClWcnjkttbNN6fB3v8NTRM88+ApzVPPgRFDi9cGmlr4ME/Ux54SAOusRM3n6X1vFPhW7Mditz9LPgIgfDco0B0lH9/LicH+A8LPqTPOziBh0enhuuNe1hBH1H/3TL8WJC+W9H/XTU+Npo6duqOPT6Wi0Zb/7kp2P/UrNCsS3MNj83G3wtf54+p+14a/626UXc9Hv49+78T/rrrtmvUGrj57ao2/i6aSrv4LSgeiDRxzPDjru6Y4+v8uOCvj+PHk8gK7LrPkf/m+PPUbW/qc2vptRRk/YvYms/YxYcXSp0GhmnPS38z2Pj7qWQXKB72+2yJkoVy8Tl/QpDH0/EZiqEMb3qk0EJ7LJLH3x0QePDfv81mQUgzIxAHAwUebdenA4+y22+G/pEnEMoH4gqCtVt2Ycrcp+VUIJVSgcrfXkdYSOcCDwkrOKUAhP9I2NcjOhwQsrObvsUShMCDn4wqFy8GNu6F97pLkDDU/2MlvU/FQ/+HmBy5T3dDHQk8XGz96guBE05kj2cF1kP3sei6FGJYJITnWfDR8Hezjx1/PPjgwUpbtRR46DXA24+wILH5fUjP4cXC/q3LEFK1BI6UC5A2eLy8Jbh4oGSxuWGXgrmW2WvK4LH7a5hDxP1IDGk0WJjMppoIQ/JZUqDFa0WUbLHY7DDqdVKw1lX2796I5PTB7JTesSEN+pM+HXiUP3Q/DLfcDmOQxqZYsW47Zl3fdLdKHnjs+OwJDEmrH0CsOa0GHnXYD0YiX6U0KQiBB5e39A8kqHTQHHWYnEN6o+Jnn0PiNnbCbfyzbW/gUVHF/r0MOP44fz7Hr6YfeBLIzoUYzYKP/z0UGHzs2gM8/BL7W20MPlq61WJg2959FEp+/JJea9fyNzBsln/Qvo7IevZ/wPatcqppIp82gQUgrRVEfEA7Nzvu+VGuYP/qlU1PaeBRR8InHVdsX49/f17vo1A1fdwqRo7CoLvvlVMdl799BRIGTYRaF7yelH1VOy5fDj3KqFh42jDfRltVVjff3dTj9aG2KsiTBPFCoqWgI4iiTA6UarvuaoAER3V6mrzWCfxE3zjoYLz/bgaKCtkZXgGhsgbi3Y+wgLbBrJvDMoFHWdAShLEKhOgoCF1QdU+Cyyd2riu5srYWusqKA4uGT8hXXg4VW+ry9GYT9DYLDA0WnlaaawMWhdUCrc0KDVtUdhvcFhYrN1pEmwBNrUl+7kpoTVUQ2XnZwP4VysoO/M26xVhVxS4agxP8lpWUQUWBdJv06RqPTW+/jeEzj4R2cHBuHbz2wXe4+ZX6Xh+HZSZi1Z76hn7fPnYxTj/pWDnVvDbXeLRFkGo8fO9+j8qZIxE7MDjDy5OuUbB9O1KeebjjNR78cTn5wIDAAMa3fiuE/70ktZM4gO0rhhj8NR9xsXImw2+7/N8LLNpmz9VS1XULNR7F0zKReM+1cor0ViXbvkXYwGNhMHQsAKllBbtbbjtSsXMHIoyhsNRUQckuCEOnNV27ym+RXHbPf7Fld9ODzPF2dXxafJEde0qPC26tEWqnFbqIKKx6+/+kKRkayn/jDaRefz1y3l2IjCuuknPraXQ6hAZh6Pk9f76GgYddxYKPTp7T+4G+XeMxYpgUGQdLfkng1PGXnRL4w9lVcOhOi2yzmGGIa9CbgfRKicOGwatrYSC6pjQMUnig0CjowJYtUDzxv8Cgg2P7ClY7xP88yS7nGkyAOIgFp//jQXPHayxsE1vpvUV6hYioOFSUdHzm6rCoKGnyNb6Y8gsQMWgAIkaNgcHpOJDfeHEqNFi6vQylHsVBS7EiFCWCEWU+Dcq9amm90sUCJPavzelGWFzCQc/nZUEz/1cVn4SohIO3ByPo4BQ+3qYkeMM39GV9OvAYNGo0CvcHb8bAwsr6wcP4KfrEI8b6E7L9JQ2qpQ8x1bYqGIPU+4d0Hd6zwMFO5m1W6wXknhFN2rwJePgZgDf2bIZgNUO8hwUfDW+7ZGQAT90BPkR1u2nUSJlObYkOBQ4hAoKp5TYabaXfuAE+rQ7RyUmorGh+okG1ooVbeULTwS4/Hx9z2GjotWppfJi6xWGzITbTX+OdnJHOgije9bllHbkJYGN/JzXSDsWBqQlIS/p04GEIDYN3H++DHxzFZfU/lrHJYUhNS8PghPopo3MrLPLaoccVQi2xDxXeAe2Y9NBthS+rmWHW/13DgodXWgw66vDgAzc/DPy2VM5hePDx6C1sY/vafNhjQqTum6T3E5WRiFEH1vR2hJsFv1EOKzTytBG2Bl13G9M2Hm2aBQKzkjyYlexBYqNN48JVeGmYHquPiMGC8Bq4/vd4wKJ8/AFEpqRK+6piYlC2zj8WT0tu3LQLv+xs3wjBDksNat2hXdprpi/p04EHFyN62AWfQ051XHFFFTbsq59EberYIVCwgywjof7qs6Dg0Jz4Kn/PbiRmZsop0tvZjz6G/XLb+NNVa6CYNw/ICuyCK/65DHhlYdvPAPx86rADb34J3PowPF/+5L/9MmQQ8PjtfCAJ/35tYJ8wXF4jvV14TKw0imlnua1W1MTEHRgLJCwiHK5mgo/GDTRjFF58O2EkfpkwCpcmBwastw3Q44aMSIzTq+G1OCHUOuBmi8gWvm4tr4Y33H9x6IqIhGpfE2PgNHDL1j14y+rGEk/7ygyjohpVqklyirSmzwceqtg4WLJaPtja4qHXP0ONrf6Hct5x/qriIWn1je5sTg/ElmYyaozfD+Q/xM4unaRdsR7OlGg5RXq7+MFDYElnBX5bmS3+6eyfeAx4/U3gvnshvL4IaDQsdet49MGO2cJKqD74DrjpUfiuvB++eR+w7LY1qPPotFCfNlNOkd6O3zooc0SjbuCxjlKxoNU6rn4skKjEJJTwsYmaoNE06hnCgmx3C7PT8sH+nBChYccn7zbL6+/8w6axINflgiAP/BYaGwNdReAM3HzQtFt/4yMOAxuyi/BOtQtijRl/17Rvorn87K1IHzZOTpHW9PnAo3z8ZGjyOne7ZfmaTVj4Q/1gNbOGJuKIqf72HSGN20W0taaN/ZjElSuAFUs6t/yxBCK7muiMsHwTDBn+6khyaBCOPI79px3VuqIb2LEb+OdvIJedfPnw0p3BT+asLFLwbo5FVYCjbY247ROHSgUAOXSkjJiJfTv4MPIdV1tairTJU+QUO3RiYuHavVNOBVKxi6nEyPpb2JxdYOdLUYSqYZsi0YcEvf/CS8FOvHwLX6QxO9jC95dmi5UvzvQGI0yqwKBmf1kVXi0txx1LVuPI4grYFT4ISgU2CD44bW0LPrxeDwy+MujkEZNJ6/p84JE2aiTMO9o5lXgDHq8X1z/zoZwCokN0WPbBk9DI1YGRxg7eq2Y/AGHbBmDLxqaXTSwK37OLFRZbgc0t7LfxXwjWjrct4Vcy+6L8w6KTQ4d25kx4ohp0cT0U6A1wnjJNTpBDhUofh3Dz8g41uqyTs3krEtLT5RSLmVOSEVUeWPtQR6lQwhgW2ObMy85TPM4eqmoQbLNgROP2vyZ+NrbxAcPYvzyk9hdsLC23KanjTAoc4DHP5n++l2rMsDd8e14f9jfqxdic6pK9iIhOlFOkLfp84MGFJEWjuqxjDaRufHYxduXVdyV86fazAxoQhYV0boCdJvH5Hi6eC7z5HvDygvZd2bZT1g8/Yzif/ZYcUvg8Hu4LruCXh3JO71d+eCZihlE32kONPiSCl8NwOTp+gaMp5BPr1YuIi4elvEEX7QYEhYA4Q+Bx7Q8pDj4PNuzkwuOGuj2kgs0nsvNz4HQZUaNGw1pbPxBkrs/f40tI8g8lIJZWQqyuZU8gYG9187d3GtJ798Ckra/NIa3rF4GHa8RY6H//VU61XVVlFT74/i85BZx71ARcfHrgAGEabRfUFLBfkDB+Mvt22K8qNAyYyf5mJ642muNlAc7AHzbCE0uTGh2KNBMmoGzQCDnVy+n0MJ5zopwghxpFxvmoLNwhp9qHTwQX2eh2MA+cK7TN96RLj62vqbC6Wh9OnTOysIPvV7dvjdsBVaMAJjE1FXtWrZG62Zot1oDnFUsrpPOskJbITsACIho1NWlOyf59SEyrr80hresXgUfk6NGokqdkbyuHw4EZ1/4Pdj7dNpMeG4qX775IWm8oVNP+2gh1a11X+T1JfhuFYz8Qcd0q6YfQEp9KA4O+ffcY3cUVKJ05HBq6zXJIUrKTd9g1N7IDqpPtNbqB6eYzYWg4+ik5pMQlZUBnWg7/zLztY6mobPKcp4qLbLbRanJcfRsPuzwib1O3ekKU/m283oLXT/A96p7RW1UJUc8CmIZ/g5/rVv4FrV6LOT+uxx/75XKBnV+F+BhAW9+1PC2m9ZlsS/b9i5iMwPGcSOv6ReDBp5QOnTYNBX/V11605uvf/sWO3PrbM8/dej4SYg/u+aFiV3LtlTFjxoEGT03iXSU/WAA8eA/Ee26C0IbGo7UTprCCqI0hOsN/xDVf/YrE8+g2y6FMFxuL0uvuhKjppT9ldkKvnTUeoVO6ZnZT0j347WW7ehjcNe1vL+euLEd56sE1AsmDhqAkN/AWTJ342PrRRNWK+ouu0WGB57holdR8VOrJwn8BfPGwHCnUcDgh8HmJGnQ9VxgNiK7kI0wrcEVGPD6trvJvkAkGdvHmdiPRJSIlIV7ObZ7BvgGqqMlyirRVLz1bBZ9m7HhEL1sip1qWU1CCG59aJKeAK44fj7NPOEJOBWo8L0Bz7LVmOKur4WCLyIKOnNsfhG/wUHji4uCNjYMvNh5ijH/xsYXneexmeHQauOJj4WZXix62+PeNk/YD3z8+AeZjToNmzrlwVFXDXlUFi8kET0ujVTKm/XmI8PqvmsmhLX7yFLhPOokd5O2vfetSrLCyDYtB6E0XQtFSoE0OCQkjT0Xxrj/b3chUw855oRMPDjzVkRGo2ijX7DaSGF1f4+Grq+1t5s/yrfymSV1hpmY5PpZ2220s5gj8TWj5haLPB6fdjgunDsVJPg9C7U7A6T9filUm3qMAZ8WGShesLSkr3A27KhXGDs6P1Z/16UniGitZvQq+sFAkjRgl5zRt0TfLcO3TH8DlFaFVq1Dw0/OIiWi6HcQvK/7FSXfNk9YHxUcg6/sXpauDxvh9zsbVihoWtARjpDsXCzIaf41qtbrFH07Ra+8j5przpddA+gbbwnnQ//U3BHdLxxTf1sx37mnlOkRkwYPY9lo1e3oK9M93frpx0nu4sj9DjXok4lJHyjmt2/vxhxhw7vmoGzysTk1JCcrmv4XMhx6Wc+otXbYcJ976spwC9p88CAkKNXbYbBi/sr5xaNWxCdCzY5of1Xzh4QM/ut1uF0xlxUgYMhDm629DeEx9F+5/n34a466+GproaOwvKsXI5RvhYK9NSIxlD/TAoNOidPwgGBr1iGnMved/cCRci9CwwK6/pHX9psaDixk/AQnzX4eTHbwtOSrMh523HI8BceFYueA/zQYdHJ/ZsC14IMCHiW64BGt4XR48NH7uloKOiq3bEaoxUNDRx+iuuBa1J53GDram75t3G1EF66BUaJ+8Q84gfYUyfQ7sOW2rOa5TVFh0UNDBGSIjIdTUNFmDkjk4A/fMHo/nThuJF2dkIFRQ8d6zBwh8QjavEzZBf6AbrZTPFunZ2EWeJrTpLq6G6UdC5KPwMgOS4rF95hgMUGkhFpRihi4C+8YMbDXoKMjdgwL3VAo6OqhfBR4qViDX3nwXKn9rvofLCy+8gDOuvxl7TLXY+fVzGD9isLylaUp42ZHuheCxwxXEmXC7kuf7FdBedJKcIn0Fv50Rcs65MF1yVc8FH2oFymeNg/rBm6Bo0FCP9A1KpQrGpAmo3PubnNO6KG/TI+Rq2PnYER7GTp8Hb09Py8Dtp8zCbSeOwE2TU2Hkt+18IoawgKDgqinI/+8pyJs7DlGig52D/XjAURd42Jw26EOavr2XOWkCcnfXt1XJ3VeAqhvvgebmBxD7+kuIC215iAQXe+6o8sVIzaSJDjuqXwUeXMSgQdDu2wtHbo6cE+jCc8/HuGnTcNP/nsH8N95o9X7m5NFD8ddjF2HtjSdg+Vv/CVotRlep+fRH6I+YCI2xC8YfIT2OX1mGH3sMqu65H9ZE3i1Q3tDV2N8RtSGwXnEOoq6/GJquGN+G9AqRGdPhsWbD0mA8jOZUlZYgJrr52ZTtfAK3Rregt27bhj/++AN787Lx2+Z92LS/FC6FiJ12B36rqsROUzl2ZO2FqaJKOrz5rRbeo4X3t+Et1vizeV0ifM3MFMsDnvJtW+QUb8gaCqfNAYXbjRGZKXJu82r3/QRb0qVQqWmiw47qd4EHZ7juRpi//hJOx8ETASWkJGHBwvm45obr8PIrr6K2tlbe0jReJWeursKWPXvw958r8PHHH6KcT57VC1mKSuAtr0b4zKlyDumrokaOgvH552A+7ih4eUv9roxA1AqYxg1GzdM3wXj8DGqw3MfxWo/wAWfCtusddmHWcs2aNTcPzsjmA4/4ceNQU1Xfs+Sjjz7GaSedgisvuxzn33gf5j4+Dy/8+g9e3rIN5370KW7++ntc+dybuODBF/DuXxtY4e8/rnlj0rr6Nf6KfHYTDoQFTVw8RhTVT48fE1ffe2VoK5Nl1hRtg8JjQUxSyzXhpGX9qnFpQ5X//gv93t0wXHiJnHOw1WvWYNLEidJgNy15+OFH8MP3P0ChFKQakuOPOhpPPvuMvLV38LJo3v1/r0L8v8uhb+FEQPqe6pISqBcvgnZ7NtROfm+7mQai7Wlcys/37HfhSk1G5dlHI3HKRH8+6Tfy966Fz1mNtBHHBdT0FublwO1hxT/Lsu3aDTHECGNKCpRuD1RsXSEo4LBa2eHEjje7AzVlJYhIz5Ae+/PPv0Dv9ELN9imHGwazDUMiw5Fnc8HprLtQ9BdZw6NicURq4LnMxY9h9nedLJgx8r+lU2Fv2iAotYG1E47dO2AcMQaGMCNqTRYs//svWNlrmjF5CtIGZiAm4eD2IS67GbXb5iNm8p1yDumofht4cNavPkdVdBxSZ/b92TIrHnoZYTddDE0czULbX/EavpzFnyBzxd8Q+BjYjbUaeLAAXMlOFyodyoYPgWLuWU2eoEn/sXPZ68iYcBr0EWlyTt9VvvkVqFMuREQ0TXLYWf068PB6PCh9ZwE0x56ImIED5Ny+Z+9HX8CQnIykmXyCrvorE9I/uR1OKGtNKPx3LZTr1iKxyATB5vFfSPqs7F92jPD740L9VWJFYixMY4YiacZUKGKioaWxCwjDhwiwbHoa3pSLERnXd4MP695FsGnHIzaVRikNhn4deHAemx2VLz0L7eVzEZGULOf2HVXf/wa3zYb4806XcwgJ5HY64aythdNshtEnwPH999CdegqsSgEagx6q0DDoDIZe33Ca9Ay73Qp71vtQJJ6KiNhUObdv4MVj1Y7PAV0CogcdKeeSzur3gQcnupywPfcUvBdejrAM/73GvqD6x2XwVlQh5rKz5RxCWlexcCFirrpKThHSutqqYjjyvoQm5UxExLTeM+RQ4PN5Yd73C1RaNQypge1YSOf0y14tjQkaLYz/9wh8H70H057dcu6hrfTbX+Cpqqagg7SbqGrfZIOEhEUlQp9+DsTir6Qg5FDHJ8Or2sOCDo0XxtTjKegIMqrxaKT62WfgOvJIxE/l7SEOPT4vi9Lf/hT2uCgknEnTkJP283g8rfbkIqQpLrsF7h1PQjn4RmjDkg7JAtvLgo7yHR8BmkQkDDteziXBRDUejUTceReE/Tmo/GCxnHPosFut8P7f6/AcORkJZ5wg5xLSPqZ3Dr1jn/QOGn0IdOMeR82uL1C0+3c599Bht9th2vwMxIipFHR0IQo8GhEUCsScey50Y8bA/sQjcJpan5K+N6jesBmul1iBccf5iB42hL0RqhokHeOTptoipGP46LkJU29l51IVqje9AZvFIm/p3XJ2rUbNtgUwDrseiWnD5FzSFehWSwtqi4vh+PgjKIcPR8TxJzQ50VFP46Omip8thTfCCMMZx0LbxknrCGlO9fufIPLS8+UUIR1nqS6AJfs76KNHITyjd/YKsZgq4Sv6BoIuDfqUmVCpaY6hrkaBRxvYli2DdftmRBx7PNTD2z4ddFeSRiJdvh72TdugOPMohA8ZJG8hpHO8bg+UamrjQYKDN9Ss2b8c7sod0KQeh6ik4b2i7YfNWgt3yRrYqvZBnX4aYuL63nAKvRUFHm3kdDpR+8VnqCmoQsb5Z0CZnAqFqvtrQBwWC9zb90D56wqUz5iEtJnTD8kGXKT3Kpr/AZKuaX4qAUI6hBU15t0fw1RrQ3TmCdCEJvVILbLdZkFV/nrobRuAmJmISp0gbyHdhQKPduKjneYuXozkPXtRcvaZSB09Fgp1M3NfBIn0FbGr0JxvvkHav/tQNHsGUo84Qt5KSHDROB6kK7ndbpRv/QhhijJUG09B8sBMKJRdW8Mm+nxwu2zI2fQdBmj3oDziXCQNGCFvJd2NAo8O8tgdMO3JguuXnxDmVaH6+JlInjgxqLUPdpsVxb/8gbQNW5CbFI/E00+GJiEGKlXXBjqkf6tauBhRV10spwjpGm6nDeX5O6As/RkORSwUcdOROmiUvDU4eC+Vkp1LkKLZgxxzEgZNPB1QGaFoZsp80j0o8Ogk/vHZSkuhzCvC3vX/IqXWDnVMJCpSEqEfNhyRSYlQt6FGxFJrgqWgGJpdOdAXFaPGaoUzLQYp4ybBnhiD0IgIeU9CupbL6YSm0WyehHQlU2UxBFs+SvK2IUJjhy4kAhWeZOijBiE2LgGqNpxDa00mmKvyobBkIVJViaJyK8SQDCSkjYDSkASdwSjvSXoaBR5B5nG7UJOXD11xMdTVFlSVV6LWaobG5US1z4M4IwsgfAqIXi/KreWIMIRBVCgQHhmLiJhoVEaFQp2egsi4eAgKartBul/hosVIvpxqPEjPcLtcqC7bD52vEl6nCbaaQlSbXfB5PbDZ3UiK0bO9FLA4lLDaLQg1amBzeDAgLQW6sGiY3WHQhKciIirW/4Sk16HAgxASgNp4EEK6Eg0gRggJpOJXlIQQ0jWoxoMQEoifEqiLNiGki1CNByEkQOnb78trhBASfBR4EEICKESaq4UQ0nUo8CCEBPCFUNdtQkjXoTYehJAAdpsNeoNBThFCSHBRjQchJID9vY/kNUIICT4KPAghAXw0Ij8hpAtR4EEICaDUhclrhBASfNTGgxASwO10Qa3VyClCCAkuqvEghASoXPSxvEYIIcFHgQchJIBK4ZbXCCEk+CjwIIQEUKho+nBCSNehNh6EkABerxdKpVJOEUJIcFGNByEkQPmixfIaIYQEHwUehJAASh/N1UII6ToUeBBCAoVHyyuEEBJ81MaDEBLAZbdDo9fLKUIICS6q8SCEBKh9h9p4EEK6DtV4EEICVCxciJirrpJThPQcm82GsrxcuJ0lsFQXwyjUIC3BXxvn8Cmxv1SFcKMKoj4BIdGDEBeXBEEpSNtJ70WBByEkQMlX3yJhzhlyipDuYWdBRk3xVoSJBagqL0OFVYPY2GhEx8TBqYiAigUUZqda+leAAm6vFyo4oVUroPaZ2OMtqCwrhM9Vi8TYEPi0CbDrhiIheQAEgYKR3oQCD0JIgNqaaoRFRMopQrqOzWyCaM5CSc5mhGgFaMKT4dYNQFxKprxHx1gttagu3o0oIR9l5eWIjEkGwocjPG6QvAfpSRR4EEICVL65ENHX0a0W0jV4keMyF6Nw919ICC1GmTgJKYOnQqVWy3sEX3lJAXwlyyE6K2FInQldVCY0OoO8lXQ3CjwIIQHK589H7DXXyClCgsftMKN47ZvQGiNhGHg2QiMi5C3dJ3fLKsQpfkWlchaSMg+HQtl1AQ9pGgUehJAA1Z98hcjz58gpQjrP6bTDt2c+cqoMGDz1Aqi0xh5td+H1eFCStw3Gyp9hjjwBqYMnyFtId6DAgxASwOVwQqPTyilCOqd0589Q2fZCP/BM6CNSelVDT5fTAVvRKijtW6FMvxIGY4i8hXQlCjwIIQFK31yE+Osul1OEdIypugLe3K+giMxERPosObd3qq0ugXXf91BHDkTMoGPkXNJVaAAxQkgAlcIjrxHSMZaKffAWfgFd+om9PujgwiITkDjpaugFOyp3fgmH3SpvIV2BAg9CSAAhMk5eI6R9fD4fynPWwZ6/DKFD58IQmSZvOTQYB54KX9hoOPa+D6fNLOeSYKNbLYSQQPyUQAMukQ7I3/EzqiqtGDvjbDnn0GSurYZi/wswjn2Mpei3EGxU40EICVA+f5G8RkjblWxdDBGqQz7o4ELDIqEYfBeqVj8K0UO3XYKNAg9CSABB6ZXXCGmbyt1fQKlPRtqI4+ScnuV2ufDWwk/w98pVck776Y3hMI67B9WbXoXbWiHnkmCgwIMQEsCXkCKvEdK6it0/wi2EIXbwUXJOz3PXlOGEWA+WfvoJind/jbz1L6Fs9/so2PUF7nphMXKLyuQ9W6bVGaDJvB6mne/DZq6Wc0lnURsPQkgAc0UFQmNi5BQhzasq3gOxejOiR5wj5/QONosFwr418Lkd0Ov+hELFijnRhzKXDomX7EB0bAJ2fv4koqPaNnJqeXEexPJfETnsUqg1GjmXdBTVeBBCArg+/UpeI6R5dks1dMWfI3zImXJO72EICYFuzFHQh61j8YabLSJMogallTZ2ua1Aea0N2/YVyHu3LjYxDYrQsXDlfiPnkM6gwIMQEsBHU1eQVni9Xpi3vArN6Du7dHK3zsja8jcEZzWe+zEMW0tdSDpjHSbemQefxj866YiMBOnftooZMBkuwYjs7X/JOaSjKPAghARwJ6fKa4Q0rSxrKZB0Jgs6dHJO78G7wtb89TyGLP0cv+weju9+W4+R8Rq89b9bccv5J0r7PHHZLMTGtv92Ymj6cTCa/5FTpKOojQchJEBlaSmi4+PlFCGBTGX7gOKlCB97nZzT86rZMSv88hO827ZBkZ8LpckCHwSYbr4FFfq1CFH6MGT6Q5hywb3YsL8MxT+/hPjojs2Ma60phH3vl4iecBMEBV27dwR9aoSQQF9/L68QcjB70R9QDDhPTvUO9g8/hPDpZ1Bs28EiIyu8LOjgl9Th23/AuGQvLn52J/5Z+S8iQ3Rsi4AwY8draowRybAjFrWV++Uc0l4UeBBCAoh0ViDNKN2/kRW8idIAW72JY/Lkg8YXVSh9CD9RjxLFLFx69DQUF+Xh8rOPhcj+V222yXt1TOqk8+HM/lyaXp+0H91qIYQEqPn6R0TMPkVOEVKvcu0LCB17EzTt6FLqY4VzwdYtsDkdck4XcHmR8NwzEN1yIODzwThlEtRDM/Dk7//gkz9W4NijZ+H0s87H0Y98jC/+Mwcjk6JZdOIPV/hU/YNHj4XSYJDSbbFvzUdIHDAGhrhRcg5pKwo8CCEBbBYbDCFtPwGT/iEnaxtijTUwJk2Xc1rn8/hgfuhehBfuk3O6Tm2lHV5vfXEmtb9gxVuIQQGVQSvlObw+6PeE4+Y0NV4xVLDAo756z6fRwnnXA9APHSHntIxPiJe/8iWkT79DziFtRYEHISRA+RvvIvb6K+QUIX6WTS9ANeRK6Ixtb5RZtnM34p55AIiMhThyrJzbBRQCbKvXwrU/z59mQYEyKgL6zEwo01NZECLfiGH/XvH3FqzPrsGWS2awwMSfDZ8Xwj9/IH/iEUi9+TY5s3WVe76DV5OGuIxxcg5pCwo8CCEBKt9aiOhrr5JThABOuw0F23/CoEntmwCuZts2RDz7MMTBIyCceLqc20XKS+FY+S+UA9KgTk4GIiIBpVLe6Odlxd0nP/+KzXt24aHrrkWITm5kymdjnvcsCkZOQsqdd/vz2sBiroEt+yvEjb1SziFtQc3ICCEBhPQB8lr3crvdePa55+F0OuUcP7PZjOuuuw4tXSOtXLlSXute1dXV+N8zz0rLc889h40bN0r5Drsd119/PXtPLil9qMvb9CXSRx4tpzqCfXdeb+cXfgzwrt4JCQcvo8dCe+P1UB9/AjByFMCDj0b7uNlj9/l8CB06FN5ElqfX1z93B4SERsDrUcDh6Fxj1f6GajwIIQFcJhM04eFyqvtYrVbExcWhuLgYYWFhcq4/IPn3339xxBFHSGk+aqbD4YDRaDyQnjF9Blb8uQLqRqNo8m3KBle9DdM8wFEoFPWP4WWjr367x+OBSqWS1nnvBQXL54+vy+N27dqFI488Et98+630uOuuuRYff/Ixklihl8gKusrKSujkq2r+9/jpti5dx+VySe0FGubz/XjwotFqA15/T3A5HfBtexKqMQ+2e5TS+hqP4RCOO1XO7YSQEGBUEBtzlpcD+/b5azzeeqHdNR5cbcG/qKo2IWN075iZ91BANR6EkACWD7+Q13oHEwuELjnnfKlwtlhMmDxxMqZOnSYV+Dwo4TUL6zesx/FHHSM/wo8HCcccU5+3lgUvX3zhf2+L338P4Sy4io6OxpbNm6W8PVl7cNZZZ0nrvOAfOXIkioqKYLFZcNqJp+A///kPnn/hRWl7QzwQOWzaNEydMgXXXHMNPv74Y3kL529b8O4772Ds2LGszBx14DVwv//+uxRkRUVF4Ysvv5RzgZtvuhmjx4zBoAGDUVVVJef2DMFjwo7aYb12aPSepooagRgxS06RtqDAgxASwKvqWLVzVyo1+QvfZ599AVdfezW2bNksFeC80H/jjTdw2NTDsHT5MmmfOrymYMrkSfjll1+kQOLsc87BjBkz8Oeff+Kb775HRWUlcnJycPIpp6CgoEBqZ8hrH+rwQIfjJ8l1mzfiiiuuwB23H9zwUGT71dRUorKiHF+y4OGkk06St3D+CuXTzzgDW7duxfZt2zB37lypJmRfdjaeefIplJaWooxdeSsVSqmW5aGHHsSEiROwZ88ebNi0HsccfTQLsAJvP3WnvF0rMXzqGXKq88TUVIgjRrRpQaPaod7IYAhBflV9LRhpHQUehJAA3iFD5bXehY84ydt67GcF9uzZs/Hmm29KwQEPMPg4DA1vgdSZe9XVeP2111HOCvaMjAwkJibir7/+km7NhBiNUk0DrznJz8+X9m/4HIJQf3pMTErE8OHDD7qVw/+uzW7HE088haee/h/uuPMOTJs2Td5a7+0FC/H444/jrfnzpeCCL+vXrcOYseOkmhf+WmbPPlP6+9u378Cy35fhxhtvxP33349I9hpra63yM3U/tXUP9Ab/ba1gEAoLIbCgqi0L+6D4l8JKqt5dVCUNHI2i/Gw5RVpDgQchJIB6UM80Lm0L0ePFf598Uqrt+Oeff1BeWi7lO93+9hONDR06FDHRMfj666+wcOFCKVCYMnkyVq9aBdErSm1FVq9ag6SkJBj0eqmxKFdcUoKaGv96S/jf5G1Nnn/+ealx6cknnyxv8ePbnW4XfvrpJzz22GO49tprDwQ3k8dPwPqNG+B0OqTbQh999JFU48Jvx8w6coZUk/PKK6/gmWeeQXR0lPSY7matNSEhJshjurBASmr42Z4lsneNlNqYypgIR1HPNHA+FFHgQQgJ9MMv8kr3UrCgYNCgQTjt1FMxa9YsaXn37XekGo3MzExe5YFfli7BhRdciFtuuUUKIiKj/QXSgAEDcNwxx0ptMhq7Yu4V+O9/n8TAgQOl9HHHH4+Ro0fhqGOOwrHHHovHnngc6enpSE1NxbBhw3DSiSfh1ptuwVHTj0RJUTF7hEJ6/qbwGpBBgwYfFPTotFqpTccZp58Bj8uNSVOm4KKLLsKdd96JM844Q2q3MWDIYFx22WU46bgT2Xs+Ddu2bYOKvVfeluSPP5bjhhtulAIZ/j57itNajkJL+2dxbZHFAlRUtG3JywNyc4HKSvnBvZOojkCM+uBjjzSNerUQQgJULFiImKv7xjge/FbMd999hxUrVuDFFw9uGEpa5qncjL05ZRg2sWM9Nprs1RIdzRtG+NdbU8wCP367pU4v7NXCSQ2f1z8F44R7e7wX0qGAajwIIQGcGb33Vkt7ffXVV7j//gfw7LPPyjmkPWrKCxE/MMijcppMQGlp2xbetoPPC9PLC3PeLbvazl6j2PsaZvdGFHgQQgIoh2XKa4c+3gh148YNTTY8Ja0z19QiPDxaTgXJkCHAhAn+ZezY+vWWlsGD5Qf3XiW2GAgHxmAnLaHAgxASQP3TEnnt0MervdszkyoJVGupka7mg4o/Hx+ddssWYN06Pgobb4Urb2xGe9u5sOdzPP8sLBdcCMv5FwQstvvuDbx9EySxcQMg+qjGoy0o8CCEBKBmX4Rzu1wI11hRU7JHzgmisjLAZvMHHDU1/kAkmLxeuP9dA3dNNdymmoDFuZkFPF0QeMAQKY18S1pHgQchJIBqcGZA8MHX25quW28uzbW0vaPpOs1tb5yu01y6Lq+5dJ3OpOvWm0tzLaXr1ptLcy1tby1t3f0RYpANfc4ryN+1XsoLmoYDg/EakK64FaZuoaarC3oKhRkNUKv8g86RllGvFkJIgJJ92xHn+BaFuvPgKluBAWElLFdEbeylKM9aikER/rQ3/UqY8/5AhJjDziRKKEb8B9Ztb0IvVMHNLvzcA2+BruB9KLzsipY/PuEqqIq/gEEwweNTQBh6Gzx734NWrITZpYV+xI1QlbwCWDywi2ooB98MVc4C9ngzf1lwD74dvqy3oPTZ4DHGQJN2OXy7X4JK8KDWFQJhwEUILXxL2tenjIA9+UIY8+fxPw23Jg2awRfBtfUpVrAKcIYPhiL8SBiLFrK9BTh8Q1EbPhxx7u8Bhxc+dRxKDSci0fSetL1GORzahGnQF73LS2hUaqYiOiYeKPoedpcCBd5hSItOg9bm74q8X5wOpVtAmu4v9mJEWCJOhMcrIML8s7TdEnMWjGIZhMq/4WSfRUXoHHjL/kWa0T+te2XI2agt24wBBj4Utwh3ykWoLdqEaN8O9nIU8A24Dfbsj2BECdzss3ckX43K7Z8jI5x3OxVhTZyLyt3fIy3MP84JBt8K856PEKooh8WhhHHsney1vwLB7IDLI0Ax/E4osuezz7pWerw94za4190Lt4fFBayM9kGJ2KNf8j9XOzTZq2XkSCA0FCIfM6WqCkJaGu+X7N/WHF4rwm/JtLVXi8cD8xWXwlPRxFgsvBv2118DWm3QerVwFUW7ER2XAEHV/fMcHWoo8CCEBKh4axFCLz+flQUaaWArH1s4tYal2Qnd6/NJVaVqrYad373SPjytYVexbpeTbRf5kBvSBGceN58AzZ9WS2n3gcdL+zvZ/uwUxMfw4Pu7HA5WyPkLO41WJ01QVneG0rL9XfJEawLbQaOp31/J0ir2evlEbPxvKeS0i70eHnjwtLrB/ip2la1khR3/+9LjlUpp4bcX+J+rez7+9zilku2vVEkDfEnPz67Q+Wt2sffD3wtP8/E2+NwxfLtSxUdTVUjvl1Op+RW9AG9dmn2WfKh1N/s8+eN5mn/O/LPk+PggvIumR/5s+Xa+ranPmr1U6b3x1+7jnyV/vPzZS9sbp+s+W/mz4GWulqfZ8/Hvqm7/yk2vQm/ayXZWIU8xC8On+eexaY+WAo92CUbgwaMo/j2wN9wVgUdl8S5ExSWyGJwCj9bwY4wQQg4QRY9UENXN3MoLfL5IaVYA8llUecHHC1a+vS7N8QKQp/n+vCDmab7u35+n6x8v7c9O/lKaFwIMz/en/dv5v3V/35+Wn489r5SW9+d/hz9/3d+uS/P3UZduuD8vyPn2A49n74O/P75vw+fjab7wIESQt/PH8F4yfLZavm9dmgcudX9fpVJL6brH86BFaujK1vnC/5aSPabu8TzNJ2Gr258/N0833N7cZ80/I+m91H2WbOHpA9sbp+s+W7bO0/wzktKN9g8ZegWqVAMgDLmhQ0FHi3gAxgcH40PVt7TwfeRgrd140CnTpiQj7OIGs+N2wfW2udYOt4OK1LagT4kQEkA1Zoy8RvoznSEUNQ4jDLHD5Zwg8vn8Cw8AGixSOJCaWr+05TZMU1hQp7/wUuhHj5IWZXwslKNEhFw2EMYzTuNRln8/FmBBEZwgxOOshVJNg4e1BQUehJAA6rQkeY30d2qtAaIvOAVzAF7DlZHhDywaLAIPNoJEdcYZ0D3zLLRs0TzxFDDmEqjGh8B2Lh9+X4Db68W73yzB12t2sJKw80VhTWk2BAUFHm1BgQchJIDr+56Zq4X0PlHRSbBZeIPTIOLDoDd1W6WFReS3XDg+zwufu6WJfZpbBHlBqQ3wnYnwwu/Z863BhuXLcd0D83Dz/E9ZlNL5gCHa4IC/NRNpDQUehJAAvg7UbJO+KSI2HiU5++VUkFRVAYWF7VoEPuZHHR64NLFPWxbBpIBomw6YP8GUaDtuOfsw3HnuiRAbNCOpYM+ft2mjnGob3uBZ76tga1SktgX1aiGEBChe8y8Sp06RU6Q/qy3ZibLczRg89Xw5p32kXi3PPwokpAITe8sxxdt1VAPDslnEwCerY0WgaQgw70uUjz0MYXMUMPsmIWbILP/ubWC11MK97UWET31IaphLWkaBByEkQNGuXUgaNkxOkf6stqYSmqJPoRtxg5zTPlLg8cxD/pFCeWPSXkS8YjCEdH8jU9HrheefCigyQmAZMBH6tIukXkJtZa7MQ+WeX5Bx2DVyDmkJBR6EkAAVbyxAzPVXyynSn4miD0VrXkfytJvlnNbxIqWgsBBJCQmozclF+HdfQHQGdyhxwcfvjQgQFR0b8VThdQFHuCEk+u+xeHbrocj0wCnoISbfAENolJTfVrWF61HtDEH6wKFyDmkJBR6EkADlb76F2OuulVOkv9u37hukjD4J2lZqAPhgap9/9ZM0yNn+zatx3TmnQh2ZjKi/lgFOD0QPK+j5gGwa9jwd6SJbR8Uee9LJwO5dbNnJSrEOtKtgrwXjTECcRUr61iVAUatDTlw8MmbPkfLaY9eKNzFs5nVyirSGWsIQQgJ42jIyJOk30odPxb5N/qHeW7JtdzYuv/cV3PbEQtx+0gR4bQ6Idju8+UXwrl2Fmh9+ZssS2DZtlR/RMaIhFEhIAJKTpcngOoQFL79tNWP+71XSUlyll7L5iLjt5XQ6kBgW5Enu+jiq8SCEBMjftxepgwbLKdLfOe1WCDufhmrco9IIqs3hQ7z/seJvjBkzGtH5u5G3ZT2iv/gZHj5xDy9m5EaXSp0aYSeeJK13GB/6nI8v0tHAgznhlx34tcAMwefBuydn4rKUWJiOOhrhme27XVKesw5OUz5Sxs6Wc0hrKPAghASomL8QMddcJacIAQpWvoTYsZdBa4yUc5rGb7O4suZDZcmFr8wE26s58pZAtaedgurwMDnVusSSUuisVjnVtMq0dNS2ceRQrVKN8xYvlxqQ7i2uxQMnDMQNF10A3YCB0nD17VGx7RPoUk9CSDjN0dJWFHgQQgJUvLkAMddR41JSr7amAuX712LQ+JZrKuzWWugrngasTjitdnieKYbHYocuOQFCSjKsazZAKYjwXXc9Ik4/Q35U6/Y88xx8O7fJqaal3f8ADIPbXlM36Iw7cf7R47Hox9W484KjcccV7W/bYbfbUbvzQ8RPoEC9PaiNByEkgGHCRHmNEL+w8GgkC5vgtPsbYzaHz++SVzKAlSx8QjwNxEl6hNw9GNrrEiC6/N1pvaIA17aWg4jG2tL0wsO77LYRr5kxmczITImV0iZzy7UpzXHk/w5EjJNTpK0o8CCEBPDEx8trhMgEAfnCYfBU75QzmsYHz0ocfQG8PgUEjQbG2SkQ7V5Y/rsdjk2bIKiUUEWHQZOcIj+ibdze1ivmW2p/0pjVYgGPg2JjYxATosH+gjJ5S9vxmwXumr2IzZgg55C2olsthJAAVfPeRtQNc+UUIfX2//UyBky/RQpEmsOLlLufnIdQ5TZs2lCCBZUWlEeGwHLuBRh+0kkICQ2V92yex+3G5p9/gc9mZcGKCqk5eVBUlctbm1Y7ciyq5OYZMSNHYMDo5mdZ5jUeScfdgHcfuRrzv/oDVbU2rHi7faOO7t2yDMkxBuiTpsk5pK0o8CCEBKic9w6ib7hSThFSL3/H74gwKhGafvBw4narBTWlZaxUAZau24HLnvkCYSoRLlstvAolLjx2Kp666RxW6rcygikr/KM3b4XGyW/ryMVTW2bIbXA/xicoUTqZD9HO8poo4hQqBcbNfQZPX3MyduaV471f12PD/Dv5fSB5j0Dh8fEwGI1yihNhWf8ktKPvgpqPS0LahQIPQkiA6i3bETlmpJwipB6vKSjf8Baixsw9aEhxl9MJtzyZm8vtQuKZ/4czpmXizotOxCNvfoFf/92B7G9fRHR4G2o8fJ0f6VTFWxI01ziEBTfjL30E919yIkJDjbjmmY+w97MnoFY2fbtGw4IOtcY/vDpXsPVHhMYNYQFJppxD2oPaeBBCAinbXt1M+helUglD2tEw7/1MzqnHAxFjZKS0RMbFIzZMD48oYMrEsXjipoulfRQ6w4F9WlrCo2PatYRGRkGp0QYsokYNUaWCISLi4L/B8gx6HXt9IpKTE+F0e6ELDT14P3lpGHR4HCYY3FsQEj1QziHtRYFHF+EVSbzq0VxSgpqsLHh27YK4fQ9c6zYdWHjavnM3TPuyYS4rk64YCOlpvr9WymuEHCwsfhg8HiVqSvbJOQfjg4lZHW6MGeYvnKNiIqVbHk6XS0oHW97TT8Jz7rlwN1pcF56L6pX/yHvVKy0txbVHpGNsagQGp8TgPzOjsWP7NqlGpyVejwcl27+AYcTtULKghnQMBR5Bwg9It8mEqh07sHfhQtQ88T+onn4Vznfmw/T3X9jOAo+ciiKUaFX+hV1VZpUVYNeWTfAsYyf6ee/B9+hzKH70ZWR/8x3sBUVwWywQe9mMjqTv8wl0zJGWhWWeAU3FJywA8U+y1lhOXiFsDhfGyYFHhFEjtdYoqaiS0sHEL/J0JcVNtncVPGDn0YO7yt57771Y/NmHMNnsiAwPw6adWbj5lltQUFAg79E0a9EqKHQJ0Ol0cg7pCGrj0UlWcy1yvvgSw7ZlIycuBJqTTkTK8BEQFQoIfGlHK2l+lcCnjhbdHmSvWIHYVVuhdzmRe9QkDD72uHZ1FyOko4q2bkXS6NFyipCmuW0VqNj8LhIPu1vOqffz73/h5HvfRvbnj2BARoYUoAw49lp8/ep/MGl0cGdw5UVY1g3XIz43t8k2qK7bbkP8CSfIKT/+GF7yKeQ2II3TTSkryoXe/CtCh9Lgep1FgUcHFf76K6JXb0ZZZjripx8ORXQ01Hr/REPBwr8aR20tVCXVKPj5N6SyoKTq5CMRN2yYvAchwbd/zRoMmDpVThHSvOKsv+FxVCN19Glyjt+Dzy/E279sQP4vr0rtQrjXnrkXP/y0CofNOhoPP/KwlBcszicehGr3zro+MAcoBBHma29D+BEz5JyOsdlscO16C4YR10Cja9i7hXQEBR7t4OQH39LfUbVzB2KPOgrKkSOgDQmRt3Y9c3EJxA1b4NyeB+Gw0YiZQYUDCb6KtxYg5lq6qiNtU7L9c+jC0hCRWn8++vWTT2FTaHHsycciRD5H7t27F2q1GgmJidA2aKwZDDarBZaSUjkVKCo1BapOdnk1bXoVqoxzYIxIkHNIZ1Dg0Qa8mtD81yr4tqyHb+JkxE6fLm/pGVIAtOQfVO/dBf1JxyB21Ah5CyGdR4EHaa+qzW/DFzEBMenjpfRr897Arh3bceSRM3DuuedJeYci0ce7D8+DIeMkhMTQjM3BQoFHK9yFhbB8/D6E0RMRccLxcm7vYX/9Y5hC1Yg64zhoaHZEEgTlGzcidry/ACGkraq3L4I3dCJi0vpG+yCfx4XitW9Al3IyolOHyLkkGCjwaAbvTbL3qy8RvT8HxltugbbRYDm9SUVuHvSvfwrLFacjfnhwG26R/id3+xakj2x+uGlCmpP7z4tQJh2LlAGjWOrQHQ/G7XKicNUr0A+5APFJ7ZtXhrSOAo8mWHmDzldeQc0ZpyJu1Nh29UzpKT6XC+Vf/ARHdTXSbrj8kHjNpHeqWLAQMVfTNN+k/aQLtvWfQaEKwaDxp8q5h5bqyjKI+xdDP/Qy6EOj5VwSTNQ/s5HqXXvgfHs+fHPnIn70uEOmAFdoNIg9/3TEHjYJtqffgauJvuuEtAUf+4CQjuBDCAyedB5iY+NRs+Vt2Ky18pZDQ3n2P3DkfomQEZdT0NGFqMajAeu6dfCtXwPVBZdAHxYm5x56qvfsge/L5dBceQZCaYpz0k72XVnQD6N72qRzzOX74MhfCm3CYQhLGivn9k5ejws1e7+ARh0BbcrR0GhpgLCuRIGHzLJhA4S1a1lhfQXU6uB29eoJNcXFUL3zPXRXz4EqLkbOJaR1Vdt2ImrUcDlFSMe5XC5Yc36Aw+6CMeN4hIVHyVt6Bz5EurlkC5wsQPIknIbkDDruuwPdamGsu3ZBu3oF9Fdf3SeCDi4iMRGeq86E+7VPpUHICGkr35+r5DVCOkej0SAycw70yTOhL5mP/F0r4Hba5a09h19vO2uLUbZhPlw1uYifdg8FHd2o3wceztz90H3yHlTX39bnhiSPiI+D++bzID48X84hpHWCr+n5NwjpqIiYRKiH3guvKhaenS8ge9NP8pbu57DbUbbyvyjLWorY8VcjbuSZ8hbSXfr1rZbaokIoFr8P3e13QtXJmo6ykmLUsiUYNBo9UocPC1rDVktuHtSvfw3VkzfSjIqkVSZ2vISnp8kpQoLL7XbBVrkftdlLEBEeAnvkcYhLSpW3dg23243i3SsQq1iPAnMG0kafAK0hQt5Kulu/DTz4gWh/7WWoLr0ChuiOt152OhxwL3wLIRtXA97gXSk64pPhuPZWRAz0z+7YWdaN2+HYuQ/RF54u5xDStNLVqxE/bZqcIqRr8K63tVWF8FbuhLM2G8bQKFhV6YhIHgN9J+e94sVadUUZnFXbYHDuRUWtBkmZE+AzDobRSHOt9LR+G3hUvLsQmnHjETZ+opzTMeaffkDoZ4vQ5LSIDM91sx+YzRnYR9GgVkGjavnWjm3IMBge/K+c6iT2NZsWfA5MGYnwcSPlTEIOVvnWQkRfS+N4kO5Vlp8Fo3c/zNWFMJmsiI5NREhEHCxuHURNBLxCiBSQaLRaqTbY43bB7XLA4XRBcNdCJ9RC4zOjtJQFM04rEhMSUatMR3jCUBiM3TenFmldvww8Kjash5CzH9FzzpZzOq7s+acQt3mdnAouu4H90N58T04FR/XDr8Nw2yXQRh663YVJ16qczwKPayjwID2rpqYGVUW7oIUZbls1UsJt8Am86yu/iGPFlihApdXAYrLDp4lEmSMKUQlDEJOQcmBGXNI79bvAw+fzwf7o/dDc9yjUus73YCl7+nHE7doCRMbJOZ0nqlUQyotgU2lhWLBYzg2O8uz9UP+2FhHXnCvnEBKoZM8eJGRmyilCCAmufhd47H3zDaSdcio0qcFpzCQFHnu2A1NnAi4nWKgNhIT623vwbqw6g7xnO639GzZBCHrgwdne/x6msalIHDtOziGk3q5lyzDs6KPlFCGEBFe/6k7rqa6GrrwM6uRkOSe4yvZno3jHDojTjgBGjEbB+vXwVRTJW3sP5Zyjofp+tZwiJFDM3mx5jRBCgq9fBR7Fn3yMmDvukuYTCCre7VWjQtzQ4UgcMwbCH78BmzYiZfoMKGKS5J3aQd219ye1IUZop41CyWoKPkgTPF55hRBCgq/f3GrhY1l4v/oU4bffLecEB7/VErN7BxTX3wKp5VMw8MDorRdhUyi75FYL57RY4HnyHRj/e7M/cCJEVrN7NyKGDpVThBASXP2mxsOy6m/4Lr1cTnUBpVpeCYJuGEFVGxKCkmmZMBWXyDmE+JlNNfIaIYQEX78IPGxWK0IL8xEZHSvndAWBd5kJztJNUmYeBtfL78spQvz0W7bKa4QQEnz9IvDwrV4N87gpcqqL8DtW29kJe+tmYON6/78b1vn/bc+ycS2fMlF+0q6lCQuDSq2Du7JKzulZtbXV+Oqrr7Bp0yY5J3hqqqvhcDQ9OdXGDRvw3XffScvSpUvZxx842Ftb1daa8eyzz0qjJja0ds0q7Nu3T071foKz+4JfQkj/0y8Cj8qtWxA94wg51VXkwsbjgXfmLODyK4GzzpGyxKgoiCNHtbhgmDwzokrjD2K6gTT639VnwLR9r5zTcxYvXoyLL76MfXwefPrpp5hz1lnyluD4v/vvZ0HFb3Iq0H/uvRdlpWXwOF3YumULrriMfXcdYDLVYMGCBXKqXmhoJHQ6nZzq/cLOPE1eI4SQ4OvzgYfdaoE+LBRqTTdNd69SQTl0GKDVAomJEBOSICj4bRh2Fc1n/WywCDU1EKoqpQXsirwnxKZnAL+vOegqvTtVVlbi9ttux0cffYRzzz0XTz31FG695RZ5Kwsa/u//5DXghRdekNeA3H3ZuOeuu3Dttdfhgw8+kHOBzz77DDfedJP0nFlZWXA4HFi1ahXefPNNrF+/Xt4r0OzZZ2LOOWfjjjvvxMpVK+XREYHfli7FZRdfgqvmzsW+rD1SHrdi+Qqcc845uOSSS7B923Y5t15+fj5efvllab2wuBBVVf5apcceeww//vAj5l5+BW697TYpjysoKMCN11+Pq+dehV9+WYLnnn9e3tL9anLz5TVCCAm+Ph94mP5ZhbChcm1Cd+BtNKrlWxduFlxUlLAgRA9Bb2RLSMCCigqguJid6cshGq1AVM9cFRu1OpjLy+VU9ytghfQZZ56BkBD/fAo8WAgPD5cCBm7ZsmXSv9ya1WvkNeDyq+bi6muvxeuvv4odO3Zgy5YtUv681+fhtVdfxaOPPQqVUinVNkyePBnXXHMNJk5sem6eN+e9gRefex5XXjkXDz/8kDSL74YNG/HAgw/ilTdeY8HP/Zhz1tkwmUzI2rMH17MgYcH8+Xj88cdx+eWXobysTHoeXotUWlrK8q5gwcxsKY+/n8LCQmn9t99+w9Ilv+KFl1+CxWzGtm3bpPyLLroIx55wEl548SV8+83X7H32YFfnTQcHUoQQEix9PvCIyd4Fa5BmeG0VrzXgPVK+/Qr44w/g48WAhwUihQXABnal3Xhx+gtWqFm8ogKWqBJRJHT/tPX7xyZBW8CCoB6i1xpRyYMwGW9rcfddd2PH9oMLQFG+pVVdXYHyklIWdLyOu9i+paVlWLRokbRt5LDhOOG44/Hxxx8hLj5eyuMULfQWOvPss3DuJRfjgUcexTPPPgurxYpffvkZV199NcJDwzFw0EAMG5SJjRs3YtXKVbjk0ksRERmJjIwMjBs3AX//84/0PHx+iSlTpuChhx5CWpo8tXyD7so8MLnhumulwGrG9OkoYUEK53V7MfvM0xEaFiLd+qkLunqCUui52i9CSN/X92+12G2ITkyUU13JDTGG/R2jlpekLNjYzz5ddgLn6dYWrxLflUTif9Y0XGI4HMVCELvmtkEyKwAtuSw46iHpA9Pw69Kl0u0G7s4778ToMaOldc5ms8lrwO7du6V/IyNjWMEfJd164cvChQvwvHx74vW33sAvvy7BmDFjcdxxx0l5rUmKi0UyC1IGpqVArVYjJy8XqampAbdm8koKkRQbh5jYWKxbt1bOZfn5edK+fGIqnVaL7OxsXH/9dSgq8o9ay4ONhpy+gxsPV1RVSjUgnMvmOtBkqCeozjtTXiOEkODr84FHWViUvNbFBAWEJHZ1PXhEh5ZTMmIw2MCCFwi4NUcLk9h9g3rxq++a7Bw51f20rLDevz8HF551LiZMGC/VGFgqqw+MMMtrDmbOnInZZ87GMUfMwIoVK6T8q6+9GrNmzcK1116L4449VmqnUlNThZOOOwF33H4H/vv4E7j11lulfSdNmoTbb78Njzz0iJRubNYxx7J9JmL8+PE4fNphGJqZifPOO0+qeTjx6GOlfH47ZMiI4Tju+OOQnpCEE446Rrp1c9RRs9jrngCv1wutTicFIEuWLMFVV84Fn5TQ43LB6XRKf4e/RoF3vWYsDQKqF158AVOnTsNpp52Gt95+C0pVz82uaVpXH2wRQkiw9emRSwvzsmFkV64R04+Sc4LvwMilN94J5GRLhY9UsEj/9xcx/g9YlO7EHFhn//UXP/59FOyq2Oz14WLnQJhVoTisaAPu3/0zDG9/KO21dccezL39KZRbHLjr+gtw48WnS/nBUvrMQkTfeYXUJqKnuN1uFBYUIio6SgpGlCzwUKnVUqGdvX8/UpOTpUbCvDDX6/XSY4qLimCqrUUmCxTqbqXwGhJe6xAVHoGk1BQpjx/m+bl50nOHhIZKeXV441bp1gb7Dvh3kZCYwL4P/3Px73Pv3r0whoQgpcEcP/w18HwNez3p6elSrYbP50V5RSXi4/wzFZeVlSImJhYOu10KJLRaHSoqKhAREQGVSgWr1SrVrvDn2LR2HVIGpLM8m9T1lgdXjz76qPQ83Y2mxSeEdKU+HXjs+OEHZA4ZBFUXNi6tHzL9DmD9v7whAbysUPTFJUKoLIXKYpXH5WjlY+bV8Qol8tlyo/EwWHxKzC5aiZvvuUoqNKecej02bs+Sds1MicC/S95HiNEopYPB+fqnsJ9zFCLkQpN0ryeffFIKliJYsLR7z2588cUXUvDVEyreXICY666WU4QQElx9+laLMjcXFj4uRnfhV9wKAbWnnAnTMSeg9rRz2KWxB84hmbBOm16/HDbjoMUxfrL0FKnsqvk/STZoFCK+Tjoc81fulnrKTEqsbxcQpTegusjfSyJY1JHhsMsNHUn3412GFy5ciGeefQbff/99jwUdkpNPlFcIIST4+nTgEV1VBpXR30WzWwgKiIYweEPDofR4IPLCw2iApqYK+uIS6FnBri8vg76CLZXlMK76E8a/l0uLbl19N9FpWh+u2vMDlCwI+SwPeHP5FsxbMB9nzhiNSaMHY/4r/4dUFswEU5mOBTbV/saNpOe01POmu5TLXXwJIaQr9OnAw8OHAuc9TLqRUF0OQ14OvCoVtLyLqIkV5rVmCGXFEEqKIBQVQigogJCf759YTsNeH1/UDXqysMeeVbAZV+/6CT6PF58Xa/HmH1tw1nmn4bYbL0SVI/hDqntjIhDmoKGyCRArjzlCCCFdoU8HHlEGHbuC7MbGki4HCyA0MPz2EyIXL0TId59KQYXg8UBwOQ9amsMbmgqiiOOrduLWUQYp7/MiNRbUJGJ+RSwe3qnEQ3/tl/KDoWL3HsR//hn0iz6B+fVP5FzSXwnBj2sJIeSAPt24FA/dC/s9D0Avj4jZFQ40Lr3pdqC6ptU2pC1jD+YDiEWEA288DxsLmrRvvof/fLgMGxT1PSo4lSDi4UmhOGKoPEhVJ9hffBb6ddtY4KSHxRACw7vPoHDR2yztgsACqYRLL0fp+4vgc7uk/eMun4uSLz6DwmIG9EakXnoZct59G0oWTIlxiYg++mhUfeLvjaOMjUXIkUfD9CULwhh7SDhS5sxB5Qfvsbfrg27QEEROmYrij/n+IsThIxGWkADzH79D6VHDM2EMhDAj8PefUHhVUE0eD4tGDd3fa6X+QOpjp0O0WeFZuVF6/sizT4MjOxv2DdvZZylAd9apsGzcANU+dhWvVEA3+2RU/bMWhmJ/e5aI82aj+O9/oC8sY0GjColXX4aiDz+HYKqFS61AytzLUPr2BxDcLHhUqRB95UXstX8B0W7l90UQd/WlKPmAfRY2G3yREYibfQoq3v2IvRURnqQEhB05DbZPvpH+FqLiYDxhOqyfsjQr3DUpcYg86USULPxYasejGjUYIUMGoObrpdLujjGDYIyMhHfFOintnTQUHoMe2j/9k+jpZk6Gg32G+NPf/TXsjKPgLqyAfZ1/dlnjBafBvXE7XLuypbT6rOPhWLsFyrwSKR16/kko/3sNdAVV0mcVd+U5KP7uV2jcbvad++cZIoSQYKPAo5PqA4/bADf7KDt7j54VQPxWS13gYViwGPM/+wmfugdIvVsa++z0NMSEde79lX/+OWJ/+JFFBTrY0tJheO6+A+NO8G6ivLtnXZrjDR9dLCipez08Xbedd0NVsQKcb+f443mX0bo0b8PA0wf2Z2netbRuOx8Dg+fxrrWcSqGSnsPt9af5dp7mk8lx/Lm4uv35a5XGzpC389fGt/E8jm/n2w6kWWAlpXkBzjR8b+197zwQkvaXa7OUghJKtbLZ9974+Q967/w4YA68V35rjh1eDbdLn42c5s/N3xfvAszx18Yf2zDd+LPgI6Z6Rf92nubbi1f8hfTjjpHyCCEk2Pp04FF7x60QHn4UoeERck7w1Qcet8JRVQstu/pmpYE/gOBYQdIu7HFCcirw5gsHAo95v63Hl2UGiL76r0qlUrBCxYcMvRtvnjESGrmQ6qj8dxchNLcMwjUXIzwpSc4l/VHFwoWIuYrG8SCEdI0+3cbDwUeRZFd03UMNXW4OhJISCAX57I/bIJSWQigubt/Cu7Q2av9RN9BYQ0dGuhAZE4IcuxrrCmvk3I7zJaZAc+KxFHQQKNyBxxohhARTnw48lKwwddnrh6XuUnUVR243rEcfj8o5F6HyUnbVGGKEGBYF04knt7yccDKga3qOlmRpkM7Aiqkiqxfvz4yDTiHiw03Fcm7HJbjZla7gr7In/Vv4xefJa4QQEnx9OvDIN+gRwnuadCelEu74JKlXiqhSw5YxBILbBn1hEbR5+WzJg44tYaUlCP3nH4T/usS/LF0COJou+I2CN+A2Cxdn1MCo1yEhSo/ddg3ySzs3rb26xAJDXP1MrqT/qljpn2mXEEK6Qp8OPEJGjYLIhyzvDnU1HuxfbdYuqbGi0myCYfc2f7uNkmIoy0qhrKiAoqwMbn5bxWZh27z1SzNKq8zY8s6rAcueFculbSdEOqWxPn7L61zNjsVugTE+Vk6R/kzY1/kaNEIIaU6fDjwSR41G8f49cqqL1QUeCgX069Yg9pNFiPzkA8DtAZwuqMtLoa4og7qsRPpXwwIRQe5tEEBqlBp4j33bzv2oNNsDFtHhD6jOHJuBUK0C/5baDvRW6AiT1Qy9IXhzv5BDl5IG8iCEdKE+HXgYjUb4cgrkVBdTKmAfNhzioEEQhwyBmJzq/3fgwPYtgwfzfo/yk/qtz62S/lWyeETF/8NUy6OXanV6jA8XoXTZUVjYsStVHrC4o7txaHnSq2kvojE8CCFdp08HHlys6PFPed7lBOhVagih4Z1eGuJtO7Jzi6T1i48dj6vPmCGtN6zduD5TiZfjsxBS5p+9tr1yduxE0pBhcor0d2W/+gcwI4SQrtDnAw8xIRW2vXvlVFcKbPwZLHaXE3llJmk9MzUW0QZ/bUhheX0X2piUgTBnTIFxmH+G2/YK/XsjnMmRcor0d2HV1fIaIYQEX58PPGonjIc6Z5+c6kodb1/RErvDCZfco2XIwHSoNf6Bwhwe34HRM5UqFSKSB0Bj7FgbjbC8aujTU+UU6e+oiQchpCv1+cAjaegw1GYFb0K15nVNjYfVVj+YWEpCjDSsNdeZhqQN8SGy8wdEQtOoXQnpv1SzT5PXCCEk+Pp84MGFJsWiIjdXTgUfb+4pVtVANJuCs1Sb4BP8s+paG4ztERFqODB/h9cbnMCj8LufkEHzcpAGylatkdcI6Vl2mxW11WVwmApgq86DpSIbjspdsFfshK0yC5bK/XCZ8mCuLoXVYjowbxHp3fr2JHGywu3bEbt5IzQXXiznBA+fqyVuxyZpJteWNfyY2zAktUYDm1aPbXc8jqmXPipl5X/3Pyz9exOufOZjxIYbUbr0NWmSsI7ysB+p4rqn4Z13D9RU40FkNFcL6Qk+rxei6EZ5YQ6K9v2LgaEl7EzphE8RgqzKcIRGp8ImRiLEoIJSIcBu90ItWGE3FUFpzUJarBIhOh8KTQY49MORMWwqVFojFEp1p86TJPj6ReDB32L5i88h7o675ZzgORB4tCZtEHD8KcC/fwPr2RWlPKtqS3jgkXvvUxhx/oNSev83T2N/XhGOvuUVhBp0qPnjDSjYD7CjnOy5ctauxtCz5sg5hACVr7+F6BuvlVOEdC2TyYSSbd8gw5CHHFs6wlMmICZhACudWIDBzpOC0MaKeVaSeb1uFsC4IXrtyN60HpHiGnZRFQJz2FFIzxwn70h6Wr+41cKj3fAZM5D/849yTjfTGoD7HgKOnAnc9h9g7AR5Q+t0Wn+bDs7t9mBgWqK07nS5YTabpfWOciz+AYPPOF1OEeJnvIDG8SBdy+N2oWDbL6ha9yJMuX8hbfhMCCPuxtAjLkVC+iippkKl0bY96ODYNZhSpWaBhgEaQzSGHX484o94EJrBFyMqRMC+v9+CZfs7KM7Lkx9Aekq/CDw4xaixiFm1ild/yDndxxsaAdSNCsrbaCSl+dfbQKv2t/XgnB4fEmJiEBeihcvjxd7sjjeate3NgSsqROoRQ0hD1X+z3wkhXcButaJ2/w8o3bQIEZHRMI6+AWljToU+KgMarU7eK7hCImIRmjQWg6ZfC0f00TC616N8y/uoKd4p70G6W78JPNR6PeynnYHy1cE9qSojWx//QlnKIuyN66WZa8X8fIj//CFvaZloYJG7uj4wEH0+aLVqDErxz6myZlvHxifht55sS/6G8dIz5RxC6qnLaK4WElxejxuO0n9h3fkuHIoUJE++BiHJk9n5rHvblsUkZCBs0GwY2ALrDhSufxuWqnx5K+ku/Sbw4ELHjkXElx/DxaLuYFHNOApenTRvffOULHh4/nHghssh3HcLhLZM1a9QQJw2A2pNfVsQr9PftXbMkGTp39WbOjYPTdW6jQgJDYeBBTaENCZ4+tVpgXQlEagp3w/blhdRWGZHzKSbEJfe820tjMZQRAw+C2FDzoIr93vkbPoWbmc3z2Tej/WLxqUNVVVVwfTrzxhw/kVyTtP4x1JS5B+qHK20iBbLypDw3WcQyjo3Nf0BLNioPPoU+CZPgM3mwIzLn0CBzYufnrkG44Zm4J1vluGBd3/D4MRILH/jLijY6xN9XhgNRoRHRclP0ryCR19GysO3yilCCOkaxZsWQydYETm2dzdWrizLR2Tl63Ck3ANDaOvnUNI5/S7w4Gqefw76086ANnOInHMw/rG47Hb/QF2sYJdCD/k//B//h8b+6/8/fwB8Xo+U21kKQQGFSiW9BpH97cyTbpYCj+Wv3IppY4di2eotOPk/b0LNLkwrf30Zan47hr0I3l6jtW6xrkXfwTwsGdHTJso5hAQq/uwzJJ57rpwipP3s7Nzp3vUGXLEnIDp5hNTAv7dzOmyo3LYYqtA0xA09Uc4lXaFfBh5Ohx3Wea9Cf+2N0HdwmPFuw76d197/CtW7duPsuedj+OAByCkswf+efhtWpRsL/ndfm++TVmbthfDXFkReMfuQOBGQnlE67z3E33CZnCKkfQr3b4M77yckTJgLXWi0nHvoqMj6A7DlIWYs/Qa6Sr+8mcunktceeyJcn34k5/ROvLvsa6+9huxNf8GVuxMRWn9D04zkBAzXViGmfA8ee+xxbN26Vcpvic/phnbRTwg5+1gKOkiL1Mp+dy1CgqQidx3UNcuRNv2OQzLo4GKGHAV17DhUbFoAt9yujgRXv21FZhwzBr6ERJT+9IOc0/ts2bIVvy37Hdk5OdhqN6PhjRx7fAKybXZs37Ed7773qZzbNK/bjdKn34Li1guhCQuTcwlpmu6is+U1QtquZO/f0Di2I278TVDwBvWHsPCksdCkngLr5ufgcrShMwBpl355q6Wh6nfehueIwxE7dLic07fwNip73/sM+pEDkTplipxLSPP2f/wJBlxwvpwipHX5u/5EhCIXoZmXyDl9g91qBva+BtWw26DWttJ7kbRZv+83F37Z5aj6aDGqi/vm2AW1Xy6BNiqMgg7SZqFWi7xGSOtKsrZC6cpDyJCWewoeivTGUGDI9TBveTVoM4ITCjygUCox5P6HYVw0H6a9HRuQq7cyf/ITPKKI9DNOlnMIaZ1AE3ySNjKZquCu/Rdxw89Bu4Y3P4ToDRHwJZ6Kkg0L5RzSWf3+Vksdr9eL4peeR9ixJyBs7Fg599BlWvQNPFFGRJ9+nJxDSNtYq2tgjIyQU4Q0zeOyw7b5eRjG3C7NrdLXlWT9Ci2LyiMHnyLnkI7q9zUedZRKJVLuvAe+DWtR+duvcu6hx+f2oPT1xXCkRlPQQTqkZOlv8hohTeMXauVb34E7Y26/CDq4hCHHw2erQHUZTTLXWRR4NBJxxVWAuRbFb78Nl+PQGkLXVlQC12PzIBx/GOKPmSHnEtI+4bU18hohTbOVbIJXOxDRsf7ZsvsL3cDZUJd9Ig3uSDqOAo8mRM8+G8Zjjobw6P/BVdP7T8J88riq1Wvhnfc5dI/fgrghg+QthHSAS/6XkCbY2IWZp3g5UkadJOf0H8aQMKhTz8fmFYvlHNIR1MajBXwyOdOCBXDHJyCpl3Yv5NNMu17+AO4xQxB54kya5p50mtfhgFLXNVOUk0Nf2db3oIw/HtFx/au2ow4vMkvXvY6YURdCpad5XTqCAo82MG/dDMeSJVAdNg2RRxwp5/Ysj8sFy8ffw1ZdjejzToM2MV7eQkjnlH7yOeLPP0dOEVKvvDALGvMmhA9r/vjI/fwzpP3xkzR/lZctSqUCvqg4KCpKpXmtevO4yR6VGu7b74dh4AA5p2kOhx2Wne8hZvx1cg5pD7rV0gaho8ci7IaboDI7UfjiS6j88094PcGZEK69LDU1MH/zG8peXgRx6EAk3HIlBR0kqBRmauNBmqauWgFl4lFyqmn6knIIVjNbLCgsKINLYYDymptRW1SFypJKKb+3LmprLdy1JvmdNE+n08MtGmCrzJZzSHtQjUc7edxu2H78CbasvQiZNAHCsGEwJnZtlSP/iqx7c2BduwHG0grYp01E7GGT5K2EBFfl24sRPfdiOUWIX2VpLnwVGxE78kw5p2mFL7+C6NXL5JRMwa5xmxmAS9TpoA8Nk2pI2H/kTPnfA/NKsX+lVf6fRvscKMIa7NPqvkzdczf8G0olaq++GWEjRsh5zXM6nSjb+BFSp10h55C2osCjE3I2b0bMsj/ZAWiDc9ZRiBkyCEJoKNQajbxHB7FvxGmzQjCbUbhmPeJXbYAjYxBU552IsEi6p0i6ls/nZeWEUk4R4lez4QUoB1yE0MiWa1j3PPcsFMuWyqlWsOInZOhQJFx6ZWBQ0FPUatTGJyAsPk7OaJll10ewh05GbPIQOYe0Bd1q6YSMsWMRcvvNiP7PPVAlxCF30SIo/vMISp54Ajt//AHV5eXynq3j/eLz9uxC4cefwnrfU1Df/zLyfv8NCUcfCcNTDyDqugsp6CDdoujdRfJaz6iursDXX30lpwC3240HH3xQusJsr63btsBiaX4I+LKyMvy5YoWc6j3y8/Mx9wpWGPcWog9VNm2rQUeHse+4tywCe69tZY88EnrXZjlF2opqPIKM34rxsBOdwmxFdWEhynbtQajNCn1VDdxWM6JCEuQ9RdRYayCEhcAUpofAouyYIUMQEhcLr1EPXUgIu+qkuJB0v+J57yPxhkvlVPfLzs7GE0/8F++887aUttlsiI+PR3FxMULY76I9rr32Wtx5553IzMyUcwLNPmM2/vrnL+Tl5cFgMMi5PW/Pnj0477zzsHHjRjmnZ2355xsMGTUZ+vBkOad5TdV4+BoEjQqtVl5j6mo8Lrik19R4mJOTEZpQd55u3f6VbyB92rV0vm4HCjy6Ga/ZqMNHSyWkt6lcsBjRV/dcGw8eeDz77LN44403pLTdbpcCj6KiIinw+OyTT7DonUXwsfP8BRdcgMsuu0z6Xd17773weDzSfs+zwq+ysgrns+3Dhw3H/PlvIiY2sPqcBxtnzp6N0049FUfNnIlZRx8t5X/xxReoqanB0qVLUV5ejsceewzTp0+XAp958+Zh7969KCkpwQXnnItrbrgebpcLJ598CoYOG4oxo0fjGhbsvPvuu/jkk08huj24/qYbMXvObCx67z2MGjIUkw6fJr2nBx54AM8//zxeeull7Nu3F2WlZTj/wgsw+8wze1Xg4fG44dr4KNTjHmTlcoOgoRkNAw+RfS8hUw9H5NnnwBsRAaXZgprvv4b5j2UQ+PmvceAxYAAQFiY9ttPYd4TSUoAHOsOGyZnsz7BAFuziUIiNPdC+QzSZIOTkdCjwqM1bCZPFjdQRM+Uc0ioeeBBCSB27zSav9Yx9+/aJA9MHiMcff7y0HHvssaJOpxPNZrOYlbVHnDVzlmi1W0WXyyWOGztO3L59u7hr927x5JNPFh0Oh+jz+US32y0911VXXSWyQEFab+yNeW+I69atE61Ws8gCGDlXFF+fN0+84447RBbEiPv37xdnHDFdZMGFmJubKw4dOpTtbxUt7DPif2/Pjp3S34yLixN//fVX0ef1Sc952GGHSc/FAgxx/Pjx0mvYsmWLeNSso6TX9/pLr4gff/yxtE9RUaH03hxs33HjxrP35RR3s/czbtw4aXtPc5jLxOyVC+RU63Y/+4yYddJx4p7jjxbLXn/Nn8nes1hSIrJAREqWvvWmtD3rxGPF4ltvFMXVq0Vx1SqRBQDSdmn/qiqRfdj+dEcUFvqfc9MmOYM97bq1onj52aJ43qmi+NKzouh0+vNravz7su+utrhYymsrU3WFaNs+X06RtqC6IUJIgNJP6ttX9JTjTzoBS5YskZZvv/0WKnlgvFWrVuPwKdNg0BnYxakal152KbL27MGQwYNx2NSpmHPaGbj99jukGgvOw664WYAirTfE24u88OILWLBgAe644y788ccf0vPUOe/cc6UayYyMDCTGx6OsvJxfpGHChAnSLRmjXo9jjzkGy//+S34EcMQRR0BQCNi1bQdOPfU0KY8FTDhs2jRs2rQJI0aMgMtmB2+z8sEnH+HEE0+U1l999TU8/ODDeOKJJ1BTXiHVMPQmlUV7ED7Y/37agw9CF3mhf6p8cfMm4ParIa5eyVOIu/QyqIzN3DZjnzOLJoHdu4EtW3ijH3lDJ/E2HIvehKhUwXP4MfCAHVPr18obOy4sIhrZJfU12aR1FHgQQgIYvXZ5refwQr4pU1hwsXHbZjgdDjjY8s7b72IQCzr4LZbb7rgDP/76C2688Qa8NX++tD+vSOftrngB3xC/jTJ1wiS8+eab0vLwww/jw4/qh8H+8aefpMfwhqm7svYgITZBuoe/atUqqc2JiwUu/6xciSlTpsqPqH/NAzMHY+mPP0sBD3+NW7duk4IOHsg8+uQT+Pnnn1nQcRIiIiKQlZUlPefzLzyP+x94ANoQA3ueuu6dvKzs+SCktmAtomLb36hUN2QYVOw9cgILEt1uBfs++HtjCwtKdKOnSNsOwt6z0LBBcDsa6beIBaECC+qE+/8LVVgYVKt+k7rPBkNEYiYqKkrkFGkNBR6EkACKHp6rhddkCAfGVgg0NDMTV155JZJTUqTaiEcffRgjR45EUWEhjj/2eEycOBFnnHgK5rJ9uMkTJ+HImTPx/PMvSOk6n376KR757+NyCrjmmmvw65Lf4JPHmhgyZAimjp+IFPZ3nnvuOSjUCmkbb+tx8kmnIDk5GZPYc48dO0Z6rXypa1w4bdo0XHbVFdI+/PF333M3hg8fLm2bMmUKLr30Ulx00YVSetiwYRgwYADGjhnH8i5CGCsQd+zYgeTEBFRWVmLi+ElSUNVTeFuU9OgOXs3XxY7V1XB/8QXEoaPgZgEfb1/BecRmDjQ+HEHDhr6RkfJKJ/FpAM6/GL4P34H481fAIPadjB0vb+yc6PhUlGT9K6dIa6hxKSEkgJNd0Wt7sIcHPyXx2w1qdf14OLzmgN+2qGOzWeFjZ64QY/2U7LyBqclkkhqgahqMpWO1WmFssB/Hayw0DXtXMC4Xy9NoMe+NNzBpwgSMHD1auj6v6+2Sm5uL++67D++9955UIPMgoU7j18eZWQGrZMFI494yjfflAQ1/3bwGhNdw8NtKPIipu0XU8L10t6rSHNjy/0TKpLb3cqprXOpl38+g9xZDtWsHfJs2soiWvQ+fC4qx46QCP/tyFgSw7yGgcSkfuIt/ruy7RG2t1NiTfXmspGo6EG3KpTc8glV/rcXiefdiKn+8Xs/+3lj2wWdB3LuI/Z3ZLPhxQcwcCkV0tPQYqXHpzp0dalzK1dZUwLP3fURNukPOIS2hGg9CSICSr76V13oGrz1oGHRwjQt1g8EYEHRw/FZGVFTUQQV146CDaxx0cDzo4NJSU2HQ62BkAUPDoIG/Bl67wmtkGgYdXOPXx4WyAKhx0ME13pcHGZHsqp6/b/7a62pO+HpPBh2cDma41W0bTKsxhc+L8nmvAtMOh+KW26G46UbpX0w/EmVvvSFNRtgckQdd/DYIr4Eym/1BSHNLgxohr92Gv//dghyTDRvWrvcHLCyeER2lEHM/hZA0B8LICRCmToOC16Tw55druTrDYAyHQe2CjwdMpFVU40EICVCxYAFirr5aTpH+rDzrD4hhQxEXnyTntK5xd1rNgEGIPPtsaGLi4ayuhPnLz2DPymq6O61c4yGWlEBoMPZHS0QWWAoxMXIK2LhhG/5ZshA3XnsjhPz18CnzWfxhhlc/FCoFn+SzUXAQGwuRBS+dqfHgdi9/DYOnXwulSi3nkOZQjQchJICoPLg2gPRP1poKREbFyqn248GFOy8HJU8/iby7bkXpfx+DIzvbH3S0hI+1YbcftIi8liI9PWBpGHTAa8PY1DzceJoAFM0DVLtZKRcDcdC9UCqOADJS2ZIRuDRRI9YRZjcLgND52pP+gAIPQkiAmCvY1SchTFVVmXRrqbMU/BaSvLSFMHCgf9CvRovQ6BZXAD7Uee4XEMp+g6BSS4vPNhQK6xgoqk0Q+O214uKml6Ii+Uk6LiQymQUedAOhLSjwIIQEqHjnA3mN9HfG7q782rePjxff7kXcvgferJcBxx4ISv+YLwfwNiC5uS0ugqn1qfBbowmJhrsHeyAdSijwIIQE8Lrpqo0AVVnfIkG5BxX/3I/KQhYQdAferqOqqn1LZQ3g+xZKqx2iayTcLgFFZU789q8e+ypYEddNpVyIUQ+Vkm61tAU1LiWEBKj++GOoprBL3ehjUFW4DhGqGgiCAkLsdNSU7EKYUAaFSgVdykyYS3ZC6SiCT6FBZOZpsOT+Dq+9BiI72+syToCndCVLm6BQKqFMOAau8n8huNjzqbQwDjgRtfuXQeExw6MwIHzgsbDnLYHPxQof9nzGgSfBkfMTvB43S2qhSz2BPf9vbH8boA5HSMYsWLJ/ZpGSC15VGHSJ0+At+l3qWeDTGKBPmgVX/hJ/A0dDJPRpR8OU9R2PrCAakqGLyoS75C/42FWqWzMACkMSVLWrIPp8cOvioQ4bBpStgKBQQNSns/0z4Mj/Q/qMfMahCImIgK1wjZSuETMRHhkJRe1qQFSgVp0JjVIDrWMrezx775Ej4fUpIVb5515Rxk+D4KmGp3K31JvFFjIBKlcpNK5CqSeGJ3winOYSGDz50menTjgC9mq2btsv7W8YeAqsResAe4n0/OrU41Ce9Q/CNWap/YQ68SiU5W5EhLJS+q4M6cejOm8N1O5Ktl2NkEGnwrLvB/bZuOGFEuFDToOdf3cus7S/hn3W5jUPsNdkg5c9v0cVjvgjn5Bee2s6NC1+RyaJ47dORoyAWL0BQsV3EDPvxTd/bMbcx99Fjc0l3Xq576wjcN+xE+QHMOy7DJkwSU40wEdH5bUtnWhcWlG0G9FxCezYDpdzSHMo8CCEBHC5HLCxq8ew8HBplE4+CRrH03zE0Lrp6XnaYXdI41/wwpmPQ2Gx1LL9PVCwwpEXxGYzCyrk0TfDeUFttcDt9kiFJ0+ba2ul8Td44cq7qJprauBlpySFkm0Pj4TJVM0CCRFKtn8o27+W7c8DCyUrHENDQ2Fi+/NTmFrNCldjiJTmVKwA4d1ozWaT9Hi1RoWQkDDUsAKG78+7zur0OtTKVexaVohpdfVptUYjdYWtez6dnm3X6qXxNngBqWfbePddC+/qyRh4zwr2Gq3y4FhGg54Vcsr6tDSrrsjSVinN3ysfzt1m9adD2HvxsQDLxj7PujQf04N/3lwo39/pgt3pOPDZ2WwWuJwsKFOwzyaMfVfsuepGOuXb7Szt4mm2fwT7riwszb8L3l1X+uzNNSztO/BZ17LP2ssH32AiIiJRs/6/EFnwoxM8yFXPwPDp/uHPW9OpwCMjA2JLbUoqWeDEazk4vR7ikAgg+xX2uAchhETg2Xe+xn9e/QznHDkan/+9A9MNJnw0MgEK9n687NjzlZch/ZMv/I9voLPjeHAUeLQdBR6EkABFCxci6aqr5BTpr6oqSuDb9Qo8xuFIGN/2BsedCjz4GCYsUGoW30ced0PUqiGGbYUQMQxC9DQp76IH3sAnv67Bzk8fw5iz70ZsbByyrzoCytnnwLHsd+iHDJG66wpR/oHD6gQj8MjetQEpKUOgCQmVc0hzqI0HISSAOggDKpFDX1RMAio8ye0KOjpt8GCIo0bVL6NHSwvGjPGPPpqaKu/I4hO3CwrPxANBB1dYXoFhcXpkDkjD5afPQlFRIUoGj4Zn6a/w2B0QUtMgLprvD2CCTCm4IajbPsJqf0aBByEkgELVQpdF0q/4fN189b5/P4QdO+qX7dulBRs3Ahs2+Huh1NEagKEsKJHV2pzYtiuXxSgjYaupwcc//SnNLBw/MhOWHdsQevLJ0miowgWXQywplh8VPCV5WVDR4GFtQoEHISRA2CVz5DXS30XG8nY7DWaK7WoREQC/zdFwYcFDW2aRfeD5d+FxO/HwNXOw8vtfYPZp8eKsgahZ/AHU6QOB9xbC9+O3wKa1wAfvQJoPJohCVDZp/iDSOgo8CCEBSt//VF4j/V1ETALK8nPkVDfgDZl5oNNw4Q1wW7k1Usv2++TXlbj74pMwSK/Gf9/9HskRWpx2x81QCQoYTj4FiEuE4sRTgWNPgjDnfGDPLvnRncebShpRAQjBmWa/r6PAgxASQOdr2xwZpO9z+LRwmbPlVDdQKOHlvVo0Wulfn0YDkY922kKDU17o3/6/d+FW6HD1BSdj2x8rUKkz4LnbzoPOZkHI2LFQ6nUQJkwAVv4DgT8/b0uyY2vQaj0cNisSY3VQsNdPWkeBByEkgAC6T038FNokpIeUyKmuJ+q0Undf0eeVCifedVi6zZKYCAwYAIQe3ObE4/FgqqYKf715F8KdLoSV5GPhnMkYGBeKqoULoRgxyr9jcip85cX+2hO2COOnAJs3+Ld1ksteg2qHwf96Saso8CCEBIi4om3jNZC+Lyw6Bk5797XxEMrLIVRUQKiulsbrkNbLyoASFvzk5/snj2ukiu1317PPY8jAdFR88xUqSiqwftkqbH5xHjRz5kClrQ+kFbOOg+u//wU+eA/4+0+IbAkGrbcWtdrxcoq0hgIPQkiA0vc/ktdIf8ev4EsdDWZ/7WrJycCgQQcvvCaBz4PSxK0R/hqjjWFAeQUixozB1Ccfx/WLF+CcCSNgHDBQ3ksWGQl1Whow52zg4kshnHomC0D+kjd2XO6+jRg4fKKcIq2hwIMQEkDj849USgiXPHQ6dm9cLqe6WGEhkJ198CKPyBqABSJieTn4UGAr//kT1m++hp5PlV9TA9eWbVBNmSYNhc73ObDwGpRTT4W4fo20HyKjIBbmQ+CNWDuIjxYboaqEStVocjrSLAo8CCEBfHo+vDchfipDDOJcf0tz2HQ5XqvBg4zGS1NYvrBvH5QsMEncl4XQmCgo+O2YPXtQ+/33MPIGpWx740Wa0XbdWmDzJmD3bgg8+Ph9ifyk7VdTsgdKfaycIm1BgQchJEDEWWfKa4QAOkMYjz7gtNfKOa3jPU14oNKWpfMElP22FNVZe1H5688o//xTqIeNaLHHijD9KHh+WwLvmj/h3bkFwo4tbRorpCka+154Y6bLKdIWNFcLISRA5WvzEX3TNXKKEKCkqBBeWw6SBx8h5wTitxtK9mRBYIGE4Z8NMOa1bYwMHyt+tOmpEGbM9Pc26QAfnzTObIIwZKiUti75GSHHneCvPWmBuG4VhGGjIPJ5W+x2KHZug2/CZNSwx9k9/qCFvyJFVCSSUlKkdFOy/pyHIUfeIKdIW1DgQQgJUD5/PmKvocCD1OPFRO26p2EYdxfUfByMxlgp4nI6pIK6u2W/8ToGXHeD1Mi05J/VUIUaEMPndmkFn6lX/Hs51Ecdx0pCAeZF70E550wYQgOnDOCzEPPZjptSuHMZwvRAaMbRcg5pC7rVQggJoNBHyGuE+PFC3aIbCW9NlpzTiABodDpou3lx5eYifOYs6PR6KW0vzkfilCkH7dfUYgwNhajWwG61QqvVwnjxhbBu23bQfs0FHZzWshmahMPkFGkrqvEghARwOhzSCZeQhrxeL8rWvYGEKTdKgUhP46+nYMF8iBnpLOGDY+d2JJx2BiKGDpP3aJ3DZIL7rXmwjPXXkCh37EbIFVfAEBEppVtSkbsRsFciZtixcg5pK6rxIIQEqPzgA3mNkHr8lkNIdCqq84Mz2mdnlW9kr4MFDBknnoz0k0+CNzKqXUEHpwsPh3nyNIROPQKJJ5wC41VXw7l+rby1ZfqqpdAn06BhHUGBByEkgIbXmxPSBOPA0+Au+Qu+IM1x0hlVDifSD/M3dq2pqELG6WdI6+0VPmkSrFu2SOv89otd3XptX3HublQZDmP781FESHvRrRZCSIDKdz9D9BXnyilCApnz/0JNlQmpY0+Vc/oXl90KVdYD8A1/psX2H6R5FHh0UuH+fXBu34nUageUtVaYqithZAejGz643F6ER8agJEwJe3I8QoaNQHxSkvxIQnonr8cLpYpm2SRN8/m8KNrwDsKHnoPQ0P7XEHn/6kWIyjwR4VEJcg5pLwo82sHn86Fyxy5E7NqForxc+LQGxA0cDMREw2pUQxceyfLUUKg1UECEx+WG4HTAXW1GqMMDW3EBanOKECb6oEpNh3PsEMQMajSXACE9rHjBe0i8+jI5RcjBnNZKWPe8g8ixd0JQ9J879uaS7TAVrUPKBPp9dAYFHm1gLiqBb+MmmHbvRuzAdFiGDUV0ZiYUio5dFXq9HhRs2ozYHdkwVdRAP2owNJPGwxBJ3RhJz6tYuBAxV10lpwhpWvG+NdA6ixE5/Ixe0culq9nM1ajdtRgJk2+Wc0hHUeDRAltxCSp++gWJNRUoPeVkpPBheLtA0d9rEPn3WtQMTkfUsTOgjaAAhPScio8+R8yF58gpQppn3vH/7J0FgFTFH8e/23e71x1wRx7dHSKgIoKFgA0WodhikHbLX1RUEBBJAxGlFERKWrrvOK647rvtfv+Z2Xdw9MUuXMwHnzfze/Nid198Z+Y3v1kEIbAz/CLbiZa6idVqQWn8Qkgj70ZwaKRo5VQVLjwug9Nux9mff0JkahqkEydC4e0trvEseWlpCPhyBQqGdkdk/96QVHHuAA6nOjjI9S/jM21yKogp4QuY/O9CUERT0VK3oK/IwiPzIAnqhuAYPnzWHXDhcREZx44hYM1vcDz8OPxjG5FvSFxxnaBBcfIPH0fIH1uhfeZ+BEVxdc25vuTN+R5hTz8l5jicq2O321B67Cs4IkYgLDJWtNYdTKe+h82/C/yiOooWTnXhcTzKYVz0PTSnT0H54mvwb3T9RQeFBumJ6NIBjpdHwbl6G0pXbRTXcDjXB4nsxsdo4NQe5HIFNC3GQshbj9zMVNFa+6F1cl3ycph9OsA3soNo5bgDLjwIgtWK7BmfwNSsFQKH3w+lRiOuuXGogoIQOHYknHIpSr75CU6bTVzjPpKTkrB161a27Nq1C0ajUVxTeVauXMlmqCxPSXExTpw4IeaqzrFjx9hfs9mM06dPs/SpU6dITcs1++SRg4fY38tRVFSEo2JwILq9TqdjaQo959LSUjHHKcMRHC6mOJyKQafO92v2AJC3DiXZZ0Vr7cVK3gml8cthRyQCGnSpF86z15N6LzwshYXI/OhDeD30MIL79BatNQPa+hE49BYYuzdH3lc/wF4NYXA5vv7mG/z4449YtWoV5syZgwcfeFBcU3kmTZp0iXDR6g1ISa1+DWjEiBHIz89nD4MHH3yQCZwH7n+AdUslJibi6WevPCW10ajH2bOuB+Fvv/2G9955j6VpbWb79u0wmcwszzmP7y39xRSHU3G8NQEIaDka8pLVKM44wu6x2ohJX4LShJ8h9WuGwCY3cdHhAeq18LCUFMMyaxaCX38DgdENRWvNI6pbVyjuG4S82ctgJ7V2d/LWm29i5syZWLx4MYwm47lWi4KCAnz8yad4k6xPT09nNkpxcTFmzPgfpk2bhqSkJNF6HtqqsHDRIpZWKRUICwlh6a1bNyM3JwdffPQJPvzwQ/LCNzE7FRO//PILnnvuOcTHxzNxcDF333031q5dCz8/PyaOfli4EG++/RabUfKnZT/jsdGjWYyVvXt3YerUqZg9ezb0ej3bVqX0Qni4qwa/dctWHNy/H1u2bGEPk44dO5J9KOFwOrDi119x8uQpTJgwAX//vf7cQzMvLw/Tp0/H/z74CIcOHsL+fRWbx6E2Y176i5jicCqHytsXmhYT2Kyt2af+gsPu/pZaT2I3FcOaPB+K0AHwi+4iWjluhzxg6y2Z06YIpJYu5mo+2YmJQt5Hc8Vc9Xn55ZeFb7/9Vvjjjz+EDz/8SJjwzLPMTr+ToKAgIeFkgpCdnS00adJEsFgsgt1uF2JiYoT9+/cLhYWFQps2bYSSkhK2TfPmzVn6/vvvF7au/5vZjh49Jnw2YwZLE0Eg9OzcVSBCQxgzZoywdOkiZv/oww+FcePGCUQ4CM8++6zQp08fZi8PPfagW25l6eTkZEGj0QhFRUUs36NHD/aXltnw999sP2vWrGHHoJw4cUR49733WZqIK+HVia+xNC0XFxcnJCQkCERsCZGRkcKUKVOYvWnTpkJaWhqzN27UWDh58qRAhBKzz5n3Hdu+LpM/b56Y4nCqTsqp3ULO7ncFk8EgWmo2J/5bJ+Tvek+wkmcJx7PU2xYP7YyP4Dt2LLwrOVTWZrHi2M/LUDz/e+gXzIfph/mwksWxcB5bbGQxk7yBrNN+Px8lpFzp999DR9JGYrOQdfZ53yD5j7Vs2GJliGjWDJIBXaD/1n010oYNGqJx48YYMKAfUpOToNVrcfZsCkaNGoW4VnGIiIjAxIkTMZ98Dp1Wh/79+6NLly4gwgRvv/0OPv/8c3FPwMMPPwTyMsfNt9/G8uT6Yn/L+OSLz6FQKPDAAw+guFjLbOv+/BNE/LAWiC+//BJeKhWzl0epVCI0PAzHDhzC1m3b8OKLLzLfkfXr1+Omm25iZeRyOeJPncJjox/DX3/9xVoqKPQUpOUiK16p0TQ2MhoffPABO48AOmOlXo99+/ahWfNmaNWqFby8vECEGpzWyv1mtRGZmseR4VSfRi17IqTjCyiKX4bUQ6tEa83DoC2E6ej/EBISjKAek6EgzxuOZ6mXwkO/YC4c/W6Fb0wj0VIxLEVFsE55Ce3W/47Af/+Ez9a/4L3lLyjJItu8ni0KsniRvIas89v2FwJIOf9tf8KXpNXEpiLr5Ns3o8kfC2H56B1YLZXrOgnp0RmKJhHQrtsiWqpHly4d0b59e/Ts2RvtOnbA9s3b4OPjz7o9ysjJzkFUVCS5IRVISko+JygyMzPRtOn5sfsvvfAikpOTmeMnRRCc7G8ZtGukjLJ+U41Gc87Bk3a74ArdwuPGj8fHn8/Ad3PmEMHzNt6c/ha++OJLPPnkk2z9kSNHkJGRge/mfodXiVAqg56rVHr1PlrXIS8tE0jElYGIrTK0Wi0pVff7e73uuUNMcTjVQ+blj7B2jyM4vAGKDs5EdvIRcc2Nx6DTouT0cpQkroGt4SMIa9yjytGoOZWj3gmPIvJStPoEILB7N9FScSyH9kOTnws4L3070nex1eaEwWKHzmxjC01fEbIPdVI87AmuURqVQXZLbzhOJkNXXCRaqs6bb7+LN954g7Vq0JEtffrdxHwiQkJC8OJzz2HyG5Nw7PhR5mehVqvRrl1bjB83HlOnTMHGv9bj4YcfFvcE9OjVC++9+x5ZPw5Oh/OcQLmY8qNfpkyZisGDB2PmzC+YL4XdefmhnP369WO+JkOHDmWtJjExDeHv78daIyghwSHYvmUrflvxG+bOm4eSEpeYoadgt7v22aBBA2zctBEfffwxy5/n8ufZonkcbh44AE888QRmfPYZtm3bBoms7t8ypT/9JKY4nOpDZ3D1jeoCTZsJ0DjPInvfd9Bn3zjnU722lAiOddDG/wSJb2tEd3kcfoF8wrfrSb0KIGY3GOB8awok731cpWik6UsXouHGtXBKz0+FLBXscEoqH+VRKqFvRBssT78EVW9Xd0FlsJGauOSduZB+8iKkVYwySUeKFBUWsjRtXoyNjWUjaco4fuwYnOSl3b7ThYFzTiScgaW0GJ3Libe0s2fRkLzYabcGdUz19/dndqNeD//AQBQWFsFH4w2VlzcM5HegYoAKh+zsbAT4BeDU6XiyfTSeffY5LF++nG17MdSx1d/Xn3xeKSwWC6xWG3x9fcS1QC45bvyx4+jZuxc7Hm2loa0odGRLQEAQK0NHwVAnVSquzp5NR0REOOvKoaKmYUOXg3F6RiYiwkNZ7ScrKwtmciwleXjOmzsXrVu3wcOPnBdbdZGC7+YiZPw4McfhuBeTyQBd8t8QjOnwbtATUnUzaPwCz7WCegJa2bHrM5CbsBdhQQUoUQ5AVKM24lrO9aZeCY+Mn3+E+rZbERQcJloqR8ayxWiw/nfgtjvh1BqIcLBCGtsEQn4e7AU5UFQ0/oFUAmduBqSnT8E24RUoevYRV1SO1O3/wt8rAIHd2ouW2sfXs2Zh06bNuGPIHZj5+edYtHgxunfvLq69sZjNRgwePAQDBw5ktbO1q9dgG/nOactPXabo59UIevBuMcfheI7k+P1oYN2EHL0aXg1uQWB4LKQyVbVD9tP71W6zQg4rTh7YiGj5aegkUQhoMYxUVnzFUpwbRb0RHtrUs/D5ZSGkb7wpWirPOeHRdxCKM7OgtBmheWwsrDv+ReH2bYjsRQREBVW7Mz+z2sKDYnn9SzjffBLePrXzZqKXHx1aS4OBqZQqqLwudS69kdBYIWXxSajgKN8iVFehv4kna58cTnno9SY4bMjNTIIheR1iQmwoNHijVNUFoQ1aIjg0VCx5dei9mnbmBAw5hxGjToNS6kSqrQ2atL8NCpWGCBo+/1BNod4Ij7T58xFx//1Q+fmJlspzTnjcOpRUh0U/BacTKDdqokKQh7ozr/otHpSsA4egydfBf3A/0cLhVI+87xYibPzjYo7Dub5YrWaY9KVQy0zIyU6HvuAs9Np8RIdJICHrJDJx1Al5dSnkEpwtlEOm8oOPbxBCI2Kh0ATCKfeB2ifQVY5T46gXwqM0Iwte61ZCNf450VI1mPD4Zy2E56ZCYnMFwKoStDaZeBLYsAa2ZydWS3hQSj+aB9XLo9iQz4qQlpaGN15/HU2aNMOHH30gWivOxo0b4bA7MPiOwaKlatBAXgMGDBBzl0Kjqt53330V/lzXC/r5aeCxfv1uFi11i/x58xA6dqyY43BqFtRxvQxpPXD2rovUi19NtXcndP1dsSXcgQQ1K5aDpVMzWHZdeb6Si6GRSu8bPhyTJ78hWlzNlBXVoHS+lPhT8aw83e5iLmejZe0XzeXy7ltvi6lLoQ6qr7zyCj4n53o5yuZpuZiKfo7yI2uuxcVl6edPTk4Rc3UPSViUmOJwah5UbJQtnNpJnf/laCjtotQ0hLRoIVrcAO1aofE3zKbKLyYjfZOJO3IPQbfeBOuhk2Lu6pw4eZJNjjbrq1nY9u+/zPb9999jYN+b2bDWo0cPMxt92U6fNh0vvvAiNm/ezGzlycrJxgMPPIiunbuy+BkUGi6dxtjo27svHnnkETZBGyUj/SzL33X33XjzrbeYOPjoww+ZeJnw9DOszMX8u3UbCyz2DTlPvTixGxUbD5Fjfvrpp7iZHOPVia+e87/45vMv8M8//+C2gbfhzjvvRGqKSxhQkbB0yRLce++9SD6dyMpPmzoNA3v1ZUOB8/Jy2fmMHj36nGChQ3LXrl7NRt+89tprbH6YYcOGoVAcAVTXUd9cvRY4DofDuRp1XnjkHj6M0LatxZyboB7XJ44CCfEgb0/ydktwpSuy0LLJZ8QduQcatdMZ4A+T/nywqyvRpnVrDBkyFN98+w17QZ9JTGRdB9t278DPP/9MXrDDWd+pxCnB1998jVdff42N6igPHX568sRxLF/+C1asXIFHH36U2d995134aDTYvXc3EwfdunVziYyPP8JTTz2FP//8k5R5hzloTp4yBW07tse3c2azbctDBcDcufNYN8tzLzyPA/8ddNnpfCw7d2Hs2LHY+d8e+Pr4smijlIz8PBa8bPO2zfhsxgw8/sQTzG6zmTF16nQsW7YMTeKas0ir/uS72r5/L959912MGjWanU/btm1x6KDrOB98+AG6kHOnUW3p56DfCz0OnQOmPmBaevnhzBwOh+MO6rzwCD60D4bmLcWcG1F6QfD3A54aS5YxQLPmECIjgVsHXXERBt4ibux+fFs3RcmmXWLu6tCJm8q6D+aQFzydoI0SGBiIO+64g8X3oNw+aDCLzXExNDbGLQNvZWkqQkp1rmBdBw4ewPARI1g6LCyMTUFfUlKCSZOmYNasr9GaiJ5Fi5cQBXH57pgydu7cicNHDzNh9O+2bfjgk3J+KEo5O0/Ks89NOBcl1Wq14O67h7B061at2ORwZZ/xueefZRFSKVu3bmVdOJRmzZqxz2rQ6zF06J14+hlX60uvXr0QSX5LGmPktltvw1tvvY03p73J4ojUBwQv3oTN4XA8R51/wuhz8uHXqHKh0SuKJJq8lBUKgA7TatIE0Bkv7VpJTQFILRzbtkCy3dW14QnscTEIPp0j5q5N2XDJ+4bdy7peKDQk+I4dOxEU5Hqx2682s6Rw6XDLFnEtWHRPSmF+HmsxoGPmA4hA++OP38m+d2Dm//6HnFzXedqsl9//j0uXYsEPP7C5W2bPmUPESzGOHTvGztlutiIvN5eVW7tu3TlhRKMjrlq1lqVzcnKg02tZhFPmWyJGLqXQeWbKPm96RgZCgoLhrVajZcsWbLjsxx9/jPHjXI6V1Ll19GOP4cMPP8DU6VPhXU+G41mjosUUh8PhuJ86LTyof4euQTSLpul+SLWddrMkJtJhIsCWrZDoSc3/v73A/n2u5cB+si6ZvGHtLr8ON/t2lMcvOBh5FtdU8NciiLxsaUsFpXfv3ixq6fB772OTt7355jSio6iYAiKjIlmZi9H4+CAgwDUsmXZTxMa6hN07776DTZs24aEHH8ZTY8dhM0nT4/z6y68YM2YM3nvvPbQgL3jaYkG3CwwMwMiRI6EjgqcMOp19ZnY2htxxB5sHphERjZMnT8HfGzYwESFXKfH111/jkQcfwu+//47X33A5yFLHVavFxnw17r//frz1litei1ymJOd6ftKziRNfZcLj4fsfwONEVHzx1Rfs+qDn886777KoqXEtXC1kNEz8woU/sPDw28jve4T+3oQ2bdpg1qxZbFROXUTdjU8HzuFwPEedHk6blRAPn5Ii+PXoLVqqR9lwWrw0HThEhAWdMKxMTNCWDwodbUFbE8ov5aFxP4L8yRtW57bhtGUkLf4FjR8dWSWhRbs+6MvXHThsZF+KC/dFLzPa9VEmeKqCzWpFx3YdcCLhFNsXbdEog8418+qrLyE8PJpN5Ca5xsRwF29/Jeh5C3YBUkX96X4onD0Xwc/wkOkcDscz1Omnae7+A9CQ2r3bsVuBtu3J0hro3JEspIbYltSS6dKxHdBBXNqTpR0p147+bUuWNsRG/ka65gRxN8FNmyE7JVnMVQ53iQ7KxaKDQrtJqiM6KBIiqAJDXb/nxaLB1YoiZ6LrWqKDUhHRQaHnXZ9EB8VZvz4uh8O5ztTpR0xMSSm0qspPBlchaMsGqQnD5nS1etjJy44tdF2Z3eFax7paaJrY6DoPoSEv34IzVRMetQE6emf79u1i7kKmTp2KsLDLdw1xKocksIJzDnE4HE4VqNPCw5GdDpU4mqE+4PCSo8GOU0jdto35t9RFypxiL+ZKdk7lUQ2+cjRZDofDqS51Wnj4OqwQKtik7g4EOmtpdDQQFwc0bQpERNA+DHGtZ9GnpcH5vw8QnHQUjb5dAe03i8U1HE7lMPzys5jicDgc91O352p5cxJMr0+Dt4+PaKge55xLn3vD1YVShlwOoXFjSIIv409C41WkpwN0CGjZV01r526cq4Wi+2UZfFf9RVJKwOpNzskH2dMfQ4DBNdLFGhkBqVwBOT0XSkwMbA4nFJmuqKOKFi1gLSmBhJwnPUvvzp1hTk4CSlwxOqQd2sMefxpSGrGV5tu1gzkpCUoxcqiqUyfoTp6E0mKBnYg9nw4dYDp4EBKnE1alCurWLWE/fISVdZK8onUrkj/Ows8LXn5Qt28Jw3/7iRJ2QggKgioyEtbj5DtyyGGLDoKSiDohKY18h1JYo0Pg9FLBK4mcO8mjCSlL9qtMziL/l0DWqhHsOiMkGXk0C0Xn1rClk7J5WlKcrO/QAqbERKj0Dggykm/fAvozyVDr6F7IV9e1DWwnz0BitJBzlUPduQ3M+46RcyHnplZA2SYOtn0nWFmJWgV52zhY95PP4hQg+HiRz9IKpj2H4WwYAU00EZ+1jMLv5iN4/Bgxx+FwOO6Fu5FVFyo62rZ1iQ7m93HRQsUGjSMS5eH5L+Qy8muW614hIsNGjp1XrGOLyWKDmYilsryFCASz1Xwub3XYYTBZWDq/RMdGc2j1RldeS8QLyReaDOfKs6HKOlea5cn6EvKyp+kiUp5uX1CiZ3mdwcC+hrKyhToDO8UCbQnLl5hc4qaAiBxWnk6TTwRbXokWeboiGE1mWMlLPa+UrNcWw2S1wm4m50q3J+vNJE2DmuXpilneRD6n2UY+G0nThX0WoytfoC+Cg+XJZyH5/JJC8lkcKNK5jkUXerJFRnKutLyhhAgxAfl6176LDFpSnpyLWJYek5072S/NF5e68tSu/2c3S9c2pA2aiCkOh8NxP3W6xcM5/Q3W4qHx9RUt1eNyLR5C8+ZMdAh0XpIpL0JCp2Iu8zdw2EiNWg589DkkNMx6QgJAo196oMVDW1AAn3ffhrTABKfcD7l3DUDkyLvFtZwbgclggrfGQ87NHsRhNkNWw2YE5nA4dYc63eJRYBcgITVhj6FSnetekRBxY48gNUU/HyI2pBCcdqB7X0h69HGJDgoNqe4h/EJCYHphIs4SESN88z4iRtwlruHcCGhcFPMeGuul9lH8w49iisPhcNxPnRYesogo2EQfB48gzhnCUCggb9sKwq1D4NSRY7ZsDaE4H7h7mFiAQJ1PPehsKidCS9ssEjJfDR/lcaOho6dzSsRMLUNRN0dEcTicmkGdFh4ZoWFQWyxizv0IFwXEkox4EJLtmyG5fQgkAUSU0Iip5cvQlg8PCg9zUQn83Dn9P6d+EttMTHA4HI77qdPCw79LV9gKCsWcB7g4VkZWFhwRMZD4+UGIbQz8e9FcHtSdxoPxNbSJZ9BAnDeFc2ORKWXwHtpPzNUuZK2biykOh8NxP3VaeDRqEYesk8fFnPuRiENJGURUOGd/CWloCIRvZ8IxbzYw+E4Ix84fX6Dl6UgXDyFkF0Aqr9M/aa3BYXdA/+9/Yq524Vy1TkxxOByO+6nzb6mAvAIx5QGKiiCYTK40+SuxmCGx2SAd/hDkt94Oydl0CH+udLV0ECR0RIuH0BYWIkJWf6K01nQcTgdkes9183kSp7zODnTjcDg1gDovPPzCw1CUkiLm3I/k7FlXwksFPP8KhM5dIPS+ybW0agXpY2NJIYlLoGRmusp6AFniWRS1CBFzHE7VsTbjXS0cDsdz1HnhUdixE1SJp8ScB6CtGImJ5JuUQdIwliwxFyyIiGSiQxIff67lwxMYTibBp597ptfnVB86E6/fvbeIudqFtAkPIMbhcDxHnRceEZ06QXvipJjzEIWFwOHDrrDotGWjLGqpTgchJQWSo0cBD46usVotkBRr4RMQIFo4NxqHzYGSf3aIudqFYv1GMcXhcDjup84LDxrPwi8yEgUJ8aLFQ5jNAO3SOXIE2L/ftZw4weY+8WRLB0W3ZQ98O7QWc5yagrS0nPNxbYLHgOFwOB6kzgsPiq13P/j9u1nMVRMqIuiDuVoL2Y/DfaNbFIdOQ3pTJzHHqRFQrel1YZyX2oKyYayY4nA4HPdTt2enLUfy3Dlo8PiTrO+9qrC5WjasIqLBcWFgsMpS9pU7nbBNeKVac7UkHzuCsBwDfG7rLVo4NQVBcBKdWfu0fUlJCQJ4tx2Hw/EQ9aLFgxI26HbYZ80Uc9WERh+l4uNyS2QMcPcDEGjk0sutpwsNIuamQGKRS7cQ4dJOzHFqCg6rA3m/rBFztQvbryvFFIfD4bifeiM8fBo1hjmyIYqys0WLB6BdKFPfBoYNg+TVN90mLq5ExvZdsAzpDZWbZt/luA86lb7ESURmLURKxTGHw+F4iHojPCi+d98Nv/99Coe5iiNMpFRZXAWlmiwqkiBfq4/PtcsTnEytVB67To+glTuh6dVRtHBqElIpuQYCa2d3hbRNezHF4XA47qdeCQ8FEQPpTzyJ4g1/oiquLQGNm7qcQ6+EoRRYtwpCWgrwy1KiDq5Rc5TL4AyqfNAvh92OnO9+guTdp6Gojq8Jx2NIZBL49+kq5moXXs0biykOh8NxP/VKeFAat2kHpKZCR2NrVACnwwEHWehfr65dUdSM1AZpjA7qNHjxolABvy6FZPKLwL//kDwRBZcrRxeHHcl9B0HZtOn5Y1Swa8a4ZR9srWLgzbtYaixOmxPa3/8Wc7UL08rVYorD4XDcT70Z1VIe+qI3zPwMjpEPISD2ykMH6VeTHR9PXiIXDn2VlRRDwsZLVgMvb9i91edHuBDk/j6IoLPaXoWS/w5DvfcUlM8/JFo4NRHqXFr460qEPTJStNQe8ufORei4cWKOw+Fw3Eu9FB4US6kWxrnfQvbUWPgFBYvWmk3BqQRI/t4Lv6cfgEJFfUk4NRU6O23Wrr1o2K/2DXPO3bUP4b27iTkOh8NxL/VWeFD0uTmwLvwe8jFPwy+4ZouPwoRESP/aBe8nhsHL30+0cmoqtNusNCsTgQ0aipbaQ/bp04iMixNzHM71xWwyoSQvGYGyXNiMpSgqKoHWoIdKLoHJJoWPSpyFW2JDQakR/hopLA4FosM10PgEotgWDIVfA4SEN3CV49Q46rXwoBgLCmCdNweyRx+Db8Oa+ZLQHYuHsHYHVM89wIfO1hJqc1dL4ex5CH5mrJjjcDwLfQVp85IgGDOQe/YUAnxkUPpGotQWCN/QZggMCXONErsGBoMO2oIMCKZs+CCHCRanPBBhse0h1URD7cOD4tUU6r3woNgtFlg/fg/CyIehbtUKdH6XmoDTbod210E4dx2D/6uPQSaXi2s4NZ3aLDwK5s1HyNgxYo7D8QxWYyly0o9DUbANdkUkpCE9EN3EvXNOWa1W5CRsQghOI1MXiEZtbgPUIVAoFGIJzo2AC49y5H89C5LgQIQ89KhoubFkfz4XjqbhaHDPPaKFU5vI2rcPUd1qn69Exq6daNC76mH8OZyrYTYaUHDiJ/ghB6URj6HhdWppttusOHNgFZopDyPXZwSi4/j8VjcKLjwuouDoUWjWrEHh/SPRoPmN6efO2r0H6r8PQP7kMPg0jBKtnNpGYVISgps2FXO1h5T4eDRu2VLMcThugrxqjCfnoMCgQkSbe6DwDoSkAl0o7sZiMSEv4yQ02k2w+92EsKa9xDWc6wUXHpeBjngx/P0nVPkG2IffCf/wcHGNZ8k8cQJ+a3ZD2rkVlH07QaFWi2s4tY1a3dXy3TyEjOc+Hhz3QLs7SpL/hq0kGb7N7oZfSCNxzY3FbDTCkL0P9sIjcEbeiciGTcQ1HE/DhcdVKEo7C+k/22CTCFD07Ap/D/h/2Gw2WI+ehG73IWgCgyEdchP5y52gaju1WnjMIcLjaS48ONXHkH8G+vStUIe1g2+DHqK1ZmE2amFJXw2JzA/eMYOgUHqJaziegguPClCcnw/p+o2w5OeweSy845pCERkJpVfVLlCzQQ9HTi5KTpyC4vhZqJo3hGLoAKjVPmIJTm2HDqfNT0hAOBGrtY2CPbsR0pM3P3OqR3bCP/CypMKr+UPw9haHwNZg0hP3Q1GyG/5xI+HtHyFaOZ6AC49Kkn/2LKRr1sAvoxiZod5Auw4IIS8XL19fopilsEsloP/Yl0q+Wjn9eunolKIS5J04geAjyQggL6WEyAA0vO/OGh8/hFNFyM+ec/o0IlrUvngYRRlZCGrAfYs4VcNms6Dw4GxIArsjPK52BdCjLdCGU1/B7H87ImLbilaOu+HCo4qweVVoN4nJjPSjR+EkgkSWkw1jdhZaekXDIhiRZtfDKzQU2ohwBBJxEh3XAjIvFaRy+Q1xquJcP2p1V8v87xEy5ikxx+FUHItJD1nqp0CjlyH3DhSttQun04Hc48tgdfgittMw0cpxJ1x4cDgeoHYHEJuP4Gd4HA9O5dAWZcOZ+TMUMaOg8a/8rNs1CTppZ2nyFihlxdA0HlFjYjvVFXi1m8PxAIJUgNCldjbVynpx/w5O5SgpyIQ9azWUDUfXetFBkclkCGg6EFZJBPRpa1l0VY774MKDw3Ez2vwCOCdPQ/h7c1Gw6DfRWnuQarhXP6fimHTFsBHRoYq+D+qAuuOzRsO0BzW+CTaLA0Vn/hGtHHfAu1o4HDeT8uWXaLxvL2DxB+Q+yPrgGejT0+HISIdgtyPmnntRsGMHTNpS+nRD3IiROPPbr3A6nFCGhiK6V28kr1gOiVKFwA4dIVN5oWAv2Z9EQPTgO1B0Mh7G1Ax2rKb33YOkVasBhwCnxIm44cNwZuUqwElW+ijQ6NZBSF21jjk4B7aLgywsAgVbd0GwWRF1Sz9oc3NhSEhh+eYPDEfKP5sQtvcYAj+YzPbP4VwN2iWhP/IphJhRCAipu5Oy6ZN+hEnWHKGN+KzN7oALDw7HzZxeuRJxK9cQ4eEFM6kBes17X1xTO8hcsADRTz4p5jicKyEgYcvXaNJ1OBS+dX8UVMGRb4CIuxASHiNaOFWFd7VwOG6m+bBhiB92FzJ7t4Bpcu0LxCXr4plAT2fPnsXq1aux5o9V2LJli2tkmAdZsmQJkpKSWLq4uPhcPz097rfffsvSV4KW3fj3367zXfk70tNdLUyeZjY5L3qutYGU4/9CGdoWcp9I0VK3CWozBo6UX8Qcpzpw4cHhuBnqAR93z73w7tQdgU1iRWvtwey0iin3smrVKixZvBg6oxYnTpxA7969YTabxbXup2GDBlB7u/xVpk2dBpPRxNJwAN9//70rfQWo8Bg7bhxyc7OhM+sxceIr+OvPv8S1nuPHn35CYWGhmKu5WLQZ8DXuR6M2/evNiA+pXAVVk/tQeuLqopVzbbjwcBM08IyutAQl2TnIIbWsguRkFOfkMBvtB+XULwSnAHtmppirXfjs3S+m3E+Hjh3x8MOj8Nxzz8FiseDMmTPk5Z6LN998ExOeeQbvTHuT2fPy8vDlV1+JWwHz5s1DWlqamAOKC4vw0osvMoHwwQcf4PTp01i2bBmMRiMef+IJdj8eP34chUXFSE1JxY5t2/DSyy8hOzubKEOwadF/WvYjHhr5AOZ9N++KoxZGjLifne/06dMxZdJkVu7nn3/Gi+TY48c/jf37yXdFNp08ZQrS09PZNvTcJ092+ci8Pf1N/EiOM2rUaLz88sswmQzMTj/3pElvYMLTT+Obr2Yx29WgYuTll17CAw88yFprys73i5kzsXbtWkwhx79eOOx2lKashbrN0/VumGlAWFPohRjkpseLFk5V4MKjCui1WuhOJkC7ZRsSvpuPpE8+guHbhbD+8BN81m1E6K4jCNp5GJrVf8P6/Y8o+WIukv/3JZK+XwLTjr3QJ6bAYhJrX5y6CXkeS5RKMVPb8FwXiMlgYC9R+pLOzMhAYGAgG7o4evRofPPNt1CovbFr13aEhYVh08aN0Ol0TIhMnDgRQUFB4l4A/6AAHD9yFKUlpQgPD8czTz+Dlq1aMbERFhrKhMWWrVuZCGjUuBF69OqFDz/6CJGRkUwoZBFRKFMqMHvBPEyZNoWVuxy024Oe7549e9Gle1f2oo2NicH/ZvwP06ZNxVNjxrDf+tZbbsHvv61g22wk5924cWOW3r5zJ84kncEPPyxAu3bt8OCDD58TDa+++hpmfTsbR44eRfY1ROr9I0eif//+WLx4EY4fPYa///qT2Xft3oNVf6zGS0SUXC+KU/+F3Kcl1JqaHwbdE4TF3Qa//IWw2zzXWlfnITcBpwJYDQbBcDpRSPvqK8Hy9qdCxg8LhOzUFHFtxbDb7ULGyRNC0ewlgnn6R8KxOQsEQ+pZwWY2iyU4dQmHwyGmahfZBw+KKffyFbl3iEgQWrZsKZCXsLBz505mz8vNEyZMmCCMeuRRYcSIEcKCH35g9h/I3w8++EBISkoSiPBgtvIkxMcLX37xpZCTkyPExsYKVqtVGDZsmLhWEIYPv0/4559/WPrJJ54UioqLWdphdwg9evRwpclvFB0dLaSmprJ8GdRO9xkXF8fO99EHHhLXCMLChQuF+0feL4wbN05o2rSpaBWErl26CWZyL48cOVK0CEK/nn2Eo0ePsrTJZBIiIiMFm80mJCcnC6MeHSWMHjVaIIJC2L9vHyvTt29fITExkaXL06dXHzElCJmZmUKnTp1Yevjw4cLJU6dY+npgtZiEtB1fiLn6S+7ZFCHlyFoxx6ksvMWjAiQtXAjJm+8j9WwaYp57Dsq3XkP0408gIrZy0zvTml10q9YIfPpRqN6dhLZjH0fOoQOQvj4DSWvXi6U4dQEauTT/t5VirnZRKvVc8/lzzz6HU6dOgbyMmY8HZdLkSXj6mWeweOkSvPra68xGeejBB7Fu9RosWboM779/6cigxk2a4ONPPsa7b7+LF198CV988QWMxaXiWtYQcUEXikIudyXIClIJcKWvwZ69e9n5Lvn5R5Y3O53YuGEjfv7lZ8yZM4fZyuh/883kXJeePw5BIGmtVsvSBQUFUCqVrNXkvvvuw2czPsOixYtYa0Z55AqFmDpPUUkRiHBh6ezsDPTo0ZOlyQckNW+bK30dkGT8Dq+YQWKu/hLWsBEiJadQWpwvWjiVgQ+nvQJWsxlG8sDLLdah4ch7oWrQALJyDxR3YifHsqdlwfbjWmjbRCFy+DBIiUjh1F5q9Vwtc+cjZJz7Q6bP+GwG9HoD3n7nLdHi4o9Vq/Deu++Sl2kP+Pv7s5Eoy5cvZ+v+N2MGvl+wgDmjXs6fYMH3C7Bp8yYsJJWD9u3a47ffVqB1mzZs3fDhwzFhwgTccsst+Hb2bDZihPqWjH1yLLr36oH9+/exES4xMTHYuXMnYmPPOwJTe5PGjXHw4EEEXTSR4829+6Jpyzh2PrRrZys5vrfGh3w2PVq2bIlfV6xAr54uYdD/5gFoGNMABfkFOJt+FrPJefTr1w8zyOfavGkzoqKjIDicUPtoMGvWLIwkIiQtKRm//fEH2a4h2wdlw4YNmPjKRERERrDjbNq0CRqNBiNGjMBbb73FunE8DfVVS9s9B437TLjsb3GjOfXnn7BbLGLODUiliOzZAyHhl5+pNi8nDY6CI4hse7do4VQULjwuQ9Gmv2E5fBQBdw6FV/MW121CN4E87CxH42H8czskt/dCYJf24hpObcNhdyB3zVpEDbtHtNQeCmfPQ/Az7h8GbDAYWA1d4+MjWs6TfvYs7OTFRn0jaMtASIgr7DZtxQgLD8fDDz3E8hcjOAQYTAb4kH2WlpTAPyBAXEPu46IiZqetDPSlmZycTF7mMfBSqZCfn4/Q0FBWjjq30uPRFsnyUDv1F7n4/qf+WUmpqYht2JDt14+IJQp1HB0yeCg2bdnMol5S+vfqiy/nfMPOgy7UH6UMKrC8vb3IeYSxVpFgInCoP0tudjaiSEVHflFFp6iwEHnkvJs1bXquVaSYfEZfP19S9tJWEneTeWQlAqNbQh3SWrTUHNISTyP2vUlwDhwKaXY6hGgi2k4cISrxNkg2rydqOlcsWTkMcV2gmXLlYHolx7+FLOYh8hvUzgnxbhS8q6UcpQX5KJ77HaQ2OyInvgrvFq2u6yyy9FheHVtDM/FxSE8mo2jRSu6EWkuRyWUII8K1NqLo10dMuRdaQ7+c6KBQQVDmkFkmOn755Rf88ccqPPjAAyx/OSQyCXuhU8qLDgp1RqWig0JFRfPmzZnooJSJDgoVAxeLDgq1X+7+V3l7o3WrVuyzlIkOCnUcHTNu7DnRQQmMCGUCoikRC+VFB4XaoqKimSMsFR0UFTm/mEaNLhEdFNryQltUynfFBJLPeD1EB62fKsypUAW2EC01Cxr1l0bnBW2Jod+PygsS8npzysnvT+vW5JlelcVkv/rQcrO6O+wF+8Qcp6LwFg8RK6nBmH75EdKHR8O3Yc0I/as9Fg/h9y2QPz0CmrDzD0pOzYd1taz9A2H3DRcttYf8EwkIbXPjXzC0NeFygqCmQodQSzzoH3MjyUg5Di+5AyENO4iWmkVqQgIa7dsLoUwoOB2QKFQsL5ESEVelCqQEBcFhCBlyh5i/PCnbv0Tjm14Uc5yKUO+FB/34RUePwGftOshef/2yjl03EpNeD8Wkb+GYPBqq6Mv3NXJqHrXax2P+fITQYaL1AOrLUdZCUT59vXA9folgkVzf41YGeo55uz+Cf8fn4KX2E601i/TTp9GQRnx15+tMIoFJpoB3186i4fLok9fB4NUK4VFNRAvnWtTcq/06UbBtC3R790I5ZUqNEx0Ubx8fSGa+Anz3O3TxZ0QrpzYgV9fO20vqmcClbmPnzu244/Y78MDIB6Av0YvWqjF+/PhzIcrvvfde9pcGH/vqq69gtV75i/jss88wYMAA5hRbHWjwr5kzvxBzNROzoYS8hKU1VnRUirKuGDc6x5pVzeBn8FzQvbpIvRYe2i0bIWRlo9G48eQ6rLlNpDKFHLI3x8Kybju0h4+LVk5NRqaUwf8u14ustiG7/VYxVfP45IOP8MP3P2DmlzPx+qTX0b5T+3MRQy/HtRp0aSRT2tJBoY6sFDrUlkYepY6el4OOSomKjsacOd+hUePG6Nu377l9UMqnrwUdoVLTQ6TbjHnQ+Q8Uc7UXS1QDWDt3hp0stq7dYGvVyiVCqklQZDMUFmSLOU5FqLddLaW7dkGSlAi/UY+JlspRHadPB/nK1Wq1mKs4NrMVhnnLoRraB95NXI54nJqJw+ZA3m+/I/LBEaKl9lCw7xBCunUSczUHp92Jm27qy0aNeHm55mApLCxCQIA/a7UYN24c/NQ+GP/cs+jVswcmTZrERotQX5GePXriiSefYNvQcOd0hEtsTCz7u2TpEubc+cCIkfjx1+XYuGEDhg0bhqeeGoNPPvmYOcWWsXnTJuzYuZOFeKfQx2d+Xh4befPvv1uxbNnPbEhwVlYmli5dyso8+OBDaEYEip0IEhp3ZNmSZVi8dDGioqKY8yt1pqVh32sqp7bNQ6ubKzbKqSQvFw7ynKoI1B8mqMHl/enob0a7vSpaIbxWV4sQEgZHsyaQLpoPaUEBMTjgGPc8JDY7pImnxVIXUcGuFkrK/t8R0WYwvL29RQvnatRL4aHLyICw5g9oxj1TKec1WpOxbd8G2coVkNmrLjwkdgey/Pzh9ciTCOrYUbRWDENJCczf/Az1S4+y2AGcmgnz8Vj5C8IefFi01B4K58xH8NM1z8cjJysLr7z6Gn78cZloOU9OTg569eqNHdv/RTR5mf3990bs2rmDzaFCX2JDBg3G+n/+xrat2/DHH79j9pw5TJTQ2B+uWB1BuLnfzdj27zYWqIuKARpGvbzooNAw5/feew9r5bgYOuEdnSuGtmJ8+umnmD5tGsIjIjDwllvwzPjxGHn//UwgNW/WHEnJSUygvPLKRCacyoRMTYPNy3JwBoK6TxItVyYvIx1h702htTKgZTsgKQGIbQqkJQGNmwMJxy908pTKcezx8Wh3U3/RABSX6vDJlwuwaMMB+CsleGzkbXj5yRHnhOaVuJbwcLZqBadCAdkLY+D8+Cs4Jz4H+aOPw3HL7ZAfPgRcrlutEsLDUnASadkliGvnCorHuTr1rquFKekF30Hx4COV9pg3JiRAtXA25MU5kOhKL1hAFlNxEQxFhTAUigtJX1yOlTXpEZWbiaCvPoSOPEwrgyYgAN6P3Anzp4tFC6dGQitqga5hobUNQVoz6yJh5CWekpJyQdRR+rIv69po2rQJEx2UzZs3YeM//7AIofeTF35ASBDbbsvWLbjlVldXkp+fH9q2awuBTt5CkMqkrAWj7N11uTrZoH79WNTV8rD4JATawvH8889j0aJFOHLo8LlIo07yzOl3880sTct27NSRiQ5Kt25dr9ilUxPQFhXAy/v8kOGrIZjMNPIiraEBo4lwjYwBxj0HRMUCo54ib2fyOelvV7bYrNCL/jVlvP7eLMxYsBr5mZk4k5KBj/+3CJ9+V/2p6AWVCpLcPEjI+ck+mALZoKGQlBSRa10CwQ1zKhmEAARaDoo5zrWod8Ij5etZUD31NLwDKx/wxXDkAFUuYu5C6HtGLZfBRyGHj1JcSPqq2B1Qnz0/42ZFUTdqAPOgbkjZuEm0cGoaMoUMobfVXF+Jq2EfcIuYqlnQpveePbrj/ffeZSKCig7a8nCYvOQZ5XTCIw8/TF7q3bBmzRo2Hf9jIx9grRf3DR+OFSt+Y9sb9Hps27ZN3MIFbdoXBJeQcZAX6MXiY9Ddd7FZc6n4oPtITExk8TioeJg3dy6LPkpniu1AxAWNz0Gh+yjrMqBiZ99/+1gLDa0E0dlta3LzvNRRhAJ7mJi7BqQi52jaCraGLSF88QnTFsKMD2C3OiDMmgFr0w6wxrQ+t9gatybPzfNdKaU6A5b/vkXMuTA4nFiy8h8xVw2MRjgzUuBs3wVo1hbWXjfBMuIhSOxOSMh1VF28NAHwU+guK1Y5l1KvhIclMwNQaiCLihItlcNGg9SQm8vZog1bhFbt4WzWgqXRtvM5e0UWW7jLR8MhVG3K/IheXRC0eh/sF9UYODUD2tVSsMIV9ru2UZpTc6fz/2zGDDRsEIPOHTth0KBB+Prrr1kLAp0fpUG5+Dvt2rdnU/D36N6DlWvcohl7+XcnYuSOwYPRpk0bPPnUU0wsHD7sEi6NYhsx7UKFwNNPP40+vfogISGBrSvPnt178OUXX6JT2w746KOPcPz4CRb46/PPP8ftg27HQw89hFv638wCoFFoKPbywuPAgQO45+570bd3H3Tp3Bnx8TV3inWZowSSwApGUCa/gezuEVDcdTck9z0MOfmM7O8997G/yrvuumBR3HUPqQCen3HYabeea30qT6nOiKdf/xi3DpuAN9+ZWaUWIml6OoTe/WAbOhy2pyaQHzuGSR4hM93V+lJNqM9eaqE3nI7q76s+UG98PGxWK4yffAS/KdMhkVVNb2UsW4wG638Hbh4MbXISUcs2+E54CdZNG5Dz9wbE0Jqi+IC5Fs78TEhPn4JtwitQ9KxapEhDaSkMS1cj7NlRooVTU6jNPh4F381HyPiaHcejfCvC1aCtErSYTHZh6yO1Xy46aHloF87V4nrQFouLu2vphG10niW63dXOke6brqfbV/Sz3AjSj6xCcPNbyYv12lPg5549i3BaESpzvKctIDRaq5cGgt0COe1WLv+SJ9//EZMRHW7qJxqA+8dPxcoNe8Tc5Ylr3AC7fv8SAeUi1VYojgcRB5aoaMBHAwURL5K8PEiKiq68DflNKurjQTm1+SvE9XsaMhotlXNV6k2Lh/HQAaBb1yqLjgtwOOEbFgbvKFLD2rUDSqJyQ0gNjD3hriMaf38oyAPMmJgqWjg1BRrKW9a0uZirZVzt4V1DqOiLmoqLi0UH5Vqig3KtYGKX8xGjsYDKtrvaOdIyZdvXVNFB0RaVVEh0XAIVHW3awUHnswkNog46bBir4OsrFrg8X7/3Iu4f3Au+Af4IDAslx/aCWiHDvDHdMe3uLniyX1s83CkSJdlnxS0qgdEI1ZlEqA4fhvTUKUjoMGY3XusmIRJSScWHUtdn6oXwoJ7Zxn//hf/g6s+dIUjJwyImBhLyUpE3aULe/t7kpgqDum07gHbhREUCkRFABFH6EWFAeKhroelIYosk66OjIQlwz6RCqqdGwvDPDjHHqSnQoYKqBqR2VQuRDLhJTHHqO3Kpy3G2sjibxcHhrYIsNxfK336G/LXnIHE4YIuLo6pLLHUpYeRZ+uOc95G1exmydy1F/zbROPbpQ3i8T2u8Nawd5k7ogKl3tYH6aqMK6f6psHTDYr6Wn145Qsiz3U7neOFck3ohPLT7/oN3k2ZirnqwSaOIekcoERFhRESEE7ER0cCVZwtZV2YPJy8euo4uNB1GbOK2kgBSC3CD2qZ9ixqHDEVpVagBcDyG0+aEaUvtdP4tIrVcDqc09yxC5ek4s/0b2GyVCGcrkcDpq4FiwWzIXnsGWPsbUJgL6fPjIVgt1IlGLHhlqJ8NbZUKDY9EYbFOtJJHpskVdVQdcIUoquT5XOSlwhGybXWXBF9fBHao+AzhThkNb1DzWwtrAvWjxWP/HqjvvFPM1T0Mt3eH904e0bSmwVrHaiGBJ46zWBQUOnKEpulC/RKsJusFeeroR9NlQ0rL4ljQhVJ+e+rLYDFdvjz9SykrWzYUlf4ts1HKl6f7o/uheYvRwvJlZelxKWX5sv2XlS8bhlu2nn4uGqCsLH/x9jSMevnyNE99PC7IW8/nabh16kdSlqfp8nm6Ld2m/HqH5fz29Fjl19PydJ80XfbdXfzdXPxblV9Pv5uy/MXfBV0oF+/PnrwQUlMpAu3xKNj/JbNVBiGcVLhoN5LT9TKWlOazburK8O70CdgYb4DEyyZayH5JZUsedpl5URQKFFKx0M7lWFzdpQVtnakEPr5ULPGulooge5sgpuskBoMOloTT8O/WQ7RUHe2xI/BLPg30GQCcToCQn0dDJ0LIzYFQXAShsIAtYEshqToWQkIW+legeVqWrJNQVWwmN3/SaTi794asQYx4hKqhDgpE3t+b4Ne7m2jh3GhoV4uBDq8OreBQxBqEaf9+lPqboFSHISftGMwlKTAWZUKhDkJeVhJMRYkwFGRCExCOopwz0OefhqEkGwFhjZCbtg+GwlQYS7Kg8Y9GwdmDMBSlElsmvPwiUJBxguSTyPbZ8AtriJwzB0lZsp68lHyDopCbtBOm0kzoSvLgH9wAuWf2wVicxmw+QTHISdkPE8lbDMXwDYxCVvxumHXpMOpLoNQEoiB1DytrLS0ixwtDXsoulreb9Wz/WYl0/xmwWc1QKDXIO/Mf2Z6UJ4IIChkKUw+4tif3p1Tpi8K0vSxvIaJCoVCigHw+mncKpM4mOJGfcpBtb7FL4bRZUJRxmHwecjyoiBgyQJtzBEby2aVKL5hNWpRkHWXbK5T+MOgKUJJxHCYtWa/wg7YwHdq8ePZdy1T+KM5JJ99bvOu78w1GSX4adHQ9+W59gxuiIP0Y9IVJ5PvJgpd/BNLOHIWtNIXt38s3HLmpJ2EqSSbfNSkfQr7L5GNk22Sy/xz4h8Xi7Ol9sJSmQV+Si4DQWGSeId8t+S3o9prABrCmr4eUfCalQESPTAOfmPNOoJeDOrv7UMFGBJNEqYS9dRvg+CkIvn6QkHsBah9gwGBIs8XYRVIpcu02RMTGuvKXwc/HB3E+eqjNFpghR25oK6hb92GjiMpTWFAAZXAwfBs1Yv4zNwKjrhBqjQ+5968e7IxDno9ECdfptqHcP/6AMiIcgT17iZaqw0a1/LMWeGU6sHeXS713J4KGhj/f6hp/LnhfOZqoREK+avIwYk2NNEjThjWwPTuxyqNaymNesw2lTcIQ3qaVaOHcSGiNszQhHoGtWouW2oMx7SzUsdUTw5zaT17Sdnhn/QJBFQpn06cREBwurrk8F4xqIS9/a4sWkFBnUvKKofE6nOR5qTh5/HzcDNqlcdGolsth2fIzlLBBCI2CtO3lY8xcboTR9SY79RhCoxpBTgQr5+rU+a6WgPQkKFt64uEvAeKaAZ06Ay1aAn1ughAQAEnbdhcuLZsDLePYIjT23Pwqumbh8Nt5QsxxbjSCXYD9UO2MZKjPzBVTnPpMWNObkC20gV/3t64pOi6BCG/lqVOQJyYCWVmQpqZAeeRQhYJ1Wc1alKatR86ppcg+uJ6JDopDV4qsY39An7UdVhqWvRw3WnRQzGYLnPaaO0KpJlHnhUe+QwZNQMVC/lYaI7mJiNKmil7QlrhmOlSSG6D8ojdAcvAAJOQlJDnhOT8M/6ZNYMspEHOcmoBwg5p8q4v05BExxanvFOuq57MgKS6GIjMT0nzq33HtYInU18V05jv4mzYjQnIU4ZZ4oirIOUgESJ35iJLvgI92DXRnf2N+KzUJU0k2FKqKj4Kpz9Rp4UGdpZyxHhrSSOckyMgAfvkRwsoVkBw7Bgm9uXbuuHChMx9eh3H6dJbLDJ863WtWq6DT4qNX9bvQbgRSW52vj3AqSGRkBOyWig0RpfFIBDl58dLn3dWWq2ApPAV/TZGYI9diYBYkwUcgCTsKWXAS2d51bQbLjiM/vWa18BYV5sEpXP3zcVzU6SdM7qGDaNi8hZhzIzYbhCbNIERHQ/DzB1QqCA0aVHhBM88Elgpt0hRG/fmhZ5wbBxvxkEaEaS1EPuJuMcWp7wQEh6K4IFvMXZ1Q8mxLJxWgsyqvqy5GuYIFGLscuoJ9RH1c1DJCA8Bd3HpodcK7aI0rTepbZaOGrrhYPR9fI1BFRxtx0V4R6vS3ZDp0ADqVByZgos5SAUFEhUecX2hsjgou7EbyAH6NYpB6gvt51AjIs9M3s3ZGlDUcPiamOPUdQe6LwpyTYu7q0BaPmObNEdOxw1UXeds2MNJJOi8SH4W5mYhQpYi5a6OyZyD/+EpkFhQjO7/o6kthEbLyCtkQZU9Ahzo3CbO44jxxrkmd/pbCSrWQ+HnQw9jprNriIZwaBXxzC8Uc54ZTSweMKZOTxBSn3qMMQADSxYx7UHp5QdmoEUouit6sNO0D7BWcAM7pAJ2PTS63Q3A4iOiRXnOxk3KeGmpr1hdDb5KQ/V++JYdzIXVbnuXnQqq6zmOqqYqnY8yVykubBz2Ik9xUtvgziPpzM1I++wr6rBxxDedGwHw8bh4g5moZ/OHJEfHyjYS/3P2RbGlUUv/YWDTu0JHlaUuE3FzxljZBcFXg7LKW7G9FUEgkHhv9ohRKkC+teJTT+k6dFh7BvhpIqbPT9YCoeDRtCnTpAnTqBHTuzP4KERHXRYCY9u2F34pFkGmL0XhvAoQPv4PNYgWNJ0EX6gFOl/J5ypXWUy7Ol6XPrXdevjy1Xy5fVrasfFmalrtankFM5deX7bssT7nSesrF+bL0ufXu/ixECNrPJLJ0bUN6261iilPfUZHn2pn8C4N1uQsaZM/PzxX6PDvxX3jLXBFTK4aC/OcHm8+Fw3zL7r+yv2XIZNIyv1SPUJidiAZNu4o5zrWo2wHE3pwE0+vT4O1z5aBeleFcALHn3mAOpucICgLKwusWFACpKYCa3Kyt2rq8sMlLCEeO0I5AVxnq2Z140q0BxHK/n43wTXSyOHJcqze585SIf+IWtNi6nq1P7DcEMl8vNFm3kuVz7xgGrcOG5n+Tz0OQjHkWpfHH4bdjG5zk/KTvfAL7r8sgP3YETqkSJa9Pge/3v0CRfwp2uRqGlyfCTL6PsLRC2DXkM06ZgqLZsxGWXoyiMDUCX38dtg8+hLLYivwQX/g8Nx7eH35Lzs0Ie0QkrC88AfWbM0iVxQpbozioXnkc1pemQ+50QNexDdSDBkL26Sx2bmm39kFwVCR8Fq9gtfEzA3uxz9J49Vby3dphvPsO5MCBJqv/JlUPNfSP3ANpZi7Uf2+GIAuBbfqTkK78h3yWBLK9FUWTnobjhz8QSqfphh+0U0ejeP5yxObkkidUEMxvPwnHnOXwSS2EPtQX6unj4Jw+B/JSA3TB3pC+Ts59+jxIrDbYGvrC+fITcE7+Fl5EgzjCAqGYPgbOFz9F6U2NEDjifvYZahPHNmxAu9tvF3Oc+k5eygE4VJGIpJNgeghL0qdQ2cRwAF5EjJi1rvQV0DmiYFO0g9Gvg2hxIZc6EUKex3lFJaQiIBoJKiWNJFuKBtS53wNk7JyBBn1eFXOca8GFRyW4rPAICABatCB3jhmY/BLQOA5Cu07kBWuBjTzA5W1aQPrEeFd5Kj7o3eAB4WHcsR3qOd+Q/auZ8BB8Q2D86lUoqAc5QSbOsugQZ0+UKYmd/PRleblKyfpKHXYiksjpKVUqso7OR0HPl1QuSN5OhRPZhl4xCq/L52mLAP14ClJTspnNbB2t2ciVSpJ39d/SvII8CKz0OyPrab8rPX5ZealMBplcxlpsKFJy7lKyUzt50VPKPovTbmdTMp3Lk89C8/RYAvme6azE5FTYubPPIj6Jyj5LWetF+XO/OH+lz2K30LlBSF5cb6WBkcT1dP+0vIxOke6hpl1PUjBvPkLGjhFznPqO1ZCP3MNL0LDPK6LFvWRlpCDSMIe+jGBzquAMfxiq/B/EtZfnVGEsQls/BjN9hpTDT62Gn58aWp0OWsN5fxG73YbY6Ahyv9IngnspysmGtOAvBLR9UrRwrkWd7mop0BnIBXftoDXVQYiJIfJbB/tEIjqeew14/hVIBgyE5PY7oPx0BiT+gRB+XOTy+6BT4nsIZY8eKB5yJ/lFvaFvGAndpFHQ+PpC6e3FFplczpZzefZyP5+nL3/6omR52m1EblAZecGW5ekNS1+o9CVLbVfK0zS1UcrWUTtdz/Yl5pm4EddT0VG+vJyIIuodXlae9gfTF3hZvuyzsPJkkclInixlefZZ6GcjaXYuZZ9FXF/+XOlytTzbvty5lX2Wc3lxPdu3uJ5C7bVRdDBsnr1nOLULmVcQQr31l0QLdQe0ezLYto48DlyiX0odQQ1bWbo8dkMwnAWxsFhIxYrgFxQKbcmljvSlBh2y8/MvEB0UFXkm0PvWEygt8dDK24g5TkWo08JDEhbuaonwFDREOlHYwrZNkN1zL9C0GXvJlSEcOwJJz75w7tkN0ImRQkLENe5HrlBC1eMmJA++GT4zp8GvBTkXDqcKKO4cLKY4HCI8iIDOlfeERVexeB6VwWEzQuEgz0aX7oBMYoLSeH5IrcMig5DdDjJtFCQ2PyiLmkBwSuElpRUWl+gvj0Qig8NxocCgFRdPRhQtyT6O6Obcv6My1GnhYSKqGOIU0p5A0GhciUP7IRl0BxE5RGVTfw6CsHc3HD/MgxAYCNkdQ4GUMy4HVBpW3UOoTDYYmnqmD5NTfyg6kyymOBwXse1uRe6pDXB3z7xMSoSChDwX6SgV2hV60eKEDEVeUSjVhKLENwwlfhHIdbRFodmftXJWBAV5yyk99NwtzEqCT2AUE2ecilOnfTyS/tmCRlFhkNHpmd3AxT4etJtFEhEBYfKrkHzyOfDLTxCIgkeLNnAsWgDZ51+z6aGFrZshsduAW28nIuUQmJOpm308KLl/boaqdwcEBASLFg6n8hTMn4+QMdzHg3MhuhPfwxE6EAFhV57sMiP5DApPnRZzFSPAxwcNfQogoWKDRt6TOCCBy/dMEDTIxaUzJat9/KAQxYngJNsQ4SKhw8DpQkUA+0sUB3m7lep1yMxJgdzp6tK9GnED+sObzjZeQUzxC2EIvBUh4bzCVxnqdItHUJeOKEjxXO1NIk7/LIkIg6DVAvc/CElGFhyLiej47EsmOigCnXSLDqulNwptFfEQeeSm56KDU10kZvoC4HAuRNpwOHSZV59xWSmVo1lUVKWWUD8/mKRNYJQ3I0sLGGWtYZC1Z4tJ3hR+csUli9xsgmC1QKAVOvpcJQKDOscLNisEus6oh6DTQtBr4UdWtoxodNljX7xIK1EPp9FK87VOLjqqAm3xqMucnvmFmKo+6UsXCcLjIwVh/35B2L1bEA4ccK04eVwQ3npDEJxOQbDZBMFoJEaSptD0s08JgtksOIuKXNvt2SMISxYIwqPDBOvuHa5y1cRutwul784Wc5Vj6JA7yamL51sJpk2dJqYqzx7yHfyw4AcxdyGzZs0SOnTocG756qsvxTWVw0Z+i/bt2wsGg0G0uDhx4oQwetRoMce5GEthoZjicC5Ef+J7oSg3VczVb3THvhNK8pLFHKcy1OkWD0oDhxEmT/l50C6TvDygRSugXWfgs/eBzEyXL4eFKO89uyC89iww6U02qkWS7X7nrDJKUtIgDQkQc5Xj9GlX0yiNHlhcXMwmODt69CjLl2GxWLB//36YaSsPQa/XY8vWLcign1fEYjHhCNmO7qMMPal1WMm2+fn5SEo+3/pEj3ng4P4LypaRTb6nV199FTt3bMeWLZsxZ8535Gs9fxyaTkpKuqS/OTc3F0lnzrBhsBT6f3Op7ly5goIC9jmaNm2KDz8ivxVBpyXnR2pOeXlkW7LP8tDPePKka56KnJwct/dv11S0B69eq+XUX6yhg+DM3S7m6i96fSkKjF7wC2kkWjiVoc4LD2ujFrDGx4s5D5CeTuffB+4bCdx0C7B0PoQ33wDenQ4c2gfJR18S9RPjKke7YzyEb3IOSrtWb9bbM+SlffugQXj0kUfx8SefYNy4ccx+9mwahtwxBNv/3Y4nnnwSWVlZOH78ONJS0zBv7lz2QqbNjhNfeQ1/rluHUaNGIf6E6zuf8b/PMW7sOLz00isY89jj+GeDK6DZli1bsH/fAWzbcunQOeqTTt/xDiIg6BIaGgpvL292nBmffYoJEybg3XffZccxiULom2++wZgxY/DBBx/gkUcfgU534Sy927Zuw6TX3wAdUpeYmMjOh/LW229j/Phn8PrE1/Doo48ywUU5cvgwhgwZgpkzZ7LjdGzbDjYqNOsDKedHFXA45QkMbUDeGkoUZXvwmVrDcTjsMMV/h+j297DnCafy1HnhIenfD0KiB28S2ipw6hSEkhKgR09g6nuQvPcp8MGnkDzzImvpEGiLQrkauyfIOX4S0d26iLmqYyWf56eff8KPy5Zh167dMBgMRJAkISgwCPfcew8WL16MqKgo9OzZEy1atsA777zDbj6lUomp06binnvuwZinxmDam9PY/qi3d7O4OCxbtgSzvv0W//ucCDHCyPvvx4AB/XHvfcNYvjw0hsfHH36I++8djjuHDkXXrl3h4+tDvuZT+OWXX7Fq1SosWrQIQb7++HX5cqLp0vH5559j9erVWPDDD2jepDkRRPOYgKHNHgkJCfh85uf4+puv2XmWh8YRaN+2DRYuWYzZ387GkiVLmP3Nt97CZ599hnnz5uHrr7+G0eo535yahtThuZFXnNqPKuYOIPcvdu/UR0z5J1GIDlB4+YsWTmWp88LDLzgEBZlZoJEsPQaNkElebmzECnkJCnl5EPLzIdBm+oMHISkqEgt6hsKMDAT5XTjTY1UJoJFYRaRSl5ofOHAgpk6fiueffR4tmrdEBjnexRw8cAATxj+NIvJZT5w8PzW/2WxG06ZNWFog/3z9XbMF28QopJdFEPDuBx9g/eaN2LNnD7RaLdasXsO6a8LDI8RCQOce3ZCXncPsDULPRyXs0r0L0XnpTHhYJE68//77yCO/CQ0qdjE02FijJq7zo2mzyRX3pYQIyRY0Ii2BxgGgS33Be9RIMcXhXIqPry98YoYgZfcC0VJ/MOiKISv+Cy278ikFqkOdFx6UoM5doV3vauL3KLT1IzMTkuRkSJKSIPFg10p5fP7eD2vfdmLO/Zw8eQohISFY99c6jB0/Bvv/28/sdiK4qLCwW+xYs3YtRg4fjr59+yK0goHSDEYT2/5y2KwWtl/qk3H82HH4+vmiS5fOSCTnkk9EhMPqwKxZszBoyB1o3boVzmZnI5vNvQLM/HwmRg4bwdJKQcpaaaZPn45p01ytMOUp6yY6hyheBvYfiI/edfmBrP/rL5dviyjE6jp5f24UUxzO5VEExkGi9EJxrmdbcmsaxSeWQdLoWTHHqSqytwlius4ij4qC/s910PTuLVqqhvbYEfglJwK0daGosFqL/WwGpIU5cHbrBRn1AakitLkzZ8sOhN91W5X7G0uKi3Fz//5sOBrtaunVqxezG0u06N3vJtYCsfznnzFv/nyEh4Xh4UcehkKhYF0un3zyKbr37I7bbrsNa9atxeo1a9C3T19k5+YS261MWMTGxrKy1GmVLl26dGGTNW3dtg1JZ5LQo2cPdrwyrAYjtm7/F5u3bsbmfzbhsSeeYPv38vLCPcPuwUcff4zVa1dj8uTJrBtGLlfggYcewMfE/vvvv2PCM8+g34D+rJslv7iQtdi0bNmS+bDQ43p7e7PunE6dOjEH0mbNmiEyMpLN5yCXy4iQaY1effogKycbixb8gE49uuO3X3/F66+9Xi8CBTl27oCaiDwO50rQZ41fRCtIEmYCgZ0gU1waRbSuURC/AlL/FvAPbSpaOFWlbk8SV47iTRth9lIjkrxQqgoLILZh1bnopJeFBrOhUfJo6wcNYnM1yEvMNuGVagUQK17wG+RdW8O3fSvRwnEHc+bMQUzDGHTq3ImJGern8vnn/xPX1m0K5/6A4HFPiDkO58qUlpbCkvQD/Fs8BZXG1Y1aFylJ2wHBlI/Alpf6pHEqT73oaqGoe/aG39a/We292tBa7+UWUgsQxjwPfLUAuOd+V7P95cqVLdXEYjHDkl8In7YtRQvHXYweNQr79u/H9GnTYdAb8Omnn4hr6j7Se+8UUxzO1fH39wfCBkOftOKK3aa1HUNhMiTGZPjH3SNaONWl3ggPlUYD+/AHcXblCtav7xH8gyHpf4trqvy7hxNx4bmvlzrL6j6Zj5An7mNTsXPci5pcL2+99Sbmfz8fr73+Wr1yLs3dtUtMcTjXJqxBSyiD20Mfv+CC2D91AVNpJqQZv0Pd9EHmfM5xD/Xqm/Rv2QreBw7Cmp8vWirHNScaKso9Pyldbh4dm+pKXwWZquLzApTHlJSG/Ab+kId5bsZbTv0kpKBq9wen/uIb3QWahv1hPvGpaKn9mEoyIE+ZD2Xbl6C4aBg+p3rUOwkX8PbbsM+ZdS4CZ2Xw7tLt6l0kCiWcrz8HTH8V+HCKy9fjaqh9YWrYUMxUHAMRNdLvV6PVE4+KFg7HfUgsfK4WTuXxDm4Ne8T9sMR/Crutdse9KU7ZCXvGn5C2m0oe+dXvFudcSL1xLi1PKQ34tXcXAh5/SrRcmeyUZBj1ejEHCKmpaPbfTgim87aqIPENxOF+A+FbbuipJiAQEdcQInTop+mLxZA/cQ80oaGilcNxH8b8fKj5tcWpIvrCLNhTlkLW+EH4Bld9xN6NoiBhBeAUENxiBO/G9hD1UnhQSjf8CavRgtBhV/dSpvOC0CGgZUjIv8sFoqoKdPhmeTQaDYKDrz67bPGcn6Ds3h6azu6Z6p/DuZiza9Yh5q6hYo7DqTx0KgPLmaWwqpsjtMnNVR7qfz0pLsyDMekPeEd0RFBMd9HK8QT1VnhQCpf/BCEwBCG33SZaajYFP6yAOjYG6oH8puB4joJ58xEydoyY43CqjiHtH5QWpCGw+VB4+52POlyToBVAc/4JCMVboGr0OJRq90SB5lyZeu2mG3z/Q7AU5CH97w3uGWbrIag2zJi9FLJmXHRwrgN28S+HU000sbfCt/l9MCcsxOlDm2uU7wd9ruqKc5B/8BsU5ybDt/XLXHRcJ+p1iweFDkvN/OtPOHLzEPvkk6K15mC32VD8/jeQPzAUAa2a1YomS07txmm1QarkE8Vx3IcgOFGUlQZNySLkym5DbMuqB010Bya9HuakxTA5NIho/yCkcpW4hnM9qPfCg0K/Au2RA5D9uxuS0aOgKTdR2o1En5UF5w9r4f3oUChio0Urh+NZCv74AyH33ivmOBz3YbGYoMs9DlvOHkh9GiGo+WA2/cL1IivtFIIMW5FrDkVE835Q+YaJazjXEy48yqFPSYFp9Vooe3SDf8+eovXGULpuC5xJGVA8MAg+4eGilcPxPPnz5iF07Fgxx+G4HxpozJx/DCWZx+GlFGBXN0dQw45QeVUtrtHVyM86A4UpEdrcRAREtobdpw2CQiPFtZwbARceF2G3WVG6ehWcBYVQDhkK/yrE2agq9KfQJSbCuGYLlG1aImjwzeIaDuf6UfjdQgSPf1zMcTiexaDVwpK/D/aSMzDaFAiNaga7MhRQhsHH3x8yWcVHEZoNBpj1OZDYddDmnITFUIjwiHDoFXEIj23Po4/WELjwuAL6oiJ4LZyLpLAYNLr9NihDQjzmX0GH65qzcpG78k8ESpVQPzkCKo37lT+HUxGsJjOU3nV/tlFOzYO+jrLSEmDLP4QARTFkMCO9UAm7PJCk1VAH+cHH1588i6WwmvVEZJhQVFAKtTwHapkRwX4SmCXBKEZTNIzrBm+Nj7hnTk2CC49rYNRp4fhqJizwhuyxhxEQGQmJmyLZCXY7MuMT4PvLn3CEhCLoRV7L5Nx4khf+iCaPPyzmOJyaAX1V0dYRg8nE0nQKC2+NBt7e3mIJTm2BC48KQL8iB7ngs/cdQPD27VD4qJHatzcad+0OeSUdo8wmIzL/3YFGB8+gxGKFfchNCGrdkuxTI5bgcG4sPI4Hh8PxJFx4VBI6/JaONpHlFyDn+HHyNx+BDjm8/fwAtRROTRDyBTs0Uik0TjmkxkI49TZYdHoUymRQNQhHeNt2KA31R0BomMe6bzicqlI4bxGCxz4m5jgcDse9cOHhBmwWK0qLCoBSPcwmA6QmM6wyCRQqLzYdv9zXF76hIZVykuJwbhSG4mJoAnkgJQ6H4xm48OBwOBdw5udf0OzBB8Qch8PhuBc+tojD4VxAgF4npjgcDsf9cOHB4XAuQGI+Pxszh8PhuBve1cLhcC7AqtdD6cPjH3A4HM/AWzw4HM4F5P+5QUxxOByO++HCg8PhXIBKWyymOBwOx/1w4cHhcC5AAB/2zeFwPAf38eBwOBfgdDr5ZFocDsdj8KcLh8O5gKJly8QUh8PhuB8uPDgczgUIZpOY4nA4HPfDhQeHw7kAKdRiisPhcNwP9/HgcDgXQOceUqiUYo7D4XDcC2/x4HA4F5C5bLmY4nA4HPfDhQeHw7kAH6dZTHE4HI774cKDw+FcgMSpEFMcDofjfriPB4fDuQCzwQAvjUbMcTgcjnvhLR4cDucC8n77A3abTcxxOByOe+HCg8PhnKPk668Q8+dm6N+aBYvJKFo5HA7HfXDhweHUU2hodJvVCqvZDJtej6L0VATs3cPWBSSkIufPv5ndZjTCRsrQVhDeM8vhcKoL9/HgcOoJebm50B49AueZMwhOy0OgzQnBKaAIdji9AiH1ERCaeAIwKwCbBkVdouGwekNwFMFHZ4NK4QW7wwZdcARSo9SI6NABIa1bwMuLBxzjcDgVhwsPDqeOQcVEVnw8nIcOIjyrCCUWK4ojAhDYvAWCYhvAolBAplZDUCqhVKkgk5+fjbb42BEU/bkN/t2IqBh4s2gl+ySPCbvVCrvFApC/cpMNTr0OGfEJcCanItLshLefPzKaRiCgVw/4BwaKW3I4HM6FcOHB4dQBijIzIT18GEhJRz4RHpEt4uCICoM0Oho+RARIJBKxpGdw2Owoys2GJrsYupRE2NKyEBAUAmPrRgjs0gUKInI4HA6HwoUHh1NL0RKx4ZV4Btn79yE0JBrGFo3g06E9vNQ1YyhsUXo6VIdPw3YmHgY/fwR2bAdpq+bk/HjXDIdTn+HCg8OpRTBH0OQUFP+9AYEyb5T06oborp3FtTUXOkJGt+FfyI+lEIEUBb8+3aGJivB4SwyHw6l5cOHB4dQCnFYr0rfvRNSGbci+qTOihwyFTCYT19YutMXFcHz7Mxw6HTQvjIZXRBgkUj7AjsOpL3DhweHUYOiQ1/yffoTidDoko+6HX2wMZIq6EdLcYTDg9J/r0fzwWeSPvAWRHduLazgcTl2GCw8Op4Zi/nUFSjLSobl9ENQtWtbaFo5rYSkthXHPfqj2noZ22E2IaNdWXMPhcOoiXHhwODUIp8OBkl27Ydi1E779b4ZPl66QlxvuWpcxEwFi37AHlsJiKO++Gb7RkeIaDodTl+DCg8OpIZgyMqBf+wd8IxtCdffd9dbxsigrC/LlG+FoEg3vW3vzUTAcTh2DCw8O5wZjt1lRsGUbfI4fhmTMeGj8/MQ19Zu8vYeg2LAbvmOHQx4ZLlo5HE5thwsPDucGIjgcsL41CcX3PYSIzjV/WOz1xm63I+uzeTDFBKDFIw+JVg6HU5vhwoPDuUHk/vsvpLt3w2fsWHgHBYlWzsUIghPa+BSoftwAxwv3QxMaIq7hcDi1ES48OJzrDK3Fl/y4FNaAAETdfa9o5VwLQ04OrD/+BcVNXeDTjQ+95XBqK1x4cDjXEUN+Phy//AhJz77w7dpFtHIqipVO4//zOlh9fRA07DbRyuFwahNceHA41wljZiYsyxZD8cho+ERHi1ZOVchZtwn25HRETxgFSR2Nb8Lh1FW48OBwrgPWnGxIvpsFx6tT4aWpGZO41Xayj5+E189/w3faM5B7qUQrh8Op6XDhweF4GO3JE1Cs/B2qSZMgrSfBwK4XxqJi2D7+Aap3J8DLy0u0cjicmgwXHhyOB7Ec3AfTrt3wfWYCZDIuOjyBKSsHlu+JsHt5FLx9fEQrh8OpqfApITkcD2H5by8sBw7C52kuOjyJd1QEFI8OhWnWMpjNZtHK4XBqKlx4cDgeQHsyHqWHDkL9xFNun2slOTkFr098DY8/9hhmzPgfHA4Hs7/79jvYtm0bS1eHJ554Ukxdnv/++w9rVq8Wc9eGzrD71qQpeOqpp7Bp40bR6l40jWOgevAO2D75AU6HU7RyOJyaCBceHI6bsRYUQLFuBQIfd7/oMJlMGDFiOIaNuA/z5s+Ht7cXxo4dy9adPZsBnU6HgsJCFJBzKA9tCTh79iwMer1ocUH3x+wGo2gBMjLSxRTYfqhwKE/Hjh1xyy23sLSe7I/21ubl5SE3N5fZLmbv3r2Ia98Oc+fOxScffSxa3Q8VH/LRd6Lkw9kQ7C4xxuFwah7cx4PDcSMWrRbytybD8cFnUHpgcrNJkyajT5/euOuuu0TLeZ55+hnY7Dbs3LGLCIZ8JJ5JREBAALKysjBo0O3o2rUL1q9fj5MnTyIoKAjp6ekYMGAAgoOCkXA6ASePnURUwyj0798fW7duRVpaGgbdNhhHjh66wHFzA9lHKlk3fvx41ooRHRKO5X/8jqzsTJw4cQINGzYUS7qwWCzo2bMn2rRpg969emPCsxPENZ4h41Q8bDv2otGY0fV2oj0OpybDWzw4HDdhJS9Y+2cfwvH+px4RHZStW7cgJiZGzF2IhPxr1aoVTpw8jhW/rcB3333H7M888wzWrl2DhQsXMtFx280DWSvGyy+/jF+XL8fe//YiNTUVgSGBrLxSqWQC4vHHH8fR40cuGS2iUJ3Py2QyhMdE41T8SSz/ZTm2EMFyMbS1xaAzIiUpGePHjcfaNWtYIDBP0aBVS5gD/VHyzw7RwuFwahJceHA4bqJo6RJIRo+B0oNxOoYMGYrExEQxdyFWqw0tWrSAVCqFDzmHspc77QKZN28e3n33XXw9axZuvWMQEx4ZGRlo3aYNK0NbRry9vVm6pKQE0yZPYaHdFRXoKqItGbRlwcdHA5vNJlpdUP+THt2746/16/DKqxMx8oGRWLx4KRM3nqTViHshP3EWpYePixYOh1NT4MKDw3EDRZs2QhUaDHXzZqLFM7z++mv47NPP8M8//zD/iwULfmDdLhf7YZTvP+3duzeaNWmKN998E3cMGYJRjz3GfE9u7nczZn7xBWuR+P3333HsqOsl7aVU4ZcVv+LJJ5/EV19+wWzlcdgvFBflES46Dwod0VOq1eLee+9FSEgIEs+cFtd4FuXTw2HfvA/6oiLRwuFwagJceHA41UR/9ixw6iQC7x4mWjwH7fZY+ftKLF6yBA8++CBOJyRgzZo1rJWDtjzQFzvF398fTZo0YemPPvoIJ8j53X///Vjw3Tw0Fe3vvvcu8nJzMXzo3Vi/eg2aNG3M7L379mEtEo8++ii279iJwsJCZi8jNCwM0WLI91YtWyEoyNVFQ1tNIiMiWLoM2hWzY/s2fPThRxg+fDhaNW+B1156Gd/Pny+W8Bwq8l0p7rsFmP+7aOFwODUB7lzK4VQD2tKg/+wjSMZNgG+g6wXMqVmU/LsP2oI8xNw3VLRwOJwbCW/x4HCqQcm8eVANvYeLjhpMQL9uUJ1KhWCzixYOh3Mj4cKDw6kixpJiGAQHFK1bixZOTSXguVEwv/YFHHYuPjicGw0XHhxOFbBbLLDN+BiRox5j/hU3CoftwkBZ1FG0uLhYzFUduo+LHVZrMyp/P2jv6YXiHf+JFg6Hc6PgwoPDqQKG/QdgGnwX5Ddoins6pPbhhx5mI0UG9h+IdevWsQiiNGT6a6+8KpaqOu9MfxMFeZePRFpVJk6cyIbw3ijCB/SB16ZDMBXyUS4czo2ECw8Op5JYSksh37QeEX37ipbri91uY0NdJ02ehDXr1mDjpo0sHDlt7XA4nJA4BZw6dQr//LMJZtP5SdPo8Nutm7fi4MGDLEZHGdS+5Z8tOEDEVFkcDofghFOcAyYhIZ6FYr8Yg8GAnTt2Ys+ePSw6aRnl44zQgGVUENGRMQcOHMC+//67oOz1xvLEHbCu3ynmOBzOjYALj2pCH6q039hBm96NRtjIw9i1GGEnD32H1XruAc6pGxi3/IOC+x8Rc9efrVu3oVfPnmjfvj3L0yGrq1atYgHAFAo5du7cgS+++BJLly7Bq6+/zsrQsOk9evQghSX47bff8M7bb7Nrl7ZA0GG4GdkZeP+D9/HpZ5+x8k6yTiqVsPXjxo2HSqVi9jLotgMHDsTadWvxyy/LcfuAW8U1wJgxY8QUMGrUKCZmjOTeoEtWdjYEx43zswhu0gSSQi0K029cywvH/VAxbreRZ7DFCKvZcG6xWU3ETp7BTv4Mrknw4bRVJPnYCSh3HUJAVgpURgcK5aRm6RcAp38giixmBJEXgKzUAFlBKQJ8AmEiD+6M5pGIHNgPAaFh4l44tY2S/HzIlv8I32dfFC3Xn59++gnJSUmYOm2aaDnPxo0b8e2337KAYJTu3buz2WSnT58uzpXSi9lHjBxJBMMvWLJ4MTp26oS7776biQkqEmgMj2cnTMDDDz+CJ596EseOHbsk0ujOnTuxZcsWTCPnQLd77bXX8PTTT6NZs2a444478Ndff7FyXbp0we7du9n2NNDZ119/jdjYWLbuRqErKIRt6Z8IemmUaOHURpJOHYA+cw8aBWjho5Yit4hUAKW+sNilKNLZERHsBalDB5WgRaC/N4r1UuSgDRq2uonFnOHcOLjwqCD60lIU//MPAk6fRa6fN8LIA10WHgr4+kDl4wO5QiGWvBQLqenZ9Xp46c3IPx0P87FkRMuBlG7t0LRXT1Zj5dQOihYvgLQPEY9NPRuh9GoUFRVh+LDh2LJti2gB6z5p164tER6b8PsvyzFv0Q/MTidno10hr7/+OiIiItjMshQaiKwTERwffPABbr31VjYxXHleff5FpGZnorS4BN98/S3iWsWJa1ysXr2ataJQsUGh4dhpgDAqbsoLj7Zt27Jzo8LjTiI8Zn31FRo3dgUqu5GU/rQapt4dERF7+XlvODUPg16H/IQNCJakI8cciIhGnSBVk2ewTAMvtc8Vn6P0FWexmOCwGKCU6JGdFo/S3BQ0i/ZGnqwDYuM6iyU51wsuPK5B/vHjkO78D3alDN7t2rChk97VnQCMfOOFubnwSUhB0YHD8IloCOG27vALJTcRp8ZiKC2B/uefED7+GdFy4/jiiy+YoKDRSKlPBQ2hvnLlSmzfvgPLli7Bsh9/ZOU6d+7MXvz79u3D5NfewJffzEJCQgKSk5Px6quv4vDhw2wyuC++/BLHDh+F3Wlnk8e98OxzmDZ9KjS+fhgyZAjbd3BwMNsnxWa1om/fm/Da66/BYrXgy89mYs+B/9gIn65du+H9999j/h3z5s4j5/QvQsi1PWzYMAzoPwA3978ZHTp0EPd0YzBkZkJYuh4+bzwlWjg1lcLMkxDy98AhSCEP7gDf8NZQXtT1VxVKCrMg1Z1GQcZJRDWIBcL6EwFzY5zF6xuytwlimlMObdIZZC1bghCdHrhrCIL69IYqKgqKq7RsVBgJoKatJI0awLdXVxgdNkjWboc+IwtCVCiUF80GyqkZ6H5cCnXfflDWAIFIWzJoCwbt7qDT0H/66aeij4eC5Zs2bcrK+ZDrjPqC0BDnnbp0xuLFi9kwWTqlPW2FoPu46aab8POPP0PjozlnV3qpWAh1jcYHcXFxbLK30HKfm9Yu77zzTqxf+ydKtTrMIoKmTJDTVo51a9aid58+ePChh+Dr58vOozUR7QcPHWQz6NLj3kiUfn7IO5UAeYtGUCir/xLjuBdaHy7NSUD+iV8gEyzwakSewY16Qu0fCVkFJi6sCF5qX6gCGiGgYVfkF+ngTP8DdpsJUIVCrvDsJIb1Hd7icRE2vQEFf66FX2EOvJ56DjLl9esGyT9zBr4/rIfj3pvh1amV226wazF//nxSa3XNZNqpY0c2qdjVOHRgP9q0a89eUDTeA518bNasWeLamsOMDz7Gq1MnibnqQW+TnE8/QeQb7tkf58ZjOpuJ4hUbEPXKk6KFUxOwmnXIOLoK/l4W+MQ9DJWXa9bk60Fm8mH4azfBGHQLQht2YLMuc9wPFx7lKEhPg9ecudA+9SSimrhqjDeCjDVrIDuRiYjXxkEi8/zAoxaNm2LVX644EJMmTcKLL72EgQMGsHVlQaTKgmTRMjfffDN+/fVXhIeHs2GZ6WfPonGTJmxdGTR9cWAtui9qo+vKbmiapjOaSoj9Sjc53Y6uu3g92/ZKxyFlB91+O/7++2/RWj0SN6xHbMMGULZuK1o4dYGCVz5FwIcvQF7DWhld9whN1bwXX/n7190U5STBK38phCavQnODYuRQ8k79AejTENr1efJZ+eBPd8O/UZHCFb/D/PcGqKdPv6Gig9LgrrvgN3oYdG99jdzkZNHqQRQKtGjRgjWB09YLOtSSQltChg4ZyoZufvXlV8y2etUqnDh2HMPvG47SkhLm6Pj4E0+wdT/++CM++eQTdOvanY1uiD91itmpEHjssccQ16w5RowYwfZH4zo4HU488fgTuPfue3FT917Izb0wYBUdYfHwww/jrqF3om/PXjh69CizpyUn4beVK3Hn7XewGVh/+20ls1Oov0L71m3w7LPPs64Hd0CHQzfavAFCoxvvFMlxM+PvQ/pB13XlTuiIIXo/0aVP7z44dOiwuOby0JgoS5YsEXPAzJkzsXv3HjFXczh69AhzVPYEecdXwFG4H4oWk26o6KCEtboX3k3vg+Xk+7AaLo1hw6kmRL3Wa2xWq2CcN08o2bZNILV30VozsGp1Qu7Xi4SMbTtEi2doEddSyM7OFjIzM4Xnn39eWLhoEbOnpqYKFotFMBqNQvv27ZmNiAihV69erCwlKytLaNyoMUsvWLBAGDpkiJCXlyccOXKEpKWx/HkAAJF9SURBVO9k9g8+eF+YOnUq29eJEyeE4KBggYgMYcuWLcKwYfeyMjRP15fH4XAIiYln2DHpdvfccw+zn06IF7p3787O4cD+/cItt9zC7OvWrRNef+11dr7x8Qnnzqu6WIoKhbRlS8Ucpy5hJ9ec/o2Zbr/3v/76a2HR4sVCclKyQASz0KdPH3Jd6sW1gpBP7hGr9fz1fjYtTRg1apRgM1tZvqCggF3HFLPZzP6WlpZeco+YTAbBoNOxe8RKnmVlGA0Gobi4WMxdCr23cnNy2HZllG1fQrYrvy8KPa5BpxUOHTokjHnqKdHqPgqPfC3kJu8SczUHo14rZO/5XCjMPCVaOO6gXrd4WC0WmJb+AGO7dvDv16/GDWtV+PogaOyDUJ/KRMmmXaLV/ZgMerz11lt49JFHUFRYjMdGj2b2n37+Ge+8/Q5mz54Nm9UV0bKsy0Na7ruSit1B5GGFPn37MifE6KhoGPR6Zj9+/AQeeOAB5hPSsmVL5mxI6datG9q0bsNGZtCWEvJwY/YyaIvH5x9/ihmffcZaU2itkEI7dGjciaioKDRo2JA5PlKo4+So0aNYS0eLFnFo1tw9Q17z/1iN8CF8SvW6iIxck9owDRxZ7g0PT++PAH9/NG7SGO3I8yUmJgapaenQ6w0swNrs2XMwYtgINjKJdlfSUUXkpY7fV7nir8ybN49FeiXPaPQjz6aXXngREyZMwM19+5273pcuXoQ77hiK5154AROeeeZcS8SiRYtYd+mMGTNYnJWLOXTwIF55+RXMnfsd7rvvPhBBw+yjyX1Ph0VPePZZkMoF0sXw9pvWb2DdqxNfe4PdY+7Eabcg7+DXcAT2Q1hjV4yZmoS3xhcRPV6GULANJZn7RCunutRb4UFvduNPSyFp3xXBNKJjDUVOHowB40ZCfjodup37Rat70fj64rvvvmNDME8nJsBiMjH7yl9/xXvvv4dnyEONxn0oj81qYdECKwIVAX/88QdLF+TnswiWFCpUXpk4EcuXL0fLVq2xYcMGZi/jdEICGjeKxWvkgUrFEH0IU0h1jf2lkAobVUMsfc8997DAWfS3pV05aWlp57apKjbyXUQknSAi0CWWOHUP1UN3ouRYvJhzH6dOnGTX9I9LlyEvLx8t4uLg46PBZ0RID7tvGEY/8Ri+//57yOVyTJ06FT2698BIIsIpFrOZ+T1RqAP3I6MexdKlS9Gxa2ckJ6cw+3sffMjuqwULFqBjt54wifftihUrcOfQoWy49Pvvv89s5aEB414hwuTeYfexygAN8Eah98ygQYOwbNkyFu9l/759MJJ9Pv30M6zM7NnfunUYtN1mRtbRpbCHDEJow3aitWYS3H48HEWHoM05KVo41aHeCg/d4h9gb0YeBF0qFzyGhkM3kweBhS1FsBQVwXrRQm1sIWUuLmu3nJ87o6LQFgafZx6AsPMYCg8dE63uw1/tw17QkZGRePvtN8mDZgJrVujYpSvuvPMuUD+Mrt264vhJl88G9d8Y2G8AVq78g52bv7frpUydPL3LhiYSLSBTuFpFpk99k8WL6Nq1K8aOG8daluh2J06cYDUpGlb7448+RJ8+F8590rR5cyz6+Uc8+sij+HzmTCZUKFKZHDK5a1iz4HSwmiXloYcewrEDh1i0TOpTctttt+GY6BdSVYSsLKTGtb2ghYdTtwgi171j/3Hm5OxO0tLPIiMzC9OmT8fiRQvZ/ZGeno5Bt97OWjO2btnKRDLFSo5dli6DOkiX0TDGFejMR6OBU3CdJ23x8xev/c7t27C/lJ9IhWrnzl0Y1H8g3nnnHdF6nu/nzycVig9YRNr0pBR2L1LoXzpMm1IWIl9bWgql+nyloywAXXWhIcxzDq+E3bc7omIuDE5XUwluNw7FZ/6BoTRPtHCqSr0c1ZKydj0C5U4EDB4iWipGKXl5+n37KXlAlf/Krvb1Xez5Tcr6+UM75QMEhISItopDH4yF73wD1cuj4OvGkL+06bZ8N1NZnl4aNE0fmOUfTmX2MgFBJyaTyVyjVcrKUKhTKd2WNiE3jo2BD/nsdDsaU4JGvaS1LVqmbF8Xj06h0PV0KTufsjI0ffFxKFc656qS/etyBBLx5eUmR1VOzcT57QqUDOqMoGZNREv1mD1nDhqQ65yGiV+/fj1r1aMtE4uXLEFsw4a4uX9/1oKxdcsWzP/+e2QXFGDSKxOxaPEitj118B40eDB69ujBHL//3b4dEeHhLDT92LFjWWwVGi+FdkHSOC1vvPEG6zKZQ45LxXY7YqP3BW2hoAKjPAMGDGDxXyhD7hiKZ5+dgKF3DsXtt99+rtXx2WefZRFt6ezHvXv0wqKli9kx35r+FrKyMzGPiJfqYE7bgPxiExp2vFe01A6spOJoOfoZfLtNFy2cqlDvWjxMej3kSafhe+ttoqVimI1GqOd8DonZAimpeZ9fbBDMVlhNFhQV6VFYpGOL01K+zPmyUvKA8frqU3GvlYM2vaqffQiSr38RLe6hvOiglOXpC5s2A5e9xMu/yKm9LE9FB6V8GUqZGIiMiMRL5KE6eNBgFup77969THRQaBka9Kqs7MVQe9mxype53HEo1H65c64KVMQoUlK56KgHpPVoDJ9k9/l5NGzQgLVIUAYTAUEDup08dQojhg/HwoWLWOtcZEg4gsUKSLCfHwxGA1544QXm2xRHxEZZSx4VCl5iC0TrVq3go/Fh6U2bNrEItrQrlPpLlUFbVUY9OgqPPPQw3nv3XdF6nllff826JZ977jm88spLKCouYva+5WZbpuH0Q0PD2P2z5s+1LLT+4NsHY+CtA0ndqXqVntz0eFiMRZUWHTRarmHiBOhfHFftxfDOFCbMKotS5QVJ87EwHn2XVXA4VaNetXjQGWQNb0+FespbkFeyz74oIxNB018mqWp+XWRzU2AQvD6fU+WXYsmeA7CfyULIo3eJltoBbUqmoqC2UJCWBv+/1kFBu544dRqH3YacuT8heoLLsbo2MH3yFDzz/HPwI6Ll1ZdfwejHH2PRYms62f/NREDbsfBWuwRURTGbjPAaPwpQecPUUwFlhhOyZANsMSo42qqg2qSHxCmHdaAG0kM6yPPs0Ma1g3d0NOR7tsGhDoDh7mHw+2sVdaKB47NZVY5Qmpe0jQgXKSKa3yRaOJXh8tXMOkrJrp0wjXio0qKDIWoEZ1xbCJ17w9mtP6mKDIW9c18IXcjN3pVcgNdauveH4OPn2lE18OveCfLcAhi0Lm/02kJ50VHmr1GT8U1PQ16zmt3/XFBYhEVLVmHBkpVIS7vxU70nJJ/Fmr/+xvL1u3AmtfZMPU99hmQmKxEgN27K/spy17B78eH7H+LVVyai/8CBtUJ0ZB5YAt/YwZUWHRdAnsXy9mo4msloEyccHbwgaeIFwZsISD8JpK28YG9B9u90wHDPCBTcOgQ2mRLOyHCY2nZEUVz1HWTDmt4MjXkvTLpC0cKpDPWmxcNYUADJnK/hPa1qU9MUZWYiaNrLcLZsg+KcfPiGRUAx+kmUzPgQMo0P/BpWbKpv4dh+mBXyarV4UOzFpTB8NB++H798xW4KT0C95Ddv2syOSYfNvvnWmyxIUmWhwb+WrVgO/xo8WiR/2WKo77oXGlKjrIlkkmvy1iEPIS1Fy/L+wQH48/dZ6NTx+o8QoM3Ony/4FdM/XQi7zTXaKUDjjQ8nP46xjwyv1rV+vbAs34CCtrGIbt1StHDcicVkgCF+CYI6uWY0riysxeNpV4uUI4w8N6QOyHKMsDUmokMiQJlsoX0hcARL4ZTaocgglZum5Lek197ZZAi0u4qul6ggsxnh+Pybas3JUpCXBXvuv4ho96Bo4VSUetPiodv8D/RPVHcmSqLRvNUI7t4NyvAISP5ah0CS9mvZglaZrr14kwvfTQ9geaA/CmOC4ci6vh7WJ0+cZGLjn03/4POZn7Mp0Mv6SunLR6vVnou3QaFDZ8u0LS1nNrtG9fz6x0r4+bhqPXS9TqdjS9m+ysrRfdKlLMYH7a65Xn2rRdk5NVZ0UObM/YmJDltAIPzVWpQWleJ/n1fP6a+q7N53BJM/mHdOdFBKDCa8+NZ3OFMDWmIqQkmTUChOJYm56we9/un1XrZU9fqm987FsXBqEim75kATd7+YqzxKIhriW3dBVmhDJCgjkS6E4UxkEyTaYlCkDcHJBnFIDopCmhABbbEaNj9/ZGsNSNcZcTK8EdLVQUj0CsBpbw2S23cnj+TqTfgZEhYFX7kVBbnpooVTUepFi4eupBiSRQvg8+JE0VJ5WIvHlBdIVX040LCKnu90ZMbvP7qUezVbPCj0AZX/yRxETHlWtHiehx96GOPGj0P//v1ZvmuXrtj7317mkDpw4EA2PJZ60dOgR9RRjnrGz5z5Bdq1a4stW/5BUlIaxox5Cr1698b6P/+EH3k4PPTgg4hqEM1ESpDGFx/+7zN88/XX6Ef2RR30/lq3jgidzVi4aCHz6qce/CFVGBVUGSxmE4w/LkHgk+NES83jyTEv4+flrtEJDHI99evTGn/8tghe3kToXkduefR1bNtxQMxdyMB+XfH34k/EXM1FW1wMxZK/4P3Cw6Ll+pCfn482bdogkFz7OrMRsbGNyPW+ARpN5UTvmTMJ+OnnFZg+bapoqTlYDEVI2/sDmg945bq0fmUdPoxw8p3K3DGb+FUoLiQVv9wNCGw9SrRwKkK9aPFQbt8K/U0DxVzdgb7s1d4+0CeniZbrw5rVa1jkxamTJyMsLIx1u3z00UcY/dhjmExsdM6JpUuWspaPl195Bav+cEVjnDnzKzzx+GMsbTaZISXPH+qZ76VR4+OPP8ZXX32F7Lw87NixA0OGDsUTTzyOoKAg/LBwIfre1JfN5UKHH3padFByEs9AFRou5momg27rA7vGBwq5HQL5DQRvFXbtTUBUk5vQuv1Q8j3uFEt6Fu3ZBCSeShRzl5J2Ih5FZ69/S0JloUPUiwwlYu76UdbKd/jkcRYtdMKzE/DqxNeYjXLy5Ek2FJcG36PQQGGnxHmQKKlnzpB7TYcGUbF49JHzooneL3PnzkNCvCs4Gt3utBiLZ9euXayl5QzZlnLw4EH211Okn9iC6O5jr4voeO9/83H3lG/w0NipMJo92wIUGBwGq9VJKk2uKM2cilEvhEdhYgoiOncSc3UL4/ABcBx2f9TFq6FUKeHn54u/1m9gURLpwyQhPgE7t+9gk1tRAUFDMcuJMBpy+x3Ys3sPe8DZHQ5cPNV/UWEBMtMz2HZ0admqJQKI2GjUqBGiI6Kg1+vh6+cHPREx6/9az6IxXg98U1KgC/a8wKkOw+69C1Oeux+agFB4E/EmNxtgt9lxV99GWP/OCPQW0pGXfFos7TlKiwtxa6sgMXcpt7YOhrmg5gddotexSS0GwLsBUOdrWpkIDwlFSYnLcfx/Mz7DT0TEBwcH48UXXsT+/ftZdwptXSzrVnmeiHuFQoW0s8ks1DplA7k3X3rxJURFReLb2bPx22+/sf2/9sYbrKV048aNLMpvWmoqEk+fJhWHD9l2nsBsMqCBKhkaNzjWX4vjBw/h0PY96BWmhpepGNM/nSOu8Ryq0PbQp20Vc5yKUOeFRy5R+37NauasoodPJmL77kMsLHFViYiJgTU+BXQG1esBjTFAAw098sgjmP7mdDz9jMtRbPRjo9lDc+yYMWzmWo2vDxEoKkhkErTv0A5TJ0/Bm9MvDLpD+/g6dOqEkuJSPPnkk2yuCL/AALRt3Zq9BP73xUwmNF584QUkJyVhzZrVeODB6+PI5aPTQoiKFnM1Expd8u2pLyAt4W/8+dsM9O/SGJtmPI5X7r4JDQPkkNhtcJKHvqeJatMdTz33jJi7ELWXEs9PfQPhHbqLlpqNX0xDlBS54lpcT6hvB51rZfKUKfhsxgxMnjqV+UtNf/MtDLjtVgQEBOCOoUPw1ptvIsA/AN27d0diYiIOHDjIRDqNiyMl91oZX836Co88+gh8fHzYjNBvvPIqaKd6v/43Y8WvKzB+/Hg8+uij6NK1K5uL6elnPDdk3F6ShFzJ9XF4buonw4pJg/HVY12x4PlbUVJQLK7xHOrQ1hAMWWKOUxHqvPBQ794FS/PWYq5mQLsm0tMz0efe5zHgoVfxypTPxDVVwz+6AUriE8ScZ+nRswerfVFoVEMvlRdrwqU1sFvJA/KBESPxxhuTMHrUw+eaVceNfxq+fv7nwjFTburdm3mU06iMc+bOxsMPPoynnnoK/fr2E0uAPVDzc/PRqXNn3H33PRh4yy3iGs9j1hbDP7xmd7WUQQOwxTVtgk7NG6Fnq3C0b+AaKSRoNAhq2IilPQltxerTsyv+/OFdNAzzg0ougVopRYuYUKydOxktW7ZgorSyFGecxcG/f0VpzvXrSgwODYc29ayYu35QETllyhvo3bMXmyqgXdu2zJGadodkZ2cjJzeXzZf01ttvgw4nXfD996y1cdmSpXji8cfFvZyHDlen21H/Edrl8tXsb8hvIGXTEyz4YQFSU1NZMD86MiolJRW3kPvXUxRlJyA8zuUT5mkswVGw07lPybPH4hTw7OP3iGs8B3V6NQp+FzhWc65OnRcekrxMBLZoLuZqBvSF/OOPS2ERZ3xd/1/1ukoyusTC//T1acqmLRB0tk0K/Rxz581ls8FSaM1q45bN+G3lCvj7n296pwJi/veuJuAyvvrma6jVapamc6ts3LQRf/75J9q0Oz/nBG0aXvnHSlbbu/XWW9jsnNeL/OLSc5+rNhAUGobJz4+kw35cBiJu04xBUPoFuvLXgUED+mDrzInImDcGmfPGYvuC95mTcVXISk+Gf+oudFKYoU7ZD9t1Gq1h0EhhOuX57qmLofdSQEAw7rr7LuZ8vnbtWubfNHz4cJjMZowk99a/m7ee616hEU9X/v47UtJS0JkI84uhrY7/btri2p5UDKhwoeKP+mTRMOoTnn4WCxcvZLNGP/LwI+JWnkHQp1wyyaSnCAgMgbLXMOSEtYHaaUN7NkM1bVv17BiKyKZdcWrfOjHHuRaytwliuk6SfiIBwd26irmqY9Lp4L3pLyCuNeBfxYc5eRkg/hjrrujy+jR8vXgVSdvx1Oh7MahP1X1Q/IJDULDhX/j0cs8ETvWVk2ePYXnGLHyZ9jI2huzBPt12+FnD0MC/ZnbVXUyBVYBGlw2noISl40CEtTwv4q4XxWfTECEphVKwQ+cfDp+gUHFNxdFqi2FL2AFfh0uYSx125HuFsrl+PIWFvOyXJ83GTMMUbFFvwOrCRTDlOBHrHweVwrMvTSqw27Ztx1r/qAAZ0H8giktL0Cg2lrUqlpSU4C8iRO578AF060KeZWKPSp+ePTD0zruYQKGoVF5E5MewUOedu3RG8xZxzNG7A6koDL3zTtbSSunYoSNuvqk3ohs2ZDF4BgwcwFrNPEF+TjqCVaWQB12frpbChHlQZP4ChfkQ7JIMOIq3QVK6HXbdLmhNsfD2dd8cV+UxmSzwLt0BdXTNm9q/JlKnh9OeTU5CQGY6/G6qfjOfO4fTWiwmqGbMxs6/NsKhy0f3O4cx58DqkPK/b9F4Ig/tXRUytCn46MzTOG7eIVouJE7SFdOa/oDYMPdMIOYpsuNPIbzgCBEeMshvGilaPY++IB7OovXwkxYANvI4EZysfimRyuGAAkZFCGSh90PtVwFnXbKt8cwXpLaaD6EoFrD6wqbyhqL7veemiXcndETJ6tSFmJ0zGWZcOjLBXxKCewOfxpMtJ4sWTmXIStgGOIyIan2HaPEc6Se3IsK8Ak7HhXOwKLy9IVXKUSK/GQFNKjcxaEWhTt3ag58ioOsbfCbrClCnWzxS/tmM6CZNIXXD8MsLWjxouF+no/ILqaqYkxOxW+mLtwpDscYYiH/toVibpke03IzY4Kp7fTvOZABNY6FQenbcel0jU5uKN+LvwxnrIdFyKYXIwu9Fs9HH624Ea2qG38cfJ9Mw/3g2fjpWgN+OZiMiJx4tzImQ2u2QwglTVgomHTRjybE8lBgM6BgZwGrT7sagK4GyYBERCkR00GtcQh76EjpzMJUeDnIuVqicJZDrj6HEHg5vnyvfiw6HHQWnf0EAzhABQvbhpUW+syGkrW+DygNN9Q5yvj/Ff4NvCibCTs7zclhgxBHTvygpKkWviMpNLMkhL33DSVi8msLHv3rP4LPp6SjVGVCk1aHkoqVUq4deWwq/vKXk8rMSgSpuJEL1qlQmh1QeAFmgZ1pepDIpUk4fQXBsZ3I8LjyuRZ1u8Uj9fAYCh4+Ef2zFwplfjbKQ6bj1TmDjatfVDHKBCXbqXUdqeuJDV0UekBbyEJNJIHipITHoYFV646y3L7a36IO/Q9oj13rphRmocGLh0Mbw9dGIlsphWfsviuMiERFXs/xZajrPHxyMo+btYu7yBErDUezMRWNZO3zd8W/4qG5sNNM9J5MwI0cBq8UlJPSFOijtRnwenoJopRNWckdv0mow1+hqoaEPxYUDAtEgwv2iSZvyO/wsu8XcNVB4IV95F0Ibnp9JtTzF6bsQaPhDzBHIA1yvuAk+jT1TSz2UtwMvnbldzF0eX0kgdIJrZMSMBhvRLaY3S3MqRt7hxfCJuw/q6szNQsjJySHi8MpB8SSmUmiSPoeKHEYqu/CVJlfKISPPZZ2SPF+bXH70lTvY8/didB/4ABE4N25Idm3B/W2XNQh1fi7kYlhudyHQYas0tPEwP5j7qeAIksH0iB8srZUQAkNhfNQf9iAJtDcPxonHnsOsVr3xQM/xGNftOSzx64QisxMRhhxxb+cptkkxYVchnM7K60A6Ll+ulMB+IgF2kyvUOOfaZOScvabo6BU4GEu7HIICKqQ4jmF/wY0fr3+kRDgnOsqwytV4rrANhmW3wwM57c6JDgptela4v7EDpUXZ8HNWIvCUzYxQy29ErKxiozXKo889hkD7GjFHIOdbgLYeEx30+HNT3xJzl0cj9ce3rbfitlBXmO+Psx4/F+yLUzGsFlO1RQeFDs1X0LlWyuF0np/QT/D2h1wiY8P3L0G81pw2I/vrKUIi6Qgyfn1UhDotPEIVMjiVVZ8E6GpITlkgL/KGLM8KyTETlDkaSLRFkJ42YGLLUXhA2g0vnfbG79GDUaoMgspuwNMlO/D76aX434HFZA+XCoysAgP+/O+ImKs4pnmzIf1hGRos3QTnxC/gqAUzv9YEfi+4enChnoG348NWv2LNmaWwwTWaYE0q/e1qFprAaz/YPdHNotKtJ2KikqNN7E742XdDGz/33Eu8uCgPGsPPgIV2R7owCv4Ialr1eT2uRXJxPE7a94i5S5GQR+Pc9ttJTVmKLQWuyLsGoRQOUu/mVIy0w6th055FSVH1Z3DVqNWk0nd+uKq/jxohgf6k0nXelu/TAw7fS2eetdPWaIrtfEwbOlSZLu7Ey8vP7fusq9RpHw/Jln/g7HszFG4QH2U+HpIW7eC0miEzqyExyiH4B0CmVwPUK/zmLpBHtcSv1lgUCiq08Tbg4dzDGJOxHWPzj6BVkB9UpUUwGE34LZZOYX3+ZTA0ityoRQbs1vvgjhhvaFQVO2cally94HtILUTIOJWQmbQ46SuDndQ0CpPOwFBYBHVwMLIOHkBRWiqMJK8MDETeoUMoTkuDIb+ArA9D3oEDKD2bDpNeC++AAGQfOohSst5qt7FheAWHj8CQlQUjudHp1OFFx0+Q8mfhIIc12mzQkbw2PQNS8l1b9DrkHD2K0vSzZF9B0Ofkoig+HsasbChDQ1GYmIgishizcyAPCkJ+4hmSPw1DTg5UJF8Qn4Di5CSUZmbANzIK+cePozQlBdq8XGjCwpC/7wD0mZkoycmGJjwcBfsPoJCcq47kfSIjkXfwEDt3U2kpvOn+DxyELiMDen0p5F7eKDx0GIbMLCyzfIMiuIYhD/YfDYXDGwVO14Rm/YPvxfS4hfg58WvMLZrCbBS13Bf3NHhSzN0YjqRkI8F2vvZHryKr6epi8+FW/uTB6L7hwQUZifCxbIJEqEINj9RAvWQlsBachl3Thoj2+ZDbdeJKgsoH1vCxUJFarKdI0h7H38U/ijlgVPAUHDW5Wr/UEl8saP8fue7lGHekD8xOV02Z+oEMUT0GXx/PjIyoS5w9shoR2j+J4CUvYu0xeDeonoM/HfmTQZ4vSnINC+Saoz3dtCXPRh5AZaLaJg9BiLcegj6Z5cuQyWWQkuezSiGB0asHkpKS2MzadDttaQkKyDPRzw2TQVotpfDxJRVQ6fUZOlybqdvDaYnwsPfp51bhgZatIel5MyQt212ykKuXvAS80UyjxOggI0YGSNCiQQgCW7SAvGUbyKIbAqeOwmKwYkUj2ld8XnjQiHtjOgRjQ5oJTb3MaBZ+5RDU5aGTmXn9Rc7LRu9EIn7ILovbNEK4ny98yA0qJ3k6k66KiAYfcrcqyM0mJzedir60peRsiaiQhIVCmZ0Fb1JWpVBCToSKkpRXk7ISb2+o1BooCvKgoq00JC8jZdTFRNCQ9QKd1l4qg6akiG2vIELMQY7rq9OS/UshDwkjIs0IL4MOKoEUCCfHKtJDbbXAS5CSY4dAVlwMP3L+3iQviwiFUFRK8hKyvQKKqHBIc8mxLBIoyHEUEWGQZxWQbckxJXJII0MgTy8gaQUpT4RXFDleej40ZL2SPGwUocGQn82Ht4N8Tm8vePn5wCuzBCqHFL9iKfQS1wvviQbTMLzxOPyWPQf9gu/GpKZzsCbrB3yXc+GEW0HSyBsuPLKIgDtgvlBEXE14yFUKPNiMiF6v82KFtjI4M5Jgy02C0+iAnIjNiuJ02CEr+J4ItUpERVVIUWCIhtqLfN+0sY8scpRCpt0HueAKD85QyqDTjIJPcPX9sq5Gri4LG0qWsHQrZXe80fZrmEiFIMOchI9b/oZQTQQeP9QVBoeWlSmje1YTFg1T4eWL1P3LkZt2ArnZaQgJb4JTu39FdtJB6Etz4e0bijN7f0F26jHodEVE8Pojad8KZJw5QLYngjqwIU7uXo7s5EPQF2bAP6wxEnb9jKzkIyjIyYQmIByp+35BbvJ/KC04C5+Qpjix82e2f3NhIvwjW+PMnp+QevowLKUZ5LqOJMdbzvZfnJcG35BGOLN7CbJSTyDv7HGENGiN+D2/I+vMPpTmp8E/tAnS/luGzCQi2vMz4RcSg6S9P5Lj7YMuKx5+ka1watdyUn4/SnITERzdGgnkfDPJ8YuyTpPzbYYUsn12ElmfeZyVP7n7d2Sf2QtT3klyTeVB6iDfE6mkSKRWKGIGQyoKhKpCu8doRYcKBhvZr9XuIOnzjfYypx0+pLIlRyBkUjUUfnZy7SuZ6KBIJE7kWOJgttgQTiosdD9WUon09lazyK/VxagrhFrjw4VHBajTzqW2ya/COvlNt0xt7s7htAX5BXi09aPnOltkSjmGhTkw6p4BeGBtKvykdiy6K461NFSEwm+/QvC/JwCHAg4iWBwfvwFlFZ1U6xNzD3+AZUbXHBXUifCDFssRoWmIAEUI1uUtxJfJl84L00+4H+/1+UHM3RjWHTyN2Vkq5jRahrHEwGqAl0OtlmP5oAZQ+6jhtNtg2bcVXo5CmGUqKCOao0gZgNDoBmLpa1OctguB5lWs5aLCeMlQqnkWMsMp+Nj+IdfqZbYlL4JiRV8ENrlLNHiOM3mn8NSZ8/F9Boc9gpebfIFs7Vn4evtj+AEaeOpC5FDgz545UPEXyzXJzUqFKu07yB06mAJ7IbRNxYKU2WxWFMbH00uBiVN6ldCrmr6m7ERoeMu9SGXLeMVrz1hSCMFpg7+sEGHKC/2PHFAjz/9+Vt3zV/tASipeaXl5CCCVNHYnkRV0t2oiSvzCKu+InZ50DGFRDaDyvn5B+2ordVp45E2bDM0rr0EjBtipDu4UHqln8tA0RXFOeFCmPnoL3n9xFD7ccBT/5Mvx3cAQNCe194pS+PM66IvzETXmEY8FA6prJGclYlxqd9jEoZS+0kAsaPcf/tNvwGdJzzHbxbwc9SXubTRGzN0Y/jtxGm+dlpFa9/la2tWER6S3gE8GxuJUbgHaWvMQUXSaPWHz4I/wAXeLpSqG1WyAMu9zWr0TLRWECA+tzwukZh2JgoyDCNT9BpmkXIhpUnPVKeiog/GiwcOQm+/uXY1RKjkf8Xds5Lu4LfJ+3H+wpWi5kCBZBFZ0P03Omw+XrAg0ymr2/u8R2/sZ1rpQEQpysiGbMA4Wh4NoU4G1kjjJX5n411RB53n6bKXlKXQf9DVH/2rUrpZCvU4PgeRV3t5QlhPwFNvIB9Hw0dFiruKcPrIFjVt2h0LFK33Xok4Lj4JvvoXsrjsRGBMjWqqOO4XHsTNn0SHFVzS6mPoIER4vjUJ2fhFGb87HA01VGNO14vNsOP7ahfzGIYhoGSdaOBVh3P5+SLAeEHNXRy5RYk2nTKi9qhfsrbpQ4THpkB0+weevIWMpER7288Kj7EHv7ecNqVwGlZdAaooSTJOdQDdlPhxqDQz+MfBvUbmovhnxa9EA/4q5SkCER776ZYSGucR0cWEOfHXfQWYlLxKZBHpnI/g2H8fWXS8OFGzDK6crNmpGQv5Ni1iCW5sMEy2cipB9eCkC44bBi1xvFcFsNCLt320sLYlPgCM0BObUFKhpxNaLMJkt+Orb+SguudB51aFWQ0K7eFiIAyJC5HK06tgWT9w5VCxBMBhhzi+AqrQYkg7nHVIldgEBLZohrHnln6O7/lyAXrc/AomMD6e9FhdKvTpGemAA/CxVn/nVU2TIzo9CCPd3vcSyi11REyNDg/BcjBl9ik9WauheYWE+/KIjxBynorzT7Ec0kFUs9smcuO03XHRQ/C8zdbva3/Vg1wRqXEuQD1uo6KBQ0UFZoG4GR7d7IHS4A37NXXN86HQVa73QEbEQrdwl5lxYnBX/PuTS83WcwOAICFGTIDSaAmfDydA0eUpcc/3oFHwTBjvGirmr01HTn4uOKhAU4IeigkvDB1wJLyIaWgy+gy1O8q/BkCGQR0efs5VfzniHYFGOEqvNkRcsawwNsdrSGKuczbDK0YykG+GEpMEF2zoaNkDDfjchuFcvBBNRU2aPu3NIlUQHJVBjhZP6sXGuSZ0WHiFdu8JQWP2hXO7E6RBwXOJq7uvdthFGDaWjW4jSN5wXSP0ifeHrUznVbMzJhdr3xga2qo1EBjTAJ61WobXzyoGhVBI15jXfg+bBbUXLjUWlULCgSDbzhQ6ltAWEhhW/WmjxErMceqcUAusukCDn1H74HFoD2561sF5DgEiL1kBiLTdcUCHFGW0PQFmxx8jFoaQVShWkSl/IyHIjwkxLJVK83ud/mBAwQ7RcnkcDJ5NrZKWY41QGnd0fMLlGilUG2hAvaLVQ+/gRkRrCIpNejPdFMTsk5st3w/gpJBjWUI2Mf/89t6i3boE0KBBWjQ8KT5wQS16K0WJmcZKuBR1GG6LIJyfBu+EqQp0WHtHNmqE4vnozv7obKblZjolNg52aRcGbDjshlJjOx0MIbNQEDXrdgrJJna4FvTG8pVeO6se5Og38YvFlj7WYHrsIQzVj0EzaCR0MHdBPNgIvRs/E6k7piAu9PpNcVQRvlRcTF+W7Vq6F1WiBWW9GXq4JD/yeiLt+Oo6/t+1EQBa5P2gAOlMxtCW5YulL0Wb8Cw0NZV6OAmcv+AVX3A9JLqt5vkcyqQwPtH4G85ruxZMhb6OzuQ+6lHZAB+dAPBj4Mr6P+w9jW02DykPxgOo6Tu8G8JOQF3IlcZIXudmXiFKFHBI/XxSmpIhrzuPnc6GT76pBzbCw+3nHTi/y+NzbNxBpN4djtD4HEf+sP7d4J56GJigY3uHhUORki1tcSJHRiq7703A4+8r3RRlGXRFU3uR8b4CAro3UaeFBX9x+WVlwsnlSag6H9C6nui7NwqFWui5UvaXqgWcKTiciKKahmONUBaVChVujR+D1Dl/i+5478NKRe/Bej0W4L3bcdZvSu6J4e6toVCQxd3ns5Hqii7HYwEKq0+G2dgvZhtQkbVIVbDIvyC065tlvEKQo9Qkin/NCv6MyTNpieJu3EoFyvqvEqvCHX4NbK+FIR4RxDX4ox4W3xWNxr+Hd0C8xVvsKvuq7Bs+0eh/NQq7/DL91ieCIRtCXnHfgrSg0QrQz1uXjpohsAHN6OkuXx9//wuu1t6834nzOt/pSh9TW/t7whgQWG7nuyWK0OeEkf0tIORpmwY8ID0dJibiFi01nMlll7vH/TiDBUIplp4rENVdG5tAix8qfwRWlTgsPiiYiDNrkCwPK3EhsggS5gmuUTYu4OMiVri4V2xVGJFQE9cHTKG7G/TvcSaiXEtYaGgFWQ+Nx2CzkPxvKj2ShaYvBzISGWW9iy5X8hOhQXEfDNpD2vR/GNBuKD+USAXthi0YZCu3PUNjLzdwqlcEY+BiU3kR0UEc6cgjBKbnKQh72Tq9aURvU6O3waeLZGCL1Cfqb621K8tK/ulC+GCu5dqPau1oZfaOjoCwoYOny+Hlf2ApF5yWMVl10jREblcu0rY22LSvZ/4lN46pMyBUKlBIRXobRZMLwfSfxwrYTWCeXQdDq8aW385oRSYsyjqJh26vP+8M5T50XHoWdukGTdFrM3XjMdgcKzK6XQURIICJDXU2D1EO7qjjSchHWseZ0BdQFvPz9ocutfE3telBqMEG/dQ3kTiKM8jLhzE5nC00rtPlQW0suWEJyTuD2YBPuCjXhgTA9RkgTcZ+QgIZKB/Q5OQjb/g8abz8Cv78uDSGeengn5MZUMUeQSVDkaIeAIFfcD4tdipYTLWjyQjEaP1uIJs8XoelLpWj+ig5xrxnR8g0zWk52oPXLBRcMH6+plOblwLtRxUeTca5NdPMeOHNoo5irGMknDiMkzFWZ8tZoUHwZPwsv7wuD6FHhIZRrlaMuIFKL89xLjv41ilehQnl+W6fo4E9JJZVUrdOB2XrRp8TmEhzGK/iPUKi497ZnkPN077xgdZk6PZyWQj/e2f99gthXJ4mWquGanfYlOGOaw6Gueihne+ppxBwTUEBuiMQVHyIvPx99npmJxpFBSF79uViq4hTlZsO+aR/CHq5cPAbO1cn7YyWUkQ0Q0KO7aKk5JCScRstHXYHPKsKr9/fBZ69dfvQGfWiWzvoWtrjmkOw7hdA3XxLXEEFr1UOa8ykkxvMPXYs8BPLGr5CarMunaPOuA7jlxVksfUUEOqxRhuJNs1iwpppMyuwf0Ojpxyscd4JzbUxGHYTEuVB3mChars3Bb+ai7ZOjoBTFxX8LF6L744+zdBk6rfb/7d0HfBRFGwfg//XL5dIroddQBakiFpBPsSvYe6OqYBcbCioqYhdBwQI2RAEFREB6B+m9tySkt0tyvew3M7dH7pIACSQhIe/j72Rndq8muXl3duYdNL7uSZgs3pT2abe2gt3mRKOV3jF0oWoF0vrEQSUpvHk92I33hxQ6rCiIjkWzV71LIaT/txHBbdoiJCQE87fsxy37j0PBTgrFpUEevWg0SG/XGDERZX/v553cBWv2QSR0vEOuIWdz0fd48C+QyOYtkXWGkcvlp4Dy2AFodq0v47YBqtxMKPlZ5451Zez33rSFeVDLn7rT5UaLxvVhYH8gBYXm03aLn4l2xmKEXFZ6YSRyfpyNm0GblSqXapZj6We/5uwvy3T6szU+Dqog34yYftci3OJG0YkTot7FM5ye+Dkg6GCnibCF9T8VdHAn88oxXV0e6e+yn3uvXnXR51sp6KhkQYYQZNjjYbeWb3VYfrKoN2VC5ZcIMa5+/VKXPnV6PbQ8qGUUNvn3kP3otEq/nx/7SuUlX+DBt51FLBDy+x02REbj5I6d+GLJdsxPyvNWajWQTIUi6OAMZ1g7y5GzHSFNrpFLpDwu+sCDk3r2gnHFErlUCZTsi9T/xtcLaNcJyvfHQzXuE6BN+9LHyDeVSolmGu8oaYfThZjoKESFGVFocyE7q2Kjv3mgYisogq4JDWqqbBGtWsCVVTMvtSSdrNjryi88c3Cgu6yzmCVjefoeaOUEX5b0LTC4/cZGsTO/QlVXhMUE5jzJzCz/76y1hgceBXl5CA+hdNdVIaHNtSKZWHk62G0WM/uqVEKlLg4O+CDQkwcDL5lrNGoY5V4ISV4AMVStQbA8U7CBQSUCDR6usG9fcRMBSFGReHwfKdQI956dGHFFa/zlkMcy8dk0fBA3OyG8JscCQ1DZA8wL8zLE44aE0e9NRdSJwCM0Ph5FkTEwZZx9WtRpnenvhf0xeZq0YJ8m+zj5H0vMGaYYehQI1XkHlJrMFnF21aJhrFjw6OjxJFFfXukz/oLx/pvKPe2WlB9f7CnLVPOSz3HHc0/fg1GWzNzAUfslxfe7Vvwb1qCB6NouzE1FqHOBqPNxKGKgib9OLhU7XoEgyFHW+iw1iPnwUTjlMVekcmmNMYgKtsBulnsUzsBZWARzQn255OUOCUHR3r1yyYsvEBcbwgKO0wQzvOOKf7962Jc37+3gozX4ttjn94UexFcYz86GxL6XPw83iIU0+dgOyWKDKiQYX/RsddpeMFfaMmhiusglUl51psXS97kGhh++lksVZ4yJhttwmuvTrOFXLpgN7NkFrFsDbFgt7yiDwoMYhbfbzlboXfmyRYJ3ZdANe/wG8Z2FPd+EmA1HoKXejirDE3KVTNJVEyRXsMcjNy9whdUz4WekHocDHqvf9Wy9Gp7oAdCXkbU1Ob983eecg6ewrsHikgtgbpsgl0hl4g23ttUQJO/+56y9HiqbFbFdAsdWGaKiEJpVOsFd/bhwJITrEG/wzlfhNw0cUCskdvNeulazWl7PT/ckdoKnNBq9J4kyLQs43PzSiseDu/r1wvNxEVDnmaANNeLZ4Gi0iS17rS+71QyLQxIrBZOKqTOBR0h8PDLad0VKie668uK/nEUjRgLBZ8gOOm408PWnLKw+/R+WrXErtL7Bu2aAWf4e7tCyqfh3R0r5G4i07/+ActwI6u2oQtGN+dLfpWd6XGhJWWc/a/RnsvOVPcuXJ8Z9+D8YD2+EIiMGUlYLdjqoRnphd+jCvL+jJWVnlx5v8sJdV+DWrs3lUjF7DZ2e7JN34jji29WM7LQXI50+CBE6Mwqzjsg1ZUtLSkaDNoEL9RlCQ2Fxls5e+s1rg3D0owFIevwqhLkV0LMQY9+tHZA5pjdW9ooLaOCsvJeDBRdKQ+kA2tKkOQs8vF/IwVt3QD14GBo9PwofXnr6QFSRNAkhjfrKJVIRdarVir/2f4ib+DmcRX45Cfzw1RQL8vNPe1PGxcL+wWewfvDlOd+kl15FdJgOCqcFmVk5KGSPG8nnlEtuHNyzD6Y8nkHS+3ynOzOw7zgAfageKp7PgVSZokaN0GD/LrlUcxSephcminc7l8HJfq8LzeXrmbBlZ0PplB/fbcDhwlsQ1+6m03Y1Z+SXvhz1wmP9cdM1pWcDmf2y89ZENjU7M6ZAvkqFtnsUjuSFcJ4hCM0/erTM37fC8OKeB6vViokTJ2LClCn4+peVmLRhG7ZbbRi7bTsmb9uC7//5D3lm73PwR+JZRHgiMYvLjgh96Wmv9dq2hsfmDc47tq4PyaGHocR0XX/H9q4VY55CIyu+fD6pY4GHWqeD5YWRyP7lxzJnkOjY/tDw8NPeQthNFxaGoISEc76p9Xr07toB6568Cf0vv0Q8Jv+SnnV/Vwy7sQucbvep5yvrj68oMwPW+asQ89h9cg2pKiENG8Jaxhn9hWbxn2ni5+n+vaDn0/9KyLG6xIC9cpEXlePcag3qNWzDGuOyU53zpFCmgsAgPtKoR2SoEUGa4oGBPnb/dV5qmLQd2xHevHQvDalcWq0OqvjeyDv8p1zjxXvkCkwmcQtx2E5t+9+M7PszIyMDuez21YQvMeeX37B65SrMWrUee7OS8cH2nVidb8I/h45h3tpNcGm0UIeFQMV+H/nNyW6SPkxs64KCUSg/rrmwEBGxcTiZcoL9bVnQvn0bXN21FXr1SBT7SnJa82A0r0J4k9Ov70TO7KLP41GWorlz4QrSI/za0oPlqpLb6cKDDz+Ebdu2ifKfM/9EG/ZLzt140204euSAyPQ3depUdOvWTdT7c7M/zqIJ0yHddhXCm1J2xeqQOmM6Im6+VSQxqika3jACKdmlL8utnvg87hn1LVJzSu/bNe0VtGdndWdTkJUG9/GdsNvNCI3vAEOL06/cm5aahmYDXoPNb9Boz+YxWPvbePw6fzUeHP2dXOu18NMR6HeFd0XcmsY8aQac13ZBeIsWcg2pShn750Gpi0FM08tE2WG3wSEnUXS7XWLKtsJvVgvHmyoXC0oUSrUYosGP4Usd2Bx8kL6a7eeXSvybMwXcULH/igNeDytJrF7J6pTiPh5oWIDNZ9D4N4Uajcb7fOw7l2/7OGxmmHZPQmiH4eJElZybOtmvaLz1ViiOH0Xutq1yTTVRKjBq1CgsXLRI3FokFn+p/zxtCpYsXIh58+ah+WnOvMw/zIbh8o4UdFSjyC5dkc4C1ZqCfzVaTpPltn58NJollD0QLj2vfJdaQmPqIaJbP8RfMeCMQQd3POVkQNDBdWjbXHRtGxWlB5LW5HMcW0YmQpqWPY6FVL641rdAmb8NtoKToqzV6WEMCxO3sMgo8W8wC/b9b0ajEeGR0Qjjvc+h4WLmmVqrYfXeY43GULFdfAtFmJHXF9eFssfgdSFs23ufEJEPRM0CDx5g+G4c73H2Dzp4bpvcw38B0bdQ0HGe6uwFzbBBQ+FavBjJB6pv9Vrem9G2bVs0adxY3Pg8dJ/I6Fg0aNIEzZo1Q2Rk6cZj35Qf4WrRAJrul8g1pFrUS0DjHZvOKblbVTCbzewMr3SjnmBQIT42Go0blD2V+3TjQs7H0dTSl6Eua+V9fl1o6UHYJkvNHONRlJ+Hoo6txN8nqT4h7R5Hwa5v4XbUzGnr/njQnLv7F5jczRDTJFGuJeeqTo+kin72ORj//RfH9uyTa2qm7J+mI6JJU0Rc7e2WJNVHz86KjjZuw0ezyTUXVnp2LqxljJXo3q4RgnRadGoWmP/AJyun9IyA87XveLq85cV7OhITvZcOy1LRhcKqi3XaHER1Ov3rJlWDj/cI7zoSOZvGw1JwHjmWqkHe9q+hj2yJxI495RpyPup04KHUamEcOAi6VSuQumKFXFtz8NkI+V//Am3D5ojr24tG3F8gDe68Dcn/zJdLF9bxY0kBV7F9brnaO3aiaXzZCbCyKpBvo7zScgIH3vGu6Qbx0WI7RF96QKq5qJwDXKuR2+FA+PFcBDWk/B0XAr/EEtrlZZiPzEZe0ha5tubwuF0o2Pc1HGHdEdqol1xLzledb8k0QUGIHzwYxoyTyP/jdzHIqSYoSk1FwTczoOjaHqG9u1PQcQFpIyLRYPt/cMqLUV1IK7aXXrqeT366jP2ecC0alj29z1RQ/hwx5bU/JXCpcv46gnTegMPA002XkFtUM/62/OUln0TmrV0D0nOT6qXX6xHVcQg8lqNI3zdHrr3wCnJSkL/jS3jC+iK+GWUnrUzUmjFKlQqh9zwAZ/36ME2aAFtKirznwshfvw3SzwuhufN/COtKC8BdaErWKCV3vwLO48fkmgsjIycXn8xcI5eKqVhQGsuCI65RQiz02tKNaFL2mdOmn4uCosBATKlUiMs9nEFberyEtbxTeqsJH7ejmjoP8ZfVvBWI6xqeCDGq9V3Q6qOQveUrFOQFXsarTvySYO7RlXCnzUFwuycRnnDmQdak4ijw8BNzeS8EDx6Kwpm/48SMWXBUY9cwn9Zly8xE+lufwpx+EiEvP47QBOr+rSma3HY7sv85e7rnquJ2uzFg5CRY7aXHSUQY9QgL8WZjjIiIQIuY0gmS7FWwTkrJ2TWNQnTQyYGHpox8IqbCshP3XSi21AzYQrRQnWYBMFL9IptegeA2D0OX/DOO7V4Mp716x1Y5LRkw7ZkIu1OJiPZP0eyVKkKBRwkGgxExzzyHqKt6QT3mVRz+c3aVz2jgo+rT3/sahd/NRszrT6F+/5vlPaQmqRcWjrz955Zy/3wtWb8d63YckkvFdBoV9kx/O2Dany7Uu/ZPVXOV+LPQhxihkS9ZhEdGIUoX+PWSnFX5A1zPR/LiFQgf/ohcIjUFX0Zfd8mLMES0guPAhzi2a7G8p+pYLYUwbxuP5F1LEN5uGOolXinvIVWBAo+yKBQw1osHPvgUDTt1RN5nn6Ho6ylIq+Su9uTVq+F89xuYZv+L6IF3I+bVoVBpvWeMpOZx3XUPpNXL5FL1ycnOxn1vfiuXAj13zzWIifEO6PSJY2fx1YEHPf54bxDvmeEiw8JQLzZwoOuxk4FjQi6kovR0NE63IOgMabHJhRVXvzE0rUciIjoeKeu/QOG+X5CdkSbvPX/8hPL47hUo2v4JUvf+CzR/DE273w+1hr6DqxoFHmfAx37omjZH1PPPw3Pd/2DctR9HP/4Ejh9+RfqKVcjNKv8UMP6FnHn4ELL/XozCr77Dnk++QpSkh/PJu1D/8XugiQtsPEjNExQeCoNGjbxjJ+Sa6vHut3ORV1i6y7lbYn2889Q9cqmYQR7gWdX0JQIPW0EBPL5LUQqgdePAnCIpmSZYrBd+gC7nWrIR5juvkkukptJq9Qiv1wH1uj8Fd9Tl8ORuwuFVE1B0YAaS966EKa/8wSzPQppybB9S9/yLvO3f4Mj6aYgMD4ayxUA073oHgkOj2Tln6UuEpPLVyZTp50MkkklKhmf/EQRlZsCUnwWzw4mg4DAEhUVCGaxm0RyLmF0OmC1WOCx5KMo1IcEYhdDYWOQ3iEdQ+1YwhvotO05qDVNSElQL5sI45Gm5pmqt3LIXNzw1HtYSYzTCgzRYMmkkurQrneL7iVET8P3CzXLJq/9V7TH74xflUuXo+tCb2LI/SS4BsQYNkhZPhE7rDXxGf/UrxkxlZ5J+Tsx6G40aNZJLF4Y5Owu2nxcg6tmH5RpS22SlHoXGfhywpLPv4GxYnRq4JQNi4sKKx2WwP5m8vDyxKrLdnIv46AiERcch0x6HqPqtYTDUnGUQ6hoKPCoL+xT5qH2LmQ+gk6BUKGFgwQUNTrr4ZP3yI3RXXo3QRlWbut7JztB6sMZ92+FUuabYh8NuxUuPD5BLgZ59fwo+n71WLnk98L/O+Pn9EXKpclwz6F0s95veq1WrYFoxEXr5d37mv6tx1+uB67Usm/Ac+vS4sDO1HJP+QFHfjohs1UquIRcLc1EBbPK0d4VKA2OIUSQqIzULXWqpLDyHQXAwomJZNB0bj4iYWAo6LlKa626A7qcf5FLVGfPFj2UGHVe1a4AXHr1dLpUWEl46XXlVqB8d2Gsnsf888hgPLqHE2BMuPSNL3rowTFnZyFPYKei4SAUbQ8X3L79FRkVR0FFDUeBBSAWFx8Sg4PIrkbRth1xT+ex2Oz6dvV4uBZr6zlMi78HpRAZVzxiPGGOJQXgS4PHrP42LKn058Uha5ecTqQjt578jeEA/uUQIuRAo8CDkHERefgVif/0erirIZupwOnHp/W/AUiJnB0/Q9eMbD6Fpw3pyTdlCDNUzU0NfIv8FjzlODS5lYiJC5K1iR1IuXGKolPUbYenTCcbYGLmGEHIhUOBByDlQ6XSwP/08in6fIddUnnnL/8P+5NKXJLq3a4b7bu4tl05PX01TROvFlM4X4nYXJ/cwBgejff3AY9JzL0wuD7fZgvDfliHsCkp9TciFRoEHIecorHFjqGxmmPbulmvOX1pmDoZ+8DNKDvmOizBi0acjoC7H0u16OXtoVatfIk8Hf80ev2st/HJQl8TA1XLTsit/zZiz8XjcyPlxNlyjBkFN464IueAo8CDkPIQMfRqK2X/CVQnL5vMJZu9M+hXZJXJ2qJQKfDjkJoSGlW8KtqGaUoDHhZeejuguETF1btNM3vLiy/NX90Q62+bdUGk1CI+mXDmE1AQUeBBynqz3PYDCX36US+du4ZqtmPR36aXB+/dqg4fvuEEunZ2xmhKIxUWXXIJfguQpntXCde/Ujk/4OqXAYkd6dvVlMDVlZUH6ey2iniidaI0QcmFQ4EHIeYpr3gyahk1RsCgwWVZF/fb3SnmrWFRIEL55Y7BcqllCwyMRrC4OK3g/hlsKzPzYID4wG2SRU8Lx4yflUtVTfjMbmucelEuEkJqAAg9CKkHQ/66B42QScg4VJ9SqqC+euAlTb+4gl7y+fu0RREZWbNE3lfrs40AqQ5gxCGqN3xL8LPIoeRklSK8Vs3H8HUipnh6P/Cl/wH1tN2gjqievCSGkfCjwIKQSqFRqhNx5DxQzfobVbJZry2///v0AC1oe7tAcB5+9ATf2SMRTN3bGgGt6yEeUn1pVPX/WPEFemCFwIKvkl0CMC9KxwKPE+hf7jlfeQl+nk7dwNZwxIQjv0VmuIYTUFBR4EFJJdKEhCBv+HBwffQiP3SbXnl16ejoeevBhPPPFl0izWtCwdTPMn/Aqvnjr6VK9BeWhVpW+j7nkGvaVROs3dZdnLjXb7HLJi8+waRIROL33UBX3eNiOHIP+QBKibr1OriGE1CQUeBBSiVRhYbAPGoz0iV/B43LJtWc2ZcoUZGVmYenuvbj5gw+REe1d1fVM2UnPRMXuF2rQIUxhQ4TSisggJULUVTOTJCFUh1itA5EaJyLVdjjsgYGHmFLbuR0MsCNI4RQr2mZk58p7K1/ByVSovpgF9bC7zvnzI4RULVokjpAqkLp5MxTbt6DewCFyzenxP8H58+fj6aeehtvlgVarwdj3x+Lee++Vj6gY/niFeflQr1sDpc2JwtaJiGjTulw5QCrK7XbD9d9foreDL1ik6nILNNrAyy9OpwtFmxdAV5gLKdgAVbfboZdXsK1MRRkZUI//Bdpxz0JZTZebCCEVR4EHIVUkY8Vy6JKOI/zhx+SaMzt48CAGDRqEo4ePQaFUYPGSf5GYmCjvrRiHuQjq1augKLIhv3ljRFxauRk7bTYbtm/fzoIKJ6w7N8Hu8UDFGvv/PfEktLrSeUSW//I9TJk5qBesh6NNJ1HXpHFjNKykJfJ50OGcPBuGEQ9AF0aDSQmpySjwIKQKpS5dAkNKEsIfeVyuObO8vDyMGjUKc/6ciy++/Bz9B/SX91QMv3TzyqOPAHYn3MZgKCMjRX2Tpo3xyiuvQluiV6IiVq5cieefex75Ju+Cbx6Xm3ezQM0ec8fOHTAYDKLe37Bhw7Bw/j/sG0cBpTzrRqPR4P7778Mbr486rx4KU3o6XD/Og+ahmxFa78zr2BBCLjwKPAipYlkrl8Oz/yBiBw6EohyXO1wuFz795GPcc899aNT43HoETpw4gSt7XVVmltCr+1yNH3+cdk5jIHJZYHRFr15i9Vy3Rwkl3PAoNFB4HNDqtNi2bVuZgce7776LH374AZJHglMyQAWLN9iQPPh2yne4pm8f+ciKMZ1IgvvXhdA/fhsMcXFyLSGkJqPAg5BqkL51GzwrliL+yaeh1Fd9SvPsjGx88vknZQYe3Jtvvomgc1hMbu/evRg4aAi0LNgACzqcylAopXxo1AZoVB78NW9umY/7119/4bMvvoXLo4LalX8qm6kNatx79214ZsQIuab87MeT4Zr6N9TPPwBdKF1eIaS2oMCDkGqSmZoCzcRJ0I98BUEhpZeMJ+XDv7KKtu+FfsZSKN99Eiq1XxIzQkiNR4EHIdXIYzbD9PE4FN37ABq2OreBo3Vd+q9zoHU4Ef7wAJoyS0gtRIEHIdXMXlAI66wZUNRriLDr+8m15GwsFgtcE3+Ds0d7RF3ZXa4lhNQ2FHgQcgHw/BfWZcvgOrwfwQ89AY2x9IBMUixr6w5ISzch+O7rEdy4gVxLCKmNKPAg5ALKOnYMihm/Q3V9P0R08ua3IMWcFgsK/lmB4MxCKB+/DdpqGJhLCKlaFHgQUgMU/vQTzC4nou68CxoaeCoGkJoOHYXilwWw3N4L9S69VN5DCKntKPAgpIbIS01FyOef4OSt/dG4Vy+5tm4qGv8DzJFaxD3xgFxDCLlYUOBBSA3icjhg2rIZwcsWwXTPQ4hr0ULec/Hj415SZ/8J/cFMBD10K4Ib1oeixJL6hJDajwIPQmoga34+LMuWQHUyG54b/ofIizgA4QGHaek62LfsRsQNV0PbIRHKKljQjhBSM1DgQUgNlpuRDixdCZvJhKCe3RDesdNF0wtgNpuhWLsdubv2IqxTIoJ7X0GryhJSB1DgQUgtYC8qgm3u3zBnnETk1dcALZpDXwvThHs8HthTM2DavAXG3amwXd0e0VdeLu8lhNQFFHgQUsscX7IMCavW4Xjjemg2YABgNEKt4Wun1FwuqxU5R49BMXMBDMYQWB+4GTHxCfJeQkhdQoEHIbUQ7zlwFBYide58NNpxAKmtGyLitgEIifEuf18T8K+WE1u2oeG8lci3uWC/4xrEd+wApe7cl+QnhNR+FHgQUss57XZImVnI3bULnl07Ea0LwbHmDRDd83JERUfLR1UDHmgc2I+w//ZAn5KElNAwxF7RBYqEBBhjYmiGCiFEoMCDkItMQUYmtElJsBxPQSYLAGK0WhhZAFIQFgFr/TiENWiAkLDQc15gzel0oiA9A3Z2C0/NAXKzkZtbCItOhyatmsLGnkPbtBH0BkoDTwgpjQIPQi5yPDdIdnIKdKlp0GRlQpFXBFtRPrJsbqiC1NDrtTAr1AgxRkAfHAQl3Oxe7P9uCXabHYWFedB5XCgqsCIWGhZQsFtENCzBWtga1kNQk8YIj4ryPhkhhJwFBR6EEMFqtcJqMQM/zQQevBMqpRLaoCAEsRshhFQWmjRPCBF4gBEZFQ2PUY3I6GiERUZS0EEIqXQUeBBCAjg60iq5hJCqQ4EHISSAMoiWnieEVB0KPAghAdRr1stbhBBS+SjwIIQEUtB4c0JI1aHAgxASwNLhEnmLEEIqHwUehJAAUmSEvEUIIZWPAg9CSIDg1avlLUIIqXyUQIwQEiBn0hREDRsklwip+cxmM+yFOSjMK4LVni/q9Dol1PpIBIdFITQsHCqVStSTC48CD0JIgILtuxHaqb1cIqRmKSoshD3/OFT2FOSmHYXFqUH92CDogoxQ64yszAMRB2LCdZDcHliLsmG1WJGTl4+Y2ASExjaCRdkA4TENKBi5QCjwIIQEyD90BOEtm8slQi48h8MOV8EJJB/ajARDDgqkeKijuyGuQRP5iPKxW+1IO74Voa6DsBRkQR3ZAaEJnWAIi5OPINWBAg9CSICcid8h6skn5BIhF47bZUfK4f8QXrACJ6UuaNvjRnlP5chKTYE7fR5cNhvqdXkCSm0IFAqFvJdUFQo8CCEBKPAgFxxrlQ7vXIEI+0ag3gCEJzSFSqWWd1Yu3gS6HGbs2zAHLcPT4Gz8GELDabXlqkSBByEkQN6BQ4hIbCmXCKleuRknoMn6A6ro/0EX3R4qddUEHGWxFmQg7/A/0OuNiGx7l1xLKhtNpyWEBFBY7fJWzZeVlSXOWE/HZPLOcLjQioqK4HQ65VLV48/ndrvlUuUw5edX+mOWlH1wHtwZa6BsMgSG+E7VGnRwQaFxSOj8GGBshpT1XyI786S8h1QmCjwIIQHcGzbIW+Vjs9nw8bgPce211+Kaa67Bp59+Wi2NrMPhxI033giLxSLXBHK73HhyyDC5dO6OHz+Otm3b4uqre4v3+NKLLyI7O1veWz5jRo/Ghgp+rhwPqgYNGoSsjEy5pnyeevJJ7Nu/Xy5VjiuvugoHDx6US5WLB0rp26ZCpw9DzCUPINgYIu+5MCIbdUF0x0egyvwTecnb5FpSWSjwIIQEkBQeeat8xo0bh/TsTCxevBjLli3DgQMHsGXLZrGPnyEfPHAQu3fvgdVqFXW8MT169Cjy8vKwY/sO5Obmin27du1Cenq6OIbj2wUmE3bu3CWO5bkadrHtjIwMsV+jUWP6r9MRFBQkyqmpqdixYweSk5PFcyhVSoz7aLzYx/H779mzB4cPHzl15u7xeJCTkyOeiz9/QUGBqPfHj6lXrx5Wrlwh3mO37t3x5LAnT/W08Mfazxr5fXv3iSDMh78n/npSUlIAvwGLR44UPz9/X4WFhWKb46+dv47MTG+gYWYNMv9Md+/dcyqYs7HH3bt3r/icXS6XqOP442zfvh1paWkBz+fPxD5Pft/9+w+I98XZ7XYRSGWkpWP7tu0BgRw/nn/m/j+XyuawFMFxYArCmlyNkEZXybUXnt4QivC2T0JdtBtFyWtOfV7k/FHgQQgJ4LjyCnnr7GxOB+b/NRfjx38k1wBff/01Lrusp2iYhw0bhnfefQdTp/6AK664QjSUvHHu1KmT6K347vvvcP311+OJx5/AjBkz0KJFi1ONf//b++P2/v3x++8zRMM/YMAd+PGnn3BZj8vEft4Q97qilwgotmzZgrvvvgeF7L4DHx8oggn+XPfddbc41swa03r1EvDbjN8xYvgIvPDcC6KeN6wPPfQQHn/8cXzwwQe49957RX1J/pcY7r77bhSZi3DixAnxHJ07d8bChQvx77+LxD7+vvl7TGzcDDOm/4bXXn0d//zzj7ivmx3fpUsXcYmI+/bbb/Hbb7+JbR5gXHfddexxFqPjJR1FgGLKzRaBwKZNm2Bnj8l7Btq0boetW7fiJ/ZZPPfcc+K+/H3Exsbhzz//xNChw07bu/LsM8+Kx53OnvOFF7yfwb59+3D11VfjzrvvwuQpU3DbbbeJen5phb+3mbNm4eEHH8bJk5V/2cFht0J14n3oEx9FUERTubbmUCiVCGnzEGwFJ1F0YplcS84b+yMhhJBTTmzcKG+dXX5ujnT55ZfLpUA7d+6ULuvcVWJniqL8yiuvSF9++aXEGlIpPDxcys/PF/VX9+4tHT16VGz3uuxyKSkpSWx3795dHMsCDCk0NFQ6eOiQqH/ggQckdlYvsTN1KTY2VmJn+tJff/0l9e3bVzpyxPs4nMvhknpf3UdsT5s2TZo1c6bYZkGEdMvNt0iZmZlSbm6u1LZtW/EcvL5nz57iGH+soZZYwyyXvFiAIbFgR1q7ep10//33SxmpKVLGyRTp+RHPSnPnzpVWr14hsaDr1HsfNGiQtGrVKsnlckphYWFSekaGqP94/HhpypQpksPhkOonJIjXxFnMZlHH75+YmCixIEfU//LjNIkFSOL5MtPTpQEDBojPmQUv0tj33hfH8Puw4EHatXu3KPsrYp/V33PmSkuWLpWMRqNktVql7du3S7fdeqt4/7wcHR0tPvdx742T3n33XXE//pht2rSR9u7dK8qVoaggX7Lsfk+yFnl/D2q6vIN/S+bjC+USOR/U40EICWDYtkPeOrvQ8AhxqYNfLvHh3fYsqIDFbEFwWBh8eRF4rwXPOsnxjJFarVZs63U6xMXGiu3ImOJpjPxx+Y3fP8xgRFhoqKhnDSY/YxLbPrfeeis+HD8ef8+dg56XXY60k2nyHi9+6aJ+/fpiW8nOYkPZ6/K9liZNmkDNBzF6vPvK49ihw2jevDms1iIUFZmxcvVarFizFlf0vgodOnRAkcWKpg0bnXrvvtfOzqG9//gu03jcMBgMohvf6XJBxz4LLojVaTQase0vv7AIaWmp4vmWr1yJhx96CPXi4kVPSMsW3qRv4vM69XzFMrOyMPDxJxAVGwMVO4Z9/5+68dfge+/iNbO6wgKT+Jn56sp6PeeKBVVwHv4JjvhHoA8Ok2vP34l9e3Fo6dJy3U5sWC/fq3zCWvDxRGZkH6vY/UhpFHgQQgIofI1jOfAG6Z133sHNN9+M+fPng53ti0sie3bvQfsO7WGxWUQ9O9vH7zN+x9133ysaupJ8NXZb8Ywa//ELJkvRqfv5GnMfXr9yxQrksIDnzrvvQfvWicjJzWaPKcHj9j7G3XfdjYGDBuG/jf/h559/RjZrhJs09Xbt80aQ48e7HaUHxbpZUMDHTyxljdVff/3F3t8APD54EMJY8NKhY0fs2bMbzVgQ0qpVK2zasFEEMp0v7YKvPv8SS5csxYIFC/Dv4sXi8g9v3Nu0aSMea9GiRZg3bz5ST6aKIOyh+x/Axx99LMZpvDLyZTFuhOPvd+3atUhKShKDW5cvX4FOl16KBg0aYPeePYhmgcQ1ffqISyfr1q0Tn/f6DRvEe/RnLiqEmX2+8fHxyGKfFQ92fO/dn+9zvuu+ezB58mSsX7+evc55MOWbRIBTGcyHZsEd3RthUQlyTeUImjUdzXdsRbO1q9Dinz/RbPlitPxpElr+/HWpW/1vPheBhL+yfjd9+M8hrPlNUJp2ID8v8LMlFaMazcjbhBACEzuzDYkvfwrphg0bsgaxL6ZP/00MGv3ww/HocEkH0Zjed999mDp1KjZv2oQPxn2Ali1biLDG5XLjqquuEj0fLqcLl7KG1LduxiWXXAK9Xi8CDz4egscZTrsLvfv0Fo/pcbvRKjFR9A7w+15x5VWIiIwUDe6smX+g22U9cP31/cT1eRcLPPhjhIWHseOuxOQJE8W4lE8+/UQ8B8cbYD6WgXM4nejevbvYPoU1RpkZmWIsBB/X8dSTT4keFi44OBgPPPAAPvv0MxEwPD1iOMLDw0X9HffcjW++msgaextGsPp81nC3a9cOd95xB76bPAU2hx2vvPYqe+wMdO7SGdex17x/3378+ftMXM7eUx/2fnljxz8b3vB3ZEEOD1r6/O86fPrxRzhx/ASGDx8unisiIkIEf1999jnvtsHAgQPF62sqB1ccP4a/52nTpoqxNHycDb/x3g5e3769d30ePhuIz2BJSEhAF/a5TJr4NTySB0OGDUVISIgIXM5H1rF17H25ENX0Srmm8uSrdAgNjYCicWOgVWsomjUDOvUAOnYrfWvTEe7GDaDReHuZuLwd26EMC4f6NL07PImZOjwRtp0fQ5dwBfuoaa2Xc0EJxAghAZK2bkejzp3kEiGVx8mCrZytExF/mXdQbGXL3LgR/KKdFBMDKSwMyqQkPm0HEgvGFB7e1BU3d3YWTLk7dmCBVwhSjx+Hx2RCHAtqMz1uqPbuRcgdd4qgriwpSYfY8QfRqMNNcg2pCLrUQggJYNjqnQpLSGWTDn0NXdP+cqlqeGLj4YkIh3LZItg7dIBbq4OCj51Rn6F3wmpFA5sNGj72pKAIwRtWiWnLp9OgUUuEOg8hL/OEXEMqggIPQkgARfUl2CR1SH5+NlLtDRARV7EVZXmukzUbt8qls5N0GriCDN6CxwOVRg1JoYTHEAxPaBhcwSGQ+GU9v77+2KZN2b5QPqIZOhag6NR84POZLwbo2wxC9oGFcolUBAUehJAAQf2ulbeqnsflEYMmS+KJtPwTWdUWPN8HT8hVFr7Pf8BsefDcGf5ZYC1m86kEahVV1kDS6sLH5XgOfoaEttfJNeXjZJ9l7/7D0fuel/DEM+/ItWemzMqCkj2f85JLobHZRG+GxD53D/sc+U3tsEHB9vuPoVbr9TA3aIDCZs0Q1rULXGPHISo6Rt5bNn1QMCJjY5CTvEeuIeVFgQchJICDnZlWF1NhPi7tcAn27Nkl1/BL8lb06d0bGzdulGtqD564iw8kLcuiBYswceJEuVQ+Q4cOxeEDh+USxGyVkS+PlEvlxwfQPvzww3Kp+jkK01EgtYJWX7FU6Ga7A6k5JrH959L/MPbDr1BgKp1d1p+CBRqaffugtjuhPHBA1CldLOCw28SNRYCsQgmVIrD54wNn+c1gCIYhpPR05LLoEq6BM+c/uUTKiwIPQkgA68ZqPINj30A8Z8Xrr4+SK4AXXxwJU0HBqd4Bfqb+x++/44P338euncU5Rv7++2+RjnzCl1/ijz/+YO2J93jeyP77z3yRyn3junWijnfXr169QmxzPEDguUb88WO++/Y7MUPFN5WV47NVPvroI8yaOfNU78PePXuwc+dOzJr1B8aPH4+iQm9juGrFSpHifcmSpaLsw3tBlixbgnVr1mLP7t2ijk9N5a/7ow/Hixkzp+va56nfffh0XK3Om/+EW7duDca9/wH+mT8fkhg8yU/wbfiDvdYvP/5EpF/n5s6Zi/1792HRwgtzaSBl1zw07PqAXCq/8NAQTBz3Avp2aY0u8SEY2iwCyh3r2c+4OJNsAIUC7qAg2MLCYQ8ywBYeAVtEZJm3InbT68sePFpexpBwqFQGFORWbC2duo4CD0JIAJ1UfYM8+BdQm/bt0LZdOzHllq9vsmbNatxy/Y1iP5909+ijjyHfZMITQwZi8JChWMkad+7DDz4UKcpvuPFGTJs2Df8uXiLqn332WWTl5WPkyJGY+tPPmD59upiqe8MNN4sBg/wxx4weI6a9+hsxYgS6dO2CIUOHYMXKVeK4tSxQGD1mDJ555hlERUfjlltuEfXLli/HvXfejdjYeMSFhuOdd8eKx+jSrauYXtyr1+Wi7MOn/nbpcinatGuLxBatRd2DDz6I1PQM3HffPSJleUpK6ZTkfDrtPwvmY9bs2eK2avVqeQ8w47ff8PHHn+KxwQOxlgVYL7z4oqh/7rlnoWIByrART2Pbdm+g1rvPlWjUuDGuvvJqUa5ORQV5aBBuOzVduqLuurE3pnw6EtNfvgmRUW5ksGCB55pxsSDQzW7+EzNzWYDnTmwFfcsWZ72Fs+PKmzDuTDxhl8CdXhzUkrOjwIMQEkDdv3qnCDqdLrGa6mOPP457774Xv//+O4rs3hkFfOG3jRs34IknnkBMZAw+++wzfP/992If7wmY89dfIoNoz549kZyUJHot+PonPFPphAkTEB8Xix/Y8aGhoWKV1317DmDDhvXo0LateAx/rdu0Fsf8+dccDB0yWDT6H3/8EZo2aSKely/4tmbNmlMLpj346MO48sorces9d2G33Iuh0+tFhk/fwnX+DHqjyJmh1qthM5tFL8gzw59G/YaNsGnDJrz33vvykYFiYmIQw4IefgsNKb5U8fHHn7D7vIfYqGgRZPH8HDxw69GjB8awYGnqjz/hgXvuE8eGGMKhUCqgDy79uqqaxp6EVKmDXDo3jRo1QpbLgJTQhtAptLC9NBye5wbD8+wguMa8jhz2e8K16tULWn31vsfYBolIS6++y5MXAwo8CCEB7IeOy1vVh6cz5+MZHC6HCCR89DpvIjHfWS1fXE0f5L3UwM96VTzVuR9fGvbLL78cvXv3xp133YVvv/tO1PFG+vMJn2Ha1Gl4hAUyJb326muYPXs2IsLDxGvgg1uNwUaRkfSGG25A37598d9/m0QgwJWVQpwPIOUJz85GrdMGXOpJz0xDdHRxungf/r67d+0hkq3xG0/45cOHKPAF8jgexPBAiZ/BP/bYY2LRuqZNmqLXVb3E/rNM0KhSyYe2o1Hbc+tpsZ78G7YTE1G0fwqa681o+M8/SFizGs6nRsI8dgIK3/4c1rsfQuQn7yNtwfxK6cGoKJ6oLjyqIQpLXLojp0eBByEkgHKf9+y9Ong8/Oa9Xj948GDW8M8UjYfEdvCxGlGsMX7++WdFY8p7HfhYixdeeEkcb7V5L5twHhac8PEXPOHTVxMnYNKkSaIXYtx7759K8817IfiS8Xl5+WjXrnSPx2sjXxGryKaxs2feQ8IvDYwa/ZbIGspTrc+YPgOrVq4Q67rw5/KN9+CvwZfqnfdKbN26DZ+MGyfK/kLDQvHn7D/x/vtjoVLySz834NFHH2Xl90VvD7/UUxb/mTAizbndOztl4leT8Morr4jPZQj77L788ktxSWf0W29hxozfcPJkCvQqb3Ck0ChEptMxo0eLwbvVxe1ywqi2eNfCOQdK6zborcdhxCF4Cv6DpA5B3tBn4GjYCOp9O6FLOQ5HyzbIHTMecSuXwHLsmHzPYuYFf6Po269Q9B27TfsWRd+zQGbKhLPezN9/DVN2+Xoywhu0RtqBxXKJnA1lLiWEBMiZ/C2iBntTblc13qgeOHgQ7Upc+jhw4IBYoIwHANy2bdtwkB3HG2tf3S4WWLRp3Vo0anyQKe/tiJUXm9uzZ48IPHr36XNqATru5ZdexiUdLxHjK0rilylWL18Bi8MuUqL7zp7zcnOxcNEiJCYmnkqtnpWZCZfbLV4j/5cPDu0gpxzfsnkzlGoVLu10qSj78Pe6cuVKcdmgZcuWoo6/L75MPR874lsgzt/hw4fFmiy+9O4FBQVIS09HYqtWosxfBx9vwtOq854Zn5WrViH15EncfOMNCAnzjmXhg2H5wNNu3bpWW89AesphBFt2IqTVALmmYqyH3kGQu1AEovjahPwPJsGtUSPoyCFol86Hu3FTFPXzLuMfsn0TCnduRfQTQ0TZp+iFpxEcEgqJ3RT1EnikCMWS+TyNqnzEaSiUSHpsOBpd00euOL0iUzakI98jpPPLcg05Ewo8CCEBMllDGOt3ueNisXDBAjz/wgtinEZkZKRcS6pS+r4FkJTBqJd4lVxTMUX7RsOosMBtdkAx1YzcT6ZA5TbDsHcvVCwIszRvC0dcPG/IoHR7YB83GvFj3pXv7VU0ZxaMeSYRcJy68ctkZ7smxoKz4206oEk5lg/gPVEFm8YitOtrUJ7jINq6hC61EEICFBy9ONNA80Xi+PRSCjqqT7jODhgbyaWK4T1EehRfZnJanIjMno/ww2OgsmyFR29CyA8T4LZavGuxsIDCJU8p9ic1bga0bgu0aQf06AmJz+xJbAO0TDzzjS8ypynfJSLeg5Rhi2YxzWmm+ZIAFHgQQgKEHz8qb11cjEbjOU/pJOcmJy8fUTH15FLFOGxWqBUesa00aKB9MgpKE59K7YDKIUGZo4UnJARqnfcyVND+XdA1rC+2y+Jo1w4u3pPHggR3ly4iPTpni4oNuPH958Ls0kOpoAsI5UGBByEkgMJFX56kcngcLmi1pceulIe5qBC+2Th8xg6CFHDuMKGo4bPI7/4oHE4PCq6/zbvuCqOe9SsMV59mPAZfqZYHKZs3sQcD3EoVPFHeWUQaj0tMNdY57dCY+XOe2+9/eHwruP0GApPTo8CDEBJA0a+vvEXIucs7sgA6+wFkHvhbrqkYN2//1RIKLQrM2ezAT6skzP09FfoZ8+HJzoTl+hshNWqOoEP7ETX2NViv7ItgfgmlDDzQ4A9n45dQ5s6Ggme5lcd4KFiwoOTr2DjdUPEZVnz8xznMwtHqQtmD0aWW8qDBpYSQACn/rUZo4ziExLZEYeZBdgLo/YowxrREQdYxdrbiPasT5ezjUEpOdsaoQig73pRxiJ0xukXZGN1c3N8nNLYV8jOPsPvzXBdK8fgFmYfF8VDo2PENUZTlXZfEAzWMUY1gyfFe9nFDi/DYJmK/JHmgVOthjGzEXg9/Pvb6lAYYwmNgyfWOT3ErDDCGx8Ka581JIqmCERKZAHM2v78EJWskgoxRMOcc8+7XRIjU7TaTN3uoSxmC4JBw2E3JoqzUR7Az92DYClJEWRscI3KIWE1poqzUx0Kp9MBl8U6/VOkjISnU8Fi9qbS1xjjxvE6zt6wPqw/JZYfd7D1ebUyA22GB5PDmgtCw43lWTo89V5SDwhvCaSuEy8b3KxAc1RQOdl+nzZuqXRvaEA5LHnvh8tRhdrylIA8Kj7ccEtMC5ryT8Lis4rMPZj8b32fBBUU2gzk3mf1svFOEg6PY/rxU9oOwsqdTIiyulfhZSaJ3oPTP1hjdgv0u8N8N/rNVwOTQIerEh7DalTBoPcirPwIJzbwZWyvil+mfYNSPu3A8zSxeh8R+7oMS1HhSb0LzxOZwuxXQqjwouO0uxHfpKt8rUOH2bQhxOOFu0459xlaos7LhadEC6r17AYsFtsgYuNWBOVnUDjt0hfk4oQ9C4w7e2Upnk516AFGx8VCow+Qacjqq0Yy8TQghcK5cjaOuQsQ3bIUdm9eKLKA8cVd8w5Y4uH0H0jNSvOUGzbFv905kpKUgP9+Eeo1aYtfWjchIT0MR+9KOrtdM3J8fy28JTRKxd+sWZGSkIjcnFwmNW2LP1v9YmR1vtrAv7frYuWW9OLbAKiEqKha7tm0Q5ZysdPb8LbB321p2fBbMFiti4huw49ex15cFK2svjaHh2LN9kzi+yK5AeFgE9uz4z1suKEBUfCP2fPz9ZMHp8sAYEord8vEuSQONVov9u7eJstWtY4FIMPbv2izKKhjE8ur7dm8VZbXOyBox4MC+7d79+jA4bBYcObBH3h8EG9t/9MBOUQ4KikSRpejU/uCwWNZQm3DksLccwoKk/JwMHD9yUJQNxgiYTLk4fviAKIdHJLDXnYYTR737YxOa4eSREzhx4pB3f1QCMlKTkHT8qLcc2xgnkw4hJek4slk5rn5zHDm4FyeTTyAvJxPxjRKxi33Wvp9tbP0mOHToKNJTjolyDHv8Ywd3IzUlmR2fh/rsZ7d7239IT0uFKTcL9Rq3xnYWoPJj+S2e/ez3b9smfrY57Hi1SoXwos1wSCroFG7kB3dBRFSc/BtWftMXH8Lf/7HgkOcjUXp7IbYWejBHisAr33+CoL7/g6bPtTAmJIh9ZXGkp0PndEGZkw2XWgtNkB7KQyxglVfrVVst0JoLA25qGwu4lEqYWEASHlc8HftMzAXZLJgNYfGRd8wJOT3q8SCEBMiZMBlRTw+WS4RUHG9WCnd/B3XhNtj0rRFx6dOiJ6SiHntzEqYuKL1KMX+szH/GIzo6Wq45PdHjISd4qxAWPFWkx+PY/m2o36AFtCz4IGdGYzwIIQFC7rlD3iLk3PDAIKT9E8hXd0B4p6fOKejgrEXelPBcnKF43AUPbLLzzrw8vk+BNghpQYYK3UznMPvJYcmBWnduGVrrGgo8CCEBzHu8S6kTcj54sKHRG2GR15M5F6mFNnkL6NK2sbzllZJlkrfOrH7b1qjX8ZIK3YLatUNRcMWWzDfnpYhxKOTs6FMihARw7fUOuCTkfAWHRiE/O0kuVZzD4R3syvW5tAXCDMVTc8sbeBRlZqIgPQO5GfyWjrzsLHnP6WkNBmibNUNoOcd3cNFBBZD4XF1yVhR4EEICqCgJEqkkBc5Q6JzemT/nwiUvxMf16NASfS4pzoKanuWd8XNW06bC+ftPiMjOQSQLQMJzcgMW3jsdrV6PCL91fs7E4bCjXqhNzPghZ0eBByEkgOa+c1vQi5CS1KFNEKYpZ4BQAl//JMtkEdvBagXatmmFB/t1F2XuUHK6vHVmDq28LovVwVcChIJPU5ZntFQWa0EWcm1GKCnwKBcKPAghAYrWbpa3CDk/UbEJSEnJkEsVM/ydr5GU6c1r0rxRHKLCQ3F5lzZQy62Wqah8y/srbr4Ztj7XwanwIF2nQ0ZIMFRarby3cmilApi0Z19MjnhR4EEICaA96U26Rcj54gNMeXKzAlP5xmP45JoK8P2/W+USMPGFe8W/UdH1oFHLvQrlzAQR0bwl6rfvAGvDBlDrgxDXuKlI/laZkg9tQ9M23eQSORsKPAghAaQyVvgk5FxF1W+FvMML5dLZ8fEXD774EWwO7ziMJ/tfiV7dvb0JapXyVOBhc1ZsXZSw2FhEt6l49tSzsVutiNbnQsNTrZNyocCDEBJAefMN8hYh508V0gxh8KaaL4/1W/dgwXbvTJj4cAPeeOJWsS0oAK28VD3PPlsTmLP2wBXUXC6R8qDAgxASwLRjt7xFyPnT6vTIV7ZAQX6OXHN6VocDT437US4B37z6EOrFxcglEXdAK18msTvOIRtpFbBn7UJEi2vlEikPCjwIIQFC0sp/dkpIecS2vArqo5Pl0un9NGcFdiV5A5Tebevjlj6XiW1/GrnHw1Rw7onJKktayjGEhIXRZZYKosCDEBJAWZw6gZBKYQgOR7YtGG7b6afWZuflY8zXs8W2VqPCL+OfF4NT/YlsqPIYD4vnwjdf+vyFQNSVcomUFwUehJAAmv43y1uEVBIWMNTrNhR5u3+C2+2WKwMd2X+Ijx4V22Mf7YuE2CixXVJ9o3cqrNt+YS+1ZCTvg6SpD2NE8aUgUj4UeBBCAhTSGA9SBTQaLdxBjVGYukWuKSZWsz28BztevBzvDboRLw6+X95TmiE0BAqPCzanW9zvQjFkzoGhwdVyiVQEBR6EkADaJMrjQapGXLvb4U5fA6s5MK/H/v378eKHn+DlqQvw2K1nbszffOJm/DXsavw+8tYLEnjw50ze9Q+ssTdCHxwm15KKoMCDEBJA4aavBVKFmtwH8/HZrAEvng7bpk0bLFz8L1Kzs3H/fffJtWW7rHN7NAnToCg9Gxs3boTF4k2rXl3shWkwWLYjtuElcg2pKAWL3ihbECHkFI/dAaWuclNKE+Iv68haKB2ZiGrTX5TTUlPhcDqhUgBLli1Hv95XwaE4/bonQwYNAQoK4FIq0aRNIkaNGiXGkVSV+Ph46HQ6FORlQ5U0EUEd3oCSPTc5NxR4EEIC5M1diIhbr5dLhFQ+3uwUHP0HbugR2bwvrGazWBSOU7IAwnOWZkkMUOXH88af/auq4umseoNBZFS1H/wemqb3IcgYLu8h54ICD0JIgIyJUxH35KNyiZCq4XI6kLPvVzj0bdCwVQ+5tmay2+0w7Z6KoEbXISSmqVxLzhX1FRFCAvhW/ySkKqk1WkS3ewhBlk0wJW+Qa2seq8WM3K0TEdr8Ggo6Kgn1eBBCApgLCxEcEiKXCKl65v0/w6pugIgmV1T6yrHnw1yQDSnpWyDhQRgjG8i15HzRuQ0hJEDu30vlLUKqR3DrB+Fmp8Dm/VMgecpOMFa9JOSnH4Yu9QvoEp+noKOSUeBBCAkQVJQtbxFSfeJa9oYUfxOyN3+Ko/u3y7XVjw8izd75DXJS9gLNR4nEZ6RyUeBBCAmgqAknnKROCotuhIhLhyNckwnr4W+Qn5sh76keuYf/Rfqmb2Cofx2ad70Valr8rUrQGA9CSIDCrCyExND6E+TCMmWehCtjKRRKDeyhPVCvYTN5T+VyOGwwJW9CbsoOxDTuiJD6l9Fqs1WMAg9CSICkP+ehUf9b5BIhF1Z+bia0Wf8iLceGhKbd4dTHIyQ8ptTKtRXBp8e6CpORn7YXGttxeMI6iEs95/OYpPwo8CCkjuPJmJzsi1jlcgEuNwpnzEDI3feIC7EKtRoSu6l0OsrUSC4oj8eNwztXoIFiJzJNHjgMiWjYvBPU+hBICjWUKi27qQKCB56UzO1ysg0nFHAhJyMZR/dtQce4NGS4miCyeT+ER5W9Ci6pOhR4EFJHndj8HxzL1qDF3pNi3QyF2wxIbig87B+1PJ2Wf4mzm2TU4UjrJjBc2xv1Wyd69xFygfAgxGW34ejBrXBnbkajSBuc5mwYQiLgge8yiQTJmgGl1ohkUygkfSwim/ZBdHwC+51Wsl9rCqQvFAo8CKkj+Gj91BWrELd0A9SZyVDZ7ewbXN7Juc7wRSypASU/k1TCHh4CReN4pF93FRp17ezdT8gF5nQ64XG72c0pygqlEkqVGmq1Gkrl6dd9IdWPAg9CLnIWcxHcixZBWroGoXl8OXI+baWML+IzBR6cxO4j+Q26UylgblIPin59YLimp1xJCCFnRoEHIRcxy/r1UPz2G4Jys73xhsDzEpQxiK6igYePWonCpg3hefBGhLZtSwP0CCFnRIEHIRchq8kE65TJiNy2nQULcuUplRx4+GhVyLzpKkTdebMYjEoIIWWhwIOQi0xhUhJC3hsDFNjkmpKqKPDgPBqYWsZB//pT0IXSei+EkNIo8CDkIpK3dQtCJ34GlcV/1GhJVRh4yDzhsch+eyBiExLkGkII8TrLNw0hpLYo2rAexklfnCXoqB7KvBxEjf4O2UnJcg0hhHhR4EHIRSBn3z5ov58Mjdkl11xgCjdU2fmIfGcqLIVFciUhhFDgQUitZykoQPiX46Atcsg1NYcyNx+eNz+Dy3a68SaEkLqGAg9CajGP0wnN26OhMtW8oEOQAOOJPOT99jdoOBkhhKPAg5BaLH35cmgyT8ilmitm7noU7j4glwghdRkFHoTUUgVpaaj3xzS5VPMpvpkNj+vCD3wlhFxYFHgQUks5F86Dwl57xk6EZOTDunCVXCKE1FUUeBBSCxWlnkTU2hVyqZZwu6FcvFEsw08Iqbso8CCkFtIsXQQ47HKp9ghKy0X2qnVyiRBSF1HgQUgt4/F4YN+2RS7VMi4XwpbtlAuEkLqIAg9CapmUzZsQmpspl2of1eEUeYsQUhdR4EFILRO7eSPv9pBLtY/G4cTR5SvlEiGkrqHAg5BaxpN8TN6qpSQJYWv2ygVCSF1DgQchtYzSlC9vnSveW8Jnlly4TKLhJ7LhdtWQdWUIIdWKAg9CapHc7CzorRa5dBYSCzAaNZQLMoUKaN4CaNmK/dsM0AeJHggv9m/zBoAq8GvBkxAPhIR4C+FadlN7t2NCgTCjd5vjl39asvsrylhyvwTJXATJSYEHIXURBR6E1CIFx5NYA1+OPBgsmJAaxgJjx0KKkIMGTs2CgtdehNS6FaSOiZA++wDOdpd49/FkZK8+D3Tt5C1zDhuUo18EWrQUeTik7l2By9p4g5UrugNvDi9+PS4npJeGwqNlwYnEApwzUHokdqMspoTURRR4EFKL5J8s54wQ/pf98huQJnwCXH4ZCxr8eiHy8qCYOxeKWQuA51+DZuhDgFnOCWIyQbr9ehY4OL3BxdAngJwcuFWnCRJYsOEZOZgFKMWL1Ck85ejJcEtwU48HIXUSBR6E1CLuwkJ56ywMwVBkZUOxbjPQsSv7Sy9x+YMXFQooCgogHTsKGMNFtcR7IVauA+66DQgNgtS+JbCf7T/d5ZMVG6A4mQvH/TfJFYw49izjRyQP3A4W3BBC6hwKPAi52LDgwf2/vpBSjgO33ApFqBG4VL6cUhIPEnQ6FtF4eywUSiUUi1dCatcK7scehvTOl2KoiEopj+soy4y50LZvCiQmyPHGaYKUEljYI28RQuoSCjwIqU3UZwgAfIKDoLyuH6QVK4Ejh4C/5sDT9xrA4Xdpw8UiBDcLUJo0gCI8CrD7DVh1u6H44x+ogtRQZuTIlafvwVDwtVfG/wSMegEKY5A37lCcpceDHaRkQQ4hpO6hv3xCapGw2Bh56wzaNAc2b4LyWDJwgAUea9ZDoTN4Z6HwqCCU/fv8c8Brz0H11BBI73wEBOnYLgUksYAb+1rYexB4eyKg5fdgdW4etHj3Szxo4VwOdqj8FVJkgfTi53Jww+vOEngoFVDpNXKBEFKXKCRG3iaE1HBpx4+i3lsvs3a9xJ+tmwUOknzpgo/TKNmbwGeeKFXe+zlZwOBijb6HHa9hdTo5AHCx+0h29q3AHqskHk+o2LH8cRR6bx3HAxVe78MHmfJZLZynjMeRufjz/jAaagMLiAghdUqJbydCSE0W27AxJI1fw1+Wsi5h8KCD42M6tCGAIQgwssfxBR0+ZQUdnO8Kj3/QwfkHHZwv6DgLhVrFbuW4bEQIuehQ4EFILaJiDb011C8vRy2liImGUk2XWgipiyjwIKSWUcfEyVu118nOjaAoOcWXEFInUOBBSC1T0KZT2ZdTaglJrUZwvyvlEiGkrqHAg5BaRte3NyTtWcZ51GCWqGBExsXLJUJIXUOBByG1TEhIOAqatZBLtY+zU0t5ixBSF1HgQUgt5L7qf7XzcoteD83d18sFQkhdRIEHIbVQaPceKIwvseR9LVDUrTWCIyLkEiGkLqLAg5BaSM1zYAy4h/0F16KZIcZguPvToFJC6joKPAippYK7doOleQe5VPPlXtcZYU2ayCVCSF1FgQchtRRfZE017ClAW/MTcXmiIhB8Vz+5RAipyyjwIKQW00VHI3Xgs4Dab+XZGsg26hHodEFyiRBSl1HgQUgtl9CjB1J79WV/zTVwvUeVCjkv3gNDw9o3EJYQUjUo8CCktlMokDB4CIp6dq9ZwYdSibw7rkZUz27sNcp1hJA6jwIPQi4S+iFPo+iyrjUj+FDqUXDblYi49yYRGBFCiI9CYuRtQshFIGPil4hbtxHwnO5Pmy9dX0Yw4DrLeYikYrezD2T1qPXIua8fYm67Vq4hhJBiFHgQcrFhf9LJy5ai4fe/sm27XOmvCgMPnRL5o59BeMvmcgUhhASiwIOQixD/s3ZkZsL91QQYDh9nNR7vDqEKAg/2cCkdWyH6yYegj6TMpISQ06PAg5CLmMvlROHq1QiaNw/69Fxew26VGHholDA3qQfl/f0R1KG1XEkIIadHgQchdYDdYkHR6lVQrlqP8OMp/A9f3uOnXIGHGlCx45R6mNo3gLvP5Qjr0RkqFdtHCCHlQIEHIXVM8sFDMKxbBcPeZKjyM6G1uVnQ4QE8LKCQXN7OEIn9T+EXTCiVsBlDgLg4ZLdqBONNvREeGSPvJISQ8qPAg5A6LiM5BZYjh2DavRdNJR2CDx+GuVEDWFVupIYEIbhNe8QnJiIsKkq+ByGEnDsKPAghAXInfYfIYU/IJUIIqVwUeBBCAtjtNuh0erlECCGV6yyjyQghdU3B73PkLUIIqXwUeBBCAihsBfIWIYRUPgo8CCEB3Gq6zEIIqTo0xoMQEoB/JShoYTdCSBWhHg9CSICc73+UtwghpPJR4EEICSQ55Q1CCKl8FHgQQgJYNAZ5ixBCKh+N8SCEBODruugMFHwQQqoG9XgQQgKYf54pbxFCSOWjwIMQEsANm7xFCCGVjwIPQkgAi5ousxBCqg6N8SCEBHA6ndBoNHKJEEIqF/V4EEICFEz9Td4ihJDKR4EHISSAw0WdoISQqkOBByEkgE5NgQchpOrQGA9CSACP2w2lSiWXCCGkclGPByEkQO60X+UtQgipfBR4EEICeezyBiGEVD4KPAghARzBofIWIYRUPhrjQQgJ4LRYoKG1WgghVYR6PAghAQq+/0neIoSQykeBByEkgEerkLcIIaTyUeBBCAlQEBImbxFCSOWjMR6EEEIIqTbU40EIIYSQakOBByGEEEKqDQUehBBCCKk2FHgQUoWsFjM2bd586paeni7vqbiTSSdw6NAhueTldrswYcIEOJ1Oueb8eDwebNmyBXv37pVrqt7ff/8Nm80mtvfs3o2TJ0+K7fKaM2cO8vLz5RIhpKajwIOQKrR3/wHcf999WLlimbhde+21WL9+vby3Ynbt2Yvt27fLJS/JA+Tl5aEyxojvZo0+f31/z5uHb775Bv369WOBjVveW3V44FRYWCi2Fy9digP794vt8vr000+RmZYmlwghNZ1qNCNvE0IqWRprEDdu3Mga8sm4/PJeUKlUOHHsGC7r2RN2ux1Tf5iKn779DrkFJrRu3Vrsd7lc+PXXX/HD15ORmp6Otm3bQK1W4/Dhw3A4HGjXrh2WLl6MrMwsJNRPwNq1a9GrVy84bHbMnTcX+/buFY15aGgYGjduJF7HOnbMJ6yBPrT/IA4fOYyoqCi2vzg1Ou/p6Mle0/Tp03HHnXfihhtuQExsLJo3awalUolZs/7Azz//gj07d6FT50vF69m4YT2OHTuOWTNnYsaMGejWvQcMhiDxeHPnzMFXX32FXSyY6dy5MzQajQiQvp3yHWb+8bvo4WjVqhUUCgV73J8xYMAABAcHi96W+Lg4NGnSRDzO5s2b8dXEiVi3Zi0SWyXCGGIU9UuWLMGHH34Ih92B9ex13HLrrYiOjhb7CCE1G/V4EFLFMrOy8MeM38Vt2uRvcePNN4v6L774AkeOHsE748dh/eq1+Oijj0T9Tz/+iNUrV2PMB+/hyJEjGD1mjKjneGCyfPlyEQT06HmZuMTywQcfiH9tdhueevIpFBYV4blnn0W/ftfBZrWyQOcoRjw9HM899zx69uqJJ598EtnZ2fIjevFgJ5YFGomJiXINcH2/fuL5uJjoWLz33nuIZ4HO88+/IOp27d6DZ9jjXtO3D7r36MEed5io58HLLyxwenvse2jUqJEIorgnnngCbdok4v0P3sfSpUtP2/PjS1+2Z88evPzSyxj91lt48qkncSsLLixms7jfK6+8inHj3oM+SF/hHhJCyIVFgQchVczIzuQ7XtoJl3Ttjq49e4pGlwcKP303Fe+//z6MRiM+mTgBixcsEpdMPnh7LL6a9JXokRj73lisXr1afiRg27btuP222/H15G/kmmKSx4Wel/fEo48+ioaswec9FQ72PDN+n4n7HnyABQEN0bVbN3Tt2lW+RyDem1LWJRveG8J7Lm65+Rb89ddf2LTpP3kPMHjQIHTq1Fn0luzatUvU/cgCp1GvvIbw0BDce++9IuBwO9w4cOAA1qxdi9dfHyV6Oj5g770sSnhfw9zZfyI6OgZvvDEKH344HvmmfGzfsQP/LlqE0aPfQlhYJG688Ua0bddeHE8IqR0o8CCkigUFBYnLConNm+Ct0W9i4cKF4lKFQqeWjwDST56EMTxUNMjhsdGisecyMzNP9TpwKSnJ+H3mH3jxxRflGn9lpzqPr1cPyUlJcgmwWCzyVjF+KcRsNotLHT6zZ88WPSNTp05lUQ0wa9ZM8bw8oOF4oOKWXycfCxISEiK24yKjcSxFfj45jlFqlCKQGj58OF5++SWMGjUKv06f7t3JqJV+r12lEf+ER0WhadMm4nh+27BhA7p3747oyKiAsS5Op0PeIoTUBhR4EFKFPKxB3rdvHx69/0Fxu6ZvXzz88MMiwPjuu+/Qvn17PDPiGdx8003izJ6bOm0qOnbsiBGskeZn9G/7XWrh5X7XXScCl6k//CDXsvZdklgQUHZvxd1334X01DT2790YNHAgCgoK5L3F+OtZs2YNRr3xJu7sPwDXXvs//PHHHwgLC8Pll1/OgoRf8dnnn2PyN5PFuBXeY6NQKGFnwYfv/gUm7wDRDz7+CJ988om4pHNN32swb948sX8ge+5HHnkEkydPxr133HkquApjAcnAwUPE6+JjO3iQsX79Wjz08EM4dPiQuJQ0duxYTJw4SbzvBx95GMuWLcOQIUNw3513o6ioCIdLzPYhhNRclDKdkCrEB5DyQaE+fABkXFycXAKysrLEWIZLLrkEkZGRci2Qn58vzurbtm0rxl5wvIHlPQs8GOCPm5GRgYYNG7DAZr8YmMr/lFNPnhSXWfg2D3haJyaiyGwWAzt570W9+Hj0u/56zJw1C4mtWonH9ediAcWevftgDApC81Yt5Vrg2NGjSGUBR4/u3XB4/yG0at+WBRomETzw1+1kAUhKaiqayoNCC1kQwS+LNGjQAE2bNhV13LFjx3D8+HF079YNwUbvQFETe5zDR46gEwu2eG/K1q3b0KxZU0RERIj3uWnTJtFrdOmll57qbeH169atQ6tWidDrtFCqVOJ4QkjNR4EHIRe55JQUDH/qadFzIXorXE588fnnorEmhJDqRoEHIXUEn8LKx3L4jxkhhJDqRoEHIYQQQqoNDS4lhBBCSLWhwIMQQggh1YYCD0IIIYRUGwo8CCGEEFJtKPAghBBCSLWhwIPUWsnJyWLBML7+h7WoSK49d3yC19zf/hCpwM8VT/DFF1zjePrxkouxnU16aoZYebWyJ5vt3rkbmRkZ8HjcYhE3X9bQknxZTR0Ou0iZfi527tghfi5HjxyRa0pbvmKFSALGrVy5UvxbUXv37sXmTZvE58yTifEcJXt275b3ll9m2knYbTa5VDWsVrO8RQihwIPUWq+NfBU5OTlQKhS48ZZbTjWmPF8FDwD88Tp/BQV58paXmwUL/P6jP3y/zLVMeNbQkmzm0o3JmtWrsWPHTrHNF1RLPpFUKpCx2SxlNvwfjBuH3/74DUH6IPTt2xe5ed7XaLfbSh3PU5aXrPMFPD7+73HliuUiO6jL5cabo9469fnwx/EFANzDDz0sgh6VSh2QcZR/fmU9X8nPmfvoo49FrpBZs2dizpw5ci17H9bi5/l9xu+sMbaKbZ7d1IfX+YKuswVfSqUKHnbMe++OFanU+XNuZIGI5JHYcwX+DP3foz/++u+5/0HM/vNPuaaYJL9flyPwc7Xz11hGevqSfO+PG8U+cx4YEUIo8CC1mEKlhDEkBIbgYLEAGbd6zRrRqL06ciQO7z+AAlMBXnjxRfz+23RxFs4DiKFDhmHe3H/EuiE8NfnGjRvxMNue8OUEsSgbX1fEhzf+d9w+QKyr8vTQYSKI+PXX6RjJHv/zCRNOLWXP8YaSrzw7Y8ZvKCwshF6nx3c/fI8333wTY0aPFseM+2Ace6wf8NZbo7FzpzdA4XjK8YP79uPZZ55Bryt64Z9//kF4WBhWrFiBmX/MwuuvvS5eG/fQww/j448/xv333y/K27Ztw4gRI1hAMYod+4fotXjs0cfEexwyeLBISe6PJxHjeI/Bj9N+xJdffCl6DDIzs8Qy/YsXLxbB11tvviXe09h3xuLDDz7AU8OGifTu/L09eMfd4jXccccdIjDyFxMbKxZzu+6667Fo4SLxeh555FF8/OnH7LN4SxzjS33O/fzTz6IhHzN6DCZOnIgH7n8AqampeO2VV1jAYxVp5ceOfU8+uljr1onieaJiosW/PLU8D4Zef+N1fPDhePFY3FdffYWf2Pt87bXXsI+9Z3/8eV56+UUsWrQIDjk4uYUFsePHj0fvPn3w3nvvYeSrI8WidjzwGvnSSHzy6ad4YuBA8VnwFXf5wnfcsMFDRHp8/vk99dRTmMB+P4YMHSqCO75y7x8zSwc3hNRFFHiQWm35smXiFmwIFuWoyEio1CqEhodj1py/WHQCFLGGMiQ0XKwQu2rVKnaUhOAgvTij5+uhTJs6DZMmTcKIZ0YgNCQ04Ex7/dp1GP7sCDzDAoIo1rDxhdQKTPliufcXXngBK5YXXybgAct1/frhURbE8JVaHU6HaJhfffVVzJn1l3jcNWvXoHHDhmjTpjXefvtt+Z7szNvjEsvj++j1etE488ZUYv+FR4Rj/dLlYl+Txo3xCmuU+ToufLn5hx56GGPGjMF777/Pnu9ObFi/ARGREeI9RsfEiDJ7ceK+/sLZZ2Qw6EXDzRd1i42NYa+tEQsYrhOvtaDQe9llJ2s032SB0yus4R7Dztx5A6ww6ETw1Za9j+zsHHGcz38bNuLFF1/CVyyQe+PNURg3bhxr9F8VDT+7swgk/JkKTDh+4gS2bdkiPlO+IF29evVwxZVX4UcWlMyfPx/Dn3pSPvrMlAolnn/pJRbYvSUCq9ycHMz45VfE14vH1VdejanTpslHeo1m78sp92isFL8b3t6dl9hj8EXuOl/aWbz+/Swo5OvdbNm2Ba+y9/HmW6Pw7TeTAy6tFRaZxTYPbnv27ClW8t21Y6f4OV7SoQMeuO9ucRwhdR0FHqTWcrtdIgB4/PHH0f6SDqIReHrwUHHG2rJlS9EI8Aac90q0bdsG7455R/SMBLEG+cYbbsadd94p1i8JCw/D/v37WcNRBBs7e/fv8eALsu1mDS/vNucLsPHGWq0sXpCMj5nwp2ABBH8cX2PEjxdY46Ng/6lVKvS+ug/6sLPpb775xruP0esNsNod2MfOovPy8/HZZ5+JBpr3ltx1110iyLA7vY/pW0yON2hu9h9v1Hg3Pm8Yj584jmBjMPQ6nXiPD9x3L/pc04cdLbFAyCnuxy8rOR1OjH9/HHr3vQZdu3Q5dTlIyYI23qPB+QIwvhgc7xk6ceQoouLixOfjW7jO/7Py6dq9G/vMx2Pyt1OQwAKIFi2aIykpSTxuXm4ugoODxRgSvgy/7zmM7DVbiyyip+XI4SNi3/U3XI+1LNBbtGAhjOznxsfLlDX+xj9QVKqUCAkyyCUF9EFBMLKfL/+8O3ftLHoufNLS07Fvxy40a9YMQ4cNw5zZLFBl/FPK6/Q68S9/n1qtVnzGvAfn8KHDIrjjx/I6M/uZn0g+IX4m/MYXAxT3k5f7d7OAy2wpCnithNRVFHiQWqttu3Z49NFHxRk6b2j5JYRX3nxDLP/OG2LedW4323H/vfdj+NMj8Mjjj+GKK65AZ9bQ3vvgfdi4YhXU7D7vvPMOJkz4Co898iiGsQaIN3o+V1x5hRhH0Lt3b9zW/3Z07twZCfXrwRikE41Rp0svlY/0SmzbXvSO8ECmUaNGYgVWPv7g0q7sONYG8SXe773/Pox+a3RxUCKbMuUbfD15slgiv0f37oiJiRGXU+4YcAcOs0Z/695d4jje48E1bNgQKvbfz7/8LC5TDOg/QHTr9+rVC21YoHLzrbfgv81bRIPZg52Bj2PPzT+j666/Dl9N/AoDhw7GwMcGYubMWSwYYSEMC9x69OgmLh3wAKkd+3y5ryZ9hf79+2Mae55JbJs3trz3iGvYqDF07LP315LV+XvsscdFr8X//vc/3MUCRYPBgIfZZ/3ow4+K3oU2bdqI9/r5V5+jT+8+GPte8ZiN3ldfjf53DBCNOe95OFTG8vdt27WXt4A4FhDxHi+uZcsW4rk+//xz9L99gOjF4I/jc+jAPvzwy0/owAK3y3r0QHz9BDE2xPe+eXDFA0/uko6XiF6s2bNm4Sb28+EDb3kvEA9w+Wf6wIMP4oEHHhCXtaKiolhQ4g0Oe7DH5a67rh8LkAfC4yg9toeQuobWaiEXHf4rXfJMvGQdv1zg3whxZd3P50z7SjrbsRV5LK6ix/uU9R5LKu9jn+trqCj/5+FL6D/99NOYO3euCEJ4b4jvElRFVebrr67PgpCLFQUehJAaiV9a4Zc1+KUQQsjFgy61kIseb8D4JQg+6M83LZaP1/CPufmsktzcXLlU/XgXPR8MWVn4ZRM+9qCmc5aY5nqS/Vx803b5OInzCTpMpnx56/zk5pw9Fwv/3Tmf/C+E1CUUeJCL3vTpv4qpqH/++Sd+++03MfCz0yUdA3I77D9wAG+88YZcOruTJ1Px7LPPyqXzx6diLl/unbVSGTIyMsR4En9z/voLGenpcqnq8emmfFzG6SxdsgSz2Gvy4YHgbbfdVmYelTM5dOgwpk39QS4V+/TTz+St8zNKngJ8JvPm/Y30dMrTQUh5UOBBLgp81sWv06djL2vstm7YhAULFoiGj+dViNB7B3j68OmpYYbiqascv2bPZ64MHToUY8eOFT0k/PbtlCl4/LHHRJ4L/x6SRf8uwrw583DkyBFs2boV01lA8+GHH4rHePnlkRg8eDCOHjkqjp08ebLIKcFn2/jOjPlzPPfcc0hNTcb6DRuwZ98+BAUFieec8u23IsfIujWrxf1nzZqN36b/JjKCfv3115g2bRqWLVkmLkPwKap82ifvKeD46+QzfdatXRswFoI/7jfsdYx85RXx/HzGDB9I+/zzz6OwMDA5WkpKihi0++677+L1118X7/vTTz8V+/i4Cx7AcatXrcITjz/O3t83opeCBwz8PfFBnNns8RcuWiSypJacPsvxKc6jRo3GnXfcIdcU4+/vwQcelDOtekTA9OCDD+Iv9ry8zDPWDh06TExX5e/lp59+xOQp32Lf/v3yI3jxfXza8WuvviaCzc+/+FIknOO+nzxF/OvD858MGjQIv/z0iyjzz4t/Nq+zYNTXA7Ny1WosZsESn2XEs6UOf3r4qcAqNDQEPOkan649a+ZM8Tszb+5csY8QUgL7UiGk1nO73VLXrl0l1qBJXbp0kZKSkqVBAwdJrNGQhgwZIh04cFD68ccfpSlTpkgOp0Nq0aCxxIIE+d6StG/fPqnvNX0l1kBJP0ydJv3xxx/i+H///Vc8Nn8MFmTIR0sSa4ClAQMGiMdftGiR9Nbrb4j78jJrtKQC9tisYRLH9r6qt2S326UtW7dJc//8S1qyZInEGnRxPH9sfp/hw4eL7dkzZ0rLV6wQ24MHDmav+4A07MknpYMHD4rjWAMsbdiwQexnDaPEGlfxfFdddZVkt1mlO++8U5T37torvfPOO+L5fX78ebp0MiVFbF/X+xqJBS7SkcNHpJuuvU7U+dx3//3icTMzM6WWLVtKHrdHuoM9Lrd582bp7bffllw2lzRmzBjJzd7DwoULJRYsSCy4Yvu3iOfnr48fywIRcb+S7rjjDiknN1cuFWvRooXEAgtp+fLl0ueffy6tX79eevbZZ8Vnxf9duXKlNHr0aGn37t3iebg9bPvLLyaIz8cfC8DEMcuWLZPefPNN8X6m//qrdOzoUYkFfvJRXvw4U36+NPLlkeJn9eqrr4rPntfffPPN4hgW9Ek7tm8Xn82NN94o9j3xxBNi3+vs579z507pl19+ET9bs8UiNa3XQDwWISQQ9XiQiwI/u/+OnXnzhGB8iuOGDetE0ijek+E/A8GXtbMk1oigdZvWYvbEZd27ISc7i50dZ4vpm/8sWIAB/fuLaZL+fI9ts9vRtEULcd9lS5di3eqVyElPFz0SHM/kyae0GoL0Itsqn5p7Nztr5pk/eY4R/hgOh1O8h8ysTBxgZ+7z/1mA2wfcjujoKATp9eI9+d5HXFycOJZn3WSNKhYsXIQX2Nm5xWpFfGyc6N0Jiww7dabu43HYTqUB1xgNYnpoXHws0kuMYVApVeJz4vk2+PPwHiLfJ8gfk7+O/MI8ZKSli+fm5W7dumDgwIHsc7Ri+FPDsfjff8Wx/r0uPovYe7vlllsRKedC8WHfR2KKMb/x6aj8ffCpzXz6M/9su3XpKnoseE9HQV4BnnnmWRw/fhRW9vlLHtepz8cnMTFRPAbPe8J7SfiU3V9+/RU//jhNTLn2x3uOstljFxWZxbgT3lPGPx9+/8by9GX++lqxx+Svpefll4t9/Gfrj08P7tixIzRsn9oYFNBLRgjxosCDXDQuubQzXhv5isgIOvWHaSKNOMcbUaVSgYSEBPz888+wWawIi43Czz/9JPZz/Bie/vrD9z8UeThuve123HnnXWBn7TjCGqH/Nm0SDZEPzw9xcM8+sR6LaGQ03ks5oWFh+GfxcsybNw+mfG+qcl8SKt4IKxRK7N6+A7///rvo/g81eh+TByYcf97Vq1fj+LGj2LFpCyIiIk/t4/h0Up+hQ4Zg3vwFIukYv0wTHh6BmLhYvPzSyyIB2e5dgQumxcbH4a3RY1BkKsK97L09PXy4uJww/qMP5SO8+ve/HUMGDhJBEf9ceOKzpk2aikyls2bNQjoLqqKio0Vyrj17dmPt2rVo2aIVC0IWsu0NUGlUCGKfD0+ytmrpcpH23ScjNQ3Tfv4JjzzysFwTiK9T4wsg3E63SIW+ZNG/ItX83L/niVwg/y5ahHUssDQYgljjr0V99nOdN/8fLF26RNzPZ/fu3Xjn7Xfw/nvvi1wt3P0PPICDhw6jBQsU/aWy1/X333/DVJCPo8ePifc+YvgIvD36bSQlJYt08jzg4PjPkf/sOK0cyGq1/HdMKT4v/vPib0GnDcxvQgjxoum05KLCz1Y1Op1otHgDyPFr/aIB5WfqeXkIZw2i2+0W4zF8acp9vQN8ECqfTcHPZjneE5KVlY16cu+JP57Rkzew4qye/Rmp5Pvwx+CNLs9qqtPp4WBnwVo5YODPyxswnsXTwgKgOBYocPx5+Gvk+DE8qyZvUPlzOuwOaHXe4MP/vXD8PfDH8mUS5fiYCn52bzYXIji4OFjif+p87AVPo87vzwMjnmzLP1U7t27tOjRo2ECMm+GZPn0LvfExF7FxcQHvhwchvEfBFxzx986TufEAjDOxx+Dr6fgabafTwT4v1alySXablX1mQfBIHvE58PfKfzapaelIqMd7erz346+FB1sh8ho9fFYQ76Hx/dw4D7u/qaBAZKrVs4CGmzhpEhLYZ3V7ibElfKAx/xx9Sd344/DPltfzx+W9QHw9Gd/vlNPOfl46jZgNpWHvnQci/PfA1yPE3x8f88IDVEJIIAo8CCEBeHpz3jPEe1f4zB0RWF0k+GDQ5557lgVK1BtByIVCgQchhBBCqg2N8SCEEEJItaHAgxBCCCHVhgIPQgghhFQbCjwIIYQQUm0o8CCEEEJItaHAgxBCCCHVBPg/jpUf5XvYJLYAAAAASUVORK5CYII=" alt="image.png"></h1>
<p>Understand The Given Variables</p>
<p>Listing_id :- This is a unique identifier for each listing in the dataset.</p>
<p>Listing_name :- This is the name or title of the listing, as it appears on the Airbnb website.</p>
<p>Host_id :- This is a unique identifier for each host in the dataset.</p>
<p>Host_name :- This is the name of the host as it appears on the Airbnb website.</p>
<p>Neighbourhood_group :- This is a grouping of neighborhoods in Paris, such as Élysée    or Louvre .</p>
<p>Neighbourhood :- This is the specific neighborhood in which the listing is located.</p>
<p>Latitude :- This is the geographic latitude of the listing.</p>
<p>Longitude :- This is the geographic longitude of the listing.</p>
<p>Room_type :- This is the type of room or property being offered, such as an entire home, private room, shared room.</p>
<p>Price :- This is the nightly price for the listing, in Euro.</p>
<p>Minimum_nights :- This is the minimum number of nights that a guest must stay at the listing.</p>
<p>Total_reviews :- This is the total number of reviews that the listing has received.</p>
<p>Reviews_per_month :- This is the average number of reviews that the listing receives per month.</p>
<p>Host_listings_count :- This is the total number of listings that the host has on Airbnb.</p>
<p>Availability_365 :- This is the number of days in the next 365 days that the listing is available for booking.</p>
</span></div>
        </div>
      </div>

      <div class="section-header" style="display: none;">
        <colab-run-button role="button" aria-label="Run cell"><template shadowrootmode="open"><!----> <div class="cell-execution   ">
      <div class="execution-count"><!--?lit$0292179355$-->[ ]</div>
      <div class="cell-execution-indicator"> <!--?lit$0292179355$-->
<svg xmlns="http://www.w3.org/2000/svg" viewBox="0 0 24 24">
  <!--?lit$0292179355$-->
  <mask id="playSymbolMask">
    <rect width="100%" height="100%" fill="white"></rect>
    <polygon points="10,8 17,12 10,16" fill="black"></polygon>
  </mask>
  <circle cx="12" cy="12" r="7.8" mask="url(#playSymbolMask)" id="filledCircle"></circle>
</svg> </div>
      <!--?lit$0292179355$--><!--?-->
    </div></template></colab-run-button>
        <div class="section-header-container" title="click to expand">↳ 31 cells hidden</div>
      </div></div></div><div class="add-cell">
      <hr>
    </div></div><div class="cell text" id="cell-6a626bc9" tabindex="-1" role="region" aria-label="Cell 5: Text cell: Data Exploration and Data Cleaning" style=""><div class="cell-tag-editor sticky"></div><div class="cell-toolbar sticky"></div><div class="main-content" elevation="0"><div class="cell-contents"><div class="cell-mask"></div><span class="imported-info-area"></span><!----> <div class="toolbar-root"></div>
      <div class="editor-container horizontal">
        <div class="editor-root"></div>
        <div class="text-top-div">
          <div class="markdown"><span><div class="text-cell-section-header layout horizontal center"><mwc-icon-button class="header-section-toggle" icon="keyboard_arrow_down" title="Collapse 18 child cells under Data Exploration and Data Cleaning (Press &lt;Shift&gt; to also collapse sibling sections)"><template shadowrootmode="open"><!----><button class="mdc-icon-button mdc-icon-button--display-flex" aria-label="keyboard_arrow_down"><!--?lit$0292179355$-->
    <!--?lit$0292179355$--><i class="material-icons"><!--?lit$0292179355$-->keyboard_arrow_down</i>
    <span><slot></slot></span>
  </button></template></mwc-icon-button><h3><strong>Data Exploration and Data Cleaning</strong></h3></div>
</span></div>
        </div>
      </div>

      <div class="section-header" style="display: none;">
        <colab-run-button role="button" aria-label="Run cell"><template shadowrootmode="open"><!----> <div class="cell-execution   ">
      <div class="execution-count"><!--?lit$0292179355$-->[ ]</div>
      <div class="cell-execution-indicator"> <!--?lit$0292179355$-->
<svg xmlns="http://www.w3.org/2000/svg" viewBox="0 0 24 24">
  <!--?lit$0292179355$-->
  <mask id="playSymbolMask">
    <rect width="100%" height="100%" fill="white"></rect>
    <polygon points="10,8 17,12 10,16" fill="black"></polygon>
  </mask>
  <circle cx="12" cy="12" r="7.8" mask="url(#playSymbolMask)" id="filledCircle"></circle>
</svg> </div>
      <!--?lit$0292179355$--><!--?-->
    </div></template></colab-run-button>
        <div class="section-header-container" title="click to expand">↳ 18 cells hidden</div>
      </div></div></div><div class="add-cell">
      <hr>
    </div></div><div class="cell code code-has-output icon-scrolling" id="cell-540893f7" tabindex="-1" role="region" aria-label="Cell 6: Code cell: " style=""><div class="cell-tag-editor sticky"></div><div class="cell-toolbar sticky"></div><div class="main-content" elevation="0"><div class="cell-contents"><div class="cell-mask"></div><span class="imported-info-area"></span><div class="codecell-input-output">
      <div class="inputarea horizontal layout code">
        <div class="cell-gutter">
          <!-- Bounding range for vertical scrolling of icons -->
          <div class="cell-execution-container">
            <colab-run-button title="Run cell (Ctrl+Enter)
cell has not been executed in this session

executed at unknown time" role="button" aria-label="Run cell"><template shadowrootmode="open"><!----> <div class="cell-execution  stale ">
      <div class="execution-count"><!--?lit$0292179355$-->[ ]</div>
      <div class="cell-execution-indicator"> <!--?lit$0292179355$-->
<svg xmlns="http://www.w3.org/2000/svg" viewBox="0 0 24 24">
  <!--?lit$0292179355$-->
  <mask id="playSymbolMask">
    <rect width="100%" height="100%" fill="white"></rect>
    <polygon points="10,8 17,12 10,16" fill="black"></polygon>
  </mask>
  <circle cx="12" cy="12" r="7.8" mask="url(#playSymbolMask)" id="filledCircle"></circle>
</svg> </div>
      <!--?lit$0292179355$--><!--?-->
    </div></template></colab-run-button>
          </div>
        </div>
      <div class="editor flex lazy-editor" style=""><pre class="lazy-virtualized" style="font-size: 14px; line-height: 19px;"><pre class="lazy-gutter"></pre><pre class="monaco-colorized colab-dark colab-dark" data-lang="notebook-python"><span><span class="mtk8">#&nbsp;How&nbsp;many&nbsp;unique&nbsp;listings&nbsp;are&nbsp;there</span></span><br><span><span class="mtk1">listings_df</span><span class="mtk12">[</span><span class="mtk5">'id'</span><span class="mtk12">]</span><span class="mtk1">.nunique</span><span class="mtk12">()</span></span><br><span><span class="mtk8">#&nbsp;Same&nbsp;size&nbsp;as&nbsp;df</span></span><br></pre></pre></div><colab-form class="formview vertical layout flex"><div class="widget-area vertical layout"></div></colab-form></div>
    <div class="output"><!----> <div class="output-header"> </div>
        <div class="output-content">
          <div class="output-info"><colab-output-info title="Clear output

executed at unknown time" hovering=""><template shadowrootmode="open"><!----> <md-icon class="collaborator account-circle" alt="Execution output" aria-hidden="true"><template shadowrootmode="open"><!----><slot></slot></template><!--?lit$0292179355$-->account_circle</md-icon>
      <!--?lit$0292179355$--> <mwc-icon-button icon="cancel" command="clear-focused-or-selected-outputs" alt="Clear output"><template shadowrootmode="open"><!----><button class="mdc-icon-button mdc-icon-button--display-flex" aria-label="cancel"><!--?lit$0292179355$-->
    <!--?lit$0292179355$--><i class="material-icons"><!--?lit$0292179355$-->cancel</i>
    <span><slot></slot></span>
  </button></template>
          </mwc-icon-button><!--?--></template></colab-output-info></div>
          <div class="output-iframe-container">
            <div class="output-iframe-sizer"> <div><div><colab-static-output-renderer tabindex="0" role="group"><div><div class="execute_result output_text"><pre>74329</pre></div></div><div></div></colab-static-output-renderer></div></div></div>
          </div>
        </div></div></div><colab-cell-next-steps><template shadowrootmode="open"><!----></template></colab-cell-next-steps></div></div><div class="add-cell">
      <hr>
    </div></div><div class="cell code code-has-output icon-scrolling" id="cell-0ce08f03" tabindex="-1" role="region" aria-label="Cell 7: Code cell: " style=""><div class="cell-tag-editor sticky"></div><div class="cell-toolbar sticky"></div><div class="main-content" elevation="0"><div class="cell-contents"><div class="cell-mask"></div><span class="imported-info-area"></span><div class="codecell-input-output">
      <div class="inputarea horizontal layout code">
        <div class="cell-gutter">
          <!-- Bounding range for vertical scrolling of icons -->
          <div class="cell-execution-container">
            <colab-run-button title="Run cell (Ctrl+Enter)
cell has not been executed in this session

executed at unknown time" role="button" aria-label="Run cell"><template shadowrootmode="open"><!----> <div class="cell-execution  stale ">
      <div class="execution-count"><!--?lit$0292179355$-->[ ]</div>
      <div class="cell-execution-indicator"> <!--?lit$0292179355$-->
<svg xmlns="http://www.w3.org/2000/svg" viewBox="0 0 24 24">
  <!--?lit$0292179355$-->
  <mask id="playSymbolMask">
    <rect width="100%" height="100%" fill="white"></rect>
    <polygon points="10,8 17,12 10,16" fill="black"></polygon>
  </mask>
  <circle cx="12" cy="12" r="7.8" mask="url(#playSymbolMask)" id="filledCircle"></circle>
</svg> </div>
      <!--?lit$0292179355$--><!--?-->
    </div></template></colab-run-button>
          </div>
        </div>
      <div class="editor flex lazy-editor" style=""><pre class="lazy-virtualized" style="font-size: 14px; line-height: 19px;"><pre class="lazy-gutter"></pre><pre class="monaco-colorized colab-dark colab-dark" data-lang="notebook-python"><span><span class="mtk8">#Summary&nbsp;Stats</span></span><br><span><span class="mtk8">#Look&nbsp;at&nbsp;describe&nbsp;stats</span></span><br><span><span class="mtk1">listings_df.head</span><span class="mtk12">()</span></span><br></pre></pre></div><colab-form class="formview vertical layout flex"><div class="widget-area vertical layout"></div></colab-form></div>
    <div class="output"><!----> <div class="output-header"> </div>
        <div class="output-content">
          <div class="output-info"><colab-output-info title="Clear output

executed at unknown time" hovering=""><template shadowrootmode="open"><!----> <md-icon class="collaborator account-circle" alt="Execution output" aria-hidden="true"><template shadowrootmode="open"><!----><slot></slot></template><!--?lit$0292179355$-->account_circle</md-icon>
      <!--?lit$0292179355$--> <mwc-icon-button icon="cancel" command="clear-focused-or-selected-outputs" alt="Clear output"><template shadowrootmode="open"><!----><button class="mdc-icon-button mdc-icon-button--display-flex" aria-label="cancel"><!--?lit$0292179355$-->
    <!--?lit$0292179355$--><i class="material-icons"><!--?lit$0292179355$-->cancel</i>
    <span><slot></slot></span>
  </button></template>
          </mwc-icon-button><!--?--></template></colab-output-info></div>
          <div class="output-iframe-container">
            <div class="output-iframe-sizer"> <div style="height: 677px;"><div class="outputview" style="height: 677px;"><colab-dom-lifecycle-events style="display: none;"></colab-dom-lifecycle-events><iframe allow="" sandbox="allow-downloads allow-forms allow-pointer-lock allow-popups allow-same-origin allow-scripts allow-storage-access-by-user-activation allow-popups-to-escape-sandbox" src="./Airbnb_Paris__files/outputframe(1).html" class="" style="height: 677px;"></iframe></div></div></div>
          </div>
        </div></div></div><colab-cell-next-steps><template shadowrootmode="open"><!----></template></colab-cell-next-steps></div></div><div class="add-cell">
      <hr>
    </div></div><div class="cell code code-has-output icon-scrolling" id="cell-cd5a3831" tabindex="-1" role="region" aria-label="Cell 8: Code cell: " style=""><div class="cell-tag-editor sticky"></div><div class="cell-toolbar sticky"></div><div class="main-content" elevation="0"><div class="cell-contents"><div class="cell-mask"></div><span class="imported-info-area"></span><div class="codecell-input-output">
      <div class="inputarea horizontal layout code">
        <div class="cell-gutter">
          <!-- Bounding range for vertical scrolling of icons -->
          <div class="cell-execution-container">
            <colab-run-button title="Run cell (Ctrl+Enter)
cell has not been executed in this session

executed at unknown time" role="button" aria-label="Run cell"><template shadowrootmode="open"><!----> <div class="cell-execution  stale ">
      <div class="execution-count"><!--?lit$0292179355$-->[ ]</div>
      <div class="cell-execution-indicator"> <!--?lit$0292179355$-->
<svg xmlns="http://www.w3.org/2000/svg" viewBox="0 0 24 24">
  <!--?lit$0292179355$-->
  <mask id="playSymbolMask">
    <rect width="100%" height="100%" fill="white"></rect>
    <polygon points="10,8 17,12 10,16" fill="black"></polygon>
  </mask>
  <circle cx="12" cy="12" r="7.8" mask="url(#playSymbolMask)" id="filledCircle"></circle>
</svg> </div>
      <!--?lit$0292179355$--><!--?-->
    </div></template></colab-run-button>
          </div>
        </div>
      <div class="editor flex lazy-editor" style=""><pre class="lazy-virtualized" style="font-size: 14px; line-height: 19px;"><pre class="lazy-gutter"></pre><pre class="monaco-colorized colab-dark colab-dark" data-lang="notebook-python"><span><span class="mtk1">listings_df.dtypes</span></span><br></pre></pre></div><colab-form class="formview vertical layout flex"><div class="widget-area vertical layout"></div></colab-form></div>
    <div class="output"><!----> <div class="output-header"> </div>
        <div class="output-content">
          <div class="output-info"><colab-output-info title="Clear output

executed at unknown time" hovering=""><template shadowrootmode="open"><!----> <md-icon class="collaborator account-circle" alt="Execution output" aria-hidden="true"><template shadowrootmode="open"><!----><slot></slot></template><!--?lit$0292179355$-->account_circle</md-icon>
      <!--?lit$0292179355$--> <mwc-icon-button icon="cancel" command="clear-focused-or-selected-outputs" alt="Clear output"><template shadowrootmode="open"><!----><button class="mdc-icon-button mdc-icon-button--display-flex" aria-label="cancel"><!--?lit$0292179355$-->
    <!--?lit$0292179355$--><i class="material-icons"><!--?lit$0292179355$-->cancel</i>
    <span><slot></slot></span>
  </button></template>
          </mwc-icon-button><!--?--></template></colab-output-info></div>
          <div class="output-iframe-container">
            <div class="output-iframe-sizer"> <div><div><colab-static-output-renderer tabindex="0" role="group"><div><div class="execute_result output_text"><pre>id                                  int64
name                               object
host_id                             int64
host_name                          object
neighbourhood_group               float64
neighbourhood                      object
latitude                          float64
longitude                         float64
room_type                          object
price                             float64
minimum_nights                      int64
number_of_reviews                   int64
last_review                        object
reviews_per_month                 float64
calculated_host_listings_count      int64
availability_365                    int64
number_of_reviews_ltm               int64
license                            object
dtype: object</pre></div></div><div></div></colab-static-output-renderer></div></div></div>
          </div>
        </div></div></div><colab-cell-next-steps><template shadowrootmode="open"><!----></template></colab-cell-next-steps></div></div><div class="add-cell">
      <hr>
    </div></div><div class="cell code code-has-output icon-scrolling" id="cell-bc5bdd86" tabindex="-1" role="region" aria-label="Cell 9: Code cell: " style=""><div class="cell-tag-editor sticky"></div><div class="cell-toolbar sticky"></div><div class="main-content" elevation="0"><div class="cell-contents"><div class="cell-mask"></div><span class="imported-info-area"></span><div class="codecell-input-output">
      <div class="inputarea horizontal layout code">
        <div class="cell-gutter">
          <!-- Bounding range for vertical scrolling of icons -->
          <div class="cell-execution-container">
            <colab-run-button title="Run cell (Ctrl+Enter)
cell has not been executed in this session

executed at unknown time" role="button" aria-label="Run cell"><template shadowrootmode="open"><!----> <div class="cell-execution  stale ">
      <div class="execution-count"><!--?lit$0292179355$-->[ ]</div>
      <div class="cell-execution-indicator"> <!--?lit$0292179355$-->
<svg xmlns="http://www.w3.org/2000/svg" viewBox="0 0 24 24">
  <!--?lit$0292179355$-->
  <mask id="playSymbolMask">
    <rect width="100%" height="100%" fill="white"></rect>
    <polygon points="10,8 17,12 10,16" fill="black"></polygon>
  </mask>
  <circle cx="12" cy="12" r="7.8" mask="url(#playSymbolMask)" id="filledCircle"></circle>
</svg> </div>
      <!--?lit$0292179355$--><!--?-->
    </div></template></colab-run-button>
          </div>
        </div>
      <div class="editor flex lazy-editor" style=""><pre class="lazy-virtualized" style="font-size: 14px; line-height: 19px;"><pre class="lazy-gutter"></pre><pre class="monaco-colorized colab-dark colab-dark" data-lang="notebook-python"><span><span class="mtk8">#checking&nbsp;what&nbsp;are&nbsp;the&nbsp;variables&nbsp;here</span></span><br><span><span class="mtk1">listings_df.columns</span></span><br></pre></pre></div><colab-form class="formview vertical layout flex"><div class="widget-area vertical layout"></div></colab-form></div>
    <div class="output"><!----> <div class="output-header"> </div>
        <div class="output-content">
          <div class="output-info"><colab-output-info title="Clear output

executed at unknown time" hovering=""><template shadowrootmode="open"><!----> <md-icon class="collaborator account-circle" alt="Execution output" aria-hidden="true"><template shadowrootmode="open"><!----><slot></slot></template><!--?lit$0292179355$-->account_circle</md-icon>
      <!--?lit$0292179355$--> <mwc-icon-button icon="cancel" command="clear-focused-or-selected-outputs" alt="Clear output"><template shadowrootmode="open"><!----><button class="mdc-icon-button mdc-icon-button--display-flex" aria-label="cancel"><!--?lit$0292179355$-->
    <!--?lit$0292179355$--><i class="material-icons"><!--?lit$0292179355$-->cancel</i>
    <span><slot></slot></span>
  </button></template>
          </mwc-icon-button><!--?--></template></colab-output-info></div>
          <div class="output-iframe-container">
            <div class="output-iframe-sizer"> <div><div><colab-static-output-renderer tabindex="0" role="group"><div><div class="execute_result output_text"><pre>Index(['id', 'name', 'host_id', 'host_name', 'neighbourhood_group',
       'neighbourhood', 'latitude', 'longitude', 'room_type', 'price',
       'minimum_nights', 'number_of_reviews', 'last_review',
       'reviews_per_month', 'calculated_host_listings_count',
       'availability_365', 'number_of_reviews_ltm', 'license'],
      dtype='object')</pre></div></div><div></div></colab-static-output-renderer></div></div></div>
          </div>
        </div></div></div><colab-cell-next-steps><template shadowrootmode="open"><!----></template></colab-cell-next-steps></div></div><div class="add-cell">
      <hr>
    </div></div><div class="cell code code-has-output icon-scrolling" id="cell-d2f72b91" tabindex="-1" role="region" aria-label="Cell 10: Code cell: " style=""><div class="cell-tag-editor sticky"></div><div class="cell-toolbar sticky"></div><div class="main-content" elevation="0"><div class="cell-contents"><div class="cell-mask"></div><span class="imported-info-area"></span><div class="codecell-input-output">
      <div class="inputarea horizontal layout code">
        <div class="cell-gutter">
          <!-- Bounding range for vertical scrolling of icons -->
          <div class="cell-execution-container">
            <colab-run-button title="Run cell (Ctrl+Enter)
cell has not been executed in this session

executed at unknown time" role="button" aria-label="Run cell"><template shadowrootmode="open"><!----> <div class="cell-execution  stale ">
      <div class="execution-count"><!--?lit$0292179355$-->[ ]</div>
      <div class="cell-execution-indicator"> <!--?lit$0292179355$-->
<svg xmlns="http://www.w3.org/2000/svg" viewBox="0 0 24 24">
  <!--?lit$0292179355$-->
  <mask id="playSymbolMask">
    <rect width="100%" height="100%" fill="white"></rect>
    <polygon points="10,8 17,12 10,16" fill="black"></polygon>
  </mask>
  <circle cx="12" cy="12" r="7.8" mask="url(#playSymbolMask)" id="filledCircle"></circle>
</svg> </div>
      <!--?lit$0292179355$--><!--?-->
    </div></template></colab-run-button>
          </div>
        </div>
      <div class="editor flex lazy-editor" style=""><pre class="lazy-virtualized" style="font-size: 14px; line-height: 19px;"><pre class="lazy-gutter"></pre><pre class="monaco-colorized colab-dark colab-dark" data-lang="notebook-python"><span><span class="mtk8">#&nbsp;check&nbsp;duplicate&nbsp;rows&nbsp;in&nbsp;dataset</span></span><br><span><span class="mtk1">listings_df&nbsp;=&nbsp;listings_df.drop_duplicates</span><span class="mtk12">()</span></span><br><span><span class="mtk1">listings_df.count</span><span class="mtk12">()</span></span><br></pre></pre></div><colab-form class="formview vertical layout flex"><div class="widget-area vertical layout"></div></colab-form></div>
    <div class="output"><!----> <div class="output-header"> </div>
        <div class="output-content">
          <div class="output-info"><colab-output-info title="Clear output

executed at unknown time" hovering=""><template shadowrootmode="open"><!----> <md-icon class="collaborator account-circle" alt="Execution output" aria-hidden="true"><template shadowrootmode="open"><!----><slot></slot></template><!--?lit$0292179355$-->account_circle</md-icon>
      <!--?lit$0292179355$--> <mwc-icon-button icon="cancel" command="clear-focused-or-selected-outputs" alt="Clear output"><template shadowrootmode="open"><!----><button class="mdc-icon-button mdc-icon-button--display-flex" aria-label="cancel"><!--?lit$0292179355$-->
    <!--?lit$0292179355$--><i class="material-icons"><!--?lit$0292179355$-->cancel</i>
    <span><slot></slot></span>
  </button></template>
          </mwc-icon-button><!--?--></template></colab-output-info></div>
          <div class="output-iframe-container">
            <div class="output-iframe-sizer"> <div><div><colab-static-output-renderer tabindex="0" role="group"><div><div class="execute_result output_text"><pre>id                                74329
name                              74329
host_id                           74329
host_name                         74320
neighbourhood_group                   0
neighbourhood                     74329
latitude                          74329
longitude                         74329
room_type                         74329
price                             67108
minimum_nights                    74329
number_of_reviews                 74329
last_review                       56438
reviews_per_month                 56438
calculated_host_listings_count    74329
availability_365                  74329
number_of_reviews_ltm             74329
license                           54687
dtype: int64</pre></div></div><div></div></colab-static-output-renderer></div></div></div>
          </div>
        </div></div></div><colab-cell-next-steps><template shadowrootmode="open"><!----></template></colab-cell-next-steps></div></div><div class="add-cell">
      <hr>
    </div></div><div class="cell text" id="cell-zFi9He-FDKyD" tabindex="-1" role="region" aria-label="Cell 11: Text cell: " style=""><div class="cell-tag-editor sticky"></div><div class="cell-toolbar sticky"></div><div class="main-content" elevation="0"><div class="cell-contents"><div class="cell-mask"></div><span class="imported-info-area"></span><!----> <div class="toolbar-root"></div>
      <div class="editor-container horizontal">
        <div class="editor-root"></div>
        <div class="text-top-div">
          <div class="markdown"><span><p>There is no any duplicate rows in Dataset</p>
</span></div>
        </div>
      </div>

      <div class="section-header" style="display: none;">
        <colab-run-button role="button" aria-label="Run cell"><template shadowrootmode="open"><!----> <div class="cell-execution   ">
      <div class="execution-count"><!--?lit$0292179355$-->[ ]</div>
      <div class="cell-execution-indicator"> <!--?lit$0292179355$-->
<svg xmlns="http://www.w3.org/2000/svg" viewBox="0 0 24 24">
  <!--?lit$0292179355$-->
  <mask id="playSymbolMask">
    <rect width="100%" height="100%" fill="white"></rect>
    <polygon points="10,8 17,12 10,16" fill="black"></polygon>
  </mask>
  <circle cx="12" cy="12" r="7.8" mask="url(#playSymbolMask)" id="filledCircle"></circle>
</svg> </div>
      <!--?lit$0292179355$--><!--?-->
    </div></template></colab-run-button>
        <div class="section-header-container" title="click to expand">↳ 0 cells hidden</div>
      </div></div></div><div class="add-cell">
      <hr>
    </div></div><div class="cell code code-has-output icon-scrolling" id="cell-3460e32c" tabindex="-1" role="region" aria-label="Cell 12: Code cell: " style=""><div class="cell-tag-editor sticky"></div><div class="cell-toolbar sticky"></div><div class="main-content" elevation="0"><div class="cell-contents"><div class="cell-mask"></div><span class="imported-info-area"></span><div class="codecell-input-output">
      <div class="inputarea horizontal layout code">
        <div class="cell-gutter">
          <!-- Bounding range for vertical scrolling of icons -->
          <div class="cell-execution-container">
            <colab-run-button title="Run cell (Ctrl+Enter)
cell has not been executed in this session

executed at unknown time" role="button" aria-label="Run cell"><template shadowrootmode="open"><!----> <div class="cell-execution  stale ">
      <div class="execution-count"><!--?lit$0292179355$-->[ ]</div>
      <div class="cell-execution-indicator"> <!--?lit$0292179355$-->
<svg xmlns="http://www.w3.org/2000/svg" viewBox="0 0 24 24">
  <!--?lit$0292179355$-->
  <mask id="playSymbolMask">
    <rect width="100%" height="100%" fill="white"></rect>
    <polygon points="10,8 17,12 10,16" fill="black"></polygon>
  </mask>
  <circle cx="12" cy="12" r="7.8" mask="url(#playSymbolMask)" id="filledCircle"></circle>
</svg> </div>
      <!--?lit$0292179355$--><!--?-->
    </div></template></colab-run-button>
          </div>
        </div>
      <div class="editor flex lazy-editor" style=""><pre class="lazy-virtualized" style="font-size: 14px; line-height: 19px;"><pre class="lazy-gutter"></pre><pre class="monaco-colorized colab-dark colab-dark" data-lang="notebook-python"><span><span class="mtk8">#&nbsp;checking&nbsp;null&nbsp;values&nbsp;of&nbsp;each&nbsp;columns</span></span><br><span><span class="mtk1">listings_df.isnull</span><span class="mtk12">()</span><span class="mtk1">.</span><span class="mtk15">sum</span><span class="mtk12">()</span></span><br></pre></pre></div><colab-form class="formview vertical layout flex"><div class="widget-area vertical layout"></div></colab-form></div>
    <div class="output"><!----> <div class="output-header"> </div>
        <div class="output-content">
          <div class="output-info"><colab-output-info title="Clear output

executed at unknown time" hovering=""><template shadowrootmode="open"><!----> <md-icon class="collaborator account-circle" alt="Execution output" aria-hidden="true"><template shadowrootmode="open"><!----><slot></slot></template><!--?lit$0292179355$-->account_circle</md-icon>
      <!--?lit$0292179355$--> <mwc-icon-button icon="cancel" command="clear-focused-or-selected-outputs" alt="Clear output"><template shadowrootmode="open"><!----><button class="mdc-icon-button mdc-icon-button--display-flex" aria-label="cancel"><!--?lit$0292179355$-->
    <!--?lit$0292179355$--><i class="material-icons"><!--?lit$0292179355$-->cancel</i>
    <span><slot></slot></span>
  </button></template>
          </mwc-icon-button><!--?--></template></colab-output-info></div>
          <div class="output-iframe-container">
            <div class="output-iframe-sizer"> <div><div><colab-static-output-renderer tabindex="0" role="group"><div><div class="execute_result output_text"><pre>id                                    0
name                                  0
host_id                               0
host_name                             9
neighbourhood_group               74329
neighbourhood                         0
latitude                              0
longitude                             0
room_type                             0
price                              7221
minimum_nights                        0
number_of_reviews                     0
last_review                       17891
reviews_per_month                 17891
calculated_host_listings_count        0
availability_365                      0
number_of_reviews_ltm                 0
license                           19642
dtype: int64</pre></div></div><div></div></colab-static-output-renderer></div></div></div>
          </div>
        </div></div></div><colab-cell-next-steps><template shadowrootmode="open"><!----></template></colab-cell-next-steps></div></div><div class="add-cell">
      <hr>
    </div></div><div class="cell code icon-scrolling" id="cell-311d4876" tabindex="-1" role="region" aria-label="Cell 13: Code cell: " style=""><div class="cell-tag-editor sticky"></div><div class="cell-toolbar sticky"></div><div class="main-content" elevation="0"><div class="cell-contents"><div class="cell-mask"></div><span class="imported-info-area"></span><div class="codecell-input-output">
      <div class="inputarea horizontal layout code">
        <div class="cell-gutter">
          <!-- Bounding range for vertical scrolling of icons -->
          <div class="cell-execution-container">
            <colab-run-button title="Run cell (Ctrl+Enter)
cell has not been executed in this session" role="button" aria-label="Run cell"><template shadowrootmode="open"><!----> <div class="cell-execution  stale ">
      <div class="execution-count"><!--?lit$0292179355$-->[ ]</div>
      <div class="cell-execution-indicator"> <!--?lit$0292179355$-->
<svg xmlns="http://www.w3.org/2000/svg" viewBox="0 0 24 24">
  <!--?lit$0292179355$-->
  <mask id="playSymbolMask">
    <rect width="100%" height="100%" fill="white"></rect>
    <polygon points="10,8 17,12 10,16" fill="black"></polygon>
  </mask>
  <circle cx="12" cy="12" r="7.8" mask="url(#playSymbolMask)" id="filledCircle"></circle>
</svg> </div>
      <!--?lit$0292179355$--><!--?-->
    </div></template></colab-run-button>
          </div>
        </div>
      <div class="editor flex lazy-editor" style=""><pre class="lazy-virtualized" style="font-size: 14px; line-height: 19px;"><pre class="lazy-gutter"></pre><pre class="monaco-colorized colab-dark colab-dark" data-lang="notebook-python"><span><span class="mtk8">#&nbsp;melt&nbsp;listings&nbsp;data&nbsp;for&nbsp;graphing&nbsp;purposes</span></span><br><span><span class="mtk1">melted_listings&nbsp;=&nbsp;pd.melt</span><span class="mtk12">(</span><span class="mtk1">listings_df</span><span class="mtk12">,</span><span class="mtk1">&nbsp;id_vars=</span><span class="mtk12">[</span><span class="mtk5">'id'</span><span class="mtk12">,</span><span class="mtk1">&nbsp;</span><span class="mtk5">'name'</span><span class="mtk12">,</span><span class="mtk1">&nbsp;</span><span class="mtk5">'host_id'</span><span class="mtk12">,</span><span class="mtk1">&nbsp;</span><span class="mtk5">'host_name'</span><span class="mtk12">,</span><span class="mtk1">&nbsp;</span><span class="mtk5">'neighbourhood_group'</span><span class="mtk12">,</span><span class="mtk5">'neighbourhood'</span><span class="mtk12">,</span><span class="mtk1">&nbsp;</span><span class="mtk5">'latitude'</span><span class="mtk12">,])</span></span><br></pre></pre></div><colab-form class="formview vertical layout flex"><div class="widget-area vertical layout"></div></colab-form></div>
    <div class="output"><!----> <div class="output-header"> </div>
        <div class="output-content" style="display: none;">
          <div class="output-info"> </div>
          <div class="output-iframe-container">
            <div class="output-iframe-sizer"> </div>
          </div>
        </div></div></div><colab-cell-next-steps><template shadowrootmode="open"><!----></template></colab-cell-next-steps></div></div><div class="add-cell">
      <hr>
    </div></div><div class="cell code code-has-output icon-scrolling" id="cell-50edf755" tabindex="-1" role="region" aria-label="Cell 14: Code cell: " style=""><div class="cell-tag-editor sticky"></div><div class="cell-toolbar sticky"></div><div class="main-content" elevation="0"><div class="cell-contents"><div class="cell-mask"></div><span class="imported-info-area"></span><div class="codecell-input-output">
      <div class="inputarea horizontal layout code">
        <div class="cell-gutter">
          <!-- Bounding range for vertical scrolling of icons -->
          <div class="cell-execution-container">
            <colab-run-button title="Run cell (Ctrl+Enter)
cell has not been executed in this session

executed at unknown time" role="button" aria-label="Run cell"><template shadowrootmode="open"><!----> <div class="cell-execution  stale ">
      <div class="execution-count"><!--?lit$0292179355$-->[ ]</div>
      <div class="cell-execution-indicator"> <!--?lit$0292179355$-->
<svg xmlns="http://www.w3.org/2000/svg" viewBox="0 0 24 24">
  <!--?lit$0292179355$-->
  <mask id="playSymbolMask">
    <rect width="100%" height="100%" fill="white"></rect>
    <polygon points="10,8 17,12 10,16" fill="black"></polygon>
  </mask>
  <circle cx="12" cy="12" r="7.8" mask="url(#playSymbolMask)" id="filledCircle"></circle>
</svg> </div>
      <!--?lit$0292179355$--><!--?-->
    </div></template></colab-run-button>
          </div>
        </div>
      <div class="editor flex lazy-editor" style=""><pre class="lazy-virtualized" style="font-size: 14px; line-height: 19px;"><pre class="lazy-gutter"></pre><pre class="monaco-colorized colab-dark colab-dark" data-lang="notebook-python"><span><span class="mtk1">melted_listings</span><span class="mtk12">[</span><span class="mtk5">"variable"</span><span class="mtk12">]</span><span class="mtk1">.value_counts</span><span class="mtk12">()</span></span><br></pre></pre></div><colab-form class="formview vertical layout flex"><div class="widget-area vertical layout"></div></colab-form></div>
    <div class="output"><!----> <div class="output-header"> </div>
        <div class="output-content">
          <div class="output-info"><colab-output-info title="Clear output

executed at unknown time" hovering=""><template shadowrootmode="open"><!----> <md-icon class="collaborator account-circle" alt="Execution output" aria-hidden="true"><template shadowrootmode="open"><!----><slot></slot></template><!--?lit$0292179355$-->account_circle</md-icon>
      <!--?lit$0292179355$--> <mwc-icon-button icon="cancel" command="clear-focused-or-selected-outputs" alt="Clear output"><template shadowrootmode="open"><!----><button class="mdc-icon-button mdc-icon-button--display-flex" aria-label="cancel"><!--?lit$0292179355$-->
    <!--?lit$0292179355$--><i class="material-icons"><!--?lit$0292179355$-->cancel</i>
    <span><slot></slot></span>
  </button></template>
          </mwc-icon-button><!--?--></template></colab-output-info></div>
          <div class="output-iframe-container">
            <div class="output-iframe-sizer"> <div><div><colab-static-output-renderer tabindex="0" role="group"><div><div class="execute_result output_text"><pre>longitude                         74329
room_type                         74329
price                             74329
minimum_nights                    74329
number_of_reviews                 74329
last_review                       74329
reviews_per_month                 74329
calculated_host_listings_count    74329
availability_365                  74329
number_of_reviews_ltm             74329
license                           74329
Name: variable, dtype: int64</pre></div></div><div></div></colab-static-output-renderer></div></div></div>
          </div>
        </div></div></div><colab-cell-next-steps><template shadowrootmode="open"><!----></template></colab-cell-next-steps></div></div><div class="add-cell">
      <hr>
    </div></div><div class="cell code code-has-output icon-scrolling" id="cell-402e6434" tabindex="-1" role="region" aria-label="Cell 15: Code cell: " style=""><div class="cell-tag-editor sticky"></div><div class="cell-toolbar sticky"></div><div class="main-content" elevation="0"><div class="cell-contents"><div class="cell-mask"></div><span class="imported-info-area"></span><div class="codecell-input-output">
      <div class="inputarea horizontal layout code">
        <div class="cell-gutter">
          <!-- Bounding range for vertical scrolling of icons -->
          <div class="cell-execution-container">
            <colab-run-button title="Run cell (Ctrl+Enter)
cell has not been executed in this session

executed at unknown time" role="button" aria-label="Run cell"><template shadowrootmode="open"><!----> <div class="cell-execution  stale ">
      <div class="execution-count"><!--?lit$0292179355$-->[ ]</div>
      <div class="cell-execution-indicator"> <!--?lit$0292179355$-->
<svg xmlns="http://www.w3.org/2000/svg" viewBox="0 0 24 24">
  <!--?lit$0292179355$-->
  <mask id="playSymbolMask">
    <rect width="100%" height="100%" fill="white"></rect>
    <polygon points="10,8 17,12 10,16" fill="black"></polygon>
  </mask>
  <circle cx="12" cy="12" r="7.8" mask="url(#playSymbolMask)" id="filledCircle"></circle>
</svg> </div>
      <!--?lit$0292179355$--><!--?-->
    </div></template></colab-run-button>
          </div>
        </div>
      <div class="editor flex lazy-editor" style=""><pre class="lazy-virtualized" style="font-size: 14px; line-height: 19px;"><pre class="lazy-gutter"></pre><pre class="monaco-colorized colab-dark colab-dark" data-lang="notebook-python"><span><span class="mtk8">#filter&nbsp;df&nbsp;to&nbsp;selected&nbsp;attribute</span></span><br><span><span class="mtk1">filtered&nbsp;=&nbsp;melted_listings</span><span class="mtk12">[</span><span class="mtk1">melted_listings</span><span class="mtk12">[</span><span class="mtk5">'variable'</span><span class="mtk12">]</span><span class="mtk1">&nbsp;==&nbsp;</span><span class="mtk5">"room_type"</span><span class="mtk12">]</span><span class="mtk1">.copy</span><span class="mtk12">()</span></span><br><span><span class="mtk1">filtered</span></span><br></pre></pre></div><colab-form class="formview vertical layout flex"><div class="widget-area vertical layout"></div></colab-form></div>
    <div class="output"><!----> <div class="output-header"> </div>
        <div class="output-content">
          <div class="output-info"><colab-output-info title="Clear output

executed at unknown time" hovering=""><template shadowrootmode="open"><!----> <md-icon class="collaborator account-circle" alt="Execution output" aria-hidden="true"><template shadowrootmode="open"><!----><slot></slot></template><!--?lit$0292179355$-->account_circle</md-icon>
      <!--?lit$0292179355$--> <mwc-icon-button icon="cancel" command="clear-focused-or-selected-outputs" alt="Clear output"><template shadowrootmode="open"><!----><button class="mdc-icon-button mdc-icon-button--display-flex" aria-label="cancel"><!--?lit$0292179355$-->
    <!--?lit$0292179355$--><i class="material-icons"><!--?lit$0292179355$-->cancel</i>
    <span><slot></slot></span>
  </button></template>
          </mwc-icon-button><!--?--></template></colab-output-info></div>
          <div class="output-iframe-container">
            <div class="output-iframe-sizer"> <div style="height: 423px;"><div class="outputview" style="height: 423px;"><colab-dom-lifecycle-events style="display: none;"></colab-dom-lifecycle-events><iframe allow="" sandbox="allow-downloads allow-forms allow-pointer-lock allow-popups allow-same-origin allow-scripts allow-storage-access-by-user-activation allow-popups-to-escape-sandbox" src="./Airbnb_Paris__files/outputframe(2).html" class="" style="height: 423px;"></iframe></div></div></div>
          </div>
        </div></div></div><colab-cell-next-steps><template shadowrootmode="open"><!----></template></colab-cell-next-steps></div></div><div class="add-cell">
      <hr>
    </div></div><div class="cell code code-has-output icon-scrolling" id="cell-820b07ee" tabindex="-1" role="region" aria-label="Cell 16: Code cell: " style=""><div class="cell-tag-editor sticky"></div><div class="cell-toolbar sticky"></div><div class="main-content" elevation="0"><div class="cell-contents"><div class="cell-mask"></div><span class="imported-info-area"></span><div class="codecell-input-output">
      <div class="inputarea horizontal layout code">
        <div class="cell-gutter">
          <!-- Bounding range for vertical scrolling of icons -->
          <div class="cell-execution-container">
            <colab-run-button title="Run cell (Ctrl+Enter)
cell has not been executed in this session

executed at unknown time" role="button" aria-label="Run cell"><template shadowrootmode="open"><!----> <div class="cell-execution  stale ">
      <div class="execution-count"><!--?lit$0292179355$-->[ ]</div>
      <div class="cell-execution-indicator"> <!--?lit$0292179355$-->
<svg xmlns="http://www.w3.org/2000/svg" viewBox="0 0 24 24">
  <!--?lit$0292179355$-->
  <mask id="playSymbolMask">
    <rect width="100%" height="100%" fill="white"></rect>
    <polygon points="10,8 17,12 10,16" fill="black"></polygon>
  </mask>
  <circle cx="12" cy="12" r="7.8" mask="url(#playSymbolMask)" id="filledCircle"></circle>
</svg> </div>
      <!--?lit$0292179355$--><!--?-->
    </div></template></colab-run-button>
          </div>
        </div>
      <div class="editor flex lazy-editor" style=""><pre class="lazy-virtualized" style="font-size: 14px; line-height: 19px;"><pre class="lazy-gutter"></pre><pre class="monaco-colorized colab-dark colab-dark" data-lang="notebook-python"><span><span class="mtk8">#&nbsp;How&nbsp;many&nbsp;unique&nbsp;listings&nbsp;are&nbsp;there</span></span><br><span><span class="mtk1">listings_df</span><span class="mtk12">[</span><span class="mtk5">'id'</span><span class="mtk12">]</span><span class="mtk1">.nunique</span><span class="mtk12">()</span></span><br><span><span></span></span><br></pre></pre></div><colab-form class="formview vertical layout flex"><div class="widget-area vertical layout"></div></colab-form></div>
    <div class="output"><!----> <div class="output-header"> </div>
        <div class="output-content">
          <div class="output-info"><colab-output-info title="Clear output

executed at unknown time" hovering=""><template shadowrootmode="open"><!----> <md-icon class="collaborator account-circle" alt="Execution output" aria-hidden="true"><template shadowrootmode="open"><!----><slot></slot></template><!--?lit$0292179355$-->account_circle</md-icon>
      <!--?lit$0292179355$--> <mwc-icon-button icon="cancel" command="clear-focused-or-selected-outputs" alt="Clear output"><template shadowrootmode="open"><!----><button class="mdc-icon-button mdc-icon-button--display-flex" aria-label="cancel"><!--?lit$0292179355$-->
    <!--?lit$0292179355$--><i class="material-icons"><!--?lit$0292179355$-->cancel</i>
    <span><slot></slot></span>
  </button></template>
          </mwc-icon-button><!--?--></template></colab-output-info></div>
          <div class="output-iframe-container">
            <div class="output-iframe-sizer"> <div><div><colab-static-output-renderer tabindex="0" role="group"><div><div class="execute_result output_text"><pre>74329</pre></div></div><div></div></colab-static-output-renderer></div></div></div>
          </div>
        </div></div></div><colab-cell-next-steps><template shadowrootmode="open"><!----></template></colab-cell-next-steps></div></div><div class="add-cell">
      <hr>
    </div></div><div class="cell code code-has-output icon-scrolling" id="cell-5htq4EXADf3x" tabindex="-1" role="region" aria-label="Cell 17: Code cell: " style=""><div class="cell-tag-editor sticky"></div><div class="cell-toolbar sticky"></div><div class="main-content" elevation="0"><div class="cell-contents"><div class="cell-mask"></div><span class="imported-info-area"></span><div class="codecell-input-output">
      <div class="inputarea horizontal layout code">
        <div class="cell-gutter">
          <!-- Bounding range for vertical scrolling of icons -->
          <div class="cell-execution-container">
            <colab-run-button title="Run cell (Ctrl+Enter)
cell has not been executed in this session

executed at unknown time" role="button" aria-label="Run cell"><template shadowrootmode="open"><!----> <div class="cell-execution  stale ">
      <div class="execution-count"><!--?lit$0292179355$-->[ ]</div>
      <div class="cell-execution-indicator"> <!--?lit$0292179355$-->
<svg xmlns="http://www.w3.org/2000/svg" viewBox="0 0 24 24">
  <!--?lit$0292179355$-->
  <mask id="playSymbolMask">
    <rect width="100%" height="100%" fill="white"></rect>
    <polygon points="10,8 17,12 10,16" fill="black"></polygon>
  </mask>
  <circle cx="12" cy="12" r="7.8" mask="url(#playSymbolMask)" id="filledCircle"></circle>
</svg> </div>
      <!--?lit$0292179355$--><!--?-->
    </div></template></colab-run-button>
          </div>
        </div>
      <div class="editor flex lazy-editor" style=""><pre class="lazy-virtualized" style="font-size: 14px; line-height: 19px;"><pre class="lazy-gutter"></pre><pre class="monaco-colorized colab-dark colab-dark" data-lang="notebook-python"><span><span class="mtk8">#&nbsp;How&nbsp;many&nbsp;unique&nbsp;listings&nbsp;are&nbsp;there</span></span><br><span><span class="mtk1">listings_df</span><span class="mtk12">[</span><span class="mtk5">'id'</span><span class="mtk12">]</span><span class="mtk1">.nunique</span><span class="mtk12">()</span></span><br><span><span></span></span><br></pre></pre></div><colab-form class="formview vertical layout flex"><div class="widget-area vertical layout"></div></colab-form></div>
    <div class="output"><!----> <div class="output-header"> </div>
        <div class="output-content">
          <div class="output-info"><colab-output-info title="Clear output

executed at unknown time" hovering=""><template shadowrootmode="open"><!----> <md-icon class="collaborator account-circle" alt="Execution output" aria-hidden="true"><template shadowrootmode="open"><!----><slot></slot></template><!--?lit$0292179355$-->account_circle</md-icon>
      <!--?lit$0292179355$--> <mwc-icon-button icon="cancel" command="clear-focused-or-selected-outputs" alt="Clear output"><template shadowrootmode="open"><!----><button class="mdc-icon-button mdc-icon-button--display-flex" aria-label="cancel"><!--?lit$0292179355$-->
    <!--?lit$0292179355$--><i class="material-icons"><!--?lit$0292179355$-->cancel</i>
    <span><slot></slot></span>
  </button></template>
          </mwc-icon-button><!--?--></template></colab-output-info></div>
          <div class="output-iframe-container">
            <div class="output-iframe-sizer"> <div><div><colab-static-output-renderer tabindex="0" role="group"><div><div class="execute_result output_text"><pre>74329</pre></div></div><div></div></colab-static-output-renderer></div></div></div>
          </div>
        </div></div></div><colab-cell-next-steps><template shadowrootmode="open"><!----></template></colab-cell-next-steps></div></div><div class="add-cell">
      <hr>
    </div></div><div class="cell code code-has-output icon-scrolling" id="cell-Qd-jesyuDb3t" tabindex="-1" role="region" aria-label="Cell 18: Code cell: " style=""><div class="cell-tag-editor sticky"></div><div class="cell-toolbar sticky"></div><div class="main-content" elevation="0"><div class="cell-contents"><div class="cell-mask"></div><span class="imported-info-area"></span><div class="codecell-input-output">
      <div class="inputarea horizontal layout code">
        <div class="cell-gutter">
          <!-- Bounding range for vertical scrolling of icons -->
          <div class="cell-execution-container">
            <colab-run-button title="Run cell (Ctrl+Enter)
cell has not been executed in this session

executed at unknown time" role="button" aria-label="Run cell"><template shadowrootmode="open"><!----> <div class="cell-execution  stale ">
      <div class="execution-count"><!--?lit$0292179355$-->[ ]</div>
      <div class="cell-execution-indicator"> <!--?lit$0292179355$-->
<svg xmlns="http://www.w3.org/2000/svg" viewBox="0 0 24 24">
  <!--?lit$0292179355$-->
  <mask id="playSymbolMask">
    <rect width="100%" height="100%" fill="white"></rect>
    <polygon points="10,8 17,12 10,16" fill="black"></polygon>
  </mask>
  <circle cx="12" cy="12" r="7.8" mask="url(#playSymbolMask)" id="filledCircle"></circle>
</svg> </div>
      <!--?lit$0292179355$--><!--?-->
    </div></template></colab-run-button>
          </div>
        </div>
      <div class="editor flex lazy-editor" style=""><pre class="lazy-virtualized" style="font-size: 14px; line-height: 19px;"><pre class="lazy-gutter"></pre><pre class="monaco-colorized colab-dark colab-dark" data-lang="notebook-python"><span><span class="mtk8">#&nbsp;How&nbsp;many&nbsp;unique&nbsp;listings&nbsp;are&nbsp;there</span></span><br><span><span class="mtk1">listings_df</span><span class="mtk12">[</span><span class="mtk5">'id'</span><span class="mtk12">]</span><span class="mtk1">.nunique</span><span class="mtk12">()</span></span><br><span><span class="mtk8">#&nbsp;Same&nbsp;size&nbsp;as&nbsp;df</span></span><br></pre></pre></div><colab-form class="formview vertical layout flex"><div class="widget-area vertical layout"></div></colab-form></div>
    <div class="output"><!----> <div class="output-header"> </div>
        <div class="output-content">
          <div class="output-info"><colab-output-info title="Clear output

executed at unknown time" hovering=""><template shadowrootmode="open"><!----> <md-icon class="collaborator account-circle" alt="Execution output" aria-hidden="true"><template shadowrootmode="open"><!----><slot></slot></template><!--?lit$0292179355$-->account_circle</md-icon>
      <!--?lit$0292179355$--> <mwc-icon-button icon="cancel" command="clear-focused-or-selected-outputs" alt="Clear output"><template shadowrootmode="open"><!----><button class="mdc-icon-button mdc-icon-button--display-flex" aria-label="cancel"><!--?lit$0292179355$-->
    <!--?lit$0292179355$--><i class="material-icons"><!--?lit$0292179355$-->cancel</i>
    <span><slot></slot></span>
  </button></template>
          </mwc-icon-button><!--?--></template></colab-output-info></div>
          <div class="output-iframe-container">
            <div class="output-iframe-sizer"> <div><div><colab-static-output-renderer tabindex="0" role="group"><div><div class="execute_result output_text"><pre>74329</pre></div></div><div></div></colab-static-output-renderer></div></div></div>
          </div>
        </div></div></div><colab-cell-next-steps><template shadowrootmode="open"><!----></template></colab-cell-next-steps></div></div><div class="add-cell">
      <hr>
    </div></div><div class="cell code code-has-output icon-scrolling" id="cell-b510a743" tabindex="-1" role="region" aria-label="Cell 19: Code cell: " style=""><div class="cell-tag-editor sticky"></div><div class="cell-toolbar sticky"></div><div class="main-content" elevation="0"><div class="cell-contents"><div class="cell-mask"></div><span class="imported-info-area"></span><div class="codecell-input-output">
      <div class="inputarea horizontal layout code">
        <div class="cell-gutter">
          <!-- Bounding range for vertical scrolling of icons -->
          <div class="cell-execution-container">
            <colab-run-button title="Run cell (Ctrl+Enter)
cell has not been executed in this session

executed at unknown time" role="button" aria-label="Run cell"><template shadowrootmode="open"><!----> <div class="cell-execution  stale ">
      <div class="execution-count"><!--?lit$0292179355$-->[ ]</div>
      <div class="cell-execution-indicator"> <!--?lit$0292179355$-->
<svg xmlns="http://www.w3.org/2000/svg" viewBox="0 0 24 24">
  <!--?lit$0292179355$-->
  <mask id="playSymbolMask">
    <rect width="100%" height="100%" fill="white"></rect>
    <polygon points="10,8 17,12 10,16" fill="black"></polygon>
  </mask>
  <circle cx="12" cy="12" r="7.8" mask="url(#playSymbolMask)" id="filledCircle"></circle>
</svg> </div>
      <!--?lit$0292179355$--><!--?-->
    </div></template></colab-run-button>
          </div>
        </div>
      <div class="editor flex lazy-editor" style=""><pre class="lazy-virtualized" style="font-size: 14px; line-height: 19px;"><pre class="lazy-gutter"></pre><pre class="monaco-colorized colab-dark colab-dark" data-lang="notebook-python"><span><span class="mtk8">#&nbsp;so&nbsp;there&nbsp;are&nbsp;20*&nbsp;unique&nbsp;neighborhood&nbsp;in&nbsp;Dataset</span></span><br><span><span class="mtk1">listings_df</span><span class="mtk12">[</span><span class="mtk5">'neighbourhood'</span><span class="mtk12">]</span><span class="mtk1">.nunique</span><span class="mtk12">()</span></span><br></pre></pre></div><colab-form class="formview vertical layout flex"><div class="widget-area vertical layout"></div></colab-form></div>
    <div class="output"><!----> <div class="output-header"> </div>
        <div class="output-content">
          <div class="output-info"><colab-output-info title="Clear output

executed at unknown time" hovering=""><template shadowrootmode="open"><!----> <md-icon class="collaborator account-circle" alt="Execution output" aria-hidden="true"><template shadowrootmode="open"><!----><slot></slot></template><!--?lit$0292179355$-->account_circle</md-icon>
      <!--?lit$0292179355$--> <mwc-icon-button icon="cancel" command="clear-focused-or-selected-outputs" alt="Clear output"><template shadowrootmode="open"><!----><button class="mdc-icon-button mdc-icon-button--display-flex" aria-label="cancel"><!--?lit$0292179355$-->
    <!--?lit$0292179355$--><i class="material-icons"><!--?lit$0292179355$-->cancel</i>
    <span><slot></slot></span>
  </button></template>
          </mwc-icon-button><!--?--></template></colab-output-info></div>
          <div class="output-iframe-container">
            <div class="output-iframe-sizer"> <div><div><colab-static-output-renderer tabindex="0" role="group"><div><div class="execute_result output_text"><pre>20</pre></div></div><div></div></colab-static-output-renderer></div></div></div>
          </div>
        </div></div></div><colab-cell-next-steps><template shadowrootmode="open"><!----></template></colab-cell-next-steps></div></div><div class="add-cell">
      <hr>
    </div></div><div class="cell code code-has-output icon-scrolling" id="cell-182a8a0f" tabindex="-1" role="region" aria-label="Cell 20: Code cell: " style=""><div class="cell-tag-editor sticky"></div><div class="cell-toolbar sticky"></div><div class="main-content" elevation="0"><div class="cell-contents"><div class="cell-mask"></div><span class="imported-info-area"></span><div class="codecell-input-output">
      <div class="inputarea horizontal layout code">
        <div class="cell-gutter">
          <!-- Bounding range for vertical scrolling of icons -->
          <div class="cell-execution-container">
            <colab-run-button title="Run cell (Ctrl+Enter)
cell has not been executed in this session

executed at unknown time" role="button" aria-label="Run cell"><template shadowrootmode="open"><!----> <div class="cell-execution  stale ">
      <div class="execution-count"><!--?lit$0292179355$-->[ ]</div>
      <div class="cell-execution-indicator"> <!--?lit$0292179355$-->
<svg xmlns="http://www.w3.org/2000/svg" viewBox="0 0 24 24">
  <!--?lit$0292179355$-->
  <mask id="playSymbolMask">
    <rect width="100%" height="100%" fill="white"></rect>
    <polygon points="10,8 17,12 10,16" fill="black"></polygon>
  </mask>
  <circle cx="12" cy="12" r="7.8" mask="url(#playSymbolMask)" id="filledCircle"></circle>
</svg> </div>
      <!--?lit$0292179355$--><!--?-->
    </div></template></colab-run-button>
          </div>
        </div>
      <div class="editor flex lazy-editor" style=""><pre class="lazy-virtualized" style="font-size: 14px; line-height: 19px;"><pre class="lazy-gutter"></pre><pre class="monaco-colorized colab-dark colab-dark" data-lang="notebook-python"><span><span class="mtk8">#so&nbsp;total&nbsp;10336&nbsp;different&nbsp;hosts&nbsp;in&nbsp;Airbnb&nbsp;in&nbsp;Paris</span></span><br><span><span class="mtk1">listings_df</span><span class="mtk12">[</span><span class="mtk5">'host_name'</span><span class="mtk12">]</span><span class="mtk1">.nunique</span><span class="mtk12">()</span></span><br></pre></pre></div><colab-form class="formview vertical layout flex"><div class="widget-area vertical layout"></div></colab-form></div>
    <div class="output"><!----> <div class="output-header"> </div>
        <div class="output-content">
          <div class="output-info"><colab-output-info title="Clear output

executed at unknown time" hovering=""><template shadowrootmode="open"><!----> <md-icon class="collaborator account-circle" alt="Execution output" aria-hidden="true"><template shadowrootmode="open"><!----><slot></slot></template><!--?lit$0292179355$-->account_circle</md-icon>
      <!--?lit$0292179355$--> <mwc-icon-button icon="cancel" command="clear-focused-or-selected-outputs" alt="Clear output"><template shadowrootmode="open"><!----><button class="mdc-icon-button mdc-icon-button--display-flex" aria-label="cancel"><!--?lit$0292179355$-->
    <!--?lit$0292179355$--><i class="material-icons"><!--?lit$0292179355$-->cancel</i>
    <span><slot></slot></span>
  </button></template>
          </mwc-icon-button><!--?--></template></colab-output-info></div>
          <div class="output-iframe-container">
            <div class="output-iframe-sizer"> <div><div><colab-static-output-renderer tabindex="0" role="group"><div><div class="execute_result output_text"><pre>10336</pre></div></div><div></div></colab-static-output-renderer></div></div></div>
          </div>
        </div></div></div><colab-cell-next-steps><template shadowrootmode="open"><!----></template></colab-cell-next-steps></div></div><div class="add-cell">
      <hr>
    </div></div><div class="cell code code-has-output icon-scrolling" id="cell-eb9905e0" tabindex="-1" role="region" aria-label="Cell 21: Code cell: " style=""><div class="cell-tag-editor sticky"></div><div class="cell-toolbar sticky"></div><div class="main-content" elevation="0"><div class="cell-contents"><div class="cell-mask"></div><span class="imported-info-area"></span><div class="codecell-input-output">
      <div class="inputarea horizontal layout code">
        <div class="cell-gutter">
          <!-- Bounding range for vertical scrolling of icons -->
          <div class="cell-execution-container">
            <colab-run-button title="Run cell (Ctrl+Enter)
cell has not been executed in this session

executed at unknown time" role="button" aria-label="Run cell"><template shadowrootmode="open"><!----> <div class="cell-execution  stale ">
      <div class="execution-count"><!--?lit$0292179355$-->[ ]</div>
      <div class="cell-execution-indicator"> <!--?lit$0292179355$-->
<svg xmlns="http://www.w3.org/2000/svg" viewBox="0 0 24 24">
  <!--?lit$0292179355$-->
  <mask id="playSymbolMask">
    <rect width="100%" height="100%" fill="white"></rect>
    <polygon points="10,8 17,12 10,16" fill="black"></polygon>
  </mask>
  <circle cx="12" cy="12" r="7.8" mask="url(#playSymbolMask)" id="filledCircle"></circle>
</svg> </div>
      <!--?lit$0292179355$--><!--?-->
    </div></template></colab-run-button>
          </div>
        </div>
      <div class="editor flex lazy-editor" style=""><pre class="lazy-virtualized" style="font-size: 14px; line-height: 19px;"><pre class="lazy-gutter"></pre><pre class="monaco-colorized colab-dark colab-dark" data-lang="notebook-python"><span><span class="mtk1">listings_df.head</span><span class="mtk12">()</span></span><br></pre></pre></div><colab-form class="formview vertical layout flex"><div class="widget-area vertical layout"></div></colab-form></div>
    <div class="output"><!----> <div class="output-header"> </div>
        <div class="output-content">
          <div class="output-info"><colab-output-info title="Clear output

executed at unknown time" hovering=""><template shadowrootmode="open"><!----> <md-icon class="collaborator account-circle" alt="Execution output" aria-hidden="true"><template shadowrootmode="open"><!----><slot></slot></template><!--?lit$0292179355$-->account_circle</md-icon>
      <!--?lit$0292179355$--> <mwc-icon-button icon="cancel" command="clear-focused-or-selected-outputs" alt="Clear output"><template shadowrootmode="open"><!----><button class="mdc-icon-button mdc-icon-button--display-flex" aria-label="cancel"><!--?lit$0292179355$-->
    <!--?lit$0292179355$--><i class="material-icons"><!--?lit$0292179355$-->cancel</i>
    <span><slot></slot></span>
  </button></template>
          </mwc-icon-button><!--?--></template></colab-output-info></div>
          <div class="output-iframe-container">
            <div class="output-iframe-sizer"> <div style="height: 677px;"><div class="outputview" style="height: 677px;"><colab-dom-lifecycle-events style="display: none;"></colab-dom-lifecycle-events><iframe allow="" sandbox="allow-downloads allow-forms allow-pointer-lock allow-popups allow-same-origin allow-scripts allow-storage-access-by-user-activation allow-popups-to-escape-sandbox" src="./Airbnb_Paris__files/outputframe(3).html" class="" style="height: 677px;"></iframe></div></div></div>
          </div>
        </div></div></div><colab-cell-next-steps><template shadowrootmode="open"><!----></template></colab-cell-next-steps></div></div><div class="add-cell">
      <hr>
    </div></div><div class="cell code code-has-output icon-scrolling" id="cell-aaa18abd" tabindex="-1" role="region" aria-label="Cell 22: Code cell: " style=""><div class="cell-tag-editor sticky"></div><div class="cell-toolbar sticky"></div><div class="main-content" elevation="0"><div class="cell-contents"><div class="cell-mask"></div><span class="imported-info-area"></span><div class="codecell-input-output">
      <div class="inputarea horizontal layout code">
        <div class="cell-gutter">
          <!-- Bounding range for vertical scrolling of icons -->
          <div class="cell-execution-container">
            <colab-run-button title="Run cell (Ctrl+Enter)
cell has not been executed in this session

executed at unknown time" role="button" aria-label="Run cell"><template shadowrootmode="open"><!----> <div class="cell-execution  stale ">
      <div class="execution-count"><!--?lit$0292179355$-->[ ]</div>
      <div class="cell-execution-indicator"> <!--?lit$0292179355$-->
<svg xmlns="http://www.w3.org/2000/svg" viewBox="0 0 24 24">
  <!--?lit$0292179355$-->
  <mask id="playSymbolMask">
    <rect width="100%" height="100%" fill="white"></rect>
    <polygon points="10,8 17,12 10,16" fill="black"></polygon>
  </mask>
  <circle cx="12" cy="12" r="7.8" mask="url(#playSymbolMask)" id="filledCircle"></circle>
</svg> </div>
      <!--?lit$0292179355$--><!--?-->
    </div></template></colab-run-button>
          </div>
        </div>
      <div class="editor flex lazy-editor" style=""><pre class="lazy-virtualized" style="font-size: 14px; line-height: 19px;"><pre class="lazy-gutter"></pre><pre class="monaco-colorized colab-dark colab-dark" data-lang="notebook-python"><span><span class="mtk8">#&nbsp;The&nbsp;'calculated_host_listings_count'&nbsp;represents&nbsp;</span><span class="mtk8">how&nbsp;many&nbsp;listings&nbsp;a&nbsp;given&nbsp;host&nbsp;has.</span></span><br><span><span class="mtk1">lph_dict&nbsp;=&nbsp;</span><span class="mtk12">{</span><span class="mtk5">'calculated_host_listings_count'</span><span class="mtk12">:</span><span class="mtk1">&nbsp;</span><span class="mtk5">'listings_per_host'</span><span class="mtk12">}</span></span><br><span><span class="mtk1">listings_df.rename</span><span class="mtk12">(</span><span class="mtk1">columns=lph_dict</span><span class="mtk12">,</span><span class="mtk1">&nbsp;inplace=</span><span class="mtk9">True</span><span class="mtk12">)</span></span><br><span><span class="mtk1">listings_df</span><span class="mtk12">[</span><span class="mtk1">listings_df</span><span class="mtk12">[</span><span class="mtk5">'listings_per_host'</span><span class="mtk12">]</span><span class="mtk1">&nbsp;&lt;&nbsp;</span><span class="mtk6">2</span><span class="mtk12">]</span></span><br></pre></pre></div><colab-form class="formview vertical layout flex"><div class="widget-area vertical layout"></div></colab-form></div>
    <div class="output"><!----> <div class="output-header"> </div>
        <div class="output-content">
          <div class="output-info"><colab-output-info title="Clear output

executed at unknown time" hovering=""><template shadowrootmode="open"><!----> <md-icon class="collaborator account-circle" alt="Execution output" aria-hidden="true"><template shadowrootmode="open"><!----><slot></slot></template><!--?lit$0292179355$-->account_circle</md-icon>
      <!--?lit$0292179355$--> <mwc-icon-button icon="cancel" command="clear-focused-or-selected-outputs" alt="Clear output"><template shadowrootmode="open"><!----><button class="mdc-icon-button mdc-icon-button--display-flex" aria-label="cancel"><!--?lit$0292179355$-->
    <!--?lit$0292179355$--><i class="material-icons"><!--?lit$0292179355$-->cancel</i>
    <span><slot></slot></span>
  </button></template>
          </mwc-icon-button><!--?--></template></colab-output-info></div>
          <div class="output-iframe-container">
            <div class="output-iframe-sizer"> <div style="height: 1000px;"><div class="outputview" style="height: 1000px;"><colab-dom-lifecycle-events style="display: none;"></colab-dom-lifecycle-events><iframe allow="" sandbox="allow-downloads allow-forms allow-pointer-lock allow-popups allow-same-origin allow-scripts allow-storage-access-by-user-activation allow-popups-to-escape-sandbox" src="./Airbnb_Paris__files/outputframe(4).html" class="" style="height: 1000px;"></iframe></div></div></div>
          </div>
        </div></div></div><colab-cell-next-steps><template shadowrootmode="open"><!----></template></colab-cell-next-steps></div></div><div class="add-cell">
      <hr>
    </div></div><div class="cell code code-has-output icon-scrolling" id="cell-Dd5ygrg1Rw77" tabindex="-1" role="region" aria-label="Cell 23: Code cell: " style=""><div class="cell-tag-editor sticky"></div><div class="cell-toolbar sticky"></div><div class="main-content" elevation="0"><div class="cell-contents"><div class="cell-mask"></div><span class="imported-info-area"></span><div class="codecell-input-output">
      <div class="inputarea horizontal layout code">
        <div class="cell-gutter">
          <!-- Bounding range for vertical scrolling of icons -->
          <div class="cell-execution-container">
            <colab-run-button title="Run cell (Ctrl+Enter)
cell has not been executed in this session

executed at unknown time" role="button" aria-label="Run cell"><template shadowrootmode="open"><!----> <div class="cell-execution  stale ">
      <div class="execution-count"><!--?lit$0292179355$-->[ ]</div>
      <div class="cell-execution-indicator"> <!--?lit$0292179355$-->
<svg xmlns="http://www.w3.org/2000/svg" viewBox="0 0 24 24">
  <!--?lit$0292179355$-->
  <mask id="playSymbolMask">
    <rect width="100%" height="100%" fill="white"></rect>
    <polygon points="10,8 17,12 10,16" fill="black"></polygon>
  </mask>
  <circle cx="12" cy="12" r="7.8" mask="url(#playSymbolMask)" id="filledCircle"></circle>
</svg> </div>
      <!--?lit$0292179355$--><!--?-->
    </div></template></colab-run-button>
          </div>
        </div>
      <div class="editor flex lazy-editor" style=""><pre class="lazy-virtualized" style="font-size: 14px; line-height: 19px;"><pre class="lazy-gutter"></pre><pre class="monaco-colorized colab-dark colab-dark" data-lang="notebook-python"><span><span class="mtk8">#&nbsp;Get&nbsp;the&nbsp;top&nbsp;10&nbsp;neighborhoods&nbsp;by&nbsp;listing&nbsp;count</span></span><br><span><span class="mtk1">top_10_neigbourhoods&nbsp;=&nbsp;listings_df</span><span class="mtk12">[</span><span class="mtk5">'neighbourhood'</span><span class="mtk12">]</span><span class="mtk1">.value_counts</span><span class="mtk12">()</span><span class="mtk1">.nlargest</span><span class="mtk12">(</span><span class="mtk6">10</span><span class="mtk12">)</span></span><br><span><span></span></span><br><span><span class="mtk8">#&nbsp;Create&nbsp;a&nbsp;list&nbsp;of&nbsp;colors&nbsp;to&nbsp;use&nbsp;for&nbsp;the&nbsp;bars</span></span><br><span><span class="mtk1">colors&nbsp;=&nbsp;</span><span class="mtk12">[</span><span class="mtk5">'#441B04'</span><span class="mtk12">,</span><span class="mtk1">&nbsp;</span><span class="mtk5">'#893508'</span><span class="mtk12">,</span><span class="mtk1">&nbsp;</span><span class="mtk5">'#CD500C'</span><span class="mtk12">,</span><span class="mtk1">&nbsp;</span><span class="mtk5">'#F3732F'</span><span class="mtk12">,</span><span class="mtk1">&nbsp;</span><span class="mtk5">'#F7A173'</span><span class="mtk12">,</span><span class="mtk1">&nbsp;</span><span class="mtk5">'#F8B48F'</span><span class="mtk12">,</span><span class="mtk1">&nbsp;</span><span class="mtk5">'#FAC7AB'</span><span class="mtk12">,</span><span class="mtk1">&nbsp;</span><span class="mtk5">'#FAC7AB'</span><span class="mtk12">,</span><span class="mtk1">&nbsp;</span><span class="mtk5">'#FDE3D5'</span><span class="mtk12">,</span><span class="mtk1">&nbsp;</span><span class="mtk5">'#FEF6F1'</span><span class="mtk12">]</span></span><br><span><span></span></span><br><span><span class="mtk8">#&nbsp;Create&nbsp;a&nbsp;bar&nbsp;plot&nbsp;of&nbsp;the&nbsp;top&nbsp;10&nbsp;neighborhoods&nbsp;us</span><span class="mtk8">ing&nbsp;the&nbsp;specified&nbsp;colors</span></span><br><span><span class="mtk1">top_10_neigbourhoods.plot</span><span class="mtk12">(</span><span class="mtk1">kind=</span><span class="mtk5">'bar'</span><span class="mtk12">,</span><span class="mtk1">&nbsp;figsize=</span><span class="mtk12">(</span><span class="mtk6">6</span><span class="mtk12">,</span><span class="mtk1">&nbsp;</span><span class="mtk6">4</span><span class="mtk12">),</span><span class="mtk1">&nbsp;color&nbsp;=&nbsp;colors</span><span class="mtk12">)</span></span><br><span><span></span></span><br><span><span class="mtk8">#&nbsp;Set&nbsp;the&nbsp;x-axis&nbsp;label</span></span><br><span><span class="mtk1">plt.xlabel</span><span class="mtk12">(</span><span class="mtk5">'Neighbourhood'</span><span class="mtk12">,</span><span class="mtk1">&nbsp;fontsize=</span><span class="mtk6">14</span><span class="mtk12">)</span></span><br><span><span></span></span><br><span><span class="mtk8">#&nbsp;Set&nbsp;the&nbsp;y-axis&nbsp;label</span></span><br><span><span class="mtk1">plt.ylabel</span><span class="mtk12">(</span><span class="mtk5">'Total&nbsp;Listing&nbsp;Counts'</span><span class="mtk12">,</span><span class="mtk1">&nbsp;fontsize=</span><span class="mtk6">14</span><span class="mtk12">)</span></span><br><span><span></span></span><br><span><span class="mtk8">#&nbsp;Set&nbsp;the&nbsp;title&nbsp;of&nbsp;the&nbsp;plot</span></span><br><span><span class="mtk1">plt.title</span><span class="mtk12">(</span><span class="mtk5">'Listings&nbsp;by&nbsp;The&nbsp;10&nbsp;Top&nbsp;Neighborhoods&nbsp;in&nbsp;Paris'</span><span class="mtk12">,</span><span class="mtk1">&nbsp;fontsize=</span><span class="mtk6">15</span><span class="mtk12">)</span></span><br></pre></pre></div><colab-form class="formview vertical layout flex"><div class="widget-area vertical layout"></div></colab-form></div>
    <div class="output"><!----> <div class="output-header"> </div>
        <div class="output-content">
          <div class="output-info"><colab-output-info title="Clear output

executed at unknown time" hovering=""><template shadowrootmode="open"><!----> <md-icon class="collaborator account-circle" alt="Execution output" aria-hidden="true"><template shadowrootmode="open"><!----><slot></slot></template><!--?lit$0292179355$-->account_circle</md-icon>
      <!--?lit$0292179355$--> <mwc-icon-button icon="cancel" command="clear-focused-or-selected-outputs" alt="Clear output"><template shadowrootmode="open"><!----><button class="mdc-icon-button mdc-icon-button--display-flex" aria-label="cancel"><!--?lit$0292179355$-->
    <!--?lit$0292179355$--><i class="material-icons"><!--?lit$0292179355$-->cancel</i>
    <span><slot></slot></span>
  </button></template>
          </mwc-icon-button><!--?--></template></colab-output-info></div>
          <div class="output-iframe-container">
            <div class="output-iframe-sizer"> <div style="height: 634px;"><div class="outputview" style="height: 635px;"><colab-dom-lifecycle-events style="display: none;"></colab-dom-lifecycle-events><iframe allow="" sandbox="allow-downloads allow-forms allow-pointer-lock allow-popups allow-same-origin allow-scripts allow-storage-access-by-user-activation allow-popups-to-escape-sandbox" src="./Airbnb_Paris__files/outputframe(5).html" class="" style="height: 635px;"></iframe></div></div></div>
          </div>
        </div></div></div><colab-cell-next-steps><template shadowrootmode="open"><!----></template></colab-cell-next-steps></div></div><div class="add-cell">
      <hr>
    </div></div><div class="cell text" id="cell-jWToBTzWNNZg" tabindex="-1" role="region" aria-label="Cell 24: Text cell: Reviews" style=""><div class="cell-tag-editor sticky"></div><div class="cell-toolbar sticky"></div><div class="main-content" elevation="0"><div class="cell-contents"><div class="cell-mask"></div><span class="imported-info-area"></span><!----> <div class="toolbar-root"></div>
      <div class="editor-container horizontal">
        <div class="editor-root"></div>
        <div class="text-top-div">
          <div class="markdown"><span><div class="text-cell-section-header layout horizontal center"><mwc-icon-button class="header-section-toggle" icon="keyboard_arrow_down" title="Collapse 11 child cells under Reviews (Press &lt;Shift&gt; to also collapse sibling sections)"><template shadowrootmode="open"><!----><button class="mdc-icon-button mdc-icon-button--display-flex" aria-label="keyboard_arrow_down"><!--?lit$0292179355$-->
    <!--?lit$0292179355$--><i class="material-icons"><!--?lit$0292179355$-->keyboard_arrow_down</i>
    <span><slot></slot></span>
  </button></template></mwc-icon-button><h2><strong>Reviews</strong></h2></div>
</span></div>
        </div>
      </div>

      <div class="section-header" style="display: none;">
        <colab-run-button role="button" aria-label="Run cell"><template shadowrootmode="open"><!----> <div class="cell-execution   ">
      <div class="execution-count"><!--?lit$0292179355$-->[ ]</div>
      <div class="cell-execution-indicator"> <!--?lit$0292179355$-->
<svg xmlns="http://www.w3.org/2000/svg" viewBox="0 0 24 24">
  <!--?lit$0292179355$-->
  <mask id="playSymbolMask">
    <rect width="100%" height="100%" fill="white"></rect>
    <polygon points="10,8 17,12 10,16" fill="black"></polygon>
  </mask>
  <circle cx="12" cy="12" r="7.8" mask="url(#playSymbolMask)" id="filledCircle"></circle>
</svg> </div>
      <!--?lit$0292179355$--><!--?-->
    </div></template></colab-run-button>
        <div class="section-header-container" title="click to expand">↳ 11 cells hidden</div>
      </div></div></div><div class="add-cell">
      <hr>
    </div></div><div class="cell code code-has-output icon-scrolling" id="cell-cd2012c7" tabindex="-1" role="region" aria-label="Cell 25: Code cell: " style=""><div class="cell-tag-editor sticky"></div><div class="cell-toolbar sticky"></div><div class="main-content" elevation="0"><div class="cell-contents"><div class="cell-mask"></div><span class="imported-info-area"></span><div class="codecell-input-output">
      <div class="inputarea horizontal layout code">
        <div class="cell-gutter">
          <!-- Bounding range for vertical scrolling of icons -->
          <div class="cell-execution-container">
            <colab-run-button title="Run cell (Ctrl+Enter)
cell has not been executed in this session

executed at unknown time" role="button" aria-label="Run cell"><template shadowrootmode="open"><!----> <div class="cell-execution  stale ">
      <div class="execution-count"><!--?lit$0292179355$-->[ ]</div>
      <div class="cell-execution-indicator"> <!--?lit$0292179355$-->
<svg xmlns="http://www.w3.org/2000/svg" viewBox="0 0 24 24">
  <!--?lit$0292179355$-->
  <mask id="playSymbolMask">
    <rect width="100%" height="100%" fill="white"></rect>
    <polygon points="10,8 17,12 10,16" fill="black"></polygon>
  </mask>
  <circle cx="12" cy="12" r="7.8" mask="url(#playSymbolMask)" id="filledCircle"></circle>
</svg> </div>
      <!--?lit$0292179355$--><!--?-->
    </div></template></colab-run-button>
          </div>
        </div>
      <div class="editor flex lazy-editor" style=""><pre class="lazy-virtualized" style="font-size: 14px; line-height: 19px;"><pre class="lazy-gutter"></pre><pre class="monaco-colorized colab-dark colab-dark" data-lang="notebook-python"><span><span class="mtk8">#&nbsp;Which&nbsp;type&nbsp;of&nbsp;room&nbsp;gets&nbsp;the&nbsp;most&nbsp;reviews</span></span><br><span><span class="mtk1">listings_df.groupby</span><span class="mtk12">(</span><span class="mtk5">'room_type'</span><span class="mtk12">)[</span><span class="mtk5">'number_of_reviews'</span><span class="mtk12">]</span><span class="mtk1">.mean</span><span class="mtk12">()</span></span><br></pre></pre></div><colab-form class="formview vertical layout flex"><div class="widget-area vertical layout"></div></colab-form></div>
    <div class="output"><!----> <div class="output-header"> </div>
        <div class="output-content">
          <div class="output-info"><colab-output-info title="Clear output

executed at unknown time" hovering=""><template shadowrootmode="open"><!----> <md-icon class="collaborator account-circle" alt="Execution output" aria-hidden="true"><template shadowrootmode="open"><!----><slot></slot></template><!--?lit$0292179355$-->account_circle</md-icon>
      <!--?lit$0292179355$--> <mwc-icon-button icon="cancel" command="clear-focused-or-selected-outputs" alt="Clear output"><template shadowrootmode="open"><!----><button class="mdc-icon-button mdc-icon-button--display-flex" aria-label="cancel"><!--?lit$0292179355$-->
    <!--?lit$0292179355$--><i class="material-icons"><!--?lit$0292179355$-->cancel</i>
    <span><slot></slot></span>
  </button></template>
          </mwc-icon-button><!--?--></template></colab-output-info></div>
          <div class="output-iframe-container">
            <div class="output-iframe-sizer"> <div><div><colab-static-output-renderer tabindex="0" role="group"><div><div class="execute_result output_text"><pre>room_type
Entire home/apt    21.565742
Hotel room         51.021739
Private room       32.077925
Shared room        34.784946
Name: number_of_reviews, dtype: float64</pre></div></div><div></div></colab-static-output-renderer></div></div></div>
          </div>
        </div></div></div><colab-cell-next-steps><template shadowrootmode="open"><!----></template></colab-cell-next-steps></div></div><div class="add-cell">
      <hr>
    </div></div><div class="cell code code-has-output icon-scrolling" id="cell-YJG5sxD9NjVS" tabindex="-1" role="region" aria-label="Cell 26: Code cell: " style=""><div class="cell-tag-editor sticky"></div><div class="cell-toolbar sticky"></div><div class="main-content" elevation="0"><div class="cell-contents"><div class="cell-mask"></div><span class="imported-info-area"></span><div class="codecell-input-output">
      <div class="inputarea horizontal layout code">
        <div class="cell-gutter">
          <!-- Bounding range for vertical scrolling of icons -->
          <div class="cell-execution-container">
            <colab-run-button title="Run cell (Ctrl+Enter)
cell has not been executed in this session

executed at unknown time" role="button" aria-label="Run cell"><template shadowrootmode="open"><!----> <div class="cell-execution  stale ">
      <div class="execution-count"><!--?lit$0292179355$-->[ ]</div>
      <div class="cell-execution-indicator"> <!--?lit$0292179355$-->
<svg xmlns="http://www.w3.org/2000/svg" viewBox="0 0 24 24">
  <!--?lit$0292179355$-->
  <mask id="playSymbolMask">
    <rect width="100%" height="100%" fill="white"></rect>
    <polygon points="10,8 17,12 10,16" fill="black"></polygon>
  </mask>
  <circle cx="12" cy="12" r="7.8" mask="url(#playSymbolMask)" id="filledCircle"></circle>
</svg> </div>
      <!--?lit$0292179355$--><!--?-->
    </div></template></colab-run-button>
          </div>
        </div>
      <div class="editor flex lazy-editor" style=""><pre class="lazy-virtualized" style="font-size: 14px; line-height: 19px;"><pre class="lazy-gutter"></pre><pre class="monaco-colorized colab-dark colab-dark" data-lang="notebook-python"><span><span class="mtk8">#&nbsp;Reviews&nbsp;per&nbsp;month</span></span><br><span><span class="mtk1">plt.figure</span><span class="mtk12">(</span><span class="mtk1">figsize=</span><span class="mtk12">(</span><span class="mtk6">6</span><span class="mtk12">,</span><span class="mtk1">&nbsp;</span><span class="mtk6">4</span><span class="mtk12">))</span></span><br><span><span class="mtk1">plt.hist</span><span class="mtk12">(</span><span class="mtk1">listings_df</span><span class="mtk12">[</span><span class="mtk5">'reviews_per_month'</span><span class="mtk12">],</span><span class="mtk1">&nbsp;color=</span><span class="mtk5">'#FF5A5F'</span><span class="mtk12">)</span></span><br><span><span class="mtk1">plt.title</span><span class="mtk12">(</span><span class="mtk5">'Distribution&nbsp;of&nbsp;Reviews&nbsp;per&nbsp;Month'</span><span class="mtk12">)</span></span><br><span><span class="mtk1">plt.xlabel</span><span class="mtk12">(</span><span class="mtk5">'Reviews&nbsp;per&nbsp;Month'</span><span class="mtk12">)</span></span><br><span><span class="mtk1">plt.ylabel</span><span class="mtk12">(</span><span class="mtk5">'Count'</span><span class="mtk12">);</span></span><br></pre></pre></div><colab-form class="formview vertical layout flex"><div class="widget-area vertical layout"></div></colab-form></div>
    <div class="output"><!----> <div class="output-header"> </div>
        <div class="output-content">
          <div class="output-info"><colab-output-info title="Clear output

executed at unknown time" hovering=""><template shadowrootmode="open"><!----> <md-icon class="collaborator account-circle" alt="Execution output" aria-hidden="true"><template shadowrootmode="open"><!----><slot></slot></template><!--?lit$0292179355$-->account_circle</md-icon>
      <!--?lit$0292179355$--> <mwc-icon-button icon="cancel" command="clear-focused-or-selected-outputs" alt="Clear output"><template shadowrootmode="open"><!----><button class="mdc-icon-button mdc-icon-button--display-flex" aria-label="cancel"><!--?lit$0292179355$-->
    <!--?lit$0292179355$--><i class="material-icons"><!--?lit$0292179355$-->cancel</i>
    <span><slot></slot></span>
  </button></template>
          </mwc-icon-button><!--?--></template></colab-output-info></div>
          <div class="output-iframe-container">
            <div class="output-iframe-sizer"> <div style="height: 443px;"><div class="outputview" style="height: 443px;"><colab-dom-lifecycle-events style="display: none;"></colab-dom-lifecycle-events><iframe allow="" sandbox="allow-downloads allow-forms allow-pointer-lock allow-popups allow-same-origin allow-scripts allow-storage-access-by-user-activation allow-popups-to-escape-sandbox" src="./Airbnb_Paris__files/outputframe(6).html" class="" style="height: 443px;"></iframe></div></div></div>
          </div>
        </div></div></div><colab-cell-next-steps><template shadowrootmode="open"><!----></template></colab-cell-next-steps></div></div><div class="add-cell">
      <hr>
    </div></div><div class="cell code code-has-output icon-scrolling" id="cell-288bd2df" tabindex="-1" role="region" aria-label="Cell 27: Code cell: " style=""><div class="cell-tag-editor sticky"></div><div class="cell-toolbar sticky"></div><div class="main-content" elevation="0"><div class="cell-contents"><div class="cell-mask"></div><span class="imported-info-area"></span><div class="codecell-input-output">
      <div class="inputarea horizontal layout code">
        <div class="cell-gutter">
          <!-- Bounding range for vertical scrolling of icons -->
          <div class="cell-execution-container">
            <colab-run-button title="Run cell (Ctrl+Enter)
cell has not been executed in this session

executed at unknown time" role="button" aria-label="Run cell"><template shadowrootmode="open"><!----> <div class="cell-execution  stale ">
      <div class="execution-count"><!--?lit$0292179355$-->[ ]</div>
      <div class="cell-execution-indicator"> <!--?lit$0292179355$-->
<svg xmlns="http://www.w3.org/2000/svg" viewBox="0 0 24 24">
  <!--?lit$0292179355$-->
  <mask id="playSymbolMask">
    <rect width="100%" height="100%" fill="white"></rect>
    <polygon points="10,8 17,12 10,16" fill="black"></polygon>
  </mask>
  <circle cx="12" cy="12" r="7.8" mask="url(#playSymbolMask)" id="filledCircle"></circle>
</svg> </div>
      <!--?lit$0292179355$--><!--?-->
    </div></template></colab-run-button>
          </div>
        </div>
      <div class="editor flex lazy-editor" style=""><pre class="lazy-virtualized" style="font-size: 14px; line-height: 19px;"><pre class="lazy-gutter"></pre><pre class="monaco-colorized colab-dark colab-dark" data-lang="notebook-python"><span><span class="mtk1">total_reviews&nbsp;=&nbsp;listings_df</span><span class="mtk12">[</span><span class="mtk5">'number_of_reviews'</span><span class="mtk12">]</span><span class="mtk1">.</span><span class="mtk15">sum</span><span class="mtk12">()</span></span><br><span><span class="mtk15">print</span><span class="mtk12">(</span><span class="mtk5">"Total&nbsp;number&nbsp;of&nbsp;reviews:"</span><span class="mtk12">,</span><span class="mtk1">&nbsp;total_reviews</span><span class="mtk12">)</span></span><br></pre></pre></div><colab-form class="formview vertical layout flex"><div class="widget-area vertical layout"></div></colab-form></div>
    <div class="output"><!----> <div class="output-header"> </div>
        <div class="output-content">
          <div class="output-info"><colab-output-info title="Clear output

executed at unknown time" hovering=""><template shadowrootmode="open"><!----> <md-icon class="collaborator account-circle" alt="Execution output" aria-hidden="true"><template shadowrootmode="open"><!----><slot></slot></template><!--?lit$0292179355$-->account_circle</md-icon>
      <!--?lit$0292179355$--> <mwc-icon-button icon="cancel" command="clear-focused-or-selected-outputs" alt="Clear output"><template shadowrootmode="open"><!----><button class="mdc-icon-button mdc-icon-button--display-flex" aria-label="cancel"><!--?lit$0292179355$-->
    <!--?lit$0292179355$--><i class="material-icons"><!--?lit$0292179355$-->cancel</i>
    <span><slot></slot></span>
  </button></template>
          </mwc-icon-button><!--?--></template></colab-output-info></div>
          <div class="output-iframe-container">
            <div class="output-iframe-sizer"> <div><div><colab-static-output-renderer tabindex="0" role="group"><div><div class="stream output_text"><pre>Total number of reviews: 1721452
</pre></div></div><div></div></colab-static-output-renderer></div></div></div>
          </div>
        </div></div></div><colab-cell-next-steps><template shadowrootmode="open"><!----></template></colab-cell-next-steps></div></div><div class="add-cell">
      <hr>
    </div></div><div class="cell code code-has-output icon-scrolling" id="cell-fV2cIh4Vs-kl" tabindex="-1" role="region" aria-label="Cell 28: Code cell: " style=""><div class="cell-tag-editor sticky"></div><div class="cell-toolbar sticky"></div><div class="main-content" elevation="0"><div class="cell-contents"><div class="cell-mask"></div><span class="imported-info-area"></span><div class="codecell-input-output">
      <div class="inputarea horizontal layout code">
        <div class="cell-gutter">
          <!-- Bounding range for vertical scrolling of icons -->
          <div class="cell-execution-container">
            <colab-run-button title="Run cell (Ctrl+Enter)
cell has not been executed in this session

executed at unknown time" role="button" aria-label="Run cell"><template shadowrootmode="open"><!----> <div class="cell-execution  stale ">
      <div class="execution-count"><!--?lit$0292179355$-->[ ]</div>
      <div class="cell-execution-indicator"> <!--?lit$0292179355$-->
<svg xmlns="http://www.w3.org/2000/svg" viewBox="0 0 24 24">
  <!--?lit$0292179355$-->
  <mask id="playSymbolMask">
    <rect width="100%" height="100%" fill="white"></rect>
    <polygon points="10,8 17,12 10,16" fill="black"></polygon>
  </mask>
  <circle cx="12" cy="12" r="7.8" mask="url(#playSymbolMask)" id="filledCircle"></circle>
</svg> </div>
      <!--?lit$0292179355$--><!--?-->
    </div></template></colab-run-button>
          </div>
        </div>
      <div class="editor flex lazy-editor" style=""><pre class="lazy-virtualized" style="font-size: 14px; line-height: 19px;"><pre class="lazy-gutter"></pre><pre class="monaco-colorized colab-dark colab-dark" data-lang="notebook-python"><span><span class="mtk8">#Group&nbsp;by&nbsp;host_id&nbsp;and&nbsp;calculate&nbsp;the&nbsp;total&nbsp;number&nbsp;o</span><span class="mtk8">f&nbsp;reviews&nbsp;for&nbsp;each&nbsp;host</span></span><br><span><span class="mtk1">host_reviews&nbsp;=&nbsp;listings_df.groupby</span><span class="mtk12">(</span><span class="mtk5">'host_id'</span><span class="mtk12">)[</span><span class="mtk5">'reviews_per_month'</span><span class="mtk12">]</span><span class="mtk1">.count</span><span class="mtk12">()</span><span class="mtk1">.reset_index</span><span class="mtk12">(</span><span class="mtk1">name=</span><span class="mtk5">'total_reviews'</span><span class="mtk12">)</span></span><br><span><span></span></span><br><span><span class="mtk8">#&nbsp;Sort&nbsp;the&nbsp;data&nbsp;to&nbsp;find&nbsp;the&nbsp;host&nbsp;with&nbsp;the&nbsp;most&nbsp;rev</span><span class="mtk8">iews</span></span><br><span><span class="mtk1">host_most_reviews&nbsp;=&nbsp;host_reviews.sort_values</span><span class="mtk12">(</span><span class="mtk1">by=</span><span class="mtk5">'total_reviews'</span><span class="mtk12">,</span><span class="mtk1">&nbsp;ascending=</span><span class="mtk9">False</span><span class="mtk12">)</span><span class="mtk1">.iloc</span><span class="mtk12">[</span><span class="mtk6">0</span><span class="mtk12">]</span></span><br><span><span></span></span><br><span><span class="mtk8">#&nbsp;Retrieve&nbsp;the&nbsp;host&nbsp;with&nbsp;the&nbsp;most&nbsp;reviews</span></span><br><span><span class="mtk1">most_reviews_host_id&nbsp;=&nbsp;host_most_reviews</span><span class="mtk12">[</span><span class="mtk5">'host_id'</span><span class="mtk12">]</span></span><br><span><span class="mtk1">most_reviews_count&nbsp;=&nbsp;host_most_reviews</span><span class="mtk12">[</span><span class="mtk5">'total_reviews'</span><span class="mtk12">]</span></span><br><span><span></span></span><br><span><span class="mtk15">print</span><span class="mtk12">(</span><span class="mtk9">f</span><span class="mtk5">"The&nbsp;host&nbsp;with&nbsp;ID&nbsp;</span><span class="mtk12">{</span><span class="mtk1">most_reviews_host_id</span><span class="mtk12">}</span><span class="mtk5">&nbsp;received&nbsp;the&nbsp;most&nbsp;reviews:&nbsp;</span><span class="mtk12">{</span><span class="mtk1">most_reviews_count</span><span class="mtk12">}</span><span class="mtk5">&nbsp;reviews."</span><span class="mtk12">)</span></span><br><span><span></span></span><br></pre></pre></div><colab-form class="formview vertical layout flex"><div class="widget-area vertical layout"></div></colab-form></div>
    <div class="output"><!----> <div class="output-header"> </div>
        <div class="output-content">
          <div class="output-info"><colab-output-info title="Clear output

executed at unknown time" hovering=""><template shadowrootmode="open"><!----> <md-icon class="collaborator account-circle" alt="Execution output" aria-hidden="true"><template shadowrootmode="open"><!----><slot></slot></template><!--?lit$0292179355$-->account_circle</md-icon>
      <!--?lit$0292179355$--> <mwc-icon-button icon="cancel" command="clear-focused-or-selected-outputs" alt="Clear output"><template shadowrootmode="open"><!----><button class="mdc-icon-button mdc-icon-button--display-flex" aria-label="cancel"><!--?lit$0292179355$-->
    <!--?lit$0292179355$--><i class="material-icons"><!--?lit$0292179355$-->cancel</i>
    <span><slot></slot></span>
  </button></template>
          </mwc-icon-button><!--?--></template></colab-output-info></div>
          <div class="output-iframe-container">
            <div class="output-iframe-sizer"> <div><div><colab-static-output-renderer tabindex="0" role="group"><div><div class="stream output_text"><pre>The host with ID 50502817 received the most reviews: 320 reviews.
</pre></div></div><div></div></colab-static-output-renderer></div></div></div>
          </div>
        </div></div></div><colab-cell-next-steps><template shadowrootmode="open"><!----></template></colab-cell-next-steps></div></div><div class="add-cell">
      <hr>
    </div></div><div class="cell code code-has-output icon-scrolling" id="cell-d9a105a8" tabindex="-1" role="region" aria-label="Cell 29: Code cell: " style=""><div class="cell-tag-editor sticky"></div><div class="cell-toolbar sticky"></div><div class="main-content" elevation="0"><div class="cell-contents"><div class="cell-mask"></div><span class="imported-info-area"></span><div class="codecell-input-output">
      <div class="inputarea horizontal layout code">
        <div class="cell-gutter">
          <!-- Bounding range for vertical scrolling of icons -->
          <div class="cell-execution-container">
            <colab-run-button title="Run cell (Ctrl+Enter)
cell has not been executed in this session

executed at unknown time" role="button" aria-label="Run cell"><template shadowrootmode="open"><!----> <div class="cell-execution  stale ">
      <div class="execution-count"><!--?lit$0292179355$-->[ ]</div>
      <div class="cell-execution-indicator"> <!--?lit$0292179355$-->
<svg xmlns="http://www.w3.org/2000/svg" viewBox="0 0 24 24">
  <!--?lit$0292179355$-->
  <mask id="playSymbolMask">
    <rect width="100%" height="100%" fill="white"></rect>
    <polygon points="10,8 17,12 10,16" fill="black"></polygon>
  </mask>
  <circle cx="12" cy="12" r="7.8" mask="url(#playSymbolMask)" id="filledCircle"></circle>
</svg> </div>
      <!--?lit$0292179355$--><!--?-->
    </div></template></colab-run-button>
          </div>
        </div>
      <div class="editor flex lazy-editor" style=""><pre class="lazy-virtualized" style="font-size: 14px; line-height: 19px;"><pre class="lazy-gutter"></pre><pre class="monaco-colorized colab-dark colab-dark" data-lang="notebook-python"><span><span class="mtk1">temp_df&nbsp;=&nbsp;</span><span class="mtk12">[</span><span class="mtk5">'host_id'</span><span class="mtk12">]</span><span class="mtk1">==</span><span class="mtk6">50502817</span></span><br><span><span class="mtk1">listings_df.rename</span><span class="mtk12">(</span><span class="mtk1">columns=lph_dict</span><span class="mtk12">,</span><span class="mtk1">&nbsp;inplace=</span><span class="mtk9">True</span><span class="mtk12">)</span></span><br><span><span class="mtk1">listings_df</span><span class="mtk12">[</span><span class="mtk1">listings_df</span><span class="mtk12">[</span><span class="mtk5">'host_id'</span><span class="mtk12">]</span><span class="mtk1">==</span><span class="mtk6">50502817</span><span class="mtk12">]</span></span><br></pre></pre></div><colab-form class="formview vertical layout flex"><div class="widget-area vertical layout"></div></colab-form></div>
    <div class="output"><!----> <div class="output-header"> </div>
        <div class="output-content">
          <div class="output-info"><colab-output-info title="Clear output

executed at unknown time" hovering=""><template shadowrootmode="open"><!----> <md-icon class="collaborator account-circle" alt="Execution output" aria-hidden="true"><template shadowrootmode="open"><!----><slot></slot></template><!--?lit$0292179355$-->account_circle</md-icon>
      <!--?lit$0292179355$--> <mwc-icon-button icon="cancel" command="clear-focused-or-selected-outputs" alt="Clear output"><template shadowrootmode="open"><!----><button class="mdc-icon-button mdc-icon-button--display-flex" aria-label="cancel"><!--?lit$0292179355$-->
    <!--?lit$0292179355$--><i class="material-icons"><!--?lit$0292179355$-->cancel</i>
    <span><slot></slot></span>
  </button></template>
          </mwc-icon-button><!--?--></template></colab-output-info></div>
          <div class="output-iframe-container">
            <div class="output-iframe-sizer"> <div style="height: 1000px;"><div class="outputview" style="height: 1000px;"><colab-dom-lifecycle-events style="display: none;"></colab-dom-lifecycle-events><iframe allow="" sandbox="allow-downloads allow-forms allow-pointer-lock allow-popups allow-same-origin allow-scripts allow-storage-access-by-user-activation allow-popups-to-escape-sandbox" src="./Airbnb_Paris__files/outputframe(7).html" class="" style="height: 1000px;"></iframe></div></div></div>
          </div>
        </div></div></div><colab-cell-next-steps><template shadowrootmode="open"><!----></template></colab-cell-next-steps></div></div><div class="add-cell">
      <hr>
    </div></div><div class="cell code icon-scrolling" id="cell-817cae49" tabindex="-1" role="region" aria-label="Cell 30: Code cell: " style=""><div class="cell-tag-editor sticky"></div><div class="cell-toolbar sticky"></div><div class="main-content" elevation="0"><div class="cell-contents"><div class="cell-mask"></div><span class="imported-info-area"></span><div class="codecell-input-output">
      <div class="inputarea horizontal layout code">
        <div class="cell-gutter">
          <!-- Bounding range for vertical scrolling of icons -->
          <div class="cell-execution-container">
            <colab-run-button title="Run cell (Ctrl+Enter)
cell has not been executed in this session" role="button" aria-label="Run cell"><template shadowrootmode="open"><!----> <div class="cell-execution  stale ">
      <div class="execution-count"><!--?lit$0292179355$-->[ ]</div>
      <div class="cell-execution-indicator"> <!--?lit$0292179355$-->
<svg xmlns="http://www.w3.org/2000/svg" viewBox="0 0 24 24">
  <!--?lit$0292179355$-->
  <mask id="playSymbolMask">
    <rect width="100%" height="100%" fill="white"></rect>
    <polygon points="10,8 17,12 10,16" fill="black"></polygon>
  </mask>
  <circle cx="12" cy="12" r="7.8" mask="url(#playSymbolMask)" id="filledCircle"></circle>
</svg> </div>
      <!--?lit$0292179355$--><!--?-->
    </div></template></colab-run-button>
          </div>
        </div>
      <div class="editor flex lazy-editor" style=""><pre class="lazy-virtualized" style="font-size: 14px; line-height: 19px;"><pre class="lazy-gutter"></pre><pre class="monaco-colorized colab-dark colab-dark" data-lang="notebook-python"><span><span class="mtk1">temp_df&nbsp;=&nbsp;listings_df</span><span class="mtk12">[</span><span class="mtk1">listings_df</span><span class="mtk12">[</span><span class="mtk5">'listings_per_host'</span><span class="mtk12">]</span><span class="mtk1">&nbsp;==&nbsp;</span><span class="mtk6">50502817</span><span class="mtk12">]</span></span><br></pre></pre></div><colab-form class="formview vertical layout flex"><div class="widget-area vertical layout"></div></colab-form></div>
    <div class="output"><!----> <div class="output-header"> </div>
        <div class="output-content" style="display: none;">
          <div class="output-info"> </div>
          <div class="output-iframe-container">
            <div class="output-iframe-sizer"> </div>
          </div>
        </div></div></div><colab-cell-next-steps><template shadowrootmode="open"><!----></template></colab-cell-next-steps></div></div><div class="add-cell">
      <hr>
    </div></div><div class="cell code code-has-output icon-scrolling" id="cell-16edd4a3" tabindex="-1" role="region" aria-label="Cell 31: Code cell: " style=""><div class="cell-tag-editor sticky"></div><div class="cell-toolbar sticky"></div><div class="main-content" elevation="0"><div class="cell-contents"><div class="cell-mask"></div><span class="imported-info-area"></span><div class="codecell-input-output">
      <div class="inputarea horizontal layout code">
        <div class="cell-gutter">
          <!-- Bounding range for vertical scrolling of icons -->
          <div class="cell-execution-container">
            <colab-run-button title="Run cell (Ctrl+Enter)
cell has not been executed in this session

executed at unknown time" role="button" aria-label="Run cell"><template shadowrootmode="open"><!----> <div class="cell-execution  stale ">
      <div class="execution-count"><!--?lit$0292179355$-->[ ]</div>
      <div class="cell-execution-indicator"> <!--?lit$0292179355$-->
<svg xmlns="http://www.w3.org/2000/svg" viewBox="0 0 24 24">
  <!--?lit$0292179355$-->
  <mask id="playSymbolMask">
    <rect width="100%" height="100%" fill="white"></rect>
    <polygon points="10,8 17,12 10,16" fill="black"></polygon>
  </mask>
  <circle cx="12" cy="12" r="7.8" mask="url(#playSymbolMask)" id="filledCircle"></circle>
</svg> </div>
      <!--?lit$0292179355$--><!--?-->
    </div></template></colab-run-button>
          </div>
        </div>
      <div class="editor flex lazy-editor" style=""><pre class="lazy-virtualized" style="font-size: 14px; line-height: 19px;"><pre class="lazy-gutter"></pre><pre class="monaco-colorized colab-dark colab-dark" data-lang="notebook-python"><span><span class="mtk1">temp_df.columns</span></span><br></pre></pre></div><colab-form class="formview vertical layout flex"><div class="widget-area vertical layout"></div></colab-form></div>
    <div class="output"><!----> <div class="output-header"> </div>
        <div class="output-content">
          <div class="output-info"><colab-output-info title="Clear output

executed at unknown time" hovering=""><template shadowrootmode="open"><!----> <md-icon class="collaborator account-circle" alt="Execution output" aria-hidden="true"><template shadowrootmode="open"><!----><slot></slot></template><!--?lit$0292179355$-->account_circle</md-icon>
      <!--?lit$0292179355$--> <mwc-icon-button icon="cancel" command="clear-focused-or-selected-outputs" alt="Clear output"><template shadowrootmode="open"><!----><button class="mdc-icon-button mdc-icon-button--display-flex" aria-label="cancel"><!--?lit$0292179355$-->
    <!--?lit$0292179355$--><i class="material-icons"><!--?lit$0292179355$-->cancel</i>
    <span><slot></slot></span>
  </button></template>
          </mwc-icon-button><!--?--></template></colab-output-info></div>
          <div class="output-iframe-container">
            <div class="output-iframe-sizer"> <div><div><colab-static-output-renderer tabindex="0" role="group"><div><div class="execute_result output_text"><pre>Index(['id', 'name', 'host_id', 'host_name', 'neighbourhood_group',
       'neighbourhood', 'latitude', 'longitude', 'room_type', 'price',
       'minimum_nights', 'number_of_reviews', 'last_review',
       'reviews_per_month', 'listings_per_host', 'availability_365',
       'number_of_reviews_ltm', 'license'],
      dtype='object')</pre></div></div><div></div></colab-static-output-renderer></div></div></div>
          </div>
        </div></div></div><colab-cell-next-steps><template shadowrootmode="open"><!----></template></colab-cell-next-steps></div></div><div class="add-cell">
      <hr>
    </div></div><div class="cell code code-has-output icon-scrolling" id="cell-c09d0cc0" tabindex="-1" role="region" aria-label="Cell 32: Code cell: " style=""><div class="cell-tag-editor sticky"></div><div class="cell-toolbar sticky"></div><div class="main-content" elevation="0"><div class="cell-contents"><div class="cell-mask"></div><span class="imported-info-area"></span><div class="codecell-input-output">
      <div class="inputarea horizontal layout code">
        <div class="cell-gutter">
          <!-- Bounding range for vertical scrolling of icons -->
          <div class="cell-execution-container">
            <colab-run-button title="Run cell (Ctrl+Enter)
cell has not been executed in this session

executed at unknown time" role="button" aria-label="Run cell"><template shadowrootmode="open"><!----> <div class="cell-execution  stale ">
      <div class="execution-count"><!--?lit$0292179355$-->[ ]</div>
      <div class="cell-execution-indicator"> <!--?lit$0292179355$-->
<svg xmlns="http://www.w3.org/2000/svg" viewBox="0 0 24 24">
  <!--?lit$0292179355$-->
  <mask id="playSymbolMask">
    <rect width="100%" height="100%" fill="white"></rect>
    <polygon points="10,8 17,12 10,16" fill="black"></polygon>
  </mask>
  <circle cx="12" cy="12" r="7.8" mask="url(#playSymbolMask)" id="filledCircle"></circle>
</svg> </div>
      <!--?lit$0292179355$--><!--?-->
    </div></template></colab-run-button>
          </div>
        </div>
      <div class="editor flex lazy-editor" style=""><pre class="lazy-virtualized" style="font-size: 14px; line-height: 19px;"><pre class="lazy-gutter"></pre><pre class="monaco-colorized colab-dark colab-dark" data-lang="notebook-python"><span><span class="mtk8">#&nbsp;Create&nbsp;new&nbsp;variable&nbsp;for&nbsp;distribution&nbsp;of&nbsp;listings</span><span class="mtk8">&nbsp;per&nbsp;host</span></span><br><span><span class="mtk8">#&nbsp;Listings.groupby('host_id')['id'].count()</span></span><br><span><span class="mtk1">listings_df</span><span class="mtk12">[</span><span class="mtk5">'listings_per_host'</span><span class="mtk12">]</span></span><br></pre></pre></div><colab-form class="formview vertical layout flex"><div class="widget-area vertical layout"></div></colab-form></div>
    <div class="output"><!----> <div class="output-header"> </div>
        <div class="output-content">
          <div class="output-info"><colab-output-info title="Clear output

executed at unknown time" hovering=""><template shadowrootmode="open"><!----> <md-icon class="collaborator account-circle" alt="Execution output" aria-hidden="true"><template shadowrootmode="open"><!----><slot></slot></template><!--?lit$0292179355$-->account_circle</md-icon>
      <!--?lit$0292179355$--> <mwc-icon-button icon="cancel" command="clear-focused-or-selected-outputs" alt="Clear output"><template shadowrootmode="open"><!----><button class="mdc-icon-button mdc-icon-button--display-flex" aria-label="cancel"><!--?lit$0292179355$-->
    <!--?lit$0292179355$--><i class="material-icons"><!--?lit$0292179355$-->cancel</i>
    <span><slot></slot></span>
  </button></template>
          </mwc-icon-button><!--?--></template></colab-output-info></div>
          <div class="output-iframe-container">
            <div class="output-iframe-sizer"> <div><div><colab-static-output-renderer tabindex="0" role="group"><div><div class="execute_result output_text"><pre>0          1
1          2
2          7
3          1
4          1
        ... 
74324      1
74325      1
74326    121
74327     30
74328      9
Name: listings_per_host, Length: 74329, dtype: int64</pre></div></div><div></div></colab-static-output-renderer></div></div></div>
          </div>
        </div></div></div><colab-cell-next-steps><template shadowrootmode="open"><!----></template></colab-cell-next-steps></div></div><div class="add-cell">
      <hr>
    </div></div><div class="cell code code-has-output icon-scrolling" id="cell-5abe8784" tabindex="-1" role="region" aria-label="Cell 33: Code cell: " style=""><div class="cell-tag-editor sticky"></div><div class="cell-toolbar sticky"></div><div class="main-content" elevation="0"><div class="cell-contents"><div class="cell-mask"></div><span class="imported-info-area"></span><div class="codecell-input-output">
      <div class="inputarea horizontal layout code">
        <div class="cell-gutter">
          <!-- Bounding range for vertical scrolling of icons -->
          <div class="cell-execution-container">
            <colab-run-button title="Run cell (Ctrl+Enter)
cell has not been executed in this session

executed at unknown time" role="button" aria-label="Run cell"><template shadowrootmode="open"><!----> <div class="cell-execution  stale ">
      <div class="execution-count"><!--?lit$0292179355$-->[ ]</div>
      <div class="cell-execution-indicator"> <!--?lit$0292179355$-->
<svg xmlns="http://www.w3.org/2000/svg" viewBox="0 0 24 24">
  <!--?lit$0292179355$-->
  <mask id="playSymbolMask">
    <rect width="100%" height="100%" fill="white"></rect>
    <polygon points="10,8 17,12 10,16" fill="black"></polygon>
  </mask>
  <circle cx="12" cy="12" r="7.8" mask="url(#playSymbolMask)" id="filledCircle"></circle>
</svg> </div>
      <!--?lit$0292179355$--><!--?-->
    </div></template></colab-run-button>
          </div>
        </div>
      <div class="editor flex lazy-editor" style=""><pre class="lazy-virtualized" style="font-size: 14px; line-height: 19px;"><pre class="lazy-gutter"></pre><pre class="monaco-colorized colab-dark colab-dark" data-lang="notebook-python"><span><span class="mtk1">average_listings_per_host&nbsp;=&nbsp;listings_df.groupby</span><span class="mtk12">(</span><span class="mtk5">'host_id'</span><span class="mtk12">)[</span><span class="mtk5">'id'</span><span class="mtk12">]</span><span class="mtk1">.count</span><span class="mtk12">()</span><span class="mtk1">.mean</span><span class="mtk12">()</span></span><br><span><span class="mtk15">print</span><span class="mtk12">(</span><span class="mtk5">"Average&nbsp;number&nbsp;of&nbsp;listings&nbsp;per&nbsp;host:"</span><span class="mtk12">,</span><span class="mtk1">&nbsp;average_listings_per_host</span><span class="mtk12">)</span></span><br></pre></pre></div><colab-form class="formview vertical layout flex"><div class="widget-area vertical layout"></div></colab-form></div>
    <div class="output"><!----> <div class="output-header"> </div>
        <div class="output-content">
          <div class="output-info"><colab-output-info title="Clear output

executed at unknown time" hovering=""><template shadowrootmode="open"><!----> <md-icon class="collaborator account-circle" alt="Execution output" aria-hidden="true"><template shadowrootmode="open"><!----><slot></slot></template><!--?lit$0292179355$-->account_circle</md-icon>
      <!--?lit$0292179355$--> <mwc-icon-button icon="cancel" command="clear-focused-or-selected-outputs" alt="Clear output"><template shadowrootmode="open"><!----><button class="mdc-icon-button mdc-icon-button--display-flex" aria-label="cancel"><!--?lit$0292179355$-->
    <!--?lit$0292179355$--><i class="material-icons"><!--?lit$0292179355$-->cancel</i>
    <span><slot></slot></span>
  </button></template>
          </mwc-icon-button><!--?--></template></colab-output-info></div>
          <div class="output-iframe-container">
            <div class="output-iframe-sizer"> <div><div><colab-static-output-renderer tabindex="0" role="group"><div><div class="stream output_text"><pre>Average number of listings per host: 1.3514609356533756
</pre></div></div><div></div></colab-static-output-renderer></div></div></div>
          </div>
        </div></div></div><colab-cell-next-steps><template shadowrootmode="open"><!----></template></colab-cell-next-steps></div></div><div class="add-cell">
      <hr>
    </div></div><div class="cell code code-has-output icon-scrolling" id="cell-fzgO2YuaM2fQ" tabindex="-1" role="region" aria-label="Cell 34: Code cell: " style=""><div class="cell-tag-editor sticky"></div><div class="cell-toolbar sticky"></div><div class="main-content" elevation="0"><div class="cell-contents"><div class="cell-mask"></div><span class="imported-info-area"></span><div class="codecell-input-output">
      <div class="inputarea horizontal layout code">
        <div class="cell-gutter">
          <!-- Bounding range for vertical scrolling of icons -->
          <div class="cell-execution-container">
            <colab-run-button title="Run cell (Ctrl+Enter)
cell has not been executed in this session

executed at unknown time" role="button" aria-label="Run cell"><template shadowrootmode="open"><!----> <div class="cell-execution  stale ">
      <div class="execution-count"><!--?lit$0292179355$-->[ ]</div>
      <div class="cell-execution-indicator"> <!--?lit$0292179355$-->
<svg xmlns="http://www.w3.org/2000/svg" viewBox="0 0 24 24">
  <!--?lit$0292179355$-->
  <mask id="playSymbolMask">
    <rect width="100%" height="100%" fill="white"></rect>
    <polygon points="10,8 17,12 10,16" fill="black"></polygon>
  </mask>
  <circle cx="12" cy="12" r="7.8" mask="url(#playSymbolMask)" id="filledCircle"></circle>
</svg> </div>
      <!--?lit$0292179355$--><!--?-->
    </div></template></colab-run-button>
          </div>
        </div>
      <div class="editor flex lazy-editor" style=""><pre class="lazy-virtualized" style="font-size: 14px; line-height: 19px;"><pre class="lazy-gutter"></pre><pre class="monaco-colorized colab-dark colab-dark" data-lang="notebook-python"><span><span class="mtk8">#&nbsp;create&nbsp;a&nbsp;new&nbsp;DataFrame&nbsp;that&nbsp;displays&nbsp;the&nbsp;top&nbsp;10&nbsp;</span><span class="mtk8">hosts&nbsp;in&nbsp;the&nbsp;Airbnb&nbsp;Paris&nbsp;dataset&nbsp;based&nbsp;on&nbsp;the&nbsp;num</span><span class="mtk8">ber&nbsp;of&nbsp;listings&nbsp;each&nbsp;host&nbsp;has</span></span><br><span><span class="mtk1">top_10_hosts&nbsp;=&nbsp;listings_df</span><span class="mtk12">[</span><span class="mtk5">'host_name'</span><span class="mtk12">]</span><span class="mtk1">.value_counts</span><span class="mtk12">()[:</span><span class="mtk6">10</span><span class="mtk12">]</span><span class="mtk1">.reset_index</span><span class="mtk12">()</span></span><br><span><span></span></span><br><span><span class="mtk8">#&nbsp;rename&nbsp;the&nbsp;columns&nbsp;of&nbsp;the&nbsp;resulting&nbsp;DataFrame&nbsp;to</span><span class="mtk8">&nbsp;'host_name'&nbsp;and&nbsp;'Total_listings'</span></span><br><span><span class="mtk1">top_10_hosts.columns&nbsp;=&nbsp;</span><span class="mtk12">[</span><span class="mtk5">'host_name'</span><span class="mtk12">,</span><span class="mtk1">&nbsp;</span><span class="mtk5">'Total_listings'</span><span class="mtk12">]</span></span><br><span><span></span></span><br><span><span class="mtk8">#&nbsp;display&nbsp;the&nbsp;resulting&nbsp;DataFrame</span></span><br><span><span class="mtk1">top_10_hosts</span></span><br></pre></pre></div><colab-form class="formview vertical layout flex"><div class="widget-area vertical layout"></div></colab-form></div>
    <div class="output"><!----> <div class="output-header"> </div>
        <div class="output-content">
          <div class="output-info"><colab-output-info title="Clear output

executed at unknown time" hovering=""><template shadowrootmode="open"><!----> <md-icon class="collaborator account-circle" alt="Execution output" aria-hidden="true"><template shadowrootmode="open"><!----><slot></slot></template><!--?lit$0292179355$-->account_circle</md-icon>
      <!--?lit$0292179355$--> <mwc-icon-button icon="cancel" command="clear-focused-or-selected-outputs" alt="Clear output"><template shadowrootmode="open"><!----><button class="mdc-icon-button mdc-icon-button--display-flex" aria-label="cancel"><!--?lit$0292179355$-->
    <!--?lit$0292179355$--><i class="material-icons"><!--?lit$0292179355$-->cancel</i>
    <span><slot></slot></span>
  </button></template>
          </mwc-icon-button><!--?--></template></colab-output-info></div>
          <div class="output-iframe-container">
            <div class="output-iframe-sizer"> <div style="height: 363px;"><div class="outputview" style="height: 363px;"><colab-dom-lifecycle-events style="display: none;"></colab-dom-lifecycle-events><iframe allow="" sandbox="allow-downloads allow-forms allow-pointer-lock allow-popups allow-same-origin allow-scripts allow-storage-access-by-user-activation allow-popups-to-escape-sandbox" src="./Airbnb_Paris__files/outputframe(8).html" class="" style="height: 363px;"></iframe></div></div></div>
          </div>
        </div></div></div><colab-cell-next-steps><template shadowrootmode="open"><!----></template></colab-cell-next-steps></div></div><div class="add-cell">
      <hr>
    </div></div><div class="cell code code-has-output icon-scrolling" id="cell-6oYTvgBamh-i" tabindex="-1" role="region" aria-label="Cell 35: Code cell: " style=""><div class="cell-tag-editor sticky"></div><div class="cell-toolbar sticky"></div><div class="main-content" elevation="0"><div class="cell-contents"><div class="cell-mask"></div><span class="imported-info-area"></span><div class="codecell-input-output">
      <div class="inputarea horizontal layout code">
        <div class="cell-gutter">
          <!-- Bounding range for vertical scrolling of icons -->
          <div class="cell-execution-container">
            <colab-run-button title="Run cell (Ctrl+Enter)
cell has not been executed in this session

executed at unknown time" role="button" aria-label="Run cell"><template shadowrootmode="open"><!----> <div class="cell-execution  stale ">
      <div class="execution-count"><!--?lit$0292179355$-->[ ]</div>
      <div class="cell-execution-indicator"> <!--?lit$0292179355$-->
<svg xmlns="http://www.w3.org/2000/svg" viewBox="0 0 24 24">
  <!--?lit$0292179355$-->
  <mask id="playSymbolMask">
    <rect width="100%" height="100%" fill="white"></rect>
    <polygon points="10,8 17,12 10,16" fill="black"></polygon>
  </mask>
  <circle cx="12" cy="12" r="7.8" mask="url(#playSymbolMask)" id="filledCircle"></circle>
</svg> </div>
      <!--?lit$0292179355$--><!--?-->
    </div></template></colab-run-button>
          </div>
        </div>
      <div class="editor flex lazy-editor" style=""><pre class="lazy-virtualized" style="font-size: 14px; line-height: 19px;"><pre class="lazy-gutter"></pre><pre class="monaco-colorized colab-dark colab-dark" data-lang="notebook-python"><span><span class="mtk8">#&nbsp;Total&nbsp;Listings&nbsp;per&nbsp;host</span></span><br><span><span></span></span><br><span><span class="mtk8">#&nbsp;Define&nbsp;the&nbsp;data&nbsp;for&nbsp;the&nbsp;pie&nbsp;chart</span></span><br><span><span class="mtk1">sizes&nbsp;=&nbsp;top_10_hosts</span><span class="mtk12">[</span><span class="mtk5">"Total_listings"</span><span class="mtk12">]</span></span><br><span><span class="mtk1">labels&nbsp;=&nbsp;top_10_hosts</span><span class="mtk12">[</span><span class="mtk5">"host_name"</span><span class="mtk12">]</span></span><br><span><span></span></span><br><span><span class="mtk8">#&nbsp;Define&nbsp;the&nbsp;colors&nbsp;using&nbsp;the&nbsp;'RdYlGn'&nbsp;colormap</span></span><br><span><span class="mtk1">colors&nbsp;=&nbsp;plt.cm.RdYlGn</span><span class="mtk12">(</span><span class="mtk1">np.linspace</span><span class="mtk12">(</span><span class="mtk6">0</span><span class="mtk12">,</span><span class="mtk1">&nbsp;</span><span class="mtk6">1</span><span class="mtk12">,</span><span class="mtk1">&nbsp;</span><span class="mtk15">len</span><span class="mtk12">(</span><span class="mtk1">sizes</span><span class="mtk12">)))</span></span><br><span><span></span></span><br><span><span class="mtk8">#&nbsp;Create&nbsp;the&nbsp;pie&nbsp;chart</span></span><br><span><span class="mtk1">plt.pie</span><span class="mtk12">(</span><span class="mtk1">sizes</span><span class="mtk12">,</span><span class="mtk1">&nbsp;labels=labels</span><span class="mtk12">,</span><span class="mtk1">&nbsp;autopct=</span><span class="mtk5">"%.1f%%"</span><span class="mtk12">,</span><span class="mtk1">&nbsp;startangle=</span><span class="mtk6">90</span><span class="mtk12">,</span><span class="mtk1">&nbsp;colors=colors</span><span class="mtk12">)</span></span><br><span><span class="mtk1">plt.title</span><span class="mtk12">(</span><span class="mtk5">'Top&nbsp;10&nbsp;hosts&nbsp;in&nbsp;Paris'</span><span class="mtk12">,</span><span class="mtk1">&nbsp;fontsize=</span><span class="mtk6">15</span><span class="mtk12">)</span></span><br><span><span></span></span><br><span><span class="mtk1">plt.show</span><span class="mtk12">()</span></span><br></pre></pre></div><colab-form class="formview vertical layout flex"><div class="widget-area vertical layout"></div></colab-form></div>
    <div class="output"><!----> <div class="output-header"> </div>
        <div class="output-content">
          <div class="output-info"><colab-output-info title="Clear output

executed at unknown time" hovering=""><template shadowrootmode="open"><!----> <md-icon class="collaborator account-circle" alt="Execution output" aria-hidden="true"><template shadowrootmode="open"><!----><slot></slot></template><!--?lit$0292179355$-->account_circle</md-icon>
      <!--?lit$0292179355$--> <mwc-icon-button icon="cancel" command="clear-focused-or-selected-outputs" alt="Clear output"><template shadowrootmode="open"><!----><button class="mdc-icon-button mdc-icon-button--display-flex" aria-label="cancel"><!--?lit$0292179355$-->
    <!--?lit$0292179355$--><i class="material-icons"><!--?lit$0292179355$-->cancel</i>
    <span><slot></slot></span>
  </button></template>
          </mwc-icon-button><!--?--></template></colab-output-info></div>
          <div class="output-iframe-container">
            <div class="output-iframe-sizer"> <div style="height: 450px;"><div class="outputview" style="height: 450px;"><colab-dom-lifecycle-events style="display: none;"></colab-dom-lifecycle-events><iframe allow="" sandbox="allow-downloads allow-forms allow-pointer-lock allow-popups allow-same-origin allow-scripts allow-storage-access-by-user-activation allow-popups-to-escape-sandbox" src="./Airbnb_Paris__files/outputframe(9).html" class="" style="height: 450px;"></iframe></div></div></div>
          </div>
        </div></div></div><colab-cell-next-steps><template shadowrootmode="open"><!----></template></colab-cell-next-steps></div></div><div class="add-cell">
      <hr>
    </div></div><div class="cell text" id="cell-0E--VFgpuhTK" tabindex="-1" role="region" aria-label="Cell 36: Text cell: Listings Price" style=""><div class="cell-tag-editor sticky"></div><div class="cell-toolbar sticky"></div><div class="main-content" elevation="0"><div class="cell-contents"><div class="cell-mask"></div><span class="imported-info-area"></span><!----> <div class="toolbar-root"></div>
      <div class="editor-container horizontal">
        <div class="editor-root"></div>
        <div class="text-top-div">
          <div class="markdown"><span><div class="text-cell-section-header layout horizontal center"><mwc-icon-button class="header-section-toggle" icon="keyboard_arrow_down" title="Collapse 12 child cells under Listings Price (Press &lt;Shift&gt; to also collapse sibling sections)"><template shadowrootmode="open"><!----><button class="mdc-icon-button mdc-icon-button--display-flex" aria-label="keyboard_arrow_down"><!--?lit$0292179355$-->
    <!--?lit$0292179355$--><i class="material-icons"><!--?lit$0292179355$-->keyboard_arrow_down</i>
    <span><slot></slot></span>
  </button></template></mwc-icon-button><h1>Listings Price</h1></div>
</span></div>
        </div>
      </div>

      <div class="section-header" style="display: none;">
        <colab-run-button role="button" aria-label="Run cell"><template shadowrootmode="open"><!----> <div class="cell-execution   ">
      <div class="execution-count"><!--?lit$0292179355$-->[ ]</div>
      <div class="cell-execution-indicator"> <!--?lit$0292179355$-->
<svg xmlns="http://www.w3.org/2000/svg" viewBox="0 0 24 24">
  <!--?lit$0292179355$-->
  <mask id="playSymbolMask">
    <rect width="100%" height="100%" fill="white"></rect>
    <polygon points="10,8 17,12 10,16" fill="black"></polygon>
  </mask>
  <circle cx="12" cy="12" r="7.8" mask="url(#playSymbolMask)" id="filledCircle"></circle>
</svg> </div>
      <!--?lit$0292179355$--><!--?-->
    </div></template></colab-run-button>
        <div class="section-header-container" title="click to expand">↳ 12 cells hidden</div>
      </div></div></div><div class="add-cell">
      <hr>
    </div></div><div class="cell code code-has-output icon-scrolling" id="cell-e3356878" tabindex="-1" role="region" aria-label="Cell 37: Code cell: " style=""><div class="cell-tag-editor sticky"></div><div class="cell-toolbar sticky"></div><div class="main-content" elevation="0"><div class="cell-contents"><div class="cell-mask"></div><span class="imported-info-area"></span><div class="codecell-input-output">
      <div class="inputarea horizontal layout code">
        <div class="cell-gutter">
          <!-- Bounding range for vertical scrolling of icons -->
          <div class="cell-execution-container">
            <colab-run-button title="Run cell (Ctrl+Enter)
cell has not been executed in this session

executed at unknown time" role="button" aria-label="Run cell"><template shadowrootmode="open"><!----> <div class="cell-execution  stale ">
      <div class="execution-count"><!--?lit$0292179355$-->[ ]</div>
      <div class="cell-execution-indicator"> <!--?lit$0292179355$-->
<svg xmlns="http://www.w3.org/2000/svg" viewBox="0 0 24 24">
  <!--?lit$0292179355$-->
  <mask id="playSymbolMask">
    <rect width="100%" height="100%" fill="white"></rect>
    <polygon points="10,8 17,12 10,16" fill="black"></polygon>
  </mask>
  <circle cx="12" cy="12" r="7.8" mask="url(#playSymbolMask)" id="filledCircle"></circle>
</svg> </div>
      <!--?lit$0292179355$--><!--?-->
    </div></template></colab-run-button>
          </div>
        </div>
      <div class="editor flex lazy-editor" style=""><pre class="lazy-virtualized" style="font-size: 14px; line-height: 19px;"><pre class="lazy-gutter"></pre><pre class="monaco-colorized colab-dark colab-dark" data-lang="notebook-python"><span><span class="mtk8">#&nbsp;group&nbsp;by&nbsp;neighborhood,&nbsp;get&nbsp;mean&nbsp;and&nbsp;median&nbsp;price</span></span><br><span><span class="mtk1">grouped_df&nbsp;=&nbsp;listings_df.groupby</span><span class="mtk12">(</span><span class="mtk5">'neighbourhood'</span><span class="mtk12">)[</span><span class="mtk5">'price'</span><span class="mtk12">]</span><span class="mtk1">.agg</span><span class="mtk12">([</span><span class="mtk5">'mean'</span><span class="mtk12">,</span><span class="mtk1">&nbsp;</span><span class="mtk5">'median'</span><span class="mtk12">])</span><span class="mtk1">.reset_index</span><span class="mtk12">()</span></span><br><span><span class="mtk1">grouped_df&nbsp;=&nbsp;grouped_df.sort_values</span><span class="mtk12">(</span><span class="mtk1">by=</span><span class="mtk5">'mean'</span><span class="mtk12">,</span><span class="mtk1">&nbsp;ascending=</span><span class="mtk9">False</span><span class="mtk12">)</span></span><br><span><span class="mtk1">grouped_df</span></span><br><span><span></span></span><br></pre></pre></div><colab-form class="formview vertical layout flex"><div class="widget-area vertical layout"></div></colab-form></div>
    <div class="output"><!----> <div class="output-header"> </div>
        <div class="output-content">
          <div class="output-info"><colab-output-info title="Clear output

executed at unknown time" hovering=""><template shadowrootmode="open"><!----> <md-icon class="collaborator account-circle" alt="Execution output" aria-hidden="true"><template shadowrootmode="open"><!----><slot></slot></template><!--?lit$0292179355$-->account_circle</md-icon>
      <!--?lit$0292179355$--> <mwc-icon-button icon="cancel" command="clear-focused-or-selected-outputs" alt="Clear output"><template shadowrootmode="open"><!----><button class="mdc-icon-button mdc-icon-button--display-flex" aria-label="cancel"><!--?lit$0292179355$-->
    <!--?lit$0292179355$--><i class="material-icons"><!--?lit$0292179355$-->cancel</i>
    <span><slot></slot></span>
  </button></template>
          </mwc-icon-button><!--?--></template></colab-output-info></div>
          <div class="output-iframe-container">
            <div class="output-iframe-sizer"> <div style="height: 676px;"><div class="outputview" style="height: 676px;"><colab-dom-lifecycle-events style="display: none;"></colab-dom-lifecycle-events><iframe allow="" sandbox="allow-downloads allow-forms allow-pointer-lock allow-popups allow-same-origin allow-scripts allow-storage-access-by-user-activation allow-popups-to-escape-sandbox" src="./Airbnb_Paris__files/outputframe(10).html" class="" style="height: 676px;"></iframe></div></div></div>
          </div>
        </div></div></div><colab-cell-next-steps><template shadowrootmode="open"><!----></template></colab-cell-next-steps></div></div><div class="add-cell">
      <hr>
    </div></div><div class="cell code code-has-output icon-scrolling" id="cell-813a77b5" tabindex="-1" role="region" aria-label="Cell 38: Code cell: " style=""><div class="cell-tag-editor sticky"></div><div class="cell-toolbar sticky"></div><div class="main-content" elevation="0"><div class="cell-contents"><div class="cell-mask"></div><span class="imported-info-area"></span><div class="codecell-input-output">
      <div class="inputarea horizontal layout code">
        <div class="cell-gutter">
          <!-- Bounding range for vertical scrolling of icons -->
          <div class="cell-execution-container">
            <colab-run-button title="Run cell (Ctrl+Enter)
cell has not been executed in this session

executed at unknown time" role="button" aria-label="Run cell"><template shadowrootmode="open"><!----> <div class="cell-execution  stale ">
      <div class="execution-count"><!--?lit$0292179355$-->[ ]</div>
      <div class="cell-execution-indicator"> <!--?lit$0292179355$-->
<svg xmlns="http://www.w3.org/2000/svg" viewBox="0 0 24 24">
  <!--?lit$0292179355$-->
  <mask id="playSymbolMask">
    <rect width="100%" height="100%" fill="white"></rect>
    <polygon points="10,8 17,12 10,16" fill="black"></polygon>
  </mask>
  <circle cx="12" cy="12" r="7.8" mask="url(#playSymbolMask)" id="filledCircle"></circle>
</svg> </div>
      <!--?lit$0292179355$--><!--?-->
    </div></template></colab-run-button>
          </div>
        </div>
      <div class="editor flex lazy-editor" style=""><pre class="lazy-virtualized" style="font-size: 14px; line-height: 19px;"><pre class="lazy-gutter"></pre><pre class="monaco-colorized colab-dark colab-dark" data-lang="notebook-python"><span><span class="mtk8">#&nbsp;calculate&nbsp;outliers&nbsp;within&nbsp;neighbourhoods</span></span><br><span><span class="mtk1">stdev&nbsp;=&nbsp;</span><span class="mtk6">3.0</span></span><br><span><span></span></span><br><span><span class="mtk1">zscores&nbsp;=&nbsp;listings_df</span><span class="mtk12">[[</span><span class="mtk5">'neighbourhood'</span><span class="mtk12">,</span><span class="mtk1">&nbsp;</span><span class="mtk5">'price'</span><span class="mtk12">]]</span><span class="mtk1">.groupby</span><span class="mtk12">(</span><span class="mtk5">'neighbourhood'</span><span class="mtk12">)</span><span class="mtk1">.transform</span><span class="mtk12">(</span></span><br><span><span class="mtk1">&nbsp;&nbsp;&nbsp;&nbsp;</span><span class="mtk9">lambda</span><span class="mtk1">&nbsp;group</span><span class="mtk12">:</span><span class="mtk1">&nbsp;</span><span class="mtk12">(</span><span class="mtk1">group&nbsp;-&nbsp;group.mean</span><span class="mtk12">())</span><span class="mtk1">.div</span><span class="mtk12">(</span><span class="mtk1">group.std</span><span class="mtk12">()))</span><span class="mtk1">.</span><span class="mtk15">abs</span><span class="mtk12">()</span></span><br><span><span></span></span><br><span><span class="mtk1">outliers&nbsp;=&nbsp;zscores&nbsp;&gt;&nbsp;stdev</span></span><br><span><span></span></span><br><span><span class="mtk8">#&nbsp;take&nbsp;out&nbsp;outliers</span></span><br><span><span class="mtk1">listings_nonoutliers&nbsp;=&nbsp;listings_df</span><span class="mtk12">[</span><span class="mtk1">~outliers.</span><span class="mtk15">any</span><span class="mtk12">(</span><span class="mtk1">axis=</span><span class="mtk6">1</span><span class="mtk12">)]</span><span class="mtk1">.copy</span><span class="mtk12">()</span></span><br><span><span></span></span><br><span><span></span></span><br><span><span class="mtk8">#&nbsp;agg&nbsp;all&nbsp;the&nbsp;observations&nbsp;by&nbsp;nieghbourhood&nbsp;to&nbsp;get</span><span class="mtk8">&nbsp;median&nbsp;and&nbsp;mean</span></span><br><span><span class="mtk1">summary&nbsp;=&nbsp;listings_df.groupby</span><span class="mtk12">(</span><span class="mtk5">"neighbourhood"</span><span class="mtk12">)</span><span class="mtk1">.agg</span><span class="mtk12">({</span><span class="mtk5">'price'</span><span class="mtk12">:[</span><span class="mtk5">'mean'</span><span class="mtk12">,</span><span class="mtk1">&nbsp;</span><span class="mtk5">'median'</span><span class="mtk12">,</span><span class="mtk1">&nbsp;</span><span class="mtk5">'count'</span><span class="mtk12">]})</span><span class="mtk1">.reset_index</span><span class="mtk12">()</span></span><br><span><span class="mtk1">summary.columns&nbsp;=&nbsp;</span><span class="mtk12">[</span><span class="mtk5">'Neighbourhood'</span><span class="mtk12">,</span><span class="mtk1">&nbsp;</span><span class="mtk5">'Mean&nbsp;Price'</span><span class="mtk12">,</span><span class="mtk1">&nbsp;</span><span class="mtk5">'Median&nbsp;Price'</span><span class="mtk12">,</span><span class="mtk1">&nbsp;</span><span class="mtk5">'#&nbsp;of&nbsp;listings'</span><span class="mtk12">]</span></span><br><span><span></span></span><br><span><span class="mtk8">#&nbsp;strip&nbsp;outliers&nbsp;and&nbsp;redo&nbsp;agg</span></span><br><span><span class="mtk1">summary_nonoutliers&nbsp;=&nbsp;listings_nonoutliers.groupby</span><span class="mtk12">(</span><span class="mtk5">"neighbourhood"</span><span class="mtk12">)</span><span class="mtk1">.agg</span><span class="mtk12">({</span><span class="mtk5">'price'</span><span class="mtk12">:[</span><span class="mtk5">'mean'</span><span class="mtk12">,</span><span class="mtk1">&nbsp;</span><span class="mtk5">'count'</span><span class="mtk12">]})</span><span class="mtk1">.reset_index</span><span class="mtk12">()</span></span><br><span><span class="mtk1">summary_nonoutliers.columns&nbsp;=&nbsp;</span><span class="mtk12">[</span><span class="mtk5">'Neighbourhood'</span><span class="mtk12">,</span><span class="mtk1">&nbsp;</span><span class="mtk5">'Mean&nbsp;Price'</span><span class="mtk12">,</span><span class="mtk1">&nbsp;</span><span class="mtk5">'#&nbsp;of&nbsp;listings'</span><span class="mtk12">]</span></span><br><span><span></span></span><br><span><span class="mtk8">#&nbsp;merge</span></span><br><span><span class="mtk1">summary_final&nbsp;=&nbsp;pd.merge</span><span class="mtk12">(</span><span class="mtk1">summary</span><span class="mtk12">,</span><span class="mtk1">&nbsp;summary_nonoutliers</span><span class="mtk12">,</span><span class="mtk1">&nbsp;on=</span><span class="mtk5">'Neighbourhood'</span><span class="mtk12">,</span><span class="mtk1">&nbsp;suffixes=</span><span class="mtk12">[</span><span class="mtk5">"&nbsp;with&nbsp;outliers"</span><span class="mtk12">,</span><span class="mtk1">&nbsp;</span><span class="mtk5">"&nbsp;without&nbsp;outliers"</span><span class="mtk12">])</span></span><br><span><span class="mtk1">summary_final</span><span class="mtk12">[</span><span class="mtk5">"#&nbsp;of&nbsp;outliers"</span><span class="mtk12">]</span><span class="mtk1">&nbsp;=&nbsp;summary_final</span><span class="mtk12">[</span><span class="mtk5">"#&nbsp;of&nbsp;listings&nbsp;with&nbsp;outliers"</span><span class="mtk12">]</span><span class="mtk1">&nbsp;-&nbsp;summary_final</span><span class="mtk12">[</span><span class="mtk5">"#&nbsp;of&nbsp;listings&nbsp;without&nbsp;outliers"</span><span class="mtk12">]</span></span><br><span><span class="mtk1">summary_final.drop</span><span class="mtk12">([</span><span class="mtk5">'#&nbsp;of&nbsp;listings&nbsp;without&nbsp;outliers'</span><span class="mtk12">],</span><span class="mtk1">&nbsp;axis=</span><span class="mtk6">1</span><span class="mtk12">,</span><span class="mtk1">&nbsp;inplace=</span><span class="mtk9">True</span><span class="mtk12">)</span></span><br><span><span></span></span><br><span><span class="mtk8">#&nbsp;mean&nbsp;price&nbsp;by&nbsp;nieghborhood</span></span><br><span><span class="mtk12">(</span></span><br><span><span class="mtk1">&nbsp;&nbsp;&nbsp;&nbsp;summary_final</span></span><br><span><span class="mtk1">&nbsp;&nbsp;&nbsp;&nbsp;.sort_values</span><span class="mtk12">([</span><span class="mtk5">"Mean&nbsp;Price&nbsp;without&nbsp;outliers"</span><span class="mtk12">],</span><span class="mtk1">&nbsp;ascending=</span><span class="mtk9">False</span><span class="mtk12">)[[</span><span class="mtk5">'Neighbourhood'</span><span class="mtk12">,</span><span class="mtk1">&nbsp;</span><span class="mtk5">'Mean&nbsp;Price&nbsp;with&nbsp;outliers'</span><span class="mtk12">,</span><span class="mtk1">&nbsp;</span><span class="mtk5">'Mean&nbsp;Price&nbsp;without&nbsp;outliers'</span><span class="mtk12">,</span><span class="mtk1">&nbsp;</span><span class="mtk5">'Median&nbsp;Price'</span><span class="mtk12">,</span><span class="mtk1">&nbsp;</span><span class="mtk5">'#&nbsp;of&nbsp;outliers'</span><span class="mtk12">]]</span></span><br><span><span class="mtk1">&nbsp;&nbsp;&nbsp;&nbsp;.style.background_gradient</span><span class="mtk12">(</span><span class="mtk1">cmap=</span><span class="mtk5">'RdYlGn'</span><span class="mtk12">,</span><span class="mtk1">&nbsp;subset=</span><span class="mtk12">[</span><span class="mtk5">'Mean&nbsp;Price&nbsp;with&nbsp;outliers'</span><span class="mtk12">,</span><span class="mtk1">&nbsp;</span><span class="mtk5">'Median&nbsp;Price'</span><span class="mtk12">,</span><span class="mtk1">&nbsp;</span><span class="mtk5">'Mean&nbsp;Price&nbsp;without&nbsp;outliers'</span><span class="mtk12">])</span></span><br><span><span></span></span><br><span><span></span></span><br><span><span class="mtk12">)</span></span><br></pre></pre></div><colab-form class="formview vertical layout flex"><div class="widget-area vertical layout"></div></colab-form></div>
    <div class="output"><!----> <div class="output-header"> </div>
        <div class="output-content">
          <div class="output-info"><colab-output-info title="Clear output

executed at unknown time" hovering=""><template shadowrootmode="open"><!----> <md-icon class="collaborator account-circle" alt="Execution output" aria-hidden="true"><template shadowrootmode="open"><!----><slot></slot></template><!--?lit$0292179355$-->account_circle</md-icon>
      <!--?lit$0292179355$--> <mwc-icon-button icon="cancel" command="clear-focused-or-selected-outputs" alt="Clear output"><template shadowrootmode="open"><!----><button class="mdc-icon-button mdc-icon-button--display-flex" aria-label="cancel"><!--?lit$0292179355$-->
    <!--?lit$0292179355$--><i class="material-icons"><!--?lit$0292179355$-->cancel</i>
    <span><slot></slot></span>
  </button></template>
          </mwc-icon-button><!--?--></template></colab-output-info></div>
          <div class="output-iframe-container">
            <div class="output-iframe-sizer"> <div style="height: 676px;"><div class="outputview" style="height: 676px;"><colab-dom-lifecycle-events style="display: none;"></colab-dom-lifecycle-events><iframe allow="" sandbox="allow-downloads allow-forms allow-pointer-lock allow-popups allow-same-origin allow-scripts allow-storage-access-by-user-activation allow-popups-to-escape-sandbox" src="./Airbnb_Paris__files/outputframe(11).html" class="" style="height: 676px;"></iframe></div></div></div>
          </div>
        </div></div></div><colab-cell-next-steps><template shadowrootmode="open"><!----></template></colab-cell-next-steps></div></div><div class="add-cell">
      <hr>
    </div></div><div class="cell code code-has-output icon-scrolling" id="cell-15e8280e" tabindex="-1" role="region" aria-label="Cell 39: Code cell: " style=""><div class="cell-tag-editor sticky"></div><div class="cell-toolbar sticky"></div><div class="main-content" elevation="0"><div class="cell-contents"><div class="cell-mask"></div><span class="imported-info-area"></span><div class="codecell-input-output">
      <div class="inputarea horizontal layout code">
        <div class="cell-gutter">
          <!-- Bounding range for vertical scrolling of icons -->
          <div class="cell-execution-container">
            <colab-run-button title="Run cell (Ctrl+Enter)
cell has not been executed in this session

executed at unknown time" role="button" aria-label="Run cell"><template shadowrootmode="open"><!----> <div class="cell-execution  stale ">
      <div class="execution-count"><!--?lit$0292179355$-->[ ]</div>
      <div class="cell-execution-indicator"> <!--?lit$0292179355$-->
<svg xmlns="http://www.w3.org/2000/svg" viewBox="0 0 24 24">
  <!--?lit$0292179355$-->
  <mask id="playSymbolMask">
    <rect width="100%" height="100%" fill="white"></rect>
    <polygon points="10,8 17,12 10,16" fill="black"></polygon>
  </mask>
  <circle cx="12" cy="12" r="7.8" mask="url(#playSymbolMask)" id="filledCircle"></circle>
</svg> </div>
      <!--?lit$0292179355$--><!--?-->
    </div></template></colab-run-button>
          </div>
        </div>
      <div class="editor flex lazy-editor" style=""><pre class="lazy-virtualized" style="font-size: 14px; line-height: 19px;"><pre class="lazy-gutter"></pre><pre class="monaco-colorized colab-dark colab-dark" data-lang="notebook-python"><span><span class="mtk8">#&nbsp;filter&nbsp;out&nbsp;top&nbsp;5%&nbsp;to&nbsp;be&nbsp;fair</span></span><br><span><span class="mtk1">listings_price_summary&nbsp;=&nbsp;listings_df.query</span><span class="mtk12">(</span><span class="mtk5">"price&nbsp;&lt;=&nbsp;price.quantile(.95)"</span><span class="mtk12">)</span></span><br><span><span></span></span><br><span><span class="mtk1">listings_price_summary&nbsp;=&nbsp;listings_price_summary.gr</span><span class="mtk1">oupby</span><span class="mtk12">(</span><span class="mtk5">"neighbourhood"</span><span class="mtk12">)[</span><span class="mtk5">'price'</span><span class="mtk12">]</span><span class="mtk1">.describe</span><span class="mtk12">()</span><span class="mtk1">.reset_index</span><span class="mtk12">()</span></span><br><span><span class="mtk1">listings_price_summary</span><span class="mtk12">[</span><span class="mtk5">'IQR'</span><span class="mtk12">]</span><span class="mtk1">&nbsp;=&nbsp;listings_price_summary</span><span class="mtk12">[</span><span class="mtk5">'75%'</span><span class="mtk12">]</span><span class="mtk1">&nbsp;&nbsp;-&nbsp;listings_price_summary</span><span class="mtk12">[</span><span class="mtk5">'25%'</span><span class="mtk12">]</span></span><br><span><span></span></span><br><span><span class="mtk12">(</span></span><br><span><span class="mtk1">listings_price_summary</span></span><br><span><span class="mtk12">[[</span><span class="mtk5">"neighbourhood"</span><span class="mtk12">,</span><span class="mtk1">&nbsp;</span><span class="mtk5">'mean'</span><span class="mtk12">,</span><span class="mtk1">&nbsp;</span><span class="mtk5">'std'</span><span class="mtk12">,</span><span class="mtk1">&nbsp;</span><span class="mtk5">'25%'</span><span class="mtk12">,</span><span class="mtk1">&nbsp;</span><span class="mtk5">'50%'</span><span class="mtk12">,</span><span class="mtk1">&nbsp;</span><span class="mtk5">'75%'</span><span class="mtk12">,</span><span class="mtk1">&nbsp;</span><span class="mtk5">'IQR'</span><span class="mtk12">]]</span><span class="mtk1">.</span><span class="mtk15">round</span><span class="mtk12">(</span><span class="mtk6">1</span><span class="mtk12">)</span></span><br><span><span class="mtk1">.sort_values</span><span class="mtk12">([</span><span class="mtk5">"IQR"</span><span class="mtk12">,</span><span class="mtk5">"mean"</span><span class="mtk12">],</span><span class="mtk1">&nbsp;ascending=</span><span class="mtk9">False</span><span class="mtk12">)</span><span class="mtk1">.style.background_gradient</span><span class="mtk12">(</span><span class="mtk1">cmap=</span><span class="mtk5">"RdYlGn"</span><span class="mtk12">)</span></span><br><span><span class="mtk1">&nbsp;&nbsp;&nbsp;&nbsp;.</span><span class="mtk15">format</span><span class="mtk12">(</span><span class="mtk9">lambda</span><span class="mtk1">&nbsp;x</span><span class="mtk12">:</span><span class="mtk1">&nbsp;</span><span class="mtk5">"${:.0f}"</span><span class="mtk1">.</span><span class="mtk15">format</span><span class="mtk12">(</span><span class="mtk1">x</span><span class="mtk12">)</span><span class="mtk1">&nbsp;</span><span class="mtk18">if</span><span class="mtk1">&nbsp;</span><span class="mtk14">type</span><span class="mtk12">(</span><span class="mtk1">x</span><span class="mtk12">)</span><span class="mtk1">&nbsp;!=&nbsp;</span><span class="mtk14">str</span><span class="mtk1">&nbsp;</span><span class="mtk18">else</span><span class="mtk1">&nbsp;x</span><span class="mtk12">)</span></span><br><span><span></span></span><br><span><span class="mtk12">)</span></span><br></pre></pre></div><colab-form class="formview vertical layout flex"><div class="widget-area vertical layout"></div></colab-form></div>
    <div class="output"><!----> <div class="output-header"> </div>
        <div class="output-content">
          <div class="output-info"><colab-output-info title="Clear output

executed at unknown time" hovering=""><template shadowrootmode="open"><!----> <md-icon class="collaborator account-circle" alt="Execution output" aria-hidden="true"><template shadowrootmode="open"><!----><slot></slot></template><!--?lit$0292179355$-->account_circle</md-icon>
      <!--?lit$0292179355$--> <mwc-icon-button icon="cancel" command="clear-focused-or-selected-outputs" alt="Clear output"><template shadowrootmode="open"><!----><button class="mdc-icon-button mdc-icon-button--display-flex" aria-label="cancel"><!--?lit$0292179355$-->
    <!--?lit$0292179355$--><i class="material-icons"><!--?lit$0292179355$-->cancel</i>
    <span><slot></slot></span>
  </button></template>
          </mwc-icon-button><!--?--></template></colab-output-info></div>
          <div class="output-iframe-container">
            <div class="output-iframe-sizer"> <div style="height: 676px;"><div class="outputview" style="height: 676px;"><colab-dom-lifecycle-events style="display: none;"></colab-dom-lifecycle-events><iframe allow="" sandbox="allow-downloads allow-forms allow-pointer-lock allow-popups allow-same-origin allow-scripts allow-storage-access-by-user-activation allow-popups-to-escape-sandbox" src="./Airbnb_Paris__files/outputframe(12).html" class="" style="height: 676px;"></iframe></div></div></div>
          </div>
        </div></div></div><colab-cell-next-steps><template shadowrootmode="open"><!----></template></colab-cell-next-steps></div></div><div class="add-cell">
      <hr>
    </div></div><div class="cell code code-has-output icon-scrolling" id="cell-cdb7f894" tabindex="-1" role="region" aria-label="Cell 40: Code cell: " style=""><div class="cell-tag-editor sticky"></div><div class="cell-toolbar sticky"></div><div class="main-content" elevation="0"><div class="cell-contents"><div class="cell-mask"></div><span class="imported-info-area"></span><div class="codecell-input-output">
      <div class="inputarea horizontal layout code">
        <div class="cell-gutter">
          <!-- Bounding range for vertical scrolling of icons -->
          <div class="cell-execution-container">
            <colab-run-button title="Run cell (Ctrl+Enter)
cell has not been executed in this session

executed at unknown time" role="button" aria-label="Run cell"><template shadowrootmode="open"><!----> <div class="cell-execution  stale ">
      <div class="execution-count"><!--?lit$0292179355$-->[ ]</div>
      <div class="cell-execution-indicator"> <!--?lit$0292179355$-->
<svg xmlns="http://www.w3.org/2000/svg" viewBox="0 0 24 24">
  <!--?lit$0292179355$-->
  <mask id="playSymbolMask">
    <rect width="100%" height="100%" fill="white"></rect>
    <polygon points="10,8 17,12 10,16" fill="black"></polygon>
  </mask>
  <circle cx="12" cy="12" r="7.8" mask="url(#playSymbolMask)" id="filledCircle"></circle>
</svg> </div>
      <!--?lit$0292179355$--><!--?-->
    </div></template></colab-run-button>
          </div>
        </div>
      <div class="editor flex lazy-editor" style=""><pre class="lazy-virtualized" style="font-size: 14px; line-height: 19px;"><pre class="lazy-gutter"></pre><pre class="monaco-colorized colab-dark colab-dark" data-lang="notebook-python"><span><span class="mtk8">#&nbsp;plot&nbsp;mean&nbsp;and&nbsp;median&nbsp;price&nbsp;by</span></span><br><span><span class="mtk1">plt.figure</span><span class="mtk12">(</span><span class="mtk1">figsize=</span><span class="mtk12">(</span><span class="mtk6">10</span><span class="mtk12">,</span><span class="mtk1">&nbsp;</span><span class="mtk6">8</span><span class="mtk12">))</span></span><br><span><span></span></span><br><span><span class="mtk1">plt.barh</span><span class="mtk12">(</span><span class="mtk1">grouped_df</span><span class="mtk12">[</span><span class="mtk5">'neighbourhood'</span><span class="mtk12">],</span><span class="mtk1">&nbsp;grouped_df</span><span class="mtk12">[</span><span class="mtk5">'mean'</span><span class="mtk12">],</span><span class="mtk1">&nbsp;label=</span><span class="mtk5">'Mean&nbsp;Price'</span><span class="mtk12">,</span><span class="mtk1">&nbsp;color=</span><span class="mtk5">'green'</span><span class="mtk12">,</span><span class="mtk1">&nbsp;alpha=</span><span class="mtk6">0.7</span><span class="mtk12">)</span></span><br><span><span class="mtk1">plt.barh</span><span class="mtk12">(</span><span class="mtk1">grouped_df</span><span class="mtk12">[</span><span class="mtk5">'neighbourhood'</span><span class="mtk12">],</span><span class="mtk1">&nbsp;grouped_df</span><span class="mtk12">[</span><span class="mtk5">'median'</span><span class="mtk12">],</span><span class="mtk1">&nbsp;label=</span><span class="mtk5">'Median&nbsp;Price'</span><span class="mtk12">,</span><span class="mtk1">&nbsp;color=</span><span class="mtk5">'red'</span><span class="mtk12">,</span><span class="mtk1">&nbsp;alpha=</span><span class="mtk6">0.7</span><span class="mtk12">)</span></span><br><span><span></span></span><br><span><span></span></span><br><span><span class="mtk8">#&nbsp;Place&nbsp;xticks&nbsp;on&nbsp;top&nbsp;of&nbsp;each&nbsp;bar</span></span><br><span><span class="mtk18">for</span><span class="mtk1">&nbsp;index</span><span class="mtk12">,</span><span class="mtk1">&nbsp;</span><span class="mtk12">(</span><span class="mtk1">mean_value</span><span class="mtk12">,</span><span class="mtk1">&nbsp;median_value</span><span class="mtk12">)</span><span class="mtk1">&nbsp;</span><span class="mtk17">in</span><span class="mtk1">&nbsp;</span><span class="mtk15">enumerate</span><span class="mtk12">(</span><span class="mtk15">zip</span><span class="mtk12">(</span><span class="mtk1">grouped_df</span><span class="mtk12">[</span><span class="mtk5">'mean'</span><span class="mtk12">],</span><span class="mtk1">&nbsp;grouped_df</span><span class="mtk12">[</span><span class="mtk5">'median'</span><span class="mtk12">])):</span></span><br><span><span class="mtk1">&nbsp;&nbsp;&nbsp;&nbsp;plt.text</span><span class="mtk12">(</span><span class="mtk1">median_value</span><span class="mtk12">,</span><span class="mtk1">&nbsp;index</span><span class="mtk12">,</span><span class="mtk1">&nbsp;</span><span class="mtk9">f</span><span class="mtk5">'$</span><span class="mtk12">{</span><span class="mtk1">median_value</span><span class="mtk6">:.2f</span><span class="mtk12">}</span><span class="mtk5">'</span><span class="mtk12">,</span><span class="mtk1">&nbsp;va=</span><span class="mtk5">'center'</span><span class="mtk12">,</span><span class="mtk1">&nbsp;multialignment=</span><span class="mtk5">'center'</span><span class="mtk12">,</span><span class="mtk1">&nbsp;ha=</span><span class="mtk5">'right'</span><span class="mtk12">)</span></span><br><span><span class="mtk1">&nbsp;&nbsp;&nbsp;&nbsp;plt.text</span><span class="mtk12">(</span><span class="mtk1">mean_value&nbsp;+&nbsp;</span><span class="mtk6">2</span><span class="mtk12">,</span><span class="mtk1">&nbsp;index</span><span class="mtk12">,</span><span class="mtk1">&nbsp;</span><span class="mtk9">f</span><span class="mtk5">'$</span><span class="mtk12">{</span><span class="mtk1">mean_value</span><span class="mtk6">:.2f</span><span class="mtk12">}</span><span class="mtk5">'</span><span class="mtk12">,</span><span class="mtk1">&nbsp;va=</span><span class="mtk5">'center'</span><span class="mtk12">,</span><span class="mtk1">&nbsp;multialignment=</span><span class="mtk5">'center'</span><span class="mtk12">)</span></span><br><span><span></span></span><br><span><span class="mtk1">plt.title</span><span class="mtk12">(</span><span class="mtk5">'Mean&nbsp;and&nbsp;Median&nbsp;Prices&nbsp;by&nbsp;Neighborhood'</span><span class="mtk12">)</span></span><br><span><span class="mtk1">plt.xticks</span><span class="mtk12">(</span><span class="mtk1">rotation=</span><span class="mtk6">90</span><span class="mtk12">)</span></span><br><span><span class="mtk1">plt.legend</span><span class="mtk12">()</span></span><br><span><span class="mtk1">plt.tight_layout</span><span class="mtk12">()</span></span><br><span><span></span></span><br><span><span class="mtk8">#&nbsp;Place&nbsp;xticks&nbsp;on&nbsp;top&nbsp;of&nbsp;each&nbsp;bar</span></span><br><span><span></span></span><br><span><span class="mtk1">plt.show</span><span class="mtk12">()</span></span><br></pre></pre></div><colab-form class="formview vertical layout flex"><div class="widget-area vertical layout"></div></colab-form></div>
    <div class="output"><!----> <div class="output-header"> </div>
        <div class="output-content">
          <div class="output-info"><colab-output-info title="Clear output

executed at unknown time" hovering=""><template shadowrootmode="open"><!----> <md-icon class="collaborator account-circle" alt="Execution output" aria-hidden="true"><template shadowrootmode="open"><!----><slot></slot></template><!--?lit$0292179355$-->account_circle</md-icon>
      <!--?lit$0292179355$--> <mwc-icon-button icon="cancel" command="clear-focused-or-selected-outputs" alt="Clear output"><template shadowrootmode="open"><!----><button class="mdc-icon-button mdc-icon-button--display-flex" aria-label="cancel"><!--?lit$0292179355$-->
    <!--?lit$0292179355$--><i class="material-icons"><!--?lit$0292179355$-->cancel</i>
    <span><slot></slot></span>
  </button></template>
          </mwc-icon-button><!--?--></template></colab-output-info></div>
          <div class="output-iframe-container">
            <div class="output-iframe-sizer"> <div style="height: 795px;"><div class="outputview" style="height: 795px;"><colab-dom-lifecycle-events style="display: none;"></colab-dom-lifecycle-events><iframe allow="" sandbox="allow-downloads allow-forms allow-pointer-lock allow-popups allow-same-origin allow-scripts allow-storage-access-by-user-activation allow-popups-to-escape-sandbox" src="./Airbnb_Paris__files/outputframe(13).html" class="" style="height: 795px;"></iframe></div></div></div>
          </div>
        </div></div></div><colab-cell-next-steps><template shadowrootmode="open"><!----></template></colab-cell-next-steps></div></div><div class="add-cell">
      <hr>
    </div></div><div class="cell code code-has-output icon-scrolling" id="cell-bmpTAS3_2EDG" tabindex="-1" role="region" aria-label="Cell 41: Code cell: " style=""><div class="cell-tag-editor sticky"></div><div class="cell-toolbar sticky"></div><div class="main-content" elevation="0"><div class="cell-contents"><div class="cell-mask"></div><span class="imported-info-area"></span><div class="codecell-input-output">
      <div class="inputarea horizontal layout code">
        <div class="cell-gutter">
          <!-- Bounding range for vertical scrolling of icons -->
          <div class="cell-execution-container">
            <colab-run-button title="Run cell (Ctrl+Enter)
cell has not been executed in this session

executed at unknown time" role="button" aria-label="Run cell"><template shadowrootmode="open"><!----> <div class="cell-execution  stale ">
      <div class="execution-count"><!--?lit$0292179355$-->[ ]</div>
      <div class="cell-execution-indicator"> <!--?lit$0292179355$-->
<svg xmlns="http://www.w3.org/2000/svg" viewBox="0 0 24 24">
  <!--?lit$0292179355$-->
  <mask id="playSymbolMask">
    <rect width="100%" height="100%" fill="white"></rect>
    <polygon points="10,8 17,12 10,16" fill="black"></polygon>
  </mask>
  <circle cx="12" cy="12" r="7.8" mask="url(#playSymbolMask)" id="filledCircle"></circle>
</svg> </div>
      <!--?lit$0292179355$--><!--?-->
    </div></template></colab-run-button>
          </div>
        </div>
      <div class="editor flex lazy-editor" style=""><pre class="lazy-virtualized" style="font-size: 14px; line-height: 19px;"><pre class="lazy-gutter"></pre><pre class="monaco-colorized colab-dark colab-dark" data-lang="notebook-python"><span><span class="mtk8">#&nbsp;how&nbsp;many&nbsp;listings&nbsp;are&nbsp;less&nbsp;or&nbsp;equal&nbsp;than&nbsp;10</span></span><br><span><span class="mtk1">cheapest_listings&nbsp;=&nbsp;listings_df</span><span class="mtk12">[</span><span class="mtk1">listings_df</span><span class="mtk12">[</span><span class="mtk5">'price'</span><span class="mtk12">]</span><span class="mtk1">&lt;=</span><span class="mtk6">10</span><span class="mtk12">]</span></span><br><span><span class="mtk15">print</span><span class="mtk12">(</span><span class="mtk1">cheapest_listings.shape</span><span class="mtk12">)</span></span><br></pre></pre></div><colab-form class="formview vertical layout flex"><div class="widget-area vertical layout"></div></colab-form></div>
    <div class="output"><!----> <div class="output-header"> </div>
        <div class="output-content">
          <div class="output-info"><colab-output-info title="Clear output

executed at unknown time" hovering=""><template shadowrootmode="open"><!----> <md-icon class="collaborator account-circle" alt="Execution output" aria-hidden="true"><template shadowrootmode="open"><!----><slot></slot></template><!--?lit$0292179355$-->account_circle</md-icon>
      <!--?lit$0292179355$--> <mwc-icon-button icon="cancel" command="clear-focused-or-selected-outputs" alt="Clear output"><template shadowrootmode="open"><!----><button class="mdc-icon-button mdc-icon-button--display-flex" aria-label="cancel"><!--?lit$0292179355$-->
    <!--?lit$0292179355$--><i class="material-icons"><!--?lit$0292179355$-->cancel</i>
    <span><slot></slot></span>
  </button></template>
          </mwc-icon-button><!--?--></template></colab-output-info></div>
          <div class="output-iframe-container">
            <div class="output-iframe-sizer"> <div><div><colab-static-output-renderer tabindex="0" role="group"><div><div class="stream output_text"><pre>(14, 18)
</pre></div></div><div></div></colab-static-output-renderer></div></div></div>
          </div>
        </div></div></div><colab-cell-next-steps><template shadowrootmode="open"><!----></template></colab-cell-next-steps></div></div><div class="add-cell">
      <hr>
    </div></div><div class="cell code code-has-output icon-scrolling" id="cell-74cd8064" tabindex="-1" role="region" aria-label="Cell 42: Code cell: " style=""><div class="cell-tag-editor sticky"></div><div class="cell-toolbar sticky"></div><div class="main-content" elevation="0"><div class="cell-contents"><div class="cell-mask"></div><span class="imported-info-area"></span><div class="codecell-input-output">
      <div class="inputarea horizontal layout code">
        <div class="cell-gutter">
          <!-- Bounding range for vertical scrolling of icons -->
          <div class="cell-execution-container">
            <colab-run-button title="Run cell (Ctrl+Enter)
cell has not been executed in this session

executed at unknown time" role="button" aria-label="Run cell"><template shadowrootmode="open"><!----> <div class="cell-execution  stale ">
      <div class="execution-count"><!--?lit$0292179355$-->[ ]</div>
      <div class="cell-execution-indicator"> <!--?lit$0292179355$-->
<svg xmlns="http://www.w3.org/2000/svg" viewBox="0 0 24 24">
  <!--?lit$0292179355$-->
  <mask id="playSymbolMask">
    <rect width="100%" height="100%" fill="white"></rect>
    <polygon points="10,8 17,12 10,16" fill="black"></polygon>
  </mask>
  <circle cx="12" cy="12" r="7.8" mask="url(#playSymbolMask)" id="filledCircle"></circle>
</svg> </div>
      <!--?lit$0292179355$--><!--?-->
    </div></template></colab-run-button>
          </div>
        </div>
      <div class="editor flex lazy-editor" style=""><pre class="lazy-virtualized" style="font-size: 14px; line-height: 19px;"><pre class="lazy-gutter"></pre><pre class="monaco-colorized colab-dark colab-dark" data-lang="notebook-python"><span><span class="mtk8">#how&nbsp;many&nbsp;listings&nbsp;are&nbsp;less&nbsp;100</span></span><br><span><span class="mtk1">listings_df</span><span class="mtk12">[</span><span class="mtk1">listings_df</span><span class="mtk12">[</span><span class="mtk5">'price'</span><span class="mtk12">]</span><span class="mtk1">&nbsp;&lt;&nbsp;</span><span class="mtk6">100</span><span class="mtk12">]</span><span class="mtk1">.shape</span></span><br></pre></pre></div><colab-form class="formview vertical layout flex"><div class="widget-area vertical layout"></div></colab-form></div>
    <div class="output"><!----> <div class="output-header"> </div>
        <div class="output-content">
          <div class="output-info"><colab-output-info title="Clear output

executed at unknown time" hovering=""><template shadowrootmode="open"><!----> <md-icon class="collaborator account-circle" alt="Execution output" aria-hidden="true"><template shadowrootmode="open"><!----><slot></slot></template><!--?lit$0292179355$-->account_circle</md-icon>
      <!--?lit$0292179355$--> <mwc-icon-button icon="cancel" command="clear-focused-or-selected-outputs" alt="Clear output"><template shadowrootmode="open"><!----><button class="mdc-icon-button mdc-icon-button--display-flex" aria-label="cancel"><!--?lit$0292179355$-->
    <!--?lit$0292179355$--><i class="material-icons"><!--?lit$0292179355$-->cancel</i>
    <span><slot></slot></span>
  </button></template>
          </mwc-icon-button><!--?--></template></colab-output-info></div>
          <div class="output-iframe-container">
            <div class="output-iframe-sizer"> <div><div><colab-static-output-renderer tabindex="0" role="group"><div><div class="execute_result output_text"><pre>(22272, 18)</pre></div></div><div></div></colab-static-output-renderer></div></div></div>
          </div>
        </div></div></div><colab-cell-next-steps><template shadowrootmode="open"><!----></template></colab-cell-next-steps></div></div><div class="add-cell">
      <hr>
    </div></div><div class="cell code code-has-output icon-scrolling" id="cell-kOfn_4ZT747d" tabindex="-1" role="region" aria-label="Cell 43: Code cell: " style=""><div class="cell-tag-editor sticky"></div><div class="cell-toolbar sticky"></div><div class="main-content" elevation="0"><div class="cell-contents"><div class="cell-mask"></div><span class="imported-info-area"></span><div class="codecell-input-output">
      <div class="inputarea horizontal layout code">
        <div class="cell-gutter">
          <!-- Bounding range for vertical scrolling of icons -->
          <div class="cell-execution-container">
            <colab-run-button title="Run cell (Ctrl+Enter)
cell has not been executed in this session

executed at unknown time" role="button" aria-label="Run cell"><template shadowrootmode="open"><!----> <div class="cell-execution  stale ">
      <div class="execution-count"><!--?lit$0292179355$-->[ ]</div>
      <div class="cell-execution-indicator"> <!--?lit$0292179355$-->
<svg xmlns="http://www.w3.org/2000/svg" viewBox="0 0 24 24">
  <!--?lit$0292179355$-->
  <mask id="playSymbolMask">
    <rect width="100%" height="100%" fill="white"></rect>
    <polygon points="10,8 17,12 10,16" fill="black"></polygon>
  </mask>
  <circle cx="12" cy="12" r="7.8" mask="url(#playSymbolMask)" id="filledCircle"></circle>
</svg> </div>
      <!--?lit$0292179355$--><!--?-->
    </div></template></colab-run-button>
          </div>
        </div>
      <div class="editor flex lazy-editor" style=""><pre class="lazy-virtualized" style="font-size: 14px; line-height: 19px;"><pre class="lazy-gutter"></pre><pre class="monaco-colorized colab-dark colab-dark" data-lang="notebook-python"><span><span class="mtk8">#how&nbsp;many&nbsp;listings&nbsp;are&nbsp;less&nbsp;than&nbsp;500</span></span><br><span><span class="mtk1">listings_df</span><span class="mtk12">[</span><span class="mtk1">listings_df</span><span class="mtk12">[</span><span class="mtk5">'price'</span><span class="mtk12">]</span><span class="mtk1">&nbsp;&lt;&nbsp;</span><span class="mtk6">500</span><span class="mtk12">]</span><span class="mtk1">.shape</span></span><br></pre></pre></div><colab-form class="formview vertical layout flex"><div class="widget-area vertical layout"></div></colab-form></div>
    <div class="output"><!----> <div class="output-header"> </div>
        <div class="output-content">
          <div class="output-info"><colab-output-info title="Clear output

executed at unknown time" hovering=""><template shadowrootmode="open"><!----> <md-icon class="collaborator account-circle" alt="Execution output" aria-hidden="true"><template shadowrootmode="open"><!----><slot></slot></template><!--?lit$0292179355$-->account_circle</md-icon>
      <!--?lit$0292179355$--> <mwc-icon-button icon="cancel" command="clear-focused-or-selected-outputs" alt="Clear output"><template shadowrootmode="open"><!----><button class="mdc-icon-button mdc-icon-button--display-flex" aria-label="cancel"><!--?lit$0292179355$-->
    <!--?lit$0292179355$--><i class="material-icons"><!--?lit$0292179355$-->cancel</i>
    <span><slot></slot></span>
  </button></template>
          </mwc-icon-button><!--?--></template></colab-output-info></div>
          <div class="output-iframe-container">
            <div class="output-iframe-sizer"> <div><div><colab-static-output-renderer tabindex="0" role="group"><div><div class="execute_result output_text"><pre>(62795, 18)</pre></div></div><div></div></colab-static-output-renderer></div></div></div>
          </div>
        </div></div></div><colab-cell-next-steps><template shadowrootmode="open"><!----></template></colab-cell-next-steps></div></div><div class="add-cell">
      <hr>
    </div></div><div class="cell code code-has-output icon-scrolling" id="cell-abae034c" tabindex="-1" role="region" aria-label="Cell 44: Code cell: " style=""><div class="cell-tag-editor sticky"></div><div class="cell-toolbar sticky"></div><div class="main-content" elevation="0"><div class="cell-contents"><div class="cell-mask"></div><span class="imported-info-area"></span><div class="codecell-input-output">
      <div class="inputarea horizontal layout code">
        <div class="cell-gutter">
          <!-- Bounding range for vertical scrolling of icons -->
          <div class="cell-execution-container">
            <colab-run-button title="Run cell (Ctrl+Enter)
cell has not been executed in this session

executed at unknown time" role="button" aria-label="Run cell"><template shadowrootmode="open"><!----> <div class="cell-execution  stale ">
      <div class="execution-count"><!--?lit$0292179355$-->[ ]</div>
      <div class="cell-execution-indicator"> <!--?lit$0292179355$-->
<svg xmlns="http://www.w3.org/2000/svg" viewBox="0 0 24 24">
  <!--?lit$0292179355$-->
  <mask id="playSymbolMask">
    <rect width="100%" height="100%" fill="white"></rect>
    <polygon points="10,8 17,12 10,16" fill="black"></polygon>
  </mask>
  <circle cx="12" cy="12" r="7.8" mask="url(#playSymbolMask)" id="filledCircle"></circle>
</svg> </div>
      <!--?lit$0292179355$--><!--?-->
    </div></template></colab-run-button>
          </div>
        </div>
      <div class="editor flex lazy-editor" style=""><pre class="lazy-virtualized" style="font-size: 14px; line-height: 19px;"><pre class="lazy-gutter"></pre><pre class="monaco-colorized colab-dark colab-dark" data-lang="notebook-python"><span><span class="mtk8">#&nbsp;how&nbsp;many&nbsp;listings&nbsp;are&nbsp;less&nbsp;than&nbsp;1000</span></span><br><span><span class="mtk1">listings_df</span><span class="mtk12">[</span><span class="mtk1">listings_df</span><span class="mtk12">[</span><span class="mtk5">'price'</span><span class="mtk12">]</span><span class="mtk1">&nbsp;&lt;&nbsp;</span><span class="mtk6">1000</span><span class="mtk12">]</span><span class="mtk1">.shape</span></span><br></pre></pre></div><colab-form class="formview vertical layout flex"><div class="widget-area vertical layout"></div></colab-form></div>
    <div class="output"><!----> <div class="output-header"> </div>
        <div class="output-content">
          <div class="output-info"><colab-output-info title="Clear output

executed at unknown time" hovering=""><template shadowrootmode="open"><!----> <md-icon class="collaborator account-circle" alt="Execution output" aria-hidden="true"><template shadowrootmode="open"><!----><slot></slot></template><!--?lit$0292179355$-->account_circle</md-icon>
      <!--?lit$0292179355$--> <mwc-icon-button icon="cancel" command="clear-focused-or-selected-outputs" alt="Clear output"><template shadowrootmode="open"><!----><button class="mdc-icon-button mdc-icon-button--display-flex" aria-label="cancel"><!--?lit$0292179355$-->
    <!--?lit$0292179355$--><i class="material-icons"><!--?lit$0292179355$-->cancel</i>
    <span><slot></slot></span>
  </button></template>
          </mwc-icon-button><!--?--></template></colab-output-info></div>
          <div class="output-iframe-container">
            <div class="output-iframe-sizer"> <div><div><colab-static-output-renderer tabindex="0" role="group"><div><div class="execute_result output_text"><pre>(65558, 18)</pre></div></div><div></div></colab-static-output-renderer></div></div></div>
          </div>
        </div></div></div><colab-cell-next-steps><template shadowrootmode="open"><!----></template></colab-cell-next-steps></div></div><div class="add-cell">
      <hr>
    </div></div><div class="cell code code-has-output icon-scrolling" id="cell-8xzhCuWv_9MA" tabindex="-1" role="region" aria-label="Cell 45: Code cell: " style=""><div class="cell-tag-editor sticky"></div><div class="cell-toolbar sticky"></div><div class="main-content" elevation="0"><div class="cell-contents"><div class="cell-mask"></div><span class="imported-info-area"></span><div class="codecell-input-output">
      <div class="inputarea horizontal layout code">
        <div class="cell-gutter">
          <!-- Bounding range for vertical scrolling of icons -->
          <div class="cell-execution-container">
            <colab-run-button title="Run cell (Ctrl+Enter)
cell has not been executed in this session

executed at unknown time" role="button" aria-label="Run cell"><template shadowrootmode="open"><!----> <div class="cell-execution  stale ">
      <div class="execution-count"><!--?lit$0292179355$-->[ ]</div>
      <div class="cell-execution-indicator"> <!--?lit$0292179355$-->
<svg xmlns="http://www.w3.org/2000/svg" viewBox="0 0 24 24">
  <!--?lit$0292179355$-->
  <mask id="playSymbolMask">
    <rect width="100%" height="100%" fill="white"></rect>
    <polygon points="10,8 17,12 10,16" fill="black"></polygon>
  </mask>
  <circle cx="12" cy="12" r="7.8" mask="url(#playSymbolMask)" id="filledCircle"></circle>
</svg> </div>
      <!--?lit$0292179355$--><!--?-->
    </div></template></colab-run-button>
          </div>
        </div>
      <div class="editor flex lazy-editor" style=""><pre class="lazy-virtualized" style="font-size: 14px; line-height: 19px;"><pre class="lazy-gutter"></pre><pre class="monaco-colorized colab-dark colab-dark" data-lang="notebook-python"><span><span class="mtk8">#how&nbsp;many&nbsp;listings&nbsp;are&nbsp;more&nbsp;than&nbsp;998</span></span><br><span><span class="mtk1">listings_df</span><span class="mtk12">[</span><span class="mtk1">listings_df</span><span class="mtk12">[</span><span class="mtk5">'price'</span><span class="mtk12">]</span><span class="mtk1">&nbsp;&gt;</span><span class="mtk6">998</span><span class="mtk12">]</span><span class="mtk1">.shape</span></span><br></pre></pre></div><colab-form class="formview vertical layout flex"><div class="widget-area vertical layout"></div></colab-form></div>
    <div class="output"><!----> <div class="output-header"> </div>
        <div class="output-content">
          <div class="output-info"><colab-output-info title="Clear output

executed at unknown time" hovering=""><template shadowrootmode="open"><!----> <md-icon class="collaborator account-circle" alt="Execution output" aria-hidden="true"><template shadowrootmode="open"><!----><slot></slot></template><!--?lit$0292179355$-->account_circle</md-icon>
      <!--?lit$0292179355$--> <mwc-icon-button icon="cancel" command="clear-focused-or-selected-outputs" alt="Clear output"><template shadowrootmode="open"><!----><button class="mdc-icon-button mdc-icon-button--display-flex" aria-label="cancel"><!--?lit$0292179355$-->
    <!--?lit$0292179355$--><i class="material-icons"><!--?lit$0292179355$-->cancel</i>
    <span><slot></slot></span>
  </button></template>
          </mwc-icon-button><!--?--></template></colab-output-info></div>
          <div class="output-iframe-container">
            <div class="output-iframe-sizer"> <div><div><colab-static-output-renderer tabindex="0" role="group"><div><div class="execute_result output_text"><pre>(1564, 18)</pre></div></div><div></div></colab-static-output-renderer></div></div></div>
          </div>
        </div></div></div><colab-cell-next-steps><template shadowrootmode="open"><!----></template></colab-cell-next-steps></div></div><div class="add-cell">
      <hr>
    </div></div><div class="cell code code-has-output icon-scrolling" id="cell-d593d055" tabindex="-1" role="region" aria-label="Cell 46: Code cell: " style=""><div class="cell-tag-editor sticky"></div><div class="cell-toolbar sticky"></div><div class="main-content" elevation="0"><div class="cell-contents"><div class="cell-mask"></div><span class="imported-info-area"></span><div class="codecell-input-output">
      <div class="inputarea horizontal layout code">
        <div class="cell-gutter">
          <!-- Bounding range for vertical scrolling of icons -->
          <div class="cell-execution-container">
            <colab-run-button title="Run cell (Ctrl+Enter)
cell has not been executed in this session

executed at unknown time" role="button" aria-label="Run cell"><template shadowrootmode="open"><!----> <div class="cell-execution  stale ">
      <div class="execution-count"><!--?lit$0292179355$-->[ ]</div>
      <div class="cell-execution-indicator"> <!--?lit$0292179355$-->
<svg xmlns="http://www.w3.org/2000/svg" viewBox="0 0 24 24">
  <!--?lit$0292179355$-->
  <mask id="playSymbolMask">
    <rect width="100%" height="100%" fill="white"></rect>
    <polygon points="10,8 17,12 10,16" fill="black"></polygon>
  </mask>
  <circle cx="12" cy="12" r="7.8" mask="url(#playSymbolMask)" id="filledCircle"></circle>
</svg> </div>
      <!--?lit$0292179355$--><!--?-->
    </div></template></colab-run-button>
          </div>
        </div>
      <div class="editor flex lazy-editor" style=""><pre class="lazy-virtualized" style="font-size: 14px; line-height: 19px;"><pre class="lazy-gutter"></pre><pre class="monaco-colorized colab-dark colab-dark" data-lang="notebook-python"><span><span class="mtk1">cheapest_price&nbsp;=&nbsp;listings_df</span><span class="mtk12">[</span><span class="mtk5">'price'</span><span class="mtk12">]</span><span class="mtk1">.</span><span class="mtk15">min</span><span class="mtk12">()</span></span><br><span><span class="mtk1">most_expensive_price&nbsp;=&nbsp;listings_df</span><span class="mtk12">[</span><span class="mtk5">'price'</span><span class="mtk12">]</span><span class="mtk1">.</span><span class="mtk15">max</span><span class="mtk12">()</span></span><br><span><span></span></span><br><span><span class="mtk15">print</span><span class="mtk12">(</span><span class="mtk5">"Cheapest&nbsp;price:"</span><span class="mtk12">,</span><span class="mtk1">&nbsp;cheapest_price</span><span class="mtk12">)</span></span><br><span><span class="mtk15">print</span><span class="mtk12">(</span><span class="mtk5">"Most&nbsp;expensive&nbsp;price:"</span><span class="mtk12">,</span><span class="mtk1">&nbsp;most_expensive_price</span><span class="mtk12">)</span></span><br></pre></pre></div><colab-form class="formview vertical layout flex"><div class="widget-area vertical layout"></div></colab-form></div>
    <div class="output"><!----> <div class="output-header"> </div>
        <div class="output-content">
          <div class="output-info"><colab-output-info title="Clear output

executed at unknown time" hovering=""><template shadowrootmode="open"><!----> <md-icon class="collaborator account-circle" alt="Execution output" aria-hidden="true"><template shadowrootmode="open"><!----><slot></slot></template><!--?lit$0292179355$-->account_circle</md-icon>
      <!--?lit$0292179355$--> <mwc-icon-button icon="cancel" command="clear-focused-or-selected-outputs" alt="Clear output"><template shadowrootmode="open"><!----><button class="mdc-icon-button mdc-icon-button--display-flex" aria-label="cancel"><!--?lit$0292179355$-->
    <!--?lit$0292179355$--><i class="material-icons"><!--?lit$0292179355$-->cancel</i>
    <span><slot></slot></span>
  </button></template>
          </mwc-icon-button><!--?--></template></colab-output-info></div>
          <div class="output-iframe-container">
            <div class="output-iframe-sizer"> <div><div><colab-static-output-renderer tabindex="0" role="group"><div><div class="stream output_text"><pre>Cheapest price: 8.0
Most expensive price: 84420.0
</pre></div></div><div></div></colab-static-output-renderer></div></div></div>
          </div>
        </div></div></div><colab-cell-next-steps><template shadowrootmode="open"><!----></template></colab-cell-next-steps></div></div><div class="add-cell">
      <hr>
    </div></div><div class="cell code code-has-output icon-scrolling" id="cell-05ded65a" tabindex="-1" role="region" aria-label="Cell 47: Code cell: " style=""><div class="cell-tag-editor sticky"></div><div class="cell-toolbar sticky"></div><div class="main-content" elevation="0"><div class="cell-contents"><div class="cell-mask"></div><span class="imported-info-area"></span><div class="codecell-input-output">
      <div class="inputarea horizontal layout code">
        <div class="cell-gutter">
          <!-- Bounding range for vertical scrolling of icons -->
          <div class="cell-execution-container">
            <colab-run-button title="Run cell (Ctrl+Enter)
cell has not been executed in this session

executed at unknown time" role="button" aria-label="Run cell"><template shadowrootmode="open"><!----> <div class="cell-execution  stale ">
      <div class="execution-count"><!--?lit$0292179355$-->[ ]</div>
      <div class="cell-execution-indicator"> <!--?lit$0292179355$-->
<svg xmlns="http://www.w3.org/2000/svg" viewBox="0 0 24 24">
  <!--?lit$0292179355$-->
  <mask id="playSymbolMask">
    <rect width="100%" height="100%" fill="white"></rect>
    <polygon points="10,8 17,12 10,16" fill="black"></polygon>
  </mask>
  <circle cx="12" cy="12" r="7.8" mask="url(#playSymbolMask)" id="filledCircle"></circle>
</svg> </div>
      <!--?lit$0292179355$--><!--?-->
    </div></template></colab-run-button>
          </div>
        </div>
      <div class="editor flex lazy-editor" style=""><pre class="lazy-virtualized" style="font-size: 14px; line-height: 19px;"><pre class="lazy-gutter"></pre><pre class="monaco-colorized colab-dark colab-dark" data-lang="notebook-python"><span><span class="mtk8">#&nbsp;The&nbsp;bulk&nbsp;of&nbsp;the&nbsp;data&nbsp;is&nbsp;still&nbsp;around&nbsp;$300&nbsp;or&nbsp;low</span><span class="mtk8">er</span></span><br><span><span class="mtk8">#&nbsp;Also&nbsp;logically&nbsp;-&nbsp;tourists&nbsp;might&nbsp;be&nbsp;deterred&nbsp;from</span><span class="mtk8">&nbsp;a&nbsp;price&nbsp;above&nbsp;$300&nbsp;a&nbsp;night</span></span><br><span><span class="mtk1">affordable_listings&nbsp;=&nbsp;listings_df</span><span class="mtk12">[</span><span class="mtk1">listings_df</span><span class="mtk12">[</span><span class="mtk5">'price'</span><span class="mtk12">]</span><span class="mtk1">&nbsp;&lt;&nbsp;</span><span class="mtk6">300</span><span class="mtk12">]</span></span><br><span><span class="mtk1">affordable_listings.shape</span></span><br></pre></pre></div><colab-form class="formview vertical layout flex"><div class="widget-area vertical layout"></div></colab-form></div>
    <div class="output"><!----> <div class="output-header"> </div>
        <div class="output-content">
          <div class="output-info"><colab-output-info title="Clear output

executed at unknown time" hovering=""><template shadowrootmode="open"><!----> <md-icon class="collaborator account-circle" alt="Execution output" aria-hidden="true"><template shadowrootmode="open"><!----><slot></slot></template><!--?lit$0292179355$-->account_circle</md-icon>
      <!--?lit$0292179355$--> <mwc-icon-button icon="cancel" command="clear-focused-or-selected-outputs" alt="Clear output"><template shadowrootmode="open"><!----><button class="mdc-icon-button mdc-icon-button--display-flex" aria-label="cancel"><!--?lit$0292179355$-->
    <!--?lit$0292179355$--><i class="material-icons"><!--?lit$0292179355$-->cancel</i>
    <span><slot></slot></span>
  </button></template>
          </mwc-icon-button><!--?--></template></colab-output-info></div>
          <div class="output-iframe-container">
            <div class="output-iframe-sizer"> <div><div><colab-static-output-renderer tabindex="0" role="group"><div><div class="execute_result output_text"><pre>(57439, 18)</pre></div></div><div></div></colab-static-output-renderer></div></div></div>
          </div>
        </div></div></div><colab-cell-next-steps><template shadowrootmode="open"><!----></template></colab-cell-next-steps></div></div><div class="add-cell">
      <hr>
    </div></div><div class="cell code code-has-output icon-scrolling" id="cell-4ab070c2" tabindex="-1" role="region" aria-label="Cell 48: Code cell: " style=""><div class="cell-tag-editor sticky"></div><div class="cell-toolbar sticky"></div><div class="main-content" elevation="0"><div class="cell-contents"><div class="cell-mask"></div><span class="imported-info-area"></span><div class="codecell-input-output">
      <div class="inputarea horizontal layout code">
        <div class="cell-gutter">
          <!-- Bounding range for vertical scrolling of icons -->
          <div class="cell-execution-container">
            <colab-run-button title="Run cell (Ctrl+Enter)
cell has not been executed in this session

executed at unknown time" role="button" aria-label="Run cell"><template shadowrootmode="open"><!----> <div class="cell-execution  stale ">
      <div class="execution-count"><!--?lit$0292179355$-->[ ]</div>
      <div class="cell-execution-indicator"> <!--?lit$0292179355$-->
<svg xmlns="http://www.w3.org/2000/svg" viewBox="0 0 24 24">
  <!--?lit$0292179355$-->
  <mask id="playSymbolMask">
    <rect width="100%" height="100%" fill="white"></rect>
    <polygon points="10,8 17,12 10,16" fill="black"></polygon>
  </mask>
  <circle cx="12" cy="12" r="7.8" mask="url(#playSymbolMask)" id="filledCircle"></circle>
</svg> </div>
      <!--?lit$0292179355$--><!--?-->
    </div></template></colab-run-button>
          </div>
        </div>
      <div class="editor flex lazy-editor" style=""><pre class="lazy-virtualized" style="font-size: 14px; line-height: 19px;"><pre class="lazy-gutter"></pre><pre class="monaco-colorized colab-dark colab-dark" data-lang="notebook-python"><span><span class="mtk1">average_price&nbsp;=&nbsp;listings_df</span><span class="mtk12">[</span><span class="mtk5">'price'</span><span class="mtk12">]</span><span class="mtk1">.mean</span><span class="mtk12">()</span></span><br><span><span class="mtk15">print</span><span class="mtk12">(</span><span class="mtk5">"Average&nbsp;Price&nbsp;for&nbsp;the&nbsp;Entire&nbsp;Neighborhood:&nbsp;"</span><span class="mtk12">,</span><span class="mtk1">&nbsp;average_price</span><span class="mtk12">)</span></span><br></pre></pre></div><colab-form class="formview vertical layout flex"><div class="widget-area vertical layout"></div></colab-form></div>
    <div class="output"><!----> <div class="output-header"> </div>
        <div class="output-content">
          <div class="output-info"><colab-output-info title="Clear output

executed at unknown time" hovering=""><template shadowrootmode="open"><!----> <md-icon class="collaborator account-circle" alt="Execution output" aria-hidden="true"><template shadowrootmode="open"><!----><slot></slot></template><!--?lit$0292179355$-->account_circle</md-icon>
      <!--?lit$0292179355$--> <mwc-icon-button icon="cancel" command="clear-focused-or-selected-outputs" alt="Clear output"><template shadowrootmode="open"><!----><button class="mdc-icon-button mdc-icon-button--display-flex" aria-label="cancel"><!--?lit$0292179355$-->
    <!--?lit$0292179355$--><i class="material-icons"><!--?lit$0292179355$-->cancel</i>
    <span><slot></slot></span>
  </button></template>
          </mwc-icon-button><!--?--></template></colab-output-info></div>
          <div class="output-iframe-container">
            <div class="output-iframe-sizer"> <div><div><colab-static-output-renderer tabindex="0" role="group"><div><div class="stream output_text"><pre>Average Price for the Entire Neighborhood:  221.16173928592715
</pre></div></div><div></div></colab-static-output-renderer></div></div></div>
          </div>
        </div></div></div><colab-cell-next-steps><template shadowrootmode="open"><!----></template></colab-cell-next-steps></div></div><div class="add-cell">
      <hr>
    </div></div><div class="cell text" id="cell-0b090a08" tabindex="-1" role="region" aria-label="Cell 49: Text cell: Room Type" style=""><div class="cell-tag-editor sticky"></div><div class="cell-toolbar sticky"></div><div class="main-content" elevation="0"><div class="cell-contents"><div class="cell-mask"></div><span class="imported-info-area"></span><!----> <div class="toolbar-root"></div>
      <div class="editor-container horizontal">
        <div class="editor-root"></div>
        <div class="text-top-div">
          <div class="markdown"><span><div class="text-cell-section-header layout horizontal center"><mwc-icon-button class="header-section-toggle" icon="keyboard_arrow_down" title="Collapse 9 child cells under Room Type (Press &lt;Shift&gt; to also collapse sibling sections)"><template shadowrootmode="open"><!----><button class="mdc-icon-button mdc-icon-button--display-flex" aria-label="keyboard_arrow_down"><!--?lit$0292179355$-->
    <!--?lit$0292179355$--><i class="material-icons"><!--?lit$0292179355$-->keyboard_arrow_down</i>
    <span><slot></slot></span>
  </button></template></mwc-icon-button><h1>Room Type</h1></div>
</span></div>
        </div>
      </div>

      <div class="section-header" style="display: none;">
        <colab-run-button role="button" aria-label="Run cell"><template shadowrootmode="open"><!----> <div class="cell-execution   ">
      <div class="execution-count"><!--?lit$0292179355$-->[ ]</div>
      <div class="cell-execution-indicator"> <!--?lit$0292179355$-->
<svg xmlns="http://www.w3.org/2000/svg" viewBox="0 0 24 24">
  <!--?lit$0292179355$-->
  <mask id="playSymbolMask">
    <rect width="100%" height="100%" fill="white"></rect>
    <polygon points="10,8 17,12 10,16" fill="black"></polygon>
  </mask>
  <circle cx="12" cy="12" r="7.8" mask="url(#playSymbolMask)" id="filledCircle"></circle>
</svg> </div>
      <!--?lit$0292179355$--><!--?-->
    </div></template></colab-run-button>
        <div class="section-header-container" title="click to expand">↳ 9 cells hidden</div>
      </div></div></div><div class="add-cell">
      <hr>
    </div></div><div class="cell code code-has-output icon-scrolling" id="cell-824ddc9a" tabindex="-1" role="region" aria-label="Cell 50: Code cell: " style=""><div class="cell-tag-editor sticky"></div><div class="cell-toolbar sticky"></div><div class="main-content" elevation="0"><div class="cell-contents"><div class="cell-mask"></div><span class="imported-info-area"></span><div class="codecell-input-output">
      <div class="inputarea horizontal layout code">
        <div class="cell-gutter">
          <!-- Bounding range for vertical scrolling of icons -->
          <div class="cell-execution-container">
            <colab-run-button title="Run cell (Ctrl+Enter)
cell has not been executed in this session

executed at unknown time" role="button" aria-label="Run cell"><template shadowrootmode="open"><!----> <div class="cell-execution  stale ">
      <div class="execution-count"><!--?lit$0292179355$-->[ ]</div>
      <div class="cell-execution-indicator"> <!--?lit$0292179355$-->
<svg xmlns="http://www.w3.org/2000/svg" viewBox="0 0 24 24">
  <!--?lit$0292179355$-->
  <mask id="playSymbolMask">
    <rect width="100%" height="100%" fill="white"></rect>
    <polygon points="10,8 17,12 10,16" fill="black"></polygon>
  </mask>
  <circle cx="12" cy="12" r="7.8" mask="url(#playSymbolMask)" id="filledCircle"></circle>
</svg> </div>
      <!--?lit$0292179355$--><!--?-->
    </div></template></colab-run-button>
          </div>
        </div>
      <div class="editor flex lazy-editor" style=""><pre class="lazy-virtualized" style="font-size: 14px; line-height: 19px;"><pre class="lazy-gutter"></pre><pre class="monaco-colorized colab-dark colab-dark" data-lang="notebook-python"><span><span class="mtk8">#&nbsp;Look&nbsp;at&nbsp;how&nbsp;many&nbsp;of&nbsp;each&nbsp;room&nbsp;type&nbsp;there&nbsp;are</span></span><br><span><span class="mtk1">listings_df</span><span class="mtk12">[</span><span class="mtk5">'room_type'</span><span class="mtk12">]</span><span class="mtk1">.value_counts</span><span class="mtk12">()</span></span><br></pre></pre></div><colab-form class="formview vertical layout flex"><div class="widget-area vertical layout"></div></colab-form></div>
    <div class="output"><!----> <div class="output-header"> </div>
        <div class="output-content">
          <div class="output-info"><colab-output-info title="Clear output

executed at unknown time" hovering=""><template shadowrootmode="open"><!----> <md-icon class="collaborator account-circle" alt="Execution output" aria-hidden="true"><template shadowrootmode="open"><!----><slot></slot></template><!--?lit$0292179355$-->account_circle</md-icon>
      <!--?lit$0292179355$--> <mwc-icon-button icon="cancel" command="clear-focused-or-selected-outputs" alt="Clear output"><template shadowrootmode="open"><!----><button class="mdc-icon-button mdc-icon-button--display-flex" aria-label="cancel"><!--?lit$0292179355$-->
    <!--?lit$0292179355$--><i class="material-icons"><!--?lit$0292179355$-->cancel</i>
    <span><slot></slot></span>
  </button></template>
          </mwc-icon-button><!--?--></template></colab-output-info></div>
          <div class="output-iframe-container">
            <div class="output-iframe-sizer"> <div><div><colab-static-output-renderer tabindex="0" role="group"><div><div class="execute_result output_text"><pre>Entire home/apt    64669
Private room        8367
Hotel room           828
Shared room          465
Name: room_type, dtype: int64</pre></div></div><div></div></colab-static-output-renderer></div></div></div>
          </div>
        </div></div></div><colab-cell-next-steps><template shadowrootmode="open"><!----></template></colab-cell-next-steps></div></div><div class="add-cell">
      <hr>
    </div></div><div class="cell code code-has-output icon-scrolling" id="cell-28979f10" tabindex="-1" role="region" aria-label="Cell 51: Code cell: " style=""><div class="cell-tag-editor sticky"></div><div class="cell-toolbar sticky"></div><div class="main-content" elevation="0"><div class="cell-contents"><div class="cell-mask"></div><span class="imported-info-area"></span><div class="codecell-input-output">
      <div class="inputarea horizontal layout code">
        <div class="cell-gutter">
          <!-- Bounding range for vertical scrolling of icons -->
          <div class="cell-execution-container">
            <colab-run-button title="Run cell (Ctrl+Enter)
cell has not been executed in this session

executed at unknown time" role="button" aria-label="Run cell"><template shadowrootmode="open"><!----> <div class="cell-execution  stale ">
      <div class="execution-count"><!--?lit$0292179355$-->[ ]</div>
      <div class="cell-execution-indicator"> <!--?lit$0292179355$-->
<svg xmlns="http://www.w3.org/2000/svg" viewBox="0 0 24 24">
  <!--?lit$0292179355$-->
  <mask id="playSymbolMask">
    <rect width="100%" height="100%" fill="white"></rect>
    <polygon points="10,8 17,12 10,16" fill="black"></polygon>
  </mask>
  <circle cx="12" cy="12" r="7.8" mask="url(#playSymbolMask)" id="filledCircle"></circle>
</svg> </div>
      <!--?lit$0292179355$--><!--?-->
    </div></template></colab-run-button>
          </div>
        </div>
      <div class="editor flex lazy-editor" style=""><pre class="lazy-virtualized" style="font-size: 14px; line-height: 19px;"><pre class="lazy-gutter"></pre><pre class="monaco-colorized colab-dark colab-dark" data-lang="notebook-python"><span><span class="mtk1">listings_df</span><span class="mtk12">[</span><span class="mtk5">'room_type'</span><span class="mtk12">]</span><span class="mtk1">.value_counts</span><span class="mtk12">(</span><span class="mtk1">normalize=</span><span class="mtk9">True</span><span class="mtk12">)</span></span><br></pre></pre></div><colab-form class="formview vertical layout flex"><div class="widget-area vertical layout"></div></colab-form></div>
    <div class="output"><!----> <div class="output-header"> </div>
        <div class="output-content">
          <div class="output-info"><colab-output-info title="Clear output

executed at unknown time" hovering=""><template shadowrootmode="open"><!----> <md-icon class="collaborator account-circle" alt="Execution output" aria-hidden="true"><template shadowrootmode="open"><!----><slot></slot></template><!--?lit$0292179355$-->account_circle</md-icon>
      <!--?lit$0292179355$--> <mwc-icon-button icon="cancel" command="clear-focused-or-selected-outputs" alt="Clear output"><template shadowrootmode="open"><!----><button class="mdc-icon-button mdc-icon-button--display-flex" aria-label="cancel"><!--?lit$0292179355$-->
    <!--?lit$0292179355$--><i class="material-icons"><!--?lit$0292179355$-->cancel</i>
    <span><slot></slot></span>
  </button></template>
          </mwc-icon-button><!--?--></template></colab-output-info></div>
          <div class="output-iframe-container">
            <div class="output-iframe-sizer"> <div><div><colab-static-output-renderer tabindex="0" role="group"><div><div class="execute_result output_text"><pre>Entire home/apt    0.870037
Private room       0.112567
Hotel room         0.011140
Shared room        0.006256
Name: room_type, dtype: float64</pre></div></div><div></div></colab-static-output-renderer></div></div></div>
          </div>
        </div></div></div><colab-cell-next-steps><template shadowrootmode="open"><!----></template></colab-cell-next-steps></div></div><div class="add-cell">
      <hr>
    </div></div><div class="cell code icon-scrolling" id="cell-6bcdaf38" tabindex="-1" role="region" aria-label="Cell 52: Code cell: " style=""><div class="cell-tag-editor sticky"></div><div class="cell-toolbar sticky"></div><div class="main-content" elevation="0"><div class="cell-contents"><div class="cell-mask"></div><span class="imported-info-area"></span><div class="codecell-input-output">
      <div class="inputarea horizontal layout code">
        <div class="cell-gutter">
          <!-- Bounding range for vertical scrolling of icons -->
          <div class="cell-execution-container">
            <colab-run-button title="Run cell (Ctrl+Enter)
cell has not been executed in this session" role="button" aria-label="Run cell"><template shadowrootmode="open"><!----> <div class="cell-execution  stale ">
      <div class="execution-count"><!--?lit$0292179355$-->[ ]</div>
      <div class="cell-execution-indicator"> <!--?lit$0292179355$-->
<svg xmlns="http://www.w3.org/2000/svg" viewBox="0 0 24 24">
  <!--?lit$0292179355$-->
  <mask id="playSymbolMask">
    <rect width="100%" height="100%" fill="white"></rect>
    <polygon points="10,8 17,12 10,16" fill="black"></polygon>
  </mask>
  <circle cx="12" cy="12" r="7.8" mask="url(#playSymbolMask)" id="filledCircle"></circle>
</svg> </div>
      <!--?lit$0292179355$--><!--?-->
    </div></template></colab-run-button>
          </div>
        </div>
      <div class="editor flex lazy-editor" style=""><pre class="lazy-virtualized" style="font-size: 14px; line-height: 19px;"><pre class="lazy-gutter"></pre><pre class="monaco-colorized colab-dark colab-dark" data-lang="notebook-python"><span><span class="mtk1">roomtype_value_counts=</span><span class="mtk12">[</span><span class="mtk6">64669</span><span class="mtk12">,</span><span class="mtk1">&nbsp;</span><span class="mtk6">8367</span><span class="mtk12">,</span><span class="mtk1">&nbsp;</span><span class="mtk6">828</span><span class="mtk12">,</span><span class="mtk1">&nbsp;</span><span class="mtk6">465</span><span class="mtk12">]</span></span><br></pre></pre></div><colab-form class="formview vertical layout flex"><div class="widget-area vertical layout"></div></colab-form></div>
    <div class="output"><!----> <div class="output-header"> </div>
        <div class="output-content" style="display: none;">
          <div class="output-info"> </div>
          <div class="output-iframe-container">
            <div class="output-iframe-sizer"> </div>
          </div>
        </div></div></div><colab-cell-next-steps><template shadowrootmode="open"><!----></template></colab-cell-next-steps></div></div><div class="add-cell">
      <hr>
    </div></div><div class="cell code icon-scrolling" id="cell-54e241d6" tabindex="-1" role="region" aria-label="Cell 53: Code cell: " style=""><div class="cell-tag-editor sticky"></div><div class="cell-toolbar sticky"></div><div class="main-content" elevation="0"><div class="cell-contents"><div class="cell-mask"></div><span class="imported-info-area"></span><div class="codecell-input-output">
      <div class="inputarea horizontal layout code">
        <div class="cell-gutter">
          <!-- Bounding range for vertical scrolling of icons -->
          <div class="cell-execution-container">
            <colab-run-button title="Run cell (Ctrl+Enter)
cell has not been executed in this session" role="button" aria-label="Run cell"><template shadowrootmode="open"><!----> <div class="cell-execution  stale ">
      <div class="execution-count"><!--?lit$0292179355$-->[ ]</div>
      <div class="cell-execution-indicator"> <!--?lit$0292179355$-->
<svg xmlns="http://www.w3.org/2000/svg" viewBox="0 0 24 24">
  <!--?lit$0292179355$-->
  <mask id="playSymbolMask">
    <rect width="100%" height="100%" fill="white"></rect>
    <polygon points="10,8 17,12 10,16" fill="black"></polygon>
  </mask>
  <circle cx="12" cy="12" r="7.8" mask="url(#playSymbolMask)" id="filledCircle"></circle>
</svg> </div>
      <!--?lit$0292179355$--><!--?-->
    </div></template></colab-run-button>
          </div>
        </div>
      <div class="editor flex lazy-editor" style=""><pre class="lazy-virtualized" style="font-size: 14px; line-height: 19px;"><pre class="lazy-gutter"></pre><pre class="monaco-colorized colab-dark colab-dark" data-lang="notebook-python"><span><span class="mtk1">roomtypes&nbsp;=&nbsp;</span><span class="mtk12">[</span><span class="mtk5">'Entire&nbsp;home/apt'</span><span class="mtk12">,</span><span class="mtk5">'Private&nbsp;room'</span><span class="mtk12">,</span><span class="mtk1">&nbsp;</span><span class="mtk5">'Hotel&nbsp;room'</span><span class="mtk12">,</span><span class="mtk1">&nbsp;</span><span class="mtk5">'Shared&nbsp;room'</span><span class="mtk12">]</span></span><br></pre></pre></div><colab-form class="formview vertical layout flex"><div class="widget-area vertical layout"></div></colab-form></div>
    <div class="output"><!----> <div class="output-header"> </div>
        <div class="output-content" style="display: none;">
          <div class="output-info"> </div>
          <div class="output-iframe-container">
            <div class="output-iframe-sizer"> </div>
          </div>
        </div></div></div><colab-cell-next-steps><template shadowrootmode="open"><!----></template></colab-cell-next-steps></div></div><div class="add-cell">
      <hr>
    </div></div><div class="cell code code-has-output icon-scrolling" id="cell-9ff8bcb7" tabindex="-1" role="region" aria-label="Cell 54: Code cell: " style=""><div class="cell-tag-editor sticky"></div><div class="cell-toolbar sticky"></div><div class="main-content" elevation="0"><div class="cell-contents"><div class="cell-mask"></div><span class="imported-info-area"></span><div class="codecell-input-output">
      <div class="inputarea horizontal layout code">
        <div class="cell-gutter">
          <!-- Bounding range for vertical scrolling of icons -->
          <div class="cell-execution-container">
            <colab-run-button title="Run cell (Ctrl+Enter)
cell has not been executed in this session

executed at unknown time" role="button" aria-label="Run cell"><template shadowrootmode="open"><!----> <div class="cell-execution  stale ">
      <div class="execution-count"><!--?lit$0292179355$-->[ ]</div>
      <div class="cell-execution-indicator"> <!--?lit$0292179355$-->
<svg xmlns="http://www.w3.org/2000/svg" viewBox="0 0 24 24">
  <!--?lit$0292179355$-->
  <mask id="playSymbolMask">
    <rect width="100%" height="100%" fill="white"></rect>
    <polygon points="10,8 17,12 10,16" fill="black"></polygon>
  </mask>
  <circle cx="12" cy="12" r="7.8" mask="url(#playSymbolMask)" id="filledCircle"></circle>
</svg> </div>
      <!--?lit$0292179355$--><!--?-->
    </div></template></colab-run-button>
          </div>
        </div>
      <div class="editor flex lazy-editor" style=""><pre class="lazy-virtualized" style="font-size: 14px; line-height: 19px;"><pre class="lazy-gutter"></pre><pre class="monaco-colorized colab-dark colab-dark" data-lang="notebook-python"><span><span class="mtk8">#&nbsp;Plot&nbsp;count&nbsp;of&nbsp;each&nbsp;room&nbsp;type&nbsp;to&nbsp;show&nbsp;what&nbsp;is&nbsp;mos</span><span class="mtk8">t&nbsp;common</span></span><br><span><span class="mtk1">plt.figure</span><span class="mtk12">(</span><span class="mtk1">figsize=</span><span class="mtk12">(</span><span class="mtk6">6</span><span class="mtk12">,</span><span class="mtk1">&nbsp;</span><span class="mtk6">4</span><span class="mtk12">))</span></span><br><span><span class="mtk1">plt.bar</span><span class="mtk12">(</span><span class="mtk1">x=roomtypes</span><span class="mtk12">,</span><span class="mtk1">&nbsp;height=roomtype_value_counts</span><span class="mtk12">,</span><span class="mtk1">&nbsp;color=</span><span class="mtk5">'#FF5A5F'</span><span class="mtk12">)</span></span><br><span><span class="mtk1">plt.title</span><span class="mtk12">(</span><span class="mtk5">'87%&nbsp;of&nbsp;Listings&nbsp;are&nbsp;Entire&nbsp;Home/Apt'</span><span class="mtk12">,</span><span class="mtk1">&nbsp;fontdict=</span><span class="mtk12">{</span><span class="mtk5">'fontsize'</span><span class="mtk12">:</span><span class="mtk1">&nbsp;</span><span class="mtk6">16</span><span class="mtk12">})</span></span><br><span><span class="mtk1">plt.xlabel</span><span class="mtk12">(</span><span class="mtk5">'Room&nbsp;Type'</span><span class="mtk12">,</span><span class="mtk1">&nbsp;fontdict=</span><span class="mtk12">{</span><span class="mtk5">'fontsize'</span><span class="mtk12">:</span><span class="mtk1">&nbsp;</span><span class="mtk6">12</span><span class="mtk12">})</span></span><br><span><span class="mtk1">plt.ylabel</span><span class="mtk12">(</span><span class="mtk5">"Count"</span><span class="mtk12">,</span><span class="mtk1">&nbsp;fontdict=</span><span class="mtk12">{</span><span class="mtk5">'fontsize'</span><span class="mtk12">:</span><span class="mtk1">&nbsp;</span><span class="mtk6">2</span><span class="mtk12">});</span></span><br></pre></pre></div><colab-form class="formview vertical layout flex"><div class="widget-area vertical layout"></div></colab-form></div>
    <div class="output"><!----> <div class="output-header"> </div>
        <div class="output-content">
          <div class="output-info"><colab-output-info title="Clear output

executed at unknown time" hovering=""><template shadowrootmode="open"><!----> <md-icon class="collaborator account-circle" alt="Execution output" aria-hidden="true"><template shadowrootmode="open"><!----><slot></slot></template><!--?lit$0292179355$-->account_circle</md-icon>
      <!--?lit$0292179355$--> <mwc-icon-button icon="cancel" command="clear-focused-or-selected-outputs" alt="Clear output"><template shadowrootmode="open"><!----><button class="mdc-icon-button mdc-icon-button--display-flex" aria-label="cancel"><!--?lit$0292179355$-->
    <!--?lit$0292179355$--><i class="material-icons"><!--?lit$0292179355$-->cancel</i>
    <span><slot></slot></span>
  </button></template>
          </mwc-icon-button><!--?--></template></colab-output-info></div>
          <div class="output-iframe-container">
            <div class="output-iframe-sizer"> <div style="height: 432px;"><div class="outputview" style="height: 432px;"><colab-dom-lifecycle-events style="display: none;"></colab-dom-lifecycle-events><iframe allow="" sandbox="allow-downloads allow-forms allow-pointer-lock allow-popups allow-same-origin allow-scripts allow-storage-access-by-user-activation allow-popups-to-escape-sandbox" src="./Airbnb_Paris__files/outputframe(14).html" class="" style="height: 432px;"></iframe></div></div></div>
          </div>
        </div></div></div><colab-cell-next-steps><template shadowrootmode="open"><!----></template></colab-cell-next-steps></div></div><div class="add-cell">
      <hr>
    </div></div><div class="cell code code-has-output icon-scrolling" id="cell-de0b722c" tabindex="-1" role="region" aria-label="Cell 55: Code cell: " style=""><div class="cell-tag-editor sticky"></div><div class="cell-toolbar sticky"></div><div class="main-content" elevation="0"><div class="cell-contents"><div class="cell-mask"></div><span class="imported-info-area"></span><div class="codecell-input-output">
      <div class="inputarea horizontal layout code">
        <div class="cell-gutter">
          <!-- Bounding range for vertical scrolling of icons -->
          <div class="cell-execution-container">
            <colab-run-button title="Run cell (Ctrl+Enter)
cell has not been executed in this session

executed at unknown time" role="button" aria-label="Run cell"><template shadowrootmode="open"><!----> <div class="cell-execution  stale ">
      <div class="execution-count"><!--?lit$0292179355$-->[ ]</div>
      <div class="cell-execution-indicator"> <!--?lit$0292179355$-->
<svg xmlns="http://www.w3.org/2000/svg" viewBox="0 0 24 24">
  <!--?lit$0292179355$-->
  <mask id="playSymbolMask">
    <rect width="100%" height="100%" fill="white"></rect>
    <polygon points="10,8 17,12 10,16" fill="black"></polygon>
  </mask>
  <circle cx="12" cy="12" r="7.8" mask="url(#playSymbolMask)" id="filledCircle"></circle>
</svg> </div>
      <!--?lit$0292179355$--><!--?-->
    </div></template></colab-run-button>
          </div>
        </div>
      <div class="editor flex lazy-editor" style=""><pre class="lazy-virtualized" style="font-size: 14px; line-height: 19px;"><pre class="lazy-gutter"></pre><pre class="monaco-colorized colab-dark colab-dark" data-lang="notebook-python"><span><span class="mtk8">#&nbsp;Which&nbsp;type&nbsp;of&nbsp;room&nbsp;gets&nbsp;the&nbsp;most&nbsp;reviews</span></span><br><span><span class="mtk1">listings_df.groupby</span><span class="mtk12">(</span><span class="mtk5">'room_type'</span><span class="mtk12">)[</span><span class="mtk5">'number_of_reviews'</span><span class="mtk12">]</span><span class="mtk1">.mean</span><span class="mtk12">()</span></span><br></pre></pre></div><colab-form class="formview vertical layout flex"><div class="widget-area vertical layout"></div></colab-form></div>
    <div class="output"><!----> <div class="output-header"> </div>
        <div class="output-content">
          <div class="output-info"><colab-output-info title="Clear output

executed at unknown time" hovering=""><template shadowrootmode="open"><!----> <md-icon class="collaborator account-circle" alt="Execution output" aria-hidden="true"><template shadowrootmode="open"><!----><slot></slot></template><!--?lit$0292179355$-->account_circle</md-icon>
      <!--?lit$0292179355$--> <mwc-icon-button icon="cancel" command="clear-focused-or-selected-outputs" alt="Clear output"><template shadowrootmode="open"><!----><button class="mdc-icon-button mdc-icon-button--display-flex" aria-label="cancel"><!--?lit$0292179355$-->
    <!--?lit$0292179355$--><i class="material-icons"><!--?lit$0292179355$-->cancel</i>
    <span><slot></slot></span>
  </button></template>
          </mwc-icon-button><!--?--></template></colab-output-info></div>
          <div class="output-iframe-container">
            <div class="output-iframe-sizer"> <div><div><colab-static-output-renderer tabindex="0" role="group"><div><div class="execute_result output_text"><pre>room_type
Entire home/apt    21.565742
Hotel room         51.021739
Private room       32.077925
Shared room        34.784946
Name: number_of_reviews, dtype: float64</pre></div></div><div></div></colab-static-output-renderer></div></div></div>
          </div>
        </div></div></div><colab-cell-next-steps><template shadowrootmode="open"><!----></template></colab-cell-next-steps></div></div><div class="add-cell">
      <hr>
    </div></div><div class="cell code code-has-output icon-scrolling" id="cell-b8f443d3" tabindex="-1" role="region" aria-label="Cell 56: Code cell: " style=""><div class="cell-tag-editor sticky"></div><div class="cell-toolbar sticky"></div><div class="main-content" elevation="0"><div class="cell-contents"><div class="cell-mask"></div><span class="imported-info-area"></span><div class="codecell-input-output">
      <div class="inputarea horizontal layout code">
        <div class="cell-gutter">
          <!-- Bounding range for vertical scrolling of icons -->
          <div class="cell-execution-container">
            <colab-run-button title="Run cell (Ctrl+Enter)
cell has not been executed in this session

executed at unknown time" role="button" aria-label="Run cell"><template shadowrootmode="open"><!----> <div class="cell-execution  stale ">
      <div class="execution-count"><!--?lit$0292179355$-->[ ]</div>
      <div class="cell-execution-indicator"> <!--?lit$0292179355$-->
<svg xmlns="http://www.w3.org/2000/svg" viewBox="0 0 24 24">
  <!--?lit$0292179355$-->
  <mask id="playSymbolMask">
    <rect width="100%" height="100%" fill="white"></rect>
    <polygon points="10,8 17,12 10,16" fill="black"></polygon>
  </mask>
  <circle cx="12" cy="12" r="7.8" mask="url(#playSymbolMask)" id="filledCircle"></circle>
</svg> </div>
      <!--?lit$0292179355$--><!--?-->
    </div></template></colab-run-button>
          </div>
        </div>
      <div class="editor flex lazy-editor" style=""><pre class="lazy-virtualized" style="font-size: 14px; line-height: 19px;"><pre class="lazy-gutter"></pre><pre class="monaco-colorized colab-dark colab-dark" data-lang="notebook-python"><span><span class="mtk1">listings_df</span><span class="mtk12">[</span><span class="mtk5">'availability_365'</span><span class="mtk12">]</span><span class="mtk1">.value_counts</span><span class="mtk12">()</span></span><br></pre></pre></div><colab-form class="formview vertical layout flex"><div class="widget-area vertical layout"></div></colab-form></div>
    <div class="output"><!----> <div class="output-header"> </div>
        <div class="output-content">
          <div class="output-info"><colab-output-info title="Clear output

executed at unknown time" hovering=""><template shadowrootmode="open"><!----> <md-icon class="collaborator account-circle" alt="Execution output" aria-hidden="true"><template shadowrootmode="open"><!----><slot></slot></template><!--?lit$0292179355$-->account_circle</md-icon>
      <!--?lit$0292179355$--> <mwc-icon-button icon="cancel" command="clear-focused-or-selected-outputs" alt="Clear output"><template shadowrootmode="open"><!----><button class="mdc-icon-button mdc-icon-button--display-flex" aria-label="cancel"><!--?lit$0292179355$-->
    <!--?lit$0292179355$--><i class="material-icons"><!--?lit$0292179355$-->cancel</i>
    <span><slot></slot></span>
  </button></template>
          </mwc-icon-button><!--?--></template></colab-output-info></div>
          <div class="output-iframe-container">
            <div class="output-iframe-sizer"> <div><div><colab-static-output-renderer tabindex="0" role="group"><div><div class="execute_result output_text"><pre>0      26001
365      962
364      648
363      601
89       441
       ...  
282       54
229       48
276       48
284       48
279       45
Name: availability_365, Length: 366, dtype: int64</pre></div></div><div></div></colab-static-output-renderer></div></div></div>
          </div>
        </div></div></div><colab-cell-next-steps><template shadowrootmode="open"><!----></template></colab-cell-next-steps></div></div><div class="add-cell">
      <hr>
    </div></div><div class="cell code code-has-output icon-scrolling" id="cell-17ef7ac5" tabindex="-1" role="region" aria-label="Cell 57: Code cell: " style=""><div class="cell-tag-editor sticky"></div><div class="cell-toolbar sticky"></div><div class="main-content" elevation="0"><div class="cell-contents"><div class="cell-mask"></div><span class="imported-info-area"></span><div class="codecell-input-output">
      <div class="inputarea horizontal layout code">
        <div class="cell-gutter">
          <!-- Bounding range for vertical scrolling of icons -->
          <div class="cell-execution-container">
            <colab-run-button title="Run cell (Ctrl+Enter)
cell has not been executed in this session

executed at unknown time" role="button" aria-label="Run cell"><template shadowrootmode="open"><!----> <div class="cell-execution  stale ">
      <div class="execution-count"><!--?lit$0292179355$-->[ ]</div>
      <div class="cell-execution-indicator"> <!--?lit$0292179355$-->
<svg xmlns="http://www.w3.org/2000/svg" viewBox="0 0 24 24">
  <!--?lit$0292179355$-->
  <mask id="playSymbolMask">
    <rect width="100%" height="100%" fill="white"></rect>
    <polygon points="10,8 17,12 10,16" fill="black"></polygon>
  </mask>
  <circle cx="12" cy="12" r="7.8" mask="url(#playSymbolMask)" id="filledCircle"></circle>
</svg> </div>
      <!--?lit$0292179355$--><!--?-->
    </div></template></colab-run-button>
          </div>
        </div>
      <div class="editor flex lazy-editor" style=""><pre class="lazy-virtualized" style="font-size: 14px; line-height: 19px;"><pre class="lazy-gutter"></pre><pre class="monaco-colorized colab-dark colab-dark" data-lang="notebook-python"><span><span class="mtk15">print</span><span class="mtk12">(</span><span class="mtk1">listings_df.shape</span><span class="mtk12">)</span></span><br><span><span class="mtk1">listings_df.head</span><span class="mtk12">()</span></span><br></pre></pre></div><colab-form class="formview vertical layout flex"><div class="widget-area vertical layout"></div></colab-form></div>
    <div class="output"><!----> <div class="output-header"> </div>
        <div class="output-content">
          <div class="output-info"><colab-output-info title="Clear output

executed at unknown time" hovering=""><template shadowrootmode="open"><!----> <md-icon class="collaborator account-circle" alt="Execution output" aria-hidden="true"><template shadowrootmode="open"><!----><slot></slot></template><!--?lit$0292179355$-->account_circle</md-icon>
      <!--?lit$0292179355$--> <mwc-icon-button icon="cancel" command="clear-focused-or-selected-outputs" alt="Clear output"><template shadowrootmode="open"><!----><button class="mdc-icon-button mdc-icon-button--display-flex" aria-label="cancel"><!--?lit$0292179355$-->
    <!--?lit$0292179355$--><i class="material-icons"><!--?lit$0292179355$-->cancel</i>
    <span><slot></slot></span>
  </button></template>
          </mwc-icon-button><!--?--></template></colab-output-info></div>
          <div class="output-iframe-container">
            <div class="output-iframe-sizer"> <div style="height: 694px;"><div class="outputview" style="height: 695px;"><colab-dom-lifecycle-events style="display: none;"></colab-dom-lifecycle-events><iframe allow="" sandbox="allow-downloads allow-forms allow-pointer-lock allow-popups allow-same-origin allow-scripts allow-storage-access-by-user-activation allow-popups-to-escape-sandbox" src="./Airbnb_Paris__files/outputframe(15).html" class="" style="height: 695px;"></iframe></div></div></div>
          </div>
        </div></div></div><colab-cell-next-steps><template shadowrootmode="open"><!----></template></colab-cell-next-steps></div></div><div class="add-cell">
      <hr>
    </div></div><div class="cell code code-has-output icon-scrolling" id="cell-GdPftfyh9-ad" tabindex="-1" role="region" aria-label="Cell 58: Code cell: " style=""><div class="cell-tag-editor sticky"></div><div class="cell-toolbar sticky"></div><div class="main-content" elevation="0"><div class="cell-contents"><div class="cell-mask"></div><span class="imported-info-area"></span><div class="codecell-input-output">
      <div class="inputarea horizontal layout code">
        <div class="cell-gutter">
          <!-- Bounding range for vertical scrolling of icons -->
          <div class="cell-execution-container">
            <colab-run-button title="Run cell (Ctrl+Enter)
cell has not been executed in this session

executed at unknown time" role="button" aria-label="Run cell"><template shadowrootmode="open"><!----> <div class="cell-execution  stale ">
      <div class="execution-count"><!--?lit$0292179355$-->[ ]</div>
      <div class="cell-execution-indicator"> <!--?lit$0292179355$-->
<svg xmlns="http://www.w3.org/2000/svg" viewBox="0 0 24 24">
  <!--?lit$0292179355$-->
  <mask id="playSymbolMask">
    <rect width="100%" height="100%" fill="white"></rect>
    <polygon points="10,8 17,12 10,16" fill="black"></polygon>
  </mask>
  <circle cx="12" cy="12" r="7.8" mask="url(#playSymbolMask)" id="filledCircle"></circle>
</svg> </div>
      <!--?lit$0292179355$--><!--?-->
    </div></template></colab-run-button>
          </div>
        </div>
      <div class="editor flex lazy-editor" style=""><pre class="lazy-virtualized" style="font-size: 14px; line-height: 19px;"><pre class="lazy-gutter"></pre><pre class="monaco-colorized colab-dark colab-dark" data-lang="notebook-python"><span><span class="mtk1">listings_df</span><span class="mtk12">[</span><span class="mtk5">'host_id'</span><span class="mtk12">]</span><span class="mtk1">.plot</span><span class="mtk12">(</span><span class="mtk1">kind=</span><span class="mtk5">'hist'</span><span class="mtk12">,</span><span class="mtk1">&nbsp;bins=</span><span class="mtk6">20</span><span class="mtk12">,</span><span class="mtk1">&nbsp;title=</span><span class="mtk5">'host_id'</span><span class="mtk12">,</span><span class="mtk1">&nbsp;color=</span><span class="mtk5">'#FF5A5F'</span><span class="mtk12">)</span></span><br><span><span class="mtk1">plt.gca</span><span class="mtk12">()</span><span class="mtk1">.spines</span><span class="mtk12">[[</span><span class="mtk5">'top'</span><span class="mtk12">,</span><span class="mtk1">&nbsp;</span><span class="mtk5">'right'</span><span class="mtk12">,]]</span><span class="mtk1">.set_visible</span><span class="mtk12">(</span><span class="mtk9">False</span><span class="mtk12">)</span></span><br></pre></pre></div><colab-form class="formview vertical layout flex"><div class="widget-area vertical layout"></div></colab-form></div>
    <div class="output"><!----> <div class="output-header"> </div>
        <div class="output-content">
          <div class="output-info"><colab-output-info title="Clear output

executed at unknown time" hovering=""><template shadowrootmode="open"><!----> <md-icon class="collaborator account-circle" alt="Execution output" aria-hidden="true"><template shadowrootmode="open"><!----><slot></slot></template><!--?lit$0292179355$-->account_circle</md-icon>
      <!--?lit$0292179355$--> <mwc-icon-button icon="cancel" command="clear-focused-or-selected-outputs" alt="Clear output"><template shadowrootmode="open"><!----><button class="mdc-icon-button mdc-icon-button--display-flex" aria-label="cancel"><!--?lit$0292179355$-->
    <!--?lit$0292179355$--><i class="material-icons"><!--?lit$0292179355$-->cancel</i>
    <span><slot></slot></span>
  </button></template>
          </mwc-icon-button><!--?--></template></colab-output-info></div>
          <div class="output-iframe-container">
            <div class="output-iframe-sizer"> <div style="height: 503px;"><div class="outputview" style="height: 503px;"><colab-dom-lifecycle-events style="display: none;"></colab-dom-lifecycle-events><iframe allow="" sandbox="allow-downloads allow-forms allow-pointer-lock allow-popups allow-same-origin allow-scripts allow-storage-access-by-user-activation allow-popups-to-escape-sandbox" src="./Airbnb_Paris__files/outputframe(16).html" class="" style="height: 503px;"></iframe></div></div></div>
          </div>
        </div></div></div><colab-cell-next-steps><template shadowrootmode="open"><!----></template></colab-cell-next-steps></div></div><div class="add-cell">
      <hr>
    </div></div></div>
              </div>
            </div>
          </div>
          <!--?lit$0292179355$--> <div class="footer-links">
      <a target="_blank" href="https://colab.research.google.com/signup?utm_source=footer&amp;utm_medium=link&amp;utm_campaign=footer_links">
        <!--?lit$0292179355$-->Colab paid products
      </a>
      -
      <a href="https://colab.research.google.com/cancel-subscription" target="_blank">
        <!--?lit$0292179355$-->Cancel contracts here
      </a>
    </div>
        </div>
      </colab-shaded-scroller>
      <div class="notebook-scroll-shadow"></div>
    </div></colab-tab></div>
  </div></colab-tab-pane>
      <colab-resizer style="height: 33.3%" class="sn-resize no-tabs"><div class="resizer-thumb"></div>
        <!--?lit$0292179355$--><colab-tab-pane class="layout vertical grow no-tabs" align="horizontal"><!----> <div class="layout vertical grow">
    <div class="tab-pane-header layout horizontal noshrink">
      <paper-tabs selected="0" noink="" class="layout grow" scrollable="" role="tablist" tabindex="0" dir="null"><template shadowrootmode="open"><style scope="paper-tabs">:host {
  display: var(--layout_-_display);
        -ms-flex-align: var(--layout-center_-_-ms-flex-align); -webkit-align-items: var(--layout-center_-_-webkit-align-items); align-items: var(--layout-center_-_align-items);

        height: 48px;
        font-size: 14px;
        font-weight: 500;
        overflow: hidden;
        -moz-user-select: none;
        -ms-user-select: none;
        -webkit-user-select: none;
        user-select: none;

        
        -webkit-tap-highlight-color: rgba(0, 0, 0, 0);
        -webkit-tap-highlight-color: transparent;

        ;
}

:host([dir="rtl"]) {
  display: var(--layout-horizontal-reverse_-_display); -ms-flex-direction: var(--layout-horizontal-reverse_-_-ms-flex-direction); -webkit-flex-direction: var(--layout-horizontal-reverse_-_-webkit-flex-direction); flex-direction: var(--layout-horizontal-reverse_-_flex-direction);
}

#tabsContainer {
  position: relative;
        height: 100%;
        white-space: nowrap;
        overflow: hidden;
        -ms-flex: var(--layout-flex-auto_-_-ms-flex); -webkit-flex: var(--layout-flex-auto_-_-webkit-flex); flex: var(--layout-flex-auto_-_flex);
        ;
}

#tabsContent {
  height: 100%;
        -moz-flex-basis: auto;
        -ms-flex-basis: auto;
        flex-basis: auto;
        ;
}

#tabsContent.scrollable {
  position: absolute;
        white-space: nowrap;
}

#tabsContent:not(.scrollable), #tabsContent.scrollable.fit-container {
  display: var(--layout-horizontal_-_display); -ms-flex-direction: var(--layout-horizontal_-_-ms-flex-direction); -webkit-flex-direction: var(--layout-horizontal_-_-webkit-flex-direction); flex-direction: var(--layout-horizontal_-_flex-direction);
}

#tabsContent.scrollable.fit-container {
  min-width: 100%;
}

#tabsContent.scrollable.fit-container > ::slotted(*) {
  -ms-flex: 1 0 auto;
        -webkit-flex: 1 0 auto;
        flex: 1 0 auto;
}

.hidden {
  display: none;
}

.not-visible {
  opacity: 0;
        cursor: default;
}

paper-icon-button {
  width: 48px;
        height: 48px;
        padding: 12px;
        margin: 0 4px;
        background-color: var(--paper-icon-buttons_-_background-color); border-radius: var(--paper-icon-buttons_-_border-radius); color: var(--paper-icon-buttons_-_color); height: var(--paper-icon-buttons_-_height, 48px); padding: var(--paper-icon-buttons_-_padding, 12px); position: var(--paper-icon-buttons_-_position); width: var(--paper-icon-buttons_-_width, 48px)
}

paper-icon-button#left {
  left: var(--paper-icon-button-left_-_left); z-index: var(--paper-icon-button-left_-_z-index)
}

paper-icon-button#right {
  right: var(--paper-icon-button-right_-_right)
}

#selectionBar {
  position: absolute;
        height: 0;
        bottom: 0;
        left: 0;
        right: 0;
        border-bottom: 2px solid var(--paper-tabs-selection-bar-color, var(--paper-yellow-a100));
          -webkit-transform: scale(0);
        transform: scale(0);
          -webkit-transform-origin: left center;
        transform-origin: left center;
          transition: -webkit-transform;
        transition: transform;

        z-index: var(--paper-tabs-selection-bar_-_z-index);
}

#selectionBar.align-bottom {
  top: 0;
        bottom: auto;
}

#selectionBar.expand {
  transition-duration: 0.15s;
        transition-timing-function: cubic-bezier(0.4, 0.0, 1, 1);
}

#selectionBar.contract {
  transition-duration: 0.18s;
        transition-timing-function: cubic-bezier(0.0, 0.0, 0.2, 1);
}

#tabsContent > ::slotted(:not(#selectionBar)) {
  height: 100%;
}</style>
    

    <paper-icon-button id="left" icon="paper-tabs:chevron-left" tabindex="-1" class="not-visible" aria-hidden="true" role="button" aria-disabled="true" aria-label="" disabled="" style="pointer-events: none;"><template shadowrootmode="open"><style scope="paper-icon-button">:host {
  display: inline-block;
        position: relative;
        padding: 8px;
        outline: none;
        -webkit-user-select: none;
        -moz-user-select: none;
        -ms-user-select: none;
        user-select: none;
        cursor: pointer;
        z-index: 0;
        line-height: 1;

        width: 40px;
        height: 40px;

        
        -webkit-tap-highlight-color: rgba(0, 0, 0, 0);
        -webkit-tap-highlight-color: transparent;

        
        box-sizing: border-box !important;

        ;
}

:host #ink {
  color: var(--paper-icon-button-ink-color, var(--primary-text-color));
        opacity: 0.6;
}

:host([disabled]) {
  color: var(--paper-icon-button-disabled-text, var(--disabled-text-color));
        pointer-events: none;
        cursor: auto;

        ;
}

:host([hidden]) {
  display: none !important;
}

:host(:hover) {
  ;
}

iron-icon {
  --iron-icon-width: 100%;
        --iron-icon-height: 100%;
}</style><iron-icon id="icon" alt=""><template shadowrootmode="open"><svg viewBox="0 0 24 24" preserveAspectRatio="xMidYMid meet" focusable="false" style="pointer-events: none; display: block; width: 100%; height: 100%;"><g><path d="M15.41 7.41L14 6l-6 6 6 6 1.41-1.41L10.83 12z"></path></g></svg><style scope="iron-icon">:host {
  display: var(--layout-inline_-_display);
        -ms-flex-align: var(--layout-center-center_-_-ms-flex-align); -webkit-align-items: var(--layout-center-center_-_-webkit-align-items); align-items: var(--layout-center-center_-_align-items); -ms-flex-pack: var(--layout-center-center_-_-ms-flex-pack); -webkit-justify-content: var(--layout-center-center_-_-webkit-justify-content); justify-content: var(--layout-center-center_-_justify-content);
        position: relative;

        vertical-align: middle;

        fill: var(--iron-icon-fill-color, currentcolor);
        stroke: var(--iron-icon-stroke-color, none);

        width: var(--iron-icon-width, 24px);
        height: var(--iron-icon-height, 24px);
        ;
}

:host([hidden]) {
  display: none;
}</style>
    
</template></iron-icon></template></paper-icon-button>

    <div id="tabsContainer" style="touch-action: pan-y;">
      <div id="tabsContent" class="scrollable">
        <div id="selectionBar" class="" style="transform: translateX(0%) scaleX(0);"></div>
        <slot></slot>
      </div>
    </div>

    <paper-icon-button id="right" icon="paper-tabs:chevron-right" tabindex="-1" class="not-visible" aria-hidden="true" role="button" aria-disabled="true" aria-label="" disabled="" style="pointer-events: none;"><template shadowrootmode="open"><style scope="paper-icon-button">:host {
  display: inline-block;
        position: relative;
        padding: 8px;
        outline: none;
        -webkit-user-select: none;
        -moz-user-select: none;
        -ms-user-select: none;
        user-select: none;
        cursor: pointer;
        z-index: 0;
        line-height: 1;

        width: 40px;
        height: 40px;

        
        -webkit-tap-highlight-color: rgba(0, 0, 0, 0);
        -webkit-tap-highlight-color: transparent;

        
        box-sizing: border-box !important;

        ;
}

:host #ink {
  color: var(--paper-icon-button-ink-color, var(--primary-text-color));
        opacity: 0.6;
}

:host([disabled]) {
  color: var(--paper-icon-button-disabled-text, var(--disabled-text-color));
        pointer-events: none;
        cursor: auto;

        ;
}

:host([hidden]) {
  display: none !important;
}

:host(:hover) {
  ;
}

iron-icon {
  --iron-icon-width: 100%;
        --iron-icon-height: 100%;
}</style><iron-icon id="icon" alt=""><template shadowrootmode="open"><svg viewBox="0 0 24 24" preserveAspectRatio="xMidYMid meet" focusable="false" style="pointer-events: none; display: block; width: 100%; height: 100%;"><g><path d="M10 6L8.59 7.41 13.17 12l-4.58 4.59L10 18l6-6z"></path></g></svg><style scope="iron-icon">:host {
  display: var(--layout-inline_-_display);
        -ms-flex-align: var(--layout-center-center_-_-ms-flex-align); -webkit-align-items: var(--layout-center-center_-_-webkit-align-items); align-items: var(--layout-center-center_-_align-items); -ms-flex-pack: var(--layout-center-center_-_-ms-flex-pack); -webkit-justify-content: var(--layout-center-center_-_-webkit-justify-content); justify-content: var(--layout-center-center_-_justify-content);
        position: relative;

        vertical-align: middle;

        fill: var(--iron-icon-fill-color, currentcolor);
        stroke: var(--iron-icon-stroke-color, none);

        width: var(--iron-icon-width, 24px);
        height: var(--iron-icon-height, 24px);
        ;
}

:host([hidden]) {
  display: none;
}</style>
    
</template></iron-icon></template></paper-icon-button>
</template>
      </paper-tabs>
      <!--?lit$0292179355$--> <paper-icon-button icon="icons:more-horiz" title="Show more" role="button" tabindex="0" aria-disabled="false"><template shadowrootmode="open"><style scope="paper-icon-button">:host {
  display: inline-block;
        position: relative;
        padding: 8px;
        outline: none;
        -webkit-user-select: none;
        -moz-user-select: none;
        -ms-user-select: none;
        user-select: none;
        cursor: pointer;
        z-index: 0;
        line-height: 1;

        width: 40px;
        height: 40px;

        
        -webkit-tap-highlight-color: rgba(0, 0, 0, 0);
        -webkit-tap-highlight-color: transparent;

        
        box-sizing: border-box !important;

        ;
}

:host #ink {
  color: var(--paper-icon-button-ink-color, var(--primary-text-color));
        opacity: 0.6;
}

:host([disabled]) {
  color: var(--paper-icon-button-disabled-text, var(--disabled-text-color));
        pointer-events: none;
        cursor: auto;

        ;
}

:host([hidden]) {
  display: none !important;
}

:host(:hover) {
  ;
}

iron-icon {
  --iron-icon-width: 100%;
        --iron-icon-height: 100%;
}</style><iron-icon id="icon"><template shadowrootmode="open"><svg viewBox="0 0 24 24" preserveAspectRatio="xMidYMid meet" focusable="false" style="pointer-events: none; display: block; width: 100%; height: 100%;"><g><path d="M6 10c-1.1 0-2 .9-2 2s.9 2 2 2 2-.9 2-2-.9-2-2-2zm12 0c-1.1 0-2 .9-2 2s.9 2 2 2 2-.9 2-2-.9-2-2-2zm-6 0c-1.1 0-2 .9-2 2s.9 2 2 2 2-.9 2-2-.9-2-2-2z"></path></g></svg><style scope="iron-icon">:host {
  display: var(--layout-inline_-_display);
        -ms-flex-align: var(--layout-center-center_-_-ms-flex-align); -webkit-align-items: var(--layout-center-center_-_-webkit-align-items); align-items: var(--layout-center-center_-_align-items); -ms-flex-pack: var(--layout-center-center_-_-ms-flex-pack); -webkit-justify-content: var(--layout-center-center_-_-webkit-justify-content); justify-content: var(--layout-center-center_-_justify-content);
        position: relative;

        vertical-align: middle;

        fill: var(--iron-icon-fill-color, currentcolor);
        stroke: var(--iron-icon-stroke-color, none);

        width: var(--iron-icon-width, 24px);
        height: var(--iron-icon-height, 24px);
        ;
}

:host([hidden]) {
  display: none;
}</style>
    
</template></iron-icon></template>
  </paper-icon-button>
    </div>
    <div class="layout vertical grow tab-pane-container"> </div>
  </div></colab-tab-pane>
      </colab-resizer>
    </div>
      <colab-resizer style="width: 37%" class="we-resize no-tabs"><div class="resizer-thumb"></div>
        <!--?lit$0292179355$--> <div class="layout vertical tab-pane-parent">
      <!--?lit$0292179355$--><colab-tab-pane class="layout vertical grow no-tabs" align="horizontal"><!----> <div class="layout vertical grow">
    <div class="tab-pane-header layout horizontal noshrink">
      <paper-tabs selected="0" noink="" class="layout grow" scrollable="" role="tablist" tabindex="0" dir="null"><template shadowrootmode="open"><style scope="paper-tabs">:host {
  display: var(--layout_-_display);
        -ms-flex-align: var(--layout-center_-_-ms-flex-align); -webkit-align-items: var(--layout-center_-_-webkit-align-items); align-items: var(--layout-center_-_align-items);

        height: 48px;
        font-size: 14px;
        font-weight: 500;
        overflow: hidden;
        -moz-user-select: none;
        -ms-user-select: none;
        -webkit-user-select: none;
        user-select: none;

        
        -webkit-tap-highlight-color: rgba(0, 0, 0, 0);
        -webkit-tap-highlight-color: transparent;

        ;
}

:host([dir="rtl"]) {
  display: var(--layout-horizontal-reverse_-_display); -ms-flex-direction: var(--layout-horizontal-reverse_-_-ms-flex-direction); -webkit-flex-direction: var(--layout-horizontal-reverse_-_-webkit-flex-direction); flex-direction: var(--layout-horizontal-reverse_-_flex-direction);
}

#tabsContainer {
  position: relative;
        height: 100%;
        white-space: nowrap;
        overflow: hidden;
        -ms-flex: var(--layout-flex-auto_-_-ms-flex); -webkit-flex: var(--layout-flex-auto_-_-webkit-flex); flex: var(--layout-flex-auto_-_flex);
        ;
}

#tabsContent {
  height: 100%;
        -moz-flex-basis: auto;
        -ms-flex-basis: auto;
        flex-basis: auto;
        ;
}

#tabsContent.scrollable {
  position: absolute;
        white-space: nowrap;
}

#tabsContent:not(.scrollable), #tabsContent.scrollable.fit-container {
  display: var(--layout-horizontal_-_display); -ms-flex-direction: var(--layout-horizontal_-_-ms-flex-direction); -webkit-flex-direction: var(--layout-horizontal_-_-webkit-flex-direction); flex-direction: var(--layout-horizontal_-_flex-direction);
}

#tabsContent.scrollable.fit-container {
  min-width: 100%;
}

#tabsContent.scrollable.fit-container > ::slotted(*) {
  -ms-flex: 1 0 auto;
        -webkit-flex: 1 0 auto;
        flex: 1 0 auto;
}

.hidden {
  display: none;
}

.not-visible {
  opacity: 0;
        cursor: default;
}

paper-icon-button {
  width: 48px;
        height: 48px;
        padding: 12px;
        margin: 0 4px;
        background-color: var(--paper-icon-buttons_-_background-color); border-radius: var(--paper-icon-buttons_-_border-radius); color: var(--paper-icon-buttons_-_color); height: var(--paper-icon-buttons_-_height, 48px); padding: var(--paper-icon-buttons_-_padding, 12px); position: var(--paper-icon-buttons_-_position); width: var(--paper-icon-buttons_-_width, 48px)
}

paper-icon-button#left {
  left: var(--paper-icon-button-left_-_left); z-index: var(--paper-icon-button-left_-_z-index)
}

paper-icon-button#right {
  right: var(--paper-icon-button-right_-_right)
}

#selectionBar {
  position: absolute;
        height: 0;
        bottom: 0;
        left: 0;
        right: 0;
        border-bottom: 2px solid var(--paper-tabs-selection-bar-color, var(--paper-yellow-a100));
          -webkit-transform: scale(0);
        transform: scale(0);
          -webkit-transform-origin: left center;
        transform-origin: left center;
          transition: -webkit-transform;
        transition: transform;

        z-index: var(--paper-tabs-selection-bar_-_z-index);
}

#selectionBar.align-bottom {
  top: 0;
        bottom: auto;
}

#selectionBar.expand {
  transition-duration: 0.15s;
        transition-timing-function: cubic-bezier(0.4, 0.0, 1, 1);
}

#selectionBar.contract {
  transition-duration: 0.18s;
        transition-timing-function: cubic-bezier(0.0, 0.0, 0.2, 1);
}

#tabsContent > ::slotted(:not(#selectionBar)) {
  height: 100%;
}</style>
    

    <paper-icon-button id="left" icon="paper-tabs:chevron-left" tabindex="-1" class="not-visible" aria-hidden="true" role="button" aria-disabled="true" aria-label="" disabled="" style="pointer-events: none;"><template shadowrootmode="open"><style scope="paper-icon-button">:host {
  display: inline-block;
        position: relative;
        padding: 8px;
        outline: none;
        -webkit-user-select: none;
        -moz-user-select: none;
        -ms-user-select: none;
        user-select: none;
        cursor: pointer;
        z-index: 0;
        line-height: 1;

        width: 40px;
        height: 40px;

        
        -webkit-tap-highlight-color: rgba(0, 0, 0, 0);
        -webkit-tap-highlight-color: transparent;

        
        box-sizing: border-box !important;

        ;
}

:host #ink {
  color: var(--paper-icon-button-ink-color, var(--primary-text-color));
        opacity: 0.6;
}

:host([disabled]) {
  color: var(--paper-icon-button-disabled-text, var(--disabled-text-color));
        pointer-events: none;
        cursor: auto;

        ;
}

:host([hidden]) {
  display: none !important;
}

:host(:hover) {
  ;
}

iron-icon {
  --iron-icon-width: 100%;
        --iron-icon-height: 100%;
}</style><iron-icon id="icon" alt=""><template shadowrootmode="open"><svg viewBox="0 0 24 24" preserveAspectRatio="xMidYMid meet" focusable="false" style="pointer-events: none; display: block; width: 100%; height: 100%;"><g><path d="M15.41 7.41L14 6l-6 6 6 6 1.41-1.41L10.83 12z"></path></g></svg><style scope="iron-icon">:host {
  display: var(--layout-inline_-_display);
        -ms-flex-align: var(--layout-center-center_-_-ms-flex-align); -webkit-align-items: var(--layout-center-center_-_-webkit-align-items); align-items: var(--layout-center-center_-_align-items); -ms-flex-pack: var(--layout-center-center_-_-ms-flex-pack); -webkit-justify-content: var(--layout-center-center_-_-webkit-justify-content); justify-content: var(--layout-center-center_-_justify-content);
        position: relative;

        vertical-align: middle;

        fill: var(--iron-icon-fill-color, currentcolor);
        stroke: var(--iron-icon-stroke-color, none);

        width: var(--iron-icon-width, 24px);
        height: var(--iron-icon-height, 24px);
        ;
}

:host([hidden]) {
  display: none;
}</style>
    
</template></iron-icon></template></paper-icon-button>

    <div id="tabsContainer" style="touch-action: pan-y;">
      <div id="tabsContent" class="scrollable">
        <div id="selectionBar" class="" style="transform: translateX(0%) scaleX(0);"></div>
        <slot></slot>
      </div>
    </div>

    <paper-icon-button id="right" icon="paper-tabs:chevron-right" tabindex="-1" class="not-visible" aria-hidden="true" role="button" aria-disabled="true" aria-label="" disabled="" style="pointer-events: none;"><template shadowrootmode="open"><style scope="paper-icon-button">:host {
  display: inline-block;
        position: relative;
        padding: 8px;
        outline: none;
        -webkit-user-select: none;
        -moz-user-select: none;
        -ms-user-select: none;
        user-select: none;
        cursor: pointer;
        z-index: 0;
        line-height: 1;

        width: 40px;
        height: 40px;

        
        -webkit-tap-highlight-color: rgba(0, 0, 0, 0);
        -webkit-tap-highlight-color: transparent;

        
        box-sizing: border-box !important;

        ;
}

:host #ink {
  color: var(--paper-icon-button-ink-color, var(--primary-text-color));
        opacity: 0.6;
}

:host([disabled]) {
  color: var(--paper-icon-button-disabled-text, var(--disabled-text-color));
        pointer-events: none;
        cursor: auto;

        ;
}

:host([hidden]) {
  display: none !important;
}

:host(:hover) {
  ;
}

iron-icon {
  --iron-icon-width: 100%;
        --iron-icon-height: 100%;
}</style><iron-icon id="icon" alt=""><template shadowrootmode="open"><svg viewBox="0 0 24 24" preserveAspectRatio="xMidYMid meet" focusable="false" style="pointer-events: none; display: block; width: 100%; height: 100%;"><g><path d="M10 6L8.59 7.41 13.17 12l-4.58 4.59L10 18l6-6z"></path></g></svg><style scope="iron-icon">:host {
  display: var(--layout-inline_-_display);
        -ms-flex-align: var(--layout-center-center_-_-ms-flex-align); -webkit-align-items: var(--layout-center-center_-_-webkit-align-items); align-items: var(--layout-center-center_-_align-items); -ms-flex-pack: var(--layout-center-center_-_-ms-flex-pack); -webkit-justify-content: var(--layout-center-center_-_-webkit-justify-content); justify-content: var(--layout-center-center_-_justify-content);
        position: relative;

        vertical-align: middle;

        fill: var(--iron-icon-fill-color, currentcolor);
        stroke: var(--iron-icon-stroke-color, none);

        width: var(--iron-icon-width, 24px);
        height: var(--iron-icon-height, 24px);
        ;
}

:host([hidden]) {
  display: none;
}</style>
    
</template></iron-icon></template></paper-icon-button>
</template>
      </paper-tabs>
      <!--?lit$0292179355$--> <paper-icon-button icon="icons:more-horiz" title="Show more" role="button" tabindex="0" aria-disabled="false"><template shadowrootmode="open"><style scope="paper-icon-button">:host {
  display: inline-block;
        position: relative;
        padding: 8px;
        outline: none;
        -webkit-user-select: none;
        -moz-user-select: none;
        -ms-user-select: none;
        user-select: none;
        cursor: pointer;
        z-index: 0;
        line-height: 1;

        width: 40px;
        height: 40px;

        
        -webkit-tap-highlight-color: rgba(0, 0, 0, 0);
        -webkit-tap-highlight-color: transparent;

        
        box-sizing: border-box !important;

        ;
}

:host #ink {
  color: var(--paper-icon-button-ink-color, var(--primary-text-color));
        opacity: 0.6;
}

:host([disabled]) {
  color: var(--paper-icon-button-disabled-text, var(--disabled-text-color));
        pointer-events: none;
        cursor: auto;

        ;
}

:host([hidden]) {
  display: none !important;
}

:host(:hover) {
  ;
}

iron-icon {
  --iron-icon-width: 100%;
        --iron-icon-height: 100%;
}</style><iron-icon id="icon"><template shadowrootmode="open"><svg viewBox="0 0 24 24" preserveAspectRatio="xMidYMid meet" focusable="false" style="pointer-events: none; display: block; width: 100%; height: 100%;"><g><path d="M6 10c-1.1 0-2 .9-2 2s.9 2 2 2 2-.9 2-2-.9-2-2-2zm12 0c-1.1 0-2 .9-2 2s.9 2 2 2 2-.9 2-2-.9-2-2-2zm-6 0c-1.1 0-2 .9-2 2s.9 2 2 2 2-.9 2-2-.9-2-2-2z"></path></g></svg><style scope="iron-icon">:host {
  display: var(--layout-inline_-_display);
        -ms-flex-align: var(--layout-center-center_-_-ms-flex-align); -webkit-align-items: var(--layout-center-center_-_-webkit-align-items); align-items: var(--layout-center-center_-_align-items); -ms-flex-pack: var(--layout-center-center_-_-ms-flex-pack); -webkit-justify-content: var(--layout-center-center_-_-webkit-justify-content); justify-content: var(--layout-center-center_-_justify-content);
        position: relative;

        vertical-align: middle;

        fill: var(--iron-icon-fill-color, currentcolor);
        stroke: var(--iron-icon-stroke-color, none);

        width: var(--iron-icon-width, 24px);
        height: var(--iron-icon-height, 24px);
        ;
}

:host([hidden]) {
  display: none;
}</style>
    
</template></iron-icon></template>
  </paper-icon-button>
    </div>
    <div class="layout vertical grow tab-pane-container"> </div>
  </div></colab-tab-pane>
      <colab-resizer style="height: 33.3%" class="sn-resize no-tabs"><div class="resizer-thumb"></div>
        <!--?lit$0292179355$--><colab-tab-pane class="layout vertical grow no-tabs" align="horizontal"><!----> <div class="layout vertical grow">
    <div class="tab-pane-header layout horizontal noshrink">
      <paper-tabs selected="0" noink="" class="layout grow" scrollable="" role="tablist" tabindex="0" dir="null"><template shadowrootmode="open"><style scope="paper-tabs">:host {
  display: var(--layout_-_display);
        -ms-flex-align: var(--layout-center_-_-ms-flex-align); -webkit-align-items: var(--layout-center_-_-webkit-align-items); align-items: var(--layout-center_-_align-items);

        height: 48px;
        font-size: 14px;
        font-weight: 500;
        overflow: hidden;
        -moz-user-select: none;
        -ms-user-select: none;
        -webkit-user-select: none;
        user-select: none;

        
        -webkit-tap-highlight-color: rgba(0, 0, 0, 0);
        -webkit-tap-highlight-color: transparent;

        ;
}

:host([dir="rtl"]) {
  display: var(--layout-horizontal-reverse_-_display); -ms-flex-direction: var(--layout-horizontal-reverse_-_-ms-flex-direction); -webkit-flex-direction: var(--layout-horizontal-reverse_-_-webkit-flex-direction); flex-direction: var(--layout-horizontal-reverse_-_flex-direction);
}

#tabsContainer {
  position: relative;
        height: 100%;
        white-space: nowrap;
        overflow: hidden;
        -ms-flex: var(--layout-flex-auto_-_-ms-flex); -webkit-flex: var(--layout-flex-auto_-_-webkit-flex); flex: var(--layout-flex-auto_-_flex);
        ;
}

#tabsContent {
  height: 100%;
        -moz-flex-basis: auto;
        -ms-flex-basis: auto;
        flex-basis: auto;
        ;
}

#tabsContent.scrollable {
  position: absolute;
        white-space: nowrap;
}

#tabsContent:not(.scrollable), #tabsContent.scrollable.fit-container {
  display: var(--layout-horizontal_-_display); -ms-flex-direction: var(--layout-horizontal_-_-ms-flex-direction); -webkit-flex-direction: var(--layout-horizontal_-_-webkit-flex-direction); flex-direction: var(--layout-horizontal_-_flex-direction);
}

#tabsContent.scrollable.fit-container {
  min-width: 100%;
}

#tabsContent.scrollable.fit-container > ::slotted(*) {
  -ms-flex: 1 0 auto;
        -webkit-flex: 1 0 auto;
        flex: 1 0 auto;
}

.hidden {
  display: none;
}

.not-visible {
  opacity: 0;
        cursor: default;
}

paper-icon-button {
  width: 48px;
        height: 48px;
        padding: 12px;
        margin: 0 4px;
        background-color: var(--paper-icon-buttons_-_background-color); border-radius: var(--paper-icon-buttons_-_border-radius); color: var(--paper-icon-buttons_-_color); height: var(--paper-icon-buttons_-_height, 48px); padding: var(--paper-icon-buttons_-_padding, 12px); position: var(--paper-icon-buttons_-_position); width: var(--paper-icon-buttons_-_width, 48px)
}

paper-icon-button#left {
  left: var(--paper-icon-button-left_-_left); z-index: var(--paper-icon-button-left_-_z-index)
}

paper-icon-button#right {
  right: var(--paper-icon-button-right_-_right)
}

#selectionBar {
  position: absolute;
        height: 0;
        bottom: 0;
        left: 0;
        right: 0;
        border-bottom: 2px solid var(--paper-tabs-selection-bar-color, var(--paper-yellow-a100));
          -webkit-transform: scale(0);
        transform: scale(0);
          -webkit-transform-origin: left center;
        transform-origin: left center;
          transition: -webkit-transform;
        transition: transform;

        z-index: var(--paper-tabs-selection-bar_-_z-index);
}

#selectionBar.align-bottom {
  top: 0;
        bottom: auto;
}

#selectionBar.expand {
  transition-duration: 0.15s;
        transition-timing-function: cubic-bezier(0.4, 0.0, 1, 1);
}

#selectionBar.contract {
  transition-duration: 0.18s;
        transition-timing-function: cubic-bezier(0.0, 0.0, 0.2, 1);
}

#tabsContent > ::slotted(:not(#selectionBar)) {
  height: 100%;
}</style>
    

    <paper-icon-button id="left" icon="paper-tabs:chevron-left" tabindex="-1" class="not-visible" aria-hidden="true" role="button" aria-disabled="true" aria-label="" disabled="" style="pointer-events: none;"><template shadowrootmode="open"><style scope="paper-icon-button">:host {
  display: inline-block;
        position: relative;
        padding: 8px;
        outline: none;
        -webkit-user-select: none;
        -moz-user-select: none;
        -ms-user-select: none;
        user-select: none;
        cursor: pointer;
        z-index: 0;
        line-height: 1;

        width: 40px;
        height: 40px;

        
        -webkit-tap-highlight-color: rgba(0, 0, 0, 0);
        -webkit-tap-highlight-color: transparent;

        
        box-sizing: border-box !important;

        ;
}

:host #ink {
  color: var(--paper-icon-button-ink-color, var(--primary-text-color));
        opacity: 0.6;
}

:host([disabled]) {
  color: var(--paper-icon-button-disabled-text, var(--disabled-text-color));
        pointer-events: none;
        cursor: auto;

        ;
}

:host([hidden]) {
  display: none !important;
}

:host(:hover) {
  ;
}

iron-icon {
  --iron-icon-width: 100%;
        --iron-icon-height: 100%;
}</style><iron-icon id="icon" alt=""><template shadowrootmode="open"><svg viewBox="0 0 24 24" preserveAspectRatio="xMidYMid meet" focusable="false" style="pointer-events: none; display: block; width: 100%; height: 100%;"><g><path d="M15.41 7.41L14 6l-6 6 6 6 1.41-1.41L10.83 12z"></path></g></svg><style scope="iron-icon">:host {
  display: var(--layout-inline_-_display);
        -ms-flex-align: var(--layout-center-center_-_-ms-flex-align); -webkit-align-items: var(--layout-center-center_-_-webkit-align-items); align-items: var(--layout-center-center_-_align-items); -ms-flex-pack: var(--layout-center-center_-_-ms-flex-pack); -webkit-justify-content: var(--layout-center-center_-_-webkit-justify-content); justify-content: var(--layout-center-center_-_justify-content);
        position: relative;

        vertical-align: middle;

        fill: var(--iron-icon-fill-color, currentcolor);
        stroke: var(--iron-icon-stroke-color, none);

        width: var(--iron-icon-width, 24px);
        height: var(--iron-icon-height, 24px);
        ;
}

:host([hidden]) {
  display: none;
}</style>
    
</template></iron-icon></template></paper-icon-button>

    <div id="tabsContainer" style="touch-action: pan-y;">
      <div id="tabsContent" class="scrollable">
        <div id="selectionBar" class="" style="transform: translateX(0%) scaleX(0);"></div>
        <slot></slot>
      </div>
    </div>

    <paper-icon-button id="right" icon="paper-tabs:chevron-right" tabindex="-1" class="not-visible" aria-hidden="true" role="button" aria-disabled="true" aria-label="" disabled="" style="pointer-events: none;"><template shadowrootmode="open"><style scope="paper-icon-button">:host {
  display: inline-block;
        position: relative;
        padding: 8px;
        outline: none;
        -webkit-user-select: none;
        -moz-user-select: none;
        -ms-user-select: none;
        user-select: none;
        cursor: pointer;
        z-index: 0;
        line-height: 1;

        width: 40px;
        height: 40px;

        
        -webkit-tap-highlight-color: rgba(0, 0, 0, 0);
        -webkit-tap-highlight-color: transparent;

        
        box-sizing: border-box !important;

        ;
}

:host #ink {
  color: var(--paper-icon-button-ink-color, var(--primary-text-color));
        opacity: 0.6;
}

:host([disabled]) {
  color: var(--paper-icon-button-disabled-text, var(--disabled-text-color));
        pointer-events: none;
        cursor: auto;

        ;
}

:host([hidden]) {
  display: none !important;
}

:host(:hover) {
  ;
}

iron-icon {
  --iron-icon-width: 100%;
        --iron-icon-height: 100%;
}</style><iron-icon id="icon" alt=""><template shadowrootmode="open"><svg viewBox="0 0 24 24" preserveAspectRatio="xMidYMid meet" focusable="false" style="pointer-events: none; display: block; width: 100%; height: 100%;"><g><path d="M10 6L8.59 7.41 13.17 12l-4.58 4.59L10 18l6-6z"></path></g></svg><style scope="iron-icon">:host {
  display: var(--layout-inline_-_display);
        -ms-flex-align: var(--layout-center-center_-_-ms-flex-align); -webkit-align-items: var(--layout-center-center_-_-webkit-align-items); align-items: var(--layout-center-center_-_align-items); -ms-flex-pack: var(--layout-center-center_-_-ms-flex-pack); -webkit-justify-content: var(--layout-center-center_-_-webkit-justify-content); justify-content: var(--layout-center-center_-_justify-content);
        position: relative;

        vertical-align: middle;

        fill: var(--iron-icon-fill-color, currentcolor);
        stroke: var(--iron-icon-stroke-color, none);

        width: var(--iron-icon-width, 24px);
        height: var(--iron-icon-height, 24px);
        ;
}

:host([hidden]) {
  display: none;
}</style>
    
</template></iron-icon></template></paper-icon-button>
</template>
      </paper-tabs>
      <!--?lit$0292179355$--> <paper-icon-button icon="icons:more-horiz" title="Show more" role="button" tabindex="0" aria-disabled="false"><template shadowrootmode="open"><style scope="paper-icon-button">:host {
  display: inline-block;
        position: relative;
        padding: 8px;
        outline: none;
        -webkit-user-select: none;
        -moz-user-select: none;
        -ms-user-select: none;
        user-select: none;
        cursor: pointer;
        z-index: 0;
        line-height: 1;

        width: 40px;
        height: 40px;

        
        -webkit-tap-highlight-color: rgba(0, 0, 0, 0);
        -webkit-tap-highlight-color: transparent;

        
        box-sizing: border-box !important;

        ;
}

:host #ink {
  color: var(--paper-icon-button-ink-color, var(--primary-text-color));
        opacity: 0.6;
}

:host([disabled]) {
  color: var(--paper-icon-button-disabled-text, var(--disabled-text-color));
        pointer-events: none;
        cursor: auto;

        ;
}

:host([hidden]) {
  display: none !important;
}

:host(:hover) {
  ;
}

iron-icon {
  --iron-icon-width: 100%;
        --iron-icon-height: 100%;
}</style><iron-icon id="icon"><template shadowrootmode="open"><svg viewBox="0 0 24 24" preserveAspectRatio="xMidYMid meet" focusable="false" style="pointer-events: none; display: block; width: 100%; height: 100%;"><g><path d="M6 10c-1.1 0-2 .9-2 2s.9 2 2 2 2-.9 2-2-.9-2-2-2zm12 0c-1.1 0-2 .9-2 2s.9 2 2 2 2-.9 2-2-.9-2-2-2zm-6 0c-1.1 0-2 .9-2 2s.9 2 2 2 2-.9 2-2-.9-2-2-2z"></path></g></svg><style scope="iron-icon">:host {
  display: var(--layout-inline_-_display);
        -ms-flex-align: var(--layout-center-center_-_-ms-flex-align); -webkit-align-items: var(--layout-center-center_-_-webkit-align-items); align-items: var(--layout-center-center_-_align-items); -ms-flex-pack: var(--layout-center-center_-_-ms-flex-pack); -webkit-justify-content: var(--layout-center-center_-_-webkit-justify-content); justify-content: var(--layout-center-center_-_justify-content);
        position: relative;

        vertical-align: middle;

        fill: var(--iron-icon-fill-color, currentcolor);
        stroke: var(--iron-icon-stroke-color, none);

        width: var(--iron-icon-width, 24px);
        height: var(--iron-icon-height, 24px);
        ;
}

:host([hidden]) {
  display: none;
}</style>
    
</template></iron-icon></template>
  </paper-icon-button>
    </div>
    <div class="layout vertical grow tab-pane-container"> </div>
  </div></colab-tab-pane>
      </colab-resizer>
    </div>
      </colab-resizer>
    </div></colab-tab-layout-container>
        </div>
        <div class="proxies"><div><colab-dom-lifecycle-events style="display: none;"></colab-dom-lifecycle-events><iframe allow="" sandbox="allow-downloads allow-forms allow-pointer-lock allow-popups allow-same-origin allow-scripts allow-storage-access-by-user-activation allow-popups-to-escape-sandbox" src="./Airbnb_Paris__files/outputframe(17).html" style="width: 1px; height: 1px; position: absolute; top: -100px;"></iframe></div><div><colab-dom-lifecycle-events style="display: none;"></colab-dom-lifecycle-events><iframe allow="accelerometer; autoplay; camera; gyroscope; magnetometer; microphone; serial; usb; xr-spatial-tracking; clipboard-write" sandbox="allow-downloads allow-forms allow-pointer-lock allow-popups allow-same-origin allow-scripts allow-storage-access-by-user-activation allow-modals allow-popups-to-escape-sandbox" src="./Airbnb_Paris__files/outputframe(18).html" style="width: 1px; height: 1px; position: absolute; top: -100px;"></iframe></div></div>
      <colab-file-viewer-manager></colab-file-viewer-manager></div>
    <colab-status-bar role="region" aria-label="Runtime status bar" style="min-height: inherit;"><template shadowrootmode="open"><!----> <!--?lit$0292179355$--><div class="frames"></div>
      <md-icon-button class="visible-on-closed" title="Runtime disconnected" aria-label="Runtime disconnected" disabled="" role="presentation" value=""><template shadowrootmode="open" shadowrootdelegatesfocus><!----><button id="button" class="icon-button  standard " aria-label="Runtime disconnected" disabled="">
        <!--?lit$0292179355$--><md-focus-ring part="focus-ring" for="button" aria-hidden="true"><template shadowrootmode="open"><!----></template></md-focus-ring>
        <!--?lit$0292179355$--><md-ripple disabled="" aria-hidden="true"><template shadowrootmode="open"><!----><div class="surface   "></div></template></md-ripple>
        <!--?lit$0292179355$--><span class="icon"><slot></slot></span>
        <!--?lit$0292179355$-->
        <!--?lit$0292179355$--><span class="touch"></span>
        <!--?lit$0292179355$-->
  </button></template>
        <md-icon filled="" class="visible-on-closed" status="" aria-hidden="true"><template shadowrootmode="open"><!----><slot></slot></template><!--?lit$0292179355$-->fiber_manual_record</md-icon>
      </md-icon-button>
      <md-icon-button title="Close" aria-label="Close" role="presentation" value=""><template shadowrootmode="open" shadowrootdelegatesfocus><!----><button id="button" class="icon-button  standard " aria-label="Close">
        <!--?lit$0292179355$--><md-focus-ring part="focus-ring" for="button" aria-hidden="true"><template shadowrootmode="open"><!----></template></md-focus-ring>
        <!--?lit$0292179355$--><md-ripple aria-hidden="true"><template shadowrootmode="open"><!----><div class="surface   "></div></template></md-ripple>
        <!--?lit$0292179355$--><span class="icon"><slot></slot></span>
        <!--?lit$0292179355$-->
        <!--?lit$0292179355$--><span class="touch"></span>
        <!--?lit$0292179355$-->
  </button></template>
        <md-icon aria-hidden="true"><template shadowrootmode="open"><!----><slot></slot></template>close</md-icon>
      </md-icon-button></template></colab-status-bar></div><div class="goog-menu colab-styled-scroller" id="file-menu" role="menu" aria-haspopup="true" style="user-select: none; max-height: 744px; visibility: visible; left: 64px; top: 62px; display: none;"><!--?lit$0292179355$--><div command="view-notebook-source" class="goog-menuitem" role="menuitem" id=":2" style="user-select: none;"><div class="goog-menuitem-content" style="user-select: none;"><!--?lit$0292179355$-->View on GitHub<!--?lit$0292179355$--></div></div><div class="goog-menuseparator goog-menuitem-disabled" aria-disabled="true" role="separator" id=":3" style="user-select: none;"></div><div command="new" class="goog-menuitem" role="menuitem" id=":4" style="user-select: none;"><div class="goog-menuitem-content" style="user-select: none;"><!--?lit$0292179355$-->New notebook<!--?lit$0292179355$--></div></div><div command="open" class="goog-menuitem " role="menuitem" id=":5" style="user-select: none;"><div class="goog-menuitem-content" style="user-select: none;"><!--?lit$0292179355$-->Open notebook<!--?lit$0292179355$--><span class="goog-menuitem-accel">Ctrl+O</span></div></div><div command="import-notebook" class="goog-menuitem " role="menuitem" id=":6" style="user-select: none;"><div class="goog-menuitem-content" style="user-select: none;"><!--?lit$0292179355$-->Upload notebook<!--?lit$0292179355$--></div></div><div class="goog-menuseparator goog-menuitem-disabled" aria-disabled="true" role="separator" id=":7" style="user-select: none;"></div><div command="rename" class="goog-menuitem goog-menuitem-disabled" role="menuitem" id=":8" aria-disabled="true" style="user-select: none;"><div class="goog-menuitem-content" style="user-select: none;"><!--?lit$0292179355$-->Rename<!--?lit$0292179355$--></div></div><div class="goog-menuseparator goog-menuitem-disabled" aria-disabled="true" role="separator" id=":9" style="user-select: none;"></div><div command="clone" class="goog-menuitem" role="menuitem" id=":a" style="user-select: none;"><div class="goog-menuitem-content" style="user-select: none;"><!--?lit$0292179355$-->Save a copy in Drive<!--?lit$0292179355$--></div></div><div command="copy-to-gist" class="goog-menuitem" role="menuitem" id=":b" style="user-select: none;"><div class="goog-menuitem-content" style="user-select: none;"><!--?lit$0292179355$-->Save a copy as a GitHub Gist<!--?lit$0292179355$--></div></div><div command="copy-to-github" class="goog-menuitem" role="menuitem" id=":c" style="user-select: none;"><div class="goog-menuitem-content" style="user-select: none;"><!--?lit$0292179355$-->Save a copy in GitHub<!--?lit$0292179355$--></div></div><div class="goog-menuseparator goog-menuitem-disabled" aria-disabled="true" role="separator" id=":d" style="user-select: none;"></div><div command="save" class="goog-menuitem" role="menuitem" id=":e" style="user-select: none;"><div class="goog-menuitem-content" style="user-select: none;"><!--?lit$0292179355$-->Save<!--?lit$0292179355$--><span class="goog-menuitem-accel">Ctrl+S</span></div></div><div command="show-history" class="goog-menuitem " role="menuitem" id=":f" style="user-select: none;"><div class="goog-menuitem-content" style="user-select: none;"><!--?lit$0292179355$-->Revision history<!--?lit$0292179355$--></div></div><div class="goog-menuseparator goog-menuitem-disabled" aria-disabled="true" role="separator" id=":g" style="user-select: none;"></div><div class="goog-submenu goog-menuitem" id="download-submenu-menu-button" role="menuitem" aria-haspopup="true" style="user-select: none;"><div class="goog-menuitem-content" style="user-select: none;">
      <!--?lit$0292179355$-->Download
    <span class="goog-submenu-arrow" style="user-select: none;">►</span></div></div><div command="print" class="goog-menuitem " role="menuitem" id=":k" style="user-select: none;"><div class="goog-menuitem-content" style="user-select: none;"><!--?lit$0292179355$-->Print<!--?lit$0292179355$--><span class="goog-menuitem-accel">Ctrl+P</span></div></div></div><div class="goog-menu" id="download-submenu-menu" role="menu" aria-haspopup="true" style="display: none; user-select: none;"><!--?lit$0292179355$--><div command="download-ipynb" class="goog-menuitem " role="menuitem" id=":i" style="user-select: none;"><div class="goog-menuitem-content" style="user-select: none;"><!--?lit$0292179355$-->Download .ipynb<!--?lit$0292179355$--></div></div><div command="download-python" class="goog-menuitem " role="menuitem" id=":j" style="user-select: none;"><div class="goog-menuitem-content" style="user-select: none;"><!--?lit$0292179355$-->Download .py<!--?lit$0292179355$--></div></div></div><div class="goog-menu" id="edit-menu" role="menu" aria-haspopup="true" style="display: none; user-select: none;"><!--?lit$0292179355$--><div command="undo" class="goog-menuitem " role="menuitem" id=":m" style="user-select: none;"><div class="goog-menuitem-content" style="user-select: none;"><!--?lit$0292179355$-->Undo<!--?lit$0292179355$--></div></div><div command="redo" class="goog-menuitem " role="menuitem" id=":n" style="user-select: none;"><div class="goog-menuitem-content" style="user-select: none;"><!--?lit$0292179355$-->Redo<!--?lit$0292179355$--></div></div><div class="goog-menuseparator goog-menuitem-disabled" aria-disabled="true" role="separator" id=":o" style="user-select: none;"></div><div command="select-all" class="goog-menuitem " role="menuitem" id=":p" style="user-select: none;"><div class="goog-menuitem-content" style="user-select: none;"><!--?lit$0292179355$-->Select all cells<!--?lit$0292179355$--></div></div><div command="cut" class="goog-menuitem " role="menuitem" id=":q" style="user-select: none;"><div class="goog-menuitem-content" style="user-select: none;"><!--?lit$0292179355$-->Cut cell or selection<!--?lit$0292179355$--></div></div><div command="copy" class="goog-menuitem " role="menuitem" id=":r" style="user-select: none;"><div class="goog-menuitem-content" style="user-select: none;"><!--?lit$0292179355$-->Copy cell or selection<!--?lit$0292179355$--></div></div><div command="paste" class="goog-menuitem " role="menuitem" id=":s" style="user-select: none;"><div class="goog-menuitem-content" style="user-select: none;"><!--?lit$0292179355$-->Paste<!--?lit$0292179355$--></div></div><div command="delete-cell-or-selection" class="goog-menuitem " role="menuitem" id=":t" style="user-select: none;"><div class="goog-menuitem-content" style="user-select: none;"><!--?lit$0292179355$-->Delete selected cells<!--?lit$0292179355$--></div></div><div class="goog-menuseparator goog-menuitem-disabled" aria-disabled="true" role="separator" id=":u" style="user-select: none;"></div><div command="find" class="goog-menuitem " role="menuitem" id=":v" style="user-select: none;"><div class="goog-menuitem-content" style="user-select: none;"><!--?lit$0292179355$-->Find and replace<!--?lit$0292179355$--></div></div><div command="find-next" class="goog-menuitem " role="menuitem" id=":w" style="user-select: none;"><div class="goog-menuitem-content" style="user-select: none;"><!--?lit$0292179355$-->Find next<!--?lit$0292179355$--></div></div><div command="find-previous" class="goog-menuitem " role="menuitem" id=":x" style="user-select: none;"><div class="goog-menuitem-content" style="user-select: none;"><!--?lit$0292179355$-->Find previous<!--?lit$0292179355$--></div></div><div class="goog-menuseparator goog-menuitem-disabled" aria-disabled="true" role="separator" id=":y" style="user-select: none;"></div><div command="notebook-settings" class="goog-menuitem " role="menuitem" id=":z" style="user-select: none;"><div class="goog-menuitem-content" style="user-select: none;"><!--?lit$0292179355$-->Notebook settings<!--?lit$0292179355$--></div></div><div class="goog-menuseparator goog-menuitem-disabled" aria-disabled="true" role="separator" id=":10" style="user-select: none;"></div><div command="clear-outputs" class="goog-menuitem " role="menuitem" id=":11" style="user-select: none;"><div class="goog-menuitem-content" style="user-select: none;"><!--?lit$0292179355$-->Clear all outputs<!--?lit$0292179355$--></div></div></div><div class="goog-menu" id="view-menu" role="menu" aria-haspopup="true" style="display: none; user-select: none;"><!--?lit$0292179355$--><div command="show-toc-pane" class="goog-menuitem goog-option" role="menuitemcheckbox" aria-checked="false" id=":13" style="user-select: none;"><div class="goog-menuitem-content" style="user-select: none;"><div class="goog-menuitem-checkbox" style="user-select: none;"><iron-icon><template shadowrootmode="open"><svg viewBox="0 0 24 24" preserveAspectRatio="xMidYMid meet" focusable="false" style="pointer-events: none; display: block; width: 100%; height: 100%;"><g><path d="M9 16.17L4.83 12l-1.42 1.41L9 19 21 7l-1.41-1.41z"></path></g></svg><style scope="iron-icon">:host {
  display: var(--layout-inline_-_display);
        -ms-flex-align: var(--layout-center-center_-_-ms-flex-align); -webkit-align-items: var(--layout-center-center_-_-webkit-align-items); align-items: var(--layout-center-center_-_align-items); -ms-flex-pack: var(--layout-center-center_-_-ms-flex-pack); -webkit-justify-content: var(--layout-center-center_-_-webkit-justify-content); justify-content: var(--layout-center-center_-_justify-content);
        position: relative;

        vertical-align: middle;

        fill: var(--iron-icon-fill-color, currentcolor);
        stroke: var(--iron-icon-stroke-color, none);

        width: var(--iron-icon-width, 24px);
        height: var(--iron-icon-height, 24px);
        ;
}

:host([hidden]) {
  display: none;
}</style>
    
</template></iron-icon></div><!--?lit$0292179355$-->Table of contents<!--?lit$0292179355$--></div></div><div command="show-fileinfo" class="goog-menuitem " role="menuitem" id=":14" style="user-select: none;"><div class="goog-menuitem-content" style="user-select: none;"><!--?lit$0292179355$-->Notebook info<!--?lit$0292179355$--></div></div><div command="show-executedcode" class="goog-menuitem " role="menuitem" id=":15" style="user-select: none;"><div class="goog-menuitem-content" style="user-select: none;"><!--?lit$0292179355$-->Executed code history<!--?lit$0292179355$--></div></div><div command="toggle-comments-visibility" class="goog-menuitem goog-option" role="menuitemcheckbox" aria-checked="false" id=":16" style="user-select: none;"><div class="goog-menuitem-content" style="user-select: none;"><div class="goog-menuitem-checkbox" style="user-select: none;"><iron-icon><template shadowrootmode="open"><svg viewBox="0 0 24 24" preserveAspectRatio="xMidYMid meet" focusable="false" style="pointer-events: none; display: block; width: 100%; height: 100%;"><g><path d="M9 16.17L4.83 12l-1.42 1.41L9 19 21 7l-1.41-1.41z"></path></g></svg><style scope="iron-icon">:host {
  display: var(--layout-inline_-_display);
        -ms-flex-align: var(--layout-center-center_-_-ms-flex-align); -webkit-align-items: var(--layout-center-center_-_-webkit-align-items); align-items: var(--layout-center-center_-_align-items); -ms-flex-pack: var(--layout-center-center_-_-ms-flex-pack); -webkit-justify-content: var(--layout-center-center_-_-webkit-justify-content); justify-content: var(--layout-center-center_-_justify-content);
        position: relative;

        vertical-align: middle;

        fill: var(--iron-icon-fill-color, currentcolor);
        stroke: var(--iron-icon-stroke-color, none);

        width: var(--iron-icon-width, 24px);
        height: var(--iron-icon-height, 24px);
        ;
}

:host([hidden]) {
  display: none;
}</style>
    
</template></iron-icon></div><!--?lit$0292179355$-->Comments sidebar<!--?lit$0292179355$--></div></div><div class="goog-menuseparator goog-menuitem-disabled" aria-disabled="true" role="separator" id=":17" style="user-select: none;"></div><div command="collapse-sections" class="goog-menuitem " role="menuitem" id=":18" style="user-select: none;"><div class="goog-menuitem-content" style="user-select: none;"><!--?lit$0292179355$-->Collapse sections<!--?lit$0292179355$--></div></div><div command="expand-sections" class="goog-menuitem " role="menuitem" id=":19" style="user-select: none;"><div class="goog-menuitem-content" style="user-select: none;"><!--?lit$0292179355$-->Expand sections<!--?lit$0292179355$--></div></div><div command="save-section-layout" class="goog-menuitem " role="menuitem" id=":1a" style="user-select: none;"><div class="goog-menuitem-content" style="user-select: none;"><!--?lit$0292179355$-->Save collapsed section layout<!--?lit$0292179355$--></div></div><div class="goog-menuseparator goog-menuitem-disabled" aria-disabled="true" role="separator" id=":1b" style="user-select: none;"></div><div command="hide-code" class="goog-menuitem " role="menuitem" id=":1c" style="user-select: none;"><div class="goog-menuitem-content" style="user-select: none;"><!--?lit$0292179355$-->Show/hide code<!--?lit$0292179355$--></div></div><div command="toggle-output" class="goog-menuitem " role="menuitem" id=":1d" style="user-select: none;"><div class="goog-menuitem-content" style="user-select: none;"><!--?lit$0292179355$-->Show/hide output<!--?lit$0292179355$--></div></div><div class="goog-menuseparator goog-menuitem-disabled" aria-disabled="true" role="separator" id=":1e" style="user-select: none;"></div><div command="focus-next-tab" class="goog-menuitem " role="menuitem" id=":1f" style="user-select: none;"><div class="goog-menuitem-content" style="user-select: none;"><!--?lit$0292179355$-->Focus next tab<!--?lit$0292179355$--></div></div><div command="focus-previous-tab" class="goog-menuitem " role="menuitem" id=":1g" style="user-select: none;"><div class="goog-menuitem-content" style="user-select: none;"><!--?lit$0292179355$-->Focus previous tab<!--?lit$0292179355$--></div></div><div command="move-tab-to-next" class="goog-menuitem " role="menuitem" id=":1h" style="user-select: none;"><div class="goog-menuitem-content" style="user-select: none;"><!--?lit$0292179355$-->Move tab to next pane<!--?lit$0292179355$--></div></div><div command="move-tab-to-prev" class="goog-menuitem " role="menuitem" id=":1i" style="user-select: none;"><div class="goog-menuitem-content" style="user-select: none;"><!--?lit$0292179355$-->Move tab to previous pane<!--?lit$0292179355$--></div></div></div><div class="goog-menu" id="insert-menu" role="menu" aria-haspopup="true" style="display: none; user-select: none;"><!--?lit$0292179355$--><div command="insert-cell-below" class="goog-menuitem " role="menuitem" id=":1k" style="user-select: none;"><div class="goog-menuitem-content" style="user-select: none;"><!--?lit$0292179355$-->Code cell<!--?lit$0292179355$--></div></div><div command="add-text" class="goog-menuitem " role="menuitem" id=":1l" style="user-select: none;"><div class="goog-menuitem-content" style="user-select: none;"><!--?lit$0292179355$-->Text cell<!--?lit$0292179355$--></div></div><div command="add-section-header" class="goog-menuitem " role="menuitem" id=":1m" style="user-select: none;"><div class="goog-menuitem-content" style="user-select: none;"><!--?lit$0292179355$-->Section header cell<!--?lit$0292179355$--></div></div><div class="goog-menuseparator goog-menuitem-disabled" aria-disabled="true" role="separator" id=":1n" style="user-select: none;"></div><div command="open-scratch-code-cell" class="goog-menuitem " role="menuitem" id=":1o" style="user-select: none;"><div class="goog-menuitem-content" style="user-select: none;"><!--?lit$0292179355$-->Scratch code cell<!--?lit$0292179355$--></div></div><div command="snippets" class="goog-menuitem " role="menuitem" id=":1p" style="user-select: none;"><div class="goog-menuitem-content" style="user-select: none;"><!--?lit$0292179355$-->Code snippets<!--?lit$0292179355$--></div></div><div class="goog-menuseparator goog-menuitem-disabled" aria-disabled="true" role="separator" id=":1q" style="user-select: none;"></div><div command="add-form-field" class="goog-menuitem " role="menuitem" id=":1r" style="user-select: none;"><div class="goog-menuitem-content" style="user-select: none;"><!--?lit$0292179355$-->Add a form field<!--?lit$0292179355$--></div></div></div><div class="goog-menu" id="runtime-menu" role="menu" aria-haspopup="true" style="display: none; user-select: none;"><!--?lit$0292179355$--><div command="runall" class="goog-menuitem " role="menuitem" id=":1t" style="user-select: none;"><div class="goog-menuitem-content" style="user-select: none;"><!--?lit$0292179355$-->Run all<!--?lit$0292179355$--></div></div><div command="runbefore" class="goog-menuitem " role="menuitem" id=":1u" style="user-select: none;"><div class="goog-menuitem-content" style="user-select: none;"><!--?lit$0292179355$-->Run before<!--?lit$0292179355$--></div></div><div command="runfocused" class="goog-menuitem " role="menuitem" id=":1v" style="user-select: none;"><div class="goog-menuitem-content" style="user-select: none;"><!--?lit$0292179355$-->Run the focused cell<!--?lit$0292179355$--></div></div><div command="runselected" class="goog-menuitem " role="menuitem" id=":1w" style="user-select: none;"><div class="goog-menuitem-content" style="user-select: none;"><!--?lit$0292179355$-->Run selection<!--?lit$0292179355$--></div></div><div command="runafter" class="goog-menuitem " role="menuitem" id=":1x" style="user-select: none;"><div class="goog-menuitem-content" style="user-select: none;"><!--?lit$0292179355$-->Run after<!--?lit$0292179355$--></div></div><div class="goog-menuseparator goog-menuitem-disabled" aria-disabled="true" role="separator" id=":1y" style="user-select: none;"></div><div command="interrupt" class="goog-menuitem " role="menuitem" id=":1z" style="user-select: none;"><div class="goog-menuitem-content" style="user-select: none;"><!--?lit$0292179355$-->Interrupt execution<!--?lit$0292179355$--></div></div><div command="restart" class="goog-menuitem " role="menuitem" id=":20" style="user-select: none;"><div class="goog-menuitem-content" style="user-select: none;"><!--?lit$0292179355$-->Restart session<!--?lit$0292179355$--></div></div><div command="restart-and-run-all" class="goog-menuitem " role="menuitem" id=":21" style="user-select: none;"><div class="goog-menuitem-content" style="user-select: none;"><!--?lit$0292179355$-->Restart session and run all<!--?lit$0292179355$--></div></div><div command="powerwash-current-vm" class="goog-menuitem " role="menuitem" id=":22" style="user-select: none;"><div class="goog-menuitem-content" style="user-select: none;"><!--?lit$0292179355$-->Disconnect and delete runtime<!--?lit$0292179355$--></div></div><div class="goog-menuseparator goog-menuitem-disabled" aria-disabled="true" role="separator" id=":23" style="user-select: none;"></div><div command="change-runtime-type" class="goog-menuitem " role="menuitem" id=":24" style="user-select: none;"><div class="goog-menuitem-content" style="user-select: none;"><!--?lit$0292179355$-->Change runtime type<!--?lit$0292179355$--></div></div><div class="goog-menuseparator goog-menuitem-disabled" aria-disabled="true" role="separator" id=":25" style="user-select: none;"></div><div command="manage-sessions" class="goog-menuitem " role="menuitem" id=":26" style="user-select: none;"><div class="goog-menuitem-content" style="user-select: none;"><!--?lit$0292179355$-->Manage sessions<!--?lit$0292179355$--></div></div><div command="open-resource-viewer" class="goog-menuitem " role="menuitem" id=":27" style="user-select: none;"><div class="goog-menuitem-content" style="user-select: none;"><!--?lit$0292179355$-->View resources<!--?lit$0292179355$--></div></div><div command="view-runtime-logs" class="goog-menuitem " role="menuitem" id=":28" style="user-select: none;"><div class="goog-menuitem-content" style="user-select: none;"><!--?lit$0292179355$-->View runtime logs<!--?lit$0292179355$--></div></div></div><div class="goog-menu" id="tools-menu" role="menu" aria-haspopup="true" style="display: none; user-select: none;"><!--?lit$0292179355$--><div command="show-command-palette" class="goog-menuitem " role="menuitem" id=":2a" style="user-select: none;"><div class="goog-menuitem-content" style="user-select: none;"><!--?lit$0292179355$-->Command palette<!--?lit$0292179355$--></div></div><div class="goog-menuseparator goog-menuitem-disabled" aria-disabled="true" role="separator" id=":2b" style="user-select: none;"></div><div command="preferences" class="goog-menuitem " role="menuitem" id=":2c" style="user-select: none;"><div class="goog-menuitem-content" style="user-select: none;"><!--?lit$0292179355$-->Settings<!--?lit$0292179355$--></div></div><div command="shortcuts" class="goog-menuitem " role="menuitem" id=":2d" style="user-select: none;"><div class="goog-menuitem-content" style="user-select: none;"><!--?lit$0292179355$-->Keyboard shortcuts<!--?lit$0292179355$--></div></div><div class="goog-menuseparator goog-menuitem-disabled" aria-disabled="true" role="separator" id=":2e" style="user-select: none;"></div><div command="open-differ" class="goog-menuitem " role="menuitem" id=":2f" style="user-select: none;"><div class="goog-menuitem-content" style="user-select: none;"><!--?lit$0292179355$-->Diff notebooks<!--?lit$0292179355$--> <span class="screenreader-only" style="user-select: none;"><!--?lit$0292179355$-->(opens in a new tab)</span></div></div></div><div class="goog-menu" id="help-menu" role="menu" aria-haspopup="true" style="display: none; user-select: none;"><!--?lit$0292179355$--><div command="faq" class="goog-menuitem " role="menuitem" id=":2h" style="user-select: none;"><div class="goog-menuitem-content" style="user-select: none;"><!--?lit$0292179355$-->Frequently asked questions<!--?lit$0292179355$--></div></div><div command="view-relnotes" class="goog-menuitem " role="menuitem" id=":2i" style="user-select: none;"><div class="goog-menuitem-content" style="user-select: none;"><!--?lit$0292179355$-->View release notes<!--?lit$0292179355$--></div></div><div command="snippets" class="goog-menuitem " role="menuitem" id=":2j" style="user-select: none;"><div class="goog-menuitem-content" style="user-select: none;"><!--?lit$0292179355$-->Search code snippets<!--?lit$0292179355$--></div></div><div class="goog-menuseparator goog-menuitem-disabled" aria-disabled="true" role="separator" id=":2k" style="user-select: none;"></div><div command="report-bug" class="goog-menuitem " role="menuitem" id=":2l" style="user-select: none;"><div class="goog-menuitem-content" style="user-select: none;"><!--?lit$0292179355$-->Report a bug<!--?lit$0292179355$--></div></div><div command="send-feedback" class="goog-menuitem " role="menuitem" id=":2m" style="user-select: none;"><div class="goog-menuitem-content" style="user-select: none;"><!--?lit$0292179355$-->Send feedback<!--?lit$0292179355$--></div></div></div><div class="thumbnail"></div><div class="monaco-aria-container"><div class="monaco-alert" role="alert" aria-atomic="true"></div><div class="monaco-alert" role="alert" aria-atomic="true"></div><div class="monaco-status" role="complementary" aria-live="polite" aria-atomic="true"></div><div class="monaco-status" role="complementary" aria-live="polite" aria-atomic="true"></div></div><div style="position: absolute; width: 0px; height: 0px; overflow: hidden; padding: 0px; border: 0px; margin: 0px;"><div id="MathJax_Font_Test" style="position: absolute; visibility: hidden; top: 0px; left: 0px; width: auto; min-width: 0px; max-width: none; padding: 0px; border: 0px; margin: 0px; white-space: nowrap; text-align: left; text-indent: 0px; text-transform: none; line-height: normal; letter-spacing: normal; word-spacing: normal; font-size: 40px; font-weight: normal; font-style: normal; font-family: MathJax_Size1, monospace;"></div></div><iframe id="apiproxy78e10f86ba67cee495045df599866f08437f8ea20.417847149" name="apiproxy78e10f86ba67cee495045df599866f08437f8ea20.417847149" src="./Airbnb_Paris__files/proxy.html" tabindex="-1" aria-hidden="true" style="width: 1px; height: 1px; position: absolute; top: -100px; display: none;"></iframe><span id="PING_IFRAME_FORM_DETECTION" style="display: none;"></span><iframe src="./Airbnb_Paris__files/bscframe.html" style="display: none;"></iframe><div><div class="grecaptcha-badge" data-style="bottomright" style="width: 256px; height: 60px; position: fixed; visibility: hidden; display: block; transition: right 0.3s ease 0s; bottom: 14px; right: -186px; box-shadow: gray 0px 0px 5px; border-radius: 2px; overflow: hidden;"><div class="grecaptcha-logo"><iframe title="reCAPTCHA" width="256" height="60" role="presentation" name="a-4io3afz6ca0w" frameborder="0" scrolling="no" sandbox="allow-forms allow-popups allow-same-origin allow-scripts allow-top-navigation allow-modals allow-popups-to-escape-sandbox allow-storage-access-by-user-activation" src="./Airbnb_Paris__files/anchor.html"></iframe></div><div class="grecaptcha-error"></div><textarea id="g-recaptcha-response-100000" name="g-recaptcha-response" class="g-recaptcha-response" style="width: 250px; height: 40px; border: 1px solid rgb(193, 193, 193); margin: 10px 25px; padding: 0px; resize: none; display: none;"></textarea></div><iframe style="display: none;" src="./Airbnb_Paris__files/saved_resource.html"></iframe></div><iframe id="apiproxy425efbc9f5c42d842266041dc54106cc809b61fb0.1151738232" name="apiproxy425efbc9f5c42d842266041dc54106cc809b61fb0.1151738232" src="./Airbnb_Paris__files/proxy(1).html" tabindex="-1" aria-hidden="true" style="width: 1px; height: 1px; position: absolute; top: -100px; display: none;"></iframe><iframe id="hfcr" src="./Airbnb_Paris__files/RotateCookiesPage.html" style="display: none;"></iframe></body></html>